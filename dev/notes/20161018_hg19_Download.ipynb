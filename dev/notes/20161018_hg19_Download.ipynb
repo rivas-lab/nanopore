{
 "cells": [
  {
   "cell_type": "markdown",
   "metadata": {},
   "source": [
    "## data download\n",
    "- In the meanwhile, I would download data"
   ]
  },
  {
   "cell_type": "markdown",
   "metadata": {},
   "source": [
    "#### hg19\n",
    "- go to UCSC genome browser and download hg19\n",
    "  - http://hgdownload.cse.ucsc.edu/goldenPath/hg19/bigZips/"
   ]
  },
  {
   "cell_type": "code",
   "execution_count": 15,
   "metadata": {
    "collapsed": false
   },
   "outputs": [
    {
     "name": "stdout",
     "output_type": "stream",
     "text": [
      "SOURCE=\"http://hgdownload.cse.ucsc.edu/goldenPath/hg19/bigZips/chromFa.tar.gz\"\r\n",
      "wget ${SOURCE} \\\r\n",
      "     -P ${HOME}/data/\r\n"
     ]
    }
   ],
   "source": [
    "!tail -n3 ../scripts/20161018/20161008_hg19_dl.sbatch"
   ]
  },
  {
   "cell_type": "code",
   "execution_count": null,
   "metadata": {
    "collapsed": true
   },
   "outputs": [],
   "source": []
  }
 ],
 "metadata": {
  "anaconda-cloud": {},
  "kernelspec": {
   "display_name": "Python [Root]",
   "language": "python",
   "name": "Python [Root]"
  },
  "language_info": {
   "codemirror_mode": {
    "name": "ipython",
    "version": 3
   },
   "file_extension": ".py",
   "mimetype": "text/x-python",
   "name": "python",
   "nbconvert_exporter": "python",
   "pygments_lexer": "ipython3",
   "version": "3.5.2"
  }
 },
 "nbformat": 4,
 "nbformat_minor": 0
}
