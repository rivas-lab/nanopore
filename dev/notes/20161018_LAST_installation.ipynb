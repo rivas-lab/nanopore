{
 "cells": [
  {
   "cell_type": "markdown",
   "metadata": {},
   "source": [
    "# LAST"
   ]
  },
  {
   "cell_type": "markdown",
   "metadata": {},
   "source": [
    "## Summary\n",
    "- I have installed LAST alignmer in `${PI_HOME}/bin`\n",
    "- gcc5 does not work, but gcc4.9.1 worked\n",
    "- successfully followed the first example in the official tutorial"
   ]
  },
  {
   "cell_type": "code",
   "execution_count": null,
   "metadata": {
    "collapsed": true
   },
   "outputs": [],
   "source": []
  },
  {
   "cell_type": "code",
   "execution_count": null,
   "metadata": {
    "collapsed": true
   },
   "outputs": [],
   "source": []
  },
  {
   "cell_type": "code",
   "execution_count": null,
   "metadata": {
    "collapsed": true
   },
   "outputs": [],
   "source": []
  },
  {
   "cell_type": "code",
   "execution_count": 23,
   "metadata": {
    "collapsed": false
   },
   "outputs": [
    {
     "name": "stdout",
     "output_type": "stream",
     "text": [
      "--2016-10-18 15:29:21--  http://last.cbrc.jp/last-759.zip\n",
      "Resolving last.cbrc.jp... 124.35.84.43\n",
      "Connecting to last.cbrc.jp|124.35.84.43|:80... connected.\n",
      "HTTP request sent, awaiting response... 200 OK\n",
      "Length: 710209 (694K) [application/zip]\n",
      "Saving to: “/tmp/last-759.zip”\n",
      "\n",
      "100%[======================================>] 710,209      822K/s   in 0.8s    \n",
      "\n",
      "2016-10-18 15:29:22 (822 KB/s) - “/tmp/last-759.zip” saved [710209/710209]\n",
      "\n"
     ]
    }
   ],
   "source": [
    "!wget http://last.cbrc.jp/last-759.zip -P /tmp"
   ]
  },
  {
   "cell_type": "code",
   "execution_count": 25,
   "metadata": {
    "collapsed": false
   },
   "outputs": [
    {
     "name": "stdout",
     "output_type": "stream",
     "text": [
      "Archive:  /tmp/last-759.zip\n",
      "replace last-759/ChangeLog.txt? [y]es, [n]o, [A]ll, [N]one, [r]ename: ^C\n"
     ]
    }
   ],
   "source": [
    "!unzip /tmp/last-759.zip"
   ]
  },
  {
   "cell_type": "code",
   "execution_count": 27,
   "metadata": {
    "collapsed": false
   },
   "outputs": [],
   "source": [
    "!cd /tmp/last-759/"
   ]
  },
  {
   "cell_type": "code",
   "execution_count": 28,
   "metadata": {
    "collapsed": false
   },
   "outputs": [
    {
     "name": "stdout",
     "output_type": "stream",
     "text": [
      "/bin/sh: ./configure: No such file or directory\r\n"
     ]
    }
   ],
   "source": [
    "!./configure --prefix=/share/PI/mrivas"
   ]
  },
  {
   "cell_type": "code",
   "execution_count": 29,
   "metadata": {
    "collapsed": false
   },
   "outputs": [
    {
     "name": "stdout",
     "output_type": "stream",
     "text": [
      "Please see the documentation in the \"doc\" directory.\r\n",
      "\r\n",
      "* Installation & general info: doc/last.txt\r\n",
      "* Usage: start with doc/last-tutorial.txt\r\n"
     ]
    }
   ],
   "source": [
    "!cat /tmp/last-759/README.txt"
   ]
  },
  {
   "cell_type": "markdown",
   "metadata": {
    "collapsed": true
   },
   "source": [
    "- I just followed the docmentation and installed into the shared dir of our lab.\n",
    "```\n",
    "[ytanigaw@sh-5-36 /tmp/last-759]$ ml load gcc\n",
    "[ytanigaw@sh-5-36 /tmp/last-759]$ make\n",
    "[ytanigaw@sh-5-36 /tmp/last-759]$ make install prefix=/share/PI/mrivas/\n",
    "```\n",
    "- added `/share/PI/mrivas/bin/` to my path (~/.bash_profile)"
   ]
  },
  {
   "cell_type": "code",
   "execution_count": 1,
   "metadata": {
    "collapsed": false
   },
   "outputs": [
    {
     "name": "stdout",
     "output_type": "stream",
     "text": [
      "/share/sw/free/anaconda/anaconda3/bin:/share/PI/mrivas/bin:/home/ytanigaw/.local/bin:/share/sw/srcc/bin:/share/sw/srcc/bin:/usr/lib64/qt-3.3/bin:/usr/local/bin:/bin:/usr/bin:/opt/pdsh/bin:/opt/rocks/bin:/opt/rocks/sbin:/opt/dell/srvadmin/bin:/usr/local/sbin:/usr/sbin:/sbin:/home/ytanigaw/bin\r\n"
     ]
    }
   ],
   "source": [
    "!echo $PATH"
   ]
  },
  {
   "cell_type": "code",
   "execution_count": 2,
   "metadata": {
    "collapsed": false
   },
   "outputs": [
    {
     "name": "stdout",
     "output_type": "stream",
     "text": [
      "/share/PI/mrivas/bin/lastdb\r\n"
     ]
    }
   ],
   "source": [
    "!which lastdb"
   ]
  },
  {
   "cell_type": "markdown",
   "metadata": {
    "collapsed": true
   },
   "source": [
    "- successfully installed"
   ]
  },
  {
   "cell_type": "markdown",
   "metadata": {},
   "source": [
    "#### LAST example #1 on tutorial\n",
    "- http://last.cbrc.jp/doc/last-tutorial.html"
   ]
  },
  {
   "cell_type": "code",
   "execution_count": 4,
   "metadata": {
    "collapsed": false
   },
   "outputs": [],
   "source": [
    "!ml load gcc"
   ]
  },
  {
   "cell_type": "code",
   "execution_count": 10,
   "metadata": {
    "collapsed": false
   },
   "outputs": [
    {
     "name": "stdout",
     "output_type": "stream",
     "text": [
      "lastdb: /usr/lib64/libstdc++.so.6: version `GLIBCXX_3.4.17' not found (required by lastdb)\r\n",
      "lastdb: /usr/lib64/libstdc++.so.6: version `CXXABI_1.3.8' not found (required by lastdb)\r\n",
      "lastdb: /usr/lib64/libstdc++.so.6: version `GLIBCXX_3.4.21' not found (required by lastdb)\r\n"
     ]
    }
   ],
   "source": [
    "!lastdb -cR01 /tmp/last-759/humdb /tmp/last-759/examples/humanMito.fa"
   ]
  },
  {
   "cell_type": "markdown",
   "metadata": {},
   "source": [
    "- I got an error\n",
    "- After having some google search, I decided to try with older version of gcc\n",
    "```\n",
    "[ytanigaw@sh-5-36 /tmp/last-759]$ ml load gcc/4.9.1\n",
    "[ytanigaw@sh-5-36 /tmp/last-759]$ make\n",
    "[ytanigaw@sh-5-36 /tmp/last-759]$ make install prefix=/share/PI/mrivas/\n",
    "```\n"
   ]
  },
  {
   "cell_type": "code",
   "execution_count": 11,
   "metadata": {
    "collapsed": true
   },
   "outputs": [],
   "source": [
    "!lastdb -cR01 /tmp/last-759/humdb /tmp/last-759/examples/humanMito.fa"
   ]
  },
  {
   "cell_type": "markdown",
   "metadata": {},
   "source": [
    "- it works!! :)"
   ]
  },
  {
   "cell_type": "code",
   "execution_count": 12,
   "metadata": {
    "collapsed": true
   },
   "outputs": [],
   "source": [
    "!lastal /tmp/last-759/humdb /tmp/last-759/examples/fuguMito.fa > ~/myalns.maf"
   ]
  },
  {
   "cell_type": "code",
   "execution_count": 13,
   "metadata": {
    "collapsed": false
   },
   "outputs": [
    {
     "name": "stdout",
     "output_type": "stream",
     "text": [
      "93 /home/ytanigaw/myalns.maf\r\n"
     ]
    }
   ],
   "source": [
    "!wc -l /home/ytanigaw/myalns.maf"
   ]
  },
  {
   "cell_type": "code",
   "execution_count": null,
   "metadata": {
    "collapsed": true
   },
   "outputs": [],
   "source": []
  }
 ],
 "metadata": {
  "anaconda-cloud": {},
  "kernelspec": {
   "display_name": "Python [Root]",
   "language": "python",
   "name": "Python [Root]"
  },
  "language_info": {
   "codemirror_mode": {
    "name": "ipython",
    "version": 3
   },
   "file_extension": ".py",
   "mimetype": "text/x-python",
   "name": "python",
   "nbconvert_exporter": "python",
   "pygments_lexer": "ipython3",
   "version": "3.5.2"
  }
 },
 "nbformat": 4,
 "nbformat_minor": 0
}
