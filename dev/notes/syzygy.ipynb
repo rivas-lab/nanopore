{
 "cells": [
  {
   "cell_type": "markdown",
   "metadata": {},
   "source": [
    "# Install syzygy (to use ReadBAM)\n",
    "## prep\n",
    "- Install syzygy to use ReadBAM\n",
    "    - https://sourceforge.net/p/syzygy/\n",
    "    - https://sourceforge.net/p/syzygy/code/HEAD/tree/src/python/ReadBAM.py\n",
    "- There are dependencies\n",
    "  - install R within conda environment \n",
    "    - `conda install -c r r`\n",
    "    - https://www.continuum.io/conda-for-R\n",
    "  - install dependent packages for python and R"
   ]
  },
  {
   "cell_type": "markdown",
   "metadata": {},
   "source": [
    "## Installation error"
   ]
  },
  {
   "cell_type": "markdown",
   "metadata": {},
   "source": [
    "### `PYTHONPATH` does not work\n",
    "- It should install to \n",
    "  - `/home/ytanigaw/.conda/envs/pgenlib/lib/python2.7/site-packages/`\n",
    "  - `/home/ytanigaw/lib/python2.7/site-packages/`"
   ]
  },
  {
   "cell_type": "markdown",
   "metadata": {},
   "source": [
    "### cython"
   ]
  },
  {
   "cell_type": "code",
   "execution_count": null,
   "metadata": {
    "collapsed": true
   },
   "outputs": [],
   "source": []
  }
 ],
 "metadata": {
  "anaconda-cloud": {},
  "kernelspec": {
   "display_name": "Python [pgenlib]",
   "language": "python",
   "name": "Python [pgenlib]"
  },
  "language_info": {
   "codemirror_mode": {
    "name": "ipython",
    "version": 2
   },
   "file_extension": ".py",
   "mimetype": "text/x-python",
   "name": "python",
   "nbconvert_exporter": "python",
   "pygments_lexer": "ipython2",
   "version": "2.7.5"
  }
 },
 "nbformat": 4,
 "nbformat_minor": 0
}
