{
 "cells": [
  {
   "cell_type": "markdown",
   "metadata": {},
   "source": [
    "# Frequent questions I have asked\n",
    "- Motivation of genome compression\n",
    "  - Why do we need to compress genome?\n",
    "\n",
    "\n",
    "# Genome aligner\n",
    "- canu\n",
    "  - https://github.com/marbl/canu\n",
    "- GraphMap\n",
    "  - https://github.com/isovic/graphmap\n",
    "  - This is good for old chemistries of ONT\n",
    "     - error rate ~ 40%\n",
    "\n",
    "# Real time inference\n",
    "- Yatish & Karthik submitted (?) a proposal for Qualcomm challenge \n",
    "- given a disease and reads, they would like to infer causal SNPs with Machine learning \n",
    "\n",
    "\n",
    "# Personal genome and privacy issue\n",
    "- Karthik Jagadeesh\n",
    "  - http://cs.stanford.edu/~kjag/\n",
    "\n",
    "\n",
    "# Darwin\n",
    "- http://biorxiv.org/content/biorxiv/early/2017/01/15/092171.full.pdf\n",
    "- Yatish Turakhia\n",
    "  - https://stanford.edu/~yatisht/\n",
    "  - EE 3rd year\n",
    "- FPGA acceleration\n",
    "- Darwin provides API\n",
    "\n"
   ]
  },
  {
   "cell_type": "code",
   "execution_count": null,
   "metadata": {
    "collapsed": true
   },
   "outputs": [],
   "source": []
  }
 ],
 "metadata": {
  "anaconda-cloud": {},
  "kernelspec": {
   "display_name": "Python [conda env:pgenlib]",
   "language": "python",
   "name": "conda-env-pgenlib-py"
  }
 },
 "nbformat": 4,
 "nbformat_minor": 1
}
