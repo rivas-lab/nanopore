{
 "cells": [
  {
   "cell_type": "code",
   "execution_count": 1,
   "metadata": {
    "collapsed": true
   },
   "outputs": [],
   "source": [
    "import subprocess"
   ]
  },
  {
   "cell_type": "code",
   "execution_count": 2,
   "metadata": {
    "collapsed": false
   },
   "outputs": [
    {
     "data": {
      "text/plain": [
       "'Hello World!\\n'"
      ]
     },
     "execution_count": 2,
     "metadata": {},
     "output_type": "execute_result"
    }
   ],
   "source": [
    "subprocess.check_output([\"echo\", \"Hello World!\"])"
   ]
  },
  {
   "cell_type": "code",
   "execution_count": 3,
   "metadata": {
    "collapsed": false
   },
   "outputs": [
    {
     "name": "stdout",
     "output_type": "stream",
     "text": [
      "total 2282\n",
      "  98 20161011_poretools.ipynb\n",
      "1218 20161017_porekit.ipynb\n",
      "  26 20161018_hg19_Download.ipynb\n",
      "  26 20161018_LAST_installation.ipynb\n",
      "  98 20161018_mapping_and_counting.ipynb\n",
      "  98 20161026_read_length_dist.ipynb\n",
      "  50 20161028_count.ipynb\n",
      "  26 20161118_pysam.ipynb\n",
      " 442 20161128_count.ipynb\n",
      "  26 20161201_NA12878_PacBio_Stats.ipynb\n",
      "  50 20161201_select_random_reads_failed.ipynb\n",
      "   2 20161212_subprocess.ipynb\n",
      "  26 pgenlib.ipynb\n",
      "   2 ReadBAM.py\n",
      "  50 ReadBAM.pyc\n",
      "  26 selected_index.txt\n",
      "  26 syzygy.ipynb\n",
      "\n"
     ]
    }
   ],
   "source": [
    "print subprocess.check_output([\"ls\", \"-s\"])"
   ]
  },
  {
   "cell_type": "code",
   "execution_count": 4,
   "metadata": {
    "collapsed": true
   },
   "outputs": [],
   "source": [
    "dbsnp = '/share/PI/mrivas/data/dbsnp/dbsnp_all_20160527.vcf.gz'"
   ]
  },
  {
   "cell_type": "code",
   "execution_count": 13,
   "metadata": {
    "collapsed": true
   },
   "outputs": [],
   "source": [
    "loc = 'chr1:10,000,000-10,000,500'"
   ]
  },
  {
   "cell_type": "code",
   "execution_count": 14,
   "metadata": {
    "collapsed": false
   },
   "outputs": [
    {
     "name": "stdout",
     "output_type": "stream",
     "text": [
      "chr1\t10000044\trs112409036\tA\tT\t.\t.\tRS=112409036;RSPOS=10000044;dbSNPBuildID=132;SSR=0;SAO=0;VP=0x0501000a0005140136000100;GENEINFO=RBP7:116362|LOC105376719:105376719;WGT=1;VC=SNV;SLO;INT;R5;ASP;VLD;GNO;KGPhase1;KGPhase3;CAF=0.9816,0.01837;COMMON=1\n",
      "chr1\t10000111\trs770821123\tC\tA\t.\t.\tRS=770821123;RSPOS=10000111;dbSNPBuildID=144;SSR=0;SAO=0;VP=0x050000080005000002000100;GENEINFO=RBP7:116362;WGT=1;VC=SNV;INT;ASP\n",
      "chr1\t10000113\trs7535103\tC\tT\t.\t.\tRS=7535103;RSPOS=10000113;dbSNPBuildID=116;SSR=0;SAO=0;VP=0x050100080005150136000100;GENEINFO=RBP7:116362;WGT=1;VC=SNV;SLO;INT;ASP;VLD;G5;GNO;KGPhase1;KGPhase3;CAF=0.9609,0.03914;COMMON=1\n",
      "chr1\t10000164\trs747565980\tG\tT\t.\t.\tRS=747565980;RSPOS=10000164;dbSNPBuildID=144;SSR=0;SAO=0;VP=0x050000080005000002000100;GENEINFO=RBP7:116362;WGT=1;VC=SNV;INT;ASP\n",
      "chr1\t10000176\trs866770706\tC\tT\t.\t.\tRS=866770706;RSPOS=10000176;dbSNPBuildID=147;SSR=0;SAO=0;VP=0x050100080005000002000100;GENEINFO=RBP7:116362;WGT=1;VC=SNV;SLO;INT;ASP\n",
      "chr1\t10000284\trs570142031\tC\tA\t.\t.\tRS=570142031;RSPOS=10000284;dbSNPBuildID=142;SSR=0;SAO=0;VP=0x050000080005000002000100;GENEINFO=RBP7:116362;WGT=1;VC=SNV;INT;ASP\n",
      "chr1\t10000297\trs551190153\tC\tT\t.\t.\tRS=551190153;RSPOS=10000297;dbSNPBuildID=142;SSR=0;SAO=0;VP=0x050000080005000024000100;GENEINFO=RBP7:116362;WGT=1;VC=SNV;INT;ASP;KGPhase3;CAF=0.9998,0.0001997;COMMON=0\n",
      "chr1\t10000298\trs868657266\tG\tA\t.\t.\tRS=868657266;RSPOS=10000298;dbSNPBuildID=147;SSR=0;SAO=0;VP=0x050100080005000002000100;GENEINFO=RBP7:116362;WGT=1;VC=SNV;SLO;INT;ASP\n",
      "chr1\t10000311\trs149134373\tC\tT\t.\t.\tRS=149134373;RSPOS=10000311;dbSNPBuildID=134;SSR=0;SAO=0;VP=0x050000080005040034000100;GENEINFO=RBP7:116362;WGT=1;VC=SNV;INT;ASP;VLD;KGPhase1;KGPhase3;CAF=0.9988,0.001198;COMMON=1\n",
      "chr1\t10000329\trs112502382\tT\tA\t.\t.\tRS=112502382;RSPOS=10000329;dbSNPBuildID=132;SSR=0;SAO=0;VP=0x050100080005140136000100;GENEINFO=RBP7:116362;WGT=1;VC=SNV;SLO;INT;ASP;VLD;GNO;KGPhase1;KGPhase3;CAF=0.9816,0.01837;COMMON=1\n",
      "chr1\t10000354\trs768795920\tA\tT\t.\t.\tRS=768795920;RSPOS=10000354;dbSNPBuildID=144;SSR=0;SAO=0;VP=0x050000080005000002000100;GENEINFO=RBP7:116362;WGT=1;VC=SNV;INT;ASP\n",
      "chr1\t10000385\trs776507672\tT\tC\t.\t.\tRS=776507672;RSPOS=10000385;dbSNPBuildID=144;SSR=0;SAO=0;VP=0x050000080005000002000100;GENEINFO=RBP7:116362;WGT=1;VC=SNV;INT;ASP\n",
      "chr1\t10000404\trs183019997\tC\tA,T\t.\t.\tRS=183019997;RSPOS=10000404;dbSNPBuildID=135;SSR=0;SAO=0;VP=0x050100080005040036000100;GENEINFO=RBP7:116362;WGT=1;VC=SNV;SLO;INT;ASP;VLD;KGPhase1;KGPhase3;CAF=0.998,0.0007987,0.001198;COMMON=0\n",
      "chr1\t10000425\trs555559827\tT\tC\t.\t.\tRS=555559827;RSPOS=10000425;dbSNPBuildID=142;SSR=0;SAO=0;VP=0x050000080005000002000100;GENEINFO=RBP7:116362;WGT=1;VC=SNV;INT;ASP\n",
      "chr1\t10000441\trs148369767\tC\tT\t.\t.\tRS=148369767;RSPOS=10000441;dbSNPBuildID=134;SSR=0;SAO=0;VP=0x050100080005040036000100;GENEINFO=RBP7:116362;WGT=1;VC=SNV;SLO;INT;ASP;VLD;KGPhase1;KGPhase3;CAF=0.9922,0.007788;COMMON=1\n",
      "chr1\t10000449\trs141577932\tG\tA,T\t.\t.\tRS=141577932;RSPOS=10000449;dbSNPBuildID=134;SSR=0;SAO=0;VP=0x050000080005040036000100;GENEINFO=RBP7:116362;WGT=1;VC=SNV;INT;ASP;VLD;KGPhase1;KGPhase3\n",
      "chr1\t10000458\trs3003377\tT\tC\t.\t.\tRS=3003377;RSPOS=10000458;dbSNPBuildID=101;SSR=0;SAO=0;VP=0x050100080005170136000100;GENEINFO=RBP7:116362;WGT=1;VC=SNV;SLO;INT;ASP;VLD;G5A;G5;GNO;KGPhase1;KGPhase3;CAF=0.4683,0.5317;COMMON=1\n",
      "chr1\t10000464\trs539877936\tG\tA\t.\t.\tRS=539877936;RSPOS=10000464;dbSNPBuildID=142;SSR=0;SAO=0;VP=0x050100080005040026000100;GENEINFO=RBP7:116362;WGT=1;VC=SNV;SLO;INT;ASP;VLD;KGPhase3;CAF=0.9992,0.0007987;COMMON=1\n",
      "chr1\t10000491\trs557984346\tG\tA\t.\t.\tRS=557984346;RSPOS=10000491;dbSNPBuildID=142;SSR=0;SAO=0;VP=0x050000080005000024000100;GENEINFO=RBP7:116362;WGT=1;VC=SNV;INT;ASP;KGPhase3;CAF=0.9998,0.0001997;COMMON=0\n",
      "chr1\t10000499\trs573160627\tA\tT\t.\t.\tRS=573160627;RSPOS=10000499;dbSNPBuildID=142;SSR=0;SAO=0;VP=0x050000080005000024000100;GENEINFO=RBP7:116362;WGT=1;VC=SNV;INT;ASP;KGPhase3;CAF=0.9998,0.0001997;COMMON=0\n",
      "\n"
     ]
    }
   ],
   "source": [
    "print subprocess.check_output([\"tabix\", dbsnp, loc])"
   ]
  },
  {
   "cell_type": "code",
   "execution_count": null,
   "metadata": {
    "collapsed": true
   },
   "outputs": [],
   "source": []
  }
 ],
 "metadata": {
  "anaconda-cloud": {},
  "kernelspec": {
   "display_name": "Python [pgenlib]",
   "language": "python",
   "name": "Python [pgenlib]"
  },
  "language_info": {
   "codemirror_mode": {
    "name": "ipython",
    "version": 2
   },
   "file_extension": ".py",
   "mimetype": "text/x-python",
   "name": "python",
   "nbconvert_exporter": "python",
   "pygments_lexer": "ipython2",
   "version": "2.7.5"
  }
 },
 "nbformat": 4,
 "nbformat_minor": 0
}
