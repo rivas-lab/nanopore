{
 "cells": [
  {
   "cell_type": "code",
   "execution_count": 1,
   "metadata": {
    "collapsed": true
   },
   "outputs": [],
   "source": [
    "%matplotlib inline"
   ]
  },
  {
   "cell_type": "code",
   "execution_count": 2,
   "metadata": {
    "collapsed": false
   },
   "outputs": [
    {
     "name": "stderr",
     "output_type": "stream",
     "text": [
      "/home/ytanigaw/.conda/envs/pgenlib/lib/python2.7/site-packages/matplotlib/__init__.py:1401: UserWarning:  This call to matplotlib.use() has no effect\n",
      "because the backend has already been chosen;\n",
      "matplotlib.use() must be called *before* pylab, matplotlib.pyplot,\n",
      "or matplotlib.backends is imported for the first time.\n",
      "\n",
      "  warnings.warn(_use_error_msg)\n"
     ]
    }
   ],
   "source": [
    "import numpy as np\n",
    "import scipy as sc\n",
    "import pandas as pd\n",
    "import itertools as it\n",
    "import collections\n",
    "import matplotlib\n",
    "matplotlib.use('agg')\n",
    "from matplotlib import pyplot as plt"
   ]
  },
  {
   "cell_type": "markdown",
   "metadata": {},
   "source": [
    "# LD block on chr20 in UKBB population\n",
    "- LD block structure is computed with plink1.9 `--blocks` option\n",
    "\n",
    "```\n",
    "[ytanigaw@sh-102-07 ~]$ /share/PI/mrivas/bin/plink --bfile /share/PI/mrivas/ukbb/download/chr20impv1 --memory 80000 --blocks-max-kb 1000 --blocks-min-maf .001 --out /share/PI/mrivas/ukbb/download/chr20impv1-max1mbp-minmaf001 --blocks no-pheno-req\n",
    "PLINK v1.90b3.45 64-bit (13 Jan 2017)      https://www.cog-genomics.org/plink2\n",
    "(C) 2005-2017 Shaun Purcell, Christopher Chang   GNU General Public License v3\n",
    "Logging to /share/PI/mrivas/ukbb/download/chr20impv1-max1mbp-minmaf001.log.\n",
    "Options in effect:\n",
    "  --bfile /share/PI/mrivas/ukbb/download/chr20impv1\n",
    "  --blocks no-pheno-req\n",
    "  --blocks-max-kb 1000\n",
    "  --blocks-min-maf .001\n",
    "  --memory 80000\n",
    "  --out /share/PI/mrivas/ukbb/download/chr20impv1-max1mbp-minmaf001\n",
    "\n",
    "257674 MB RAM detected; reserving 80000 MB for main workspace.\n",
    "1619597 variants loaded from .bim file.\n",
    "152249 people (0 males, 0 females, 152249 ambiguous) loaded from .fam.\n",
    "Ambiguous sex IDs written to\n",
    "/share/PI/mrivas/ukbb/download/chr20impv1-max1mbp-minmaf001.nosex .\n",
    "Using 1 thread (no multithreaded calculations invoked).\n",
    "Before main variant filters, 152249 founders and 0 nonfounders present.\n",
    "Calculating allele frequencies... done.\n",
    "Total genotyping rate is 0.995355.\n",
    "1619597 variants and 152249 people pass filters and QC.\n",
    "Note: No phenotypes present.\n",
    "--blocks: 36577 haploblocks written to\n",
    "/share/PI/mrivas/ukbb/download/chr20impv1-max1mbp-minmaf001.blocks .\n",
    "Extra block details written to\n",
    "/share/PI/mrivas/ukbb/download/chr20impv1-max1mbp-minmaf001.blocks.det .\n",
    "Longest span: 153.665kb.\n",
    "```"
   ]
  },
  {
   "cell_type": "code",
   "execution_count": 3,
   "metadata": {
    "collapsed": true
   },
   "outputs": [],
   "source": [
    "block_det = '/share/PI/mrivas/ukbb/download/chr20impv1-max1mbp-minmaf001.blocks.det'"
   ]
  },
  {
   "cell_type": "code",
   "execution_count": 4,
   "metadata": {
    "collapsed": true
   },
   "outputs": [],
   "source": [
    "block = pd.read_table(block_det, delimiter='\\s+')"
   ]
  },
  {
   "cell_type": "code",
   "execution_count": 5,
   "metadata": {
    "collapsed": false
   },
   "outputs": [
    {
     "data": {
      "text/html": [
       "<div>\n",
       "<table border=\"1\" class=\"dataframe\">\n",
       "  <thead>\n",
       "    <tr style=\"text-align: right;\">\n",
       "      <th></th>\n",
       "      <th>CHR</th>\n",
       "      <th>BP1</th>\n",
       "      <th>BP2</th>\n",
       "      <th>KB</th>\n",
       "      <th>NSNPS</th>\n",
       "      <th>SNPS</th>\n",
       "    </tr>\n",
       "  </thead>\n",
       "  <tbody>\n",
       "    <tr>\n",
       "      <th>0</th>\n",
       "      <td>20</td>\n",
       "      <td>60828</td>\n",
       "      <td>61098</td>\n",
       "      <td>0.271</td>\n",
       "      <td>2</td>\n",
       "      <td>rs187713677|rs6078030</td>\n",
       "    </tr>\n",
       "    <tr>\n",
       "      <th>1</th>\n",
       "      <td>20</td>\n",
       "      <td>61795</td>\n",
       "      <td>62731</td>\n",
       "      <td>0.937</td>\n",
       "      <td>3</td>\n",
       "      <td>rs4814683|rs192879424|rs34147676</td>\n",
       "    </tr>\n",
       "    <tr>\n",
       "      <th>2</th>\n",
       "      <td>20</td>\n",
       "      <td>63244</td>\n",
       "      <td>67184</td>\n",
       "      <td>3.941</td>\n",
       "      <td>14</td>\n",
       "      <td>rs6139074|rs115017123|rs75670495|rs1418258|rs7...</td>\n",
       "    </tr>\n",
       "    <tr>\n",
       "      <th>3</th>\n",
       "      <td>20</td>\n",
       "      <td>67500</td>\n",
       "      <td>67760</td>\n",
       "      <td>0.261</td>\n",
       "      <td>2</td>\n",
       "      <td>rs112142516|rs113878089</td>\n",
       "    </tr>\n",
       "    <tr>\n",
       "      <th>4</th>\n",
       "      <td>20</td>\n",
       "      <td>68618</td>\n",
       "      <td>68749</td>\n",
       "      <td>0.132</td>\n",
       "      <td>2</td>\n",
       "      <td>rs75510087|rs6086616</td>\n",
       "    </tr>\n",
       "  </tbody>\n",
       "</table>\n",
       "</div>"
      ],
      "text/plain": [
       "   CHR    BP1    BP2     KB  NSNPS  \\\n",
       "0   20  60828  61098  0.271      2   \n",
       "1   20  61795  62731  0.937      3   \n",
       "2   20  63244  67184  3.941     14   \n",
       "3   20  67500  67760  0.261      2   \n",
       "4   20  68618  68749  0.132      2   \n",
       "\n",
       "                                                SNPS  \n",
       "0                              rs187713677|rs6078030  \n",
       "1                   rs4814683|rs192879424|rs34147676  \n",
       "2  rs6139074|rs115017123|rs75670495|rs1418258|rs7...  \n",
       "3                            rs112142516|rs113878089  \n",
       "4                               rs75510087|rs6086616  "
      ]
     },
     "execution_count": 5,
     "metadata": {},
     "output_type": "execute_result"
    }
   ],
   "source": [
    "block.head()"
   ]
  },
  {
   "cell_type": "markdown",
   "metadata": {},
   "source": [
    "## box plot"
   ]
  },
  {
   "cell_type": "code",
   "execution_count": 6,
   "metadata": {
    "collapsed": false
   },
   "outputs": [
    {
     "data": {
      "image/png": "[encoded data removed]",
      "text/plain": [
       "<matplotlib.figure.Figure at 0x4b91190>"
      ]
     },
     "metadata": {},
     "output_type": "display_data"
    }
   ],
   "source": [
    "fig = plt.figure(figsize=(8,6))\n",
    "axs = [fig.add_subplot(1, 2, i+1) for i in range(2)]\n",
    "axs[0].set_title('Number of SNPs in LD block')\n",
    "axs[0].boxplot(block['NSNPS'])\n",
    "axs[1].set_title('Size of LD block')\n",
    "axs[1].boxplot(block['BP2'] - block['BP1'])\n",
    "fig.savefig('chr20impv1-max1mbp-minmaf001.blocks.det.boxplot.png')"
   ]
  },
  {
   "cell_type": "markdown",
   "metadata": {},
   "source": [
    "## box plot (log10 scale)"
   ]
  },
  {
   "cell_type": "code",
   "execution_count": 8,
   "metadata": {
    "collapsed": false
   },
   "outputs": [
    {
     "name": "stderr",
     "output_type": "stream",
     "text": [
      "/home/ytanigaw/.conda/envs/pgenlib/lib/python2.7/site-packages/ipykernel/__main__.py:6: RuntimeWarning: divide by zero encountered in log\n"
     ]
    },
    {
     "data": {
      "image/png": "[encoded data removed]",
      "text/plain": [
       "<matplotlib.figure.Figure at 0x55717d0>"
      ]
     },
     "metadata": {},
     "output_type": "display_data"
    }
   ],
   "source": [
    "fig_log = plt.figure(figsize=(8,6))\n",
    "axs_log = [fig_log.add_subplot(1, 2, i+1) for i in range(2)]\n",
    "axs_log[0].set_title('# of SNPs in LD block (log10)')\n",
    "axs_log[0].boxplot(np.log(block['NSNPS']) / np.log(10))\n",
    "axs_log[1].set_title('Size of LD block (log10)')\n",
    "axs_log[1].boxplot(np.log(block['BP2'] - block['BP1']) / np.log(10))\n",
    "fig_log.savefig('chr20impv1-max1mbp-minmaf001.blocks.det.boxplot_log.png')"
   ]
  },
  {
   "cell_type": "markdown",
   "metadata": {},
   "source": [
    "## Note: maf >= .001 filter\n",
    "- We have used `.001` as a cutoff for minor allele frequency. This filter reduced the number of SNP marks from 1.6 M to 300 K"
   ]
  },
  {
   "cell_type": "code",
   "execution_count": 9,
   "metadata": {
    "collapsed": false
   },
   "outputs": [
    {
     "name": "stdout",
     "output_type": "stream",
     "text": [
      "1619597 /share/PI/mrivas/ukbb/download/chr20impv1.bim\r\n"
     ]
    }
   ],
   "source": [
    "!wc -l /share/PI/mrivas/ukbb/download/chr20impv1.bim"
   ]
  },
  {
   "cell_type": "code",
   "execution_count": 10,
   "metadata": {
    "collapsed": false
   },
   "outputs": [
    {
     "data": {
      "text/plain": [
       "299421"
      ]
     },
     "execution_count": 10,
     "metadata": {},
     "output_type": "execute_result"
    }
   ],
   "source": [
    "np.sum(block['NSNPS'])"
   ]
  },
  {
   "cell_type": "code",
   "execution_count": null,
   "metadata": {
    "collapsed": true
   },
   "outputs": [],
   "source": []
  }
 ],
 "metadata": {
  "anaconda-cloud": {},
  "kernelspec": {
   "display_name": "Python [conda env:pgenlib]",
   "language": "python",
   "name": "conda-env-pgenlib-py"
  },
  "language_info": {
   "codemirror_mode": {
    "name": "ipython",
    "version": 2
   },
   "file_extension": ".py",
   "mimetype": "text/x-python",
   "name": "python",
   "nbconvert_exporter": "python",
   "pygments_lexer": "ipython2",
   "version": "2.7.5"
  }
 },
 "nbformat": 4,
 "nbformat_minor": 1
}
