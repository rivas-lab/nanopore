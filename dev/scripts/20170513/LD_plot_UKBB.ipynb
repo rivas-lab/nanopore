{
 "cells": [
  {
   "cell_type": "code",
   "execution_count": 1,
   "metadata": {
    "collapsed": true
   },
   "outputs": [],
   "source": [
    "%matplotlib inline"
   ]
  },
  {
   "cell_type": "code",
   "execution_count": 2,
   "metadata": {
    "collapsed": false
   },
   "outputs": [
    {
     "name": "stderr",
     "output_type": "stream",
     "text": [
      "/home/ytanigaw/.conda/envs/pgenlib/lib/python2.7/site-packages/matplotlib/__init__.py:1401: UserWarning:  This call to matplotlib.use() has no effect\n",
      "because the backend has already been chosen;\n",
      "matplotlib.use() must be called *before* pylab, matplotlib.pyplot,\n",
      "or matplotlib.backends is imported for the first time.\n",
      "\n",
      "  warnings.warn(_use_error_msg)\n"
     ]
    }
   ],
   "source": [
    "import numpy as np\n",
    "import scipy as sc\n",
    "import pandas as pd\n",
    "import itertools as it\n",
    "import collections\n",
    "import matplotlib\n",
    "matplotlib.use('agg')\n",
    "from matplotlib import pyplot as plt"
   ]
  },
  {
   "cell_type": "code",
   "execution_count": 3,
   "metadata": {
    "collapsed": true
   },
   "outputs": [],
   "source": [
    "def make_scatter(x, y, title = None, xlabel = None, ylabel = None, filename = None):\n",
    "    '''\n",
    "    This function generates scatter plot of a pair of vectors x and y, and save to file\n",
    "    Inputs:\n",
    "      x, y: data vectors\n",
    "      title:    title of the plot\n",
    "      xlabel:   label on x-axis\n",
    "      ylabel:   label on y-axis\n",
    "      filename: name of the image file (if given, save to file)\n",
    "    Side effect:\n",
    "      save an image file if filename is given\n",
    "    '''\n",
    "    \n",
    "    import matplotlib\n",
    "    matplotlib.use('agg')\n",
    "    from matplotlib import pyplot as plt\n",
    "    \n",
    "    fig = plt.figure(figsize=(8,6))\n",
    "    ax = fig.add_subplot(1, 1, 1)\n",
    "    ax.scatter(x, y)\n",
    "    \n",
    "    if(xlabel != None):\n",
    "        ax.set_xlabel(xlabel)\n",
    "    if(ylabel != None):\n",
    "        ax.set_ylabel(ylabel)\n",
    "    if(title != None):\n",
    "        ax.set_title(title)\n",
    "    if(filename != None):\n",
    "        fig.savefig(filename)"
   ]
  },
  {
   "cell_type": "code",
   "execution_count": null,
   "metadata": {
    "collapsed": true
   },
   "outputs": [],
   "source": []
  },
  {
   "cell_type": "markdown",
   "metadata": {},
   "source": [
    "LD file is computed with the following commands\n",
    "```\n",
    "[ytanigaw@sh-5-32 /share/PI/mrivas/ukbb/download]$ plink2 --make-bed --bpfile ./chr20impv1-pgen --memory 8000 --out ./chr20impv1\n",
    "[ytanigaw@sh-5-32 /share/PI/mrivas/ukbb/download]$ # plink --bfile chr20impv1 --memory 8000 --ld-window 100 --ld-window-kb 10000 --r2 --out ./chr20impv1-10k \n",
    "```"
   ]
  },
  {
   "cell_type": "markdown",
   "metadata": {},
   "source": [
    "```\n",
    "[ytanigaw@sh-5-32 /share/PI/mrivas/ukbb/download]$ plink --bfile chr20impv1 --memory 8000 --ld-window 1000 --ld-window-kb 10000 --r2 --out ./chr20impv1-10m\n",
    "```\n"
   ]
  },
  {
   "cell_type": "code",
   "execution_count": 22,
   "metadata": {
    "collapsed": true
   },
   "outputs": [],
   "source": [
    "ld_file = '/share/PI/mrivas/ukbb/download/chr20impv1-10m.ld'"
   ]
  },
  {
   "cell_type": "code",
   "execution_count": 23,
   "metadata": {
    "collapsed": false
   },
   "outputs": [
    {
     "name": "stdout",
     "output_type": "stream",
     "text": [
      " CHR_A         BP_A                               SNP_A  CHR_B         BP_B                               SNP_B           R2 \r\n",
      "    20        60522                         rs150241001     20        61279                         rs189899941     0.702198 \r\n",
      "    20        60522                         rs150241001     20        67641                          rs76107804            1 \r\n",
      "    20        60522                         rs150241001     20        73719                         rs148228636      0.44411 \r\n",
      "    20        60522                         rs150241001     20        98447                          rs76760245     0.326092 \r\n",
      "    20        60828                         rs187713677     20        63257                         rs574916570     0.728223 \r\n",
      "    20        60895                         rs556457573     20        62955                         rs553526603     0.473622 \r\n",
      "    20        61044                         rs535668403     20        61947                                   .     0.343703 \r\n",
      "    20        61070                         rs555594325     20        61429                                   .      0.24002 \r\n",
      "    20        61098                           rs6078030     20        61138                         rs552482647       0.4365 \r\n"
     ]
    }
   ],
   "source": [
    "!head $ld_file"
   ]
  },
  {
   "cell_type": "code",
   "execution_count": 24,
   "metadata": {
    "collapsed": false
   },
   "outputs": [],
   "source": [
    "#ld_df = pd.read_csv(ld_file, delimiter='\\s+', nrows=10)\n",
    "ld_df = pd.read_csv(ld_file, delimiter='\\s+')"
   ]
  },
  {
   "cell_type": "code",
   "execution_count": 25,
   "metadata": {
    "collapsed": false
   },
   "outputs": [],
   "source": [
    "ld_df['BP_diff'] = ld_df['BP_B'] - ld_df['BP_A']"
   ]
  },
  {
   "cell_type": "code",
   "execution_count": 26,
   "metadata": {
    "collapsed": false
   },
   "outputs": [
    {
     "data": {
      "text/html": [
       "<div>\n",
       "<table border=\"1\" class=\"dataframe\">\n",
       "  <thead>\n",
       "    <tr style=\"text-align: right;\">\n",
       "      <th></th>\n",
       "      <th>CHR_A</th>\n",
       "      <th>BP_A</th>\n",
       "      <th>SNP_A</th>\n",
       "      <th>CHR_B</th>\n",
       "      <th>BP_B</th>\n",
       "      <th>SNP_B</th>\n",
       "      <th>R2</th>\n",
       "      <th>BP_diff</th>\n",
       "    </tr>\n",
       "  </thead>\n",
       "  <tbody>\n",
       "    <tr>\n",
       "      <th>0</th>\n",
       "      <td>20</td>\n",
       "      <td>60522</td>\n",
       "      <td>rs150241001</td>\n",
       "      <td>20</td>\n",
       "      <td>61279</td>\n",
       "      <td>rs189899941</td>\n",
       "      <td>0.702198</td>\n",
       "      <td>757</td>\n",
       "    </tr>\n",
       "    <tr>\n",
       "      <th>1</th>\n",
       "      <td>20</td>\n",
       "      <td>60522</td>\n",
       "      <td>rs150241001</td>\n",
       "      <td>20</td>\n",
       "      <td>67641</td>\n",
       "      <td>rs76107804</td>\n",
       "      <td>1.000000</td>\n",
       "      <td>7119</td>\n",
       "    </tr>\n",
       "    <tr>\n",
       "      <th>2</th>\n",
       "      <td>20</td>\n",
       "      <td>60522</td>\n",
       "      <td>rs150241001</td>\n",
       "      <td>20</td>\n",
       "      <td>73719</td>\n",
       "      <td>rs148228636</td>\n",
       "      <td>0.444110</td>\n",
       "      <td>13197</td>\n",
       "    </tr>\n",
       "    <tr>\n",
       "      <th>3</th>\n",
       "      <td>20</td>\n",
       "      <td>60522</td>\n",
       "      <td>rs150241001</td>\n",
       "      <td>20</td>\n",
       "      <td>98447</td>\n",
       "      <td>rs76760245</td>\n",
       "      <td>0.326092</td>\n",
       "      <td>37925</td>\n",
       "    </tr>\n",
       "    <tr>\n",
       "      <th>4</th>\n",
       "      <td>20</td>\n",
       "      <td>60828</td>\n",
       "      <td>rs187713677</td>\n",
       "      <td>20</td>\n",
       "      <td>63257</td>\n",
       "      <td>rs574916570</td>\n",
       "      <td>0.728223</td>\n",
       "      <td>2429</td>\n",
       "    </tr>\n",
       "  </tbody>\n",
       "</table>\n",
       "</div>"
      ],
      "text/plain": [
       "   CHR_A   BP_A        SNP_A  CHR_B   BP_B        SNP_B        R2  BP_diff\n",
       "0     20  60522  rs150241001     20  61279  rs189899941  0.702198      757\n",
       "1     20  60522  rs150241001     20  67641   rs76107804  1.000000     7119\n",
       "2     20  60522  rs150241001     20  73719  rs148228636  0.444110    13197\n",
       "3     20  60522  rs150241001     20  98447   rs76760245  0.326092    37925\n",
       "4     20  60828  rs187713677     20  63257  rs574916570  0.728223     2429"
      ]
     },
     "execution_count": 26,
     "metadata": {},
     "output_type": "execute_result"
    }
   ],
   "source": [
    "ld_df.head()"
   ]
  },
  {
   "cell_type": "markdown",
   "metadata": {},
   "source": [
    "# data process\n",
    "1. take pair of SNPs with >= R^2\n",
    "1. For each left SNP, take the furtherest SNPs"
   ]
  },
  {
   "cell_type": "code",
   "execution_count": 27,
   "metadata": {
    "collapsed": false
   },
   "outputs": [],
   "source": [
    "LD_block_df = ld_df[ld_df['R2'] >= 0.2].groupby(by = ['BP_A']).agg({'BP_diff' : np.max, 'R2' : np.min})"
   ]
  },
  {
   "cell_type": "code",
   "execution_count": 28,
   "metadata": {
    "collapsed": false
   },
   "outputs": [
    {
     "data": {
      "text/html": [
       "<div>\n",
       "<table border=\"1\" class=\"dataframe\">\n",
       "  <thead>\n",
       "    <tr style=\"text-align: right;\">\n",
       "      <th></th>\n",
       "      <th>BP_diff</th>\n",
       "      <th>R2</th>\n",
       "    </tr>\n",
       "    <tr>\n",
       "      <th>BP_A</th>\n",
       "      <th></th>\n",
       "      <th></th>\n",
       "    </tr>\n",
       "  </thead>\n",
       "  <tbody>\n",
       "    <tr>\n",
       "      <th>60522</th>\n",
       "      <td>37925</td>\n",
       "      <td>0.326092</td>\n",
       "    </tr>\n",
       "    <tr>\n",
       "      <th>60828</th>\n",
       "      <td>2429</td>\n",
       "      <td>0.728223</td>\n",
       "    </tr>\n",
       "    <tr>\n",
       "      <th>60895</th>\n",
       "      <td>2060</td>\n",
       "      <td>0.473622</td>\n",
       "    </tr>\n",
       "    <tr>\n",
       "      <th>61044</th>\n",
       "      <td>903</td>\n",
       "      <td>0.343703</td>\n",
       "    </tr>\n",
       "    <tr>\n",
       "      <th>61070</th>\n",
       "      <td>359</td>\n",
       "      <td>0.240020</td>\n",
       "    </tr>\n",
       "  </tbody>\n",
       "</table>\n",
       "</div>"
      ],
      "text/plain": [
       "       BP_diff        R2\n",
       "BP_A                    \n",
       "60522    37925  0.326092\n",
       "60828     2429  0.728223\n",
       "60895     2060  0.473622\n",
       "61044      903  0.343703\n",
       "61070      359  0.240020"
      ]
     },
     "execution_count": 28,
     "metadata": {},
     "output_type": "execute_result"
    }
   ],
   "source": [
    "LD_block_df.head()"
   ]
  },
  {
   "cell_type": "code",
   "execution_count": 29,
   "metadata": {
    "collapsed": false
   },
   "outputs": [],
   "source": [
    "LD_block_ndary = LD_block_df.as_matrix()"
   ]
  },
  {
   "cell_type": "code",
   "execution_count": 30,
   "metadata": {
    "collapsed": false
   },
   "outputs": [
    {
     "data": {
      "text/plain": [
       "(765313, 2)"
      ]
     },
     "execution_count": 30,
     "metadata": {},
     "output_type": "execute_result"
    }
   ],
   "source": [
    "LD_block_ndary.shape"
   ]
  },
  {
   "cell_type": "code",
   "execution_count": 31,
   "metadata": {
    "collapsed": false
   },
   "outputs": [
    {
     "data": {
      "image/png": "[encoded data removed]",
      "text/plain": [
       "<matplotlib.figure.Figure at 0x75fb390>"
      ]
     },
     "metadata": {},
     "output_type": "display_data"
    }
   ],
   "source": [
    "make_scatter(LD_block_ndary[:, 0], LD_block_ndary[:, 1],\n",
    "             title = 'LD structure on chr20 in UKBB population', \n",
    "             xlabel = 'Distance between SNPs [bp]', \n",
    "             ylabel = 'R^2',\n",
    "             filename = './LD_plot_UKBB.png')"
   ]
  },
  {
   "cell_type": "code",
   "execution_count": 37,
   "metadata": {
    "collapsed": true
   },
   "outputs": [],
   "source": [
    "max_dist = 500000"
   ]
  },
  {
   "cell_type": "code",
   "execution_count": 38,
   "metadata": {
    "collapsed": false
   },
   "outputs": [
    {
     "data": {
      "text/plain": [
       "(765303, 2)"
      ]
     },
     "execution_count": 38,
     "metadata": {},
     "output_type": "execute_result"
    }
   ],
   "source": [
    "LD_block_ndary[LD_block_ndary[:, 0] <= max_dist, :].shape"
   ]
  },
  {
   "cell_type": "code",
   "execution_count": 39,
   "metadata": {
    "collapsed": false
   },
   "outputs": [
    {
     "data": {
      "image/png": "[encoded data removed]",
      "text/plain": [
       "<matplotlib.figure.Figure at 0x43b7850>"
      ]
     },
     "metadata": {},
     "output_type": "display_data"
    }
   ],
   "source": [
    "make_scatter(LD_block_ndary[LD_block_ndary[:, 0] <= max_dist, 0], \n",
    "             LD_block_ndary[LD_block_ndary[:, 0] <= max_dist, 1],\n",
    "             title = 'LD structure on chr20 in UKBB population (with max SNPs dist = {})'.format(max_dist), \n",
    "             xlabel = 'Distance between SNPs [bp]', \n",
    "             ylabel = 'R^2',\n",
    "             filename = './LD_plot_UKBB_{}.png'.format(max_dist))"
   ]
  },
  {
   "cell_type": "markdown",
   "metadata": {},
   "source": [
    "# box plots for each axis"
   ]
  },
  {
   "cell_type": "markdown",
   "metadata": {},
   "source": [
    "## y-axis"
   ]
  },
  {
   "cell_type": "code",
   "execution_count": 40,
   "metadata": {
    "collapsed": false
   },
   "outputs": [
    {
     "data": {
      "text/plain": [
       "{'boxes': [<matplotlib.lines.Line2D at 0xa66a610>],\n",
       " 'caps': [<matplotlib.lines.Line2D at 0xa66d510>,\n",
       "  <matplotlib.lines.Line2D at 0xa66db50>],\n",
       " 'fliers': [<matplotlib.lines.Line2D at 0xa672810>],\n",
       " 'means': [],\n",
       " 'medians': [<matplotlib.lines.Line2D at 0xa6721d0>],\n",
       " 'whiskers': [<matplotlib.lines.Line2D at 0xa66a790>,\n",
       "  <matplotlib.lines.Line2D at 0xa66ae90>]}"
      ]
     },
     "execution_count": 40,
     "metadata": {},
     "output_type": "execute_result"
    },
    {
     "data": {
      "image/png": "[encoded data removed]",
      "text/plain": [
       "<matplotlib.figure.Figure at 0x43d4990>"
      ]
     },
     "metadata": {},
     "output_type": "display_data"
    }
   ],
   "source": [
    "plt.boxplot(LD_block_ndary[:, 1])"
   ]
  },
  {
   "cell_type": "markdown",
   "metadata": {},
   "source": [
    "## x-axis"
   ]
  },
  {
   "cell_type": "code",
   "execution_count": 41,
   "metadata": {
    "collapsed": false
   },
   "outputs": [
    {
     "data": {
      "text/plain": [
       "{'boxes': [<matplotlib.lines.Line2D at 0x66bc9d0>],\n",
       " 'caps': [<matplotlib.lines.Line2D at 0x311ce8d0>,\n",
       "  <matplotlib.lines.Line2D at 0x311cef10>],\n",
       " 'fliers': [<matplotlib.lines.Line2D at 0x311d1bd0>],\n",
       " 'means': [],\n",
       " 'medians': [<matplotlib.lines.Line2D at 0x311d1590>],\n",
       " 'whiskers': [<matplotlib.lines.Line2D at 0x66bcb50>,\n",
       "  <matplotlib.lines.Line2D at 0x311ce290>]}"
      ]
     },
     "execution_count": 41,
     "metadata": {},
     "output_type": "execute_result"
    },
    {
     "data": {
      "image/png": "[encoded data removed]",
      "text/plain": [
       "<matplotlib.figure.Figure at 0x31f6b590>"
      ]
     },
     "metadata": {},
     "output_type": "display_data"
    }
   ],
   "source": [
    "plt.boxplot(LD_block_ndary[:, 0])"
   ]
  },
  {
   "cell_type": "code",
   "execution_count": 42,
   "metadata": {
    "collapsed": false
   },
   "outputs": [
    {
     "data": {
      "text/plain": [
       "{'boxes': [<matplotlib.lines.Line2D at 0x31d74c50>],\n",
       " 'caps': [<matplotlib.lines.Line2D at 0x31d7c690>,\n",
       "  <matplotlib.lines.Line2D at 0xa63d050>],\n",
       " 'fliers': [<matplotlib.lines.Line2D at 0x31d93110>],\n",
       " 'means': [],\n",
       " 'medians': [<matplotlib.lines.Line2D at 0xa63de90>],\n",
       " 'whiskers': [<matplotlib.lines.Line2D at 0x31d74610>,\n",
       "  <matplotlib.lines.Line2D at 0x31d7c550>]}"
      ]
     },
     "execution_count": 42,
     "metadata": {},
     "output_type": "execute_result"
    },
    {
     "data": {
      "image/png": "[encoded data removed]",
      "text/plain": [
       "<matplotlib.figure.Figure at 0x311dc890>"
      ]
     },
     "metadata": {},
     "output_type": "display_data"
    }
   ],
   "source": [
    "plt.boxplot(LD_block_ndary[LD_block_ndary[:, 0] <= max_dist, 0])"
   ]
  },
  {
   "cell_type": "code",
   "execution_count": 43,
   "metadata": {
    "collapsed": false
   },
   "outputs": [
    {
     "name": "stderr",
     "output_type": "stream",
     "text": [
      "/home/ytanigaw/.conda/envs/pgenlib/lib/python2.7/site-packages/ipykernel/__main__.py:1: RuntimeWarning: divide by zero encountered in log\n",
      "  if __name__ == '__main__':\n"
     ]
    },
    {
     "data": {
      "text/plain": [
       "{'boxes': [<matplotlib.lines.Line2D at 0x31f6b1d0>],\n",
       " 'caps': [<matplotlib.lines.Line2D at 0x43b5cd0>,\n",
       "  <matplotlib.lines.Line2D at 0x43bf9d0>],\n",
       " 'fliers': [<matplotlib.lines.Line2D at 0x31f81990>],\n",
       " 'means': [],\n",
       " 'medians': [<matplotlib.lines.Line2D at 0x43bf2d0>],\n",
       " 'whiskers': [<matplotlib.lines.Line2D at 0x31f6bed0>,\n",
       "  <matplotlib.lines.Line2D at 0x43b54d0>]}"
      ]
     },
     "execution_count": 43,
     "metadata": {},
     "output_type": "execute_result"
    },
    {
     "data": {
      "image/png": "[encoded data removed]",
      "text/plain": [
       "<matplotlib.figure.Figure at 0x66a48d0>"
      ]
     },
     "metadata": {},
     "output_type": "display_data"
    }
   ],
   "source": [
    "plt.boxplot(np.log(LD_block_ndary[:, 0]) / np.log(10))"
   ]
  },
  {
   "cell_type": "code",
   "execution_count": 44,
   "metadata": {
    "collapsed": false
   },
   "outputs": [
    {
     "name": "stderr",
     "output_type": "stream",
     "text": [
      "/home/ytanigaw/.conda/envs/pgenlib/lib/python2.7/site-packages/ipykernel/__main__.py:1: RuntimeWarning: divide by zero encountered in log\n",
      "  if __name__ == '__main__':\n"
     ]
    },
    {
     "data": {
      "image/png": "[encoded data removed]",
      "text/plain": [
       "<matplotlib.figure.Figure at 0x31d68610>"
      ]
     },
     "metadata": {},
     "output_type": "display_data"
    }
   ],
   "source": [
    "make_scatter(np.log(LD_block_ndary[:, 0]) / np.log(10), LD_block_ndary[:, 1],\n",
    "             title = 'LD structure on chr20 in UKBB population', \n",
    "             xlabel = 'Distance between SNPs [bp] (log scale)', \n",
    "             ylabel = 'R^2',\n",
    "             filename = './LD_plot_UKBB_log.png')"
   ]
  },
  {
   "cell_type": "code",
   "execution_count": null,
   "metadata": {
    "collapsed": true
   },
   "outputs": [],
   "source": []
  }
 ],
 "metadata": {
  "anaconda-cloud": {},
  "kernelspec": {
   "display_name": "Python [conda env:pgenlib]",
   "language": "python",
   "name": "conda-env-pgenlib-py"
  },
  "language_info": {
   "codemirror_mode": {
    "name": "ipython",
    "version": 2
   },
   "file_extension": ".py",
   "mimetype": "text/x-python",
   "name": "python",
   "nbconvert_exporter": "python",
   "pygments_lexer": "ipython2",
   "version": "2.7.5"
  }
 },
 "nbformat": 4,
 "nbformat_minor": 1
}
