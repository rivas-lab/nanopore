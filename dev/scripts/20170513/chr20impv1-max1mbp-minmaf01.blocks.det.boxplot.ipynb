{
 "cells": [
  {
   "cell_type": "code",
   "execution_count": 1,
   "metadata": {
    "collapsed": true
   },
   "outputs": [],
   "source": [
    "%matplotlib inline"
   ]
  },
  {
   "cell_type": "code",
   "execution_count": 2,
   "metadata": {
    "collapsed": false
   },
   "outputs": [
    {
     "name": "stderr",
     "output_type": "stream",
     "text": [
      "/home/ytanigaw/.conda/envs/pgenlib/lib/python2.7/site-packages/matplotlib/__init__.py:1401: UserWarning:  This call to matplotlib.use() has no effect\n",
      "because the backend has already been chosen;\n",
      "matplotlib.use() must be called *before* pylab, matplotlib.pyplot,\n",
      "or matplotlib.backends is imported for the first time.\n",
      "\n",
      "  warnings.warn(_use_error_msg)\n"
     ]
    }
   ],
   "source": [
    "import numpy as np\n",
    "import scipy as sc\n",
    "import pandas as pd\n",
    "import itertools as it\n",
    "import collections\n",
    "import matplotlib\n",
    "matplotlib.use('agg')\n",
    "from matplotlib import pyplot as plt"
   ]
  },
  {
   "cell_type": "markdown",
   "metadata": {},
   "source": [
    "# This note describes the results for condition (2) in the following four sets of experiments\n",
    "1. NO `--keep` `--blocks-max-kb 1000` `--blocks-min-maf .001`\n",
    "  - https://github.com/rivas-lab/nanopore/blob/master/dev/scripts/20170513/chr20impv1-max1mbp-minmaf001.blocks.det.boxplot.ipynb\n",
    "  - ‘/share/PI/mrivas/ukbb/download/chr20impv1-max1mbp-minmaf001.blocks.det’\n",
    "  - median=490.0\n",
    "2. `--keep` `--blocks-max-kb 1000` `--blocks-min-maf .01`\n",
    "  - https://github.com/rivas-lab/nanopore/blob/master/dev/scripts/20170513/chr20impv1-max1mbp-minmaf01.blocks.det.boxplot.ipynb\n",
    "  - ‘/share/PI/mrivas/ukbb/download/chr20impv1-max1mbp-minmaf01.blocks.det’\n",
    "  - median=1128.0\n",
    "3. `--keep` `--blocks-max-kb 10000` `--blocks-min-maf .001`\n",
    "  - https://github.com/rivas-lab/nanopore/blob/master/dev/scripts/20170513/chr20impv1-max10mbp-minmaf001.blocks.det.boxplot.ipynb\n",
    "  - ‘/share/PI/mrivas/ukbb/download/chr20impv1-max10mbp-minmaf001.blocks.det’\n",
    "  - median=802.0\n",
    "4. `--keep` `--blocks-max-kb 1000` `--blocks-min-maf .05`\n",
    "  - https://github.com/rivas-lab/nanopore/blob/master/dev/scripts/20170513/chr20impv1-max1mbp-minmaf05.blocks.det.boxplot.ipynb\n",
    "  - ‘/share/PI/mrivas/ukbb/download/chr20impv1-max1mbp-minmaf05.blocks.det’\n",
    "  - median=1185.5"
   ]
  },
  {
   "cell_type": "markdown",
   "metadata": {},
   "source": [
    "# LD block on chr20 in UKBB population\n",
    "- LD block structure is computed with plink1.9 `--blocks` option\n",
    "\n",
    "```\n",
    "[ytanigaw@sh-102-07 ~]$ /share/PI/mrivas/bin/plink --bfile /share/PI/mrivas/ukbb/download/chr20impv1 --keep /share/PI/mrivas/data/ukbb/phefiles/initialdata/1389.phe --memory 40000 --blocks-min-maf .01 --out /share/PI/mrivas/ukbb/download/chr20impv1-max1mbp-minmaf01 --blocks-max-kb 1000 --blocks no-pheno-req\n",
    "PLINK v1.90b3.45 64-bit (13 Jan 2017)      https://www.cog-genomics.org/plink2\n",
    "(C) 2005-2017 Shaun Purcell, Christopher Chang   GNU General Public License v3\n",
    "Logging to /share/PI/mrivas/ukbb/download/chr20impv1-max1mbp-minmaf01.log.\n",
    "Options in effect:\n",
    "  --bfile /share/PI/mrivas/ukbb/download/chr20impv1\n",
    "  --blocks no-pheno-req\n",
    "  --blocks-max-kb 1000\n",
    "  --blocks-min-maf .01\n",
    "  --keep /share/PI/mrivas/data/ukbb/phefiles/initialdata/1389.phe\n",
    "  --memory 40000\n",
    "  --out /share/PI/mrivas/ukbb/download/chr20impv1-max1mbp-minmaf01\n",
    "\n",
    "257674 MB RAM detected; reserving 40000 MB for main workspace.\n",
    "1619597 variants loaded from .bim file.\n",
    "152249 people (0 males, 0 females, 152249 ambiguous) loaded from .fam.\n",
    "Ambiguous sex IDs written to\n",
    "/share/PI/mrivas/ukbb/download/chr20impv1-max1mbp-minmaf01.nosex .\n",
    "--keep: 112338 people remaining.\n",
    "Using 1 thread (no multithreaded calculations invoked).\n",
    "Before main variant filters, 112338 founders and 0 nonfounders present.\n",
    "Calculating allele frequencies... done.\n",
    "Total genotyping rate in remaining samples is 0.995695.\n",
    "1619597 variants and 112338 people pass filters and QC.\n",
    "Note: No phenotypes present.\n",
    "--blocks: 13789 haploblocks written to\n",
    "/share/PI/mrivas/ukbb/download/chr20impv1-max1mbp-minmaf01.blocks .\n",
    "Extra block details written to\n",
    "/share/PI/mrivas/ukbb/download/chr20impv1-max1mbp-minmaf01.blocks.det .\n",
    "Longest span: 292.201kb.\n",
    "```"
   ]
  },
  {
   "cell_type": "code",
   "execution_count": 3,
   "metadata": {
    "collapsed": true
   },
   "outputs": [],
   "source": [
    "block_det = '/share/PI/mrivas/ukbb/download/chr20impv1-max1mbp-minmaf01.blocks.det'"
   ]
  },
  {
   "cell_type": "code",
   "execution_count": 4,
   "metadata": {
    "collapsed": true
   },
   "outputs": [],
   "source": [
    "block = pd.read_table(block_det, delimiter='\\s+')"
   ]
  },
  {
   "cell_type": "code",
   "execution_count": 5,
   "metadata": {
    "collapsed": false
   },
   "outputs": [
    {
     "data": {
      "text/html": [
       "<div>\n",
       "<table border=\"1\" class=\"dataframe\">\n",
       "  <thead>\n",
       "    <tr style=\"text-align: right;\">\n",
       "      <th></th>\n",
       "      <th>CHR</th>\n",
       "      <th>BP1</th>\n",
       "      <th>BP2</th>\n",
       "      <th>KB</th>\n",
       "      <th>NSNPS</th>\n",
       "      <th>SNPS</th>\n",
       "    </tr>\n",
       "  </thead>\n",
       "  <tbody>\n",
       "    <tr>\n",
       "      <th>0</th>\n",
       "      <td>20</td>\n",
       "      <td>61270</td>\n",
       "      <td>66370</td>\n",
       "      <td>5.101</td>\n",
       "      <td>11</td>\n",
       "      <td>rs143291093|rs4814683|rs34147676|rs6076506|rs6...</td>\n",
       "    </tr>\n",
       "    <tr>\n",
       "      <th>1</th>\n",
       "      <td>20</td>\n",
       "      <td>69408</td>\n",
       "      <td>81982</td>\n",
       "      <td>12.575</td>\n",
       "      <td>27</td>\n",
       "      <td>rs17685809|rs11477748|rs149559312|rs60263736|r...</td>\n",
       "    </tr>\n",
       "    <tr>\n",
       "      <th>2</th>\n",
       "      <td>20</td>\n",
       "      <td>82079</td>\n",
       "      <td>82139</td>\n",
       "      <td>0.061</td>\n",
       "      <td>2</td>\n",
       "      <td>rs34120808|rs1836444</td>\n",
       "    </tr>\n",
       "    <tr>\n",
       "      <th>3</th>\n",
       "      <td>20</td>\n",
       "      <td>82209</td>\n",
       "      <td>83196</td>\n",
       "      <td>0.988</td>\n",
       "      <td>8</td>\n",
       "      <td>rs147842001|rs6036082|rs117829729|rs1836442|rs...</td>\n",
       "    </tr>\n",
       "    <tr>\n",
       "      <th>4</th>\n",
       "      <td>20</td>\n",
       "      <td>85116</td>\n",
       "      <td>90814</td>\n",
       "      <td>5.699</td>\n",
       "      <td>11</td>\n",
       "      <td>rs7268260|rs73611773|rs34383360|rs35933805|rs1...</td>\n",
       "    </tr>\n",
       "  </tbody>\n",
       "</table>\n",
       "</div>"
      ],
      "text/plain": [
       "   CHR    BP1    BP2      KB  NSNPS  \\\n",
       "0   20  61270  66370   5.101     11   \n",
       "1   20  69408  81982  12.575     27   \n",
       "2   20  82079  82139   0.061      2   \n",
       "3   20  82209  83196   0.988      8   \n",
       "4   20  85116  90814   5.699     11   \n",
       "\n",
       "                                                SNPS  \n",
       "0  rs143291093|rs4814683|rs34147676|rs6076506|rs6...  \n",
       "1  rs17685809|rs11477748|rs149559312|rs60263736|r...  \n",
       "2                               rs34120808|rs1836444  \n",
       "3  rs147842001|rs6036082|rs117829729|rs1836442|rs...  \n",
       "4  rs7268260|rs73611773|rs34383360|rs35933805|rs1...  "
      ]
     },
     "execution_count": 5,
     "metadata": {},
     "output_type": "execute_result"
    }
   ],
   "source": [
    "block.head()"
   ]
  },
  {
   "cell_type": "markdown",
   "metadata": {},
   "source": [
    "## box plot"
   ]
  },
  {
   "cell_type": "code",
   "execution_count": 6,
   "metadata": {
    "collapsed": false
   },
   "outputs": [
    {
     "data": {
      "image/png": "[encoded data removed]",
      "text/plain": [
       "<matplotlib.figure.Figure at 0x52a8a50>"
      ]
     },
     "metadata": {},
     "output_type": "display_data"
    }
   ],
   "source": [
    "fig = plt.figure(figsize=(8,6))\n",
    "axs = [fig.add_subplot(1, 2, i+1) for i in range(2)]\n",
    "axs[0].set_title('Number of SNPs in LD block')\n",
    "axs[0].boxplot(block['NSNPS'])\n",
    "axs[1].set_title('Size of LD block')\n",
    "axs[1].boxplot(block['BP2'] - block['BP1'])\n",
    "fig.savefig('chr20impv1-max1mbp-minmaf01.blocks.det.boxplot.png')"
   ]
  },
  {
   "cell_type": "markdown",
   "metadata": {},
   "source": [
    "## box plot (log10 scale)"
   ]
  },
  {
   "cell_type": "code",
   "execution_count": 7,
   "metadata": {
    "collapsed": false
   },
   "outputs": [
    {
     "name": "stderr",
     "output_type": "stream",
     "text": [
      "/home/ytanigaw/.conda/envs/pgenlib/lib/python2.7/site-packages/ipykernel/__main__.py:6: RuntimeWarning: divide by zero encountered in log\n"
     ]
    },
    {
     "data": {
      "image/png": "[encoded data removed]",
      "text/plain": [
       "<matplotlib.figure.Figure at 0x52b0f50>"
      ]
     },
     "metadata": {},
     "output_type": "display_data"
    }
   ],
   "source": [
    "fig_log = plt.figure(figsize=(8,6))\n",
    "axs_log = [fig_log.add_subplot(1, 2, i+1) for i in range(2)]\n",
    "axs_log[0].set_title('# of SNPs in LD block (log10)')\n",
    "axs_log[0].boxplot(np.log(block['NSNPS']) / np.log(10))\n",
    "axs_log[1].set_title('Size of LD block (log10)')\n",
    "axs_log[1].boxplot(np.log(block['BP2'] - block['BP1']) / np.log(10))\n",
    "fig_log.savefig('chr20impv1-max1mbp-minmaf01.blocks.det.boxplot_log.png')"
   ]
  },
  {
   "cell_type": "markdown",
   "metadata": {},
   "source": [
    "## Note: maf >= .01 filter and population stratification\n",
    "- We have used `.001` as a cutoff for minor allele frequency. This filter reduced the number of SNP marks from 1.6 M to 300 K\n",
    "- We are focusing on 112338 people"
   ]
  },
  {
   "cell_type": "code",
   "execution_count": 8,
   "metadata": {
    "collapsed": false
   },
   "outputs": [
    {
     "name": "stdout",
     "output_type": "stream",
     "text": [
      "1619597 /share/PI/mrivas/ukbb/download/chr20impv1.bim\r\n"
     ]
    }
   ],
   "source": [
    "!wc -l /share/PI/mrivas/ukbb/download/chr20impv1.bim"
   ]
  },
  {
   "cell_type": "code",
   "execution_count": 9,
   "metadata": {
    "collapsed": false
   },
   "outputs": [
    {
     "data": {
      "text/plain": [
       "197997"
      ]
     },
     "execution_count": 9,
     "metadata": {},
     "output_type": "execute_result"
    }
   ],
   "source": [
    "np.sum(block['NSNPS'])"
   ]
  },
  {
   "cell_type": "code",
   "execution_count": 10,
   "metadata": {
    "collapsed": false
   },
   "outputs": [
    {
     "name": "stdout",
     "output_type": "stream",
     "text": [
      "1128.0\n",
      "3846.09348031\n",
      "5.0\n",
      "14.3590543187\n"
     ]
    }
   ],
   "source": [
    "print np.median(block['BP2'] - block['BP1'])\n",
    "print np.mean(block['BP2'] - block['BP1'])\n",
    "print np.median(block['NSNPS'])\n",
    "print np.mean(block['NSNPS'])"
   ]
  },
  {
   "cell_type": "code",
   "execution_count": null,
   "metadata": {
    "collapsed": true
   },
   "outputs": [],
   "source": []
  }
 ],
 "metadata": {
  "anaconda-cloud": {},
  "kernelspec": {
   "display_name": "Python [conda env:pgenlib]",
   "language": "python",
   "name": "conda-env-pgenlib-py"
  },
  "language_info": {
   "codemirror_mode": {
    "name": "ipython",
    "version": 2
   },
   "file_extension": ".py",
   "mimetype": "text/x-python",
   "name": "python",
   "nbconvert_exporter": "python",
   "pygments_lexer": "ipython2",
   "version": "2.7.5"
  }
 },
 "nbformat": 4,
 "nbformat_minor": 1
}
