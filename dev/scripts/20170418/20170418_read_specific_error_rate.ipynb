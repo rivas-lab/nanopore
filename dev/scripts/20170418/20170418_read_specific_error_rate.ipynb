{
 "cells": [
  {
   "cell_type": "code",
   "execution_count": 3,
   "metadata": {
    "collapsed": true
   },
   "outputs": [],
   "source": [
    "%matplotlib inline"
   ]
  },
  {
   "cell_type": "code",
   "execution_count": 25,
   "metadata": {
    "collapsed": false
   },
   "outputs": [
    {
     "name": "stderr",
     "output_type": "stream",
     "text": [
      "/home/ytanigaw/.conda/envs/pgenlib/lib/python2.7/site-packages/matplotlib/__init__.py:1401: UserWarning:  This call to matplotlib.use() has no effect\n",
      "because the backend has already been chosen;\n",
      "matplotlib.use() must be called *before* pylab, matplotlib.pyplot,\n",
      "or matplotlib.backends is imported for the first time.\n",
      "\n",
      "  warnings.warn(_use_error_msg)\n"
     ]
    }
   ],
   "source": [
    "import numpy as np\n",
    "import matplotlib\n",
    "matplotlib.use('agg')\n",
    "from matplotlib import pyplot as plt"
   ]
  },
  {
   "cell_type": "code",
   "execution_count": 38,
   "metadata": {
    "collapsed": true
   },
   "outputs": [],
   "source": [
    "def make_scatter(x, y, title = None, xlabel = None, ylabel = None, filename = None):\n",
    "    '''\n",
    "    This function generates scatter plot of a pair of vectors x and y, and save to file\n",
    "    Inputs:\n",
    "      x, y: data vectors\n",
    "      title:    title of the plot\n",
    "      xlabel:   label on x-axis\n",
    "      ylabel:   label on y-axis\n",
    "      filename: name of the image file (if given, save to file)\n",
    "    Side effect:\n",
    "      save an image file if filename is given\n",
    "    '''\n",
    "    \n",
    "    import matplotlib\n",
    "    matplotlib.use('agg')\n",
    "    from matplotlib import pyplot as plt\n",
    "    \n",
    "    fig = plt.figure(figsize=(8,6))\n",
    "    ax = fig.add_subplot(1, 1, 1)\n",
    "    ax.scatter(x, y)\n",
    "    \n",
    "    if(xlabel != None):\n",
    "        ax.set_xlabel(xlabel)\n",
    "    if(ylabel != None):\n",
    "        ax.set_ylabel(ylabel)\n",
    "    if(title != None):\n",
    "        ax.set_title(title)\n",
    "    if(filename != None):\n",
    "        fig.savefig(filename)    "
   ]
  },
  {
   "cell_type": "markdown",
   "metadata": {},
   "source": [
    "# extract error rate info from summary stats file (hap file)"
   ]
  },
  {
   "cell_type": "code",
   "execution_count": 9,
   "metadata": {
    "collapsed": false
   },
   "outputs": [
    {
     "name": "stdout",
     "output_type": "stream",
     "text": [
      "/local-scratch/ytanigaw/33173/tmp.N2ePtuYnvF\r\n"
     ]
    }
   ],
   "source": [
    "!mktemp -d"
   ]
  },
  {
   "cell_type": "code",
   "execution_count": 17,
   "metadata": {
    "collapsed": true
   },
   "outputs": [],
   "source": [
    "hap_file='/share/PI/mrivas/data/nanopore-wgs-consortium/rel3/hg19/chr20/rel3.chr20.12500.10k.hap'"
   ]
  },
  {
   "cell_type": "code",
   "execution_count": 23,
   "metadata": {
    "collapsed": false
   },
   "outputs": [],
   "source": [
    "!cat /share/PI/mrivas/data/nanopore-wgs-consortium/rel3/hg19/chr20/rel3.chr20.12500.10k.hap \\\n",
    "  | awk -v OFS=',' '{print $3-$2, $6}' \\\n",
    "  > /local-scratch/ytanigaw/33173/tmp.N2ePtuYnvF/error.stats"
   ]
  },
  {
   "cell_type": "code",
   "execution_count": 24,
   "metadata": {
    "collapsed": false
   },
   "outputs": [
    {
     "name": "stdout",
     "output_type": "stream",
     "text": [
      "5197,1.480541e-03\r\n",
      "14664,7.555723e-04\r\n",
      "6704,8.315317e-04\r\n",
      "10801,1.924830e-03\r\n",
      "5640,5.968961e-04\r\n",
      "8575,1.676987e-03\r\n",
      "54839,2.771973e-04\r\n",
      "12882,9.329941e-04\r\n",
      "10334,9.874918e-04\r\n",
      "3825,1.414827e-03\r\n"
     ]
    }
   ],
   "source": [
    "!head /local-scratch/ytanigaw/33173/tmp.N2ePtuYnvF/error.stats"
   ]
  },
  {
   "cell_type": "markdown",
   "metadata": {},
   "source": [
    "- 1st column: length of the read\n",
    "- 2nd column: read specific error rate"
   ]
  },
  {
   "cell_type": "code",
   "execution_count": 30,
   "metadata": {
    "collapsed": false
   },
   "outputs": [],
   "source": [
    "tbl = np.loadtxt('/local-scratch/ytanigaw/33173/tmp.N2ePtuYnvF/error.stats', delimiter= ',')"
   ]
  },
  {
   "cell_type": "code",
   "execution_count": 33,
   "metadata": {
    "collapsed": false
   },
   "outputs": [
    {
     "data": {
      "text/plain": [
       "array([[  5.19700000e+03,   1.48054100e-03],\n",
       "       [  1.46640000e+04,   7.55572300e-04],\n",
       "       [  6.70400000e+03,   8.31531700e-04],\n",
       "       ..., \n",
       "       [  1.40040000e+04,   8.81127800e-04],\n",
       "       [  9.23400000e+03,   1.86451200e-03],\n",
       "       [  4.30200000e+03,   5.50660800e-04]])"
      ]
     },
     "execution_count": 33,
     "metadata": {},
     "output_type": "execute_result"
    }
   ],
   "source": [
    "tbl"
   ]
  },
  {
   "cell_type": "code",
   "execution_count": 41,
   "metadata": {
    "collapsed": false
   },
   "outputs": [
    {
     "data": {
      "image/png": "[encoded data removed]",
      "text/plain": [
       "<matplotlib.figure.Figure at 0x3a7d810>"
      ]
     },
     "metadata": {},
     "output_type": "display_data"
    }
   ],
   "source": [
    "make_scatter(tbl[:, 0], tbl[:, 1], title='read specific error rate for nanopore-consortium rel3 data (chr20)', \n",
    "            xlabel = 'mapped fragment length', ylabel = 'non polymorphic site mismatch rate', \n",
    "            filename = './rel3.chr20.12500.10k.hap.errorrate.png')"
   ]
  },
  {
   "cell_type": "code",
   "execution_count": 44,
   "metadata": {
    "collapsed": false
   },
   "outputs": [
    {
     "data": {
      "text/plain": [
       "25257"
      ]
     },
     "execution_count": 44,
     "metadata": {},
     "output_type": "execute_result"
    }
   ],
   "source": [
    "np.sum(tbl[:, 1] < 0.001)"
   ]
  },
  {
   "cell_type": "code",
   "execution_count": 45,
   "metadata": {
    "collapsed": false
   },
   "outputs": [
    {
     "data": {
      "text/plain": [
       "(33577, 2)"
      ]
     },
     "execution_count": 45,
     "metadata": {},
     "output_type": "execute_result"
    }
   ],
   "source": [
    "tbl.shape"
   ]
  },
  {
   "cell_type": "markdown",
   "metadata": {},
   "source": [
    "This means # of reads : 33577, of which 25257 have read specific error rate < 0.001"
   ]
  },
  {
   "cell_type": "markdown",
   "metadata": {},
   "source": [
    "# how about # of SNPs on read vs. read specific error rate?"
   ]
  },
  {
   "cell_type": "code",
   "execution_count": 49,
   "metadata": {
    "collapsed": true
   },
   "outputs": [],
   "source": [
    "!cat /share/PI/mrivas/data/nanopore-wgs-consortium/rel3/hg19/chr20/rel3.chr20.12500.10k.hap \\\n",
    "  | awk -v OFS=',' '{print $8-$7, $6}' \\\n",
    "  > /local-scratch/ytanigaw/33173/tmp.N2ePtuYnvF/error2.stats"
   ]
  },
  {
   "cell_type": "code",
   "execution_count": 50,
   "metadata": {
    "collapsed": false
   },
   "outputs": [
    {
     "name": "stdout",
     "output_type": "stream",
     "text": [
      "134,1.480541e-03\r\n",
      "371,7.555723e-04\r\n",
      "163,8.315317e-04\r\n",
      "269,1.924830e-03\r\n",
      "147,5.968961e-04\r\n",
      "222,1.676987e-03\r\n",
      "1413,2.771973e-04\r\n",
      "327,9.329941e-04\r\n",
      "263,9.874918e-04\r\n",
      "95,1.414827e-03\r\n"
     ]
    }
   ],
   "source": [
    "!head /local-scratch/ytanigaw/33173/tmp.N2ePtuYnvF/error2.stats"
   ]
  },
  {
   "cell_type": "code",
   "execution_count": 51,
   "metadata": {
    "collapsed": true
   },
   "outputs": [],
   "source": [
    "tbl2 = np.loadtxt('/local-scratch/ytanigaw/33173/tmp.N2ePtuYnvF/error2.stats', delimiter= ',')"
   ]
  },
  {
   "cell_type": "code",
   "execution_count": 52,
   "metadata": {
    "collapsed": false
   },
   "outputs": [
    {
     "data": {
      "text/plain": [
       "array([[  1.34000000e+02,   1.48054100e-03],\n",
       "       [  3.71000000e+02,   7.55572300e-04],\n",
       "       [  1.63000000e+02,   8.31531700e-04],\n",
       "       ..., \n",
       "       [  3.08000000e+02,   8.81127800e-04],\n",
       "       [  1.86000000e+02,   1.86451200e-03],\n",
       "       [  7.80000000e+01,   5.50660800e-04]])"
      ]
     },
     "execution_count": 52,
     "metadata": {},
     "output_type": "execute_result"
    }
   ],
   "source": [
    "tbl2"
   ]
  },
  {
   "cell_type": "code",
   "execution_count": 55,
   "metadata": {
    "collapsed": false
   },
   "outputs": [
    {
     "data": {
      "image/png": "[encoded data removed]",
      "text/plain": [
       "<matplotlib.figure.Figure at 0x3ab7d10>"
      ]
     },
     "metadata": {},
     "output_type": "display_data"
    }
   ],
   "source": [
    "make_scatter(tbl2[:, 0], tbl2[:, 1], title='read specific error rate for nanopore-consortium rel3 data (chr20)', \n",
    "            xlabel = '# of SNPs covered by read',\n",
    "             ylabel = 'non polymorphic site mismatch rate', \n",
    "            filename = './rel3.chr20.12500.10k.hap.errorrate2.png')"
   ]
  },
  {
   "cell_type": "code",
   "execution_count": 59,
   "metadata": {
    "collapsed": false
   },
   "outputs": [
    {
     "data": {
      "text/plain": [
       "[5822.0,\n",
       " 5784.0,\n",
       " 5536.0,\n",
       " 4716.0,\n",
       " 4357.0,\n",
       " 4194.0,\n",
       " 4128.0,\n",
       " 4106.0,\n",
       " 4041.0,\n",
       " 4023.0,\n",
       " 3934.0,\n",
       " 3862.0,\n",
       " 3711.0,\n",
       " 3577.0,\n",
       " 3551.0,\n",
       " 3528.0,\n",
       " 3505.0,\n",
       " 3419.0,\n",
       " 3374.0,\n",
       " 3336.0,\n",
       " 3306.0,\n",
       " 3292.0,\n",
       " 3264.0,\n",
       " 3242.0,\n",
       " 3220.0,\n",
       " 3090.0,\n",
       " 3064.0,\n",
       " 3006.0,\n",
       " 3000.0,\n",
       " 2988.0]"
      ]
     },
     "execution_count": 59,
     "metadata": {},
     "output_type": "execute_result"
    }
   ],
   "source": [
    "sorted(tbl2[:,0], reverse=True)[:30]"
   ]
  },
  {
   "cell_type": "code",
   "execution_count": null,
   "metadata": {
    "collapsed": true
   },
   "outputs": [],
   "source": []
  }
 ],
 "metadata": {
  "anaconda-cloud": {},
  "kernelspec": {
   "display_name": "Python [conda env:pgenlib]",
   "language": "python",
   "name": "conda-env-pgenlib-py"
  },
  "language_info": {
   "codemirror_mode": {
    "name": "ipython",
    "version": 2
   },
   "file_extension": ".py",
   "mimetype": "text/x-python",
   "name": "python",
   "nbconvert_exporter": "python",
   "pygments_lexer": "ipython2",
   "version": "2.7.5"
  }
 },
 "nbformat": 4,
 "nbformat_minor": 1
}
