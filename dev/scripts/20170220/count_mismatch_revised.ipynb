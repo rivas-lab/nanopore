{
 "cells": [
  {
   "cell_type": "code",
   "execution_count": 1,
   "metadata": {
    "collapsed": true
   },
   "outputs": [],
   "source": [
    "import numpy as np\n",
    "import scipy as sc\n",
    "import pandas as pd\n",
    "import itertools as it\n",
    "import subprocess as sp\n",
    "import logging\n",
    "import sys\n",
    "import re\n",
    "import collections\n",
    "import enum\n",
    "import json\n",
    "import pysam\n",
    "import pgenlib as pg"
   ]
  },
  {
   "cell_type": "markdown",
   "metadata": {},
   "source": [
    "## data type to represent nucleotide and mismatch"
   ]
  },
  {
   "cell_type": "code",
   "execution_count": 2,
   "metadata": {
    "collapsed": true
   },
   "outputs": [],
   "source": [
    "@enum.unique\n",
    "class Nucleotide(enum.Enum):\n",
    "    N = -1\n",
    "    A = 0\n",
    "    C = 1\n",
    "    G = 2\n",
    "    T = 3\n",
    "    \n",
    "Mismatch = collections.namedtuple('Mismatch', 'reference_position reference read quality')    "
   ]
  },
  {
   "cell_type": "markdown",
   "metadata": {
    "collapsed": false
   },
   "source": [
    "### specify data file and reference file"
   ]
  },
  {
   "cell_type": "code",
   "execution_count": 3,
   "metadata": {
    "collapsed": false
   },
   "outputs": [],
   "source": [
    "bam_file_name = '/share/PI/mrivas/data/nanopore-wgs-consortium/poretools_fastq.12894489.geq12500.bam'\n",
    "fasta_file_name = '/share/PI/mrivas/data/hg19/chr20.fa'"
   ]
  },
  {
   "cell_type": "markdown",
   "metadata": {},
   "source": [
    "### read with pysam"
   ]
  },
  {
   "cell_type": "code",
   "execution_count": 4,
   "metadata": {
    "collapsed": false
   },
   "outputs": [],
   "source": [
    "bamfile = pysam.AlignmentFile(filename = bam_file_name, \n",
    "                              mode = 'rb')\n",
    "reference = pysam.FastaFile(fasta_file_name)"
   ]
  },
  {
   "cell_type": "markdown",
   "metadata": {},
   "source": [
    "## class file"
   ]
  },
  {
   "cell_type": "code",
   "execution_count": 5,
   "metadata": {
    "collapsed": true
   },
   "outputs": [],
   "source": [
    "class read:\n",
    "    '''class to manage mapped read    \n",
    "    '''\n",
    "    def __init__(self, aligned_segment, reference):\n",
    "        # This copy will be removed\n",
    "        self.aligned_segment = aligned_segment\n",
    "        \n",
    "        # find all mismatches\n",
    "        self.find_mismatches(aligned_segment, reference)\n",
    "        \n",
    "        # copy useful info\n",
    "        self.query_name      = aligned_segment.query_name     \n",
    "        self.reference_name  = aligned_segment.reference_name\n",
    "        self.reference_start = aligned_segment.reference_start\n",
    "        self.reference_end   = aligned_segment.reference_end\n",
    "        self.length          = aligned_segment.reference_length\n",
    "\n",
    "\n",
    "    def get_mismatches(self, quality_threshod = 14):\n",
    "        return([i for i in self.mismatches \n",
    "                if i.quality >= quality_threshod and\n",
    "                   i.reference is not Nucleotide['N']])\n",
    "\n",
    "    def n_mismatch(self, quality_threshod = 14):\n",
    "        return(len(self.get_mismatches(quality_threshod)))\n",
    "    \n",
    "    def n_match(self, quality_threshod = 14):\n",
    "        return(self.length - self.n_mismatch(quality_threshod))\n",
    "    \n",
    "        \n",
    "    def find_mismatches(self, aligned_segment, reference):\n",
    "        '''find all mismatches\n",
    "        [args]\n",
    "        pysam.AlignedSegment aligned_segment: mapped fragment\n",
    "        pysam.FastxFile      reference:       reference sequence\n",
    "        '''\n",
    "        aligned_pairs = np.array(aligned_segment.get_aligned_pairs(matches_only=True, with_seq=True))\n",
    "        \n",
    "        # fetch corresponding reference sequence\n",
    "        reference_str = reference.fetch(reference = aligned_segment.reference_name,\n",
    "                                        start     = aligned_segment.reference_start, \n",
    "                                        end       = aligned_segment.reference_end).upper()\n",
    "        \n",
    "        # obtain nucleotide letters on both read and reference\n",
    "        read_letters = np.array([aligned_segment.query_sequence[int(read_position)].upper()\n",
    "                                 for read_position in aligned_pairs[:, 0]])\n",
    "        ref_letters  = np.array([reference_str[int(ref_position) - \n",
    "                                               aligned_segment.reference_start] \n",
    "                                 for ref_position in aligned_pairs[:, 1]])\n",
    "\n",
    "        # enumerate all the mismatches by comparing nucleotide letters\n",
    "        self.mismatches = [Mismatch(reference_position = \\\n",
    "                                      int(aligned_pairs[mismatch_pos_on_pairs][1]),\n",
    "                                    reference = \\\n",
    "                                      Nucleotide[ref_letters[mismatch_pos_on_pairs]],\n",
    "                                    read      = \\\n",
    "                                      Nucleotide[read_letters[mismatch_pos_on_pairs]],\n",
    "                                    quality   = \\\n",
    "                                      aligned_segment.query_qualities[int(aligned_pairs[mismatch_pos_on_pairs][0])])\n",
    "                           for mismatch_pos_on_pairs \n",
    "                           in np.where(read_letters != ref_letters)[0]]\n",
    "\n",
    "    def __str__(self):\n",
    "        return('\\t'.join(['{}:{}-{}'.format(self.reference_name, \n",
    "                                            self.reference_start,\n",
    "                                            self.reference_end),\n",
    "                          str(self.n_match()),\n",
    "                          str(self.n_mismatch()),\n",
    "                          self.query_name]))"
   ]
  },
  {
   "cell_type": "code",
   "execution_count": null,
   "metadata": {
    "collapsed": true
   },
   "outputs": [],
   "source": []
  },
  {
   "cell_type": "markdown",
   "metadata": {},
   "source": [
    "# test the behavior of the code"
   ]
  },
  {
   "cell_type": "code",
   "execution_count": 6,
   "metadata": {
    "collapsed": false
   },
   "outputs": [],
   "source": [
    "aligned_segment = bamfile.next()"
   ]
  },
  {
   "cell_type": "code",
   "execution_count": 7,
   "metadata": {
    "collapsed": false
   },
   "outputs": [],
   "source": [
    "r = read(aligned_segment, reference)"
   ]
  },
  {
   "cell_type": "code",
   "execution_count": 8,
   "metadata": {
    "collapsed": false
   },
   "outputs": [
    {
     "name": "stdout",
     "output_type": "stream",
     "text": [
      "chr20:59980-65177\t5190\t7\t33ecb953-edd6-445b-87da-85c4551d8c8c_Basecall_Alignment_template\n"
     ]
    }
   ],
   "source": [
    "print(r)"
   ]
  },
  {
   "cell_type": "markdown",
   "metadata": {},
   "source": [
    "### this object holds all the mismatches "
   ]
  },
  {
   "cell_type": "code",
   "execution_count": 9,
   "metadata": {
    "collapsed": false
   },
   "outputs": [
    {
     "data": {
      "text/plain": [
       "[Mismatch(reference_position=59980, reference=<Nucleotide.N: -1>, read=<Nucleotide.C: 1>, quality=3),\n",
       " Mismatch(reference_position=59981, reference=<Nucleotide.N: -1>, read=<Nucleotide.G: 2>, quality=4),\n",
       " Mismatch(reference_position=59982, reference=<Nucleotide.N: -1>, read=<Nucleotide.G: 2>, quality=4),\n",
       " Mismatch(reference_position=59983, reference=<Nucleotide.N: -1>, read=<Nucleotide.A: 0>, quality=4),\n",
       " Mismatch(reference_position=59984, reference=<Nucleotide.N: -1>, read=<Nucleotide.T: 3>, quality=14),\n",
       " Mismatch(reference_position=59987, reference=<Nucleotide.N: -1>, read=<Nucleotide.T: 3>, quality=17),\n",
       " Mismatch(reference_position=59988, reference=<Nucleotide.N: -1>, read=<Nucleotide.A: 0>, quality=15),\n",
       " Mismatch(reference_position=59989, reference=<Nucleotide.N: -1>, read=<Nucleotide.A: 0>, quality=15),\n",
       " Mismatch(reference_position=59990, reference=<Nucleotide.N: -1>, read=<Nucleotide.T: 3>, quality=6),\n",
       " Mismatch(reference_position=59991, reference=<Nucleotide.N: -1>, read=<Nucleotide.A: 0>, quality=7)]"
      ]
     },
     "execution_count": 9,
     "metadata": {},
     "output_type": "execute_result"
    }
   ],
   "source": [
    "r.mismatches[:10]"
   ]
  },
  {
   "cell_type": "markdown",
   "metadata": {},
   "source": [
    "### but it reports mismatches with base call quality threshold"
   ]
  },
  {
   "cell_type": "code",
   "execution_count": 10,
   "metadata": {
    "collapsed": false
   },
   "outputs": [
    {
     "data": {
      "text/plain": [
       "[Mismatch(reference_position=60992, reference=<Nucleotide.G: 2>, read=<Nucleotide.T: 3>, quality=14),\n",
       " Mismatch(reference_position=61171, reference=<Nucleotide.A: 0>, read=<Nucleotide.T: 3>, quality=14),\n",
       " Mismatch(reference_position=61220, reference=<Nucleotide.G: 2>, read=<Nucleotide.A: 0>, quality=17),\n",
       " Mismatch(reference_position=63344, reference=<Nucleotide.T: 3>, read=<Nucleotide.A: 0>, quality=15),\n",
       " Mismatch(reference_position=63377, reference=<Nucleotide.C: 1>, read=<Nucleotide.A: 0>, quality=16),\n",
       " Mismatch(reference_position=63378, reference=<Nucleotide.C: 1>, read=<Nucleotide.A: 0>, quality=16),\n",
       " Mismatch(reference_position=63798, reference=<Nucleotide.C: 1>, read=<Nucleotide.T: 3>, quality=15)]"
      ]
     },
     "execution_count": 10,
     "metadata": {},
     "output_type": "execute_result"
    }
   ],
   "source": [
    "r.get_mismatches()"
   ]
  },
  {
   "cell_type": "code",
   "execution_count": null,
   "metadata": {
    "collapsed": true
   },
   "outputs": [],
   "source": []
  }
 ],
 "metadata": {
  "anaconda-cloud": {},
  "kernelspec": {
   "display_name": "Python [conda env:pgenlib]",
   "language": "python",
   "name": "conda-env-pgenlib-py"
  },
  "language_info": {
   "codemirror_mode": {
    "name": "ipython",
    "version": 2
   },
   "file_extension": ".py",
   "mimetype": "text/x-python",
   "name": "python",
   "nbconvert_exporter": "python",
   "pygments_lexer": "ipython2",
   "version": "2.7.5"
  }
 },
 "nbformat": 4,
 "nbformat_minor": 1
}
