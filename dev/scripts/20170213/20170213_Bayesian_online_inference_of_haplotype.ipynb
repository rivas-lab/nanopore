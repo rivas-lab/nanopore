{
 "cells": [
  {
   "cell_type": "code",
   "execution_count": 1,
   "metadata": {
    "collapsed": true
   },
   "outputs": [],
   "source": [
    "import numpy as np\n",
    "import pandas as pd\n",
    "import subprocess as sp\n",
    "import itertools as it\n",
    "import sys, re, collections\n",
    "import scipy as sc\n",
    "import pgenlib as pg"
   ]
  },
  {
   "cell_type": "markdown",
   "metadata": {},
   "source": [
    "# This note is UKBB version of 20170210_Bayesian_online_inference_of_haplotype.ipynb"
   ]
  },
  {
   "cell_type": "code",
   "execution_count": 2,
   "metadata": {
    "collapsed": false
   },
   "outputs": [
    {
     "name": "stderr",
     "output_type": "stream",
     "text": [
      "/home/ytanigaw/.local/lib/python2.7/site-packages/matplotlib/__init__.py:1357: UserWarning:  This call to matplotlib.use() has no effect\n",
      "because the backend has already been chosen;\n",
      "matplotlib.use() must be called *before* pylab, matplotlib.pyplot,\n",
      "or matplotlib.backends is imported for the first time.\n",
      "\n",
      "  warnings.warn(_use_error_msg)\n"
     ]
    }
   ],
   "source": [
    "%matplotlib inline\n",
    "import matplotlib\n",
    "matplotlib.use('agg')\n",
    "from matplotlib import pyplot as plt"
   ]
  },
  {
   "cell_type": "code",
   "execution_count": 3,
   "metadata": {
    "collapsed": true
   },
   "outputs": [],
   "source": [
    "def make_hist(x, title = None, xlabel = None, ylabel = None, filename = None):\n",
    "    '''\n",
    "    This function generates histogram of a vector x and save to file\n",
    "    Inputs:\n",
    "      x: data vector\n",
    "      title:    title of the plot\n",
    "      xlabel:   label on x-axis\n",
    "      ylabel:   label on y-axis\n",
    "      filename: name of the image file (if given, save to file)\n",
    "    Returns:\n",
    "      matlab plot object\n",
    "    Side effect:\n",
    "      save an image file if filename is given\n",
    "    '''\n",
    "    \n",
    "    fig = plt.figure(figsize=(8,6))\n",
    "    ax = fig.add_subplot(1, 1, 1)\n",
    "    ax.hist(x, 20)\n",
    "    \n",
    "    if(xlabel != None):\n",
    "        ax.set_xlabel(xlabel)\n",
    "    if(ylabel != None):\n",
    "        ax.set_ylabel(ylabel)\n",
    "    if(title != None):\n",
    "        ax.set_title(title)\n",
    "    if(filename != None):\n",
    "        fig.savefig(filename)"
   ]
  },
  {
   "cell_type": "markdown",
   "metadata": {},
   "source": [
    "# prepare params & files"
   ]
  },
  {
   "cell_type": "code",
   "execution_count": 4,
   "metadata": {
    "collapsed": true
   },
   "outputs": [],
   "source": [
    "chromosome = '20'"
   ]
  },
  {
   "cell_type": "code",
   "execution_count": 5,
   "metadata": {
    "collapsed": false
   },
   "outputs": [],
   "source": [
    "# specify population pgen file data set here\n",
    "#file_head = '/share/PI/mrivas/data/1000genomes/ALL.chr{}.phase3_shapeit2_mvncall_integrated_v5a.20130502.genotypes-pgen'.format(chromosome)\n",
    "file_head = '/share/PI/mrivas/ukbb/download/chr{}impv1-pgen'.format(chromosome)"
   ]
  },
  {
   "cell_type": "code",
   "execution_count": 6,
   "metadata": {
    "collapsed": true
   },
   "outputs": [],
   "source": [
    "pgen = {}\n",
    "bim  = {}\n",
    "genome_index_to_variant_index = {}\n",
    "bim_col_names = ['chr', 'id', 'morgan', 'bp', 'pri', 'sec']"
   ]
  },
  {
   "cell_type": "markdown",
   "metadata": {},
   "source": [
    "### population reference data"
   ]
  },
  {
   "cell_type": "code",
   "execution_count": 7,
   "metadata": {
    "collapsed": true
   },
   "outputs": [],
   "source": [
    "pgen[chromosome] = pg.PgenReader('{}.pgen'.format(file_head))\n",
    "bim[chromosome]  = pd.read_csv('{}.bim'.format(file_head),\n",
    "                               sep = '\\t', names = bim_col_names)\n",
    "genome_index_to_variant_index[chromosome] = \\\n",
    "dict(zip(bim[chromosome]['bp'], range(len(bim[chromosome]))))"
   ]
  },
  {
   "cell_type": "code",
   "execution_count": 8,
   "metadata": {
    "collapsed": true
   },
   "outputs": [],
   "source": [
    "# number of samples in the population\n",
    "sample_ct = pgen[chromosome].get_raw_sample_ct()"
   ]
  },
  {
   "cell_type": "code",
   "execution_count": 9,
   "metadata": {
    "collapsed": false
   },
   "outputs": [
    {
     "name": "stdout",
     "output_type": "stream",
     "text": [
      "This data set has 152249 samples\n"
     ]
    }
   ],
   "source": [
    "print 'This data set has {} samples'.format(sample_ct)"
   ]
  },
  {
   "cell_type": "markdown",
   "metadata": {},
   "source": [
    "### our observation"
   ]
  },
  {
   "cell_type": "code",
   "execution_count": 10,
   "metadata": {
    "collapsed": false
   },
   "outputs": [],
   "source": [
    "snps_f =  '/share/PI/mrivas/data/nanopore-wgs-consortium-old/nanopore-wgs.25000.sorted.10k.mapq50.ext.sorted.informative.q14.snps'\n",
    "reads = pd.read_csv(snps_f, sep = '\\t')"
   ]
  },
  {
   "cell_type": "code",
   "execution_count": 11,
   "metadata": {
    "collapsed": true
   },
   "outputs": [],
   "source": [
    "def parse_snps_str(snps_str, filter_by_dbsnp = True):\n",
    "    list_of_snps = [re.split(',|:',snp) for snp in snps_str.split(';')]\n",
    "    if(filter_by_dbsnp):\n",
    "        '''\n",
    "        keep only snps with valid snp id\n",
    "        '''\n",
    "        list_of_snps = np.array([snp for snp in list_of_snps\n",
    "                                 if snp[4][:2] == 'rs'])\n",
    "    return(list_of_snps)"
   ]
  },
  {
   "cell_type": "code",
   "execution_count": 12,
   "metadata": {
    "collapsed": false
   },
   "outputs": [],
   "source": [
    "# reconstruct list of snps\n",
    "reads['snps'] = np.array([parse_snps_str(reads.ix[read_num, 6]) \n",
    "                          for read_num in range(len(reads))])"
   ]
  },
  {
   "cell_type": "code",
   "execution_count": 13,
   "metadata": {
    "collapsed": false
   },
   "outputs": [],
   "source": [
    "# add field of chromosome number\n",
    "reads['chr'] = np.array([reads['snps'][read_num][0][0][3:]\n",
    "                         for read_num in range(len(reads))])"
   ]
  },
  {
   "cell_type": "code",
   "execution_count": 14,
   "metadata": {
    "collapsed": false
   },
   "outputs": [],
   "source": [
    "# extracting snp positions\n",
    "reads['snp_pos'] = np.array([[int(x) for x in reads.ix[read_num, 'snps'][:, 1]]\n",
    "                             for read_num in range(len(reads))])"
   ]
  },
  {
   "cell_type": "code",
   "execution_count": 15,
   "metadata": {
    "collapsed": true
   },
   "outputs": [],
   "source": [
    "def snp_poss_to_variant_idxs(snp_poss, conv_dict):\n",
    "    return(np.array([conv_dict[snp_pos] for snp_pos \n",
    "                     in snp_poss if snp_pos in conv_dict],\n",
    "                   dtype = np.uint32))"
   ]
  },
  {
   "cell_type": "code",
   "execution_count": 16,
   "metadata": {
    "collapsed": false
   },
   "outputs": [
    {
     "data": {
      "text/plain": [
       "array([18585, 18687, 18757, 18935, 18967, 19046, 19050, 19089, 19159,\n",
       "       19223, 19418, 19421, 19442, 19485, 19508], dtype=uint32)"
      ]
     },
     "execution_count": 16,
     "metadata": {},
     "output_type": "execute_result"
    }
   ],
   "source": [
    "# want to see if my code correctly extracts SNP positions\n",
    "read_num = 334\n",
    "snp_poss_to_variant_idxs(reads['snp_pos'][read_num], \n",
    "                         genome_index_to_variant_index[reads['chr'][read_num]])"
   ]
  },
  {
   "cell_type": "code",
   "execution_count": 17,
   "metadata": {
    "collapsed": false
   },
   "outputs": [
    {
     "name": "stdout",
     "output_type": "stream",
     "text": [
      "(13, 10)\n"
     ]
    }
   ],
   "source": [
    "# take subset of fragments on the chromosome of interest\n",
    "reads_chr20 = reads[reads['chr'] == '20']\n",
    "print reads_chr20.shape"
   ]
  },
  {
   "cell_type": "code",
   "execution_count": 18,
   "metadata": {
    "collapsed": false
   },
   "outputs": [
    {
     "data": {
      "text/html": [
       "<div>\n",
       "<table border=\"1\" class=\"dataframe\">\n",
       "  <thead>\n",
       "    <tr style=\"text-align: right;\">\n",
       "      <th></th>\n",
       "      <th>name</th>\n",
       "      <th>#mismatches</th>\n",
       "      <th>#mismatches_with_hits_to_dbSNP</th>\n",
       "      <th>#SNPs_with_var_id</th>\n",
       "      <th>#SNPs_with_var_id(validated)</th>\n",
       "      <th>length</th>\n",
       "      <th>snps([&lt;pos&gt;,&lt;ref&gt;,&lt;seq&gt;,&lt;varid&gt;,&lt;validated&gt;,&lt;baseCallQ&gt;;]+)</th>\n",
       "      <th>snps</th>\n",
       "      <th>chr</th>\n",
       "      <th>snp_pos</th>\n",
       "    </tr>\n",
       "  </thead>\n",
       "  <tbody>\n",
       "    <tr>\n",
       "      <th>334</th>\n",
       "      <td>1f3ad947-2a90-4c4c-8155-c8ca34c3a4d9_Basecall_...</td>\n",
       "      <td>47</td>\n",
       "      <td>17</td>\n",
       "      <td>16</td>\n",
       "      <td>14</td>\n",
       "      <td>32044</td>\n",
       "      <td>chr20:712806,T,A,*,None,16;chr20:712968,C,G,*,...</td>\n",
       "      <td>[[chr20, 714008, a, G, rs2317021, True, 18], [...</td>\n",
       "      <td>20</td>\n",
       "      <td>[714008, 717649, 720916, 727476, 728499, 73089...</td>\n",
       "    </tr>\n",
       "    <tr>\n",
       "      <th>335</th>\n",
       "      <td>5ac37613-6f90-4320-9c8e-fefb98f49f25_Basecall_...</td>\n",
       "      <td>35</td>\n",
       "      <td>14</td>\n",
       "      <td>13</td>\n",
       "      <td>12</td>\n",
       "      <td>29431</td>\n",
       "      <td>chr20:1341776,a,G,*,None,14;chr20:1342191,c,T,...</td>\n",
       "      <td>[[chr20, 1344929, C, A, rs6033551, True, 18], ...</td>\n",
       "      <td>20</td>\n",
       "      <td>[1344929, 1345368, 1346236, 1346381, 1347754, ...</td>\n",
       "    </tr>\n",
       "    <tr>\n",
       "      <th>336</th>\n",
       "      <td>021d57af-e9b8-49d6-b200-7793894f18a2_Basecall_...</td>\n",
       "      <td>40</td>\n",
       "      <td>16</td>\n",
       "      <td>15</td>\n",
       "      <td>14</td>\n",
       "      <td>27679</td>\n",
       "      <td>chr20:4376042,A,G,*,None,17;chr20:4376044,C,A,...</td>\n",
       "      <td>[[chr20, 4379857, c, A, rs3848822, True, 17], ...</td>\n",
       "      <td>20</td>\n",
       "      <td>[4379857, 4381876, 4382054, 4385424, 4385756, ...</td>\n",
       "    </tr>\n",
       "  </tbody>\n",
       "</table>\n",
       "</div>"
      ],
      "text/plain": [
       "                                                  name  #mismatches  \\\n",
       "334  1f3ad947-2a90-4c4c-8155-c8ca34c3a4d9_Basecall_...           47   \n",
       "335  5ac37613-6f90-4320-9c8e-fefb98f49f25_Basecall_...           35   \n",
       "336  021d57af-e9b8-49d6-b200-7793894f18a2_Basecall_...           40   \n",
       "\n",
       "     #mismatches_with_hits_to_dbSNP  #SNPs_with_var_id  \\\n",
       "334                              17                 16   \n",
       "335                              14                 13   \n",
       "336                              16                 15   \n",
       "\n",
       "     #SNPs_with_var_id(validated)  length  \\\n",
       "334                            14   32044   \n",
       "335                            12   29431   \n",
       "336                            14   27679   \n",
       "\n",
       "    snps([<pos>,<ref>,<seq>,<varid>,<validated>,<baseCallQ>;]+)  \\\n",
       "334  chr20:712806,T,A,*,None,16;chr20:712968,C,G,*,...            \n",
       "335  chr20:1341776,a,G,*,None,14;chr20:1342191,c,T,...            \n",
       "336  chr20:4376042,A,G,*,None,17;chr20:4376044,C,A,...            \n",
       "\n",
       "                                                  snps chr  \\\n",
       "334  [[chr20, 714008, a, G, rs2317021, True, 18], [...  20   \n",
       "335  [[chr20, 1344929, C, A, rs6033551, True, 18], ...  20   \n",
       "336  [[chr20, 4379857, c, A, rs3848822, True, 17], ...  20   \n",
       "\n",
       "                                               snp_pos  \n",
       "334  [714008, 717649, 720916, 727476, 728499, 73089...  \n",
       "335  [1344929, 1345368, 1346236, 1346381, 1347754, ...  \n",
       "336  [4379857, 4381876, 4382054, 4385424, 4385756, ...  "
      ]
     },
     "execution_count": 18,
     "metadata": {},
     "output_type": "execute_result"
    }
   ],
   "source": [
    "reads_chr20.head(3)"
   ]
  },
  {
   "cell_type": "code",
   "execution_count": 19,
   "metadata": {
    "collapsed": false
   },
   "outputs": [
    {
     "data": {
      "text/plain": [
       "334    [[chr20, 714008, a, G, rs2317021, True, 18], [...\n",
       "335    [[chr20, 1344929, C, A, rs6033551, True, 18], ...\n",
       "336    [[chr20, 4379857, c, A, rs3848822, True, 17], ...\n",
       "337    [[chr20, 15106978, c, T, rs975993, True, 15], ...\n",
       "338    [[chr20, 16114674, g, A, rs971314, True, 16], ...\n",
       "339    [[chr20, 17213181, c, G, rs8116844, True, 14],...\n",
       "340    [[chr20, 35005210, c, T, rs538777470, False, 1...\n",
       "341    [[chr20, 43923028, a, G, rs66503531, True, 15]...\n",
       "342    [[chr20, 47824040, t, A, rs6095462, True, 16],...\n",
       "343    [[chr20, 48302652, C, T, rs1016234, True, 14],...\n",
       "344    [[chr20, 51259768, T, C, rs856409, True, 17], ...\n",
       "345    [[chr20, 53759041, a, G, rs6069139, True, 19],...\n",
       "346    [[chr20, 54342375, T, C, rs13041144, True, 14]...\n",
       "Name: snps, dtype: object"
      ]
     },
     "execution_count": 19,
     "metadata": {},
     "output_type": "execute_result"
    }
   ],
   "source": [
    "reads_chr20.ix[:, 'snps']"
   ]
  },
  {
   "cell_type": "code",
   "execution_count": 20,
   "metadata": {
    "collapsed": false
   },
   "outputs": [
    {
     "data": {
      "text/plain": [
       "18585"
      ]
     },
     "execution_count": 20,
     "metadata": {},
     "output_type": "execute_result"
    }
   ],
   "source": [
    "# convert SNP position (genome coordinate) to variant index (on bim file)\n",
    "genome_index_to_variant_index['20'][714008]"
   ]
  },
  {
   "cell_type": "code",
   "execution_count": 21,
   "metadata": {
    "collapsed": false
   },
   "outputs": [],
   "source": [
    "variant_idxs = \\\n",
    "np.array([snp_poss_to_variant_idxs(reads_chr20['snp_pos'][read_num], \n",
    "                                   genome_index_to_variant_index[reads['chr'][read_num]])\n",
    "          for read_num in range(334, 347)])"
   ]
  },
  {
   "cell_type": "code",
   "execution_count": 22,
   "metadata": {
    "collapsed": false
   },
   "outputs": [
    {
     "data": {
      "text/plain": [
       "array([18585, 18687, 18757, 18935, 18967, 19046, 19050, 19089, 19159,\n",
       "       19223, 19418, 19421, 19442, 19485, 19508], dtype=uint32)"
      ]
     },
     "execution_count": 22,
     "metadata": {},
     "output_type": "execute_result"
    }
   ],
   "source": [
    "variant_idxs[0]"
   ]
  },
  {
   "cell_type": "markdown",
   "metadata": {
    "collapsed": true
   },
   "source": [
    "# [ToDo - fix] current implementation does not work with missing data"
   ]
  },
  {
   "cell_type": "code",
   "execution_count": 23,
   "metadata": {
    "collapsed": false
   },
   "outputs": [],
   "source": [
    "def read_haplotype_dev(pgen, variant_idxs):\n",
    "    '''\n",
    "    Wrapper function to read haplotype with pgenlib\n",
    "    '''\n",
    "    sample_ct = pgen.get_raw_sample_ct()\n",
    "    read_alleles_list_buf = np.zeros((len(variant_idxs), \n",
    "                                      2 * sample_ct), \n",
    "                                     dtype=np.int32)\n",
    "    # query pgen file and obtain allels\n",
    "    pgen.read_alleles_list(variant_idxs, read_alleles_list_buf)\n",
    "\n",
    "    # convert to string representation of haplotype\n",
    "    hap_strs = [''.join([str(bit) for bit \n",
    "                             in read_alleles_list_buf[:, hap]])\n",
    "                for hap in range(2 * sample_ct)]\n",
    "\n",
    "    # convert each haplotype to an interger number\n",
    "    #  assuming that len(variant_idxs)\n",
    "    if(len(variant_idxs) <= 63):\n",
    "        haps = np.array([int(hap_str, 2) for hap_str in hap_strs if '9' not in hap_str])\n",
    "    else:\n",
    "        haps = np.array([long(hap_str, 2) for hap_str in hap_strs if '9' not in hap_str])\n",
    "\n",
    "    return(haps)"
   ]
  },
  {
   "cell_type": "code",
   "execution_count": 24,
   "metadata": {
    "collapsed": false
   },
   "outputs": [],
   "source": [
    "haps = read_haplotype_dev(pgen[chromosome], variant_idxs[0])"
   ]
  },
  {
   "cell_type": "code",
   "execution_count": 25,
   "metadata": {
    "collapsed": false
   },
   "outputs": [
    {
     "data": {
      "text/plain": [
       "(264612,)"
      ]
     },
     "execution_count": 25,
     "metadata": {},
     "output_type": "execute_result"
    }
   ],
   "source": [
    "haps.shape"
   ]
  },
  {
   "cell_type": "code",
   "execution_count": 26,
   "metadata": {
    "collapsed": false
   },
   "outputs": [
    {
     "data": {
      "text/plain": [
       "array([12289, 16363, 32736, ..., 16351, 32765, 32765])"
      ]
     },
     "execution_count": 26,
     "metadata": {},
     "output_type": "execute_result"
    }
   ],
   "source": [
    "haps"
   ]
  },
  {
   "cell_type": "markdown",
   "metadata": {},
   "source": [
    "## number of haplotypes in this region"
   ]
  },
  {
   "cell_type": "code",
   "execution_count": 27,
   "metadata": {
    "collapsed": false
   },
   "outputs": [],
   "source": [
    "# count frequency of haplotypes for maximum likelihood estiamte\n",
    "haps_cnt = collections.Counter(haps)"
   ]
  },
  {
   "cell_type": "code",
   "execution_count": 28,
   "metadata": {
    "collapsed": false
   },
   "outputs": [
    {
     "name": "stdout",
     "output_type": "stream",
     "text": [
      "there are 564 haplotypes in this region\n"
     ]
    }
   ],
   "source": [
    "print 'there are {} haplotypes in this region'.format(len(set(haps_cnt.keys())))"
   ]
  },
  {
   "cell_type": "code",
   "execution_count": 29,
   "metadata": {
    "collapsed": false
   },
   "outputs": [
    {
     "name": "stdout",
     "output_type": "stream",
     "text": [
      "0 14506\n",
      "20470 0\n"
     ]
    }
   ],
   "source": [
    "# we can get frequency count of a given haplotype in the population\n",
    "for hap in [0, 20470]:\n",
    "    print hap, haps_cnt[hap]"
   ]
  },
  {
   "cell_type": "code",
   "execution_count": 30,
   "metadata": {
    "collapsed": false
   },
   "outputs": [
    {
     "data": {
      "image/png": "[encoded data removed]",
      "text/plain": [
       "<matplotlib.figure.Figure at 0xf10f710>"
      ]
     },
     "metadata": {},
     "output_type": "display_data"
    }
   ],
   "source": [
    "make_hist(1.0 * np.array(haps_cnt.values()),\n",
    "          title='Frequency distribution of haplotype (# of haplotypes in this region: {})'.format(len(set(haps_cnt.keys()))),\n",
    "          xlabel = 'Frequency distribution of haplotype in 1KG population (population size: {} haplotypes)'.format(haps.shape[0]),\n",
    "          ylabel = 'Frequency of frequency distribution of haplotype in 1KG population',\n",
    "          filename = None)"
   ]
  },
  {
   "cell_type": "markdown",
   "metadata": {},
   "source": [
    "## snps to haplotype\n",
    "- our observation is SNPs relative to reference genome\n",
    "- want to convert bit string (0 means primary on population, 1 means secondary on population)"
   ]
  },
  {
   "cell_type": "markdown",
   "metadata": {},
   "source": [
    "### our observation is represented as sequence of snps"
   ]
  },
  {
   "cell_type": "code",
   "execution_count": 31,
   "metadata": {
    "collapsed": false
   },
   "outputs": [
    {
     "data": {
      "text/plain": [
       "Index([u'name', u'#mismatches', u'#mismatches_with_hits_to_dbSNP',\n",
       "       u'#SNPs_with_var_id', u'#SNPs_with_var_id(validated)', u'length',\n",
       "       u'snps([<pos>,<ref>,<seq>,<varid>,<validated>,<baseCallQ>;]+)', u'snps',\n",
       "       u'chr', u'snp_pos'],\n",
       "      dtype='object')"
      ]
     },
     "execution_count": 31,
     "metadata": {},
     "output_type": "execute_result"
    }
   ],
   "source": [
    "# want to know which column is what\n",
    "reads_chr20.columns"
   ]
  },
  {
   "cell_type": "markdown",
   "metadata": {},
   "source": [
    "### take a sample read"
   ]
  },
  {
   "cell_type": "code",
   "execution_count": 32,
   "metadata": {
    "collapsed": false
   },
   "outputs": [
    {
     "data": {
      "text/plain": [
       "array([['chr20', '714008', 'a', 'G', 'rs2317021', 'True', '18'],\n",
       "       ['chr20', '717649', 'c', 'T', 'rs6117373', 'True', '16'],\n",
       "       ['chr20', '720916', 'G', 'A', 'rs2144930', 'True', '14'],\n",
       "       ['chr20', '727476', 'c', 'T', 'rs60461885', 'True', '16'],\n",
       "       ['chr20', '728499', 'a', 'C', 'rs6054508', 'True', '16'],\n",
       "       ['chr20', '730893', 'c', 'T', 'rs57596504', 'True', '16'],\n",
       "       ['chr20', '731005', 'a', 'G', 'rs13039346', 'True', '19'],\n",
       "       ['chr20', '732295', 'a', 'G', 'rs6140092', 'True', '19'],\n",
       "       ['chr20', '734617', 'a', 'G', 'rs56210940', 'True', '16'],\n",
       "       ['chr20', '736644', 'g', 'A', 'rs6140099', 'True', '16'],\n",
       "       ['chr20', '743018', 'G', 'T', 'rs6038642', 'True', '18'],\n",
       "       ['chr20', '743124', 'C', 'G', 'rs13039544', 'True', '14'],\n",
       "       ['chr20', '743827', 'g', 'A', 'rs910858', 'True', '16'],\n",
       "       ['chr20', '745181', 'A', 'T', 'rs6077095', 'False', '18'],\n",
       "       ['chr20', '746098', 'G', 'A', 'rs3746808', 'True', '16']], \n",
       "      dtype='|S11')"
      ]
     },
     "execution_count": 32,
     "metadata": {},
     "output_type": "execute_result"
    }
   ],
   "source": [
    "bim334 = bim[chromosome].ix[variant_idxs[0], :]\n",
    "snp334 = reads_chr20.ix[334, 'snps']\n",
    "snp334_filtered = np.array([snp for snp in snp334 if int(snp[1]) in set(bim334['bp'])])\n",
    "snp334_filtered"
   ]
  },
  {
   "cell_type": "markdown",
   "metadata": {},
   "source": [
    "- 3rd column: reference (a, c, G, c)\n",
    "- 4th column: read (G, T, A, T)"
   ]
  },
  {
   "cell_type": "markdown",
   "metadata": {},
   "source": [
    "## corresponding populatoin reference is as follows:"
   ]
  },
  {
   "cell_type": "code",
   "execution_count": 33,
   "metadata": {
    "collapsed": false
   },
   "outputs": [
    {
     "data": {
      "text/html": [
       "<div>\n",
       "<table border=\"1\" class=\"dataframe\">\n",
       "  <thead>\n",
       "    <tr style=\"text-align: right;\">\n",
       "      <th></th>\n",
       "      <th>chr</th>\n",
       "      <th>id</th>\n",
       "      <th>morgan</th>\n",
       "      <th>bp</th>\n",
       "      <th>pri</th>\n",
       "      <th>sec</th>\n",
       "    </tr>\n",
       "  </thead>\n",
       "  <tbody>\n",
       "    <tr>\n",
       "      <th>18585</th>\n",
       "      <td>20</td>\n",
       "      <td>rs2317021</td>\n",
       "      <td>0</td>\n",
       "      <td>714008</td>\n",
       "      <td>A</td>\n",
       "      <td>G</td>\n",
       "    </tr>\n",
       "    <tr>\n",
       "      <th>18687</th>\n",
       "      <td>20</td>\n",
       "      <td>rs6117373</td>\n",
       "      <td>0</td>\n",
       "      <td>717649</td>\n",
       "      <td>C</td>\n",
       "      <td>T</td>\n",
       "    </tr>\n",
       "    <tr>\n",
       "      <th>18757</th>\n",
       "      <td>20</td>\n",
       "      <td>rs2144930</td>\n",
       "      <td>0</td>\n",
       "      <td>720916</td>\n",
       "      <td>G</td>\n",
       "      <td>A</td>\n",
       "    </tr>\n",
       "    <tr>\n",
       "      <th>18935</th>\n",
       "      <td>20</td>\n",
       "      <td>rs60461885</td>\n",
       "      <td>0</td>\n",
       "      <td>727476</td>\n",
       "      <td>C</td>\n",
       "      <td>T</td>\n",
       "    </tr>\n",
       "    <tr>\n",
       "      <th>18967</th>\n",
       "      <td>20</td>\n",
       "      <td>rs6054508</td>\n",
       "      <td>0</td>\n",
       "      <td>728499</td>\n",
       "      <td>A</td>\n",
       "      <td>C</td>\n",
       "    </tr>\n",
       "    <tr>\n",
       "      <th>19046</th>\n",
       "      <td>20</td>\n",
       "      <td>rs57596504</td>\n",
       "      <td>0</td>\n",
       "      <td>730893</td>\n",
       "      <td>C</td>\n",
       "      <td>T</td>\n",
       "    </tr>\n",
       "    <tr>\n",
       "      <th>19050</th>\n",
       "      <td>20</td>\n",
       "      <td>rs13039346</td>\n",
       "      <td>0</td>\n",
       "      <td>731005</td>\n",
       "      <td>A</td>\n",
       "      <td>G</td>\n",
       "    </tr>\n",
       "    <tr>\n",
       "      <th>19089</th>\n",
       "      <td>20</td>\n",
       "      <td>rs6140092</td>\n",
       "      <td>0</td>\n",
       "      <td>732295</td>\n",
       "      <td>A</td>\n",
       "      <td>G</td>\n",
       "    </tr>\n",
       "    <tr>\n",
       "      <th>19159</th>\n",
       "      <td>20</td>\n",
       "      <td>rs56210940</td>\n",
       "      <td>0</td>\n",
       "      <td>734617</td>\n",
       "      <td>A</td>\n",
       "      <td>G</td>\n",
       "    </tr>\n",
       "    <tr>\n",
       "      <th>19223</th>\n",
       "      <td>20</td>\n",
       "      <td>rs6140099</td>\n",
       "      <td>0</td>\n",
       "      <td>736644</td>\n",
       "      <td>G</td>\n",
       "      <td>A</td>\n",
       "    </tr>\n",
       "    <tr>\n",
       "      <th>19418</th>\n",
       "      <td>20</td>\n",
       "      <td>rs6038642</td>\n",
       "      <td>0</td>\n",
       "      <td>743018</td>\n",
       "      <td>G</td>\n",
       "      <td>T</td>\n",
       "    </tr>\n",
       "    <tr>\n",
       "      <th>19421</th>\n",
       "      <td>20</td>\n",
       "      <td>rs13039544</td>\n",
       "      <td>0</td>\n",
       "      <td>743124</td>\n",
       "      <td>C</td>\n",
       "      <td>G</td>\n",
       "    </tr>\n",
       "    <tr>\n",
       "      <th>19442</th>\n",
       "      <td>20</td>\n",
       "      <td>rs910858</td>\n",
       "      <td>0</td>\n",
       "      <td>743827</td>\n",
       "      <td>G</td>\n",
       "      <td>A</td>\n",
       "    </tr>\n",
       "    <tr>\n",
       "      <th>19485</th>\n",
       "      <td>20</td>\n",
       "      <td>rs6077095</td>\n",
       "      <td>0</td>\n",
       "      <td>745181</td>\n",
       "      <td>A</td>\n",
       "      <td>T</td>\n",
       "    </tr>\n",
       "    <tr>\n",
       "      <th>19508</th>\n",
       "      <td>20</td>\n",
       "      <td>rs3746808</td>\n",
       "      <td>0</td>\n",
       "      <td>746098</td>\n",
       "      <td>G</td>\n",
       "      <td>A</td>\n",
       "    </tr>\n",
       "  </tbody>\n",
       "</table>\n",
       "</div>"
      ],
      "text/plain": [
       "       chr          id  morgan      bp pri sec\n",
       "18585   20   rs2317021       0  714008   A   G\n",
       "18687   20   rs6117373       0  717649   C   T\n",
       "18757   20   rs2144930       0  720916   G   A\n",
       "18935   20  rs60461885       0  727476   C   T\n",
       "18967   20   rs6054508       0  728499   A   C\n",
       "19046   20  rs57596504       0  730893   C   T\n",
       "19050   20  rs13039346       0  731005   A   G\n",
       "19089   20   rs6140092       0  732295   A   G\n",
       "19159   20  rs56210940       0  734617   A   G\n",
       "19223   20   rs6140099       0  736644   G   A\n",
       "19418   20   rs6038642       0  743018   G   T\n",
       "19421   20  rs13039544       0  743124   C   G\n",
       "19442   20    rs910858       0  743827   G   A\n",
       "19485   20   rs6077095       0  745181   A   T\n",
       "19508   20   rs3746808       0  746098   G   A"
      ]
     },
     "execution_count": 33,
     "metadata": {},
     "output_type": "execute_result"
    }
   ],
   "source": [
    "bim334"
   ]
  },
  {
   "cell_type": "code",
   "execution_count": 34,
   "metadata": {
    "collapsed": false
   },
   "outputs": [],
   "source": [
    "def construct_haplotype_from_snp_sub(snps, pri, sec):\n",
    "\n",
    "    print 'obs: ', snps\n",
    "    print 'pri: ', pri\n",
    "    print 'sec: ', sec\n",
    "    hap = np.array(['0' if snps[i] == pri[i]\n",
    "                    else '1' if snps[i] == sec[i]\n",
    "                    else '2'\n",
    "                    for i in range(len(snps))])\n",
    "    if '2' in hap:\n",
    "        raise Exception('oops')\n",
    "    if(len(hap) <= 63):\n",
    "        return(int(''.join(hap), 2))\n",
    "    else:\n",
    "        return(long(''.join(hap), 2))"
   ]
  },
  {
   "cell_type": "code",
   "execution_count": 35,
   "metadata": {
    "collapsed": false
   },
   "outputs": [
    {
     "name": "stdout",
     "output_type": "stream",
     "text": [
      "obs:  ['G', 'T', 'A', 'T', 'C', 'T', 'G', 'G', 'G', 'A', 'T', 'G', 'A', 'T', 'A']\n",
      "pri:  ['A', 'C', 'G', 'C', 'A', 'C', 'A', 'A', 'A', 'G', 'G', 'C', 'G', 'A', 'G']\n",
      "sec:  ['G', 'T', 'A', 'T', 'C', 'T', 'G', 'G', 'G', 'A', 'T', 'G', 'A', 'T', 'A']\n",
      "0b111111111111111\n"
     ]
    }
   ],
   "source": [
    "hap_334 = \\\n",
    "construct_haplotype_from_snp_sub(snp334_filtered[:, 3].tolist(),\n",
    "                                 bim334['pri'].tolist(),\n",
    "                                 bim334['sec'].tolist())\n",
    "print bin(hap_334)"
   ]
  },
  {
   "cell_type": "code",
   "execution_count": 36,
   "metadata": {
    "collapsed": false
   },
   "outputs": [
    {
     "name": "stdout",
     "output_type": "stream",
     "text": [
      "This haplotype 0b111111111111111 has prior probability 0.0548198872311 in population (MLE)\n"
     ]
    }
   ],
   "source": [
    "print 'This haplotype {} has prior probability {} in population (MLE)'.format(bin(hap_334), 1.0 * haps_cnt[0] / haps.shape[0])"
   ]
  },
  {
   "cell_type": "markdown",
   "metadata": {},
   "source": [
    "## counting mismatches distance between haplotypes\n",
    "- to compute p(observation | haplotype) = p_{error}^{# mismatches} (1 - p_{error})^{# snps - # mismatches}\n",
    "- basically it is hamming distance because we have binary representation of haplotype"
   ]
  },
  {
   "cell_type": "code",
   "execution_count": 37,
   "metadata": {
    "collapsed": true
   },
   "outputs": [],
   "source": [
    "def hamming_dist(bin1, bin2):\n",
    "    return(bin(bin1 | bin2).count('1') - \n",
    "           bin(bin1 & bin2).count('1'))"
   ]
  },
  {
   "cell_type": "code",
   "execution_count": 38,
   "metadata": {
    "collapsed": false
   },
   "outputs": [
    {
     "name": "stdout",
     "output_type": "stream",
     "text": [
      "0b11000000000001\n",
      "0b11111111101011\n",
      "9\n"
     ]
    }
   ],
   "source": [
    "# test with an example\n",
    "print bin(haps[0])\n",
    "print bin(haps[1])\n",
    "print hamming_dist(haps[0], haps[1])"
   ]
  },
  {
   "cell_type": "code",
   "execution_count": 39,
   "metadata": {
    "collapsed": false
   },
   "outputs": [
    {
     "data": {
      "text/plain": [
       "0"
      ]
     },
     "execution_count": 39,
     "metadata": {},
     "output_type": "execute_result"
    }
   ],
   "source": [
    "# test with a trivial example\n",
    "hamming_dist(0, 0)"
   ]
  },
  {
   "cell_type": "markdown",
   "metadata": {},
   "source": [
    "## Maximum likelihood estimate of prior distribution"
   ]
  },
  {
   "cell_type": "code",
   "execution_count": 40,
   "metadata": {
    "collapsed": true
   },
   "outputs": [],
   "source": [
    "def compute_prior(haps):\n",
    "    hap_uniq = [h for h in set(haps)]\n",
    "    log_priors = (np.log(1.0 * \\\n",
    "                         np.array([haps_cnt[hap] \n",
    "                                   for hap in hap_uniq])) - \\\n",
    "                  np.log(len(haps)))\n",
    "    return(hap_uniq, log_priors)"
   ]
  },
  {
   "cell_type": "code",
   "execution_count": 41,
   "metadata": {
    "collapsed": true
   },
   "outputs": [],
   "source": [
    "(hap_uniq, log_priors) = compute_prior(haps)"
   ]
  },
  {
   "cell_type": "code",
   "execution_count": 42,
   "metadata": {
    "collapsed": false
   },
   "outputs": [],
   "source": [
    "uniq_id_of_hap = dict(zip(hap_uniq, range(len(hap_uniq))))"
   ]
  },
  {
   "cell_type": "code",
   "execution_count": 43,
   "metadata": {
    "collapsed": false
   },
   "outputs": [
    {
     "data": {
      "text/plain": [
       "1.0000000000000004"
      ]
     },
     "execution_count": 43,
     "metadata": {},
     "output_type": "execute_result"
    }
   ],
   "source": [
    "# make sure this probability sums up to 1\n",
    "np.sum(np.exp(log_priors))"
   ]
  },
  {
   "cell_type": "markdown",
   "metadata": {},
   "source": [
    "## posterior"
   ]
  },
  {
   "cell_type": "markdown",
   "metadata": {},
   "source": [
    "#### probability of observation (event) given haplotype (p_e_g_h)"
   ]
  },
  {
   "cell_type": "code",
   "execution_count": 44,
   "metadata": {
    "collapsed": true
   },
   "outputs": [],
   "source": [
    "def prob_fragment_given_hap(obs, hap, n, p):\n",
    "    '''\n",
    "    p: error rate\n",
    "    '''\n",
    "    x = hamming_dist(obs, hap)\n",
    "    return(x * np.log(p) + (n - x) * np.log(1 - p))"
   ]
  },
  {
   "cell_type": "code",
   "execution_count": 45,
   "metadata": {
    "collapsed": false
   },
   "outputs": [],
   "source": [
    "log_p_e_g_h = np.array(\n",
    "    [prob_fragment_given_hap(obs = hap_334, \n",
    "                             hap = hap_uniq[i], \n",
    "                             n = len(bim334),\n",
    "                             p = 0.1)\n",
    "     for i in range(len(hap_uniq))])"
   ]
  },
  {
   "cell_type": "code",
   "execution_count": 46,
   "metadata": {
    "collapsed": false
   },
   "outputs": [
    {
     "name": "stdout",
     "output_type": "stream",
     "text": [
      "564\n"
     ]
    }
   ],
   "source": [
    "print(len(log_p_e_g_h))"
   ]
  },
  {
   "cell_type": "markdown",
   "metadata": {},
   "source": [
    "#### probability of haplotype given event (haplotype) (p_h_g_e)"
   ]
  },
  {
   "cell_type": "code",
   "execution_count": 47,
   "metadata": {
    "collapsed": true
   },
   "outputs": [],
   "source": [
    "log_p_h_g_e = log_p_e_g_h + log_priors\n",
    "log_p_h_g_e = log_p_h_g_e - np.log(sum(np.exp(log_p_h_g_e)))"
   ]
  },
  {
   "cell_type": "code",
   "execution_count": 48,
   "metadata": {
    "collapsed": false
   },
   "outputs": [
    {
     "data": {
      "text/plain": [
       "0.99999999999999778"
      ]
     },
     "execution_count": 48,
     "metadata": {},
     "output_type": "execute_result"
    }
   ],
   "source": [
    "# posterior is normalized\n",
    "sum(np.exp(log_p_h_g_e))"
   ]
  },
  {
   "cell_type": "code",
   "execution_count": 50,
   "metadata": {
    "collapsed": false
   },
   "outputs": [
    {
     "data": {
      "image/png": "[encoded data removed]",
      "text/plain": [
       "<matplotlib.figure.Figure at 0x9772b10>"
      ]
     },
     "metadata": {},
     "output_type": "display_data"
    }
   ],
   "source": [
    "make_hist(np.exp(log_priors),\n",
    "          title='Distribution of prior distribution (MLE)',\n",
    "          xlabel = 'prior of haplotype in UKBB population (population size: {} haplotypes)'.format(haps.shape[0]),\n",
    "          ylabel = 'Frequency of log-prior of haplotype in UKBB population',\n",
    "          filename = '20170213_Bayesian_online_inference_of_haplotype.prior.png')"
   ]
  },
  {
   "cell_type": "code",
   "execution_count": 51,
   "metadata": {
    "collapsed": false
   },
   "outputs": [
    {
     "data": {
      "image/png": "[encoded data removed]",
      "text/plain": [
       "<matplotlib.figure.Figure at 0x98432d0>"
      ]
     },
     "metadata": {},
     "output_type": "display_data"
    }
   ],
   "source": [
    "make_hist(np.exp(log_p_h_g_e),\n",
    "          title='Distribution of posterior distribution',\n",
    "          xlabel = 'posterior of haplotype in UKBB population (population size: {} haplotypes)'.format(haps.shape[0]),\n",
    "          ylabel = 'Frequency of posterior of haplotype in UKBB population',\n",
    "          filename = '20170213_Bayesian_online_inference_of_haplotype.posterior334.png')"
   ]
  },
  {
   "cell_type": "code",
   "execution_count": 52,
   "metadata": {
    "collapsed": false
   },
   "outputs": [
    {
     "data": {
      "text/plain": [
       "(264612,)"
      ]
     },
     "execution_count": 52,
     "metadata": {},
     "output_type": "execute_result"
    }
   ],
   "source": [
    "haps.shape"
   ]
  },
  {
   "cell_type": "code",
   "execution_count": 53,
   "metadata": {
    "collapsed": false
   },
   "outputs": [
    {
     "data": {
      "text/plain": [
       "152249"
      ]
     },
     "execution_count": 53,
     "metadata": {},
     "output_type": "execute_result"
    }
   ],
   "source": [
    "sample_ct"
   ]
  },
  {
   "cell_type": "code",
   "execution_count": 54,
   "metadata": {
    "collapsed": false
   },
   "outputs": [
    {
     "data": {
      "text/plain": [
       "564"
      ]
     },
     "execution_count": 54,
     "metadata": {},
     "output_type": "execute_result"
    }
   ],
   "source": [
    "len(set(haps_cnt.keys()))"
   ]
  },
  {
   "cell_type": "code",
   "execution_count": null,
   "metadata": {
    "collapsed": true
   },
   "outputs": [],
   "source": []
  },
  {
   "cell_type": "code",
   "execution_count": 55,
   "metadata": {
    "collapsed": false
   },
   "outputs": [
    {
     "name": "stdout",
     "output_type": "stream",
     "text": [
      "observed haplotype is 0b111111111111111\n"
     ]
    }
   ],
   "source": [
    "print 'observed haplotype is {}'.format(bin(hap_334))"
   ]
  },
  {
   "cell_type": "code",
   "execution_count": 56,
   "metadata": {
    "collapsed": false
   },
   "outputs": [
    {
     "name": "stdout",
     "output_type": "stream",
     "text": [
      "prior probability is 0.0364080238236\n"
     ]
    }
   ],
   "source": [
    "print 'prior probability is {}'.format(np.exp(log_priors[uniq_id_of_hap[hap_334]]))"
   ]
  },
  {
   "cell_type": "code",
   "execution_count": 57,
   "metadata": {
    "collapsed": false
   },
   "outputs": [
    {
     "name": "stdout",
     "output_type": "stream",
     "text": [
      "posterior probability is 0.786051570702\n"
     ]
    }
   ],
   "source": [
    "print 'posterior probability is {}'.format(np.exp(log_p_h_g_e[uniq_id_of_hap[hap_334]]))"
   ]
  },
  {
   "cell_type": "code",
   "execution_count": 59,
   "metadata": {
    "collapsed": false
   },
   "outputs": [
    {
     "name": "stdout",
     "output_type": "stream",
     "text": [
      "Haplotype 0b111111111111111 means the read has sec allells for all the positions in the following table:\n"
     ]
    }
   ],
   "source": [
    "print 'Haplotype {} means the read has sec allells for all the positions in the following table:'.format(bin(hap_334))"
   ]
  },
  {
   "cell_type": "code",
   "execution_count": 60,
   "metadata": {
    "collapsed": false
   },
   "outputs": [
    {
     "data": {
      "text/html": [
       "<div>\n",
       "<table border=\"1\" class=\"dataframe\">\n",
       "  <thead>\n",
       "    <tr style=\"text-align: right;\">\n",
       "      <th></th>\n",
       "      <th>chr</th>\n",
       "      <th>id</th>\n",
       "      <th>morgan</th>\n",
       "      <th>bp</th>\n",
       "      <th>pri</th>\n",
       "      <th>sec</th>\n",
       "    </tr>\n",
       "  </thead>\n",
       "  <tbody>\n",
       "    <tr>\n",
       "      <th>18585</th>\n",
       "      <td>20</td>\n",
       "      <td>rs2317021</td>\n",
       "      <td>0</td>\n",
       "      <td>714008</td>\n",
       "      <td>A</td>\n",
       "      <td>G</td>\n",
       "    </tr>\n",
       "    <tr>\n",
       "      <th>18687</th>\n",
       "      <td>20</td>\n",
       "      <td>rs6117373</td>\n",
       "      <td>0</td>\n",
       "      <td>717649</td>\n",
       "      <td>C</td>\n",
       "      <td>T</td>\n",
       "    </tr>\n",
       "    <tr>\n",
       "      <th>18757</th>\n",
       "      <td>20</td>\n",
       "      <td>rs2144930</td>\n",
       "      <td>0</td>\n",
       "      <td>720916</td>\n",
       "      <td>G</td>\n",
       "      <td>A</td>\n",
       "    </tr>\n",
       "    <tr>\n",
       "      <th>18935</th>\n",
       "      <td>20</td>\n",
       "      <td>rs60461885</td>\n",
       "      <td>0</td>\n",
       "      <td>727476</td>\n",
       "      <td>C</td>\n",
       "      <td>T</td>\n",
       "    </tr>\n",
       "    <tr>\n",
       "      <th>18967</th>\n",
       "      <td>20</td>\n",
       "      <td>rs6054508</td>\n",
       "      <td>0</td>\n",
       "      <td>728499</td>\n",
       "      <td>A</td>\n",
       "      <td>C</td>\n",
       "    </tr>\n",
       "    <tr>\n",
       "      <th>19046</th>\n",
       "      <td>20</td>\n",
       "      <td>rs57596504</td>\n",
       "      <td>0</td>\n",
       "      <td>730893</td>\n",
       "      <td>C</td>\n",
       "      <td>T</td>\n",
       "    </tr>\n",
       "    <tr>\n",
       "      <th>19050</th>\n",
       "      <td>20</td>\n",
       "      <td>rs13039346</td>\n",
       "      <td>0</td>\n",
       "      <td>731005</td>\n",
       "      <td>A</td>\n",
       "      <td>G</td>\n",
       "    </tr>\n",
       "    <tr>\n",
       "      <th>19089</th>\n",
       "      <td>20</td>\n",
       "      <td>rs6140092</td>\n",
       "      <td>0</td>\n",
       "      <td>732295</td>\n",
       "      <td>A</td>\n",
       "      <td>G</td>\n",
       "    </tr>\n",
       "    <tr>\n",
       "      <th>19159</th>\n",
       "      <td>20</td>\n",
       "      <td>rs56210940</td>\n",
       "      <td>0</td>\n",
       "      <td>734617</td>\n",
       "      <td>A</td>\n",
       "      <td>G</td>\n",
       "    </tr>\n",
       "    <tr>\n",
       "      <th>19223</th>\n",
       "      <td>20</td>\n",
       "      <td>rs6140099</td>\n",
       "      <td>0</td>\n",
       "      <td>736644</td>\n",
       "      <td>G</td>\n",
       "      <td>A</td>\n",
       "    </tr>\n",
       "    <tr>\n",
       "      <th>19418</th>\n",
       "      <td>20</td>\n",
       "      <td>rs6038642</td>\n",
       "      <td>0</td>\n",
       "      <td>743018</td>\n",
       "      <td>G</td>\n",
       "      <td>T</td>\n",
       "    </tr>\n",
       "    <tr>\n",
       "      <th>19421</th>\n",
       "      <td>20</td>\n",
       "      <td>rs13039544</td>\n",
       "      <td>0</td>\n",
       "      <td>743124</td>\n",
       "      <td>C</td>\n",
       "      <td>G</td>\n",
       "    </tr>\n",
       "    <tr>\n",
       "      <th>19442</th>\n",
       "      <td>20</td>\n",
       "      <td>rs910858</td>\n",
       "      <td>0</td>\n",
       "      <td>743827</td>\n",
       "      <td>G</td>\n",
       "      <td>A</td>\n",
       "    </tr>\n",
       "    <tr>\n",
       "      <th>19485</th>\n",
       "      <td>20</td>\n",
       "      <td>rs6077095</td>\n",
       "      <td>0</td>\n",
       "      <td>745181</td>\n",
       "      <td>A</td>\n",
       "      <td>T</td>\n",
       "    </tr>\n",
       "    <tr>\n",
       "      <th>19508</th>\n",
       "      <td>20</td>\n",
       "      <td>rs3746808</td>\n",
       "      <td>0</td>\n",
       "      <td>746098</td>\n",
       "      <td>G</td>\n",
       "      <td>A</td>\n",
       "    </tr>\n",
       "  </tbody>\n",
       "</table>\n",
       "</div>"
      ],
      "text/plain": [
       "       chr          id  morgan      bp pri sec\n",
       "18585   20   rs2317021       0  714008   A   G\n",
       "18687   20   rs6117373       0  717649   C   T\n",
       "18757   20   rs2144930       0  720916   G   A\n",
       "18935   20  rs60461885       0  727476   C   T\n",
       "18967   20   rs6054508       0  728499   A   C\n",
       "19046   20  rs57596504       0  730893   C   T\n",
       "19050   20  rs13039346       0  731005   A   G\n",
       "19089   20   rs6140092       0  732295   A   G\n",
       "19159   20  rs56210940       0  734617   A   G\n",
       "19223   20   rs6140099       0  736644   G   A\n",
       "19418   20   rs6038642       0  743018   G   T\n",
       "19421   20  rs13039544       0  743124   C   G\n",
       "19442   20    rs910858       0  743827   G   A\n",
       "19485   20   rs6077095       0  745181   A   T\n",
       "19508   20   rs3746808       0  746098   G   A"
      ]
     },
     "execution_count": 60,
     "metadata": {},
     "output_type": "execute_result"
    }
   ],
   "source": [
    "bim334"
   ]
  },
  {
   "cell_type": "code",
   "execution_count": 61,
   "metadata": {
    "collapsed": false
   },
   "outputs": [
    {
     "name": "stdout",
     "output_type": "stream",
     "text": [
      "This matches to our observation: GTATCTGGGATGATA, and our inference works successfully\n"
     ]
    }
   ],
   "source": [
    "print 'This matches to our observation: {}, and our inference works successfully'.format(''.join(snp334_filtered[:, 3].tolist()))"
   ]
  },
  {
   "cell_type": "markdown",
   "metadata": {},
   "source": [
    "- The Platinum Genome vcf file says there is no SNP on 'rs6077095' (6-th column on the following table), but I suspect it is a mistake"
   ]
  },
  {
   "cell_type": "code",
   "execution_count": 62,
   "metadata": {
    "collapsed": false
   },
   "outputs": [
    {
     "name": "stdout",
     "output_type": "stream",
     "text": [
      "[['chr20' '714008' 'a' 'G' 'rs2317021' 'True' '18']\n",
      " ['chr20' '717649' 'c' 'T' 'rs6117373' 'True' '16']\n",
      " ['chr20' '720916' 'G' 'A' 'rs2144930' 'True' '14']\n",
      " ['chr20' '727476' 'c' 'T' 'rs60461885' 'True' '16']\n",
      " ['chr20' '728499' 'a' 'C' 'rs6054508' 'True' '16']\n",
      " ['chr20' '730893' 'c' 'T' 'rs57596504' 'True' '16']\n",
      " ['chr20' '731005' 'a' 'G' 'rs13039346' 'True' '19']\n",
      " ['chr20' '732295' 'a' 'G' 'rs6140092' 'True' '19']\n",
      " ['chr20' '734617' 'a' 'G' 'rs56210940' 'True' '16']\n",
      " ['chr20' '736644' 'g' 'A' 'rs6140099' 'True' '16']\n",
      " ['chr20' '743018' 'G' 'T' 'rs6038642' 'True' '18']\n",
      " ['chr20' '743124' 'C' 'G' 'rs13039544' 'True' '14']\n",
      " ['chr20' '743827' 'g' 'A' 'rs910858' 'True' '16']\n",
      " ['chr20' '745181' 'A' 'T' 'rs6077095' 'False' '18']\n",
      " ['chr20' '746098' 'G' 'A' 'rs3746808' 'True' '16']]\n"
     ]
    }
   ],
   "source": [
    "print snp334_filtered"
   ]
  },
  {
   "cell_type": "code",
   "execution_count": null,
   "metadata": {
    "collapsed": true
   },
   "outputs": [],
   "source": []
  }
 ],
 "metadata": {
  "anaconda-cloud": {},
  "kernelspec": {
   "display_name": "Python [conda env:pgenlib]",
   "language": "python",
   "name": "conda-env-pgenlib-py"
  },
  "language_info": {
   "codemirror_mode": {
    "name": "ipython",
    "version": 2
   },
   "file_extension": ".py",
   "mimetype": "text/x-python",
   "name": "python",
   "nbconvert_exporter": "python",
   "pygments_lexer": "ipython2",
   "version": "2.7.5"
  }
 },
 "nbformat": 4,
 "nbformat_minor": 1
}
