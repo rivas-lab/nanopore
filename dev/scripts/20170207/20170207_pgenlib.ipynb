{
 "cells": [
  {
   "cell_type": "markdown",
   "metadata": {},
   "source": [
    "# [technical note] pgenlib\n",
    "\n",
    "- Yosuke Tanigawa (ytanigaw@stanford.edu)\n",
    "- 2017.02.07"
   ]
  },
  {
   "cell_type": "markdown",
   "metadata": {},
   "source": [
    "## objective \n",
    "- Learn how to call pgenlib with python API \n",
    "- would like to demonstrate if we can infer haplotype based on informative snps on long reads\n",
    "\n",
    "### update\n",
    "- 2017/02/07:\n",
    "  - changed population reference to 1KG\n",
    "- 2017/02/06: \n",
    "  - updated pgenlib python binding from v0.5 to v0.6 \n",
    "  - learned how to get genotype info from pgen file (imputed file)\n",
    "- 2017/02/03: \n",
    "  - Initial draft: working with bgen file (array data without imputation)\n",
    "\n",
    "## data set in mind\n",
    "- `/share/PI/mrivas/data/nanopore-wgs-consortium-old/nanopore-wgs.25000.sorted.10k.mapq50.ext.sorted.informative.q14.snps`\n",
    "\n",
    "## dependencies"
   ]
  },
  {
   "cell_type": "code",
   "execution_count": 1,
   "metadata": {
    "collapsed": false
   },
   "outputs": [],
   "source": [
    "import numpy as np\n",
    "import pgenlib as pg\n",
    "import pandas as pd\n",
    "import subprocess as sp\n",
    "import sys"
   ]
  },
  {
   "cell_type": "code",
   "execution_count": 2,
   "metadata": {
    "collapsed": true
   },
   "outputs": [],
   "source": [
    "import matplotlib\n",
    "matplotlib.use('agg')\n",
    "from matplotlib import pyplot as plt"
   ]
  },
  {
   "cell_type": "markdown",
   "metadata": {},
   "source": [
    "## how to read pgen file (or bed file)\n",
    "- In the following sections, I will try basic APIs based on specification"
   ]
  },
  {
   "cell_type": "raw",
   "metadata": {},
   "source": [
    "Pgenlib Python API specification, v0.6\n",
    "(\"import numpy as np\" assumed)"
   ]
  },
  {
   "cell_type": "raw",
   "metadata": {},
   "source": [
    "class PgenReader:\n",
    "* PgenReader(filename, raw_sample_ct = None, variant_ct = None,\n",
    "             sample_subset = None)\n",
    "  Constructor, opens the .pgen or .bed file.  Requires a filename (exception is\n",
    "  thrown if file doesn't exist or it's invalid).\n",
    "  - raw_sample_ct is required for a .bed file (otherwise an exception will be\n",
    "    thrown), and optional for a .pgen file.  If it's provided for a .pgen file,\n",
    "    an exception is thrown if sample_ct does not match the value in the .pgen.\n",
    "  - variant_ct is always optional.  An exception is thrown if it does not match\n",
    "    the value implied by the .bed file's size, or the explicitly stored value\n",
    "    in the .pgen.\n",
    "  - sample_subset is an optional numpy uint32 array of (0-based) indexes in\n",
    "    increasing order, telling the reader to only consider the specified samples\n",
    "    when loading or counting genotypes.  For example, if your .fam file looks\n",
    "    something like\n",
    "      40184_187545456 40184_187545456 0       0       1       -9\n",
    "      40195_187545457 40195_187545457 0       0       1       -9\n",
    "      40206_187545458 40206_187545458 0       0       1       -9\n",
    "      40217_187545459 40217_187545459 0       0       2       -9\n",
    "      40228_187545460 40228_187545460 0       0       1       -9\n",
    "      40239_187545461 40239_187545461 0       0       1       -9\n",
    "      40250_187520807 40250_187520807 0       0       1       -9\n",
    "      40261_187520806 40261_187520806 0       0       1       -9\n",
    "      40272_187520805 40272_187520805 0       0       2       -9\n",
    "      40283_187520804 40283_187520804 0       0       1       -9\n",
    "    then a [1, 4, 5, 6] array specifies samples 40195_187545457,\n",
    "    40228_187545460, 40239_187545461, and 40250_187520807.\n",
    "    None indicates that all samples should be included.  Otherwise, an\n",
    "    exception is thrown if any value is not an integer in 0..(raw_sample_ct -\n",
    "    1), or the values are not strictly increasing, or the array is empty.\n",
    "    (Empty array might be permitted in the future.)"
   ]
  },
  {
   "cell_type": "code",
   "execution_count": 3,
   "metadata": {
    "collapsed": true
   },
   "outputs": [],
   "source": [
    "chr20 = pg.PgenReader('/scratch/users/ytanigaw/20170207/ALL.chr20.phase3_shapeit2_mvncall_integrated_v5a.20130502.genotypes-pgen.pgen')"
   ]
  },
  {
   "cell_type": "code",
   "execution_count": 4,
   "metadata": {
    "collapsed": false
   },
   "outputs": [
    {
     "data": {
      "text/plain": [
       "Python.pgenlib.PgenReader"
      ]
     },
     "execution_count": 4,
     "metadata": {},
     "output_type": "execute_result"
    }
   ],
   "source": [
    "type(chr20)"
   ]
  },
  {
   "cell_type": "markdown",
   "metadata": {},
   "source": [
    "- We now have genotypic information on memory with pgenlib"
   ]
  },
  {
   "cell_type": "code",
   "execution_count": 5,
   "metadata": {
    "collapsed": true
   },
   "outputs": [],
   "source": [
    "bim20 = pd.read_csv('/scratch/users/ytanigaw/20170207/ALL.chr20.phase3_shapeit2_mvncall_integrated_v5a.20130502.genotypes-pgen.bim',\n",
    "                    sep = '\\t', \n",
    "                    names = ['chr', 'id', 'morgan', 'bp', 'pri', 'sec'])"
   ]
  },
  {
   "cell_type": "code",
   "execution_count": 6,
   "metadata": {
    "collapsed": false
   },
   "outputs": [
    {
     "data": {
      "text/html": [
       "<div>\n",
       "<table border=\"1\" class=\"dataframe\">\n",
       "  <thead>\n",
       "    <tr style=\"text-align: right;\">\n",
       "      <th></th>\n",
       "      <th>chr</th>\n",
       "      <th>id</th>\n",
       "      <th>morgan</th>\n",
       "      <th>bp</th>\n",
       "      <th>pri</th>\n",
       "      <th>sec</th>\n",
       "    </tr>\n",
       "  </thead>\n",
       "  <tbody>\n",
       "    <tr>\n",
       "      <th>0</th>\n",
       "      <td>20</td>\n",
       "      <td>rs527639301</td>\n",
       "      <td>0</td>\n",
       "      <td>60343</td>\n",
       "      <td>A</td>\n",
       "      <td>G</td>\n",
       "    </tr>\n",
       "    <tr>\n",
       "      <th>1</th>\n",
       "      <td>20</td>\n",
       "      <td>rs538242240</td>\n",
       "      <td>0</td>\n",
       "      <td>60419</td>\n",
       "      <td>G</td>\n",
       "      <td>A</td>\n",
       "    </tr>\n",
       "    <tr>\n",
       "      <th>2</th>\n",
       "      <td>20</td>\n",
       "      <td>rs149529999</td>\n",
       "      <td>0</td>\n",
       "      <td>60479</td>\n",
       "      <td>T</td>\n",
       "      <td>C</td>\n",
       "    </tr>\n",
       "    <tr>\n",
       "      <th>3</th>\n",
       "      <td>20</td>\n",
       "      <td>rs150241001</td>\n",
       "      <td>0</td>\n",
       "      <td>60522</td>\n",
       "      <td>TC</td>\n",
       "      <td>T</td>\n",
       "    </tr>\n",
       "    <tr>\n",
       "      <th>4</th>\n",
       "      <td>20</td>\n",
       "      <td>rs533509214</td>\n",
       "      <td>0</td>\n",
       "      <td>60568</td>\n",
       "      <td>C</td>\n",
       "      <td>A</td>\n",
       "    </tr>\n",
       "  </tbody>\n",
       "</table>\n",
       "</div>"
      ],
      "text/plain": [
       "   chr           id  morgan     bp pri sec\n",
       "0   20  rs527639301       0  60343   A   G\n",
       "1   20  rs538242240       0  60419   G   A\n",
       "2   20  rs149529999       0  60479   T   C\n",
       "3   20  rs150241001       0  60522  TC   T\n",
       "4   20  rs533509214       0  60568   C   A"
      ]
     },
     "execution_count": 6,
     "metadata": {},
     "output_type": "execute_result"
    }
   ],
   "source": [
    "bim20.head()"
   ]
  },
  {
   "cell_type": "markdown",
   "metadata": {},
   "source": [
    "- we also have bim file on memory"
   ]
  },
  {
   "cell_type": "markdown",
   "metadata": {},
   "source": [
    "#### # of SNP sites"
   ]
  },
  {
   "cell_type": "code",
   "execution_count": 7,
   "metadata": {
    "collapsed": false
   },
   "outputs": [
    {
     "name": "stdout",
     "output_type": "stream",
     "text": [
      "1812841 /scratch/users/ytanigaw/20170207/ALL.chr20.phase3_shapeit2_mvncall_integrated_v5a.20130502.genotypes-pgen.bim\r\n"
     ]
    }
   ],
   "source": [
    "!wc -l /scratch/users/ytanigaw/20170207/ALL.chr20.phase3_shapeit2_mvncall_integrated_v5a.20130502.genotypes-pgen.bim"
   ]
  },
  {
   "cell_type": "code",
   "execution_count": 8,
   "metadata": {
    "collapsed": false
   },
   "outputs": [
    {
     "data": {
      "text/plain": [
       "(1812841, 6)"
      ]
     },
     "execution_count": 8,
     "metadata": {},
     "output_type": "execute_result"
    }
   ],
   "source": [
    "bim20.shape"
   ]
  },
  {
   "cell_type": "markdown",
   "metadata": {},
   "source": [
    "## region of interest\n",
    "- Take SNP sites on the data file as follows:"
   ]
  },
  {
   "cell_type": "code",
   "execution_count": 9,
   "metadata": {
    "collapsed": false
   },
   "outputs": [
    {
     "data": {
      "text/plain": [
       "36979"
      ]
     },
     "execution_count": 9,
     "metadata": {},
     "output_type": "execute_result"
    }
   ],
   "source": [
    "regions_raw = !cat /share/PI/mrivas/data/nanopore-wgs-consortium-old/nanopore-wgs.25000.sorted.10k.mapq50.ext.sorted.informative.q14.snps|awk '{if(NR > 1){print $7}}'|sed -e 's/;/\\n/g'\n",
    "regions = [r.split(',') for r in regions_raw]\n",
    "len(regions)"
   ]
  },
  {
   "cell_type": "markdown",
   "metadata": {},
   "source": [
    "- our benchmark chromosome is chr20"
   ]
  },
  {
   "cell_type": "code",
   "execution_count": 10,
   "metadata": {
    "collapsed": false
   },
   "outputs": [
    {
     "name": "stdout",
     "output_type": "stream",
     "text": [
      "569\n"
     ]
    }
   ],
   "source": [
    "regions_chr20 = [x for x in regions if x[0][:5] == 'chr20']\n",
    "print len(regions_chr20)"
   ]
  },
  {
   "cell_type": "code",
   "execution_count": 11,
   "metadata": {
    "collapsed": false
   },
   "outputs": [
    {
     "data": {
      "text/plain": [
       "[['chr20:712806', 'T', 'A', '*', 'None', '16'],\n",
       " ['chr20:712968', 'C', 'G', '*', 'None', '19'],\n",
       " ['chr20:712969', 'T', 'G', '*', 'None', '18'],\n",
       " ['chr20:713575', 'a', 'T', '*', 'None', '14'],\n",
       " ['chr20:714008', 'a', 'G', 'rs2317021', 'True', '18'],\n",
       " ['chr20:714873', 'T', 'C', '*', 'None', '14'],\n",
       " ['chr20:717649', 'c', 'T', 'rs6117373', 'True', '16'],\n",
       " ['chr20:719542', 'c', 'T', '*', 'None', '15'],\n",
       " ['chr20:720916', 'G', 'A', 'rs2144930', 'True', '14'],\n",
       " ['chr20:725258', 'c', 'T', '*', 'None', '14']]"
      ]
     },
     "execution_count": 11,
     "metadata": {},
     "output_type": "execute_result"
    }
   ],
   "source": [
    "regions_chr20[:10]"
   ]
  },
  {
   "cell_type": "code",
   "execution_count": 13,
   "metadata": {
    "collapsed": false
   },
   "outputs": [
    {
     "name": "stdout",
     "output_type": "stream",
     "text": [
      "194\n"
     ]
    }
   ],
   "source": [
    "regions_chr20_snps = [x for x in regions_chr20 if x[3][:2] == 'rs']\n",
    "print len(regions_chr20_snps)"
   ]
  },
  {
   "cell_type": "code",
   "execution_count": 14,
   "metadata": {
    "collapsed": false
   },
   "outputs": [
    {
     "data": {
      "text/plain": [
       "[['chr20:714008', 'a', 'G', 'rs2317021', 'True', '18'],\n",
       " ['chr20:717649', 'c', 'T', 'rs6117373', 'True', '16'],\n",
       " ['chr20:720916', 'G', 'A', 'rs2144930', 'True', '14'],\n",
       " ['chr20:727476', 'c', 'T', 'rs60461885', 'True', '16'],\n",
       " ['chr20:728499', 'a', 'C', 'rs6054508', 'True', '16'],\n",
       " ['chr20:730893', 'c', 'T', 'rs57596504', 'True', '16'],\n",
       " ['chr20:731005', 'a', 'G', 'rs13039346', 'True', '19'],\n",
       " ['chr20:732295', 'a', 'G', 'rs6140092', 'True', '19'],\n",
       " ['chr20:734617', 'a', 'G', 'rs56210940', 'True', '16'],\n",
       " ['chr20:736644', 'g', 'A', 'rs6140099', 'True', '16']]"
      ]
     },
     "execution_count": 14,
     "metadata": {},
     "output_type": "execute_result"
    }
   ],
   "source": [
    "regions_chr20_snps[:10]"
   ]
  },
  {
   "cell_type": "markdown",
   "metadata": {},
   "source": [
    "## find variant_idxs of interest\n",
    "- we need to take correspondance between genomic coordinate and variant indeces"
   ]
  },
  {
   "cell_type": "code",
   "execution_count": 15,
   "metadata": {
    "collapsed": false
   },
   "outputs": [],
   "source": [
    "def browse_bim_file_by_genome_index(bim_df, index, head_num = 1, verbose = False):\n",
    "    if(verbose):\n",
    "        print 'query: {}'.format(index)\n",
    "    entry = bim_df.loc[index <= bim_df['bp']].head(head_num)\n",
    "    return(entry)"
   ]
  },
  {
   "cell_type": "code",
   "execution_count": 16,
   "metadata": {
    "collapsed": false
   },
   "outputs": [
    {
     "name": "stdout",
     "output_type": "stream",
     "text": [
      "194\n",
      "[714008, 717649, 720916, 727476, 728499, 730893, 731005, 732295, 734617, 736644]\n"
     ]
    }
   ],
   "source": [
    "idxs_chr20 = [int(r[0].split(':')[1]) for r in regions_chr20_snps]\n",
    "print len(idxs_chr20)\n",
    "print idxs_chr20[:10]"
   ]
  },
  {
   "cell_type": "code",
   "execution_count": 17,
   "metadata": {
    "collapsed": false
   },
   "outputs": [
    {
     "name": "stdout",
     "output_type": "stream",
     "text": [
      "query: 714008\n"
     ]
    },
    {
     "data": {
      "text/html": [
       "<div>\n",
       "<table border=\"1\" class=\"dataframe\">\n",
       "  <thead>\n",
       "    <tr style=\"text-align: right;\">\n",
       "      <th></th>\n",
       "      <th>chr</th>\n",
       "      <th>id</th>\n",
       "      <th>morgan</th>\n",
       "      <th>bp</th>\n",
       "      <th>pri</th>\n",
       "      <th>sec</th>\n",
       "    </tr>\n",
       "  </thead>\n",
       "  <tbody>\n",
       "    <tr>\n",
       "      <th>20751</th>\n",
       "      <td>20</td>\n",
       "      <td>rs2317021</td>\n",
       "      <td>0</td>\n",
       "      <td>714008</td>\n",
       "      <td>G</td>\n",
       "      <td>A</td>\n",
       "    </tr>\n",
       "  </tbody>\n",
       "</table>\n",
       "</div>"
      ],
      "text/plain": [
       "       chr         id  morgan      bp pri sec\n",
       "20751   20  rs2317021       0  714008   G   A"
      ]
     },
     "execution_count": 17,
     "metadata": {},
     "output_type": "execute_result"
    }
   ],
   "source": [
    "browse_bim_file_by_genome_index(bim20, idxs_chr20[0], verbose=True)"
   ]
  },
  {
   "cell_type": "code",
   "execution_count": 18,
   "metadata": {
    "collapsed": false
   },
   "outputs": [],
   "source": [
    "genome_index_to_variant_index = dict(zip(bim20['bp'], range(len(bim20))))"
   ]
  },
  {
   "cell_type": "code",
   "execution_count": 19,
   "metadata": {
    "collapsed": false
   },
   "outputs": [],
   "source": [
    "variant_idxs = np.array([genome_index_to_variant_index[pos] for pos in idxs_chr20 \n",
    "                         if pos in genome_index_to_variant_index],\n",
    "                        dtype = np.uint32)"
   ]
  },
  {
   "cell_type": "code",
   "execution_count": 20,
   "metadata": {
    "collapsed": false
   },
   "outputs": [
    {
     "name": "stdout",
     "output_type": "stream",
     "text": [
      "194\n",
      "181\n"
     ]
    }
   ],
   "source": [
    "print(len(idxs_chr20))\n",
    "print(len(variant_idxs))"
   ]
  },
  {
   "cell_type": "markdown",
   "metadata": {},
   "source": [
    "### # of samples, # of variants, phase info"
   ]
  },
  {
   "cell_type": "raw",
   "metadata": {},
   "source": [
    "* get_raw_sample_ct()\n",
    "  Returns the number of samples in the .pgen file.\n",
    "\n",
    "* get_variant_ct()\n",
    "  Returns the number of variants in the .pgen file.\n",
    "\n",
    "* hardcall_phase_present()\n",
    "  Returns True iff phased hardcalls may be present."
   ]
  },
  {
   "cell_type": "code",
   "execution_count": 21,
   "metadata": {
    "collapsed": false
   },
   "outputs": [
    {
     "name": "stdout",
     "output_type": "stream",
     "text": [
      "2504\n",
      "1812841\n",
      "False\n"
     ]
    }
   ],
   "source": [
    "print chr20.get_raw_sample_ct()\n",
    "print chr20.get_variant_ct()\n",
    "print chr20.hardcall_phase_present()"
   ]
  },
  {
   "cell_type": "markdown",
   "metadata": {},
   "source": [
    "### access genotype info of a specific locus"
   ]
  },
  {
   "cell_type": "raw",
   "metadata": {},
   "source": [
    "* read(uint32_t variant_idx, np.ndarray[np.int8_t] geno_int8_out,\n",
    "       uint32_t allele_idx = 1)\n",
    "  Takes a (0-based) variant index; fills geno_int8_out, which must be a numpy\n",
    "  int8 array with at least sample_ct entries, where sample_ct (as distinguished\n",
    "  from raw_sample_ct) is the size of the current sample subset.  These values\n",
    "  are in {0, 1, 2, -9}; by default, 0/1/2 represents the alternate allele\n",
    "  count.  Setting allele_idx = 0 causes reference allele counts to be reported\n",
    "  instead.  (If we ever use multiallelic variant records, setting allele_idx =\n",
    "  2 causes alternate allele 2 counts, etc.)\n",
    "  - I tried the interface without the required outbuffer, and it could take\n",
    "    twice as long due to all the extra allocation/deallocation.  The buffer can\n",
    "    be allocated with\n",
    "      buf = np.empty(sample_ct, np.int8)\n",
    "  - An exception is thrown if variant_idx or allele_idx is invalid (or there's\n",
    "    e.g. a file I/O error, or the file isn't open)\n",
    "  - Note that pgenlib is unaware of chromosome boundaries.  The caller is\n",
    "    responsible for chrX/chrY/chrM-specific corrections for now.\n",
    "  (It's straightforward to write a variation of this which fills a\n",
    "  2-dimensional numpy array given a sorted sequence of variant indices to load;\n",
    "  let me know if you need that.  Can make that automatically transpose to\n",
    "  sample-major, too.)\n",
    "\n",
    "* read_alleles(uint32_t variant_idx, np.ndarray[np.int32_t] allele_int32_out)\n",
    "* read_alleles_and_phasepresent(uint32_t variant_idx,\n",
    "                                np.ndarray[np.int32_t] allele_int32_out,\n",
    "                                np.ndarray[np.uint8_t,cast=True] phasepresent_out)\n",
    "  Takes a (0-based) variant index.\n",
    "  - allele_int32_out must have space for at least (2 * sample_ct) allele\n",
    "    indexes, where elements 2n and (2n+1) correspond to sample n.  Both indexes\n",
    "    are -9 if the genotype is missing.  If the genotype is unphased, the lower\n",
    "    index appears first.\n",
    "  - For read_alleles_and_phasepresent(), phasepresent_out should be a numpy\n",
    "    bool_, int8, or uint8 array.  Element n is set to true iff the genotype for\n",
    "    sample n has known phase.  Most of these values will be true even when the\n",
    "    raw data is unphased, because homozygous genotypes always have known phase.\n",
    "    (Missing genotypes are considered to have unknown phase, of course.)\n",
    "  - If int32_t is problematically large, you probably want to work with a 2-bit\n",
    "    representation rather than int8_t.  That's outside the scope of this API;\n",
    "    you may instead want to adapt the appropriate pgenlib.pyx function."
   ]
  },
  {
   "cell_type": "markdown",
   "metadata": {},
   "source": [
    "- read the first entry"
   ]
  },
  {
   "cell_type": "code",
   "execution_count": 22,
   "metadata": {
    "collapsed": false
   },
   "outputs": [
    {
     "name": "stdout",
     "output_type": "stream",
     "text": [
      "2504\n",
      "340\n",
      "962\n",
      "1202\n",
      "0\n"
     ]
    }
   ],
   "source": [
    "res_ary = np.zeros(chr20.get_raw_sample_ct(), dtype=np.int8)\n",
    "chr20.read(variant_idxs[0], res_ary)\n",
    "print len(res_ary)\n",
    "print sum(res_ary == 0)\n",
    "print sum(res_ary == 1)\n",
    "print sum(res_ary == 2)\n",
    "print sum(res_ary == -9)"
   ]
  },
  {
   "cell_type": "raw",
   "metadata": {},
   "source": [
    "* read_range(uint32_t variant_idx_start, uint32_t variant_idx_end,\n",
    "             np.ndarray[np.int8_t,mode=\"c\",ndim=2] geno_int8_out,\n",
    "\t     uint32_t allele_idx = 1, bint sample_maj = 0)\n",
    "  read_list(np.ndarray[np.uint32_t] variant_idxs,\n",
    "            np.ndarray[np.int8_t,mode=\"c\",ndim=2] geno_int8_out,\n",
    "\t    uint32_t allele_idx = 1, bint sample_maj = 0)\n",
    "  read_alleles_range(uint32_t variant_idx_start, uint32_t variant_idx_end,\n",
    "                     np.ndarray[np.int32_t,mode=\"c\",ndim=2] allele_int32_out,\n",
    "\t\t     bint hap_maj = 0)\n",
    "  read_alleles_list(np.ndarray[np.uint32_t] variant_idxs,\n",
    "                    np.ndarray[np.int32_t,mode=\"c\",ndim=2] allele_int32_out,\n",
    "\t\t    bint hap_maj = 0)\n",
    "  read_alleles_and_phasepresent_range(uint32_t variant_idx_start,\n",
    "                                      uint32_t variant_idx_end,\n",
    "                                      np.ndarray[np.int32_t,mode=\"c\",ndim=2] allele_int32_out,\n",
    "\t\t\t              np.ndarray[np.uint8_t,mode=\"c\",cast=True,ndim=2] phasepresent_out,\n",
    "\t\t\t              bint hap_maj = 0)\n",
    "  read_alleles_and_phasepresent_list(np.ndarray[np.uint32_t] variant_idxs,\n",
    "                                     np.ndarray[np.int32_t,mode=\"c\",ndim=2] allele_int32_out,\n",
    "\t\t\t             np.ndarray[np.uint8_t,mode=\"c\",cast=True,ndim=2] phasepresent_out,\n",
    "\t\t\t             bint hap_maj = 0)\n",
    "  Read functions which handle multiple variants at once, saving data to 2D\n",
    "  arrays.  By default, the return arrays are variant-major (# of columns is\n",
    "  based on sample_ct, # of rows is equal to the block size); set\n",
    "  sample_maj(/hap_maj) = True to make them sample(/haplotype)-major instead.\n",
    "  For the _range() functions, the interval is half-open (i.e. variant_idx_start\n",
    "  is included, variant_idx_end - 1 is included, variant_idx_end is not).  For\n",
    "  the _list() functions, it's currently okay for the variant indexes to be\n",
    "  unsorted, or for duplicates to be present, but that may not remain true."
   ]
  },
  {
   "cell_type": "markdown",
   "metadata": {},
   "source": [
    "- want to read variants of interest at once"
   ]
  },
  {
   "cell_type": "code",
   "execution_count": 23,
   "metadata": {
    "collapsed": true
   },
   "outputs": [],
   "source": [
    "res_mat = np.zeros((len(variant_idxs), chr20.get_raw_sample_ct()), dtype=np.int8)"
   ]
  },
  {
   "cell_type": "code",
   "execution_count": 24,
   "metadata": {
    "collapsed": false
   },
   "outputs": [
    {
     "data": {
      "text/plain": [
       "(2504,)"
      ]
     },
     "execution_count": 24,
     "metadata": {},
     "output_type": "execute_result"
    }
   ],
   "source": [
    "res_ary.shape"
   ]
  },
  {
   "cell_type": "code",
   "execution_count": 25,
   "metadata": {
    "collapsed": true
   },
   "outputs": [],
   "source": [
    "chr20.read_list(variant_idxs, res_mat)"
   ]
  },
  {
   "cell_type": "markdown",
   "metadata": {},
   "source": [
    "- resulting matrix\n",
    "  - each row corresponds to one loci on genome\n",
    "  - each column corresponds to an individual in the reference panel\n",
    "  - 0/1/2 represents the alternate allele count."
   ]
  },
  {
   "cell_type": "code",
   "execution_count": 26,
   "metadata": {
    "collapsed": false
   },
   "outputs": [
    {
     "data": {
      "text/plain": [
       "array([[2, 2, 1, 0, 2, 1, 1, 0, 2, 1, 1, 2, 1, 0, 2],\n",
       "       [0, 0, 0, 0, 0, 0, 1, 1, 1, 0, 0, 0, 0, 0, 0],\n",
       "       [0, 0, 0, 0, 2, 1, 2, 2, 1, 1, 0, 0, 1, 0, 1],\n",
       "       [1, 1, 0, 0, 2, 1, 2, 1, 1, 1, 0, 0, 1, 0, 1],\n",
       "       [2, 1, 1, 1, 2, 2, 2, 2, 1, 2, 1, 0, 2, 0, 1],\n",
       "       [1, 1, 0, 1, 2, 1, 1, 0, 1, 1, 0, 0, 1, 0, 1],\n",
       "       [1, 1, 0, 1, 2, 1, 2, 1, 1, 1, 0, 0, 1, 0, 1],\n",
       "       [1, 1, 0, 1, 2, 1, 1, 0, 1, 1, 0, 0, 1, 0, 1],\n",
       "       [1, 1, 0, 1, 0, 0, 0, 0, 1, 0, 0, 0, 0, 0, 0],\n",
       "       [2, 2, 2, 1, 2, 2, 2, 2, 2, 2, 1, 1, 2, 0, 1]], dtype=int8)"
      ]
     },
     "execution_count": 26,
     "metadata": {},
     "output_type": "execute_result"
    }
   ],
   "source": [
    "res_mat[:10, :15]"
   ]
  },
  {
   "cell_type": "raw",
   "metadata": {},
   "source": [
    "* count(uint32_t variant_idx, np.ndarray[np.uint32_t] genocount_uint32_out,\n",
    "        uint32_t allele_idx = 1)\n",
    "  Takes a (0-based) variant index, fills genocount_uint32_out (which must have\n",
    "  at least 4 slots).  First element corresponds to the number of genotypes with\n",
    "  0 alt1 alleles, the second element corresponds to the # with one alt1 allele,\n",
    "  the third corresponds to homozygous-alt1, and the fourth corresponds to the\n",
    "  number of missing genotypes.\n",
    "  - Setting allele_idx = 0 replaces \"alt1\" with \"ref\" above.\n",
    "  - Setting allele_idx = None is functionally equivalent to allele_idx = 1 on\n",
    "    all-biallelic data, but the length of the array is no longer limited to 4\n",
    "    for multiallelic variants; instead it has 1 + v(v+1)/2 elements where v is\n",
    "    the number of alleles, in 0/0, 0/1, 1/1, 0/2, 1/2, 2/2, 0/3, ...,\n",
    "    (v-1)/(v-1), ./. order.  (This matches VCF FORMAT:GL order.)\n",
    "  (Todo: check whether multi-variant analogues of read/read_phased/count have\n",
    "  any value.)\n",
    "\n",
    "* phased_samples() [not written yet]\n",
    "  If phase set data is present, or the entire dataset is unphased, returns a\n",
    "  numpy bool_ array where element n is true iff sample n has at least one phase\n",
    "  set.  Throws an exception if phased variants are present, but no phase set\n",
    "  data track is present.  (Note that the phase set data track is not\n",
    "  implemented yet, but it should be within the next few months.)\n",
    "\n",
    "* change_sample_subset(sample_subset = None)\n",
    "  Changes the subset of samples to read.\n",
    "  - sample_subset format is the same as for the constructor.  (This isn't\n",
    "    really optimized; it's assumed that you won't be calling this often.  If\n",
    "    you ever need a higher-performance version of this, let me know.)\n",
    "\n",
    "* close()\n",
    "  Closes the file, no further read operations can be performed.\n",
    "  - Not strictly necessary when e.g. a with-statement is used, but still a good\n",
    "    idea in longer scripts since otherwise object cleanup/file close may be\n",
    "    delayed.\n",
    "\n",
    "\n",
    "class PgenWriter:\n",
    "* PgenWriter(filename, sample_ct, variant_ct, nonref_flags,\n",
    "             allele_idx_offsets = None, hardcall_phase_present = False,\n",
    "\t     dosage_present = False, dosage_phase_present = False)\n",
    "  Constructor, creates a new .pgen file and writes a mostly-empty header (which\n",
    "  gets filled at the end).\n",
    "  - sample_ct and variant_ct must be positive (and less than about 2^31).\n",
    "  - nonref_flags should be True when the data is from an ordinary PLINK 1.x\n",
    "    .bed file (where the A2 allele is major rather than consistently\n",
    "    reference), False when the A2 allele *is* consistently reference, or a\n",
    "    numpy bool_ array of length variant_ct when this is mixed.  (Strictly\n",
    "    speaking, None is also permitted--that delegates tracking of nonref\n",
    "    information to the .pvar file--but it's discouraged, since .pgen+.bim+.fam\n",
    "    is a useful data representation with direct plink2 support.)\n",
    "  - allele_idx_offsets is an optional numpy intp array of length\n",
    "    (variant_ct+1), where allele_idx_offsets[0] = 0, and the number of alleles\n",
    "    for (0-based) variant n is (allele_idx_offsets[n+1]-allele_idx_offsets[n]).\n",
    "    # of alleles must be at least 2 for each variant.  If allele_idx_offsets\n",
    "    is None, all variants are assumed to be biallelic.\n",
    "\n",
    "* append_biallelic(genobytes)\n",
    "  Takes a numpy int8 array with sample_ct {0, 1, 2, -9} elements, and appends\n",
    "  it to the .pgen.  Ok to use 3 in place of -9.\n",
    "\n",
    "* append_alleles(allele_codes, all_phased = False)\n",
    "  append_partially_phased(allele_codes, np.ndarray[np.uint8_t,cast=True] phasepresent)\n",
    "  Takes a numpy int32 array with (2 * sample_ct) allele codes (0 = ref,\n",
    "  1 = alt1, -9 = missing), and appends it to the .pgen.  -9s must occur in\n",
    "  pairs.\n",
    "  - With append_alleles(), all genotypes are treated as unphased by default.\n",
    "    Set all_phased to True to treat all genotypes as phased instead.\n",
    "  - With append_partially_phased(), phasepresent should be a numpy bool_ (or\n",
    "    equivalent int8_t/uint8_t; in that case, all values must be 0s and 1s)\n",
    "    array of length sample_ct.  Entries for non-heterozygous calls are ignored.\n",
    "  - It's fine for an unphased het call to be stored in 1/0 instead of 0/1\n",
    "    order.\n",
    "\n",
    "* close()\n",
    "  Backfills the header and closes the file; no further append operations can be\n",
    "  performed.  Throws an exception if the number of written variants is not\n",
    "  equal to the initially-declared variant_ct."
   ]
  },
  {
   "cell_type": "code",
   "execution_count": null,
   "metadata": {
    "collapsed": true
   },
   "outputs": [],
   "source": []
  }
 ],
 "metadata": {
  "anaconda-cloud": {},
  "kernelspec": {
   "display_name": "Python [conda env:pgenlib]",
   "language": "python",
   "name": "conda-env-pgenlib-py"
  },
  "language_info": {
   "codemirror_mode": {
    "name": "ipython",
    "version": 2
   },
   "file_extension": ".py",
   "mimetype": "text/x-python",
   "name": "python",
   "nbconvert_exporter": "python",
   "pygments_lexer": "ipython2",
   "version": "2.7.5"
  }
 },
 "nbformat": 4,
 "nbformat_minor": 1
}
