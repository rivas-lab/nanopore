{
 "cells": [
  {
   "cell_type": "markdown",
   "metadata": {},
   "source": [
    "# [technical note] [WIP] pgenlib\n",
    "\n",
    "- Yosuke Tanigawa (ytanigaw@stanford.edu)\n",
    "- 2017.02.02"
   ]
  },
  {
   "cell_type": "markdown",
   "metadata": {},
   "source": [
    "## objective \n",
    "- Learn how to call pgenlib with python API \n",
    "- would like to demonstrate if we can infer haplotype based on informative snps on long reads\n",
    "\n",
    "## data set in mind\n",
    "- `/share/PI/mrivas/data/nanopore-wgs-consortium-old/nanopore-wgs.25000.sorted.10k.mapq50.ext.sorted.informative.q14.snps`\n",
    "\n",
    "## dependencies"
   ]
  },
  {
   "cell_type": "code",
   "execution_count": 1,
   "metadata": {
    "collapsed": false
   },
   "outputs": [],
   "source": [
    "import numpy as np\n",
    "import pgenlib as pg\n",
    "import pandas as pd\n",
    "import subprocess as sp\n",
    "import sys"
   ]
  },
  {
   "cell_type": "code",
   "execution_count": 2,
   "metadata": {
    "collapsed": true
   },
   "outputs": [],
   "source": [
    "import matplotlib\n",
    "matplotlib.use('agg')\n",
    "from matplotlib import pyplot as plt"
   ]
  },
  {
   "cell_type": "markdown",
   "metadata": {},
   "source": [
    "## how to read pgen file (or bed file)\n",
    "- In the following sections, I will try basic APIs based on specification"
   ]
  },
  {
   "cell_type": "raw",
   "metadata": {},
   "source": [
    "Pgenlib Python API specification, v0.5\n",
    "(\"import numpy as np\" assumed)"
   ]
  },
  {
   "cell_type": "raw",
   "metadata": {},
   "source": [
    "class PgenReader:\n",
    "* PgenReader(filename, raw_sample_ct = None, variant_ct = None,\n",
    "             sample_subset = None)\n",
    "  Constructor, opens the .pgen or .bed file.  Requires a filename (exception is\n",
    "  thrown if file doesn't exist or it's invalid).\n",
    "  - raw_sample_ct is required for a .bed file (otherwise an exception will be\n",
    "    thrown), and optional for a .pgen file.  If it's provided for a .pgen file,\n",
    "    an exception is thrown if sample_ct does not match the value in the .pgen.\n",
    "  - variant_ct is always optional.  An exception is thrown if it does not match\n",
    "    the value implied by the .bed file's size, or the explicitly stored value\n",
    "    in the .pgen.\n",
    "  - sample_subset is an optional numpy uint32 array of (0-based) indexes in\n",
    "    increasing order, telling the reader to only consider the specified samples\n",
    "    when loading or counting genotypes.  For example, if your .fam file looks\n",
    "    something like\n",
    "      40184_187545456 40184_187545456 0       0       1       -9\n",
    "      40195_187545457 40195_187545457 0       0       1       -9\n",
    "      40206_187545458 40206_187545458 0       0       1       -9\n",
    "      40217_187545459 40217_187545459 0       0       2       -9\n",
    "      40228_187545460 40228_187545460 0       0       1       -9\n",
    "      40239_187545461 40239_187545461 0       0       1       -9\n",
    "      40250_187520807 40250_187520807 0       0       1       -9\n",
    "      40261_187520806 40261_187520806 0       0       1       -9\n",
    "      40272_187520805 40272_187520805 0       0       2       -9\n",
    "      40283_187520804 40283_187520804 0       0       1       -9\n",
    "    then a [1, 4, 5, 6] array specifies samples 40195_187545457,\n",
    "    40228_187545460, 40239_187545461, and 40250_187520807.\n",
    "    None indicates that all samples should be included.  Otherwise, an\n",
    "    exception is thrown if any value is not an integer in 0..(raw_sample_ct -\n",
    "    1), or the values are not strictly increasing, or the array is empty.\n",
    "    (Empty array might be permitted in the future.)\n"
   ]
  },
  {
   "cell_type": "markdown",
   "metadata": {},
   "source": [
    "- To reads bed file, one need to know the number of samples (raw_sample_ct), which we can obtain from corresponding ped file\n",
    "- here is the wrapper function to read bed file"
   ]
  },
  {
   "cell_type": "code",
   "execution_count": 4,
   "metadata": {
    "collapsed": false
   },
   "outputs": [
    {
     "ename": "RuntimeError",
     "evalue": "/share/PI/mrivas/ukbb/download/chr20impv1.bgen is not a .pgen file (first two bytes don't match the magic number).\n",
     "output_type": "error",
     "traceback": [
      "\u001b[0;31m---------------------------------------------------------------------------\u001b[0m",
      "\u001b[0;31mRuntimeError\u001b[0m                              Traceback (most recent call last)",
      "\u001b[0;32m<ipython-input-4-e31958054d22>\u001b[0m in \u001b[0;36m<module>\u001b[0;34m()\u001b[0m\n\u001b[0;32m----> 1\u001b[0;31m \u001b[0mchr11\u001b[0m \u001b[0;34m=\u001b[0m \u001b[0mpg\u001b[0m\u001b[0;34m.\u001b[0m\u001b[0mPgenReader\u001b[0m\u001b[0;34m(\u001b[0m\u001b[0;34m'/share/PI/mrivas/ukbb/download/chr20impv1.bgen'\u001b[0m\u001b[0;34m)\u001b[0m\u001b[0;34m\u001b[0m\u001b[0m\n\u001b[0m",
      "\u001b[0;32mPython/pgenlib.pyx\u001b[0m in \u001b[0;36mPython.pgenlib.PgenReader.__cinit__ (pgenlib.cpp:2601)\u001b[0;34m()\u001b[0m\n",
      "\u001b[0;31mRuntimeError\u001b[0m: /share/PI/mrivas/ukbb/download/chr20impv1.bgen is not a .pgen file (first two bytes don't match the magic number).\n"
     ]
    }
   ],
   "source": [
    "chr11 = pg.PgenReader('/share/PI/mrivas/ukbb/download/chr20impv1.bgen')"
   ]
  },
  {
   "cell_type": "code",
   "execution_count": null,
   "metadata": {
    "collapsed": true
   },
   "outputs": [],
   "source": []
  },
  {
   "cell_type": "code",
   "execution_count": 3,
   "metadata": {
    "collapsed": false
   },
   "outputs": [],
   "source": [
    "def pgen_reader_wrapper(data_dir, chrom):\n",
    "    file_base = '{}/chrom{}'.format(data_dir, chrom)\n",
    "    try:\n",
    "        raw_sample_ct = \\\n",
    "        int(sp.check_output([\"wc\", \"-l\", \n",
    "                             '{}.fam'.format(file_base)]).split()[0])\n",
    "    except:\n",
    "        print \"Unexpected error:\", sys.exc_info()[0]\n",
    "        raise        \n",
    "    else:\n",
    "        try:\n",
    "            pgen_obj = pg.PgenReader('{}.bed'.format(file_base),\n",
    "                                     raw_sample_ct)\n",
    "        except:\n",
    "            raise\n",
    "        else:\n",
    "            return(pgen_obj)"
   ]
  },
  {
   "cell_type": "markdown",
   "metadata": {},
   "source": [
    "## region of interest\n",
    "- The first 20 informative SNP sites on the data file is as follows:"
   ]
  },
  {
   "cell_type": "code",
   "execution_count": 4,
   "metadata": {
    "collapsed": false
   },
   "outputs": [],
   "source": [
    "regions_raw = !cat /share/PI/mrivas/data/nanopore-wgs-consortium-old/nanopore-wgs.25000.sorted.10k.mapq50.ext.sorted.informative.q14.snps|awk '{if(NR > 1){print $7}}'|sed -e 's/;/\\n/g'\n",
    "regions = [r.split(',') for r in regions_raw]"
   ]
  },
  {
   "cell_type": "code",
   "execution_count": 5,
   "metadata": {
    "collapsed": false
   },
   "outputs": [
    {
     "data": {
      "text/plain": [
       "[['chr10:1226991', 'A', 'G', 'rs4880485', 'True', '17'],\n",
       " ['chr10:1227181', 't', 'C', 'rs7914227', 'True', '17'],\n",
       " ['chr10:1227299', 'g', 'A', 'rs7894015', 'True', '20'],\n",
       " ['chr10:1227887', 't', 'G', 'rs72760988', 'True', '14'],\n",
       " ['chr10:1228338', 'A', 'G', 'rs7091963', 'False', '14'],\n",
       " ['chr10:1228623', 'T', 'C', 'rs3750679', 'True', '14'],\n",
       " ['chr10:1229473', 'A', 'T', '*', 'None', '16'],\n",
       " ['chr10:1230234', 'C', 'T', '*', 'None', '14'],\n",
       " ['chr10:1230523', 'T', 'C', 'rs876630', 'True', '14'],\n",
       " ['chr10:1232525', 'C', 'T', '!', 'None', '14'],\n",
       " ['chr10:1234056', 'A', 'G', 'rs904961', 'True', '19'],\n",
       " ['chr10:1235018', 'G', 'A', 'rs1392831', 'True', '21'],\n",
       " ['chr10:1235728', 'C', 'A', '*', 'None', '15'],\n",
       " ['chr10:1237920', 'A', 'G', 'rs4880785', 'True', '19'],\n",
       " ['chr10:1237932', 'G', 'A', 'rs1392826', 'True', '14'],\n",
       " ['chr10:1238878', 'g', 'A', 'rs34864641', 'True', '18'],\n",
       " ['chr10:1239269', 'T', 'A', '*', 'None', '16'],\n",
       " ['chr10:1241902', 'G', 'T', '*', 'None', '15'],\n",
       " ['chr10:1245531', 'C', 'T', '*', 'None', '14'],\n",
       " ['chr10:1246427', 'C', 'T', '*', 'None', '18']]"
      ]
     },
     "execution_count": 5,
     "metadata": {},
     "output_type": "execute_result"
    }
   ],
   "source": [
    "regions[:20]"
   ]
  },
  {
   "cell_type": "markdown",
   "metadata": {},
   "source": [
    "- let's focus on chromosome 10 for now"
   ]
  },
  {
   "cell_type": "code",
   "execution_count": 6,
   "metadata": {
    "collapsed": false
   },
   "outputs": [],
   "source": [
    "data_dir = '/share/PI/mrivas/data/ukbb/cal'\n",
    "chrom = 10"
   ]
  },
  {
   "cell_type": "code",
   "execution_count": 7,
   "metadata": {
    "collapsed": true
   },
   "outputs": [],
   "source": [
    "chr10 = pgen_reader_wrapper(data_dir, chrom)"
   ]
  },
  {
   "cell_type": "code",
   "execution_count": 8,
   "metadata": {
    "collapsed": false
   },
   "outputs": [
    {
     "data": {
      "text/plain": [
       "Python.pgenlib.PgenReader"
      ]
     },
     "execution_count": 8,
     "metadata": {},
     "output_type": "execute_result"
    }
   ],
   "source": [
    "type(chr10)"
   ]
  },
  {
   "cell_type": "markdown",
   "metadata": {},
   "source": [
    "- We now have genotypic information on memory with pgenlib"
   ]
  },
  {
   "cell_type": "markdown",
   "metadata": {},
   "source": [
    "### # of samples, # of variants, phase info"
   ]
  },
  {
   "cell_type": "raw",
   "metadata": {},
   "source": [
    "* get_raw_sample_ct()\n",
    "  Returns the number of samples in the .pgen file."
   ]
  },
  {
   "cell_type": "code",
   "execution_count": 9,
   "metadata": {
    "collapsed": false
   },
   "outputs": [
    {
     "data": {
      "text/plain": [
       "152729"
      ]
     },
     "execution_count": 9,
     "metadata": {},
     "output_type": "execute_result"
    }
   ],
   "source": [
    "chr10.get_raw_sample_ct()"
   ]
  },
  {
   "cell_type": "raw",
   "metadata": {},
   "source": [
    "* get_variant_ct()\n",
    "  Returns the number of variants in the .pgen file."
   ]
  },
  {
   "cell_type": "code",
   "execution_count": 10,
   "metadata": {
    "collapsed": false
   },
   "outputs": [
    {
     "data": {
      "text/plain": [
       "40082"
      ]
     },
     "execution_count": 10,
     "metadata": {},
     "output_type": "execute_result"
    }
   ],
   "source": [
    "chr10.get_variant_ct()"
   ]
  },
  {
   "cell_type": "raw",
   "metadata": {},
   "source": [
    "* hardcall_phase_present()\n",
    "  Returns True iff phased hardcalls may be present."
   ]
  },
  {
   "cell_type": "code",
   "execution_count": 11,
   "metadata": {
    "collapsed": false
   },
   "outputs": [
    {
     "data": {
      "text/plain": [
       "False"
      ]
     },
     "execution_count": 11,
     "metadata": {},
     "output_type": "execute_result"
    }
   ],
   "source": [
    "chr10.hardcall_phase_present()"
   ]
  },
  {
   "cell_type": "markdown",
   "metadata": {},
   "source": [
    "### access genotype info of a specific locus"
   ]
  },
  {
   "cell_type": "raw",
   "metadata": {},
   "source": [
    "* read(variant_idx, np.ndarray[np.int8_t] geno_int8_out, allele_idx = 1)\n",
    "  Takes a (0-based) variant index; fills geno_int8_out, which must be a numpy\n",
    "  int8 array with at least sample_ct entries, where sample_ct (as distinguished\n",
    "  from raw_sample_ct) is the size of the current sample subset.  These values\n",
    "  are in {0, 1, 2, -9}; by default, 0/1/2 represents the alternate allele\n",
    "  count.  Setting allele_idx = 0 causes reference allele counts to be reported\n",
    "  instead.  (If we ever use multiallelic variant records, setting allele_idx =\n",
    "  2 causes alternate allele 2 counts, etc.)\n",
    "  - I tried the interface without the required outbuffer, and it could take\n",
    "    twice as long due to all the extra allocation/deallocation.  The buffer can\n",
    "    be allocated with\n",
    "      buf = np.empty(sample_ct, np.int8)\n",
    "  - An exception is thrown if variant_idx or allele_idx is invalid (or there's\n",
    "    e.g. a file I/O error, or the file isn't open)\n",
    "  - Note that pgenlib is unaware of chromosome boundaries.  The caller is\n",
    "    responsible for chrX/chrY/chrM-specific corrections for now.\n",
    "  (It's straightforward to write a variation of this which fills a\n",
    "  2-dimensional numpy array given a sorted sequence of variant indices to load;\n",
    "  let me know if you need that.  Can make that automatically transpose to\n",
    "  sample-major, too.)\n"
   ]
  },
  {
   "cell_type": "markdown",
   "metadata": {},
   "source": [
    "- need to prepare numpy array to store results"
   ]
  },
  {
   "cell_type": "code",
   "execution_count": 12,
   "metadata": {
    "collapsed": false
   },
   "outputs": [],
   "source": [
    "res_ary = np.zeros(chr10.get_raw_sample_ct(), dtype=np.int8)"
   ]
  },
  {
   "cell_type": "markdown",
   "metadata": {},
   "source": [
    "- one can query genotypes of specific region"
   ]
  },
  {
   "cell_type": "code",
   "execution_count": 13,
   "metadata": {
    "collapsed": false
   },
   "outputs": [],
   "source": [
    "chr10.read(0, res_ary)"
   ]
  },
  {
   "cell_type": "code",
   "execution_count": 14,
   "metadata": {
    "collapsed": false
   },
   "outputs": [
    {
     "data": {
      "text/plain": [
       "array([0, 0, 0, ..., 0, 0, 0], dtype=int8)"
      ]
     },
     "execution_count": 14,
     "metadata": {},
     "output_type": "execute_result"
    }
   ],
   "source": [
    "res_ary"
   ]
  },
  {
   "cell_type": "code",
   "execution_count": 15,
   "metadata": {
    "collapsed": false
   },
   "outputs": [
    {
     "data": {
      "text/plain": [
       "{-9, 0, 1}"
      ]
     },
     "execution_count": 15,
     "metadata": {},
     "output_type": "execute_result"
    }
   ],
   "source": [
    "set(res_ary)"
   ]
  },
  {
   "cell_type": "code",
   "execution_count": 16,
   "metadata": {
    "collapsed": false
   },
   "outputs": [
    {
     "data": {
      "text/plain": [
       "148004"
      ]
     },
     "execution_count": 16,
     "metadata": {},
     "output_type": "execute_result"
    }
   ],
   "source": [
    "sum(res_ary == 0)"
   ]
  },
  {
   "cell_type": "code",
   "execution_count": 17,
   "metadata": {
    "collapsed": false
   },
   "outputs": [
    {
     "data": {
      "text/plain": [
       "6"
      ]
     },
     "execution_count": 17,
     "metadata": {},
     "output_type": "execute_result"
    }
   ],
   "source": [
    "sum(res_ary == 1)"
   ]
  },
  {
   "cell_type": "code",
   "execution_count": 18,
   "metadata": {
    "collapsed": false
   },
   "outputs": [
    {
     "data": {
      "text/plain": [
       "4719"
      ]
     },
     "execution_count": 18,
     "metadata": {},
     "output_type": "execute_result"
    }
   ],
   "source": [
    "sum(res_ary == -9)"
   ]
  },
  {
   "cell_type": "markdown",
   "metadata": {},
   "source": [
    "## read map file for marker info\n",
    "- we need to take correspondance between genomic coordinate and SNP marker (line # on map file)"
   ]
  },
  {
   "cell_type": "code",
   "execution_count": 19,
   "metadata": {
    "collapsed": true
   },
   "outputs": [],
   "source": [
    "map10 = pd.read_csv('{}/chrom{}.bim'.format(data_dir, chrom), sep = '\\t', \n",
    "                   names = ['chr', 'id', 'morgan', 'bp', 'pri', 'sec'])"
   ]
  },
  {
   "cell_type": "code",
   "execution_count": 20,
   "metadata": {
    "collapsed": false
   },
   "outputs": [],
   "source": [
    "def query_map_file_by_genome_index(map_f, index):\n",
    "    print 'query: {}'.format(index)\n",
    "    print map_f.loc[index - 1 <= map_f['bp']].head(3)"
   ]
  },
  {
   "cell_type": "code",
   "execution_count": 21,
   "metadata": {
    "collapsed": false
   },
   "outputs": [
    {
     "name": "stdout",
     "output_type": "stream",
     "text": [
      "query: 122691\n",
      "    chr             id  morgan      bp  pri  sec\n",
      "10   10   Affx-2576943       0  127924    1    2\n",
      "11   10  Affx-35481884       0  131716    1    2\n",
      "12   10  Affx-35481888       0  133243    1    2\n"
     ]
    }
   ],
   "source": [
    "query_map_file_by_genome_index(map10, 122691)"
   ]
  },
  {
   "cell_type": "markdown",
   "metadata": {},
   "source": [
    "- not all the snps have match in haplotype reference "
   ]
  },
  {
   "cell_type": "code",
   "execution_count": 22,
   "metadata": {
    "collapsed": false
   },
   "outputs": [],
   "source": [
    "idxs = [[r[0].split(':')[0], int(r[0].split(':')[1])]\n",
    "        for r in regions]\n",
    "idxs_chr10 = [i[1] for i in idxs if i[0] == 'chr10']"
   ]
  },
  {
   "cell_type": "code",
   "execution_count": 23,
   "metadata": {
    "collapsed": false
   },
   "outputs": [
    {
     "data": {
      "text/plain": [
       "[1226991,\n",
       " 1227181,\n",
       " 1227299,\n",
       " 1227887,\n",
       " 1228338,\n",
       " 1228623,\n",
       " 1229473,\n",
       " 1230234,\n",
       " 1230523,\n",
       " 1232525]"
      ]
     },
     "execution_count": 23,
     "metadata": {},
     "output_type": "execute_result"
    }
   ],
   "source": [
    "idxs_chr10[:10]"
   ]
  },
  {
   "cell_type": "code",
   "execution_count": 24,
   "metadata": {
    "collapsed": false
   },
   "outputs": [
    {
     "name": "stdout",
     "output_type": "stream",
     "text": [
      "query: 1226991\n",
      "     chr             id  morgan       bp  pri  sec\n",
      "376   10   Affx-2625122       0  1227597    2    1\n",
      "377   10  Affx-35483131       0  1228575    1    2\n",
      "378   10  Affx-35483132       0  1229915    1    2\n",
      "query: 1227181\n",
      "     chr             id  morgan       bp  pri  sec\n",
      "376   10   Affx-2625122       0  1227597    2    1\n",
      "377   10  Affx-35483131       0  1228575    1    2\n",
      "378   10  Affx-35483132       0  1229915    1    2\n",
      "query: 1227299\n",
      "     chr             id  morgan       bp  pri  sec\n",
      "376   10   Affx-2625122       0  1227597    2    1\n",
      "377   10  Affx-35483131       0  1228575    1    2\n",
      "378   10  Affx-35483132       0  1229915    1    2\n",
      "query: 1227887\n",
      "     chr             id  morgan       bp  pri  sec\n",
      "377   10  Affx-35483131       0  1228575    1    2\n",
      "378   10  Affx-35483132       0  1229915    1    2\n",
      "379   10  Affx-52348440       0  1230769    2    1\n",
      "query: 1228338\n",
      "     chr             id  morgan       bp  pri  sec\n",
      "377   10  Affx-35483131       0  1228575    1    2\n",
      "378   10  Affx-35483132       0  1229915    1    2\n",
      "379   10  Affx-52348440       0  1230769    2    1\n",
      "query: 1228623\n",
      "     chr             id  morgan       bp  pri  sec\n",
      "378   10  Affx-35483132       0  1229915    1    2\n",
      "379   10  Affx-52348440       0  1230769    2    1\n",
      "380   10  Affx-80238423       0  1230800    1    2\n",
      "query: 1229473\n",
      "     chr             id  morgan       bp  pri  sec\n",
      "378   10  Affx-35483132       0  1229915    1    2\n",
      "379   10  Affx-52348440       0  1230769    2    1\n",
      "380   10  Affx-80238423       0  1230800    1    2\n",
      "query: 1230234\n",
      "     chr             id  morgan       bp  pri  sec\n",
      "379   10  Affx-52348440       0  1230769    2    1\n",
      "380   10  Affx-80238423       0  1230800    1    2\n",
      "381   10  Affx-35483143       0  1241920    1    2\n",
      "query: 1230523\n",
      "     chr             id  morgan       bp  pri  sec\n",
      "379   10  Affx-52348440       0  1230769    2    1\n",
      "380   10  Affx-80238423       0  1230800    1    2\n",
      "381   10  Affx-35483143       0  1241920    1    2\n",
      "query: 1232525\n",
      "     chr             id  morgan       bp  pri  sec\n",
      "381   10  Affx-35483143       0  1241920    1    2\n",
      "382   10   Affx-2645424       0  1242220    2    1\n",
      "383   10   Affx-2645638       0  1242347    2    1\n",
      "query: 1234056\n",
      "     chr             id  morgan       bp  pri  sec\n",
      "381   10  Affx-35483143       0  1241920    1    2\n",
      "382   10   Affx-2645424       0  1242220    2    1\n",
      "383   10   Affx-2645638       0  1242347    2    1\n",
      "query: 1235018\n",
      "     chr             id  morgan       bp  pri  sec\n",
      "381   10  Affx-35483143       0  1241920    1    2\n",
      "382   10   Affx-2645424       0  1242220    2    1\n",
      "383   10   Affx-2645638       0  1242347    2    1\n",
      "query: 1235728\n",
      "     chr             id  morgan       bp  pri  sec\n",
      "381   10  Affx-35483143       0  1241920    1    2\n",
      "382   10   Affx-2645424       0  1242220    2    1\n",
      "383   10   Affx-2645638       0  1242347    2    1\n",
      "query: 1237920\n",
      "     chr             id  morgan       bp  pri  sec\n",
      "381   10  Affx-35483143       0  1241920    1    2\n",
      "382   10   Affx-2645424       0  1242220    2    1\n",
      "383   10   Affx-2645638       0  1242347    2    1\n",
      "query: 1237932\n",
      "     chr             id  morgan       bp  pri  sec\n",
      "381   10  Affx-35483143       0  1241920    1    2\n",
      "382   10   Affx-2645424       0  1242220    2    1\n",
      "383   10   Affx-2645638       0  1242347    2    1\n",
      "query: 1238878\n",
      "     chr             id  morgan       bp  pri  sec\n",
      "381   10  Affx-35483143       0  1241920    1    2\n",
      "382   10   Affx-2645424       0  1242220    2    1\n",
      "383   10   Affx-2645638       0  1242347    2    1\n",
      "query: 1239269\n",
      "     chr             id  morgan       bp  pri  sec\n",
      "381   10  Affx-35483143       0  1241920    1    2\n",
      "382   10   Affx-2645424       0  1242220    2    1\n",
      "383   10   Affx-2645638       0  1242347    2    1\n",
      "query: 1241902\n",
      "     chr             id  morgan       bp  pri  sec\n",
      "381   10  Affx-35483143       0  1241920    1    2\n",
      "382   10   Affx-2645424       0  1242220    2    1\n",
      "383   10   Affx-2645638       0  1242347    2    1\n",
      "query: 1245531\n",
      "     chr            id  morgan       bp  pri  sec\n",
      "387   10  Affx-2651198       0  1246314    1    2\n",
      "388   10  Affx-2652156       0  1247044    2    1\n",
      "389   10  Affx-2656826       0  1250227    1    2\n",
      "query: 1246427\n",
      "     chr             id  morgan       bp  pri  sec\n",
      "388   10   Affx-2652156       0  1247044    2    1\n",
      "389   10   Affx-2656826       0  1250227    1    2\n",
      "390   10  Affx-35483151       0  1251029    1    2\n",
      "query: 1246647\n",
      "     chr             id  morgan       bp  pri  sec\n",
      "388   10   Affx-2652156       0  1247044    2    1\n",
      "389   10   Affx-2656826       0  1250227    1    2\n",
      "390   10  Affx-35483151       0  1251029    1    2\n",
      "query: 1246963\n",
      "     chr             id  morgan       bp  pri  sec\n",
      "388   10   Affx-2652156       0  1247044    2    1\n",
      "389   10   Affx-2656826       0  1250227    1    2\n",
      "390   10  Affx-35483151       0  1251029    1    2\n",
      "query: 1248277\n",
      "     chr             id  morgan       bp  pri  sec\n",
      "389   10   Affx-2656826       0  1250227    1    2\n",
      "390   10  Affx-35483151       0  1251029    1    2\n",
      "391   10   Affx-2658828       0  1251781    2    1\n",
      "query: 1248663\n",
      "     chr             id  morgan       bp  pri  sec\n",
      "389   10   Affx-2656826       0  1250227    1    2\n",
      "390   10  Affx-35483151       0  1251029    1    2\n",
      "391   10   Affx-2658828       0  1251781    2    1\n",
      "query: 1249986\n",
      "     chr             id  morgan       bp  pri  sec\n",
      "389   10   Affx-2656826       0  1250227    1    2\n",
      "390   10  Affx-35483151       0  1251029    1    2\n",
      "391   10   Affx-2658828       0  1251781    2    1\n",
      "query: 1251718\n",
      "     chr             id  morgan       bp  pri  sec\n",
      "391   10   Affx-2658828       0  1251781    2    1\n",
      "392   10   Affx-2662072       0  1254141    1    2\n",
      "393   10  Affx-35483159       0  1254544    2    1\n",
      "query: 2597370\n",
      "     chr             id  morgan       bp  pri  sec\n",
      "985   10  Affx-35484836       0  2598575    0    0\n",
      "986   10   Affx-2990466       0  2604876    2    1\n",
      "987   10   Affx-2990571       0  2605786    2    1\n",
      "query: 2597555\n",
      "     chr             id  morgan       bp  pri  sec\n",
      "985   10  Affx-35484836       0  2598575    0    0\n",
      "986   10   Affx-2990466       0  2604876    2    1\n",
      "987   10   Affx-2990571       0  2605786    2    1\n",
      "query: 2597831\n",
      "     chr             id  morgan       bp  pri  sec\n",
      "985   10  Affx-35484836       0  2598575    0    0\n",
      "986   10   Affx-2990466       0  2604876    2    1\n",
      "987   10   Affx-2990571       0  2605786    2    1\n",
      "query: 2597975\n",
      "     chr             id  morgan       bp  pri  sec\n",
      "985   10  Affx-35484836       0  2598575    0    0\n",
      "986   10   Affx-2990466       0  2604876    2    1\n",
      "987   10   Affx-2990571       0  2605786    2    1\n"
     ]
    }
   ],
   "source": [
    "for index in idxs_chr10[:30]:\n",
    "    query_map_file_by_genome_index(map10, index)"
   ]
  },
  {
   "cell_type": "markdown",
   "metadata": {},
   "source": [
    "- This gives me a doubt that we might be working with a wrong version of genome"
   ]
  },
  {
   "cell_type": "code",
   "execution_count": 25,
   "metadata": {
    "collapsed": true
   },
   "outputs": [],
   "source": [
    "def dist_to_probe(map_f, index):\n",
    "    try:\n",
    "        probe_pos = map_f.loc[index <= map_f['bp']].head(1)['bp'].as_matrix()[0]\n",
    "    except:\n",
    "        print \"Unexpected error:\", sys.exc_info()[0]\n",
    "        print \"query = {}\".format(index)\n",
    "        return(-1)\n",
    "    else:\n",
    "        return(probe_pos - index)"
   ]
  },
  {
   "cell_type": "code",
   "execution_count": 26,
   "metadata": {
    "collapsed": false
   },
   "outputs": [],
   "source": [
    "dists = np.array([dist_to_probe(map10, idx) for idx in idxs_chr10])"
   ]
  },
  {
   "cell_type": "code",
   "execution_count": 27,
   "metadata": {
    "collapsed": false
   },
   "outputs": [
    {
     "data": {
      "text/plain": [
       "2534"
      ]
     },
     "execution_count": 27,
     "metadata": {},
     "output_type": "execute_result"
    }
   ],
   "source": [
    "len(idxs_chr10)"
   ]
  },
  {
   "cell_type": "code",
   "execution_count": 28,
   "metadata": {
    "collapsed": false
   },
   "outputs": [
    {
     "data": {
      "text/plain": [
       "27"
      ]
     },
     "execution_count": 28,
     "metadata": {},
     "output_type": "execute_result"
    }
   ],
   "source": [
    "sum(dists == 0)"
   ]
  },
  {
   "cell_type": "markdown",
   "metadata": {},
   "source": [
    "- only 27 out of 2534 'informative' SNPs has a hit in UKBB population"
   ]
  },
  {
   "cell_type": "code",
   "execution_count": null,
   "metadata": {
    "collapsed": true
   },
   "outputs": [],
   "source": [
    "def make_hist(x, title = None, xlabel = None, ylabel = None, filename = None):\n",
    "    '''\n",
    "    This function generates histogram of a vector x and save to file\n",
    "    Inputs:\n",
    "      x: data vector\n",
    "      title:    title of the plot\n",
    "      xlabel:   label on x-axis\n",
    "      ylabel:   label on y-axis\n",
    "      filename: name of the image file (if given, save to file)\n",
    "    Returns:\n",
    "      matlab plot object\n",
    "    Side effect:\n",
    "      save an image file if filename is given\n",
    "    '''    \n",
    "    fig = plt.figure(figsize=(8,6))\n",
    "    ax = fig.add_subplot(1, 1, 1)\n",
    "    ax.hist(x, 20)\n",
    "    \n",
    "    if(xlabel != None):\n",
    "        ax.set_xlabel(xlabel)\n",
    "    if(ylabel != None):\n",
    "        ax.set_ylabel(ylabel)\n",
    "    if(title != None):\n",
    "        ax.set_title(title)\n",
    "    if(filename != None):\n",
    "        fig.savefig(filename)"
   ]
  },
  {
   "cell_type": "code",
   "execution_count": null,
   "metadata": {
    "collapsed": false
   },
   "outputs": [],
   "source": [
    "make_hist(dists, \n",
    "          title = 'Distance between SNP on reads and nearest SNP marker in UKBB', \n",
    "          xlabel = 'Distance (bp)', ylabel = 'Frequency', filename='20170202_pgenlib.png')"
   ]
  },
  {
   "cell_type": "code",
   "execution_count": null,
   "metadata": {
    "collapsed": true
   },
   "outputs": [],
   "source": [
    "make_hist([d for d in dists if d <= 100], \n",
    "          title = 'Distance between SNP on reads and nearest SNP marker in UKBB (<= 100bp)', \n",
    "          xlabel = 'Distance (bp)', ylabel = 'Frequency', filename='20170202_pgenlib_lt100bp.png')"
   ]
  },
  {
   "cell_type": "code",
   "execution_count": null,
   "metadata": {
    "collapsed": true
   },
   "outputs": [],
   "source": [
    "make_hist([d for d in dists if d <= 20], \n",
    "          title = 'Distance between SNP on reads and nearest SNP marker in UKBB (<= 20bp)', \n",
    "          xlabel = 'Distance (bp)', ylabel = 'Frequency', filename='20170202_pgenlib_lt20bp.png')"
   ]
  },
  {
   "cell_type": "code",
   "execution_count": null,
   "metadata": {
    "collapsed": true
   },
   "outputs": [],
   "source": []
  }
 ],
 "metadata": {
  "anaconda-cloud": {},
  "kernelspec": {
   "display_name": "Python [conda env:pgenlib]",
   "language": "python",
   "name": "conda-env-pgenlib-py"
  },
  "language_info": {
   "codemirror_mode": {
    "name": "ipython",
    "version": 2
   },
   "file_extension": ".py",
   "mimetype": "text/x-python",
   "name": "python",
   "nbconvert_exporter": "python",
   "pygments_lexer": "ipython2",
   "version": "2.7.5"
  }
 },
 "nbformat": 4,
 "nbformat_minor": 1
}
