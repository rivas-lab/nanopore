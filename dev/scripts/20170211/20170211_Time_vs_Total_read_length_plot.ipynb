{
 "cells": [
  {
   "cell_type": "code",
   "execution_count": 2,
   "metadata": {
    "collapsed": true
   },
   "outputs": [],
   "source": [
    "import numpy as np\n",
    "import pandas as pd\n",
    "import subprocess as sp\n",
    "import itertools as it\n",
    "import sys, re, collections\n",
    "import scipy as sc\n",
    "import pgenlib as pg"
   ]
  },
  {
   "cell_type": "code",
   "execution_count": 3,
   "metadata": {
    "collapsed": false
   },
   "outputs": [
    {
     "name": "stderr",
     "output_type": "stream",
     "text": [
      "/home/ytanigaw/.local/lib/python2.7/site-packages/matplotlib/__init__.py:1357: UserWarning:  This call to matplotlib.use() has no effect\n",
      "because the backend has already been chosen;\n",
      "matplotlib.use() must be called *before* pylab, matplotlib.pyplot,\n",
      "or matplotlib.backends is imported for the first time.\n",
      "\n",
      "  warnings.warn(_use_error_msg)\n"
     ]
    }
   ],
   "source": [
    "%matplotlib inline\n",
    "import matplotlib\n",
    "matplotlib.use('agg')\n",
    "from matplotlib import pyplot as plt"
   ]
  },
  {
   "cell_type": "code",
   "execution_count": 4,
   "metadata": {
    "collapsed": true
   },
   "outputs": [],
   "source": [
    "def make_plot(x, y, title = None, xlabel = None, ylabel = None, filename = None):\n",
    "    '''\n",
    "    This function generates histogram of a vector x and save to file\n",
    "    Inputs:\n",
    "      x: data vector\n",
    "      title:    title of the plot\n",
    "      xlabel:   label on x-axis\n",
    "      ylabel:   label on y-axis\n",
    "      filename: name of the image file (if given, save to file)\n",
    "    Returns:\n",
    "      matlab plot object\n",
    "    Side effect:\n",
    "      save an image file if filename is given\n",
    "    '''\n",
    "    \n",
    "    fig = plt.figure(figsize=(8,6))\n",
    "    ax = fig.add_subplot(1, 1, 1)\n",
    "    ax.plot(x, y)\n",
    "    \n",
    "    if(xlabel != None):\n",
    "        ax.set_xlabel(xlabel)\n",
    "    if(ylabel != None):\n",
    "        ax.set_ylabel(ylabel)\n",
    "    if(title != None):\n",
    "        ax.set_title(title)\n",
    "    if(filename != None):\n",
    "        fig.savefig(filename)\n"
   ]
  },
  {
   "cell_type": "code",
   "execution_count": 5,
   "metadata": {
    "collapsed": true
   },
   "outputs": [],
   "source": [
    "times_f = './poretools_time.12763870.stats'"
   ]
  },
  {
   "cell_type": "code",
   "execution_count": 6,
   "metadata": {
    "collapsed": false
   },
   "outputs": [],
   "source": [
    "#times_df = pd.read_csv(times_f, sep = '\\t', nrows=100)"
   ]
  },
  {
   "cell_type": "code",
   "execution_count": 7,
   "metadata": {
    "collapsed": false
   },
   "outputs": [],
   "source": [
    "times_df = pd.read_csv(times_f, sep = '\\t')"
   ]
  },
  {
   "cell_type": "code",
   "execution_count": 8,
   "metadata": {
    "collapsed": false
   },
   "outputs": [
    {
     "data": {
      "text/html": [
       "<div>\n",
       "<table border=\"1\" class=\"dataframe\">\n",
       "  <thead>\n",
       "    <tr style=\"text-align: right;\">\n",
       "      <th></th>\n",
       "      <th>channel</th>\n",
       "      <th>filename</th>\n",
       "      <th>read_length</th>\n",
       "      <th>exp_starttime</th>\n",
       "      <th>unix_timestamp</th>\n",
       "      <th>duration</th>\n",
       "      <th>unix_timestamp_end</th>\n",
       "      <th>iso_timestamp</th>\n",
       "      <th>day</th>\n",
       "      <th>hour</th>\n",
       "      <th>minute</th>\n",
       "    </tr>\n",
       "  </thead>\n",
       "  <tbody>\n",
       "    <tr>\n",
       "      <th>0</th>\n",
       "      <td>391</td>\n",
       "      <td>/scratch/PI/mrivas/data/NA12878-fast5/rel3/${c...</td>\n",
       "      <td>4652</td>\n",
       "      <td>1479439380</td>\n",
       "      <td>1479460809</td>\n",
       "      <td>11</td>\n",
       "      <td>1479460820</td>\n",
       "      <td>2016-11-18T01:20:09+0000</td>\n",
       "      <td>18</td>\n",
       "      <td>1</td>\n",
       "      <td>20</td>\n",
       "    </tr>\n",
       "    <tr>\n",
       "      <th>1</th>\n",
       "      <td>117</td>\n",
       "      <td>/scratch/PI/mrivas/data/NA12878-fast5/rel3/${c...</td>\n",
       "      <td>20943</td>\n",
       "      <td>1474445279</td>\n",
       "      <td>1474454776</td>\n",
       "      <td>114</td>\n",
       "      <td>1474454890</td>\n",
       "      <td>2016-09-21T03:46:16+0000</td>\n",
       "      <td>21</td>\n",
       "      <td>3</td>\n",
       "      <td>46</td>\n",
       "    </tr>\n",
       "    <tr>\n",
       "      <th>2</th>\n",
       "      <td>248</td>\n",
       "      <td>/scratch/PI/mrivas/data/NA12878-fast5/rel3/${c...</td>\n",
       "      <td>29960</td>\n",
       "      <td>1474320208</td>\n",
       "      <td>1474320476</td>\n",
       "      <td>120</td>\n",
       "      <td>1474320596</td>\n",
       "      <td>2016-09-19T14:27:56+0000</td>\n",
       "      <td>19</td>\n",
       "      <td>14</td>\n",
       "      <td>27</td>\n",
       "    </tr>\n",
       "    <tr>\n",
       "      <th>3</th>\n",
       "      <td>201</td>\n",
       "      <td>/scratch/PI/mrivas/data/NA12878-fast5/rel3/${c...</td>\n",
       "      <td>691</td>\n",
       "      <td>1468628094</td>\n",
       "      <td>1468633151</td>\n",
       "      <td>6</td>\n",
       "      <td>1468633157</td>\n",
       "      <td>2016-07-15T18:39:11+0000</td>\n",
       "      <td>15</td>\n",
       "      <td>18</td>\n",
       "      <td>39</td>\n",
       "    </tr>\n",
       "    <tr>\n",
       "      <th>4</th>\n",
       "      <td>95</td>\n",
       "      <td>/scratch/PI/mrivas/data/NA12878-fast5/rel3/${c...</td>\n",
       "      <td>3341</td>\n",
       "      <td>1468591707</td>\n",
       "      <td>1468592897</td>\n",
       "      <td>52</td>\n",
       "      <td>1468592949</td>\n",
       "      <td>2016-07-15T07:28:17+0000</td>\n",
       "      <td>15</td>\n",
       "      <td>7</td>\n",
       "      <td>28</td>\n",
       "    </tr>\n",
       "    <tr>\n",
       "      <th>5</th>\n",
       "      <td>282</td>\n",
       "      <td>/scratch/PI/mrivas/data/NA12878-fast5/rel3/${c...</td>\n",
       "      <td>3650</td>\n",
       "      <td>1468574203</td>\n",
       "      <td>1468579168</td>\n",
       "      <td>25</td>\n",
       "      <td>1468579193</td>\n",
       "      <td>2016-07-15T03:39:28+0000</td>\n",
       "      <td>15</td>\n",
       "      <td>3</td>\n",
       "      <td>39</td>\n",
       "    </tr>\n",
       "    <tr>\n",
       "      <th>6</th>\n",
       "      <td>296</td>\n",
       "      <td>/scratch/PI/mrivas/data/NA12878-fast5/rel3/${c...</td>\n",
       "      <td>4903</td>\n",
       "      <td>1476562940</td>\n",
       "      <td>1476564188</td>\n",
       "      <td>11</td>\n",
       "      <td>1476564199</td>\n",
       "      <td>2016-10-15T13:43:08+0000</td>\n",
       "      <td>15</td>\n",
       "      <td>13</td>\n",
       "      <td>43</td>\n",
       "    </tr>\n",
       "    <tr>\n",
       "      <th>7</th>\n",
       "      <td>66</td>\n",
       "      <td>/scratch/PI/mrivas/data/NA12878-fast5/rel3/${c...</td>\n",
       "      <td>9101</td>\n",
       "      <td>1480343031</td>\n",
       "      <td>1480383624</td>\n",
       "      <td>21</td>\n",
       "      <td>1480383645</td>\n",
       "      <td>2016-11-28T17:40:24+0000</td>\n",
       "      <td>28</td>\n",
       "      <td>17</td>\n",
       "      <td>40</td>\n",
       "    </tr>\n",
       "    <tr>\n",
       "      <th>8</th>\n",
       "      <td>47</td>\n",
       "      <td>/scratch/PI/mrivas/data/NA12878-fast5/rel3/${c...</td>\n",
       "      <td>6343</td>\n",
       "      <td>1468574203</td>\n",
       "      <td>1468579212</td>\n",
       "      <td>44</td>\n",
       "      <td>1468579256</td>\n",
       "      <td>2016-07-15T03:40:12+0000</td>\n",
       "      <td>15</td>\n",
       "      <td>3</td>\n",
       "      <td>40</td>\n",
       "    </tr>\n",
       "    <tr>\n",
       "      <th>9</th>\n",
       "      <td>309</td>\n",
       "      <td>/scratch/PI/mrivas/data/NA12878-fast5/rel3/${c...</td>\n",
       "      <td>10415</td>\n",
       "      <td>1474432874</td>\n",
       "      <td>1474437134</td>\n",
       "      <td>49</td>\n",
       "      <td>1474437183</td>\n",
       "      <td>2016-09-20T22:52:14+0000</td>\n",
       "      <td>20</td>\n",
       "      <td>22</td>\n",
       "      <td>52</td>\n",
       "    </tr>\n",
       "  </tbody>\n",
       "</table>\n",
       "</div>"
      ],
      "text/plain": [
       "   channel                                           filename  read_length  \\\n",
       "0      391  /scratch/PI/mrivas/data/NA12878-fast5/rel3/${c...         4652   \n",
       "1      117  /scratch/PI/mrivas/data/NA12878-fast5/rel3/${c...        20943   \n",
       "2      248  /scratch/PI/mrivas/data/NA12878-fast5/rel3/${c...        29960   \n",
       "3      201  /scratch/PI/mrivas/data/NA12878-fast5/rel3/${c...          691   \n",
       "4       95  /scratch/PI/mrivas/data/NA12878-fast5/rel3/${c...         3341   \n",
       "5      282  /scratch/PI/mrivas/data/NA12878-fast5/rel3/${c...         3650   \n",
       "6      296  /scratch/PI/mrivas/data/NA12878-fast5/rel3/${c...         4903   \n",
       "7       66  /scratch/PI/mrivas/data/NA12878-fast5/rel3/${c...         9101   \n",
       "8       47  /scratch/PI/mrivas/data/NA12878-fast5/rel3/${c...         6343   \n",
       "9      309  /scratch/PI/mrivas/data/NA12878-fast5/rel3/${c...        10415   \n",
       "\n",
       "   exp_starttime  unix_timestamp  duration  unix_timestamp_end  \\\n",
       "0     1479439380      1479460809        11          1479460820   \n",
       "1     1474445279      1474454776       114          1474454890   \n",
       "2     1474320208      1474320476       120          1474320596   \n",
       "3     1468628094      1468633151         6          1468633157   \n",
       "4     1468591707      1468592897        52          1468592949   \n",
       "5     1468574203      1468579168        25          1468579193   \n",
       "6     1476562940      1476564188        11          1476564199   \n",
       "7     1480343031      1480383624        21          1480383645   \n",
       "8     1468574203      1468579212        44          1468579256   \n",
       "9     1474432874      1474437134        49          1474437183   \n",
       "\n",
       "              iso_timestamp  day  hour  minute  \n",
       "0  2016-11-18T01:20:09+0000   18     1      20  \n",
       "1  2016-09-21T03:46:16+0000   21     3      46  \n",
       "2  2016-09-19T14:27:56+0000   19    14      27  \n",
       "3  2016-07-15T18:39:11+0000   15    18      39  \n",
       "4  2016-07-15T07:28:17+0000   15     7      28  \n",
       "5  2016-07-15T03:39:28+0000   15     3      39  \n",
       "6  2016-10-15T13:43:08+0000   15    13      43  \n",
       "7  2016-11-28T17:40:24+0000   28    17      40  \n",
       "8  2016-07-15T03:40:12+0000   15     3      40  \n",
       "9  2016-09-20T22:52:14+0000   20    22      52  "
      ]
     },
     "execution_count": 8,
     "metadata": {},
     "output_type": "execute_result"
    }
   ],
   "source": [
    "times_df.head(10)"
   ]
  },
  {
   "cell_type": "code",
   "execution_count": 9,
   "metadata": {
    "collapsed": false
   },
   "outputs": [
    {
     "data": {
      "text/plain": [
       "(2772, 11)"
      ]
     },
     "execution_count": 9,
     "metadata": {},
     "output_type": "execute_result"
    }
   ],
   "source": [
    "times_df.shape"
   ]
  },
  {
   "cell_type": "markdown",
   "metadata": {},
   "source": [
    "- this is the dataset for chr20 part5 (6.8 G)\n",
    "  - https://github.com/nanopore-wgs-consortium/NA12878\n",
    "- part 1-4 are 300Gb each"
   ]
  },
  {
   "cell_type": "markdown",
   "metadata": {},
   "source": [
    "## time = 0 is ambiguous: multiple 'exp_starttime's"
   ]
  },
  {
   "cell_type": "code",
   "execution_count": 10,
   "metadata": {
    "collapsed": false
   },
   "outputs": [
    {
     "data": {
      "text/plain": [
       "309"
      ]
     },
     "execution_count": 10,
     "metadata": {},
     "output_type": "execute_result"
    }
   ],
   "source": [
    "len(set(times_df['exp_starttime']))"
   ]
  },
  {
   "cell_type": "code",
   "execution_count": 11,
   "metadata": {
    "collapsed": false
   },
   "outputs": [
    {
     "data": {
      "text/plain": [
       "['/scratch/PI/mrivas/data/NA12878-fast5/rel3/${chr}/${fn}//makeson_PC_20161117_FNFAB44989_MN17284_sequencing_run_MA_470_R9_4_NA12878_11_17_16_64834_ch391_read9096_strand.fast5',\n",
       " '/scratch/PI/mrivas/data/NA12878-fast5/rel3/${chr}/${fn}//MinION2_20160921_FNFAB39075_MN16454_sequencing_run_Chip97_Human_R9_4_tuned_89079_ch117_read481_strand.fast5',\n",
       " '/scratch/PI/mrivas/data/NA12878-fast5/rel3/${chr}/${fn}//PLSP61583_20160919_FNFAB390088_MN17048_sequencing_run_Hum_94_30150_ch248_read28_strand.fast5',\n",
       " '/scratch/PI/mrivas/data/NA12878-fast5/rel3/${chr}/${fn}//MinION2_20160715_FNFAB23716_MN16454_sequencing_run_Chip86_Human_1D_Rapid_Tuned2_17351_ch201_read2350_strand.fast5',\n",
       " '/scratch/PI/mrivas/data/NA12878-fast5/rel3/${chr}/${fn}//MinION2_20160715_FNFAB23716_MN16454_sequencing_run_Chip86_Human_1D_Rapid_Tuned_33536_ch95_read77_strand.fast5',\n",
       " '/scratch/PI/mrivas/data/NA12878-fast5/rel3/${chr}/${fn}//MinION2_20160715_FNFAB23716_MN16454_sequencing_run_Chip86_Human_1D_Rapid_Tuned_19118_ch282_read338_strand.fast5',\n",
       " '/scratch/PI/mrivas/data/NA12878-fast5/rel3/${chr}/${fn}//PLSP57501_20161015_FNFAB42205_MN16458_sequencing_run_Hum94_jt_2_63739_ch296_read33_strand1.fast5',\n",
       " '/scratch/PI/mrivas/data/NA12878-fast5/rel3/${chr}/${fn}//LomanLabz_PC_20161128_FNFAF01253_MN17024_sequencing_run_20161128_Human_Qiagen_1D_R9_4_50330_ch66_read7883_strand.fast5',\n",
       " '/scratch/PI/mrivas/data/NA12878-fast5/rel3/${chr}/${fn}//MinION2_20160715_FNFAB23716_MN16454_sequencing_run_Chip86_Human_1D_Rapid_Tuned_19118_ch47_read941_strand1.fast5',\n",
       " '/scratch/PI/mrivas/data/NA12878-fast5/rel3/${chr}/${fn}//MinION2_20160920_FNFAB39075_MN16454_sequencing_run_Chip97_Human_R9_4_tuned_45135_ch309_read363_strand1.fast5']"
      ]
     },
     "execution_count": 11,
     "metadata": {},
     "output_type": "execute_result"
    }
   ],
   "source": [
    "times_df['filename'][:10].as_matrix().tolist()"
   ]
  },
  {
   "cell_type": "markdown",
   "metadata": {},
   "source": [
    "## make a plot"
   ]
  },
  {
   "cell_type": "code",
   "execution_count": 12,
   "metadata": {
    "collapsed": false
   },
   "outputs": [],
   "source": [
    "times_df['relative_end'] = times_df['unix_timestamp_end'] - times_df['exp_starttime']"
   ]
  },
  {
   "cell_type": "code",
   "execution_count": 13,
   "metadata": {
    "collapsed": false
   },
   "outputs": [],
   "source": [
    "times_df_sorted = times_df.sort_values(by = ['relative_end'], ascending=[1])"
   ]
  },
  {
   "cell_type": "code",
   "execution_count": 14,
   "metadata": {
    "collapsed": true
   },
   "outputs": [],
   "source": [
    "chr_len = 63025520"
   ]
  },
  {
   "cell_type": "code",
   "execution_count": 19,
   "metadata": {
    "collapsed": false
   },
   "outputs": [
    {
     "data": {
      "image/png": "[encoded data removed]",
      "text/plain": [
       "<matplotlib.figure.Figure at 0x4c912d0>"
      ]
     },
     "metadata": {},
     "output_type": "display_data"
    }
   ],
   "source": [
    "make_plot(times_df_sorted['relative_end'].as_matrix(), \n",
    "          1.0 * np.cumsum(times_df_sorted['read_length'].as_matrix()) / chr_len,\n",
    "          title = 'Time vs. Total read length (chr20 part5, 2772 reads, 6.8 G)',\n",
    "          xlabel = 'Time (unix_timestamp_end - exp_starttime) [sec]', \n",
    "          ylabel = 'Coverage (= Total read length / length of chromosome 20)', \n",
    "          filename = '20170211_Time_vs_Total_read_length_plot.png')"
   ]
  },
  {
   "cell_type": "code",
   "execution_count": null,
   "metadata": {
    "collapsed": true
   },
   "outputs": [],
   "source": []
  }
 ],
 "metadata": {
  "anaconda-cloud": {},
  "kernelspec": {
   "display_name": "Python [conda env:pgenlib]",
   "language": "python",
   "name": "conda-env-pgenlib-py"
  },
  "language_info": {
   "codemirror_mode": {
    "name": "ipython",
    "version": 2
   },
   "file_extension": ".py",
   "mimetype": "text/x-python",
   "name": "python",
   "nbconvert_exporter": "python",
   "pygments_lexer": "ipython2",
   "version": "2.7.5"
  }
 },
 "nbformat": 4,
 "nbformat_minor": 1
}
