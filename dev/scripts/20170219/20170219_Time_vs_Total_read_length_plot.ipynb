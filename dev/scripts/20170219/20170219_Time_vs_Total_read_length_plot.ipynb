{
 "cells": [
  {
   "cell_type": "code",
   "execution_count": 1,
   "metadata": {
    "collapsed": true
   },
   "outputs": [],
   "source": [
    "import numpy as np\n",
    "import pandas as pd\n",
    "import subprocess as sp\n",
    "import itertools as it\n",
    "import sys, re, collections\n",
    "import scipy as sc\n",
    "import pgenlib as pg"
   ]
  },
  {
   "cell_type": "code",
   "execution_count": 2,
   "metadata": {
    "collapsed": false
   },
   "outputs": [
    {
     "name": "stderr",
     "output_type": "stream",
     "text": [
      "/home/ytanigaw/.conda/envs/pgenlib/lib/python2.7/site-packages/matplotlib/__init__.py:1401: UserWarning:  This call to matplotlib.use() has no effect\n",
      "because the backend has already been chosen;\n",
      "matplotlib.use() must be called *before* pylab, matplotlib.pyplot,\n",
      "or matplotlib.backends is imported for the first time.\n",
      "\n",
      "  warnings.warn(_use_error_msg)\n"
     ]
    }
   ],
   "source": [
    "%matplotlib inline\n",
    "import matplotlib\n",
    "matplotlib.use('agg')\n",
    "from matplotlib import pyplot as plt"
   ]
  },
  {
   "cell_type": "code",
   "execution_count": 3,
   "metadata": {
    "collapsed": true
   },
   "outputs": [],
   "source": [
    "def make_plot(x, y, title = None, xlabel = None, ylabel = None, filename = None):\n",
    "    '''\n",
    "    This function generates histogram of a vector x and save to file\n",
    "    Inputs:\n",
    "      x: data vector\n",
    "      title:    title of the plot\n",
    "      xlabel:   label on x-axis\n",
    "      ylabel:   label on y-axis\n",
    "      filename: name of the image file (if given, save to file)\n",
    "    Returns:\n",
    "      matlab plot object\n",
    "    Side effect:\n",
    "      save an image file if filename is given\n",
    "    '''\n",
    "    \n",
    "    fig = plt.figure(figsize=(8,6))\n",
    "    ax = fig.add_subplot(1, 1, 1)\n",
    "    ax.plot(x, y)\n",
    "    \n",
    "    if(xlabel != None):\n",
    "        ax.set_xlabel(xlabel)\n",
    "    if(ylabel != None):\n",
    "        ax.set_ylabel(ylabel)\n",
    "    if(title != None):\n",
    "        ax.set_title(title)\n",
    "    if(filename != None):\n",
    "        fig.savefig(filename)\n"
   ]
  },
  {
   "cell_type": "code",
   "execution_count": 4,
   "metadata": {
    "collapsed": true
   },
   "outputs": [],
   "source": [
    "times_f = '/share/PI/mrivas/data/nanopore-wgs-consortium/poretools_time.12888051.stats'"
   ]
  },
  {
   "cell_type": "code",
   "execution_count": 5,
   "metadata": {
    "collapsed": false
   },
   "outputs": [],
   "source": [
    "#times_df = pd.read_csv(times_f, sep = '\\t', nrows=100)"
   ]
  },
  {
   "cell_type": "code",
   "execution_count": 6,
   "metadata": {
    "collapsed": false
   },
   "outputs": [],
   "source": [
    "times_df = pd.read_csv(times_f, sep = '\\t')"
   ]
  },
  {
   "cell_type": "code",
   "execution_count": 7,
   "metadata": {
    "collapsed": false
   },
   "outputs": [
    {
     "data": {
      "text/html": [
       "<div>\n",
       "<table border=\"1\" class=\"dataframe\">\n",
       "  <thead>\n",
       "    <tr style=\"text-align: right;\">\n",
       "      <th></th>\n",
       "      <th>channel</th>\n",
       "      <th>filename</th>\n",
       "      <th>read_length</th>\n",
       "      <th>exp_starttime</th>\n",
       "      <th>unix_timestamp</th>\n",
       "      <th>duration</th>\n",
       "      <th>unix_timestamp_end</th>\n",
       "      <th>iso_timestamp</th>\n",
       "      <th>day</th>\n",
       "      <th>hour</th>\n",
       "      <th>minute</th>\n",
       "    </tr>\n",
       "  </thead>\n",
       "  <tbody>\n",
       "    <tr>\n",
       "      <th>0</th>\n",
       "      <td>227</td>\n",
       "      <td>/scratch/PI/mrivas/data/NA12878-fast5/rel3/${c...</td>\n",
       "      <td>28487</td>\n",
       "      <td>1479463036</td>\n",
       "      <td>1479470596</td>\n",
       "      <td>72</td>\n",
       "      <td>1479470668</td>\n",
       "      <td>2016-11-18T04:03:16+0000</td>\n",
       "      <td>18</td>\n",
       "      <td>4</td>\n",
       "      <td>3</td>\n",
       "    </tr>\n",
       "    <tr>\n",
       "      <th>1</th>\n",
       "      <td>1</td>\n",
       "      <td>/scratch/PI/mrivas/data/NA12878-fast5/rel3/${c...</td>\n",
       "      <td>5739</td>\n",
       "      <td>1480343031</td>\n",
       "      <td>1480344462</td>\n",
       "      <td>12</td>\n",
       "      <td>1480344474</td>\n",
       "      <td>2016-11-28T06:47:42+0000</td>\n",
       "      <td>28</td>\n",
       "      <td>6</td>\n",
       "      <td>47</td>\n",
       "    </tr>\n",
       "    <tr>\n",
       "      <th>2</th>\n",
       "      <td>477</td>\n",
       "      <td>/scratch/PI/mrivas/data/NA12878-fast5/rel3/${c...</td>\n",
       "      <td>1321</td>\n",
       "      <td>1481397870</td>\n",
       "      <td>1481398019</td>\n",
       "      <td>3</td>\n",
       "      <td>1481398022</td>\n",
       "      <td>2016-12-10T11:26:59+0000</td>\n",
       "      <td>10</td>\n",
       "      <td>11</td>\n",
       "      <td>26</td>\n",
       "    </tr>\n",
       "    <tr>\n",
       "      <th>3</th>\n",
       "      <td>340</td>\n",
       "      <td>/scratch/PI/mrivas/data/NA12878-fast5/rel3/${c...</td>\n",
       "      <td>1041</td>\n",
       "      <td>1476491635</td>\n",
       "      <td>1476501629</td>\n",
       "      <td>2</td>\n",
       "      <td>1476501631</td>\n",
       "      <td>2016-10-14T20:20:29+0000</td>\n",
       "      <td>14</td>\n",
       "      <td>20</td>\n",
       "      <td>20</td>\n",
       "    </tr>\n",
       "    <tr>\n",
       "      <th>4</th>\n",
       "      <td>36</td>\n",
       "      <td>/scratch/PI/mrivas/data/NA12878-fast5/rel3/${c...</td>\n",
       "      <td>13384</td>\n",
       "      <td>1479439380</td>\n",
       "      <td>1479440436</td>\n",
       "      <td>35</td>\n",
       "      <td>1479440471</td>\n",
       "      <td>2016-11-17T19:40:36+0000</td>\n",
       "      <td>17</td>\n",
       "      <td>19</td>\n",
       "      <td>40</td>\n",
       "    </tr>\n",
       "    <tr>\n",
       "      <th>5</th>\n",
       "      <td>410</td>\n",
       "      <td>/scratch/PI/mrivas/data/NA12878-fast5/rel3/${c...</td>\n",
       "      <td>4109</td>\n",
       "      <td>1480388539</td>\n",
       "      <td>1480402436</td>\n",
       "      <td>13</td>\n",
       "      <td>1480402449</td>\n",
       "      <td>2016-11-28T22:53:56+0000</td>\n",
       "      <td>28</td>\n",
       "      <td>22</td>\n",
       "      <td>53</td>\n",
       "    </tr>\n",
       "    <tr>\n",
       "      <th>6</th>\n",
       "      <td>49</td>\n",
       "      <td>/scratch/PI/mrivas/data/NA12878-fast5/rel3/${c...</td>\n",
       "      <td>5968</td>\n",
       "      <td>1476350077</td>\n",
       "      <td>1476351429</td>\n",
       "      <td>13</td>\n",
       "      <td>1476351442</td>\n",
       "      <td>2016-10-13T02:37:09+0000</td>\n",
       "      <td>13</td>\n",
       "      <td>2</td>\n",
       "      <td>37</td>\n",
       "    </tr>\n",
       "    <tr>\n",
       "      <th>7</th>\n",
       "      <td>450</td>\n",
       "      <td>/scratch/PI/mrivas/data/NA12878-fast5/rel3/${c...</td>\n",
       "      <td>1639</td>\n",
       "      <td>1480484512</td>\n",
       "      <td>1480486455</td>\n",
       "      <td>61</td>\n",
       "      <td>1480486516</td>\n",
       "      <td>2016-11-29T22:14:15+0000</td>\n",
       "      <td>29</td>\n",
       "      <td>22</td>\n",
       "      <td>14</td>\n",
       "    </tr>\n",
       "    <tr>\n",
       "      <th>8</th>\n",
       "      <td>93</td>\n",
       "      <td>/scratch/PI/mrivas/data/NA12878-fast5/rel3/${c...</td>\n",
       "      <td>795</td>\n",
       "      <td>1479439380</td>\n",
       "      <td>1479497548</td>\n",
       "      <td>2</td>\n",
       "      <td>1479497550</td>\n",
       "      <td>2016-11-18T11:32:28+0000</td>\n",
       "      <td>18</td>\n",
       "      <td>11</td>\n",
       "      <td>32</td>\n",
       "    </tr>\n",
       "    <tr>\n",
       "      <th>9</th>\n",
       "      <td>507</td>\n",
       "      <td>/scratch/PI/mrivas/data/NA12878-fast5/rel3/${c...</td>\n",
       "      <td>4166</td>\n",
       "      <td>1476472140</td>\n",
       "      <td>1476477395</td>\n",
       "      <td>11</td>\n",
       "      <td>1476477406</td>\n",
       "      <td>2016-10-14T13:36:35+0000</td>\n",
       "      <td>14</td>\n",
       "      <td>13</td>\n",
       "      <td>36</td>\n",
       "    </tr>\n",
       "  </tbody>\n",
       "</table>\n",
       "</div>"
      ],
      "text/plain": [
       "   channel                                           filename  read_length  \\\n",
       "0      227  /scratch/PI/mrivas/data/NA12878-fast5/rel3/${c...        28487   \n",
       "1        1  /scratch/PI/mrivas/data/NA12878-fast5/rel3/${c...         5739   \n",
       "2      477  /scratch/PI/mrivas/data/NA12878-fast5/rel3/${c...         1321   \n",
       "3      340  /scratch/PI/mrivas/data/NA12878-fast5/rel3/${c...         1041   \n",
       "4       36  /scratch/PI/mrivas/data/NA12878-fast5/rel3/${c...        13384   \n",
       "5      410  /scratch/PI/mrivas/data/NA12878-fast5/rel3/${c...         4109   \n",
       "6       49  /scratch/PI/mrivas/data/NA12878-fast5/rel3/${c...         5968   \n",
       "7      450  /scratch/PI/mrivas/data/NA12878-fast5/rel3/${c...         1639   \n",
       "8       93  /scratch/PI/mrivas/data/NA12878-fast5/rel3/${c...          795   \n",
       "9      507  /scratch/PI/mrivas/data/NA12878-fast5/rel3/${c...         4166   \n",
       "\n",
       "   exp_starttime  unix_timestamp  duration  unix_timestamp_end  \\\n",
       "0     1479463036      1479470596        72          1479470668   \n",
       "1     1480343031      1480344462        12          1480344474   \n",
       "2     1481397870      1481398019         3          1481398022   \n",
       "3     1476491635      1476501629         2          1476501631   \n",
       "4     1479439380      1479440436        35          1479440471   \n",
       "5     1480388539      1480402436        13          1480402449   \n",
       "6     1476350077      1476351429        13          1476351442   \n",
       "7     1480484512      1480486455        61          1480486516   \n",
       "8     1479439380      1479497548         2          1479497550   \n",
       "9     1476472140      1476477395        11          1476477406   \n",
       "\n",
       "              iso_timestamp  day  hour  minute  \n",
       "0  2016-11-18T04:03:16+0000   18     4       3  \n",
       "1  2016-11-28T06:47:42+0000   28     6      47  \n",
       "2  2016-12-10T11:26:59+0000   10    11      26  \n",
       "3  2016-10-14T20:20:29+0000   14    20      20  \n",
       "4  2016-11-17T19:40:36+0000   17    19      40  \n",
       "5  2016-11-28T22:53:56+0000   28    22      53  \n",
       "6  2016-10-13T02:37:09+0000   13     2      37  \n",
       "7  2016-11-29T22:14:15+0000   29    22      14  \n",
       "8  2016-11-18T11:32:28+0000   18    11      32  \n",
       "9  2016-10-14T13:36:35+0000   14    13      36  "
      ]
     },
     "execution_count": 7,
     "metadata": {},
     "output_type": "execute_result"
    }
   ],
   "source": [
    "times_df.head(10)"
   ]
  },
  {
   "cell_type": "code",
   "execution_count": 8,
   "metadata": {
    "collapsed": false
   },
   "outputs": [
    {
     "data": {
      "text/plain": [
       "(402772, 11)"
      ]
     },
     "execution_count": 8,
     "metadata": {},
     "output_type": "execute_result"
    }
   ],
   "source": [
    "times_df.shape"
   ]
  },
  {
   "cell_type": "markdown",
   "metadata": {},
   "source": [
    "- This contains all the data from part 1-5 "
   ]
  },
  {
   "cell_type": "markdown",
   "metadata": {},
   "source": [
    "## time = 0 is ambiguous: multiple 'exp_starttime's"
   ]
  },
  {
   "cell_type": "code",
   "execution_count": 9,
   "metadata": {
    "collapsed": false
   },
   "outputs": [
    {
     "data": {
      "text/plain": [
       "1134"
      ]
     },
     "execution_count": 9,
     "metadata": {},
     "output_type": "execute_result"
    }
   ],
   "source": [
    "len(set(times_df['exp_starttime']))"
   ]
  },
  {
   "cell_type": "code",
   "execution_count": 10,
   "metadata": {
    "collapsed": false
   },
   "outputs": [
    {
     "data": {
      "text/plain": [
       "['/scratch/PI/mrivas/data/NA12878-fast5/rel3/${chr}/${fn}//MinION2_20161118_FNFAB45332_MN20093_sequencing_run_Chip104_Genomic_R9_4_450bps_tune_80266_ch227_read404_strand.fast5',\n",
       " '/scratch/PI/mrivas/data/NA12878-fast5/rel3/${chr}/${fn}//LomanLabz_PC_20161128_FNFAF01253_MN17024_sequencing_run_20161128_Human_Qiagen_1D_R9_4_50330_ch1_read220_strand.fast5',\n",
       " '/scratch/PI/mrivas/data/NA12878-fast5/rel3/${chr}/${fn}//LomanLabz_PC_20161210_FNFAB49908_MN17024_sequencing_run_20161209_Human_Rapidv2_12222_ch477_read19_strand.fast5',\n",
       " '/scratch/PI/mrivas/data/NA12878-fast5/rel3/${chr}/${fn}//PLSP57501_20161015_FNFAB42205_MN16458_sequencing_run_Hum94_jt_28680_ch340_read1065_strand1.fast5',\n",
       " '/scratch/PI/mrivas/data/NA12878-fast5/rel3/${chr}/${fn}//makeson_PC_20161117_FNFAB44989_MN17284_sequencing_run_MA_470_R9_4_NA12878_11_17_16_64834_ch36_read155_strand.fast5',\n",
       " '/scratch/PI/mrivas/data/NA12878-fast5/rel3/${chr}/${fn}//PLSP61583_20161129_FNFAB49914_MN17048_sequencing_run_Hu_Nott_Bi_FC4_tune_39428_ch410_read306203_strand.fast5',\n",
       " '/scratch/PI/mrivas/data/NA12878-fast5/rel3/${chr}/${fn}//MinION2_20161013_FNFAB42706_MN16454_sequencing_run_Chip99_Genomic_R9_4_480bps_69747_ch49_read111_strand1.fast5',\n",
       " '/scratch/PI/mrivas/data/NA12878-fast5/rel3/${chr}/${fn}//llssbzms2p35x_20161130_FNFAB45271_MN17073_sequencing_run_Hu_Bir_R94_1Dlig_fc5_tune2_55017_ch450_read85_strand.fast5',\n",
       " '/scratch/PI/mrivas/data/NA12878-fast5/rel3/${chr}/${fn}//makeson_PC_20161117_FNFAB44989_MN17284_sequencing_run_MA_470_R9_4_NA12878_11_17_16_64834_ch93_read3106_strand.fast5',\n",
       " '/scratch/PI/mrivas/data/NA12878-fast5/rel3/${chr}/${fn}//PLSP57501_20161014_FNFAB42205_MN16458_sequencing_run_Hum94_jt_97011_ch507_read610_strand1.fast5']"
      ]
     },
     "execution_count": 10,
     "metadata": {},
     "output_type": "execute_result"
    }
   ],
   "source": [
    "times_df['filename'][:10].as_matrix().tolist()"
   ]
  },
  {
   "cell_type": "markdown",
   "metadata": {},
   "source": [
    "## filter read by read length"
   ]
  },
  {
   "cell_type": "code",
   "execution_count": 11,
   "metadata": {
    "collapsed": false
   },
   "outputs": [],
   "source": [
    "threshold = 12500\n",
    "times_df_filtered = times_df.ix[times_df['read_length'] >= threshold, :]"
   ]
  },
  {
   "cell_type": "code",
   "execution_count": 12,
   "metadata": {
    "collapsed": false
   },
   "outputs": [
    {
     "data": {
      "text/plain": [
       "(86405, 11)"
      ]
     },
     "execution_count": 12,
     "metadata": {},
     "output_type": "execute_result"
    }
   ],
   "source": [
    "times_df_filtered.shape"
   ]
  },
  {
   "cell_type": "code",
   "execution_count": null,
   "metadata": {
    "collapsed": true
   },
   "outputs": [],
   "source": []
  },
  {
   "cell_type": "markdown",
   "metadata": {},
   "source": [
    "## make a plot"
   ]
  },
  {
   "cell_type": "code",
   "execution_count": 21,
   "metadata": {
    "collapsed": true
   },
   "outputs": [],
   "source": [
    "chr_len = 63025520"
   ]
  },
  {
   "cell_type": "code",
   "execution_count": 26,
   "metadata": {
    "collapsed": true
   },
   "outputs": [],
   "source": [
    "def plot_wrapper(times_df, chr_len, filename, comment = \"\"):\n",
    "    times_df['relative_end'] = times_df['unix_timestamp_end'] - times_df['exp_starttime']\n",
    "    times_df_sorted = times_df.sort_values(by = ['relative_end'], ascending=[1])\n",
    "    make_plot(times_df_sorted['relative_end'].as_matrix(), \n",
    "          1.0 * np.cumsum(times_df_sorted['read_length'].as_matrix()) / chr_len,\n",
    "          title = 'Time vs. Total read length (chr20 {} reads{})'.format(times_df.shape[0], comment),\n",
    "          xlabel = 'Time (unix_timestamp_end - exp_starttime) [sec]', \n",
    "          ylabel = 'Coverage (= Total read length / length of chromosome 20)', \n",
    "          filename = filename)"
   ]
  },
  {
   "cell_type": "markdown",
   "metadata": {},
   "source": [
    "## plot without filter"
   ]
  },
  {
   "cell_type": "code",
   "execution_count": 27,
   "metadata": {
    "collapsed": false
   },
   "outputs": [
    {
     "data": {
      "image/png": "[encoded data removed]",
      "text/plain": [
       "<matplotlib.figure.Figure at 0x5df7d90>"
      ]
     },
     "metadata": {},
     "output_type": "display_data"
    }
   ],
   "source": [
    "plot_wrapper(times_df=times_df, chr_len=chr_len, filename = '20170219_Time_vs_Total_read_length_plot.png')"
   ]
  },
  {
   "cell_type": "markdown",
   "metadata": {
    "collapsed": true
   },
   "source": [
    "## plot with read-length filter"
   ]
  },
  {
   "cell_type": "code",
   "execution_count": 28,
   "metadata": {
    "collapsed": false
   },
   "outputs": [
    {
     "name": "stderr",
     "output_type": "stream",
     "text": [
      "/home/ytanigaw/.conda/envs/pgenlib/lib/python2.7/site-packages/ipykernel/__main__.py:2: SettingWithCopyWarning: \n",
      "A value is trying to be set on a copy of a slice from a DataFrame.\n",
      "Try using .loc[row_indexer,col_indexer] = value instead\n",
      "\n",
      "See the caveats in the documentation: http://pandas.pydata.org/pandas-docs/stable/indexing.html#indexing-view-versus-copy\n",
      "  from ipykernel import kernelapp as app\n"
     ]
    },
    {
     "data": {
      "image/png": "[encoded data removed]",
      "text/plain": [
       "<matplotlib.figure.Figure at 0x5df31d0>"
      ]
     },
     "metadata": {},
     "output_type": "display_data"
    }
   ],
   "source": [
    "plot_wrapper(times_df=times_df_filtered, chr_len=chr_len, comment = \" (read length >= 12.5 kbp)\",\n",
    "            filename = '20170219_Time_vs_Total_read_length_plot.geq12500.png')"
   ]
  },
  {
   "cell_type": "code",
   "execution_count": null,
   "metadata": {
    "collapsed": true
   },
   "outputs": [],
   "source": []
  }
 ],
 "metadata": {
  "anaconda-cloud": {},
  "kernelspec": {
   "display_name": "Python [conda env:pgenlib]",
   "language": "python",
   "name": "conda-env-pgenlib-py"
  },
  "language_info": {
   "codemirror_mode": {
    "name": "ipython",
    "version": 2
   },
   "file_extension": ".py",
   "mimetype": "text/x-python",
   "name": "python",
   "nbconvert_exporter": "python",
   "pygments_lexer": "ipython2",
   "version": "2.7.5"
  }
 },
 "nbformat": 4,
 "nbformat_minor": 1
}
