{
 "cells": [
  {
   "cell_type": "code",
   "execution_count": 1,
   "metadata": {
    "collapsed": true
   },
   "outputs": [],
   "source": [
    "import numpy as np\n",
    "import pandas as pd\n",
    "import subprocess as sp\n",
    "import itertools as it\n",
    "import sys, re, collections\n",
    "import scipy as sc\n",
    "import pgenlib as pg"
   ]
  },
  {
   "cell_type": "code",
   "execution_count": 2,
   "metadata": {
    "collapsed": false
   },
   "outputs": [
    {
     "name": "stderr",
     "output_type": "stream",
     "text": [
      "/home/ytanigaw/.local/lib/python2.7/site-packages/matplotlib/__init__.py:1357: UserWarning:  This call to matplotlib.use() has no effect\n",
      "because the backend has already been chosen;\n",
      "matplotlib.use() must be called *before* pylab, matplotlib.pyplot,\n",
      "or matplotlib.backends is imported for the first time.\n",
      "\n",
      "  warnings.warn(_use_error_msg)\n"
     ]
    }
   ],
   "source": [
    "%matplotlib inline\n",
    "import matplotlib\n",
    "matplotlib.use('agg')\n",
    "from matplotlib import pyplot as plt"
   ]
  },
  {
   "cell_type": "code",
   "execution_count": 3,
   "metadata": {
    "collapsed": true
   },
   "outputs": [],
   "source": [
    "def make_hist(x, title = None, xlabel = None, ylabel = None, filename = None):\n",
    "    '''\n",
    "    This function generates histogram of a vector x and save to file\n",
    "    Inputs:\n",
    "      x: data vector\n",
    "      title:    title of the plot\n",
    "      xlabel:   label on x-axis\n",
    "      ylabel:   label on y-axis\n",
    "      filename: name of the image file (if given, save to file)\n",
    "    Returns:\n",
    "      matlab plot object\n",
    "    Side effect:\n",
    "      save an image file if filename is given\n",
    "    '''\n",
    "    \n",
    "    fig = plt.figure(figsize=(8,6))\n",
    "    ax = fig.add_subplot(1, 1, 1)\n",
    "    ax.hist(x, 20)\n",
    "    \n",
    "    if(xlabel != None):\n",
    "        ax.set_xlabel(xlabel)\n",
    "    if(ylabel != None):\n",
    "        ax.set_ylabel(ylabel)\n",
    "    if(title != None):\n",
    "        ax.set_title(title)\n",
    "    if(filename != None):\n",
    "        fig.savefig(filename)"
   ]
  },
  {
   "cell_type": "markdown",
   "metadata": {},
   "source": [
    "# prepare params & files"
   ]
  },
  {
   "cell_type": "code",
   "execution_count": 4,
   "metadata": {
    "collapsed": true
   },
   "outputs": [],
   "source": [
    "chromosome = '20'"
   ]
  },
  {
   "cell_type": "code",
   "execution_count": 5,
   "metadata": {
    "collapsed": true
   },
   "outputs": [],
   "source": [
    "file_head = '/share/PI/mrivas/data/1000genomes/ALL.chr{}.phase3_shapeit2_mvncall_integrated_v5a.20130502.genotypes-pgen'.format(chromosome)"
   ]
  },
  {
   "cell_type": "code",
   "execution_count": 6,
   "metadata": {
    "collapsed": true
   },
   "outputs": [],
   "source": [
    "pgen = {}\n",
    "bim  = {}\n",
    "genome_index_to_variant_index = {}\n",
    "bim_col_names = ['chr', 'id', 'morgan', 'bp', 'pri', 'sec']"
   ]
  },
  {
   "cell_type": "markdown",
   "metadata": {},
   "source": [
    "### population reference data"
   ]
  },
  {
   "cell_type": "code",
   "execution_count": 7,
   "metadata": {
    "collapsed": true
   },
   "outputs": [],
   "source": [
    "pgen[chromosome] = pg.PgenReader('{}.pgen'.format(file_head))\n",
    "bim[chromosome]  = pd.read_csv('{}.bim'.format(file_head),\n",
    "                               sep = '\\t', names = bim_col_names)\n",
    "genome_index_to_variant_index[chromosome] = \\\n",
    "dict(zip(bim[chromosome]['bp'], range(len(bim[chromosome]))))"
   ]
  },
  {
   "cell_type": "code",
   "execution_count": 8,
   "metadata": {
    "collapsed": true
   },
   "outputs": [],
   "source": [
    "sample_ct = pgen[chromosome].get_raw_sample_ct()"
   ]
  },
  {
   "cell_type": "markdown",
   "metadata": {},
   "source": [
    "### our observation"
   ]
  },
  {
   "cell_type": "code",
   "execution_count": 9,
   "metadata": {
    "collapsed": false
   },
   "outputs": [],
   "source": [
    "snps_f =  '/share/PI/mrivas/data/nanopore-wgs-consortium-old/nanopore-wgs.25000.sorted.10k.mapq50.ext.sorted.informative.q14.snps'\n",
    "reads = pd.read_csv(snps_f, sep = '\\t')"
   ]
  },
  {
   "cell_type": "code",
   "execution_count": 10,
   "metadata": {
    "collapsed": true
   },
   "outputs": [],
   "source": [
    "def parse_snps_str(snps_str, filter_by_dbsnp = True):\n",
    "    list_of_snps = [re.split(',|:',snp) for snp in snps_str.split(';')]\n",
    "    if(filter_by_dbsnp):\n",
    "        '''\n",
    "        keep only snps with valid snp id\n",
    "        '''\n",
    "        list_of_snps = np.array([snp for snp in list_of_snps\n",
    "                                 if snp[4][:2] == 'rs'])\n",
    "    return(list_of_snps)"
   ]
  },
  {
   "cell_type": "code",
   "execution_count": 11,
   "metadata": {
    "collapsed": false
   },
   "outputs": [],
   "source": [
    "# reconstruct list of snps\n",
    "reads['snps'] = np.array([parse_snps_str(reads.ix[read_num, 6]) \n",
    "                          for read_num in range(len(reads))])"
   ]
  },
  {
   "cell_type": "code",
   "execution_count": 12,
   "metadata": {
    "collapsed": false
   },
   "outputs": [],
   "source": [
    "# add field of chromosome number\n",
    "reads['chr'] = np.array([reads['snps'][read_num][0][0][3:]\n",
    "                         for read_num in range(len(reads))])"
   ]
  },
  {
   "cell_type": "code",
   "execution_count": 13,
   "metadata": {
    "collapsed": false
   },
   "outputs": [],
   "source": [
    "# extracting snp positions\n",
    "reads['snp_pos'] = np.array([[int(x) for x in reads.ix[read_num, 'snps'][:, 1]]\n",
    "                             for read_num in range(len(reads))])"
   ]
  },
  {
   "cell_type": "code",
   "execution_count": 14,
   "metadata": {
    "collapsed": true
   },
   "outputs": [],
   "source": [
    "def snp_poss_to_variant_idxs(snp_poss, conv_dict):\n",
    "    return(np.array([conv_dict[snp_pos] for snp_pos \n",
    "                     in snp_poss if snp_pos in conv_dict],\n",
    "                   dtype = np.uint32))"
   ]
  },
  {
   "cell_type": "code",
   "execution_count": 15,
   "metadata": {
    "collapsed": false
   },
   "outputs": [
    {
     "data": {
      "text/plain": [
       "array([20623, 20732, 20813, 21017, 21054, 21139, 21143, 21187, 21253,\n",
       "       21331, 21537, 21540, 21562, 21607, 21632], dtype=uint32)"
      ]
     },
     "execution_count": 15,
     "metadata": {},
     "output_type": "execute_result"
    }
   ],
   "source": [
    "read_num = 334\n",
    "snp_poss_to_variant_idxs(reads['snp_pos'][read_num], \n",
    "                         genome_index_to_variant_index[reads['chr'][read_num]])"
   ]
  },
  {
   "cell_type": "code",
   "execution_count": 16,
   "metadata": {
    "collapsed": false
   },
   "outputs": [
    {
     "name": "stdout",
     "output_type": "stream",
     "text": [
      "(13, 10)\n"
     ]
    }
   ],
   "source": [
    "# take subset of fragments on the chromosome of interest\n",
    "reads_chr20 = reads[reads['chr'] == '20']\n",
    "print reads_chr20.shape"
   ]
  },
  {
   "cell_type": "code",
   "execution_count": 17,
   "metadata": {
    "collapsed": false
   },
   "outputs": [
    {
     "data": {
      "text/html": [
       "<div>\n",
       "<table border=\"1\" class=\"dataframe\">\n",
       "  <thead>\n",
       "    <tr style=\"text-align: right;\">\n",
       "      <th></th>\n",
       "      <th>name</th>\n",
       "      <th>#mismatches</th>\n",
       "      <th>#mismatches_with_hits_to_dbSNP</th>\n",
       "      <th>#SNPs_with_var_id</th>\n",
       "      <th>#SNPs_with_var_id(validated)</th>\n",
       "      <th>length</th>\n",
       "      <th>snps([&lt;pos&gt;,&lt;ref&gt;,&lt;seq&gt;,&lt;varid&gt;,&lt;validated&gt;,&lt;baseCallQ&gt;;]+)</th>\n",
       "      <th>snps</th>\n",
       "      <th>chr</th>\n",
       "      <th>snp_pos</th>\n",
       "    </tr>\n",
       "  </thead>\n",
       "  <tbody>\n",
       "    <tr>\n",
       "      <th>334</th>\n",
       "      <td>1f3ad947-2a90-4c4c-8155-c8ca34c3a4d9_Basecall_...</td>\n",
       "      <td>47</td>\n",
       "      <td>17</td>\n",
       "      <td>16</td>\n",
       "      <td>14</td>\n",
       "      <td>32044</td>\n",
       "      <td>chr20:712806,T,A,*,None,16;chr20:712968,C,G,*,...</td>\n",
       "      <td>[[chr20, 714008, a, G, rs2317021, True, 18], [...</td>\n",
       "      <td>20</td>\n",
       "      <td>[714008, 717649, 720916, 727476, 728499, 73089...</td>\n",
       "    </tr>\n",
       "    <tr>\n",
       "      <th>335</th>\n",
       "      <td>5ac37613-6f90-4320-9c8e-fefb98f49f25_Basecall_...</td>\n",
       "      <td>35</td>\n",
       "      <td>14</td>\n",
       "      <td>13</td>\n",
       "      <td>12</td>\n",
       "      <td>29431</td>\n",
       "      <td>chr20:1341776,a,G,*,None,14;chr20:1342191,c,T,...</td>\n",
       "      <td>[[chr20, 1344929, C, A, rs6033551, True, 18], ...</td>\n",
       "      <td>20</td>\n",
       "      <td>[1344929, 1345368, 1346236, 1346381, 1347754, ...</td>\n",
       "    </tr>\n",
       "    <tr>\n",
       "      <th>336</th>\n",
       "      <td>021d57af-e9b8-49d6-b200-7793894f18a2_Basecall_...</td>\n",
       "      <td>40</td>\n",
       "      <td>16</td>\n",
       "      <td>15</td>\n",
       "      <td>14</td>\n",
       "      <td>27679</td>\n",
       "      <td>chr20:4376042,A,G,*,None,17;chr20:4376044,C,A,...</td>\n",
       "      <td>[[chr20, 4379857, c, A, rs3848822, True, 17], ...</td>\n",
       "      <td>20</td>\n",
       "      <td>[4379857, 4381876, 4382054, 4385424, 4385756, ...</td>\n",
       "    </tr>\n",
       "  </tbody>\n",
       "</table>\n",
       "</div>"
      ],
      "text/plain": [
       "                                                  name  #mismatches  \\\n",
       "334  1f3ad947-2a90-4c4c-8155-c8ca34c3a4d9_Basecall_...           47   \n",
       "335  5ac37613-6f90-4320-9c8e-fefb98f49f25_Basecall_...           35   \n",
       "336  021d57af-e9b8-49d6-b200-7793894f18a2_Basecall_...           40   \n",
       "\n",
       "     #mismatches_with_hits_to_dbSNP  #SNPs_with_var_id  \\\n",
       "334                              17                 16   \n",
       "335                              14                 13   \n",
       "336                              16                 15   \n",
       "\n",
       "     #SNPs_with_var_id(validated)  length  \\\n",
       "334                            14   32044   \n",
       "335                            12   29431   \n",
       "336                            14   27679   \n",
       "\n",
       "    snps([<pos>,<ref>,<seq>,<varid>,<validated>,<baseCallQ>;]+)  \\\n",
       "334  chr20:712806,T,A,*,None,16;chr20:712968,C,G,*,...            \n",
       "335  chr20:1341776,a,G,*,None,14;chr20:1342191,c,T,...            \n",
       "336  chr20:4376042,A,G,*,None,17;chr20:4376044,C,A,...            \n",
       "\n",
       "                                                  snps chr  \\\n",
       "334  [[chr20, 714008, a, G, rs2317021, True, 18], [...  20   \n",
       "335  [[chr20, 1344929, C, A, rs6033551, True, 18], ...  20   \n",
       "336  [[chr20, 4379857, c, A, rs3848822, True, 17], ...  20   \n",
       "\n",
       "                                               snp_pos  \n",
       "334  [714008, 717649, 720916, 727476, 728499, 73089...  \n",
       "335  [1344929, 1345368, 1346236, 1346381, 1347754, ...  \n",
       "336  [4379857, 4381876, 4382054, 4385424, 4385756, ...  "
      ]
     },
     "execution_count": 17,
     "metadata": {},
     "output_type": "execute_result"
    }
   ],
   "source": [
    "reads_chr20.head(3)"
   ]
  },
  {
   "cell_type": "code",
   "execution_count": 18,
   "metadata": {
    "collapsed": false
   },
   "outputs": [
    {
     "data": {
      "text/plain": [
       "334    [[chr20, 714008, a, G, rs2317021, True, 18], [...\n",
       "335    [[chr20, 1344929, C, A, rs6033551, True, 18], ...\n",
       "336    [[chr20, 4379857, c, A, rs3848822, True, 17], ...\n",
       "337    [[chr20, 15106978, c, T, rs975993, True, 15], ...\n",
       "338    [[chr20, 16114674, g, A, rs971314, True, 16], ...\n",
       "339    [[chr20, 17213181, c, G, rs8116844, True, 14],...\n",
       "340    [[chr20, 35005210, c, T, rs538777470, False, 1...\n",
       "341    [[chr20, 43923028, a, G, rs66503531, True, 15]...\n",
       "342    [[chr20, 47824040, t, A, rs6095462, True, 16],...\n",
       "343    [[chr20, 48302652, C, T, rs1016234, True, 14],...\n",
       "344    [[chr20, 51259768, T, C, rs856409, True, 17], ...\n",
       "345    [[chr20, 53759041, a, G, rs6069139, True, 19],...\n",
       "346    [[chr20, 54342375, T, C, rs13041144, True, 14]...\n",
       "Name: snps, dtype: object"
      ]
     },
     "execution_count": 18,
     "metadata": {},
     "output_type": "execute_result"
    }
   ],
   "source": [
    "reads_chr20.ix[:, 'snps']"
   ]
  },
  {
   "cell_type": "code",
   "execution_count": 19,
   "metadata": {
    "collapsed": false
   },
   "outputs": [
    {
     "data": {
      "text/plain": [
       "20623"
      ]
     },
     "execution_count": 19,
     "metadata": {},
     "output_type": "execute_result"
    }
   ],
   "source": [
    "genome_index_to_variant_index['20'][714008]"
   ]
  },
  {
   "cell_type": "code",
   "execution_count": 20,
   "metadata": {
    "collapsed": false
   },
   "outputs": [],
   "source": [
    "variant_idxs = \\\n",
    "np.array([snp_poss_to_variant_idxs(reads_chr20['snp_pos'][read_num], \n",
    "                                   genome_index_to_variant_index[reads['chr'][read_num]])\n",
    "          for read_num in range(334, 347)])"
   ]
  },
  {
   "cell_type": "code",
   "execution_count": 21,
   "metadata": {
    "collapsed": false
   },
   "outputs": [
    {
     "data": {
      "text/plain": [
       "array([20623, 20732, 20813, 21017, 21054, 21139, 21143, 21187, 21253,\n",
       "       21331, 21537, 21540, 21562, 21607, 21632], dtype=uint32)"
      ]
     },
     "execution_count": 21,
     "metadata": {},
     "output_type": "execute_result"
    }
   ],
   "source": [
    "variant_idxs[0]"
   ]
  },
  {
   "cell_type": "code",
   "execution_count": null,
   "metadata": {
    "collapsed": true
   },
   "outputs": [],
   "source": []
  },
  {
   "cell_type": "code",
   "execution_count": 22,
   "metadata": {
    "collapsed": false
   },
   "outputs": [],
   "source": [
    "def read_haplotype(pgen, variant_idxs):\n",
    "    sample_ct = pgen.get_raw_sample_ct()\n",
    "    read_alleles_list_buf = np.zeros((len(variant_idxs), \n",
    "                                      2 * sample_ct), \n",
    "                                     dtype=np.int32)\n",
    "    # query pgen file and obtain allels\n",
    "    pgen.read_alleles_list(variant_idxs, read_alleles_list_buf)\n",
    "\n",
    "    # convert to string representation of haplotype\n",
    "    hap_strs = [''.join([str(bit) for bit \n",
    "                             in read_alleles_list_buf[:, hap]])\n",
    "                for hap in range(2 * sample_ct)]\n",
    "\n",
    "    # convert each haplotype to an interger number\n",
    "    #  assuming that len(variant_idxs)\n",
    "    if(len(variant_idxs) <= 63):\n",
    "        haps = np.array([int(hap_str, 2) for hap_str in hap_strs])\n",
    "    else:\n",
    "        haps = np.array([long(hap_str, 2) for hap_str in hap_strs])\n",
    "\n",
    "    return(haps)"
   ]
  },
  {
   "cell_type": "code",
   "execution_count": 23,
   "metadata": {
    "collapsed": true
   },
   "outputs": [],
   "source": [
    "haps = read_haplotype(pgen[chromosome], variant_idxs[0])"
   ]
  },
  {
   "cell_type": "code",
   "execution_count": 24,
   "metadata": {
    "collapsed": false
   },
   "outputs": [
    {
     "data": {
      "text/plain": [
       "(5008,)"
      ]
     },
     "execution_count": 24,
     "metadata": {},
     "output_type": "execute_result"
    }
   ],
   "source": [
    "haps.shape"
   ]
  },
  {
   "cell_type": "code",
   "execution_count": 25,
   "metadata": {
    "collapsed": false
   },
   "outputs": [
    {
     "data": {
      "text/plain": [
       "array([20470, 17442, 20470, ..., 24480, 15670, 15648])"
      ]
     },
     "execution_count": 25,
     "metadata": {},
     "output_type": "execute_result"
    }
   ],
   "source": [
    "haps"
   ]
  },
  {
   "cell_type": "markdown",
   "metadata": {},
   "source": [
    "## number of haplotypes in this region"
   ]
  },
  {
   "cell_type": "code",
   "execution_count": 26,
   "metadata": {
    "collapsed": false
   },
   "outputs": [],
   "source": [
    "haps_cnt = collections.Counter(haps)"
   ]
  },
  {
   "cell_type": "code",
   "execution_count": 27,
   "metadata": {
    "collapsed": false
   },
   "outputs": [
    {
     "data": {
      "text/plain": [
       "225"
      ]
     },
     "execution_count": 27,
     "metadata": {},
     "output_type": "execute_result"
    }
   ],
   "source": [
    "len(set(haps_cnt.keys()))"
   ]
  },
  {
   "cell_type": "markdown",
   "metadata": {},
   "source": [
    "- there are 225 haplotypes in this region"
   ]
  },
  {
   "cell_type": "code",
   "execution_count": 28,
   "metadata": {
    "collapsed": false
   },
   "outputs": [
    {
     "name": "stdout",
     "output_type": "stream",
     "text": [
      "0 132\n",
      "20470 12\n"
     ]
    }
   ],
   "source": [
    "# we can get frequency count of a given haplotype in the population\n",
    "for hap in [0, 20470]:\n",
    "    print hap, haps_cnt[hap]"
   ]
  },
  {
   "cell_type": "code",
   "execution_count": 29,
   "metadata": {
    "collapsed": false
   },
   "outputs": [
    {
     "data": {
      "image/png": "[encoded data removed]",
      "text/plain": [
       "<matplotlib.figure.Figure at 0x557afd0>"
      ]
     },
     "metadata": {},
     "output_type": "display_data"
    }
   ],
   "source": [
    "make_hist(1.0 * np.array(haps_cnt.values()),\n",
    "          title='Frequency of haplotype frequencies',\n",
    "          xlabel = 'Haplotype frequencies in 1KG population',\n",
    "          ylabel = 'Frequency of Haplotype frequencies in 1KG population',\n",
    "          filename = None)"
   ]
  },
  {
   "cell_type": "code",
   "execution_count": 30,
   "metadata": {
    "collapsed": false
   },
   "outputs": [
    {
     "data": {
      "image/png": "[encoded data removed]",
      "text/plain": [
       "<matplotlib.figure.Figure at 0xaf8dcd0>"
      ]
     },
     "metadata": {},
     "output_type": "display_data"
    }
   ],
   "source": [
    "make_hist(1.0 * np.array(haps_cnt.values()) / len(haps),\n",
    "          title='Frequency of prior distribution of haplotype',\n",
    "          xlabel = 'prior distribution of haplotype in 1KG population',\n",
    "          ylabel = 'Frequency of prior distribution of haplotype in 1KG population',\n",
    "          filename = None)"
   ]
  },
  {
   "cell_type": "markdown",
   "metadata": {},
   "source": [
    "## snps to haplotype"
   ]
  },
  {
   "cell_type": "markdown",
   "metadata": {},
   "source": [
    "### our observation is represented as sequence of snps"
   ]
  },
  {
   "cell_type": "code",
   "execution_count": 31,
   "metadata": {
    "collapsed": false
   },
   "outputs": [
    {
     "data": {
      "text/plain": [
       "Index([u'name', u'#mismatches', u'#mismatches_with_hits_to_dbSNP',\n",
       "       u'#SNPs_with_var_id', u'#SNPs_with_var_id(validated)', u'length',\n",
       "       u'snps([<pos>,<ref>,<seq>,<varid>,<validated>,<baseCallQ>;]+)', u'snps',\n",
       "       u'chr', u'snp_pos'],\n",
       "      dtype='object')"
      ]
     },
     "execution_count": 31,
     "metadata": {},
     "output_type": "execute_result"
    }
   ],
   "source": [
    "reads_chr20.columns"
   ]
  },
  {
   "cell_type": "markdown",
   "metadata": {},
   "source": [
    "### take a sample read"
   ]
  },
  {
   "cell_type": "code",
   "execution_count": 32,
   "metadata": {
    "collapsed": false
   },
   "outputs": [
    {
     "data": {
      "text/plain": [
       "array([['chr20', '714008', 'a', 'G', 'rs2317021', 'True', '18'],\n",
       "       ['chr20', '717649', 'c', 'T', 'rs6117373', 'True', '16'],\n",
       "       ['chr20', '720916', 'G', 'A', 'rs2144930', 'True', '14'],\n",
       "       ['chr20', '727476', 'c', 'T', 'rs60461885', 'True', '16'],\n",
       "       ['chr20', '728499', 'a', 'C', 'rs6054508', 'True', '16'],\n",
       "       ['chr20', '730893', 'c', 'T', 'rs57596504', 'True', '16'],\n",
       "       ['chr20', '731005', 'a', 'G', 'rs13039346', 'True', '19'],\n",
       "       ['chr20', '732295', 'a', 'G', 'rs6140092', 'True', '19'],\n",
       "       ['chr20', '734617', 'a', 'G', 'rs56210940', 'True', '16'],\n",
       "       ['chr20', '736644', 'g', 'A', 'rs6140099', 'True', '16'],\n",
       "       ['chr20', '743018', 'G', 'T', 'rs6038642', 'True', '18'],\n",
       "       ['chr20', '743124', 'C', 'G', 'rs13039544', 'True', '14'],\n",
       "       ['chr20', '743827', 'g', 'A', 'rs910858', 'True', '16'],\n",
       "       ['chr20', '745086', 'A', 'G', 'rs375002684', 'False', '19'],\n",
       "       ['chr20', '745181', 'A', 'T', 'rs6077095', 'False', '18'],\n",
       "       ['chr20', '746098', 'G', 'A', 'rs3746808', 'True', '16']], \n",
       "      dtype='|S11')"
      ]
     },
     "execution_count": 32,
     "metadata": {},
     "output_type": "execute_result"
    }
   ],
   "source": [
    "snp334 = reads_chr20.ix[334, 'snps']\n",
    "snp334"
   ]
  },
  {
   "cell_type": "markdown",
   "metadata": {},
   "source": [
    "## corresponding populatoin reference is as follows:"
   ]
  },
  {
   "cell_type": "code",
   "execution_count": 33,
   "metadata": {
    "collapsed": false
   },
   "outputs": [
    {
     "data": {
      "text/html": [
       "<div>\n",
       "<table border=\"1\" class=\"dataframe\">\n",
       "  <thead>\n",
       "    <tr style=\"text-align: right;\">\n",
       "      <th></th>\n",
       "      <th>chr</th>\n",
       "      <th>id</th>\n",
       "      <th>morgan</th>\n",
       "      <th>bp</th>\n",
       "      <th>pri</th>\n",
       "      <th>sec</th>\n",
       "    </tr>\n",
       "  </thead>\n",
       "  <tbody>\n",
       "    <tr>\n",
       "      <th>20623</th>\n",
       "      <td>20</td>\n",
       "      <td>rs2317021</td>\n",
       "      <td>0</td>\n",
       "      <td>714008</td>\n",
       "      <td>G</td>\n",
       "      <td>A</td>\n",
       "    </tr>\n",
       "    <tr>\n",
       "      <th>20732</th>\n",
       "      <td>20</td>\n",
       "      <td>rs6117373</td>\n",
       "      <td>0</td>\n",
       "      <td>717649</td>\n",
       "      <td>T</td>\n",
       "      <td>C</td>\n",
       "    </tr>\n",
       "    <tr>\n",
       "      <th>20813</th>\n",
       "      <td>20</td>\n",
       "      <td>rs2144930</td>\n",
       "      <td>0</td>\n",
       "      <td>720916</td>\n",
       "      <td>A</td>\n",
       "      <td>G</td>\n",
       "    </tr>\n",
       "    <tr>\n",
       "      <th>21017</th>\n",
       "      <td>20</td>\n",
       "      <td>rs60461885</td>\n",
       "      <td>0</td>\n",
       "      <td>727476</td>\n",
       "      <td>T</td>\n",
       "      <td>C</td>\n",
       "    </tr>\n",
       "    <tr>\n",
       "      <th>21054</th>\n",
       "      <td>20</td>\n",
       "      <td>rs6054508</td>\n",
       "      <td>0</td>\n",
       "      <td>728499</td>\n",
       "      <td>C</td>\n",
       "      <td>A</td>\n",
       "    </tr>\n",
       "    <tr>\n",
       "      <th>21139</th>\n",
       "      <td>20</td>\n",
       "      <td>rs57596504</td>\n",
       "      <td>0</td>\n",
       "      <td>730893</td>\n",
       "      <td>T</td>\n",
       "      <td>C</td>\n",
       "    </tr>\n",
       "    <tr>\n",
       "      <th>21143</th>\n",
       "      <td>20</td>\n",
       "      <td>rs13039346</td>\n",
       "      <td>0</td>\n",
       "      <td>731005</td>\n",
       "      <td>G</td>\n",
       "      <td>A</td>\n",
       "    </tr>\n",
       "    <tr>\n",
       "      <th>21187</th>\n",
       "      <td>20</td>\n",
       "      <td>rs6140092</td>\n",
       "      <td>0</td>\n",
       "      <td>732295</td>\n",
       "      <td>G</td>\n",
       "      <td>A</td>\n",
       "    </tr>\n",
       "    <tr>\n",
       "      <th>21253</th>\n",
       "      <td>20</td>\n",
       "      <td>rs56210940</td>\n",
       "      <td>0</td>\n",
       "      <td>734617</td>\n",
       "      <td>G</td>\n",
       "      <td>A</td>\n",
       "    </tr>\n",
       "    <tr>\n",
       "      <th>21331</th>\n",
       "      <td>20</td>\n",
       "      <td>rs6140099</td>\n",
       "      <td>0</td>\n",
       "      <td>736644</td>\n",
       "      <td>A</td>\n",
       "      <td>G</td>\n",
       "    </tr>\n",
       "    <tr>\n",
       "      <th>21537</th>\n",
       "      <td>20</td>\n",
       "      <td>rs6038642</td>\n",
       "      <td>0</td>\n",
       "      <td>743018</td>\n",
       "      <td>T</td>\n",
       "      <td>G</td>\n",
       "    </tr>\n",
       "    <tr>\n",
       "      <th>21540</th>\n",
       "      <td>20</td>\n",
       "      <td>rs13039544</td>\n",
       "      <td>0</td>\n",
       "      <td>743124</td>\n",
       "      <td>G</td>\n",
       "      <td>C</td>\n",
       "    </tr>\n",
       "    <tr>\n",
       "      <th>21562</th>\n",
       "      <td>20</td>\n",
       "      <td>rs910858</td>\n",
       "      <td>0</td>\n",
       "      <td>743827</td>\n",
       "      <td>A</td>\n",
       "      <td>G</td>\n",
       "    </tr>\n",
       "    <tr>\n",
       "      <th>21607</th>\n",
       "      <td>20</td>\n",
       "      <td>rs6077095</td>\n",
       "      <td>0</td>\n",
       "      <td>745181</td>\n",
       "      <td>T</td>\n",
       "      <td>A</td>\n",
       "    </tr>\n",
       "    <tr>\n",
       "      <th>21632</th>\n",
       "      <td>20</td>\n",
       "      <td>rs3746808</td>\n",
       "      <td>0</td>\n",
       "      <td>746098</td>\n",
       "      <td>A</td>\n",
       "      <td>G</td>\n",
       "    </tr>\n",
       "  </tbody>\n",
       "</table>\n",
       "</div>"
      ],
      "text/plain": [
       "       chr          id  morgan      bp pri sec\n",
       "20623   20   rs2317021       0  714008   G   A\n",
       "20732   20   rs6117373       0  717649   T   C\n",
       "20813   20   rs2144930       0  720916   A   G\n",
       "21017   20  rs60461885       0  727476   T   C\n",
       "21054   20   rs6054508       0  728499   C   A\n",
       "21139   20  rs57596504       0  730893   T   C\n",
       "21143   20  rs13039346       0  731005   G   A\n",
       "21187   20   rs6140092       0  732295   G   A\n",
       "21253   20  rs56210940       0  734617   G   A\n",
       "21331   20   rs6140099       0  736644   A   G\n",
       "21537   20   rs6038642       0  743018   T   G\n",
       "21540   20  rs13039544       0  743124   G   C\n",
       "21562   20    rs910858       0  743827   A   G\n",
       "21607   20   rs6077095       0  745181   T   A\n",
       "21632   20   rs3746808       0  746098   A   G"
      ]
     },
     "execution_count": 33,
     "metadata": {},
     "output_type": "execute_result"
    }
   ],
   "source": [
    "bim334 = bim[chromosome].ix[variant_idxs[0], :]\n",
    "bim334"
   ]
  },
  {
   "cell_type": "code",
   "execution_count": 34,
   "metadata": {
    "collapsed": false
   },
   "outputs": [
    {
     "data": {
      "text/plain": [
       "array([['chr20', '714008', 'a', 'G', 'rs2317021', 'True', '18'],\n",
       "       ['chr20', '717649', 'c', 'T', 'rs6117373', 'True', '16'],\n",
       "       ['chr20', '720916', 'G', 'A', 'rs2144930', 'True', '14'],\n",
       "       ['chr20', '727476', 'c', 'T', 'rs60461885', 'True', '16'],\n",
       "       ['chr20', '728499', 'a', 'C', 'rs6054508', 'True', '16'],\n",
       "       ['chr20', '730893', 'c', 'T', 'rs57596504', 'True', '16'],\n",
       "       ['chr20', '731005', 'a', 'G', 'rs13039346', 'True', '19'],\n",
       "       ['chr20', '732295', 'a', 'G', 'rs6140092', 'True', '19'],\n",
       "       ['chr20', '734617', 'a', 'G', 'rs56210940', 'True', '16'],\n",
       "       ['chr20', '736644', 'g', 'A', 'rs6140099', 'True', '16'],\n",
       "       ['chr20', '743018', 'G', 'T', 'rs6038642', 'True', '18'],\n",
       "       ['chr20', '743124', 'C', 'G', 'rs13039544', 'True', '14'],\n",
       "       ['chr20', '743827', 'g', 'A', 'rs910858', 'True', '16'],\n",
       "       ['chr20', '745181', 'A', 'T', 'rs6077095', 'False', '18'],\n",
       "       ['chr20', '746098', 'G', 'A', 'rs3746808', 'True', '16']], \n",
       "      dtype='|S11')"
      ]
     },
     "execution_count": 34,
     "metadata": {},
     "output_type": "execute_result"
    }
   ],
   "source": [
    "snp334_filtered = np.array([snp for snp in snp334 if int(snp[1]) in set(bim334['bp'])])\n",
    "snp334_filtered"
   ]
  },
  {
   "cell_type": "code",
   "execution_count": 35,
   "metadata": {
    "collapsed": false
   },
   "outputs": [
    {
     "data": {
      "text/plain": [
       "['G', 'T', 'A', 'T', 'C', 'T', 'G', 'G', 'G', 'A', 'T', 'G', 'A', 'T', 'A']"
      ]
     },
     "execution_count": 35,
     "metadata": {},
     "output_type": "execute_result"
    }
   ],
   "source": [
    "snp334_filtered[:, 3].tolist()"
   ]
  },
  {
   "cell_type": "code",
   "execution_count": 36,
   "metadata": {
    "collapsed": false
   },
   "outputs": [
    {
     "data": {
      "text/plain": [
       "['G', 'T', 'A', 'T', 'C', 'T', 'G', 'G', 'G', 'A', 'T', 'G', 'A', 'T', 'A']"
      ]
     },
     "execution_count": 36,
     "metadata": {},
     "output_type": "execute_result"
    }
   ],
   "source": [
    "bim334['pri'].tolist()"
   ]
  },
  {
   "cell_type": "code",
   "execution_count": 37,
   "metadata": {
    "collapsed": false
   },
   "outputs": [],
   "source": [
    "def construct_haplotype_from_snp_sub(snps, pri, sec):\n",
    "\n",
    "    print 'obs: ', snps\n",
    "    print 'pri: ', pri\n",
    "    print 'sec: ', sec\n",
    "    hap = np.array(['0' if snps[i] == pri[i]\n",
    "                    else '1' if snps[i] == sec[i]\n",
    "                    else '2'\n",
    "                    for i in range(len(snps))])\n",
    "    if '2' in hap:\n",
    "        raise Exception('oops')\n",
    "    if(len(hap) <= 63):\n",
    "        return(int(''.join(hap), 2))\n",
    "    else:\n",
    "        return(long(''.join(hap), 2))"
   ]
  },
  {
   "cell_type": "code",
   "execution_count": 38,
   "metadata": {
    "collapsed": false
   },
   "outputs": [
    {
     "name": "stdout",
     "output_type": "stream",
     "text": [
      "obs:  ['G', 'T', 'A', 'T', 'C', 'T', 'G', 'G', 'G', 'A', 'T', 'G', 'A', 'T', 'A']\n",
      "pri:  ['G', 'T', 'A', 'T', 'C', 'T', 'G', 'G', 'G', 'A', 'T', 'G', 'A', 'T', 'A']\n",
      "sec:  ['A', 'C', 'G', 'C', 'A', 'C', 'A', 'A', 'A', 'G', 'G', 'C', 'G', 'A', 'G']\n",
      "0\n"
     ]
    }
   ],
   "source": [
    "hap_334 = \\\n",
    "construct_haplotype_from_snp_sub(snp334_filtered[:, 3].tolist(),\n",
    "                                 bim334['pri'].tolist(),\n",
    "                                 bim334['sec'].tolist())\n",
    "print hap_334"
   ]
  },
  {
   "cell_type": "code",
   "execution_count": 39,
   "metadata": {
    "collapsed": false
   },
   "outputs": [
    {
     "data": {
      "text/plain": [
       "132"
      ]
     },
     "execution_count": 39,
     "metadata": {},
     "output_type": "execute_result"
    }
   ],
   "source": [
    "haps_cnt[0]"
   ]
  },
  {
   "cell_type": "code",
   "execution_count": 40,
   "metadata": {
    "collapsed": false
   },
   "outputs": [
    {
     "data": {
      "text/plain": [
       "(5008,)"
      ]
     },
     "execution_count": 40,
     "metadata": {},
     "output_type": "execute_result"
    }
   ],
   "source": [
    "haps.shape"
   ]
  },
  {
   "cell_type": "markdown",
   "metadata": {},
   "source": [
    "## counting mismatches distance between haplotypes\n",
    "- basically it is hamming distance because we have binary representation of haplotype"
   ]
  },
  {
   "cell_type": "code",
   "execution_count": 41,
   "metadata": {
    "collapsed": true
   },
   "outputs": [],
   "source": [
    "def hamming_dist(bin1, bin2):\n",
    "    return(bin(bin1 | bin2).count('1') - \n",
    "           bin(bin1 & bin2).count('1'))"
   ]
  },
  {
   "cell_type": "code",
   "execution_count": 42,
   "metadata": {
    "collapsed": false
   },
   "outputs": [
    {
     "name": "stdout",
     "output_type": "stream",
     "text": [
      "0b100111111110110\n",
      "0b100010000100010\n"
     ]
    }
   ],
   "source": [
    "print bin(haps[0])\n",
    "print bin(haps[1])"
   ]
  },
  {
   "cell_type": "code",
   "execution_count": 43,
   "metadata": {
    "collapsed": false
   },
   "outputs": [
    {
     "data": {
      "text/plain": [
       "7"
      ]
     },
     "execution_count": 43,
     "metadata": {},
     "output_type": "execute_result"
    }
   ],
   "source": [
    "hamming_dist(haps[0], haps[1])"
   ]
  },
  {
   "cell_type": "code",
   "execution_count": 44,
   "metadata": {
    "collapsed": false
   },
   "outputs": [
    {
     "data": {
      "text/plain": [
       "0"
      ]
     },
     "execution_count": 44,
     "metadata": {},
     "output_type": "execute_result"
    }
   ],
   "source": [
    "hamming_dist(0, 0)"
   ]
  },
  {
   "cell_type": "markdown",
   "metadata": {},
   "source": [
    "## prior distribution"
   ]
  },
  {
   "cell_type": "code",
   "execution_count": 45,
   "metadata": {
    "collapsed": true
   },
   "outputs": [],
   "source": [
    "def compute_prior(haps):\n",
    "    hap_uniq = [h for h in set(haps)]\n",
    "    log_priors = (np.log(1.0 * \\\n",
    "                         np.array([haps_cnt[hap] \n",
    "                                   for hap in hap_uniq])) - \\\n",
    "                  np.log(len(haps)))\n",
    "    return(hap_uniq, log_priors)"
   ]
  },
  {
   "cell_type": "code",
   "execution_count": 46,
   "metadata": {
    "collapsed": true
   },
   "outputs": [],
   "source": [
    "(hap_uniq, log_priors) = compute_prior(haps)"
   ]
  },
  {
   "cell_type": "code",
   "execution_count": 47,
   "metadata": {
    "collapsed": false
   },
   "outputs": [
    {
     "data": {
      "text/plain": [
       "1.0000000000000009"
      ]
     },
     "execution_count": 47,
     "metadata": {},
     "output_type": "execute_result"
    }
   ],
   "source": [
    "np.sum(np.exp(log_priors))"
   ]
  },
  {
   "cell_type": "markdown",
   "metadata": {},
   "source": [
    "## posterior"
   ]
  },
  {
   "cell_type": "markdown",
   "metadata": {},
   "source": [
    "#### probability of observation (event) given haplotype (p_e_g_h)"
   ]
  },
  {
   "cell_type": "code",
   "execution_count": 48,
   "metadata": {
    "collapsed": true
   },
   "outputs": [],
   "source": [
    "def prob_fragment_given_hap(obs, hap, n, p):\n",
    "    x = hamming_dist(obs, hap)\n",
    "    return(x * np.log(p) + (n - x) * np.log(1 - p))"
   ]
  },
  {
   "cell_type": "code",
   "execution_count": 49,
   "metadata": {
    "collapsed": false
   },
   "outputs": [],
   "source": [
    "log_p_e_g_h = np.array(\n",
    "    [prob_fragment_given_hap(obs = hap_334, \n",
    "                             hap = hap_uniq[i], \n",
    "                             n = len(bim334),\n",
    "                             p = 0.9)\n",
    "     for i in range(len(hap_uniq))])"
   ]
  },
  {
   "cell_type": "code",
   "execution_count": 50,
   "metadata": {
    "collapsed": false
   },
   "outputs": [
    {
     "name": "stdout",
     "output_type": "stream",
     "text": [
      "225\n"
     ]
    }
   ],
   "source": [
    "print(len(log_p_e_g_h))"
   ]
  },
  {
   "cell_type": "markdown",
   "metadata": {},
   "source": [
    "#### probability of haplotype given event (haplotype) (p_h_g_e)"
   ]
  },
  {
   "cell_type": "code",
   "execution_count": 51,
   "metadata": {
    "collapsed": true
   },
   "outputs": [],
   "source": [
    "log_p_h_g_e = log_p_e_g_h + log_priors\n",
    "log_p_h_g_e = log_p_h_g_e - np.log(sum(np.exp(log_p_h_g_e)))"
   ]
  },
  {
   "cell_type": "code",
   "execution_count": 52,
   "metadata": {
    "collapsed": false
   },
   "outputs": [
    {
     "data": {
      "text/plain": [
       "1.0000000000000002"
      ]
     },
     "execution_count": 52,
     "metadata": {},
     "output_type": "execute_result"
    }
   ],
   "source": [
    "sum(np.exp(log_p_h_g_e))"
   ]
  },
  {
   "cell_type": "code",
   "execution_count": 56,
   "metadata": {
    "collapsed": false
   },
   "outputs": [
    {
     "data": {
      "image/png": "[encoded data removed]",
      "text/plain": [
       "<matplotlib.figure.Figure at 0xaf71d50>"
      ]
     },
     "metadata": {},
     "output_type": "display_data"
    }
   ],
   "source": [
    "make_hist(log_priors - np.log(10),\n",
    "          title='Distribution of log-prior distribution',\n",
    "          xlabel = 'log-prior of haplotype in 1KG population',\n",
    "          ylabel = 'Frequency of log-prior of haplotype in 1KG population',\n",
    "          filename = '20170210_Bayesian_online_inference_of_haplotype.prior.png')"
   ]
  },
  {
   "cell_type": "code",
   "execution_count": 57,
   "metadata": {
    "collapsed": false
   },
   "outputs": [
    {
     "data": {
      "image/png": "[encoded data removed]",
      "text/plain": [
       "<matplotlib.figure.Figure at 0xaf70b50>"
      ]
     },
     "metadata": {},
     "output_type": "display_data"
    }
   ],
   "source": [
    "make_hist(log_p_h_g_e - np.log(10),\n",
    "          title='Distribution of log-posterior distribution',\n",
    "          xlabel = 'log-posterior of haplotype in 1KG population',\n",
    "          ylabel = 'Frequency of log-posterior of haplotype in 1KG population',\n",
    "          filename = '20170210_Bayesian_online_inference_of_haplotype.posterior334.png')"
   ]
  },
  {
   "cell_type": "code",
   "execution_count": null,
   "metadata": {
    "collapsed": true
   },
   "outputs": [],
   "source": []
  }
 ],
 "metadata": {
  "anaconda-cloud": {},
  "kernelspec": {
   "display_name": "Python [conda env:pgenlib]",
   "language": "python",
   "name": "conda-env-pgenlib-py"
  },
  "language_info": {
   "codemirror_mode": {
    "name": "ipython",
    "version": 2
   },
   "file_extension": ".py",
   "mimetype": "text/x-python",
   "name": "python",
   "nbconvert_exporter": "python",
   "pygments_lexer": "ipython2",
   "version": "2.7.5"
  }
 },
 "nbformat": 4,
 "nbformat_minor": 1
}
