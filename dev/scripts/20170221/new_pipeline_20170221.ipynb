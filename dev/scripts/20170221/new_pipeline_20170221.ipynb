{
 "cells": [
  {
   "cell_type": "code",
   "execution_count": 1,
   "metadata": {
    "collapsed": true
   },
   "outputs": [],
   "source": [
    "import numpy as np\n",
    "import scipy as sc\n",
    "import pandas as pd\n",
    "import itertools as it\n",
    "import subprocess as sp\n",
    "import logging\n",
    "import sys\n",
    "import re\n",
    "import collections\n",
    "import json\n",
    "import pysam\n",
    "import enum\n",
    "import bisect\n",
    "import pgenlib as pg"
   ]
  },
  {
   "cell_type": "markdown",
   "metadata": {},
   "source": [
    "## options are given as a json object"
   ]
  },
  {
   "cell_type": "code",
   "execution_count": 2,
   "metadata": {
    "collapsed": false
   },
   "outputs": [],
   "source": [
    "params = {\n",
    "    'bam_file_name':\n",
    "      '/share/PI/mrivas/data/nanopore-wgs-consortium/poretools_fastq.12894489.geq12500.bam',\n",
    "    'fasta_ext':\n",
    "      'fa',\n",
    "    'ref_genome_template':\n",
    "      '/share/PI/mrivas/data/hg19/chr${CHR}.${EXT}',\n",
    "    'ref_population_template':\n",
    "      '/share/PI/mrivas/data/1000genomes/ALL.chr${CHR}.phase3_shapeit2_mvncall_integrated_v5a.20130502.genotypes-pgen.${EXT}'\n",
    "}"
   ]
  },
  {
   "cell_type": "code",
   "execution_count": 3,
   "metadata": {
    "collapsed": false
   },
   "outputs": [
    {
     "data": {
      "text/plain": [
       "'{\"bam_file_name\": \"/share/PI/mrivas/data/nanopore-wgs-consortium/poretools_fastq.12894489.geq12500.bam\", \"ref_genome_template\": \"/share/PI/mrivas/data/hg19/chr${CHR}.${EXT}\", \"ref_population_template\": \"/share/PI/mrivas/data/1000genomes/ALL.chr${CHR}.phase3_shapeit2_mvncall_integrated_v5a.20130502.genotypes-pgen.${EXT}\", \"fasta_ext\": \"fa\"}'"
      ]
     },
     "execution_count": 3,
     "metadata": {},
     "output_type": "execute_result"
    }
   ],
   "source": [
    "json.dumps(params)"
   ]
  },
  {
   "cell_type": "code",
   "execution_count": 4,
   "metadata": {
    "collapsed": true
   },
   "outputs": [],
   "source": [
    "chromosome = 20"
   ]
  },
  {
   "cell_type": "markdown",
   "metadata": {},
   "source": [
    "## need to look up file name for reference data"
   ]
  },
  {
   "cell_type": "code",
   "execution_count": 5,
   "metadata": {
    "collapsed": false
   },
   "outputs": [],
   "source": [
    "def get_ref_file_name(filename_template, chromosome, extension):\n",
    "    '''Convert filename template to actual file name\n",
    "    \n",
    "    filename_template: full path to reference file with meta variables${CHR} ${EXT}\n",
    "      ${CHR} will be replaced with chromosome\n",
    "      ${EXT} will be replaced with extension (fa, pgen)\n",
    "    chromosome:        chromosome\n",
    "    extension:         extension\n",
    "    '''    \n",
    "    return(re.sub(r'\\${CHR}(.*)\\${EXT}', r'{}\\1{}'.format(str(chromosome),\n",
    "                                                          str(extension)),\n",
    "                  filename_template))\n",
    "\n",
    "def get_fasta_file_name(param_obj, chromosome):\n",
    "    return(get_ref_file_name(param_obj['ref_genome_template'], \n",
    "                             chromosome, \n",
    "                             param_obj['fasta_ext']))\n",
    "\n",
    "def get_pgen_file_name(param_obj, chromosome):\n",
    "    return(get_ref_file_name(param_obj['ref_population_template'], \n",
    "                             chromosome, \n",
    "                             'pgen'))\n",
    "\n",
    "def get_bim_file_name(param_obj, chromosome):\n",
    "    return(get_ref_file_name(param_obj['ref_population_template'], \n",
    "                             chromosome, \n",
    "                             'bim'))\n"
   ]
  },
  {
   "cell_type": "code",
   "execution_count": 6,
   "metadata": {
    "collapsed": false
   },
   "outputs": [
    {
     "name": "stdout",
     "output_type": "stream",
     "text": [
      "/share/PI/mrivas/data/hg19/chr20.fa\n",
      "/share/PI/mrivas/data/1000genomes/ALL.chr20.phase3_shapeit2_mvncall_integrated_v5a.20130502.genotypes-pgen.pgen\n",
      "/share/PI/mrivas/data/1000genomes/ALL.chr20.phase3_shapeit2_mvncall_integrated_v5a.20130502.genotypes-pgen.bim\n"
     ]
    }
   ],
   "source": [
    "print get_fasta_file_name(params, 20)\n",
    "print get_pgen_file_name(params, 20)\n",
    "print get_bim_file_name(params, 20)"
   ]
  },
  {
   "cell_type": "code",
   "execution_count": null,
   "metadata": {
    "collapsed": true
   },
   "outputs": [],
   "source": []
  },
  {
   "cell_type": "code",
   "execution_count": 7,
   "metadata": {
    "collapsed": false
   },
   "outputs": [],
   "source": [
    "@enum.unique\n",
    "class Nucleotide(enum.Enum):\n",
    "    N = -1\n",
    "    A = 0\n",
    "    C = 1\n",
    "    G = 2\n",
    "    T = 3\n",
    "    \n",
    "Mismatch = collections.namedtuple('Mismatch', 'reference_position reference read quality')    "
   ]
  },
  {
   "cell_type": "code",
   "execution_count": 8,
   "metadata": {
    "collapsed": false
   },
   "outputs": [],
   "source": [
    "bamfile = pysam.AlignmentFile(filename = params['bam_file_name'], \n",
    "                              mode = 'rb')\n",
    "reference = pysam.FastaFile(get_fasta_file_name(params, 20))"
   ]
  },
  {
   "cell_type": "code",
   "execution_count": 9,
   "metadata": {
    "collapsed": true
   },
   "outputs": [],
   "source": [
    "class read:\n",
    "    '''class to manage mapped read    \n",
    "    '''\n",
    "    def __init__(self, aligned_segment, reference):\n",
    "        # This copy will be removed\n",
    "        self.aligned_segment = aligned_segment\n",
    "        \n",
    "        # find all mismatches\n",
    "        self.find_mismatches(aligned_segment, reference)\n",
    "        \n",
    "        # copy useful info\n",
    "        self.query_name      = aligned_segment.query_name     \n",
    "        self.reference_name  = aligned_segment.reference_name\n",
    "        self.reference_start = aligned_segment.reference_start\n",
    "        self.reference_end   = aligned_segment.reference_end\n",
    "        self.length          = aligned_segment.reference_length\n",
    "        self.mapping_quality = aligned_segment.mapping_quality\n",
    "\n",
    "\n",
    "    def get_mismatches(self, quality_threshod = 14):\n",
    "        return([i for i in self.mismatches \n",
    "                if i.quality >= quality_threshod and\n",
    "                   i.reference is not Nucleotide['N']])\n",
    "\n",
    "    def n_mismatch(self, quality_threshod = 14):\n",
    "        return(len(self.get_mismatches(quality_threshod)))\n",
    "    \n",
    "    def n_match(self, quality_threshod = 14):\n",
    "        return(self.length - self.n_mismatch(quality_threshod))\n",
    "    \n",
    "        \n",
    "    def find_mismatches(self, aligned_segment, reference):\n",
    "        '''find all mismatches\n",
    "        [args]\n",
    "        pysam.AlignedSegment aligned_segment: mapped fragment\n",
    "        pysam.FastxFile      reference:       reference sequence\n",
    "        '''\n",
    "        aligned_pairs = np.array(aligned_segment.get_aligned_pairs(matches_only=True, with_seq=True))\n",
    "        \n",
    "        # fetch corresponding reference sequence\n",
    "        reference_str = reference.fetch(reference = aligned_segment.reference_name,\n",
    "                                        start     = aligned_segment.reference_start, \n",
    "                                        end       = aligned_segment.reference_end).upper()\n",
    "        \n",
    "        # obtain nucleotide letters on both read and reference\n",
    "        read_letters = np.array([aligned_segment.query_sequence[int(read_position)].upper()\n",
    "                                 for read_position in aligned_pairs[:, 0]])\n",
    "        ref_letters  = np.array([reference_str[int(ref_position) - \n",
    "                                               aligned_segment.reference_start] \n",
    "                                 for ref_position in aligned_pairs[:, 1]])\n",
    "\n",
    "        # enumerate all the mismatches by comparing nucleotide letters\n",
    "        self.mismatches = [Mismatch(reference_position = \\\n",
    "                                      int(aligned_pairs[mismatch_pos_on_pairs][1]),\n",
    "                                    reference = \\\n",
    "                                      Nucleotide[ref_letters[mismatch_pos_on_pairs]],\n",
    "                                    read      = \\\n",
    "                                      Nucleotide[read_letters[mismatch_pos_on_pairs]],\n",
    "                                    quality   = \\\n",
    "                                      aligned_segment.query_qualities[int(aligned_pairs[mismatch_pos_on_pairs][0])])\n",
    "                           for mismatch_pos_on_pairs \n",
    "                           in np.where(read_letters != ref_letters)[0]]\n",
    "\n",
    "    def __str__(self):\n",
    "        return('\\t'.join(['{}:{}-{}'.format(self.reference_name, \n",
    "                                            self.reference_start,\n",
    "                                            self.reference_end),\n",
    "                          str(self.n_match()),\n",
    "                          str(self.n_mismatch()),\n",
    "                          str(self.mapping_quality),\n",
    "                          self.query_name]))"
   ]
  },
  {
   "cell_type": "code",
   "execution_count": null,
   "metadata": {
    "collapsed": true
   },
   "outputs": [],
   "source": []
  },
  {
   "cell_type": "code",
   "execution_count": 10,
   "metadata": {
    "collapsed": false
   },
   "outputs": [],
   "source": [
    "#aligned_segment = bamfile.next()\n",
    "aligned_segments = [bamfile.next() for i in range(10)]"
   ]
  },
  {
   "cell_type": "code",
   "execution_count": 11,
   "metadata": {
    "collapsed": true
   },
   "outputs": [],
   "source": [
    "r = read(aligned_segments[0], reference)"
   ]
  },
  {
   "cell_type": "code",
   "execution_count": 12,
   "metadata": {
    "collapsed": false
   },
   "outputs": [
    {
     "name": "stdout",
     "output_type": "stream",
     "text": [
      "chr20:59980-65177\t5190\t7\t60\t33ecb953-edd6-445b-87da-85c4551d8c8c_Basecall_Alignment_template\n"
     ]
    }
   ],
   "source": [
    "print(r)"
   ]
  },
  {
   "cell_type": "code",
   "execution_count": 13,
   "metadata": {
    "collapsed": false
   },
   "outputs": [
    {
     "data": {
      "text/plain": [
       "[Mismatch(reference_position=60992, reference=<Nucleotide.G: 2>, read=<Nucleotide.T: 3>, quality=14),\n",
       " Mismatch(reference_position=61171, reference=<Nucleotide.A: 0>, read=<Nucleotide.T: 3>, quality=14),\n",
       " Mismatch(reference_position=61220, reference=<Nucleotide.G: 2>, read=<Nucleotide.A: 0>, quality=17),\n",
       " Mismatch(reference_position=63344, reference=<Nucleotide.T: 3>, read=<Nucleotide.A: 0>, quality=15),\n",
       " Mismatch(reference_position=63377, reference=<Nucleotide.C: 1>, read=<Nucleotide.A: 0>, quality=16),\n",
       " Mismatch(reference_position=63378, reference=<Nucleotide.C: 1>, read=<Nucleotide.A: 0>, quality=16),\n",
       " Mismatch(reference_position=63798, reference=<Nucleotide.C: 1>, read=<Nucleotide.T: 3>, quality=15)]"
      ]
     },
     "execution_count": 13,
     "metadata": {},
     "output_type": "execute_result"
    }
   ],
   "source": [
    "r.get_mismatches()"
   ]
  },
  {
   "cell_type": "markdown",
   "metadata": {
    "collapsed": true
   },
   "source": [
    "## bim file"
   ]
  },
  {
   "cell_type": "code",
   "execution_count": 14,
   "metadata": {
    "collapsed": false
   },
   "outputs": [],
   "source": [
    "class bim_file():\n",
    "    def __init__(self, params):\n",
    "        self.params  = params\n",
    "        self.raw_tables  = {}\n",
    "        self.id = {}\n",
    "        self.morgan = {}\n",
    "        self.bp = {}\n",
    "        self.pri = {}\n",
    "        self.sec = {}\n",
    "        \n",
    "    def load_raw_table(self, chromosome):\n",
    "        self.raw_tables[str(chromosome)] = \\\n",
    "            pd.read_csv(get_bim_file_name(chromosome=chromosome,\n",
    "                                          param_obj = self.params),\n",
    "                        sep = '\\t', \n",
    "                        names = ['chr', 'id', 'morgan', 'bp', 'pri', 'sec'])            \n",
    "        self.id[    str(chromosome)] = np.array(self.raw_tables[str(chromosome)].ix[:, 1])            \n",
    "        self.morgan[str(chromosome)] = np.array(self.raw_tables[str(chromosome)].ix[:, 2])            \n",
    "        self.bp[    str(chromosome)] = np.array([int(x) for x in self.raw_tables[str(chromosome)].ix[:, 3]])\n",
    "        self.pri[   str(chromosome)] = np.array(self.raw_tables[str(chromosome)].ix[:, 4])\n",
    "        self.sec[   str(chromosome)] = np.array(self.raw_tables[str(chromosome)].ix[:, 5])            \n",
    "        \n",
    "    def is_loaded(self, chromosome):\n",
    "        return(str(chromosome) in self.raw_tables)\n",
    "        \n",
    "    def get_raw_table(self, chromosome):\n",
    "        if(not self.is_loaded(chromosome)):\n",
    "            self.load_raw_table(chromosome)\n",
    "        return(self.raw_tables[str(chromosome)])  \n",
    "    \n",
    "    def get_id(self, chromosome):\n",
    "        if(not self.is_loaded(chromosome)):\n",
    "            self.load_raw_table(chromosome)\n",
    "        return(self.id[str(chromosome)])  \n",
    "\n",
    "    def get_morgan(self, chromosome):\n",
    "        if(not self.is_loaded(chromosome)):\n",
    "            self.load_raw_table(chromosome)\n",
    "        return(self.morgan[str(chromosome)])  \n",
    "    \n",
    "    def get_bp(self, chromosome):\n",
    "        if(not self.is_loaded(chromosome)):\n",
    "            self.load_raw_table(chromosome)\n",
    "        return(self.bp[str(chromosome)])  \n",
    "\n",
    "    def get_pri(self, chromosome):\n",
    "        if(not self.is_loaded(chromosome)):\n",
    "            self.load_raw_table(chromosome)\n",
    "        return(self.pri[str(chromosome)])  \n",
    "\n",
    "    def get_sec(self, chromosome):\n",
    "        if(not self.is_loaded(chromosome)):\n",
    "            self.load_raw_table(chromosome)\n",
    "        return(self.sec[str(chromosome)])  \n",
    "    \n",
    "    def find_index(self, chromosome, position):\n",
    "        bp = self.get_bp(chromosome)\n",
    "        return(min(len(bp) - 1,\n",
    "                   max(0,\n",
    "                       bisect.bisect_left(bp, position))))\n",
    "    \n",
    "    def find_index_interval(self, chromosome, pos_l, pos_r):\n",
    "        '''Find semi-open interval of indicies of SNPs that \n",
    "           overlaps with a mapped fragment spanning [pos_l, pos_r)\n",
    "        '''\n",
    "        index_l = self.find_index(chromosome, pos_l)\n",
    "        index_r = self.find_index(chromosome, pos_r)\n",
    "        return((index_l, index_r))"
   ]
  },
  {
   "cell_type": "code",
   "execution_count": 15,
   "metadata": {
    "collapsed": false
   },
   "outputs": [],
   "source": [
    "bim = bim_file(params)"
   ]
  },
  {
   "cell_type": "code",
   "execution_count": 16,
   "metadata": {
    "collapsed": false
   },
   "outputs": [
    {
     "data": {
      "text/plain": [
       "array(['rs527639301', 'rs538242240', 'rs149529999', ..., 'rs563604166',\n",
       "       'rs577023641', 'rs546194182'], dtype=object)"
      ]
     },
     "execution_count": 16,
     "metadata": {},
     "output_type": "execute_result"
    }
   ],
   "source": [
    "bim.get_id(20)"
   ]
  },
  {
   "cell_type": "code",
   "execution_count": 17,
   "metadata": {
    "collapsed": false
   },
   "outputs": [
    {
     "data": {
      "text/plain": [
       "array([   60343,    60419,    60479, ..., 62965290, 62965305, 62965354])"
      ]
     },
     "execution_count": 17,
     "metadata": {},
     "output_type": "execute_result"
    }
   ],
   "source": [
    "bim.get_bp(20)"
   ]
  },
  {
   "cell_type": "code",
   "execution_count": 18,
   "metadata": {
    "collapsed": false
   },
   "outputs": [
    {
     "name": "stdout",
     "output_type": "stream",
     "text": [
      "(0, 1)\n",
      "(0, 2)\n",
      "(1, 2)\n"
     ]
    }
   ],
   "source": [
    "print bim.find_index_interval(20, 60342, 60419)\n",
    "print bim.find_index_interval(20, 60343, 60420)\n",
    "print bim.find_index_interval(20, 60344, 60421)"
   ]
  },
  {
   "cell_type": "code",
   "execution_count": 19,
   "metadata": {
    "collapsed": false
   },
   "outputs": [
    {
     "data": {
      "text/plain": [
       "[1]"
      ]
     },
     "execution_count": 19,
     "metadata": {},
     "output_type": "execute_result"
    }
   ],
   "source": [
    "[x for x in range(1, 2)]"
   ]
  },
  {
   "cell_type": "code",
   "execution_count": null,
   "metadata": {
    "collapsed": true
   },
   "outputs": [],
   "source": []
  },
  {
   "cell_type": "markdown",
   "metadata": {},
   "source": [
    "## pgen file for population reference"
   ]
  },
  {
   "cell_type": "code",
   "execution_count": 28,
   "metadata": {
    "collapsed": true
   },
   "outputs": [],
   "source": [
    "class Haplotype:\n",
    "    def __init__(self, chromosome, index_l, index_r, hap_ary):\n",
    "        self.chromosome = chromosome\n",
    "        self.index_l = index_l\n",
    "        self.index_r = index_r\n",
    "        self.hap_ary = hap_ary\n",
    "        \n",
    "    def get_bitstr(self):\n",
    "        return(''.join([str(x) if x in [0, 1] else '?' \n",
    "                        for x in self.hap_ary]))\n",
    "    \n",
    "    def __hash__(self):\n",
    "        return(hash((self.chromosome,\n",
    "                     self.index_l,\n",
    "                     self.index_r,\n",
    "                     self.get_bitstr())))\n",
    "    \n",
    "    def __eq__(self, other):\n",
    "        return(self.__hash__() == other.__hash__())\n",
    "\n",
    "    def __ne__(self, other):        \n",
    "        return(not(self == other))"
   ]
  },
  {
   "cell_type": "code",
   "execution_count": 32,
   "metadata": {
    "collapsed": false
   },
   "outputs": [],
   "source": [
    "class population_reference():\n",
    "    def __init__(self, params):\n",
    "        self.params  = params\n",
    "        self.pgens   = {}\n",
    "        \n",
    "    def load_pgen(self, chromosome):\n",
    "        self.pgens[str(chromosome)] =\\\n",
    "            pg.PgenReader(get_pgen_file_name(chromosome=chromosome,\n",
    "                                             param_obj = self.params))   \n",
    "\n",
    "    def is_loaded(self, chromosome):\n",
    "        return(str(chromosome) in self.pgens)\n",
    "        \n",
    "    def get_pgen(self, chromosome):\n",
    "        if(not self.is_loaded(chromosome)):\n",
    "            self.load_pgen(chromosome)\n",
    "        return(self.pgens[str(chromosome)])\n",
    "    \n",
    "    def read_haplotype(self, chromosome, index_l, index_r):\n",
    "        pgen = self.get_pgen(chromosome)\n",
    "        sample_ct = pgen.get_raw_sample_ct()\n",
    "        alleles_list = np.zeros((index_r - index_l, 2 * sample_ct),\n",
    "                                dtype = np.int32)\n",
    "        pgen.read_alleles_range(index_l, index_r, alleles_list)\n",
    "        return([Haplotype(chromosome, index_l, index_r, alleles_list[:, i]) \n",
    "                for i in range(alleles_list.shape[1])])"
   ]
  },
  {
   "cell_type": "code",
   "execution_count": 33,
   "metadata": {
    "collapsed": true
   },
   "outputs": [],
   "source": [
    "pgen = population_reference(params)"
   ]
  },
  {
   "cell_type": "code",
   "execution_count": null,
   "metadata": {
    "collapsed": true
   },
   "outputs": [],
   "source": []
  },
  {
   "cell_type": "code",
   "execution_count": 34,
   "metadata": {
    "collapsed": false
   },
   "outputs": [
    {
     "data": {
      "text/plain": [
       "('chr20', 59980, 65177)"
      ]
     },
     "execution_count": 34,
     "metadata": {},
     "output_type": "execute_result"
    }
   ],
   "source": [
    "# the first read spans\n",
    "r.reference_name, r.reference_start, r.reference_end"
   ]
  },
  {
   "cell_type": "code",
   "execution_count": 35,
   "metadata": {
    "collapsed": false
   },
   "outputs": [
    {
     "data": {
      "text/plain": [
       "(0, 134)"
      ]
     },
     "execution_count": 35,
     "metadata": {},
     "output_type": "execute_result"
    }
   ],
   "source": [
    "# indices are \n",
    "bim.find_index_interval(r.reference_name[3:], r.reference_start, r.reference_end)"
   ]
  },
  {
   "cell_type": "code",
   "execution_count": 36,
   "metadata": {
    "collapsed": false
   },
   "outputs": [],
   "source": [
    "# haplotypes are\n",
    "haps = pgen.read_haplotype(r.reference_name[3:], 0, 134)"
   ]
  },
  {
   "cell_type": "code",
   "execution_count": 38,
   "metadata": {
    "collapsed": false
   },
   "outputs": [
    {
     "data": {
      "text/plain": [
       "170"
      ]
     },
     "execution_count": 38,
     "metadata": {},
     "output_type": "execute_result"
    }
   ],
   "source": [
    "len(set(haps))"
   ]
  },
  {
   "cell_type": "markdown",
   "metadata": {},
   "source": [
    "# TODO\n",
    "- manage haplotype block\n",
    "  - partition bim file\n",
    "- inference"
   ]
  },
  {
   "cell_type": "code",
   "execution_count": null,
   "metadata": {
    "collapsed": true
   },
   "outputs": [],
   "source": []
  }
 ],
 "metadata": {
  "anaconda-cloud": {},
  "kernelspec": {
   "display_name": "Python [conda env:pgenlib]",
   "language": "python",
   "name": "conda-env-pgenlib-py"
  },
  "language_info": {
   "codemirror_mode": {
    "name": "ipython",
    "version": 2
   },
   "file_extension": ".py",
   "mimetype": "text/x-python",
   "name": "python",
   "nbconvert_exporter": "python",
   "pygments_lexer": "ipython2",
   "version": "2.7.5"
  }
 },
 "nbformat": 4,
 "nbformat_minor": 1
}
