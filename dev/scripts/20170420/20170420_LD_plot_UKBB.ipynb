{
 "cells": [
  {
   "cell_type": "code",
   "execution_count": 1,
   "metadata": {
    "collapsed": true
   },
   "outputs": [],
   "source": [
    "%matplotlib inline"
   ]
  },
  {
   "cell_type": "code",
   "execution_count": 2,
   "metadata": {
    "collapsed": false
   },
   "outputs": [
    {
     "name": "stderr",
     "output_type": "stream",
     "text": [
      "/home/ytanigaw/.conda/envs/pgenlib/lib/python2.7/site-packages/matplotlib/__init__.py:1401: UserWarning:  This call to matplotlib.use() has no effect\n",
      "because the backend has already been chosen;\n",
      "matplotlib.use() must be called *before* pylab, matplotlib.pyplot,\n",
      "or matplotlib.backends is imported for the first time.\n",
      "\n",
      "  warnings.warn(_use_error_msg)\n"
     ]
    }
   ],
   "source": [
    "import numpy as np\n",
    "import scipy as sc\n",
    "import pandas as pd\n",
    "import itertools as it\n",
    "import collections\n",
    "import matplotlib\n",
    "matplotlib.use('agg')\n",
    "from matplotlib import pyplot as plt"
   ]
  },
  {
   "cell_type": "code",
   "execution_count": 71,
   "metadata": {
    "collapsed": true
   },
   "outputs": [],
   "source": [
    "def make_scatter(x, y, title = None, xlabel = None, ylabel = None, filename = None):\n",
    "    '''\n",
    "    This function generates scatter plot of a pair of vectors x and y, and save to file\n",
    "    Inputs:\n",
    "      x, y: data vectors\n",
    "      title:    title of the plot\n",
    "      xlabel:   label on x-axis\n",
    "      ylabel:   label on y-axis\n",
    "      filename: name of the image file (if given, save to file)\n",
    "    Side effect:\n",
    "      save an image file if filename is given\n",
    "    '''\n",
    "    \n",
    "    import matplotlib\n",
    "    matplotlib.use('agg')\n",
    "    from matplotlib import pyplot as plt\n",
    "    \n",
    "    fig = plt.figure(figsize=(8,6))\n",
    "    ax = fig.add_subplot(1, 1, 1)\n",
    "    ax.scatter(x, y)\n",
    "    \n",
    "    if(xlabel != None):\n",
    "        ax.set_xlabel(xlabel)\n",
    "    if(ylabel != None):\n",
    "        ax.set_ylabel(ylabel)\n",
    "    if(title != None):\n",
    "        ax.set_title(title)\n",
    "    if(filename != None):\n",
    "        fig.savefig(filename)"
   ]
  },
  {
   "cell_type": "code",
   "execution_count": 72,
   "metadata": {
    "collapsed": true
   },
   "outputs": [],
   "source": [
    "ld_file = '/share/PI/mrivas/ukbb/download/chr20impv1.ld'"
   ]
  },
  {
   "cell_type": "code",
   "execution_count": 73,
   "metadata": {
    "collapsed": false
   },
   "outputs": [
    {
     "name": "stdout",
     "output_type": "stream",
     "text": [
      " CHR_A         BP_A                               SNP_A  CHR_B         BP_B                               SNP_B           R2 \r\n",
      "    20        61070                         rs555594325     20        61429                                   .      0.24002 \r\n",
      "    20        61098                           rs6078030     20        61138                         rs552482647       0.4365 \r\n",
      "    20        61450                         rs551073389     20        61538                         rs536670517            1 \r\n",
      "    20        63733                          rs75670495     20        63808                          rs76004960            1 \r\n",
      "    20        65900                           rs6053810     20        66370                           rs6054257     0.896612 \r\n",
      "    20        71079                           rs6040382     20        71093                           rs6040395     0.646209 \r\n",
      "    20        72464                         rs537658124     20        72863                         rs544824061            1 \r\n",
      "    20        72917                         rs189979649     20        73032                         rs568380220      0.44443 \r\n",
      "    20        72917                         rs189979649     20        73035                         rs530404976      0.44443 \r\n"
     ]
    }
   ],
   "source": [
    "!head $ld_file"
   ]
  },
  {
   "cell_type": "code",
   "execution_count": 77,
   "metadata": {
    "collapsed": false
   },
   "outputs": [],
   "source": [
    "#ld_df = pd.read_csv(ld_file, delimiter='\\s+', nrows=10)\n",
    "ld_df = pd.read_csv(ld_file, delimiter='\\s+')"
   ]
  },
  {
   "cell_type": "code",
   "execution_count": 78,
   "metadata": {
    "collapsed": false
   },
   "outputs": [],
   "source": [
    "ld_df['BP_diff'] = ld_df['BP_B'] - ld_df['BP_A']"
   ]
  },
  {
   "cell_type": "code",
   "execution_count": 79,
   "metadata": {
    "collapsed": false
   },
   "outputs": [
    {
     "data": {
      "text/html": [
       "<div>\n",
       "<table border=\"1\" class=\"dataframe\">\n",
       "  <thead>\n",
       "    <tr style=\"text-align: right;\">\n",
       "      <th></th>\n",
       "      <th>CHR_A</th>\n",
       "      <th>BP_A</th>\n",
       "      <th>SNP_A</th>\n",
       "      <th>CHR_B</th>\n",
       "      <th>BP_B</th>\n",
       "      <th>SNP_B</th>\n",
       "      <th>R2</th>\n",
       "      <th>BP_diff</th>\n",
       "    </tr>\n",
       "  </thead>\n",
       "  <tbody>\n",
       "    <tr>\n",
       "      <th>0</th>\n",
       "      <td>20</td>\n",
       "      <td>61070</td>\n",
       "      <td>rs555594325</td>\n",
       "      <td>20</td>\n",
       "      <td>61429</td>\n",
       "      <td>.</td>\n",
       "      <td>0.240020</td>\n",
       "      <td>359</td>\n",
       "    </tr>\n",
       "    <tr>\n",
       "      <th>1</th>\n",
       "      <td>20</td>\n",
       "      <td>61098</td>\n",
       "      <td>rs6078030</td>\n",
       "      <td>20</td>\n",
       "      <td>61138</td>\n",
       "      <td>rs552482647</td>\n",
       "      <td>0.436500</td>\n",
       "      <td>40</td>\n",
       "    </tr>\n",
       "    <tr>\n",
       "      <th>2</th>\n",
       "      <td>20</td>\n",
       "      <td>61450</td>\n",
       "      <td>rs551073389</td>\n",
       "      <td>20</td>\n",
       "      <td>61538</td>\n",
       "      <td>rs536670517</td>\n",
       "      <td>1.000000</td>\n",
       "      <td>88</td>\n",
       "    </tr>\n",
       "    <tr>\n",
       "      <th>3</th>\n",
       "      <td>20</td>\n",
       "      <td>63733</td>\n",
       "      <td>rs75670495</td>\n",
       "      <td>20</td>\n",
       "      <td>63808</td>\n",
       "      <td>rs76004960</td>\n",
       "      <td>1.000000</td>\n",
       "      <td>75</td>\n",
       "    </tr>\n",
       "    <tr>\n",
       "      <th>4</th>\n",
       "      <td>20</td>\n",
       "      <td>65900</td>\n",
       "      <td>rs6053810</td>\n",
       "      <td>20</td>\n",
       "      <td>66370</td>\n",
       "      <td>rs6054257</td>\n",
       "      <td>0.896612</td>\n",
       "      <td>470</td>\n",
       "    </tr>\n",
       "  </tbody>\n",
       "</table>\n",
       "</div>"
      ],
      "text/plain": [
       "   CHR_A   BP_A        SNP_A  CHR_B   BP_B        SNP_B        R2  BP_diff\n",
       "0     20  61070  rs555594325     20  61429            .  0.240020      359\n",
       "1     20  61098    rs6078030     20  61138  rs552482647  0.436500       40\n",
       "2     20  61450  rs551073389     20  61538  rs536670517  1.000000       88\n",
       "3     20  63733   rs75670495     20  63808   rs76004960  1.000000       75\n",
       "4     20  65900    rs6053810     20  66370    rs6054257  0.896612      470"
      ]
     },
     "execution_count": 79,
     "metadata": {},
     "output_type": "execute_result"
    }
   ],
   "source": [
    "ld_df.head()"
   ]
  },
  {
   "cell_type": "markdown",
   "metadata": {},
   "source": [
    "# data process\n",
    "1. take pair of SNPs with >= R^2\n",
    "1. For each left SNP, take the furtherest SNPs"
   ]
  },
  {
   "cell_type": "code",
   "execution_count": 80,
   "metadata": {
    "collapsed": false
   },
   "outputs": [],
   "source": [
    "LD_block_df = ld_df[ld_df['R2'] >= 0.2].groupby(by = ['BP_A']).agg({'BP_diff' : np.max, 'R2' : np.min})"
   ]
  },
  {
   "cell_type": "code",
   "execution_count": 81,
   "metadata": {
    "collapsed": false
   },
   "outputs": [
    {
     "data": {
      "text/html": [
       "<div>\n",
       "<table border=\"1\" class=\"dataframe\">\n",
       "  <thead>\n",
       "    <tr style=\"text-align: right;\">\n",
       "      <th></th>\n",
       "      <th>BP_diff</th>\n",
       "      <th>R2</th>\n",
       "    </tr>\n",
       "    <tr>\n",
       "      <th>BP_A</th>\n",
       "      <th></th>\n",
       "      <th></th>\n",
       "    </tr>\n",
       "  </thead>\n",
       "  <tbody>\n",
       "    <tr>\n",
       "      <th>61070</th>\n",
       "      <td>359</td>\n",
       "      <td>0.240020</td>\n",
       "    </tr>\n",
       "    <tr>\n",
       "      <th>61098</th>\n",
       "      <td>40</td>\n",
       "      <td>0.436500</td>\n",
       "    </tr>\n",
       "    <tr>\n",
       "      <th>61450</th>\n",
       "      <td>88</td>\n",
       "      <td>1.000000</td>\n",
       "    </tr>\n",
       "    <tr>\n",
       "      <th>63733</th>\n",
       "      <td>75</td>\n",
       "      <td>1.000000</td>\n",
       "    </tr>\n",
       "    <tr>\n",
       "      <th>65900</th>\n",
       "      <td>470</td>\n",
       "      <td>0.896612</td>\n",
       "    </tr>\n",
       "  </tbody>\n",
       "</table>\n",
       "</div>"
      ],
      "text/plain": [
       "       BP_diff        R2\n",
       "BP_A                    \n",
       "61070      359  0.240020\n",
       "61098       40  0.436500\n",
       "61450       88  1.000000\n",
       "63733       75  1.000000\n",
       "65900      470  0.896612"
      ]
     },
     "execution_count": 81,
     "metadata": {},
     "output_type": "execute_result"
    }
   ],
   "source": [
    "LD_block_df.head()"
   ]
  },
  {
   "cell_type": "code",
   "execution_count": 82,
   "metadata": {
    "collapsed": false
   },
   "outputs": [],
   "source": [
    "LD_block_ndary = LD_block_df.as_matrix()"
   ]
  },
  {
   "cell_type": "code",
   "execution_count": 83,
   "metadata": {
    "collapsed": false
   },
   "outputs": [
    {
     "data": {
      "text/plain": [
       "(137460, 2)"
      ]
     },
     "execution_count": 83,
     "metadata": {},
     "output_type": "execute_result"
    }
   ],
   "source": [
    "LD_block_ndary.shape"
   ]
  },
  {
   "cell_type": "code",
   "execution_count": 84,
   "metadata": {
    "collapsed": false
   },
   "outputs": [
    {
     "data": {
      "image/png": "[encoded data removed]",
      "text/plain": [
       "<matplotlib.figure.Figure at 0x4f9f290>"
      ]
     },
     "metadata": {},
     "output_type": "display_data"
    }
   ],
   "source": [
    "make_scatter(LD_block_ndary[:, 0], LD_block_ndary[:, 1],\n",
    "             title = 'LD structure on chr20 in UKBB population', \n",
    "             xlabel = 'Distance between SNPs [bp]', \n",
    "             ylabel = 'R^2',\n",
    "             filename = './20170420_LD_plot_UKBB.png')"
   ]
  },
  {
   "cell_type": "code",
   "execution_count": 89,
   "metadata": {
    "collapsed": true
   },
   "outputs": [],
   "source": [
    "max_dist = 10000"
   ]
  },
  {
   "cell_type": "code",
   "execution_count": 90,
   "metadata": {
    "collapsed": false
   },
   "outputs": [
    {
     "data": {
      "text/plain": [
       "(137459, 2)"
      ]
     },
     "execution_count": 90,
     "metadata": {},
     "output_type": "execute_result"
    }
   ],
   "source": [
    "LD_block_ndary[LD_block_ndary[:, 0] <= max_dist, :].shape"
   ]
  },
  {
   "cell_type": "code",
   "execution_count": 93,
   "metadata": {
    "collapsed": false
   },
   "outputs": [
    {
     "data": {
      "image/png": "[encoded data removed]",
      "text/plain": [
       "<matplotlib.figure.Figure at 0x69e17d0>"
      ]
     },
     "metadata": {},
     "output_type": "display_data"
    }
   ],
   "source": [
    "make_scatter(LD_block_ndary[LD_block_ndary[:, 0] <= max_dist, 0], \n",
    "             LD_block_ndary[LD_block_ndary[:, 0] <= max_dist, 1],\n",
    "             title = 'LD structure on chr20 in UKBB population (with max SNPs dist = {})'.format(max_dist), \n",
    "             xlabel = 'Distance between SNPs [bp]', \n",
    "             ylabel = 'R^2',\n",
    "             filename = './20170420_LD_plot_UKBB_{}.png'.format(max_dist))"
   ]
  },
  {
   "cell_type": "markdown",
   "metadata": {},
   "source": [
    "# box plots for each axis"
   ]
  },
  {
   "cell_type": "markdown",
   "metadata": {},
   "source": [
    "## y-axis"
   ]
  },
  {
   "cell_type": "code",
   "execution_count": 95,
   "metadata": {
    "collapsed": false
   },
   "outputs": [
    {
     "data": {
      "text/plain": [
       "{'boxes': [<matplotlib.lines.Line2D at 0x65079d0>],\n",
       " 'caps': [<matplotlib.lines.Line2D at 0x64f80d0>,\n",
       "  <matplotlib.lines.Line2D at 0x64f8350>],\n",
       " 'fliers': [<matplotlib.lines.Line2D at 0x64fa210>],\n",
       " 'means': [],\n",
       " 'medians': [<matplotlib.lines.Line2D at 0x64fab90>],\n",
       " 'whiskers': [<matplotlib.lines.Line2D at 0x65073d0>,\n",
       "  <matplotlib.lines.Line2D at 0x65072d0>]}"
      ]
     },
     "execution_count": 95,
     "metadata": {},
     "output_type": "execute_result"
    },
    {
     "data": {
      "image/png": "[encoded data removed]",
      "text/plain": [
       "<matplotlib.figure.Figure at 0x66219d0>"
      ]
     },
     "metadata": {},
     "output_type": "display_data"
    }
   ],
   "source": [
    "plt.boxplot(LD_block_ndary[:, 1])"
   ]
  },
  {
   "cell_type": "markdown",
   "metadata": {},
   "source": [
    "## x-axis"
   ]
  },
  {
   "cell_type": "code",
   "execution_count": 94,
   "metadata": {
    "collapsed": false
   },
   "outputs": [
    {
     "data": {
      "text/plain": [
       "{'boxes': [<matplotlib.lines.Line2D at 0x6645650>],\n",
       " 'caps': [<matplotlib.lines.Line2D at 0x6623990>,\n",
       "  <matplotlib.lines.Line2D at 0x66402d0>],\n",
       " 'fliers': [<matplotlib.lines.Line2D at 0x6640f90>],\n",
       " 'means': [],\n",
       " 'medians': [<matplotlib.lines.Line2D at 0x6640e50>],\n",
       " 'whiskers': [<matplotlib.lines.Line2D at 0x6645150>,\n",
       "  <matplotlib.lines.Line2D at 0x6623910>]}"
      ]
     },
     "execution_count": 94,
     "metadata": {},
     "output_type": "execute_result"
    },
    {
     "data": {
      "image/png": "[encoded data removed]",
      "text/plain": [
       "<matplotlib.figure.Figure at 0x4a70750>"
      ]
     },
     "metadata": {},
     "output_type": "display_data"
    }
   ],
   "source": [
    "plt.boxplot(LD_block_ndary[:, 0])"
   ]
  },
  {
   "cell_type": "code",
   "execution_count": 96,
   "metadata": {
    "collapsed": false
   },
   "outputs": [
    {
     "data": {
      "text/plain": [
       "{'boxes': [<matplotlib.lines.Line2D at 0x4d3bc90>],\n",
       " 'caps': [<matplotlib.lines.Line2D at 0x4a7cd90>,\n",
       "  <matplotlib.lines.Line2D at 0x4d37d90>],\n",
       " 'fliers': [<matplotlib.lines.Line2D at 0x4d2f310>],\n",
       " 'means': [],\n",
       " 'medians': [<matplotlib.lines.Line2D at 0x4d37810>],\n",
       " 'whiskers': [<matplotlib.lines.Line2D at 0x4a7c990>,\n",
       "  <matplotlib.lines.Line2D at 0x4a7c190>]}"
      ]
     },
     "execution_count": 96,
     "metadata": {},
     "output_type": "execute_result"
    },
    {
     "data": {
      "image/png": "[encoded data removed]",
      "text/plain": [
       "<matplotlib.figure.Figure at 0x5171e50>"
      ]
     },
     "metadata": {},
     "output_type": "display_data"
    }
   ],
   "source": [
    "plt.boxplot(LD_block_ndary[LD_block_ndary[:, 0] <= max_dist, 0])"
   ]
  },
  {
   "cell_type": "code",
   "execution_count": 98,
   "metadata": {
    "collapsed": false
   },
   "outputs": [
    {
     "name": "stderr",
     "output_type": "stream",
     "text": [
      "/home/ytanigaw/.conda/envs/pgenlib/lib/python2.7/site-packages/ipykernel/__main__.py:1: RuntimeWarning: divide by zero encountered in log\n",
      "  if __name__ == '__main__':\n"
     ]
    },
    {
     "data": {
      "text/plain": [
       "{'boxes': [<matplotlib.lines.Line2D at 0x6635d10>],\n",
       " 'caps': [<matplotlib.lines.Line2D at 0x6628c10>,\n",
       "  <matplotlib.lines.Line2D at 0x662c290>],\n",
       " 'fliers': [<matplotlib.lines.Line2D at 0x662cf10>],\n",
       " 'means': [],\n",
       " 'medians': [<matplotlib.lines.Line2D at 0x662c8d0>],\n",
       " 'whiskers': [<matplotlib.lines.Line2D at 0x6635e90>,\n",
       "  <matplotlib.lines.Line2D at 0x66285d0>]}"
      ]
     },
     "execution_count": 98,
     "metadata": {},
     "output_type": "execute_result"
    },
    {
     "data": {
      "image/png": "[encoded data removed]",
      "text/plain": [
       "<matplotlib.figure.Figure at 0x69e1ad0>"
      ]
     },
     "metadata": {},
     "output_type": "display_data"
    }
   ],
   "source": [
    "plt.boxplot(np.log(LD_block_ndary[:, 0]) / np.log(10))"
   ]
  },
  {
   "cell_type": "code",
   "execution_count": 99,
   "metadata": {
    "collapsed": false
   },
   "outputs": [
    {
     "name": "stderr",
     "output_type": "stream",
     "text": [
      "/home/ytanigaw/.conda/envs/pgenlib/lib/python2.7/site-packages/ipykernel/__main__.py:1: RuntimeWarning: divide by zero encountered in log\n",
      "  if __name__ == '__main__':\n"
     ]
    },
    {
     "data": {
      "image/png": "[encoded data removed]",
      "text/plain": [
       "<matplotlib.figure.Figure at 0x6c14e50>"
      ]
     },
     "metadata": {},
     "output_type": "display_data"
    }
   ],
   "source": [
    "make_scatter(np.log(LD_block_ndary[:, 0]) / np.log(10), LD_block_ndary[:, 1],\n",
    "             title = 'LD structure on chr20 in UKBB population', \n",
    "             xlabel = 'Distance between SNPs [bp] (log scale)', \n",
    "             ylabel = 'R^2',\n",
    "             filename = './20170420_LD_plot_UKBB_log.png')"
   ]
  },
  {
   "cell_type": "code",
   "execution_count": null,
   "metadata": {
    "collapsed": true
   },
   "outputs": [],
   "source": []
  }
 ],
 "metadata": {
  "anaconda-cloud": {},
  "kernelspec": {
   "display_name": "Python [conda env:pgenlib]",
   "language": "python",
   "name": "conda-env-pgenlib-py"
  },
  "language_info": {
   "codemirror_mode": {
    "name": "ipython",
    "version": 2
   },
   "file_extension": ".py",
   "mimetype": "text/x-python",
   "name": "python",
   "nbconvert_exporter": "python",
   "pygments_lexer": "ipython2",
   "version": "2.7.5"
  }
 },
 "nbformat": 4,
 "nbformat_minor": 1
}
