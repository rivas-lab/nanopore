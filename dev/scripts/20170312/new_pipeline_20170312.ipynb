{
 "cells": [
  {
   "cell_type": "code",
   "execution_count": 1,
   "metadata": {
    "collapsed": false
   },
   "outputs": [],
   "source": [
    "import numpy as np\n",
    "import scipy as sc\n",
    "import pandas as pd\n",
    "import itertools as it\n",
    "import subprocess as sp\n",
    "import sys\n",
    "import re\n",
    "import collections\n",
    "import json\n",
    "import pysam\n",
    "import enum\n",
    "import bisect\n",
    "import pgenlib as pg\n",
    "import matplotlib\n",
    "matplotlib.use('agg')\n",
    "from matplotlib import pyplot as plt\n",
    "\n",
    "import colorlog"
   ]
  },
  {
   "cell_type": "code",
   "execution_count": 2,
   "metadata": {
    "collapsed": false
   },
   "outputs": [],
   "source": [
    "%matplotlib inline"
   ]
  },
  {
   "cell_type": "code",
   "execution_count": 3,
   "metadata": {
    "collapsed": false
   },
   "outputs": [],
   "source": [
    "sys.path.append('../../../src/')"
   ]
  },
  {
   "cell_type": "code",
   "execution_count": 4,
   "metadata": {
    "collapsed": false
   },
   "outputs": [
    {
     "name": "stderr",
     "output_type": "stream",
     "text": [
      "/home/ytanigaw/.conda/envs/pgenlib/lib/python2.7/site-packages/matplotlib/__init__.py:1401: UserWarning:  This call to matplotlib.use() has no effect\n",
      "because the backend has already been chosen;\n",
      "matplotlib.use() must be called *before* pylab, matplotlib.pyplot,\n",
      "or matplotlib.backends is imported for the first time.\n",
      "\n",
      "  warnings.warn(_use_error_msg)\n"
     ]
    }
   ],
   "source": [
    "import misc\n",
    "from read import read\n",
    "from bim_file import bim_file\n",
    "from haplotype import Haplotype\n",
    "from population_reference import population_reference\n",
    "from find_haplotypes_from_vcf import find_haplotypes_from_vcf"
   ]
  },
  {
   "cell_type": "code",
   "execution_count": 5,
   "metadata": {
    "collapsed": false
   },
   "outputs": [],
   "source": [
    "logger = colorlog.getLogger()\n",
    "logger.setLevel(colorlog.colorlog.logging.DEBUG)\n",
    "handler = colorlog.StreamHandler()\n",
    "handler.setFormatter(colorlog.ColoredFormatter())\n",
    "logger.addHandler(handler)"
   ]
  },
  {
   "cell_type": "code",
   "execution_count": 6,
   "metadata": {
    "collapsed": false
   },
   "outputs": [
    {
     "name": "stderr",
     "output_type": "stream",
     "text": [
      "\u001b[37mDEBUG:root:Debug message\u001b[0m\n",
      "\u001b[32mINFO:root:Information message\u001b[0m\n",
      "\u001b[33mWARNING:root:Warning message\u001b[0m\n",
      "\u001b[31mERROR:root:Error message\u001b[0m\n",
      "\u001b[01;31mCRITICAL:root:Critical message\u001b[0m\n"
     ]
    }
   ],
   "source": [
    "logger.debug(\"Debug message\")\n",
    "logger.info(\"Information message\")\n",
    "logger.warning(\"Warning message\")\n",
    "logger.error(\"Error message\")\n",
    "logger.critical(\"Critical message\")"
   ]
  },
  {
   "cell_type": "code",
   "execution_count": null,
   "metadata": {
    "collapsed": true
   },
   "outputs": [],
   "source": []
  },
  {
   "cell_type": "markdown",
   "metadata": {},
   "source": [
    "## options are given as a json object"
   ]
  },
  {
   "cell_type": "code",
   "execution_count": 7,
   "metadata": {
    "collapsed": false
   },
   "outputs": [],
   "source": [
    "params = {\n",
    "    'validataion_vcf':\n",
    "      '/share/PI/mrivas/data/PlatinumGenomes/2016-1.0/hg19/small_variants/NA12878/NA12878.vcf.gz',\n",
    "    'bam_file_name':\n",
    "      '/share/PI/mrivas/data/nanopore-wgs-consortium/poretools_fastq.12894489.geq12500.bam',\n",
    "    'fasta_ext':\n",
    "      'fa',\n",
    "    'ref_genome_template':\n",
    "      '/share/PI/mrivas/data/hg19/chr${CHR}.${EXT}',\n",
    "    'ref_population_template':\n",
    "      '/share/PI/mrivas/data/1000genomes/ALL.chr${CHR}.phase3_shapeit2_mvncall_integrated_v5a.20130502.genotypes-pgen.${EXT}'\n",
    "}"
   ]
  },
  {
   "cell_type": "code",
   "execution_count": 8,
   "metadata": {
    "collapsed": false
   },
   "outputs": [
    {
     "data": {
      "text/plain": [
       "'{\"bam_file_name\": \"/share/PI/mrivas/data/nanopore-wgs-consortium/poretools_fastq.12894489.geq12500.bam\", \"ref_genome_template\": \"/share/PI/mrivas/data/hg19/chr${CHR}.${EXT}\", \"validataion_vcf\": \"/share/PI/mrivas/data/PlatinumGenomes/2016-1.0/hg19/small_variants/NA12878/NA12878.vcf.gz\", \"ref_population_template\": \"/share/PI/mrivas/data/1000genomes/ALL.chr${CHR}.phase3_shapeit2_mvncall_integrated_v5a.20130502.genotypes-pgen.${EXT}\", \"fasta_ext\": \"fa\"}'"
      ]
     },
     "execution_count": 8,
     "metadata": {},
     "output_type": "execute_result"
    }
   ],
   "source": [
    "json.dumps(params)"
   ]
  },
  {
   "cell_type": "code",
   "execution_count": 9,
   "metadata": {
    "collapsed": true
   },
   "outputs": [],
   "source": [
    "chromosome = 20"
   ]
  },
  {
   "cell_type": "markdown",
   "metadata": {},
   "source": [
    "## need to look up file name for reference data\n",
    "- misc.py"
   ]
  },
  {
   "cell_type": "code",
   "execution_count": 10,
   "metadata": {
    "collapsed": false
   },
   "outputs": [
    {
     "name": "stdout",
     "output_type": "stream",
     "text": [
      "/share/PI/mrivas/data/hg19/chr20.fa\n",
      "/share/PI/mrivas/data/1000genomes/ALL.chr20.phase3_shapeit2_mvncall_integrated_v5a.20130502.genotypes-pgen.pgen\n",
      "/share/PI/mrivas/data/1000genomes/ALL.chr20.phase3_shapeit2_mvncall_integrated_v5a.20130502.genotypes-pgen.bim\n"
     ]
    }
   ],
   "source": [
    "print misc.get_fasta_file_name(params, 20)\n",
    "print misc.get_pgen_file_name(params, 20)\n",
    "print misc.get_bim_file_name(params, 20)"
   ]
  },
  {
   "cell_type": "markdown",
   "metadata": {
    "collapsed": true
   },
   "source": [
    "## Data structures for Nucleotide and Mismatch (on reads)"
   ]
  },
  {
   "cell_type": "markdown",
   "metadata": {
    "collapsed": false
   },
   "source": [
    "- misc.py"
   ]
  },
  {
   "cell_type": "markdown",
   "metadata": {},
   "source": [
    "## reference genome"
   ]
  },
  {
   "cell_type": "code",
   "execution_count": 11,
   "metadata": {
    "collapsed": true
   },
   "outputs": [],
   "source": [
    "reference = pysam.FastaFile(misc.get_fasta_file_name(params, 20))"
   ]
  },
  {
   "cell_type": "markdown",
   "metadata": {
    "collapsed": true
   },
   "source": [
    "## bim file"
   ]
  },
  {
   "cell_type": "markdown",
   "metadata": {
    "collapsed": false
   },
   "source": [
    "- bim_file.py"
   ]
  },
  {
   "cell_type": "code",
   "execution_count": 12,
   "metadata": {
    "collapsed": false
   },
   "outputs": [
    {
     "name": "stdout",
     "output_type": "stream",
     "text": [
      "['rs527639301' 'rs538242240' 'rs149529999' ..., 'rs563604166' 'rs577023641'\n",
      " 'rs546194182']\n",
      "[   60342    60418    60478 ..., 62965289 62965304 62965353]\n"
     ]
    }
   ],
   "source": [
    "bim = bim_file(params)\n",
    "print bim.get_id(20)\n",
    "print bim.get_bp(20)"
   ]
  },
  {
   "cell_type": "code",
   "execution_count": 13,
   "metadata": {
    "collapsed": false
   },
   "outputs": [
    {
     "name": "stdout",
     "output_type": "stream",
     "text": [
      "(0, 2)\n",
      "(1, 2)\n",
      "(1, 2)\n",
      "[1]\n"
     ]
    }
   ],
   "source": [
    "print bim.find_index_interval(20, 60342, 60419)\n",
    "print bim.find_index_interval(20, 60343, 60420)\n",
    "print bim.find_index_interval(20, 60344, 60421)\n",
    "print [x for x in range(1, 2)]"
   ]
  },
  {
   "cell_type": "code",
   "execution_count": null,
   "metadata": {
    "collapsed": true
   },
   "outputs": [],
   "source": []
  },
  {
   "cell_type": "markdown",
   "metadata": {},
   "source": [
    "## read bam file"
   ]
  },
  {
   "cell_type": "markdown",
   "metadata": {
    "collapsed": true
   },
   "source": [
    "- read.py"
   ]
  },
  {
   "cell_type": "code",
   "execution_count": 14,
   "metadata": {
    "collapsed": false
   },
   "outputs": [],
   "source": [
    "bamfile = pysam.AlignmentFile(filename = params['bam_file_name'], \n",
    "                              mode = 'rb')\n"
   ]
  },
  {
   "cell_type": "code",
   "execution_count": 15,
   "metadata": {
    "collapsed": false
   },
   "outputs": [],
   "source": [
    "#aligned_segment = bamfile.next()\n",
    "aligned_segments = [bamfile.next() for i in range(10)]"
   ]
  },
  {
   "cell_type": "code",
   "execution_count": 16,
   "metadata": {
    "collapsed": false
   },
   "outputs": [],
   "source": [
    "r = read(aligned_segments[0], reference)"
   ]
  },
  {
   "cell_type": "code",
   "execution_count": 17,
   "metadata": {
    "collapsed": false
   },
   "outputs": [
    {
     "name": "stdout",
     "output_type": "stream",
     "text": [
      "chr20:59980-65177\t5190\t7\t60\t33ecb953-edd6-445b-87da-85c4551d8c8c_Basecall_Alignment_template\n"
     ]
    }
   ],
   "source": [
    "print(r)"
   ]
  },
  {
   "cell_type": "code",
   "execution_count": 18,
   "metadata": {
    "collapsed": false
   },
   "outputs": [
    {
     "data": {
      "text/plain": [
       "[Mismatch(reference_position=60992, reference=<Nucleotide.G: 2>, read=<Nucleotide.T: 3>, quality=14),\n",
       " Mismatch(reference_position=61171, reference=<Nucleotide.A: 0>, read=<Nucleotide.T: 3>, quality=14),\n",
       " Mismatch(reference_position=61220, reference=<Nucleotide.G: 2>, read=<Nucleotide.A: 0>, quality=17),\n",
       " Mismatch(reference_position=63344, reference=<Nucleotide.T: 3>, read=<Nucleotide.A: 0>, quality=15),\n",
       " Mismatch(reference_position=63377, reference=<Nucleotide.C: 1>, read=<Nucleotide.A: 0>, quality=16),\n",
       " Mismatch(reference_position=63378, reference=<Nucleotide.C: 1>, read=<Nucleotide.A: 0>, quality=16),\n",
       " Mismatch(reference_position=63798, reference=<Nucleotide.C: 1>, read=<Nucleotide.T: 3>, quality=15)]"
      ]
     },
     "execution_count": 18,
     "metadata": {},
     "output_type": "execute_result"
    }
   ],
   "source": [
    "r.get_mismatches()"
   ]
  },
  {
   "cell_type": "code",
   "execution_count": 19,
   "metadata": {
    "collapsed": false
   },
   "outputs": [
    {
     "data": {
      "text/plain": [
       "array([60992, 61171, 61220, 63344, 63377, 63378, 63798])"
      ]
     },
     "execution_count": 19,
     "metadata": {},
     "output_type": "execute_result"
    }
   ],
   "source": [
    "r.get_mismatches_pos()"
   ]
  },
  {
   "cell_type": "code",
   "execution_count": 20,
   "metadata": {
    "collapsed": false
   },
   "outputs": [
    {
     "data": {
      "text/plain": [
       "array([], dtype=float64)"
      ]
     },
     "execution_count": 20,
     "metadata": {},
     "output_type": "execute_result"
    }
   ],
   "source": [
    "r.get_mismatches_polymorphic(bim)"
   ]
  },
  {
   "cell_type": "code",
   "execution_count": 21,
   "metadata": {
    "collapsed": false
   },
   "outputs": [
    {
     "data": {
      "text/plain": [
       "array([], dtype=float64)"
      ]
     },
     "execution_count": 21,
     "metadata": {},
     "output_type": "execute_result"
    }
   ],
   "source": [
    "r.get_mismatches_polymorphic_pos(bim)"
   ]
  },
  {
   "cell_type": "markdown",
   "metadata": {},
   "source": [
    "#### read specific error rate"
   ]
  },
  {
   "cell_type": "code",
   "execution_count": 22,
   "metadata": {
    "collapsed": false
   },
   "outputs": [
    {
     "data": {
      "text/plain": [
       "0.0011850681414181316"
      ]
     },
     "execution_count": 22,
     "metadata": {},
     "output_type": "execute_result"
    }
   ],
   "source": [
    "r.non_polymorphic_error_rate(bim=bim)"
   ]
  },
  {
   "cell_type": "markdown",
   "metadata": {},
   "source": [
    "## pgen file for population reference\n",
    "- haplotype.py\n",
    "- population_reference.py"
   ]
  },
  {
   "cell_type": "code",
   "execution_count": 23,
   "metadata": {
    "collapsed": true
   },
   "outputs": [],
   "source": [
    "pgen = population_reference(params)"
   ]
  },
  {
   "cell_type": "code",
   "execution_count": 92,
   "metadata": {
    "collapsed": true
   },
   "outputs": [],
   "source": [
    "class Haplotype_block:\n",
    "    def __init__(self, chromosome, idx_l, idx_r, bim, pgen):\n",
    "        self.chromosome = chromosome\n",
    "        self.idx_l = idx_l\n",
    "        self.idx_r = idx_r        \n",
    "        self.bim = bim\n",
    "        self.bim_idx_l, self.bim_idx_r = \\\n",
    "        bim.find_index_interval(chromosome, idx_l, idx_r)\n",
    "        \n",
    "        # read_pgen_file\n",
    "        alleles = pgen.read_alleles(chromosome, self.bim_idx_l, self.bim_idx_r)\n",
    "        \n",
    "        self.alleles = alleles # we don't need it. keeping for debug purpose\n",
    "        \n",
    "        self.pop_size = alleles.shape[1]\n",
    "        \n",
    "        cnt = collections.Counter([tuple(alleles[:, i]) \n",
    "                                   for i in range(self.pop_size)])\n",
    "        \n",
    "        # number of unique haplotypes\n",
    "        self.n_uniq_haps = len(cnt.keys())\n",
    "        \n",
    "        # find unique haplotypes and their occurance in population\n",
    "        cnt_sorted = cnt.most_common(self.n_uniq_haps)\n",
    "        self.haps = np.array([cnt_sorted[i][0] for i\n",
    "                              in range(self.n_uniq_haps)], dtype = np.int8)\n",
    "        self.cnts = np.array([cnt_sorted[i][1] for i \n",
    "                              in range(self.n_uniq_haps)], dtype = np.int)\n",
    "        \n",
    "        # log p(data | haplotype) = \\sum_{read \\in data} p(read | haplotype)\n",
    "        self.log_likelihood = np.zeros(self.n_uniq_haps, dtype = np.float)\n",
    "        self.n_pos_total = 0\n",
    "\n",
    "    def log_prior(self):\n",
    "        return(np.log(self.cnts) - np.log(self.pop_size))\n",
    "    \n",
    "    def log_posterior(self):\n",
    "        log_potential = np.log(self.cnts) + self.log_likelihood\n",
    "        log_part = np.log(np.sum(np.exp(log_potential)))\n",
    "        return(log_potential - log_part)\n",
    "\n",
    "    def update_model_read_specific(self, read, bim):\n",
    "        # take intersection of read and the haplotype block\n",
    "        bim_min = max(self.bim_idx_l, read.get_bim_interval(bim)[0])\n",
    "        bim_max = min(self.bim_idx_r, read.get_bim_interval(bim)[1])\n",
    "        \n",
    "        # number of positions we consider in this update\n",
    "        n_pos = max(0, bim_max - bim_min)\n",
    "        \n",
    "        # mismatch between reference and read\n",
    "        mm_ref_vs_read = \\\n",
    "        read.get_mismatches_polymorphic_pos(bim, \n",
    "                                            bim.get_bp(self.chromosome)[bim_min], \n",
    "                                            bim.get_bp(self.chromosome)[bim_max])\n",
    "        # polymorphic positions\n",
    "        poly_pos = bim.get_bp(self.chromosome)[bim_min:bim_max]\n",
    "        \n",
    "        # For each haplotype, find set of \n",
    "        mm_ref_vs_haps = [poly_pos[hb.haps[i][bim_min - self.bim_idx_l :\n",
    "                                              bim_max - self.bim_idx_l] == 1]\n",
    "                          for i in range(self.n_uniq_haps)]\n",
    "        \n",
    "        # number of mismatches between read and haplotype\n",
    "        #   need to fix later\n",
    "        x = np.array([len(set(mm_ref_vs_read) ^ set(mm_ref_vs_haps[i]))\n",
    "                      for i in range(self.n_uniq_haps)])\n",
    "                \n",
    "        e = read.non_polymorphic_error_rate(bim)\n",
    "        \n",
    "        self.log_likelihood = self.log_likelihood + np.log(e) * x + np.log(1 - e) * (n_pos - x)\n",
    "        self.n_pos_total = self.n_pos_total + n_pos\n",
    "    \n",
    "    def map_value(self):\n",
    "        return(np.exp(max(self.log_posterior())))\n",
    "    \n",
    "    def map_index(self):\n",
    "        return(np.where(self.log_posterior() >= max(self.log_posterior()))[0])\n",
    "    \n",
    "    def plot(self, filename = None):\n",
    "        if(filename is not None):\n",
    "            logger.info('Writing image to {}'.format(filename))\n",
    "        misc.make_hist(x = np.exp(self.log_posterior()),\n",
    "                  title = ' '.join(['Haplotype probability distribution',\n",
    "                                    'after {:.2} observations'.format(1.0 * self.n_pos_total / \n",
    "                                                                      (self.bim_idx_r - self.bim_idx_l)),\n",
    "                                    '\\n({} unique haplotypes in'.format(self.n_uniq_haps),\n",
    "                                    'chr{}:{}-{} ({}SNPs))'.format(self.chromosome,\n",
    "                                                                   self.idx_l,\n",
    "                                                                   self.idx_r, \n",
    "                                                                   self.bim_idx_r - self.bim_idx_l\n",
    "                                                                  )]),\n",
    "                  xlabel = ' '.join(['Haplotype probability',\n",
    "                                     '(population size: {} haplotypes)'.format(self.pop_size)]),\n",
    "                  ylabel = 'Frequency of haplotype probabilities', \n",
    "                  filename = None)    \n",
    "    "
   ]
  },
  {
   "cell_type": "code",
   "execution_count": null,
   "metadata": {
    "collapsed": true
   },
   "outputs": [],
   "source": []
  },
  {
   "cell_type": "code",
   "execution_count": 93,
   "metadata": {
    "collapsed": false
   },
   "outputs": [
    {
     "name": "stdout",
     "output_type": "stream",
     "text": [
      "chr20:59980-65177\t5190\t7\t60\t33ecb953-edd6-445b-87da-85c4551d8c8c_Basecall_Alignment_template\n"
     ]
    }
   ],
   "source": [
    "print(r)"
   ]
  },
  {
   "cell_type": "code",
   "execution_count": 94,
   "metadata": {
    "collapsed": false
   },
   "outputs": [],
   "source": [
    "hb = Haplotype_block(20, 60000, 65000, bim, pgen)"
   ]
  },
  {
   "cell_type": "code",
   "execution_count": 95,
   "metadata": {
    "collapsed": false,
    "scrolled": true
   },
   "outputs": [
    {
     "data": {
      "image/png": "[encoded data removed]",
      "text/plain": [
       "<matplotlib.figure.Figure at 0xcb03ed0>"
      ]
     },
     "metadata": {},
     "output_type": "display_data"
    }
   ],
   "source": [
    "hb.plot()"
   ]
  },
  {
   "cell_type": "code",
   "execution_count": 96,
   "metadata": {
    "collapsed": false
   },
   "outputs": [],
   "source": [
    "hb.update_model_read_specific(r, bim)"
   ]
  },
  {
   "cell_type": "code",
   "execution_count": 97,
   "metadata": {
    "collapsed": false
   },
   "outputs": [
    {
     "data": {
      "image/png": "[encoded data removed]",
      "text/plain": [
       "<matplotlib.figure.Figure at 0xf8c7c90>"
      ]
     },
     "metadata": {},
     "output_type": "display_data"
    }
   ],
   "source": [
    "hb.plot()"
   ]
  },
  {
   "cell_type": "code",
   "execution_count": 98,
   "metadata": {
    "collapsed": false
   },
   "outputs": [
    {
     "data": {
      "text/plain": [
       "0.99960681871802282"
      ]
     },
     "execution_count": 98,
     "metadata": {},
     "output_type": "execute_result"
    }
   ],
   "source": [
    "hb.map_value()"
   ]
  },
  {
   "cell_type": "code",
   "execution_count": 101,
   "metadata": {
    "collapsed": false
   },
   "outputs": [
    {
     "data": {
      "text/plain": [
       "array([0])"
      ]
     },
     "execution_count": 101,
     "metadata": {},
     "output_type": "execute_result"
    }
   ],
   "source": [
    "hb.map_index()"
   ]
  },
  {
   "cell_type": "code",
   "execution_count": 102,
   "metadata": {
    "collapsed": false
   },
   "outputs": [
    {
     "data": {
      "text/plain": [
       "array([0, 0, 0, 0, 0, 0, 0, 0, 0, 0, 0, 0, 0, 0, 0, 0, 0, 0, 0, 0, 0, 0, 0,\n",
       "       0, 0, 0, 0, 0, 0, 0, 0, 0, 0, 0, 0, 0, 0, 0, 0, 0, 0, 0, 0, 0, 0, 0,\n",
       "       0, 0, 0, 0, 0, 0, 0, 0, 0, 0, 0, 0, 0, 0, 0, 0, 0, 0, 0, 0, 0, 0, 0,\n",
       "       0, 0, 0, 0, 0, 0, 0, 0, 0, 0, 0, 0, 0, 0, 0, 0, 0, 0, 0, 0, 0, 0, 0,\n",
       "       0, 0, 0, 0, 0, 0, 0, 0, 0, 0, 0, 0, 0, 0, 0, 0, 0, 0, 0, 0, 0, 0, 0,\n",
       "       0, 0, 0, 0, 0, 0, 0, 0, 0, 0, 0, 0, 0, 0, 0, 0], dtype=int8)"
      ]
     },
     "execution_count": 102,
     "metadata": {},
     "output_type": "execute_result"
    }
   ],
   "source": [
    "hb.haps[0]"
   ]
  },
  {
   "cell_type": "code",
   "execution_count": 103,
   "metadata": {
    "collapsed": false
   },
   "outputs": [
    {
     "data": {
      "text/plain": [
       "0.0011850681414181316"
      ]
     },
     "execution_count": 103,
     "metadata": {},
     "output_type": "execute_result"
    }
   ],
   "source": [
    "r.non_polymorphic_error_rate(bim)"
   ]
  },
  {
   "cell_type": "code",
   "execution_count": 75,
   "metadata": {
    "collapsed": false
   },
   "outputs": [
    {
     "data": {
      "text/plain": [
       "0.0011850681414181316"
      ]
     },
     "execution_count": 75,
     "metadata": {},
     "output_type": "execute_result"
    }
   ],
   "source": [
    "e"
   ]
  },
  {
   "cell_type": "code",
   "execution_count": 81,
   "metadata": {
    "collapsed": false
   },
   "outputs": [
    {
     "data": {
      "text/plain": [
       "array([ -0.15533599, -33.83918215,  -6.89210522, -27.10241291,\n",
       "       -13.62887445, -27.10241291, -40.57595138, -20.36564368,\n",
       "       -20.36564368, -13.62887445,  -6.89210522, -27.10241291,\n",
       "       -33.83918215, -13.62887445, -27.10241291,  -6.89210522,\n",
       "       -20.36564368, -20.36564368, -27.10241291, -40.57595138,\n",
       "       -40.57595138, -20.36564368,  -6.89210522, -47.31272061,\n",
       "       -20.36564368, -27.10241291, -20.36564368, -27.10241291,\n",
       "       -33.83918215, -27.10241291, -20.36564368, -33.83918215,\n",
       "       -33.83918215, -20.36564368, -27.10241291,  -6.89210522,\n",
       "       -40.57595138,  -6.89210522, -13.62887445, -13.62887445,\n",
       "       -54.04948984, -40.57595138, -33.83918215, -33.83918215,\n",
       "       -33.83918215,  -6.89210522, -40.57595138,  -6.89210522,\n",
       "        -6.89210522, -33.83918215, -33.83918215, -27.10241291,\n",
       "       -33.83918215,  -6.89210522, -47.31272061, -13.62887445,\n",
       "       -33.83918215, -27.10241291, -20.36564368, -33.83918215,\n",
       "        -6.89210522, -13.62887445, -33.83918215, -33.83918215,\n",
       "       -13.62887445, -27.10241291, -27.10241291, -20.36564368,\n",
       "       -47.31272061, -13.62887445, -47.31272061,  -6.89210522,\n",
       "       -13.62887445, -27.10241291,  -6.89210522,  -6.89210522,\n",
       "       -33.83918215, -27.10241291,  -6.89210522,  -6.89210522,\n",
       "       -33.83918215,  -6.89210522, -20.36564368, -20.36564368,\n",
       "       -20.36564368, -27.10241291,  -6.89210522, -33.83918215,\n",
       "       -20.36564368, -40.57595138, -27.10241291,  -6.89210522,\n",
       "       -27.10241291,  -6.89210522, -27.10241291, -40.57595138,\n",
       "        -6.89210522, -13.62887445, -20.36564368, -40.57595138,\n",
       "       -13.62887445,  -6.89210522, -13.62887445, -27.10241291,\n",
       "       -13.62887445,  -6.89210522, -47.31272061, -40.57595138,\n",
       "       -40.57595138, -27.10241291, -40.57595138, -27.10241291,\n",
       "       -33.83918215, -40.57595138, -33.83918215,  -6.89210522,\n",
       "       -13.62887445,  -6.89210522,  -6.89210522, -20.36564368,\n",
       "        -6.89210522, -20.36564368, -33.83918215,  -6.89210522,\n",
       "       -27.10241291,  -6.89210522, -33.83918215, -20.36564368,\n",
       "        -6.89210522, -40.57595138, -40.57595138,  -6.89210522,\n",
       "       -33.83918215, -20.36564368, -27.10241291, -13.62887445,\n",
       "        -6.89210522, -13.62887445, -20.36564368, -33.83918215,\n",
       "       -33.83918215,  -6.89210522, -20.36564368,  -6.89210522,\n",
       "       -20.36564368, -27.10241291, -33.83918215, -27.10241291,\n",
       "        -6.89210522, -13.62887445, -20.36564368, -40.57595138,\n",
       "       -27.10241291,  -6.89210522, -20.36564368, -33.83918215,\n",
       "       -33.83918215, -33.83918215,  -6.89210522, -13.62887445,\n",
       "       -20.36564368,  -6.89210522, -40.57595138])"
      ]
     },
     "execution_count": 81,
     "metadata": {},
     "output_type": "execute_result"
    }
   ],
   "source": [
    "np.log(e) * x + np.log(1 - e) * (n_pos - x)"
   ]
  },
  {
   "cell_type": "code",
   "execution_count": 31,
   "metadata": {
    "collapsed": false
   },
   "outputs": [
    {
     "data": {
      "text/plain": [
       "(131, 5008)"
      ]
     },
     "execution_count": 31,
     "metadata": {},
     "output_type": "execute_result"
    }
   ],
   "source": [
    "hb.alleles.shape"
   ]
  },
  {
   "cell_type": "code",
   "execution_count": 32,
   "metadata": {
    "collapsed": false
   },
   "outputs": [
    {
     "data": {
      "text/plain": [
       "[Mismatch(reference_position=60992, reference=<Nucleotide.G: 2>, read=<Nucleotide.T: 3>, quality=14),\n",
       " Mismatch(reference_position=61171, reference=<Nucleotide.A: 0>, read=<Nucleotide.T: 3>, quality=14),\n",
       " Mismatch(reference_position=61220, reference=<Nucleotide.G: 2>, read=<Nucleotide.A: 0>, quality=17),\n",
       " Mismatch(reference_position=63344, reference=<Nucleotide.T: 3>, read=<Nucleotide.A: 0>, quality=15),\n",
       " Mismatch(reference_position=63377, reference=<Nucleotide.C: 1>, read=<Nucleotide.A: 0>, quality=16),\n",
       " Mismatch(reference_position=63378, reference=<Nucleotide.C: 1>, read=<Nucleotide.A: 0>, quality=16),\n",
       " Mismatch(reference_position=63798, reference=<Nucleotide.C: 1>, read=<Nucleotide.T: 3>, quality=15)]"
      ]
     },
     "execution_count": 32,
     "metadata": {},
     "output_type": "execute_result"
    }
   ],
   "source": [
    "r.get_mismatches()"
   ]
  },
  {
   "cell_type": "code",
   "execution_count": null,
   "metadata": {
    "collapsed": true
   },
   "outputs": [],
   "source": []
  },
  {
   "cell_type": "code",
   "execution_count": 33,
   "metadata": {
    "collapsed": false
   },
   "outputs": [
    {
     "name": "stdout",
     "output_type": "stream",
     "text": [
      "(0, 131)\n",
      "(0, 134)\n"
     ]
    }
   ],
   "source": [
    "print(hb.bim_idx_l, hb.bim_idx_r)\n",
    "print(r.get_bim_interval(bim))"
   ]
  },
  {
   "cell_type": "code",
   "execution_count": 34,
   "metadata": {
    "collapsed": false
   },
   "outputs": [
    {
     "data": {
      "text/plain": [
       "0"
      ]
     },
     "execution_count": 34,
     "metadata": {},
     "output_type": "execute_result"
    }
   ],
   "source": [
    "max(hb.bim_idx_l, r.get_bim_interval(bim)[0])"
   ]
  },
  {
   "cell_type": "code",
   "execution_count": 35,
   "metadata": {
    "collapsed": false
   },
   "outputs": [
    {
     "data": {
      "text/plain": [
       "131"
      ]
     },
     "execution_count": 35,
     "metadata": {},
     "output_type": "execute_result"
    }
   ],
   "source": [
    "min(hb.bim_idx_r, r.get_bim_interval(bim)[1])"
   ]
  },
  {
   "cell_type": "code",
   "execution_count": 38,
   "metadata": {
    "collapsed": false
   },
   "outputs": [
    {
     "data": {
      "text/plain": [
       "array([61097, 61137, 61794, 63243, 63798])"
      ]
     },
     "execution_count": 38,
     "metadata": {},
     "output_type": "execute_result"
    }
   ],
   "source": [
    "bim.get_bp(20)[0:131][hb.haps[1][0:131] == 1]"
   ]
  },
  {
   "cell_type": "code",
   "execution_count": null,
   "metadata": {
    "collapsed": true
   },
   "outputs": [],
   "source": []
  },
  {
   "cell_type": "code",
   "execution_count": null,
   "metadata": {
    "collapsed": false
   },
   "outputs": [],
   "source": []
  },
  {
   "cell_type": "code",
   "execution_count": null,
   "metadata": {
    "collapsed": true
   },
   "outputs": [],
   "source": []
  },
  {
   "cell_type": "code",
   "execution_count": 71,
   "metadata": {
    "collapsed": false
   },
   "outputs": [],
   "source": [
    "mismatch_to_ref = r.get_mismatches_polymorphic_pos(bim, bim.get_bp(20)[0], bim.get_bp(20)[131])\n",
    "n_mismatch_to_ref = len(mismatch_to_ref)"
   ]
  },
  {
   "cell_type": "code",
   "execution_count": 73,
   "metadata": {
    "collapsed": false
   },
   "outputs": [
    {
     "name": "stdout",
     "output_type": "stream",
     "text": [
      "[]\n",
      "0\n"
     ]
    }
   ],
   "source": [
    "print mismatch_to_ref\n",
    "print n_mismatch_to_ref"
   ]
  },
  {
   "cell_type": "code",
   "execution_count": 37,
   "metadata": {
    "collapsed": false
   },
   "outputs": [
    {
     "data": {
      "text/plain": [
       "array([False, False, False, False, False, False, False, False, False,\n",
       "       False, False, False, False, False, False, False, False, False,\n",
       "       False,  True, False,  True, False, False, False, False, False,\n",
       "       False, False, False, False, False, False, False, False, False,\n",
       "       False,  True, False, False, False, False, False, False, False,\n",
       "       False, False, False, False, False, False, False, False, False,\n",
       "       False, False, False, False, False, False, False, False, False,\n",
       "       False, False, False, False, False, False, False, False,  True,\n",
       "       False, False, False, False, False, False, False, False, False,\n",
       "       False, False, False, False, False, False, False, False, False,\n",
       "       False, False,  True, False, False, False, False, False, False,\n",
       "       False, False, False, False, False, False, False, False, False,\n",
       "       False, False, False, False, False, False, False, False, False,\n",
       "       False, False, False, False, False, False, False, False, False,\n",
       "       False, False, False, False, False], dtype=bool)"
      ]
     },
     "execution_count": 37,
     "metadata": {},
     "output_type": "execute_result"
    }
   ],
   "source": [
    "hb.haps[1][0:131] == 1"
   ]
  },
  {
   "cell_type": "code",
   "execution_count": 78,
   "metadata": {
    "collapsed": false
   },
   "outputs": [
    {
     "data": {
      "text/plain": [
       "[Mismatch(reference_position=60025, reference=<Nucleotide.G: 2>, read=<Nucleotide.A: 0>, quality=3),\n",
       " Mismatch(reference_position=60054, reference=<Nucleotide.C: 1>, read=<Nucleotide.G: 2>, quality=4),\n",
       " Mismatch(reference_position=60055, reference=<Nucleotide.A: 0>, read=<Nucleotide.C: 1>, quality=5),\n",
       " Mismatch(reference_position=60059, reference=<Nucleotide.C: 1>, read=<Nucleotide.T: 3>, quality=6),\n",
       " Mismatch(reference_position=60060, reference=<Nucleotide.C: 1>, read=<Nucleotide.G: 2>, quality=4),\n",
       " Mismatch(reference_position=60076, reference=<Nucleotide.A: 0>, read=<Nucleotide.G: 2>, quality=4),\n",
       " Mismatch(reference_position=60082, reference=<Nucleotide.G: 2>, read=<Nucleotide.A: 0>, quality=7),\n",
       " Mismatch(reference_position=60086, reference=<Nucleotide.A: 0>, read=<Nucleotide.T: 3>, quality=6),\n",
       " Mismatch(reference_position=60087, reference=<Nucleotide.G: 2>, read=<Nucleotide.T: 3>, quality=4),\n",
       " Mismatch(reference_position=60104, reference=<Nucleotide.G: 2>, read=<Nucleotide.A: 0>, quality=4),\n",
       " Mismatch(reference_position=60107, reference=<Nucleotide.C: 1>, read=<Nucleotide.T: 3>, quality=6),\n",
       " Mismatch(reference_position=60109, reference=<Nucleotide.G: 2>, read=<Nucleotide.T: 3>, quality=7),\n",
       " Mismatch(reference_position=60110, reference=<Nucleotide.C: 1>, read=<Nucleotide.G: 2>, quality=5),\n",
       " Mismatch(reference_position=60149, reference=<Nucleotide.G: 2>, read=<Nucleotide.A: 0>, quality=3),\n",
       " Mismatch(reference_position=60201, reference=<Nucleotide.G: 2>, read=<Nucleotide.A: 0>, quality=8),\n",
       " Mismatch(reference_position=60225, reference=<Nucleotide.G: 2>, read=<Nucleotide.A: 0>, quality=8),\n",
       " Mismatch(reference_position=60243, reference=<Nucleotide.C: 1>, read=<Nucleotide.G: 2>, quality=7),\n",
       " Mismatch(reference_position=60274, reference=<Nucleotide.A: 0>, read=<Nucleotide.C: 1>, quality=11),\n",
       " Mismatch(reference_position=60276, reference=<Nucleotide.A: 0>, read=<Nucleotide.G: 2>, quality=5),\n",
       " Mismatch(reference_position=60280, reference=<Nucleotide.A: 0>, read=<Nucleotide.T: 3>, quality=3),\n",
       " Mismatch(reference_position=60281, reference=<Nucleotide.A: 0>, read=<Nucleotide.G: 2>, quality=2),\n",
       " Mismatch(reference_position=60282, reference=<Nucleotide.C: 1>, read=<Nucleotide.T: 3>, quality=4),\n",
       " Mismatch(reference_position=60284, reference=<Nucleotide.A: 0>, read=<Nucleotide.C: 1>, quality=4),\n",
       " Mismatch(reference_position=60286, reference=<Nucleotide.A: 0>, read=<Nucleotide.C: 1>, quality=4),\n",
       " Mismatch(reference_position=60330, reference=<Nucleotide.G: 2>, read=<Nucleotide.A: 0>, quality=8),\n",
       " Mismatch(reference_position=60331, reference=<Nucleotide.C: 1>, read=<Nucleotide.A: 0>, quality=6),\n",
       " Mismatch(reference_position=60332, reference=<Nucleotide.T: 3>, read=<Nucleotide.A: 0>, quality=5),\n",
       " Mismatch(reference_position=60340, reference=<Nucleotide.T: 3>, read=<Nucleotide.G: 2>, quality=3),\n",
       " Mismatch(reference_position=60341, reference=<Nucleotide.T: 3>, read=<Nucleotide.C: 1>, quality=3),\n",
       " Mismatch(reference_position=60363, reference=<Nucleotide.G: 2>, read=<Nucleotide.A: 0>, quality=8),\n",
       " Mismatch(reference_position=60365, reference=<Nucleotide.G: 2>, read=<Nucleotide.C: 1>, quality=5),\n",
       " Mismatch(reference_position=60370, reference=<Nucleotide.G: 2>, read=<Nucleotide.A: 0>, quality=4),\n",
       " Mismatch(reference_position=60423, reference=<Nucleotide.A: 0>, read=<Nucleotide.G: 2>, quality=7),\n",
       " Mismatch(reference_position=60449, reference=<Nucleotide.A: 0>, read=<Nucleotide.G: 2>, quality=5),\n",
       " Mismatch(reference_position=60520, reference=<Nucleotide.G: 2>, read=<Nucleotide.A: 0>, quality=5),\n",
       " Mismatch(reference_position=60538, reference=<Nucleotide.G: 2>, read=<Nucleotide.C: 1>, quality=3),\n",
       " Mismatch(reference_position=60550, reference=<Nucleotide.C: 1>, read=<Nucleotide.T: 3>, quality=5),\n",
       " Mismatch(reference_position=60607, reference=<Nucleotide.A: 0>, read=<Nucleotide.T: 3>, quality=6),\n",
       " Mismatch(reference_position=60608, reference=<Nucleotide.C: 1>, read=<Nucleotide.G: 2>, quality=3),\n",
       " Mismatch(reference_position=60623, reference=<Nucleotide.G: 2>, read=<Nucleotide.A: 0>, quality=2),\n",
       " Mismatch(reference_position=60625, reference=<Nucleotide.C: 1>, read=<Nucleotide.A: 0>, quality=3),\n",
       " Mismatch(reference_position=60639, reference=<Nucleotide.C: 1>, read=<Nucleotide.T: 3>, quality=3),\n",
       " Mismatch(reference_position=60640, reference=<Nucleotide.A: 0>, read=<Nucleotide.G: 2>, quality=2),\n",
       " Mismatch(reference_position=60792, reference=<Nucleotide.G: 2>, read=<Nucleotide.A: 0>, quality=8),\n",
       " Mismatch(reference_position=60860, reference=<Nucleotide.G: 2>, read=<Nucleotide.A: 0>, quality=3),\n",
       " Mismatch(reference_position=60880, reference=<Nucleotide.G: 2>, read=<Nucleotide.A: 0>, quality=8),\n",
       " Mismatch(reference_position=60881, reference=<Nucleotide.G: 2>, read=<Nucleotide.C: 1>, quality=7),\n",
       " Mismatch(reference_position=60991, reference=<Nucleotide.A: 0>, read=<Nucleotide.C: 1>, quality=8),\n",
       " Mismatch(reference_position=60992, reference=<Nucleotide.G: 2>, read=<Nucleotide.T: 3>, quality=14),\n",
       " Mismatch(reference_position=60993, reference=<Nucleotide.C: 1>, read=<Nucleotide.T: 3>, quality=10),\n",
       " Mismatch(reference_position=61037, reference=<Nucleotide.A: 0>, read=<Nucleotide.G: 2>, quality=3),\n",
       " Mismatch(reference_position=61056, reference=<Nucleotide.A: 0>, read=<Nucleotide.G: 2>, quality=3),\n",
       " Mismatch(reference_position=61061, reference=<Nucleotide.A: 0>, read=<Nucleotide.C: 1>, quality=5),\n",
       " Mismatch(reference_position=61075, reference=<Nucleotide.C: 1>, read=<Nucleotide.T: 3>, quality=5),\n",
       " Mismatch(reference_position=61076, reference=<Nucleotide.T: 3>, read=<Nucleotide.C: 1>, quality=6),\n",
       " Mismatch(reference_position=61086, reference=<Nucleotide.A: 0>, read=<Nucleotide.T: 3>, quality=11),\n",
       " Mismatch(reference_position=61088, reference=<Nucleotide.A: 0>, read=<Nucleotide.T: 3>, quality=7),\n",
       " Mismatch(reference_position=61097, reference=<Nucleotide.C: 1>, read=<Nucleotide.T: 3>, quality=6),\n",
       " Mismatch(reference_position=61148, reference=<Nucleotide.T: 3>, read=<Nucleotide.A: 0>, quality=2),\n",
       " Mismatch(reference_position=61149, reference=<Nucleotide.T: 3>, read=<Nucleotide.C: 1>, quality=3),\n",
       " Mismatch(reference_position=61166, reference=<Nucleotide.G: 2>, read=<Nucleotide.A: 0>, quality=3),\n",
       " Mismatch(reference_position=61167, reference=<Nucleotide.G: 2>, read=<Nucleotide.A: 0>, quality=5),\n",
       " Mismatch(reference_position=61168, reference=<Nucleotide.T: 3>, read=<Nucleotide.A: 0>, quality=6),\n",
       " Mismatch(reference_position=61169, reference=<Nucleotide.A: 0>, read=<Nucleotide.T: 3>, quality=6),\n",
       " Mismatch(reference_position=61170, reference=<Nucleotide.C: 1>, read=<Nucleotide.T: 3>, quality=13),\n",
       " Mismatch(reference_position=61171, reference=<Nucleotide.A: 0>, read=<Nucleotide.T: 3>, quality=14),\n",
       " Mismatch(reference_position=61173, reference=<Nucleotide.G: 2>, read=<Nucleotide.A: 0>, quality=10),\n",
       " Mismatch(reference_position=61176, reference=<Nucleotide.C: 1>, read=<Nucleotide.T: 3>, quality=13),\n",
       " Mismatch(reference_position=61179, reference=<Nucleotide.A: 0>, read=<Nucleotide.T: 3>, quality=10),\n",
       " Mismatch(reference_position=61180, reference=<Nucleotide.A: 0>, read=<Nucleotide.G: 2>, quality=9),\n",
       " Mismatch(reference_position=61181, reference=<Nucleotide.C: 1>, read=<Nucleotide.T: 3>, quality=1),\n",
       " Mismatch(reference_position=61197, reference=<Nucleotide.G: 2>, read=<Nucleotide.A: 0>, quality=5),\n",
       " Mismatch(reference_position=61208, reference=<Nucleotide.C: 1>, read=<Nucleotide.A: 0>, quality=9),\n",
       " Mismatch(reference_position=61209, reference=<Nucleotide.C: 1>, read=<Nucleotide.T: 3>, quality=6),\n",
       " Mismatch(reference_position=61220, reference=<Nucleotide.G: 2>, read=<Nucleotide.A: 0>, quality=17),\n",
       " Mismatch(reference_position=61294, reference=<Nucleotide.C: 1>, read=<Nucleotide.T: 3>, quality=2),\n",
       " Mismatch(reference_position=61296, reference=<Nucleotide.A: 0>, read=<Nucleotide.G: 2>, quality=2),\n",
       " Mismatch(reference_position=61305, reference=<Nucleotide.G: 2>, read=<Nucleotide.A: 0>, quality=2),\n",
       " Mismatch(reference_position=61311, reference=<Nucleotide.A: 0>, read=<Nucleotide.G: 2>, quality=3),\n",
       " Mismatch(reference_position=61313, reference=<Nucleotide.G: 2>, read=<Nucleotide.A: 0>, quality=2),\n",
       " Mismatch(reference_position=61373, reference=<Nucleotide.G: 2>, read=<Nucleotide.A: 0>, quality=4),\n",
       " Mismatch(reference_position=61409, reference=<Nucleotide.T: 3>, read=<Nucleotide.C: 1>, quality=6),\n",
       " Mismatch(reference_position=61410, reference=<Nucleotide.C: 1>, read=<Nucleotide.T: 3>, quality=9),\n",
       " Mismatch(reference_position=61531, reference=<Nucleotide.G: 2>, read=<Nucleotide.A: 0>, quality=5),\n",
       " Mismatch(reference_position=61532, reference=<Nucleotide.C: 1>, read=<Nucleotide.T: 3>, quality=5),\n",
       " Mismatch(reference_position=61534, reference=<Nucleotide.A: 0>, read=<Nucleotide.T: 3>, quality=5),\n",
       " Mismatch(reference_position=61550, reference=<Nucleotide.G: 2>, read=<Nucleotide.A: 0>, quality=3),\n",
       " Mismatch(reference_position=61556, reference=<Nucleotide.A: 0>, read=<Nucleotide.G: 2>, quality=5),\n",
       " Mismatch(reference_position=61560, reference=<Nucleotide.T: 3>, read=<Nucleotide.A: 0>, quality=3),\n",
       " Mismatch(reference_position=61603, reference=<Nucleotide.A: 0>, read=<Nucleotide.G: 2>, quality=4),\n",
       " Mismatch(reference_position=61604, reference=<Nucleotide.C: 1>, read=<Nucleotide.T: 3>, quality=6),\n",
       " Mismatch(reference_position=61612, reference=<Nucleotide.G: 2>, read=<Nucleotide.A: 0>, quality=7),\n",
       " Mismatch(reference_position=61613, reference=<Nucleotide.T: 3>, read=<Nucleotide.A: 0>, quality=6),\n",
       " Mismatch(reference_position=61637, reference=<Nucleotide.C: 1>, read=<Nucleotide.G: 2>, quality=5),\n",
       " Mismatch(reference_position=61638, reference=<Nucleotide.C: 1>, read=<Nucleotide.G: 2>, quality=8),\n",
       " Mismatch(reference_position=61686, reference=<Nucleotide.C: 1>, read=<Nucleotide.T: 3>, quality=4),\n",
       " Mismatch(reference_position=61700, reference=<Nucleotide.C: 1>, read=<Nucleotide.G: 2>, quality=2),\n",
       " Mismatch(reference_position=61709, reference=<Nucleotide.A: 0>, read=<Nucleotide.T: 3>, quality=8),\n",
       " Mismatch(reference_position=61782, reference=<Nucleotide.A: 0>, read=<Nucleotide.G: 2>, quality=8),\n",
       " Mismatch(reference_position=61783, reference=<Nucleotide.C: 1>, read=<Nucleotide.G: 2>, quality=12),\n",
       " Mismatch(reference_position=61794, reference=<Nucleotide.G: 2>, read=<Nucleotide.A: 0>, quality=9),\n",
       " Mismatch(reference_position=61795, reference=<Nucleotide.A: 0>, read=<Nucleotide.T: 3>, quality=11),\n",
       " Mismatch(reference_position=61815, reference=<Nucleotide.A: 0>, read=<Nucleotide.G: 2>, quality=8),\n",
       " Mismatch(reference_position=61928, reference=<Nucleotide.G: 2>, read=<Nucleotide.A: 0>, quality=5),\n",
       " Mismatch(reference_position=61936, reference=<Nucleotide.A: 0>, read=<Nucleotide.T: 3>, quality=3),\n",
       " Mismatch(reference_position=61998, reference=<Nucleotide.C: 1>, read=<Nucleotide.G: 2>, quality=5),\n",
       " Mismatch(reference_position=62012, reference=<Nucleotide.G: 2>, read=<Nucleotide.A: 0>, quality=3),\n",
       " Mismatch(reference_position=62013, reference=<Nucleotide.C: 1>, read=<Nucleotide.T: 3>, quality=4),\n",
       " Mismatch(reference_position=62014, reference=<Nucleotide.C: 1>, read=<Nucleotide.G: 2>, quality=5),\n",
       " Mismatch(reference_position=62021, reference=<Nucleotide.G: 2>, read=<Nucleotide.A: 0>, quality=6),\n",
       " Mismatch(reference_position=62023, reference=<Nucleotide.A: 0>, read=<Nucleotide.G: 2>, quality=2),\n",
       " Mismatch(reference_position=62091, reference=<Nucleotide.A: 0>, read=<Nucleotide.G: 2>, quality=4),\n",
       " Mismatch(reference_position=62092, reference=<Nucleotide.T: 3>, read=<Nucleotide.G: 2>, quality=5),\n",
       " Mismatch(reference_position=62114, reference=<Nucleotide.A: 0>, read=<Nucleotide.G: 2>, quality=2),\n",
       " Mismatch(reference_position=62178, reference=<Nucleotide.A: 0>, read=<Nucleotide.G: 2>, quality=4),\n",
       " Mismatch(reference_position=62249, reference=<Nucleotide.G: 2>, read=<Nucleotide.A: 0>, quality=5),\n",
       " Mismatch(reference_position=62309, reference=<Nucleotide.T: 3>, read=<Nucleotide.C: 1>, quality=6),\n",
       " Mismatch(reference_position=62310, reference=<Nucleotide.A: 0>, read=<Nucleotide.C: 1>, quality=5),\n",
       " Mismatch(reference_position=62328, reference=<Nucleotide.A: 0>, read=<Nucleotide.G: 2>, quality=2),\n",
       " Mismatch(reference_position=62345, reference=<Nucleotide.G: 2>, read=<Nucleotide.C: 1>, quality=4),\n",
       " Mismatch(reference_position=62346, reference=<Nucleotide.A: 0>, read=<Nucleotide.T: 3>, quality=6),\n",
       " Mismatch(reference_position=62347, reference=<Nucleotide.A: 0>, read=<Nucleotide.T: 3>, quality=5),\n",
       " Mismatch(reference_position=62380, reference=<Nucleotide.G: 2>, read=<Nucleotide.A: 0>, quality=8),\n",
       " Mismatch(reference_position=62382, reference=<Nucleotide.A: 0>, read=<Nucleotide.C: 1>, quality=5),\n",
       " Mismatch(reference_position=62384, reference=<Nucleotide.A: 0>, read=<Nucleotide.T: 3>, quality=7),\n",
       " Mismatch(reference_position=62427, reference=<Nucleotide.A: 0>, read=<Nucleotide.G: 2>, quality=3),\n",
       " Mismatch(reference_position=62495, reference=<Nucleotide.G: 2>, read=<Nucleotide.A: 0>, quality=3),\n",
       " Mismatch(reference_position=62511, reference=<Nucleotide.A: 0>, read=<Nucleotide.G: 2>, quality=9),\n",
       " Mismatch(reference_position=62544, reference=<Nucleotide.C: 1>, read=<Nucleotide.T: 3>, quality=5),\n",
       " Mismatch(reference_position=62546, reference=<Nucleotide.G: 2>, read=<Nucleotide.A: 0>, quality=9),\n",
       " Mismatch(reference_position=62563, reference=<Nucleotide.A: 0>, read=<Nucleotide.G: 2>, quality=4),\n",
       " Mismatch(reference_position=62564, reference=<Nucleotide.A: 0>, read=<Nucleotide.T: 3>, quality=5),\n",
       " Mismatch(reference_position=62565, reference=<Nucleotide.C: 1>, read=<Nucleotide.A: 0>, quality=5),\n",
       " Mismatch(reference_position=62599, reference=<Nucleotide.T: 3>, read=<Nucleotide.A: 0>, quality=3),\n",
       " Mismatch(reference_position=62600, reference=<Nucleotide.A: 0>, read=<Nucleotide.C: 1>, quality=4),\n",
       " Mismatch(reference_position=62603, reference=<Nucleotide.A: 0>, read=<Nucleotide.G: 2>, quality=6),\n",
       " Mismatch(reference_position=62625, reference=<Nucleotide.A: 0>, read=<Nucleotide.G: 2>, quality=7),\n",
       " Mismatch(reference_position=62626, reference=<Nucleotide.G: 2>, read=<Nucleotide.A: 0>, quality=8),\n",
       " Mismatch(reference_position=62642, reference=<Nucleotide.C: 1>, read=<Nucleotide.A: 0>, quality=5),\n",
       " Mismatch(reference_position=62643, reference=<Nucleotide.C: 1>, read=<Nucleotide.A: 0>, quality=9),\n",
       " Mismatch(reference_position=62644, reference=<Nucleotide.T: 3>, read=<Nucleotide.A: 0>, quality=9),\n",
       " Mismatch(reference_position=62646, reference=<Nucleotide.C: 1>, read=<Nucleotide.A: 0>, quality=5),\n",
       " Mismatch(reference_position=62736, reference=<Nucleotide.G: 2>, read=<Nucleotide.A: 0>, quality=3),\n",
       " Mismatch(reference_position=62737, reference=<Nucleotide.A: 0>, read=<Nucleotide.G: 2>, quality=7),\n",
       " Mismatch(reference_position=62743, reference=<Nucleotide.T: 3>, read=<Nucleotide.C: 1>, quality=11),\n",
       " Mismatch(reference_position=62744, reference=<Nucleotide.G: 2>, read=<Nucleotide.A: 0>, quality=12),\n",
       " Mismatch(reference_position=62757, reference=<Nucleotide.T: 3>, read=<Nucleotide.A: 0>, quality=7),\n",
       " Mismatch(reference_position=62817, reference=<Nucleotide.G: 2>, read=<Nucleotide.A: 0>, quality=4),\n",
       " Mismatch(reference_position=62819, reference=<Nucleotide.G: 2>, read=<Nucleotide.A: 0>, quality=3),\n",
       " Mismatch(reference_position=62845, reference=<Nucleotide.C: 1>, read=<Nucleotide.T: 3>, quality=7),\n",
       " Mismatch(reference_position=62862, reference=<Nucleotide.G: 2>, read=<Nucleotide.A: 0>, quality=2),\n",
       " Mismatch(reference_position=62864, reference=<Nucleotide.A: 0>, read=<Nucleotide.G: 2>, quality=6),\n",
       " Mismatch(reference_position=62868, reference=<Nucleotide.T: 3>, read=<Nucleotide.A: 0>, quality=7),\n",
       " Mismatch(reference_position=62869, reference=<Nucleotide.G: 2>, read=<Nucleotide.T: 3>, quality=6),\n",
       " Mismatch(reference_position=62870, reference=<Nucleotide.C: 1>, read=<Nucleotide.A: 0>, quality=2),\n",
       " Mismatch(reference_position=62885, reference=<Nucleotide.A: 0>, read=<Nucleotide.G: 2>, quality=6),\n",
       " Mismatch(reference_position=62910, reference=<Nucleotide.A: 0>, read=<Nucleotide.G: 2>, quality=3),\n",
       " Mismatch(reference_position=62918, reference=<Nucleotide.G: 2>, read=<Nucleotide.A: 0>, quality=8),\n",
       " Mismatch(reference_position=63079, reference=<Nucleotide.T: 3>, read=<Nucleotide.G: 2>, quality=2),\n",
       " Mismatch(reference_position=63243, reference=<Nucleotide.A: 0>, read=<Nucleotide.C: 1>, quality=10),\n",
       " Mismatch(reference_position=63287, reference=<Nucleotide.A: 0>, read=<Nucleotide.G: 2>, quality=7),\n",
       " Mismatch(reference_position=63290, reference=<Nucleotide.T: 3>, read=<Nucleotide.A: 0>, quality=6),\n",
       " Mismatch(reference_position=63307, reference=<Nucleotide.C: 1>, read=<Nucleotide.T: 3>, quality=5),\n",
       " Mismatch(reference_position=63344, reference=<Nucleotide.T: 3>, read=<Nucleotide.A: 0>, quality=15),\n",
       " Mismatch(reference_position=63365, reference=<Nucleotide.G: 2>, read=<Nucleotide.T: 3>, quality=3),\n",
       " Mismatch(reference_position=63376, reference=<Nucleotide.C: 1>, read=<Nucleotide.T: 3>, quality=11),\n",
       " Mismatch(reference_position=63377, reference=<Nucleotide.C: 1>, read=<Nucleotide.A: 0>, quality=16),\n",
       " Mismatch(reference_position=63378, reference=<Nucleotide.C: 1>, read=<Nucleotide.A: 0>, quality=16),\n",
       " Mismatch(reference_position=63380, reference=<Nucleotide.T: 3>, read=<Nucleotide.G: 2>, quality=8),\n",
       " Mismatch(reference_position=63381, reference=<Nucleotide.A: 0>, read=<Nucleotide.G: 2>, quality=6),\n",
       " Mismatch(reference_position=63382, reference=<Nucleotide.A: 0>, read=<Nucleotide.C: 1>, quality=2),\n",
       " Mismatch(reference_position=63416, reference=<Nucleotide.T: 3>, read=<Nucleotide.C: 1>, quality=8),\n",
       " Mismatch(reference_position=63437, reference=<Nucleotide.G: 2>, read=<Nucleotide.T: 3>, quality=2),\n",
       " Mismatch(reference_position=63438, reference=<Nucleotide.A: 0>, read=<Nucleotide.G: 2>, quality=4),\n",
       " Mismatch(reference_position=63463, reference=<Nucleotide.A: 0>, read=<Nucleotide.T: 3>, quality=3),\n",
       " Mismatch(reference_position=63470, reference=<Nucleotide.A: 0>, read=<Nucleotide.G: 2>, quality=3),\n",
       " Mismatch(reference_position=63506, reference=<Nucleotide.T: 3>, read=<Nucleotide.A: 0>, quality=3),\n",
       " Mismatch(reference_position=63610, reference=<Nucleotide.G: 2>, read=<Nucleotide.A: 0>, quality=5),\n",
       " Mismatch(reference_position=63623, reference=<Nucleotide.G: 2>, read=<Nucleotide.A: 0>, quality=3),\n",
       " Mismatch(reference_position=63632, reference=<Nucleotide.G: 2>, read=<Nucleotide.A: 0>, quality=4),\n",
       " Mismatch(reference_position=63633, reference=<Nucleotide.G: 2>, read=<Nucleotide.C: 1>, quality=4),\n",
       " Mismatch(reference_position=63635, reference=<Nucleotide.G: 2>, read=<Nucleotide.T: 3>, quality=4),\n",
       " Mismatch(reference_position=63638, reference=<Nucleotide.T: 3>, read=<Nucleotide.G: 2>, quality=2),\n",
       " Mismatch(reference_position=63639, reference=<Nucleotide.T: 3>, read=<Nucleotide.A: 0>, quality=3),\n",
       " Mismatch(reference_position=63640, reference=<Nucleotide.A: 0>, read=<Nucleotide.G: 2>, quality=1),\n",
       " Mismatch(reference_position=63642, reference=<Nucleotide.T: 3>, read=<Nucleotide.C: 1>, quality=3),\n",
       " Mismatch(reference_position=63643, reference=<Nucleotide.T: 3>, read=<Nucleotide.G: 2>, quality=3),\n",
       " Mismatch(reference_position=63644, reference=<Nucleotide.T: 3>, read=<Nucleotide.C: 1>, quality=5),\n",
       " Mismatch(reference_position=63648, reference=<Nucleotide.T: 3>, read=<Nucleotide.C: 1>, quality=4),\n",
       " Mismatch(reference_position=63678, reference=<Nucleotide.C: 1>, read=<Nucleotide.T: 3>, quality=4),\n",
       " Mismatch(reference_position=63734, reference=<Nucleotide.G: 2>, read=<Nucleotide.A: 0>, quality=6),\n",
       " Mismatch(reference_position=63798, reference=<Nucleotide.C: 1>, read=<Nucleotide.T: 3>, quality=15),\n",
       " Mismatch(reference_position=63845, reference=<Nucleotide.A: 0>, read=<Nucleotide.G: 2>, quality=7),\n",
       " Mismatch(reference_position=63846, reference=<Nucleotide.C: 1>, read=<Nucleotide.T: 3>, quality=2),\n",
       " Mismatch(reference_position=64012, reference=<Nucleotide.T: 3>, read=<Nucleotide.G: 2>, quality=4),\n",
       " Mismatch(reference_position=64013, reference=<Nucleotide.T: 3>, read=<Nucleotide.G: 2>, quality=3),\n",
       " Mismatch(reference_position=64243, reference=<Nucleotide.G: 2>, read=<Nucleotide.A: 0>, quality=6),\n",
       " Mismatch(reference_position=64283, reference=<Nucleotide.C: 1>, read=<Nucleotide.T: 3>, quality=10),\n",
       " Mismatch(reference_position=64290, reference=<Nucleotide.G: 2>, read=<Nucleotide.A: 0>, quality=7),\n",
       " Mismatch(reference_position=64306, reference=<Nucleotide.C: 1>, read=<Nucleotide.A: 0>, quality=5),\n",
       " Mismatch(reference_position=64322, reference=<Nucleotide.C: 1>, read=<Nucleotide.T: 3>, quality=3),\n",
       " Mismatch(reference_position=64333, reference=<Nucleotide.C: 1>, read=<Nucleotide.A: 0>, quality=2),\n",
       " Mismatch(reference_position=64343, reference=<Nucleotide.C: 1>, read=<Nucleotide.A: 0>, quality=2),\n",
       " Mismatch(reference_position=64344, reference=<Nucleotide.T: 3>, read=<Nucleotide.C: 1>, quality=3),\n",
       " Mismatch(reference_position=64345, reference=<Nucleotide.G: 2>, read=<Nucleotide.A: 0>, quality=7),\n",
       " Mismatch(reference_position=64347, reference=<Nucleotide.G: 2>, read=<Nucleotide.T: 3>, quality=6),\n",
       " Mismatch(reference_position=64423, reference=<Nucleotide.G: 2>, read=<Nucleotide.A: 0>, quality=3),\n",
       " Mismatch(reference_position=64464, reference=<Nucleotide.G: 2>, read=<Nucleotide.A: 0>, quality=4),\n",
       " Mismatch(reference_position=64465, reference=<Nucleotide.C: 1>, read=<Nucleotide.T: 3>, quality=2),\n",
       " Mismatch(reference_position=64466, reference=<Nucleotide.C: 1>, read=<Nucleotide.A: 0>, quality=5),\n",
       " Mismatch(reference_position=64517, reference=<Nucleotide.G: 2>, read=<Nucleotide.C: 1>, quality=3),\n",
       " Mismatch(reference_position=64519, reference=<Nucleotide.C: 1>, read=<Nucleotide.G: 2>, quality=3),\n",
       " Mismatch(reference_position=64555, reference=<Nucleotide.A: 0>, read=<Nucleotide.G: 2>, quality=7),\n",
       " Mismatch(reference_position=64580, reference=<Nucleotide.G: 2>, read=<Nucleotide.A: 0>, quality=6),\n",
       " Mismatch(reference_position=64590, reference=<Nucleotide.C: 1>, read=<Nucleotide.T: 3>, quality=4),\n",
       " Mismatch(reference_position=64600, reference=<Nucleotide.G: 2>, read=<Nucleotide.A: 0>, quality=7),\n",
       " Mismatch(reference_position=64602, reference=<Nucleotide.A: 0>, read=<Nucleotide.C: 1>, quality=2),\n",
       " Mismatch(reference_position=64603, reference=<Nucleotide.A: 0>, read=<Nucleotide.G: 2>, quality=1),\n",
       " Mismatch(reference_position=64651, reference=<Nucleotide.G: 2>, read=<Nucleotide.T: 3>, quality=8),\n",
       " Mismatch(reference_position=64730, reference=<Nucleotide.A: 0>, read=<Nucleotide.G: 2>, quality=11),\n",
       " Mismatch(reference_position=64731, reference=<Nucleotide.T: 3>, read=<Nucleotide.G: 2>, quality=10),\n",
       " Mismatch(reference_position=64749, reference=<Nucleotide.A: 0>, read=<Nucleotide.G: 2>, quality=3),\n",
       " Mismatch(reference_position=64767, reference=<Nucleotide.T: 3>, read=<Nucleotide.G: 2>, quality=3),\n",
       " Mismatch(reference_position=64768, reference=<Nucleotide.A: 0>, read=<Nucleotide.C: 1>, quality=4),\n",
       " Mismatch(reference_position=64769, reference=<Nucleotide.T: 3>, read=<Nucleotide.C: 1>, quality=3),\n",
       " Mismatch(reference_position=64776, reference=<Nucleotide.T: 3>, read=<Nucleotide.A: 0>, quality=4),\n",
       " Mismatch(reference_position=64824, reference=<Nucleotide.A: 0>, read=<Nucleotide.G: 2>, quality=3),\n",
       " Mismatch(reference_position=64835, reference=<Nucleotide.A: 0>, read=<Nucleotide.G: 2>, quality=4),\n",
       " Mismatch(reference_position=64917, reference=<Nucleotide.G: 2>, read=<Nucleotide.A: 0>, quality=2),\n",
       " Mismatch(reference_position=64976, reference=<Nucleotide.C: 1>, read=<Nucleotide.T: 3>, quality=5),\n",
       " Mismatch(reference_position=64977, reference=<Nucleotide.A: 0>, read=<Nucleotide.G: 2>, quality=4),\n",
       " Mismatch(reference_position=64990, reference=<Nucleotide.T: 3>, read=<Nucleotide.A: 0>, quality=2),\n",
       " Mismatch(reference_position=65014, reference=<Nucleotide.G: 2>, read=<Nucleotide.T: 3>, quality=7),\n",
       " Mismatch(reference_position=65015, reference=<Nucleotide.C: 1>, read=<Nucleotide.A: 0>, quality=3),\n",
       " Mismatch(reference_position=65016, reference=<Nucleotide.C: 1>, read=<Nucleotide.T: 3>, quality=5),\n",
       " Mismatch(reference_position=65017, reference=<Nucleotide.C: 1>, read=<Nucleotide.T: 3>, quality=7),\n",
       " Mismatch(reference_position=65100, reference=<Nucleotide.A: 0>, read=<Nucleotide.G: 2>, quality=9),\n",
       " Mismatch(reference_position=65101, reference=<Nucleotide.T: 3>, read=<Nucleotide.G: 2>, quality=11),\n",
       " Mismatch(reference_position=65159, reference=<Nucleotide.T: 3>, read=<Nucleotide.G: 2>, quality=2),\n",
       " Mismatch(reference_position=65160, reference=<Nucleotide.T: 3>, read=<Nucleotide.C: 1>, quality=2)]"
      ]
     },
     "execution_count": 78,
     "metadata": {},
     "output_type": "execute_result"
    }
   ],
   "source": [
    "r.get_mismatches(bim)"
   ]
  },
  {
   "cell_type": "code",
   "execution_count": null,
   "metadata": {
    "collapsed": true
   },
   "outputs": [],
   "source": []
  },
  {
   "cell_type": "code",
   "execution_count": null,
   "metadata": {
    "collapsed": true
   },
   "outputs": [],
   "source": [
    "poly_sites = bim.get_bp(20)[0 : 131]"
   ]
  },
  {
   "cell_type": "code",
   "execution_count": 33,
   "metadata": {
    "collapsed": false
   },
   "outputs": [
    {
     "name": "stdout",
     "output_type": "stream",
     "text": [
      "(0, 131)\n"
     ]
    }
   ],
   "source": [
    "print(hb.bim_idx_l, hb.bim_idx_r)"
   ]
  },
  {
   "cell_type": "code",
   "execution_count": 43,
   "metadata": {
    "collapsed": false
   },
   "outputs": [],
   "source": [
    "poly_sites = bim.get_bp(20)[hb.bim_idx_l : hb.bim_idx_r]"
   ]
  },
  {
   "cell_type": "code",
   "execution_count": 42,
   "metadata": {
    "collapsed": false
   },
   "outputs": [
    {
     "data": {
      "text/plain": [
       "array([], dtype=int64)"
      ]
     },
     "execution_count": 42,
     "metadata": {},
     "output_type": "execute_result"
    }
   ],
   "source": [
    "poly_sites[hb.haps[0] == 1]"
   ]
  },
  {
   "cell_type": "code",
   "execution_count": 31,
   "metadata": {
    "collapsed": false
   },
   "outputs": [
    {
     "data": {
      "text/plain": [
       "(0, 134)"
      ]
     },
     "execution_count": 31,
     "metadata": {},
     "output_type": "execute_result"
    }
   ],
   "source": [
    "r.get_bim_interval(bim)"
   ]
  },
  {
   "cell_type": "code",
   "execution_count": 50,
   "metadata": {
    "collapsed": false
   },
   "outputs": [
    {
     "data": {
      "text/plain": [
       "array([60992, 61171, 61220, 63344, 63377, 63378, 63798])"
      ]
     },
     "execution_count": 50,
     "metadata": {},
     "output_type": "execute_result"
    }
   ],
   "source": [
    "r.get_mismatches_pos()"
   ]
  },
  {
   "cell_type": "code",
   "execution_count": 48,
   "metadata": {
    "collapsed": false
   },
   "outputs": [
    {
     "data": {
      "text/plain": [
       "array([0, 0, 0, 0, 0, 0, 0, 0, 0, 0, 0, 0, 0, 0, 0, 0, 0, 0, 0, 0, 0, 0, 0,\n",
       "       0, 0, 0, 0, 0, 0, 0, 0, 0, 0, 0, 0, 0, 0, 0, 0, 0, 0, 0, 0, 0, 0, 0,\n",
       "       0, 0, 0, 0, 0, 0, 0, 0, 0, 0, 0, 0, 0, 0, 0, 0, 0, 0, 0, 0, 0, 0, 0,\n",
       "       0, 0, 0, 0, 0, 0, 0, 0, 0, 0, 0, 0, 0, 0, 0, 0, 0, 0, 0, 0, 0, 0, 0,\n",
       "       0, 0, 0, 0, 0, 0, 0, 0, 0, 0, 0, 0, 0, 0, 0, 0, 0, 0, 0, 0, 0, 0, 0,\n",
       "       0, 0, 0, 0, 0, 0, 0, 0, 0, 0, 0, 0, 0, 0, 0, 0], dtype=int8)"
      ]
     },
     "execution_count": 48,
     "metadata": {},
     "output_type": "execute_result"
    }
   ],
   "source": [
    "hb.haps[0]"
   ]
  },
  {
   "cell_type": "code",
   "execution_count": 47,
   "metadata": {
    "collapsed": false
   },
   "outputs": [
    {
     "data": {
      "text/plain": [
       "array([0, 0, 0, 0, 0, 0, 0, 0, 0, 0, 0, 0, 0, 0, 0, 0, 0, 0, 0, 1, 0, 1, 0,\n",
       "       0, 0, 0, 0, 0, 0, 0, 0, 0, 0, 0, 0, 0, 0, 1, 0, 0, 0, 0, 0, 0, 0, 0,\n",
       "       0, 0, 0, 0, 0, 0, 0, 0, 0, 0, 0, 0, 0, 0, 0, 0, 0, 0, 0, 0, 0, 0, 0,\n",
       "       0, 0, 1, 0, 0, 0, 0, 0, 0, 0, 0, 0, 0, 0, 0, 0, 0, 0, 0, 0, 0, 0, 0,\n",
       "       1, 0, 0, 0, 0, 0, 0, 0, 0, 0, 0, 0, 0, 0, 0, 0, 0, 0, 0, 0, 0, 0, 0,\n",
       "       0, 0, 0, 0, 0, 0, 0, 0, 0, 0, 0, 0, 0, 0, 0, 0], dtype=int8)"
      ]
     },
     "execution_count": 47,
     "metadata": {},
     "output_type": "execute_result"
    }
   ],
   "source": [
    "hb.haps[1]"
   ]
  },
  {
   "cell_type": "code",
   "execution_count": null,
   "metadata": {
    "collapsed": true
   },
   "outputs": [],
   "source": []
  },
  {
   "cell_type": "code",
   "execution_count": null,
   "metadata": {
    "collapsed": true
   },
   "outputs": [],
   "source": []
  },
  {
   "cell_type": "code",
   "execution_count": null,
   "metadata": {
    "collapsed": true
   },
   "outputs": [],
   "source": []
  },
  {
   "cell_type": "code",
   "execution_count": null,
   "metadata": {
    "collapsed": true
   },
   "outputs": [],
   "source": []
  },
  {
   "cell_type": "code",
   "execution_count": 34,
   "metadata": {
    "collapsed": true
   },
   "outputs": [],
   "source": [
    "hb_wide = Haplotype_block(20, 60000, 90000, bim, pgen)"
   ]
  },
  {
   "cell_type": "code",
   "execution_count": 35,
   "metadata": {
    "collapsed": false
   },
   "outputs": [
    {
     "data": {
      "image/png": "[encoded data removed]",
      "text/plain": [
       "<matplotlib.figure.Figure at 0xcf01f50>"
      ]
     },
     "metadata": {},
     "output_type": "display_data"
    }
   ],
   "source": [
    "hb_wide.plot()"
   ]
  },
  {
   "cell_type": "code",
   "execution_count": 38,
   "metadata": {
    "collapsed": false
   },
   "outputs": [
    {
     "data": {
      "text/plain": [
       "1676"
      ]
     },
     "execution_count": 38,
     "metadata": {},
     "output_type": "execute_result"
    }
   ],
   "source": [
    "np.sum(hb_wide.cnts == 1)"
   ]
  },
  {
   "cell_type": "code",
   "execution_count": null,
   "metadata": {
    "collapsed": true
   },
   "outputs": [],
   "source": []
  },
  {
   "cell_type": "code",
   "execution_count": null,
   "metadata": {
    "collapsed": true
   },
   "outputs": [],
   "source": []
  },
  {
   "cell_type": "code",
   "execution_count": 116,
   "metadata": {
    "collapsed": false
   },
   "outputs": [
    {
     "data": {
      "text/plain": [
       "array([60342, 60418, 60478, 60521, 60567, 60570, 60578, 60648, 60777,\n",
       "       60794, 60807, 60809, 60825, 60827, 60863, 60894, 60915, 61043,\n",
       "       61069, 61097, 61117, 61137, 61269, 61270, 61271, 61278, 61328,\n",
       "       61387, 61408, 61436, 61449, 61516, 61537, 61637, 61650, 61710,\n",
       "       61723, 61794, 61954, 61971, 62099, 62173, 62254, 62282, 62347,\n",
       "       62386, 62419, 62460, 62470, 62477, 62544, 62552, 62555, 62587,\n",
       "       62730, 62738, 62782, 62787, 62795, 62820, 62827, 62838, 62879,\n",
       "       62945, 62954, 62974, 62999, 63007, 63053, 63154, 63230, 63243,\n",
       "       63256, 63288, 63309, 63350, 63359, 63398, 63425, 63451, 63520,\n",
       "       63540, 63547, 63552, 63554, 63558, 63585, 63635, 63695, 63697,\n",
       "       63728, 63732, 63798, 63807, 63812, 63856, 63864, 63901, 63962,\n",
       "       63966, 63976, 64015, 64061, 64149, 64150, 64153, 64174, 64185,\n",
       "       64209, 64302, 64307, 64322, 64357, 64368, 64381, 64431, 64441,\n",
       "       64452, 64508, 64525, 64538, 64583, 64602, 64624, 64664, 64671,\n",
       "       64708, 64737, 64851, 64859, 64897, 65067, 65129, 65172, 65201,\n",
       "       65239, 65250, 65287, 65334, 65336, 65434, 65467, 65496, 65531,\n",
       "       65627, 65631, 65632, 65715, 65774, 65863, 65899, 65950, 65985,\n",
       "       66020, 66026, 66092, 66093, 66247, 66339, 66369, 66403, 66670,\n",
       "       66672, 66704, 66737, 66772, 66826, 66939, 67000, 67019, 67020,\n",
       "       67026, 67029, 67045, 67055, 67058, 67059, 67061, 67081, 67090,\n",
       "       67183, 67184, 67397, 67441, 67460, 67481, 67485, 67499, 67553,\n",
       "       67573, 67589, 67598, 67623, 67640, 67643, 67696, 67759, 67764,\n",
       "       67772, 67904, 67930, 67937, 67949, 68005, 68046, 68097, 68130,\n",
       "       68169, 68181, 68191, 68194, 68204, 68263, 68265, 68302, 68318,\n",
       "       68362, 68395, 68468, 68473, 68502, 68534, 68617, 68653, 68659,\n",
       "       68666, 68719, 68748, 68752, 68792, 68795, 68798, 68809, 68944,\n",
       "       69065, 69089, 69093, 69103, 69156, 69158, 69175, 69255, 69284,\n",
       "       69354, 69373, 69407, 69444, 69445, 69480, 69591, 69625, 69667,\n",
       "       69703, 69722, 69728, 69738, 69761, 69764, 69773, 69820, 70030,\n",
       "       70091, 70204, 70397, 70483, 70489, 70491, 70504, 70784, 70830,\n",
       "       70831, 70837, 70892, 70915, 70919, 70979, 70980, 71005, 71014,\n",
       "       71076, 71077, 71078, 71092, 71272, 71279, 71280, 71385, 71388,\n",
       "       71462, 71488, 71508, 71609, 71735, 71806, 71808, 71821, 71858,\n",
       "       71876, 71938, 71943])"
      ]
     },
     "execution_count": 116,
     "metadata": {},
     "output_type": "execute_result"
    }
   ],
   "source": [
    "bim.get_bp(20)[:300]"
   ]
  },
  {
   "cell_type": "code",
   "execution_count": null,
   "metadata": {
    "collapsed": true
   },
   "outputs": [],
   "source": []
  },
  {
   "cell_type": "code",
   "execution_count": null,
   "metadata": {
    "collapsed": true
   },
   "outputs": [],
   "source": []
  },
  {
   "cell_type": "code",
   "execution_count": 71,
   "metadata": {
    "collapsed": false
   },
   "outputs": [
    {
     "data": {
      "text/plain": [
       "array([[0, 0, 0, ..., 0, 0, 0],\n",
       "       [0, 0, 0, ..., 0, 0, 0],\n",
       "       [0, 0, 0, ..., 0, 0, 0],\n",
       "       ..., \n",
       "       [0, 0, 0, ..., 0, 0, 0],\n",
       "       [0, 0, 0, ..., 0, 1, 0],\n",
       "       [0, 0, 0, ..., 0, 0, 0]], dtype=int8)"
      ]
     },
     "execution_count": 71,
     "metadata": {},
     "output_type": "execute_result"
    }
   ],
   "source": [
    "hb.haps"
   ]
  },
  {
   "cell_type": "code",
   "execution_count": 72,
   "metadata": {
    "collapsed": false
   },
   "outputs": [
    {
     "data": {
      "text/plain": [
       "array([1985,  563,  510,  459,  192,  183,  176,  164,  104,   85,   70,\n",
       "         50,   27,   26,   18,   16,   16,   15,   13,   13,   10,    9,\n",
       "          9,    9,    9,    8,    8,    8,    7,    6,    6,    6,    6,\n",
       "          5,    5,    5,    5,    5,    5,    4,    4,    4,    4,    4,\n",
       "          3,    3,    3,    3,    3,    3,    3,    3,    3,    3,    3,\n",
       "          3,    2,    2,    2,    2,    2,    2,    2,    2,    2,    2,\n",
       "          2,    2,    2,    2,    2,    2,    2,    2,    2,    2,    2,\n",
       "          2,    1,    1,    1,    1,    1,    1,    1,    1,    1,    1,\n",
       "          1,    1,    1,    1,    1,    1,    1,    1,    1,    1,    1,\n",
       "          1,    1,    1,    1,    1,    1,    1,    1,    1,    1,    1,\n",
       "          1,    1,    1,    1,    1,    1,    1,    1,    1,    1,    1,\n",
       "          1,    1,    1,    1,    1,    1,    1,    1,    1,    1,    1,\n",
       "          1,    1,    1,    1,    1,    1,    1,    1,    1,    1,    1,\n",
       "          1,    1,    1,    1,    1,    1,    1,    1,    1,    1,    1,\n",
       "          1,    1,    1,    1,    1,    1,    1,    1,    1,    1,    1,\n",
       "          1,    1,    1,    1,    1])"
      ]
     },
     "execution_count": 72,
     "metadata": {},
     "output_type": "execute_result"
    }
   ],
   "source": [
    "hb.cnts"
   ]
  },
  {
   "cell_type": "code",
   "execution_count": 73,
   "metadata": {
    "collapsed": false
   },
   "outputs": [
    {
     "data": {
      "text/plain": [
       "(0, 134)"
      ]
     },
     "execution_count": 73,
     "metadata": {},
     "output_type": "execute_result"
    }
   ],
   "source": [
    "# indices are \n",
    "bim.find_index_interval(r.reference_chr, r.reference_start, r.reference_end)"
   ]
  },
  {
   "cell_type": "code",
   "execution_count": 75,
   "metadata": {
    "collapsed": false
   },
   "outputs": [
    {
     "data": {
      "text/plain": [
       "array([], dtype=float64)"
      ]
     },
     "execution_count": 75,
     "metadata": {},
     "output_type": "execute_result"
    }
   ],
   "source": [
    "r.get_mismatches_polymorphic(bim)"
   ]
  },
  {
   "cell_type": "code",
   "execution_count": 76,
   "metadata": {
    "collapsed": false
   },
   "outputs": [
    {
     "data": {
      "text/plain": [
       "[Mismatch(reference_position=60992, reference=<Nucleotide.G: 2>, read=<Nucleotide.T: 3>, quality=14),\n",
       " Mismatch(reference_position=61171, reference=<Nucleotide.A: 0>, read=<Nucleotide.T: 3>, quality=14),\n",
       " Mismatch(reference_position=61220, reference=<Nucleotide.G: 2>, read=<Nucleotide.A: 0>, quality=17),\n",
       " Mismatch(reference_position=63344, reference=<Nucleotide.T: 3>, read=<Nucleotide.A: 0>, quality=15),\n",
       " Mismatch(reference_position=63377, reference=<Nucleotide.C: 1>, read=<Nucleotide.A: 0>, quality=16),\n",
       " Mismatch(reference_position=63378, reference=<Nucleotide.C: 1>, read=<Nucleotide.A: 0>, quality=16),\n",
       " Mismatch(reference_position=63798, reference=<Nucleotide.C: 1>, read=<Nucleotide.T: 3>, quality=15)]"
      ]
     },
     "execution_count": 76,
     "metadata": {},
     "output_type": "execute_result"
    }
   ],
   "source": [
    "r.get_mismatches()"
   ]
  },
  {
   "cell_type": "code",
   "execution_count": null,
   "metadata": {
    "collapsed": true
   },
   "outputs": [],
   "source": []
  },
  {
   "cell_type": "code",
   "execution_count": null,
   "metadata": {
    "collapsed": true
   },
   "outputs": [],
   "source": []
  },
  {
   "cell_type": "code",
   "execution_count": null,
   "metadata": {
    "collapsed": true
   },
   "outputs": [],
   "source": []
  },
  {
   "cell_type": "code",
   "execution_count": null,
   "metadata": {
    "collapsed": true
   },
   "outputs": [],
   "source": []
  },
  {
   "cell_type": "code",
   "execution_count": 26,
   "metadata": {
    "collapsed": false
   },
   "outputs": [
    {
     "data": {
      "text/plain": [
       "(20, 59980, 65177)"
      ]
     },
     "execution_count": 26,
     "metadata": {},
     "output_type": "execute_result"
    }
   ],
   "source": [
    "# the first read spans\n",
    "r.reference_chr, r.reference_start, r.reference_end"
   ]
  },
  {
   "cell_type": "code",
   "execution_count": null,
   "metadata": {
    "collapsed": true
   },
   "outputs": [],
   "source": []
  },
  {
   "cell_type": "code",
   "execution_count": 28,
   "metadata": {
    "collapsed": false
   },
   "outputs": [
    {
     "data": {
      "text/html": [
       "<div>\n",
       "<table border=\"1\" class=\"dataframe\">\n",
       "  <thead>\n",
       "    <tr style=\"text-align: right;\">\n",
       "      <th></th>\n",
       "      <th>chr</th>\n",
       "      <th>id</th>\n",
       "      <th>morgan</th>\n",
       "      <th>bp</th>\n",
       "      <th>allele_1</th>\n",
       "      <th>allele_2</th>\n",
       "    </tr>\n",
       "  </thead>\n",
       "  <tbody>\n",
       "    <tr>\n",
       "      <th>0</th>\n",
       "      <td>20</td>\n",
       "      <td>rs527639301</td>\n",
       "      <td>0</td>\n",
       "      <td>60343</td>\n",
       "      <td>A</td>\n",
       "      <td>G</td>\n",
       "    </tr>\n",
       "    <tr>\n",
       "      <th>1</th>\n",
       "      <td>20</td>\n",
       "      <td>rs538242240</td>\n",
       "      <td>0</td>\n",
       "      <td>60419</td>\n",
       "      <td>G</td>\n",
       "      <td>A</td>\n",
       "    </tr>\n",
       "    <tr>\n",
       "      <th>2</th>\n",
       "      <td>20</td>\n",
       "      <td>rs149529999</td>\n",
       "      <td>0</td>\n",
       "      <td>60479</td>\n",
       "      <td>T</td>\n",
       "      <td>C</td>\n",
       "    </tr>\n",
       "    <tr>\n",
       "      <th>3</th>\n",
       "      <td>20</td>\n",
       "      <td>rs150241001</td>\n",
       "      <td>0</td>\n",
       "      <td>60522</td>\n",
       "      <td>TC</td>\n",
       "      <td>T</td>\n",
       "    </tr>\n",
       "    <tr>\n",
       "      <th>4</th>\n",
       "      <td>20</td>\n",
       "      <td>rs533509214</td>\n",
       "      <td>0</td>\n",
       "      <td>60568</td>\n",
       "      <td>C</td>\n",
       "      <td>A</td>\n",
       "    </tr>\n",
       "  </tbody>\n",
       "</table>\n",
       "</div>"
      ],
      "text/plain": [
       "   chr           id  morgan     bp allele_1 allele_2\n",
       "0   20  rs527639301       0  60343        A        G\n",
       "1   20  rs538242240       0  60419        G        A\n",
       "2   20  rs149529999       0  60479        T        C\n",
       "3   20  rs150241001       0  60522       TC        T\n",
       "4   20  rs533509214       0  60568        C        A"
      ]
     },
     "execution_count": 28,
     "metadata": {},
     "output_type": "execute_result"
    }
   ],
   "source": [
    "bim.raw_tables['20'].head()"
   ]
  },
  {
   "cell_type": "code",
   "execution_count": 29,
   "metadata": {
    "collapsed": false
   },
   "outputs": [
    {
     "name": "stdout",
     "output_type": "stream",
     "text": [
      "g\n",
      "a\n",
      "c\n",
      "t\n",
      "a\n"
     ]
    }
   ],
   "source": [
    "for bp in bim.get_bp(20)[:5]:\n",
    "    print reference.fetch(reference = 'chr20', start     = bp, end       = bp + 1)"
   ]
  },
  {
   "cell_type": "code",
   "execution_count": 30,
   "metadata": {
    "collapsed": false
   },
   "outputs": [
    {
     "data": {
      "text/plain": [
       "(0, 134)"
      ]
     },
     "execution_count": 30,
     "metadata": {},
     "output_type": "execute_result"
    }
   ],
   "source": [
    "# indices are \n",
    "bim.find_index_interval(r.reference_chr, r.reference_start, r.reference_end)"
   ]
  },
  {
   "cell_type": "code",
   "execution_count": 31,
   "metadata": {
    "collapsed": false
   },
   "outputs": [],
   "source": [
    "# haplotypes are\n",
    "haps = pgen.read_haplotype(r.reference_chr, 0, 134)"
   ]
  },
  {
   "cell_type": "code",
   "execution_count": 32,
   "metadata": {
    "collapsed": false
   },
   "outputs": [
    {
     "name": "stdout",
     "output_type": "stream",
     "text": [
      "Hap_20:0-134_00000000000000000000000000000000000001000000000000000010000000000000000000000000000000000000100000000000000000000000000000000000000000\n"
     ]
    }
   ],
   "source": [
    "print haps[0]"
   ]
  },
  {
   "cell_type": "code",
   "execution_count": 33,
   "metadata": {
    "collapsed": false
   },
   "outputs": [
    {
     "name": "stdout",
     "output_type": "stream",
     "text": [
      "Hap_20:0-134_00000000000000000000000000000000000000000000000000000000000000000000000000000000000000000000000000000000000000000000000000000000000000\n"
     ]
    }
   ],
   "source": [
    "print haps[1]"
   ]
  },
  {
   "cell_type": "code",
   "execution_count": 34,
   "metadata": {
    "collapsed": false
   },
   "outputs": [
    {
     "data": {
      "text/plain": [
       "3"
      ]
     },
     "execution_count": 34,
     "metadata": {},
     "output_type": "execute_result"
    }
   ],
   "source": [
    "haps[0].dist(haps[1])"
   ]
  },
  {
   "cell_type": "raw",
   "metadata": {},
   "source": [
    "    def read_haplotype(self, chromosome, index_l, index_r):\n",
    "        pgen = self.get_pgen(chromosome)\n",
    "        sample_ct = pgen.get_raw_sample_ct()\n",
    "        alleles_list = np.zeros((index_r - index_l, 2 * sample_ct),\n",
    "                                dtype = np.int32)\n",
    "        pgen.read_alleles_range(index_l, index_r, alleles_list)\n",
    "        return([Haplotype(chromosome, index_l, index_r, alleles_list[:, i]) \n",
    "                for i in range(alleles_list.shape[1])])"
   ]
  },
  {
   "cell_type": "code",
   "execution_count": 44,
   "metadata": {
    "collapsed": true
   },
   "outputs": [
    {
     "data": {
      "text/plain": [
       "[<haplotype.Haplotype instance at 0xc41d758>,\n",
       " <haplotype.Haplotype instance at 0xc41c1b8>,\n",
       " <haplotype.Haplotype instance at 0xc41cdd0>,\n",
       " <haplotype.Haplotype instance at 0xc41cbd8>,\n",
       " <haplotype.Haplotype instance at 0xc41ccb0>,\n",
       " <haplotype.Haplotype instance at 0xc41cb48>,\n",
       " <haplotype.Haplotype instance at 0xc41c998>,\n",
       " <haplotype.Haplotype instance at 0xc41cc68>,\n",
       " <haplotype.Haplotype instance at 0xc41ca70>,\n",
       " <haplotype.Haplotype instance at 0xc41ca28>,\n",
       " <haplotype.Haplotype instance at 0xc41c878>,\n",
       " <haplotype.Haplotype instance at 0xc41cb00>,\n",
       " <haplotype.Haplotype instance at 0xc41c950>,\n",
       " <haplotype.Haplotype instance at 0xc41c908>,\n",
       " <haplotype.Haplotype instance at 0xc41c710>,\n",
       " <haplotype.Haplotype instance at 0xc41c9e0>,\n",
       " <haplotype.Haplotype instance at 0xc41c830>,\n",
       " <haplotype.Haplotype instance at 0xc41c7a0>,\n",
       " <haplotype.Haplotype instance at 0xc41c5f0>,\n",
       " <haplotype.Haplotype instance at 0xc41c8c0>,\n",
       " <haplotype.Haplotype instance at 0xc41c6c8>,\n",
       " <haplotype.Haplotype instance at 0xc41c680>,\n",
       " <haplotype.Haplotype instance at 0xc41c488>,\n",
       " <haplotype.Haplotype instance at 0xc41c758>,\n",
       " <haplotype.Haplotype instance at 0xc41c5a8>,\n",
       " <haplotype.Haplotype instance at 0xc41c518>,\n",
       " <haplotype.Haplotype instance at 0xc41c320>,\n",
       " <haplotype.Haplotype instance at 0xc41c638>,\n",
       " <haplotype.Haplotype instance at 0xc41c440>,\n",
       " <haplotype.Haplotype instance at 0xc41c3b0>,\n",
       " <haplotype.Haplotype instance at 0xc41c4d0>,\n",
       " <haplotype.Haplotype instance at 0xc41c2d8>,\n",
       " <haplotype.Haplotype instance at 0xc41c248>,\n",
       " <haplotype.Haplotype instance at 0xc41c098>,\n",
       " <haplotype.Haplotype instance at 0xc41c368>,\n",
       " <haplotype.Haplotype instance at 0xc41c170>,\n",
       " <haplotype.Haplotype instance at 0xc41c128>,\n",
       " <haplotype.Haplotype instance at 0xc41c200>,\n",
       " <haplotype.Haplotype instance at 0xc41c050>,\n",
       " <haplotype.Haplotype instance at 0xc41c0e0>,\n",
       " <haplotype.Haplotype instance at 0xc41bc20>,\n",
       " <haplotype.Haplotype instance at 0xc41b320>,\n",
       " <haplotype.Haplotype instance at 0xc41bea8>,\n",
       " <haplotype.Haplotype instance at 0xc41bab8>,\n",
       " <haplotype.Haplotype instance at 0xc41b1b8>,\n",
       " <haplotype.Haplotype instance at 0xc41b830>,\n",
       " <haplotype.Haplotype instance at 0xc41b5a8>,\n",
       " <haplotype.Haplotype instance at 0xc41b8c0>,\n",
       " <haplotype.Haplotype instance at 0xc41bf38>,\n",
       " <haplotype.Haplotype instance at 0xc41bfc8>,\n",
       " <haplotype.Haplotype instance at 0xc41bdd0>,\n",
       " <haplotype.Haplotype instance at 0xc41bef0>,\n",
       " <haplotype.Haplotype instance at 0xc41be60>,\n",
       " <haplotype.Haplotype instance at 0xc41bcb0>,\n",
       " <haplotype.Haplotype instance at 0xc41bf80>,\n",
       " <haplotype.Haplotype instance at 0xc41bd88>,\n",
       " <haplotype.Haplotype instance at 0xc41bd40>,\n",
       " <haplotype.Haplotype instance at 0xc41bb48>,\n",
       " <haplotype.Haplotype instance at 0xc41be18>,\n",
       " <haplotype.Haplotype instance at 0xc41bc68>,\n",
       " <haplotype.Haplotype instance at 0xc41bbd8>,\n",
       " <haplotype.Haplotype instance at 0xc41b9e0>,\n",
       " <haplotype.Haplotype instance at 0xc41bcf8>,\n",
       " <haplotype.Haplotype instance at 0xc41bb00>,\n",
       " <haplotype.Haplotype instance at 0xc41ba70>,\n",
       " <haplotype.Haplotype instance at 0xc41bb90>,\n",
       " <haplotype.Haplotype instance at 0xc41b998>,\n",
       " <haplotype.Haplotype instance at 0xc41b950>,\n",
       " <haplotype.Haplotype instance at 0xc41b758>,\n",
       " <haplotype.Haplotype instance at 0xc41ba28>,\n",
       " <haplotype.Haplotype instance at 0xc41b878>,\n",
       " <haplotype.Haplotype instance at 0xc41b7e8>,\n",
       " <haplotype.Haplotype instance at 0xc41b638>,\n",
       " <haplotype.Haplotype instance at 0xc41b908>,\n",
       " <haplotype.Haplotype instance at 0xc41b710>,\n",
       " <haplotype.Haplotype instance at 0xc41b6c8>,\n",
       " <haplotype.Haplotype instance at 0xc41b4d0>,\n",
       " <haplotype.Haplotype instance at 0xc41b7a0>,\n",
       " <haplotype.Haplotype instance at 0xc41b5f0>,\n",
       " <haplotype.Haplotype instance at 0xc41b560>,\n",
       " <haplotype.Haplotype instance at 0xc41b3b0>,\n",
       " <haplotype.Haplotype instance at 0xc41b680>,\n",
       " <haplotype.Haplotype instance at 0xc41b488>,\n",
       " <haplotype.Haplotype instance at 0xc41b440>,\n",
       " <haplotype.Haplotype instance at 0xc41b248>,\n",
       " <haplotype.Haplotype instance at 0xc41b518>,\n",
       " <haplotype.Haplotype instance at 0xc41b368>,\n",
       " <haplotype.Haplotype instance at 0xc41b2d8>,\n",
       " <haplotype.Haplotype instance at 0xc41b0e0>,\n",
       " <haplotype.Haplotype instance at 0xc41b3f8>,\n",
       " <haplotype.Haplotype instance at 0xc41b200>,\n",
       " <haplotype.Haplotype instance at 0xc41b170>,\n",
       " <haplotype.Haplotype instance at 0xc41b290>,\n",
       " <haplotype.Haplotype instance at 0xc41b098>,\n",
       " <haplotype.Haplotype instance at 0xc41b128>,\n",
       " <haplotype.Haplotype instance at 0xc41af38>,\n",
       " <haplotype.Haplotype instance at 0xc41a638>,\n",
       " <haplotype.Haplotype instance at 0xc41afc8>,\n",
       " <haplotype.Haplotype instance at 0xc41ae18>,\n",
       " <haplotype.Haplotype instance at 0xc41aef0>,\n",
       " <haplotype.Haplotype instance at 0xc41aea8>,\n",
       " <haplotype.Haplotype instance at 0xc41acf8>,\n",
       " <haplotype.Haplotype instance at 0xc41af80>,\n",
       " <haplotype.Haplotype instance at 0xc41add0>,\n",
       " <haplotype.Haplotype instance at 0xc41ad88>,\n",
       " <haplotype.Haplotype instance at 0xc41ab90>,\n",
       " <haplotype.Haplotype instance at 0xc41ae60>,\n",
       " <haplotype.Haplotype instance at 0xc41acb0>,\n",
       " <haplotype.Haplotype instance at 0xc41ac20>,\n",
       " <haplotype.Haplotype instance at 0xc41aa70>,\n",
       " <haplotype.Haplotype instance at 0xc41ad40>,\n",
       " <haplotype.Haplotype instance at 0xc41ab48>,\n",
       " <haplotype.Haplotype instance at 0xc41ab00>,\n",
       " <haplotype.Haplotype instance at 0xc41a908>,\n",
       " <haplotype.Haplotype instance at 0xc41abd8>,\n",
       " <haplotype.Haplotype instance at 0xc41aa28>,\n",
       " <haplotype.Haplotype instance at 0xc41a998>,\n",
       " <haplotype.Haplotype instance at 0xc41a7a0>,\n",
       " <haplotype.Haplotype instance at 0xc41aab8>,\n",
       " <haplotype.Haplotype instance at 0xc41a8c0>,\n",
       " <haplotype.Haplotype instance at 0xc41a830>,\n",
       " <haplotype.Haplotype instance at 0xc41a950>,\n",
       " <haplotype.Haplotype instance at 0xc41a758>,\n",
       " <haplotype.Haplotype instance at 0xc41a6c8>,\n",
       " <haplotype.Haplotype instance at 0xc41a518>,\n",
       " <haplotype.Haplotype instance at 0xc41a7e8>,\n",
       " <haplotype.Haplotype instance at 0xc41a5f0>,\n",
       " <haplotype.Haplotype instance at 0xc41a5a8>,\n",
       " <haplotype.Haplotype instance at 0xc41a3f8>,\n",
       " <haplotype.Haplotype instance at 0xc41a680>,\n",
       " <haplotype.Haplotype instance at 0xc41a4d0>,\n",
       " <haplotype.Haplotype instance at 0xc41a488>,\n",
       " <haplotype.Haplotype instance at 0xc41a290>,\n",
       " <haplotype.Haplotype instance at 0xc41a560>,\n",
       " <haplotype.Haplotype instance at 0xc41a3b0>,\n",
       " <haplotype.Haplotype instance at 0xc41a320>,\n",
       " <haplotype.Haplotype instance at 0xc41a170>,\n",
       " <haplotype.Haplotype instance at 0xc41a440>,\n",
       " <haplotype.Haplotype instance at 0xc41a248>,\n",
       " <haplotype.Haplotype instance at 0xc41a200>,\n",
       " <haplotype.Haplotype instance at 0xc41a2d8>,\n",
       " <haplotype.Haplotype instance at 0xc41a128>,\n",
       " <haplotype.Haplotype instance at 0xc41a098>,\n",
       " <haplotype.Haplotype instance at 0xc41a1b8>,\n",
       " <haplotype.Haplotype instance at 0xc41a050>,\n",
       " <haplotype.Haplotype instance at 0x41f86c8>,\n",
       " <haplotype.Haplotype instance at 0x41f84d0>,\n",
       " <haplotype.Haplotype instance at 0x407d5a8>,\n",
       " <haplotype.Haplotype instance at 0xc414f38>,\n",
       " <haplotype.Haplotype instance at 0xc414e18>,\n",
       " <haplotype.Haplotype instance at 0xc414c20>,\n",
       " <haplotype.Haplotype instance at 0xc414518>,\n",
       " <haplotype.Haplotype instance at 0xc4147a0>,\n",
       " <haplotype.Haplotype instance at 0xc414dd0>,\n",
       " <haplotype.Haplotype instance at 0xc414fc8>,\n",
       " <haplotype.Haplotype instance at 0xc414ea8>,\n",
       " <haplotype.Haplotype instance at 0xc414f80>,\n",
       " <haplotype.Haplotype instance at 0xc414ef0>,\n",
       " <haplotype.Haplotype instance at 0xc414e60>,\n",
       " <haplotype.Haplotype instance at 0xc414d40>,\n",
       " <haplotype.Haplotype instance at 0xc414d88>,\n",
       " <haplotype.Haplotype instance at 0xc414cb0>,\n",
       " <haplotype.Haplotype instance at 0xc414cf8>,\n",
       " <haplotype.Haplotype instance at 0xc414bd8>,\n",
       " <haplotype.Haplotype instance at 0xc414c68>,\n",
       " <haplotype.Haplotype instance at 0xc414b48>,\n",
       " <haplotype.Haplotype instance at 0xc414b90>,\n",
       " <haplotype.Haplotype instance at 0xc414a70>,\n",
       " <haplotype.Haplotype instance at 0x41fc248>,\n",
       " <haplotype.Haplotype instance at 0x41fc830>,\n",
       " <haplotype.Haplotype instance at 0x41fc758>,\n",
       " <haplotype.Haplotype instance at 0x41fc7a0>,\n",
       " <haplotype.Haplotype instance at 0x41fc6c8>,\n",
       " <haplotype.Haplotype instance at 0x41fc710>,\n",
       " <haplotype.Haplotype instance at 0x41fc3f8>,\n",
       " <haplotype.Haplotype instance at 0x41fc680>,\n",
       " <haplotype.Haplotype instance at 0x41fc320>,\n",
       " <haplotype.Haplotype instance at 0xc3c3f80>,\n",
       " <haplotype.Haplotype instance at 0xc3c3fc8>,\n",
       " <haplotype.Haplotype instance at 0xc3c3e60>,\n",
       " <haplotype.Haplotype instance at 0xc3c3e18>,\n",
       " <haplotype.Haplotype instance at 0xc3c3680>,\n",
       " <haplotype.Haplotype instance at 0xc3c3c20>,\n",
       " <haplotype.Haplotype instance at 0xc3c3dd0>,\n",
       " <haplotype.Haplotype instance at 0xc4200e0>,\n",
       " <haplotype.Haplotype instance at 0xc420128>,\n",
       " <haplotype.Haplotype instance at 0xc420320>,\n",
       " <haplotype.Haplotype instance at 0xc4203f8>,\n",
       " <haplotype.Haplotype instance at 0xc420440>,\n",
       " <haplotype.Haplotype instance at 0xc420248>,\n",
       " <haplotype.Haplotype instance at 0xc420290>,\n",
       " <haplotype.Haplotype instance at 0xc4201b8>,\n",
       " <haplotype.Haplotype instance at 0xc420200>,\n",
       " <haplotype.Haplotype instance at 0xc420170>,\n",
       " <haplotype.Haplotype instance at 0xc420488>,\n",
       " <haplotype.Haplotype instance at 0xc4204d0>,\n",
       " <haplotype.Haplotype instance at 0xc420518>,\n",
       " <haplotype.Haplotype instance at 0xc420560>,\n",
       " <haplotype.Haplotype instance at 0xc4205a8>,\n",
       " <haplotype.Haplotype instance at 0xc4205f0>,\n",
       " <haplotype.Haplotype instance at 0xc420638>,\n",
       " <haplotype.Haplotype instance at 0xc420680>,\n",
       " <haplotype.Haplotype instance at 0xc4206c8>,\n",
       " <haplotype.Haplotype instance at 0xc420710>,\n",
       " <haplotype.Haplotype instance at 0xc420758>,\n",
       " <haplotype.Haplotype instance at 0xc4207a0>,\n",
       " <haplotype.Haplotype instance at 0xc4207e8>,\n",
       " <haplotype.Haplotype instance at 0xc420830>,\n",
       " <haplotype.Haplotype instance at 0xc420878>,\n",
       " <haplotype.Haplotype instance at 0xc4208c0>,\n",
       " <haplotype.Haplotype instance at 0xc420908>,\n",
       " <haplotype.Haplotype instance at 0xc420950>,\n",
       " <haplotype.Haplotype instance at 0xc420998>,\n",
       " <haplotype.Haplotype instance at 0xc4209e0>,\n",
       " <haplotype.Haplotype instance at 0xc420a28>,\n",
       " <haplotype.Haplotype instance at 0xc420a70>,\n",
       " <haplotype.Haplotype instance at 0xc420ab8>,\n",
       " <haplotype.Haplotype instance at 0xc420b00>,\n",
       " <haplotype.Haplotype instance at 0xc420b48>,\n",
       " <haplotype.Haplotype instance at 0xc420b90>,\n",
       " <haplotype.Haplotype instance at 0xc420bd8>,\n",
       " <haplotype.Haplotype instance at 0xc420c20>,\n",
       " <haplotype.Haplotype instance at 0xc420c68>,\n",
       " <haplotype.Haplotype instance at 0xc420cb0>,\n",
       " <haplotype.Haplotype instance at 0xc420cf8>,\n",
       " <haplotype.Haplotype instance at 0xc420d40>,\n",
       " <haplotype.Haplotype instance at 0xc420d88>,\n",
       " <haplotype.Haplotype instance at 0xc420dd0>,\n",
       " <haplotype.Haplotype instance at 0xc420e18>,\n",
       " <haplotype.Haplotype instance at 0xc420e60>,\n",
       " <haplotype.Haplotype instance at 0xc420ea8>,\n",
       " <haplotype.Haplotype instance at 0xc420ef0>,\n",
       " <haplotype.Haplotype instance at 0xc420f38>,\n",
       " <haplotype.Haplotype instance at 0xc420f80>,\n",
       " <haplotype.Haplotype instance at 0xc420fc8>,\n",
       " <haplotype.Haplotype instance at 0xc421050>,\n",
       " <haplotype.Haplotype instance at 0xc421098>,\n",
       " <haplotype.Haplotype instance at 0xc4210e0>,\n",
       " <haplotype.Haplotype instance at 0xc421128>,\n",
       " <haplotype.Haplotype instance at 0xc421170>,\n",
       " <haplotype.Haplotype instance at 0xc4211b8>,\n",
       " <haplotype.Haplotype instance at 0xc421200>,\n",
       " <haplotype.Haplotype instance at 0xc421248>,\n",
       " <haplotype.Haplotype instance at 0xc421290>,\n",
       " <haplotype.Haplotype instance at 0xc4212d8>,\n",
       " <haplotype.Haplotype instance at 0xc421320>,\n",
       " <haplotype.Haplotype instance at 0xc421368>,\n",
       " <haplotype.Haplotype instance at 0xc4213b0>,\n",
       " <haplotype.Haplotype instance at 0xc4213f8>,\n",
       " <haplotype.Haplotype instance at 0xc421440>,\n",
       " <haplotype.Haplotype instance at 0xc421488>,\n",
       " <haplotype.Haplotype instance at 0xc4214d0>,\n",
       " <haplotype.Haplotype instance at 0xc421518>,\n",
       " <haplotype.Haplotype instance at 0xc421560>,\n",
       " <haplotype.Haplotype instance at 0xc4215a8>,\n",
       " <haplotype.Haplotype instance at 0xc4215f0>,\n",
       " <haplotype.Haplotype instance at 0xc421638>,\n",
       " <haplotype.Haplotype instance at 0xc421680>,\n",
       " <haplotype.Haplotype instance at 0xc4216c8>,\n",
       " <haplotype.Haplotype instance at 0xc421710>,\n",
       " <haplotype.Haplotype instance at 0xc421758>,\n",
       " <haplotype.Haplotype instance at 0xc4217a0>,\n",
       " <haplotype.Haplotype instance at 0xc4217e8>,\n",
       " <haplotype.Haplotype instance at 0xc421830>,\n",
       " <haplotype.Haplotype instance at 0xc421878>,\n",
       " <haplotype.Haplotype instance at 0xc4218c0>,\n",
       " <haplotype.Haplotype instance at 0xc421908>,\n",
       " <haplotype.Haplotype instance at 0xc421950>,\n",
       " <haplotype.Haplotype instance at 0xc421998>,\n",
       " <haplotype.Haplotype instance at 0xc4219e0>,\n",
       " <haplotype.Haplotype instance at 0xc421a28>,\n",
       " <haplotype.Haplotype instance at 0xc421a70>,\n",
       " <haplotype.Haplotype instance at 0xc421ab8>,\n",
       " <haplotype.Haplotype instance at 0xc421b00>,\n",
       " <haplotype.Haplotype instance at 0xc421b48>,\n",
       " <haplotype.Haplotype instance at 0xc421b90>,\n",
       " <haplotype.Haplotype instance at 0xc421bd8>,\n",
       " <haplotype.Haplotype instance at 0xc421c20>,\n",
       " <haplotype.Haplotype instance at 0xc421c68>,\n",
       " <haplotype.Haplotype instance at 0xc421cb0>,\n",
       " <haplotype.Haplotype instance at 0xc421cf8>,\n",
       " <haplotype.Haplotype instance at 0xc421d40>,\n",
       " <haplotype.Haplotype instance at 0xc421d88>,\n",
       " <haplotype.Haplotype instance at 0xc421dd0>,\n",
       " <haplotype.Haplotype instance at 0xc421e18>,\n",
       " <haplotype.Haplotype instance at 0xc421e60>,\n",
       " <haplotype.Haplotype instance at 0xc421ea8>,\n",
       " <haplotype.Haplotype instance at 0xc421ef0>,\n",
       " <haplotype.Haplotype instance at 0xc421f38>,\n",
       " <haplotype.Haplotype instance at 0xc421f80>,\n",
       " <haplotype.Haplotype instance at 0xc421fc8>,\n",
       " <haplotype.Haplotype instance at 0xc423050>,\n",
       " <haplotype.Haplotype instance at 0xc423098>,\n",
       " <haplotype.Haplotype instance at 0xc4230e0>,\n",
       " <haplotype.Haplotype instance at 0xc423128>,\n",
       " <haplotype.Haplotype instance at 0xc423170>,\n",
       " <haplotype.Haplotype instance at 0xc4231b8>,\n",
       " <haplotype.Haplotype instance at 0xc423200>,\n",
       " <haplotype.Haplotype instance at 0xc423248>,\n",
       " <haplotype.Haplotype instance at 0xc423290>,\n",
       " <haplotype.Haplotype instance at 0xc4232d8>,\n",
       " <haplotype.Haplotype instance at 0xc423320>,\n",
       " <haplotype.Haplotype instance at 0xc423368>,\n",
       " <haplotype.Haplotype instance at 0xc4233b0>,\n",
       " <haplotype.Haplotype instance at 0xc4233f8>,\n",
       " <haplotype.Haplotype instance at 0xc423440>,\n",
       " <haplotype.Haplotype instance at 0xc423488>,\n",
       " <haplotype.Haplotype instance at 0xc4234d0>,\n",
       " <haplotype.Haplotype instance at 0xc423518>,\n",
       " <haplotype.Haplotype instance at 0xc423560>,\n",
       " <haplotype.Haplotype instance at 0xc4235a8>,\n",
       " <haplotype.Haplotype instance at 0x243b440>,\n",
       " <haplotype.Haplotype instance at 0x3708998>,\n",
       " <haplotype.Haplotype instance at 0x32d3248>,\n",
       " <haplotype.Haplotype instance at 0x34106c8>,\n",
       " <haplotype.Haplotype instance at 0x2661bd8>,\n",
       " <haplotype.Haplotype instance at 0x32b7c20>,\n",
       " <haplotype.Haplotype instance at 0x407fa28>,\n",
       " <haplotype.Haplotype instance at 0x407fea8>,\n",
       " <haplotype.Haplotype instance at 0x40710e0>,\n",
       " <haplotype.Haplotype instance at 0x1bc6cb0>,\n",
       " <haplotype.Haplotype instance at 0x1c24128>,\n",
       " <haplotype.Haplotype instance at 0x1d72050>,\n",
       " <haplotype.Haplotype instance at 0x1d722d8>,\n",
       " <haplotype.Haplotype instance at 0x1d72560>,\n",
       " <haplotype.Haplotype instance at 0x1d726c8>,\n",
       " <haplotype.Haplotype instance at 0x407e5a8>,\n",
       " <haplotype.Haplotype instance at 0x407eb00>,\n",
       " <haplotype.Haplotype instance at 0x407ec68>,\n",
       " <haplotype.Haplotype instance at 0x407ef80>,\n",
       " <haplotype.Haplotype instance at 0xc41b050>,\n",
       " <haplotype.Haplotype instance at 0x35db878>,\n",
       " <haplotype.Haplotype instance at 0x1c22ef0>,\n",
       " <haplotype.Haplotype instance at 0x405cc20>,\n",
       " <haplotype.Haplotype instance at 0x405c5a8>,\n",
       " <haplotype.Haplotype instance at 0x405c758>,\n",
       " <haplotype.Haplotype instance at 0x405c7a0>,\n",
       " <haplotype.Haplotype instance at 0x405c560>,\n",
       " <haplotype.Haplotype instance at 0x41f76c8>,\n",
       " <haplotype.Haplotype instance at 0x41f7320>,\n",
       " <haplotype.Haplotype instance at 0x41f7908>,\n",
       " <haplotype.Haplotype instance at 0x41f7fc8>,\n",
       " <haplotype.Haplotype instance at 0x41f7f80>,\n",
       " <haplotype.Haplotype instance at 0x41f7f38>,\n",
       " <haplotype.Haplotype instance at 0x41f7ef0>,\n",
       " <haplotype.Haplotype instance at 0x41f7ea8>,\n",
       " <haplotype.Haplotype instance at 0x41f73b0>,\n",
       " <haplotype.Haplotype instance at 0x41f7488>,\n",
       " <haplotype.Haplotype instance at 0x41f7050>,\n",
       " <haplotype.Haplotype instance at 0x41f74d0>,\n",
       " <haplotype.Haplotype instance at 0x41f7560>,\n",
       " <haplotype.Haplotype instance at 0x41f7368>,\n",
       " <haplotype.Haplotype instance at 0x41f7638>,\n",
       " <haplotype.Haplotype instance at 0x41f7518>,\n",
       " <haplotype.Haplotype instance at 0x41f7d88>,\n",
       " <haplotype.Haplotype instance at 0x41f7dd0>,\n",
       " <haplotype.Haplotype instance at 0x41f7440>,\n",
       " <haplotype.Haplotype instance at 0x41f7170>,\n",
       " <haplotype.Haplotype instance at 0x41f7248>,\n",
       " <haplotype.Haplotype instance at 0x41f72d8>,\n",
       " <haplotype.Haplotype instance at 0x41f70e0>,\n",
       " <haplotype.Haplotype instance at 0x41f7e18>,\n",
       " <haplotype.Haplotype instance at 0x41f7128>,\n",
       " <haplotype.Haplotype instance at 0x41f79e0>,\n",
       " <haplotype.Haplotype instance at 0x41f7a70>,\n",
       " <haplotype.Haplotype instance at 0x41f75a8>,\n",
       " <haplotype.Haplotype instance at 0x41f73f8>,\n",
       " <haplotype.Haplotype instance at 0x41f77a0>,\n",
       " <haplotype.Haplotype instance at 0x41f7bd8>,\n",
       " <haplotype.Haplotype instance at 0x41f7d40>,\n",
       " <haplotype.Haplotype instance at 0x41f7a28>,\n",
       " <haplotype.Haplotype instance at 0x41f7b90>,\n",
       " <haplotype.Haplotype instance at 0x41f7cf8>,\n",
       " <haplotype.Haplotype instance at 0x41f7ab8>,\n",
       " <haplotype.Haplotype instance at 0x41f7b48>,\n",
       " <haplotype.Haplotype instance at 0x41f7cb0>,\n",
       " <haplotype.Haplotype instance at 0x41f7680>,\n",
       " <haplotype.Haplotype instance at 0x41f7098>,\n",
       " <haplotype.Haplotype instance at 0x41f7950>,\n",
       " <haplotype.Haplotype instance at 0x41f78c0>,\n",
       " <haplotype.Haplotype instance at 0x41f7998>,\n",
       " <haplotype.Haplotype instance at 0x41f7b00>,\n",
       " <haplotype.Haplotype instance at 0x41f7710>,\n",
       " <haplotype.Haplotype instance at 0x41f7758>,\n",
       " <haplotype.Haplotype instance at 0x41f7290>,\n",
       " <haplotype.Haplotype instance at 0x41f7c20>,\n",
       " <haplotype.Haplotype instance at 0x41f67a0>,\n",
       " <haplotype.Haplotype instance at 0x41f6908>,\n",
       " <haplotype.Haplotype instance at 0x41f65a8>,\n",
       " <haplotype.Haplotype instance at 0x41f6998>,\n",
       " <haplotype.Haplotype instance at 0x41f6fc8>,\n",
       " <haplotype.Haplotype instance at 0x41f62d8>,\n",
       " <haplotype.Haplotype instance at 0x41f6950>,\n",
       " <haplotype.Haplotype instance at 0x41f63f8>,\n",
       " <haplotype.Haplotype instance at 0x41f6710>,\n",
       " <haplotype.Haplotype instance at 0x41f6d40>,\n",
       " <haplotype.Haplotype instance at 0x41f6cf8>,\n",
       " <haplotype.Haplotype instance at 0x41f6248>,\n",
       " <haplotype.Haplotype instance at 0x41f6bd8>,\n",
       " <haplotype.Haplotype instance at 0x41f66c8>,\n",
       " <haplotype.Haplotype instance at 0x41f64d0>,\n",
       " <haplotype.Haplotype instance at 0x41f6368>,\n",
       " <haplotype.Haplotype instance at 0x41f6dd0>,\n",
       " <haplotype.Haplotype instance at 0x41f6758>,\n",
       " <haplotype.Haplotype instance at 0x41f6560>,\n",
       " <haplotype.Haplotype instance at 0x41f6c20>,\n",
       " <haplotype.Haplotype instance at 0x41f6ea8>,\n",
       " <haplotype.Haplotype instance at 0x41f6f38>,\n",
       " <haplotype.Haplotype instance at 0x41f63b0>,\n",
       " <haplotype.Haplotype instance at 0x41f6e18>,\n",
       " <haplotype.Haplotype instance at 0x41f6a70>,\n",
       " <haplotype.Haplotype instance at 0xf2e5bd8>,\n",
       " <haplotype.Haplotype instance at 0xf2e5cf8>,\n",
       " <haplotype.Haplotype instance at 0xf2e5710>,\n",
       " <haplotype.Haplotype instance at 0xf2e56c8>,\n",
       " <haplotype.Haplotype instance at 0xf2e5680>,\n",
       " <haplotype.Haplotype instance at 0xf2e57a0>,\n",
       " <haplotype.Haplotype instance at 0xf2e5c20>,\n",
       " <haplotype.Haplotype instance at 0xf2e5758>,\n",
       " <haplotype.Haplotype instance at 0xf2e5fc8>,\n",
       " <haplotype.Haplotype instance at 0xf2e5f80>,\n",
       " <haplotype.Haplotype instance at 0xf2e5f38>,\n",
       " <haplotype.Haplotype instance at 0xf2e54d0>,\n",
       " <haplotype.Haplotype instance at 0xf2e5638>,\n",
       " <haplotype.Haplotype instance at 0xf2e5ea8>,\n",
       " <haplotype.Haplotype instance at 0xf2e57e8>,\n",
       " <haplotype.Haplotype instance at 0xf2e5e60>,\n",
       " <haplotype.Haplotype instance at 0xf2e5e18>,\n",
       " <haplotype.Haplotype instance at 0xf2e5830>,\n",
       " <haplotype.Haplotype instance at 0xf2e5ef0>,\n",
       " <haplotype.Haplotype instance at 0xf2e5d40>,\n",
       " <haplotype.Haplotype instance at 0xf2e5dd0>,\n",
       " <haplotype.Haplotype instance at 0xf2e5cb0>,\n",
       " <haplotype.Haplotype instance at 0xf2e5d88>,\n",
       " <haplotype.Haplotype instance at 0xf2e5c68>,\n",
       " <haplotype.Haplotype instance at 0xf2e5ab8>,\n",
       " <haplotype.Haplotype instance at 0xf2e5a70>,\n",
       " <haplotype.Haplotype instance at 0xf2e5b00>,\n",
       " <haplotype.Haplotype instance at 0xf2e5440>,\n",
       " <haplotype.Haplotype instance at 0xf2e5908>,\n",
       " <haplotype.Haplotype instance at 0xf2e5b90>,\n",
       " <haplotype.Haplotype instance at 0xf2e5a28>,\n",
       " <haplotype.Haplotype instance at 0xf2e5950>,\n",
       " <haplotype.Haplotype instance at 0xf2e5320>,\n",
       " <haplotype.Haplotype instance at 0xf2e5290>,\n",
       " <haplotype.Haplotype instance at 0xf2e5488>,\n",
       " <haplotype.Haplotype instance at 0xf2e5998>,\n",
       " <haplotype.Haplotype instance at 0xf2e59e0>,\n",
       " <haplotype.Haplotype instance at 0xf2e5b48>,\n",
       " <haplotype.Haplotype instance at 0xf2e55f0>,\n",
       " <haplotype.Haplotype instance at 0xf2e55a8>,\n",
       " <haplotype.Haplotype instance at 0xf2e5560>,\n",
       " <haplotype.Haplotype instance at 0x401db90>,\n",
       " <haplotype.Haplotype instance at 0x4072c68>,\n",
       " <haplotype.Haplotype instance at 0x4072ef0>,\n",
       " <haplotype.Haplotype instance at 0x1c43ef0>,\n",
       " <haplotype.Haplotype instance at 0x405a368>,\n",
       " <haplotype.Haplotype instance at 0x405a638>,\n",
       " <haplotype.Haplotype instance at 0xc41c560>,\n",
       " <haplotype.Haplotype instance at 0xc41cd88>,\n",
       " <haplotype.Haplotype instance at 0xc41ce60>,\n",
       " <haplotype.Haplotype instance at 0xc41cc20>,\n",
       " <haplotype.Haplotype instance at 0xc41cef0>,\n",
       " <haplotype.Haplotype instance at 0xc41cab8>,\n",
       " <haplotype.Haplotype instance at 0xc41cf80>,\n",
       " <haplotype.Haplotype instance at 0xc41ccf8>,\n",
       " <haplotype.Haplotype instance at 0xc41cb90>,\n",
       " <haplotype.Haplotype instance at 0xc41c290>,\n",
       " <haplotype.Haplotype instance at 0xc41a0e0>,\n",
       " <haplotype.Haplotype instance at 0xc41ac68>,\n",
       " <haplotype.Haplotype instance at 0xc41a9e0>,\n",
       " <haplotype.Haplotype instance at 0xc41a710>,\n",
       " <haplotype.Haplotype instance at 0xc420050>,\n",
       " <haplotype.Haplotype instance at 0xc420098>,\n",
       " <haplotype.Haplotype instance at 0x407dc20>,\n",
       " <haplotype.Haplotype instance at 0x407dd88>,\n",
       " <haplotype.Haplotype instance at 0x407d7e8>,\n",
       " <haplotype.Haplotype instance at 0xc41d128>,\n",
       " <haplotype.Haplotype instance at 0xc41d7a0>,\n",
       " <haplotype.Haplotype instance at 0xc41d200>,\n",
       " <haplotype.Haplotype instance at 0xc41d050>,\n",
       " <haplotype.Haplotype instance at 0xc41d0e0>,\n",
       " <haplotype.Haplotype instance at 0xc41d170>,\n",
       " <haplotype.Haplotype instance at 0xc41d368>,\n",
       " <haplotype.Haplotype instance at 0xc41d098>,\n",
       " <haplotype.Haplotype instance at 0xc41d248>,\n",
       " <haplotype.Haplotype instance at 0xc41d440>,\n",
       " <haplotype.Haplotype instance at 0xc41d518>,\n",
       " <haplotype.Haplotype instance at 0xc41d320>,\n",
       " <haplotype.Haplotype instance at 0xc41d3b0>,\n",
       " <haplotype.Haplotype instance at 0xc41d2d8>,\n",
       " <haplotype.Haplotype instance at 0xc41dcb0>,\n",
       " <haplotype.Haplotype instance at 0xc41d1b8>,\n",
       " <haplotype.Haplotype instance at 0xc41d710>,\n",
       " <haplotype.Haplotype instance at 0xc41d5f0>,\n",
       " <haplotype.Haplotype instance at 0xc41d7e8>,\n",
       " <haplotype.Haplotype instance at 0xc41d488>,\n",
       " <haplotype.Haplotype instance at 0xc41d560>,\n",
       " <haplotype.Haplotype instance at 0xc41d6c8>,\n",
       " <haplotype.Haplotype instance at 0xc41d680>,\n",
       " <haplotype.Haplotype instance at 0xc41d998>,\n",
       " <haplotype.Haplotype instance at 0xc41db00>,\n",
       " <haplotype.Haplotype instance at 0xc41d8c0>,\n",
       " <haplotype.Haplotype instance at 0xc41da28>,\n",
       " <haplotype.Haplotype instance at 0xc41d9e0>,\n",
       " <haplotype.Haplotype instance at 0xc41d830>,\n",
       " <haplotype.Haplotype instance at 0xc41df38>,\n",
       " <haplotype.Haplotype instance at 0xc41d950>,\n",
       " <haplotype.Haplotype instance at 0xc41da70>,\n",
       " <haplotype.Haplotype instance at 0xc41dd40>,\n",
       " <haplotype.Haplotype instance at 0xc41db48>,\n",
       " <haplotype.Haplotype instance at 0xc41dab8>,\n",
       " <haplotype.Haplotype instance at 0xc41dbd8>,\n",
       " <haplotype.Haplotype instance at 0xc41dea8>,\n",
       " <haplotype.Haplotype instance at 0xc41de18>,\n",
       " <haplotype.Haplotype instance at 0xc41dd88>,\n",
       " <haplotype.Haplotype instance at 0xc41df80>,\n",
       " <haplotype.Haplotype instance at 0xc41d3f8>,\n",
       " <haplotype.Haplotype instance at 0xc41dfc8>,\n",
       " <haplotype.Haplotype instance at 0xc41de60>,\n",
       " <haplotype.Haplotype instance at 0xc41d638>,\n",
       " <haplotype.Haplotype instance at 0xc41dcf8>,\n",
       " <haplotype.Haplotype instance at 0xc41ddd0>,\n",
       " <haplotype.Haplotype instance at 0x41f8488>,\n",
       " <haplotype.Haplotype instance at 0x41f8440>,\n",
       " <haplotype.Haplotype instance at 0x41f83f8>,\n",
       " <haplotype.Haplotype instance at 0x41f83b0>,\n",
       " <haplotype.Haplotype instance at 0x41f8368>,\n",
       " <haplotype.Haplotype instance at 0x41f8320>,\n",
       " <haplotype.Haplotype instance at 0x41f82d8>,\n",
       " <haplotype.Haplotype instance at 0x41f8290>,\n",
       " <haplotype.Haplotype instance at 0x41f8248>,\n",
       " <haplotype.Haplotype instance at 0x41f8200>,\n",
       " <haplotype.Haplotype instance at 0x41f81b8>,\n",
       " <haplotype.Haplotype instance at 0x41f8170>,\n",
       " <haplotype.Haplotype instance at 0x41f8128>,\n",
       " <haplotype.Haplotype instance at 0x41f80e0>,\n",
       " <haplotype.Haplotype instance at 0x41f8098>,\n",
       " <haplotype.Haplotype instance at 0x41f8050>,\n",
       " <haplotype.Haplotype instance at 0x41f8830>,\n",
       " <haplotype.Haplotype instance at 0x41f8518>,\n",
       " <haplotype.Haplotype instance at 0x41f87e8>,\n",
       " <haplotype.Haplotype instance at 0x41f8ab8>,\n",
       " <haplotype.Haplotype instance at 0x41f8bd8>,\n",
       " <haplotype.Haplotype instance at 0x41f8e18>,\n",
       " <haplotype.Haplotype instance at 0x41f8f38>,\n",
       " <haplotype.Haplotype instance at 0x41f87a0>,\n",
       " <haplotype.Haplotype instance at 0x41f8cb0>,\n",
       " <haplotype.Haplotype instance at 0x41f8b00>,\n",
       " <haplotype.Haplotype instance at 0x4069098>,\n",
       " <haplotype.Haplotype instance at 0x4069ef0>,\n",
       " <haplotype.Haplotype instance at 0xc3c34d0>,\n",
       " <haplotype.Haplotype instance at 0xc3c3488>,\n",
       " <haplotype.Haplotype instance at 0xc3c3440>,\n",
       " <haplotype.Haplotype instance at 0xc3c33f8>,\n",
       " <haplotype.Haplotype instance at 0xc3c33b0>,\n",
       " <haplotype.Haplotype instance at 0xc3c3368>,\n",
       " <haplotype.Haplotype instance at 0xc3c3320>,\n",
       " <haplotype.Haplotype instance at 0xc3c32d8>,\n",
       " <haplotype.Haplotype instance at 0xc3c3290>,\n",
       " <haplotype.Haplotype instance at 0xc3c3248>,\n",
       " <haplotype.Haplotype instance at 0xc3c3200>,\n",
       " <haplotype.Haplotype instance at 0xc3c31b8>,\n",
       " <haplotype.Haplotype instance at 0xc3c3170>,\n",
       " <haplotype.Haplotype instance at 0xc3c3128>,\n",
       " <haplotype.Haplotype instance at 0xc3c30e0>,\n",
       " <haplotype.Haplotype instance at 0xc3c3098>,\n",
       " <haplotype.Haplotype instance at 0xc3c3050>,\n",
       " <haplotype.Haplotype instance at 0xc3c3758>,\n",
       " <haplotype.Haplotype instance at 0xc3c3ab8>,\n",
       " <haplotype.Haplotype instance at 0xc414950>,\n",
       " <haplotype.Haplotype instance at 0xc414170>,\n",
       " <haplotype.Haplotype instance at 0xc4141b8>,\n",
       " <haplotype.Haplotype instance at 0xc414098>,\n",
       " <haplotype.Haplotype instance at 0xc4142d8>,\n",
       " <haplotype.Haplotype instance at 0xc414908>,\n",
       " <haplotype.Haplotype instance at 0xc4149e0>,\n",
       " <haplotype.Haplotype instance at 0xc414248>,\n",
       " <haplotype.Haplotype instance at 0xc414128>,\n",
       " <haplotype.Haplotype instance at 0xc414998>,\n",
       " <haplotype.Haplotype instance at 0xc4147e8>,\n",
       " <haplotype.Haplotype instance at 0xc4148c0>,\n",
       " <haplotype.Haplotype instance at 0xc414290>,\n",
       " <haplotype.Haplotype instance at 0xc414680>,\n",
       " <haplotype.Haplotype instance at 0xc414050>,\n",
       " <haplotype.Haplotype instance at 0xc414368>,\n",
       " <haplotype.Haplotype instance at 0x41fc0e0>,\n",
       " <haplotype.Haplotype instance at 0x41fc1b8>,\n",
       " <haplotype.Haplotype instance at 0x41fc098>,\n",
       " <haplotype.Haplotype instance at 0x41fc440>,\n",
       " <haplotype.Haplotype instance at 0x41fc488>,\n",
       " <haplotype.Haplotype instance at 0x41fc5f0>,\n",
       " <haplotype.Haplotype instance at 0xc41ee60>,\n",
       " <haplotype.Haplotype instance at 0xc41ecb0>,\n",
       " <haplotype.Haplotype instance at 0xc41ec20>,\n",
       " <haplotype.Haplotype instance at 0xc41ecf8>,\n",
       " <haplotype.Haplotype instance at 0xc41ed88>,\n",
       " <haplotype.Haplotype instance at 0xc41eb90>,\n",
       " <haplotype.Haplotype instance at 0xc41e5f0>,\n",
       " <haplotype.Haplotype instance at 0xc41eb48>,\n",
       " <haplotype.Haplotype instance at 0xc41e6c8>,\n",
       " <haplotype.Haplotype instance at 0xc41ef38>,\n",
       " <haplotype.Haplotype instance at 0xc41ec68>,\n",
       " <haplotype.Haplotype instance at 0xc41ee18>,\n",
       " <haplotype.Haplotype instance at 0xc41e710>,\n",
       " <haplotype.Haplotype instance at 0xc41e368>,\n",
       " <haplotype.Haplotype instance at 0xc41e2d8>,\n",
       " <haplotype.Haplotype instance at 0xc41e9e0>,\n",
       " <haplotype.Haplotype instance at 0xc41e878>,\n",
       " <haplotype.Haplotype instance at 0xc41e0e0>,\n",
       " <haplotype.Haplotype instance at 0xc41e1b8>,\n",
       " <haplotype.Haplotype instance at 0xc41e758>,\n",
       " <haplotype.Haplotype instance at 0xc41e098>,\n",
       " <haplotype.Haplotype instance at 0xc41e248>,\n",
       " <haplotype.Haplotype instance at 0xc41e200>,\n",
       " <haplotype.Haplotype instance at 0xc41e170>,\n",
       " <haplotype.Haplotype instance at 0xc41e440>,\n",
       " <haplotype.Haplotype instance at 0xc41e560>,\n",
       " <haplotype.Haplotype instance at 0xc41e320>,\n",
       " <haplotype.Haplotype instance at 0xc41e488>,\n",
       " <haplotype.Haplotype instance at 0xc41e290>,\n",
       " <haplotype.Haplotype instance at 0xc41e3f8>,\n",
       " <haplotype.Haplotype instance at 0xe44cef0>,\n",
       " <haplotype.Haplotype instance at 0xe44c878>,\n",
       " <haplotype.Haplotype instance at 0xe44cf38>,\n",
       " <haplotype.Haplotype instance at 0xe44cdd0>,\n",
       " <haplotype.Haplotype instance at 0xe44cb00>,\n",
       " <haplotype.Haplotype instance at 0xe44c908>,\n",
       " <haplotype.Haplotype instance at 0xe44cbd8>,\n",
       " <haplotype.Haplotype instance at 0xe44ca70>,\n",
       " <haplotype.Haplotype instance at 0xe44ccf8>,\n",
       " <haplotype.Haplotype instance at 0xe44cc20>,\n",
       " <haplotype.Haplotype instance at 0xc4235f0>,\n",
       " <haplotype.Haplotype instance at 0xc423638>,\n",
       " <haplotype.Haplotype instance at 0xc423680>,\n",
       " <haplotype.Haplotype instance at 0xc4236c8>,\n",
       " <haplotype.Haplotype instance at 0xc423710>,\n",
       " <haplotype.Haplotype instance at 0xc423758>,\n",
       " <haplotype.Haplotype instance at 0xc4237a0>,\n",
       " <haplotype.Haplotype instance at 0xc4237e8>,\n",
       " <haplotype.Haplotype instance at 0xc423830>,\n",
       " <haplotype.Haplotype instance at 0xc423878>,\n",
       " <haplotype.Haplotype instance at 0xc4238c0>,\n",
       " <haplotype.Haplotype instance at 0xc423908>,\n",
       " <haplotype.Haplotype instance at 0xc423950>,\n",
       " <haplotype.Haplotype instance at 0xc423998>,\n",
       " <haplotype.Haplotype instance at 0xc4239e0>,\n",
       " <haplotype.Haplotype instance at 0xc423a28>,\n",
       " <haplotype.Haplotype instance at 0xc423a70>,\n",
       " <haplotype.Haplotype instance at 0xc423ab8>,\n",
       " <haplotype.Haplotype instance at 0xc423b00>,\n",
       " <haplotype.Haplotype instance at 0xc423b48>,\n",
       " <haplotype.Haplotype instance at 0xc423b90>,\n",
       " <haplotype.Haplotype instance at 0xc423bd8>,\n",
       " <haplotype.Haplotype instance at 0xc423c20>,\n",
       " <haplotype.Haplotype instance at 0xc423c68>,\n",
       " <haplotype.Haplotype instance at 0xc423cb0>,\n",
       " <haplotype.Haplotype instance at 0xc423cf8>,\n",
       " <haplotype.Haplotype instance at 0xc423d40>,\n",
       " <haplotype.Haplotype instance at 0xc423d88>,\n",
       " <haplotype.Haplotype instance at 0xc423dd0>,\n",
       " <haplotype.Haplotype instance at 0xc423e18>,\n",
       " <haplotype.Haplotype instance at 0xc423e60>,\n",
       " <haplotype.Haplotype instance at 0xc423ea8>,\n",
       " <haplotype.Haplotype instance at 0xc423ef0>,\n",
       " <haplotype.Haplotype instance at 0xc423f38>,\n",
       " <haplotype.Haplotype instance at 0xc423f80>,\n",
       " <haplotype.Haplotype instance at 0xc423fc8>,\n",
       " <haplotype.Haplotype instance at 0xf2f2050>,\n",
       " <haplotype.Haplotype instance at 0xf2f2098>,\n",
       " <haplotype.Haplotype instance at 0xf2f20e0>,\n",
       " <haplotype.Haplotype instance at 0xf2f2128>,\n",
       " <haplotype.Haplotype instance at 0xf2f2170>,\n",
       " <haplotype.Haplotype instance at 0xf2f21b8>,\n",
       " <haplotype.Haplotype instance at 0xf2f2200>,\n",
       " <haplotype.Haplotype instance at 0xf2f2248>,\n",
       " <haplotype.Haplotype instance at 0xf2f2290>,\n",
       " <haplotype.Haplotype instance at 0xf2f22d8>,\n",
       " <haplotype.Haplotype instance at 0xf2f2320>,\n",
       " <haplotype.Haplotype instance at 0xf2f2368>,\n",
       " <haplotype.Haplotype instance at 0xf2f23b0>,\n",
       " <haplotype.Haplotype instance at 0xf2f23f8>,\n",
       " <haplotype.Haplotype instance at 0xf2f2440>,\n",
       " <haplotype.Haplotype instance at 0xf2f2488>,\n",
       " <haplotype.Haplotype instance at 0xf2f24d0>,\n",
       " <haplotype.Haplotype instance at 0xf2f2518>,\n",
       " <haplotype.Haplotype instance at 0xf2f2560>,\n",
       " <haplotype.Haplotype instance at 0xf2f25a8>,\n",
       " <haplotype.Haplotype instance at 0xf2f25f0>,\n",
       " <haplotype.Haplotype instance at 0xf2f2638>,\n",
       " <haplotype.Haplotype instance at 0xf2f2680>,\n",
       " <haplotype.Haplotype instance at 0xf2f26c8>,\n",
       " <haplotype.Haplotype instance at 0xf2f2710>,\n",
       " <haplotype.Haplotype instance at 0xf2f2758>,\n",
       " <haplotype.Haplotype instance at 0xf2f27a0>,\n",
       " <haplotype.Haplotype instance at 0xf2f27e8>,\n",
       " <haplotype.Haplotype instance at 0xf2f2830>,\n",
       " <haplotype.Haplotype instance at 0xf2f2878>,\n",
       " <haplotype.Haplotype instance at 0xf2f28c0>,\n",
       " <haplotype.Haplotype instance at 0xf2f2908>,\n",
       " <haplotype.Haplotype instance at 0xf2f2950>,\n",
       " <haplotype.Haplotype instance at 0xf2f2998>,\n",
       " <haplotype.Haplotype instance at 0xf2f29e0>,\n",
       " <haplotype.Haplotype instance at 0xf2f2a28>,\n",
       " <haplotype.Haplotype instance at 0xf2f2a70>,\n",
       " <haplotype.Haplotype instance at 0xf2f2ab8>,\n",
       " <haplotype.Haplotype instance at 0xf2f2b00>,\n",
       " <haplotype.Haplotype instance at 0xf2f2b48>,\n",
       " <haplotype.Haplotype instance at 0xf2f2b90>,\n",
       " <haplotype.Haplotype instance at 0xf2f2bd8>,\n",
       " <haplotype.Haplotype instance at 0xf2f2c20>,\n",
       " <haplotype.Haplotype instance at 0xf2f2c68>,\n",
       " <haplotype.Haplotype instance at 0xf2f2cb0>,\n",
       " <haplotype.Haplotype instance at 0xf2f2cf8>,\n",
       " <haplotype.Haplotype instance at 0xf2f2d40>,\n",
       " <haplotype.Haplotype instance at 0xf2f2d88>,\n",
       " <haplotype.Haplotype instance at 0xf2f2dd0>,\n",
       " <haplotype.Haplotype instance at 0xf2f2e18>,\n",
       " <haplotype.Haplotype instance at 0xf2f2e60>,\n",
       " <haplotype.Haplotype instance at 0xf2f2ea8>,\n",
       " <haplotype.Haplotype instance at 0xf2f2ef0>,\n",
       " <haplotype.Haplotype instance at 0xf2f2f38>,\n",
       " <haplotype.Haplotype instance at 0xf2f2f80>,\n",
       " <haplotype.Haplotype instance at 0xf2f2fc8>,\n",
       " <haplotype.Haplotype instance at 0xf2effc8>,\n",
       " <haplotype.Haplotype instance at 0xf2eff80>,\n",
       " <haplotype.Haplotype instance at 0xf2eff38>,\n",
       " <haplotype.Haplotype instance at 0xf2efef0>,\n",
       " <haplotype.Haplotype instance at 0xf2efea8>,\n",
       " <haplotype.Haplotype instance at 0xf2efe60>,\n",
       " <haplotype.Haplotype instance at 0xf2efe18>,\n",
       " <haplotype.Haplotype instance at 0xf2efdd0>,\n",
       " <haplotype.Haplotype instance at 0xf2efd88>,\n",
       " <haplotype.Haplotype instance at 0xf2efd40>,\n",
       " <haplotype.Haplotype instance at 0xf2efcf8>,\n",
       " <haplotype.Haplotype instance at 0xf2efcb0>,\n",
       " <haplotype.Haplotype instance at 0xf2efc68>,\n",
       " <haplotype.Haplotype instance at 0xf2efc20>,\n",
       " <haplotype.Haplotype instance at 0xf2efbd8>,\n",
       " <haplotype.Haplotype instance at 0xf2efb90>,\n",
       " <haplotype.Haplotype instance at 0xf2efb48>,\n",
       " <haplotype.Haplotype instance at 0xf2efb00>,\n",
       " <haplotype.Haplotype instance at 0xf2efab8>,\n",
       " <haplotype.Haplotype instance at 0xf2efa70>,\n",
       " <haplotype.Haplotype instance at 0xf2efa28>,\n",
       " <haplotype.Haplotype instance at 0xf2ef9e0>,\n",
       " <haplotype.Haplotype instance at 0xf2ef998>,\n",
       " <haplotype.Haplotype instance at 0xf2ef950>,\n",
       " <haplotype.Haplotype instance at 0xf2ef908>,\n",
       " <haplotype.Haplotype instance at 0xf2ef8c0>,\n",
       " <haplotype.Haplotype instance at 0xf2ef878>,\n",
       " <haplotype.Haplotype instance at 0xf2ef830>,\n",
       " <haplotype.Haplotype instance at 0xf2ef7e8>,\n",
       " <haplotype.Haplotype instance at 0xf2ef7a0>,\n",
       " <haplotype.Haplotype instance at 0xf2ef758>,\n",
       " <haplotype.Haplotype instance at 0xf2ef710>,\n",
       " <haplotype.Haplotype instance at 0xf2ef6c8>,\n",
       " <haplotype.Haplotype instance at 0xf2ef680>,\n",
       " <haplotype.Haplotype instance at 0xf2ef638>,\n",
       " <haplotype.Haplotype instance at 0xf2ef5f0>,\n",
       " <haplotype.Haplotype instance at 0xf2ef5a8>,\n",
       " <haplotype.Haplotype instance at 0xf2ef560>,\n",
       " <haplotype.Haplotype instance at 0xf2ef518>,\n",
       " <haplotype.Haplotype instance at 0xf2ef4d0>,\n",
       " <haplotype.Haplotype instance at 0xf2ef488>,\n",
       " <haplotype.Haplotype instance at 0xf2ef440>,\n",
       " <haplotype.Haplotype instance at 0xf2ef3f8>,\n",
       " <haplotype.Haplotype instance at 0xf2ef3b0>,\n",
       " <haplotype.Haplotype instance at 0xf2ef368>,\n",
       " <haplotype.Haplotype instance at 0xf2ef320>,\n",
       " <haplotype.Haplotype instance at 0xf2ef2d8>,\n",
       " <haplotype.Haplotype instance at 0xf2ef290>,\n",
       " <haplotype.Haplotype instance at 0xf2ef248>,\n",
       " <haplotype.Haplotype instance at 0xf2ef200>,\n",
       " <haplotype.Haplotype instance at 0xf2ef1b8>,\n",
       " <haplotype.Haplotype instance at 0xf2ef170>,\n",
       " <haplotype.Haplotype instance at 0xf2ef128>,\n",
       " <haplotype.Haplotype instance at 0xf2ef0e0>,\n",
       " <haplotype.Haplotype instance at 0xf2ef098>,\n",
       " <haplotype.Haplotype instance at 0xf2ef050>,\n",
       " <haplotype.Haplotype instance at 0xf2edfc8>,\n",
       " <haplotype.Haplotype instance at 0xf2edf80>,\n",
       " <haplotype.Haplotype instance at 0xf2edf38>,\n",
       " <haplotype.Haplotype instance at 0xf2edef0>,\n",
       " <haplotype.Haplotype instance at 0xf2edea8>,\n",
       " <haplotype.Haplotype instance at 0xf2ede60>,\n",
       " <haplotype.Haplotype instance at 0xf2ede18>,\n",
       " <haplotype.Haplotype instance at 0xf2eddd0>,\n",
       " <haplotype.Haplotype instance at 0xf2edd88>,\n",
       " <haplotype.Haplotype instance at 0xf2edd40>,\n",
       " <haplotype.Haplotype instance at 0xf2edcf8>,\n",
       " <haplotype.Haplotype instance at 0xf2edcb0>,\n",
       " <haplotype.Haplotype instance at 0xf2edc68>,\n",
       " <haplotype.Haplotype instance at 0xf2edc20>,\n",
       " <haplotype.Haplotype instance at 0xf2edbd8>,\n",
       " <haplotype.Haplotype instance at 0xf2edb90>,\n",
       " <haplotype.Haplotype instance at 0xf2edb48>,\n",
       " <haplotype.Haplotype instance at 0xf2edb00>,\n",
       " <haplotype.Haplotype instance at 0xf2edab8>,\n",
       " <haplotype.Haplotype instance at 0xf2eda70>,\n",
       " <haplotype.Haplotype instance at 0xf2eda28>,\n",
       " <haplotype.Haplotype instance at 0xf2ed9e0>,\n",
       " <haplotype.Haplotype instance at 0xf2ed998>,\n",
       " <haplotype.Haplotype instance at 0xf2ed950>,\n",
       " <haplotype.Haplotype instance at 0xf2ed908>,\n",
       " <haplotype.Haplotype instance at 0xf2ed8c0>,\n",
       " <haplotype.Haplotype instance at 0xf2ed878>,\n",
       " <haplotype.Haplotype instance at 0xf2ed830>,\n",
       " <haplotype.Haplotype instance at 0xf2ed7e8>,\n",
       " <haplotype.Haplotype instance at 0xf2ed7a0>,\n",
       " <haplotype.Haplotype instance at 0xf2ed758>,\n",
       " <haplotype.Haplotype instance at 0xf2ed710>,\n",
       " <haplotype.Haplotype instance at 0xf2ed6c8>,\n",
       " <haplotype.Haplotype instance at 0xf2ed680>,\n",
       " <haplotype.Haplotype instance at 0xf2ed638>,\n",
       " <haplotype.Haplotype instance at 0xf2ed5f0>,\n",
       " <haplotype.Haplotype instance at 0xf2ed5a8>,\n",
       " <haplotype.Haplotype instance at 0xf2ed560>,\n",
       " <haplotype.Haplotype instance at 0xf2ed518>,\n",
       " <haplotype.Haplotype instance at 0xf2ed4d0>,\n",
       " <haplotype.Haplotype instance at 0xf2ed488>,\n",
       " <haplotype.Haplotype instance at 0xf2ed440>,\n",
       " <haplotype.Haplotype instance at 0xf2ed3f8>,\n",
       " <haplotype.Haplotype instance at 0xf2ed3b0>,\n",
       " <haplotype.Haplotype instance at 0xf2ed368>,\n",
       " <haplotype.Haplotype instance at 0xf2ed320>,\n",
       " <haplotype.Haplotype instance at 0xf2ed2d8>,\n",
       " <haplotype.Haplotype instance at 0xf2ed290>,\n",
       " <haplotype.Haplotype instance at 0xf2ed248>,\n",
       " <haplotype.Haplotype instance at 0xf2ed200>,\n",
       " <haplotype.Haplotype instance at 0xf2ed1b8>,\n",
       " <haplotype.Haplotype instance at 0xf2ed170>,\n",
       " <haplotype.Haplotype instance at 0xf2ed128>,\n",
       " <haplotype.Haplotype instance at 0xf2ed0e0>,\n",
       " <haplotype.Haplotype instance at 0xf2ed098>,\n",
       " <haplotype.Haplotype instance at 0xf2ed050>,\n",
       " <haplotype.Haplotype instance at 0xf2ebfc8>,\n",
       " <haplotype.Haplotype instance at 0xf2ebf80>,\n",
       " <haplotype.Haplotype instance at 0xf2ebf38>,\n",
       " <haplotype.Haplotype instance at 0xf2ebef0>,\n",
       " <haplotype.Haplotype instance at 0xf2ebea8>,\n",
       " <haplotype.Haplotype instance at 0xf2ebe60>,\n",
       " <haplotype.Haplotype instance at 0xf2ebe18>,\n",
       " <haplotype.Haplotype instance at 0xf2ebdd0>,\n",
       " <haplotype.Haplotype instance at 0xf2ebd88>,\n",
       " <haplotype.Haplotype instance at 0xf2ebd40>,\n",
       " <haplotype.Haplotype instance at 0xf2ebcf8>,\n",
       " <haplotype.Haplotype instance at 0xf2ebcb0>,\n",
       " <haplotype.Haplotype instance at 0xf2ebc68>,\n",
       " <haplotype.Haplotype instance at 0xf2ebc20>,\n",
       " <haplotype.Haplotype instance at 0xf2ebbd8>,\n",
       " <haplotype.Haplotype instance at 0xf2ebb90>,\n",
       " <haplotype.Haplotype instance at 0xf2ebb48>,\n",
       " <haplotype.Haplotype instance at 0xf2ebb00>,\n",
       " <haplotype.Haplotype instance at 0xf2ebab8>,\n",
       " <haplotype.Haplotype instance at 0xf2eba70>,\n",
       " <haplotype.Haplotype instance at 0xf2eba28>,\n",
       " <haplotype.Haplotype instance at 0xf2eb9e0>,\n",
       " <haplotype.Haplotype instance at 0xf2eb998>,\n",
       " <haplotype.Haplotype instance at 0xf2eb950>,\n",
       " <haplotype.Haplotype instance at 0xf2eb908>,\n",
       " <haplotype.Haplotype instance at 0xf2eb8c0>,\n",
       " <haplotype.Haplotype instance at 0xf2eb878>,\n",
       " <haplotype.Haplotype instance at 0xf2eb830>,\n",
       " <haplotype.Haplotype instance at 0xf2eb7e8>,\n",
       " <haplotype.Haplotype instance at 0xf2eb7a0>,\n",
       " <haplotype.Haplotype instance at 0xf2eb758>,\n",
       " <haplotype.Haplotype instance at 0xf2eb710>,\n",
       " <haplotype.Haplotype instance at 0xf2eb6c8>,\n",
       " <haplotype.Haplotype instance at 0xf2eb680>,\n",
       " <haplotype.Haplotype instance at 0xf2eb638>,\n",
       " <haplotype.Haplotype instance at 0xf2eb5f0>,\n",
       " <haplotype.Haplotype instance at 0xf2eb5a8>,\n",
       " <haplotype.Haplotype instance at 0xf2eb560>,\n",
       " <haplotype.Haplotype instance at 0xf2eb518>,\n",
       " <haplotype.Haplotype instance at 0xf2eb4d0>,\n",
       " <haplotype.Haplotype instance at 0xf2eb488>,\n",
       " <haplotype.Haplotype instance at 0xf2eb440>,\n",
       " <haplotype.Haplotype instance at 0xf2eb3f8>,\n",
       " <haplotype.Haplotype instance at 0xf2eb3b0>,\n",
       " <haplotype.Haplotype instance at 0xf2eb368>,\n",
       " <haplotype.Haplotype instance at 0xf2eb320>,\n",
       " <haplotype.Haplotype instance at 0xf2eb2d8>,\n",
       " <haplotype.Haplotype instance at 0xf2eb290>,\n",
       " <haplotype.Haplotype instance at 0xf2eb248>,\n",
       " <haplotype.Haplotype instance at 0xf2eb200>,\n",
       " <haplotype.Haplotype instance at 0xf2eb1b8>,\n",
       " <haplotype.Haplotype instance at 0xf2eb170>,\n",
       " <haplotype.Haplotype instance at 0xf2eb128>,\n",
       " <haplotype.Haplotype instance at 0xf2eb0e0>,\n",
       " <haplotype.Haplotype instance at 0xf2eb098>,\n",
       " <haplotype.Haplotype instance at 0xf2eb050>,\n",
       " <haplotype.Haplotype instance at 0xf2e9fc8>,\n",
       " <haplotype.Haplotype instance at 0xf2e9f80>,\n",
       " <haplotype.Haplotype instance at 0xf2e9f38>,\n",
       " <haplotype.Haplotype instance at 0xf2e9ef0>,\n",
       " <haplotype.Haplotype instance at 0xf2e9ea8>,\n",
       " <haplotype.Haplotype instance at 0xf2e9e60>,\n",
       " <haplotype.Haplotype instance at 0xf2e9e18>,\n",
       " <haplotype.Haplotype instance at 0xf2e9dd0>,\n",
       " <haplotype.Haplotype instance at 0xf2e9d88>,\n",
       " <haplotype.Haplotype instance at 0xf2e9d40>,\n",
       " <haplotype.Haplotype instance at 0xf2e9cf8>,\n",
       " <haplotype.Haplotype instance at 0xf2e9cb0>,\n",
       " <haplotype.Haplotype instance at 0xf2e9c68>,\n",
       " <haplotype.Haplotype instance at 0xf2e9c20>,\n",
       " <haplotype.Haplotype instance at 0xf2e9bd8>,\n",
       " <haplotype.Haplotype instance at 0xf2e9b90>,\n",
       " <haplotype.Haplotype instance at 0xf2e9b48>,\n",
       " <haplotype.Haplotype instance at 0xf2e9b00>,\n",
       " <haplotype.Haplotype instance at 0xf2e9ab8>,\n",
       " <haplotype.Haplotype instance at 0xf2e9a70>,\n",
       " <haplotype.Haplotype instance at 0xf2e9a28>,\n",
       " <haplotype.Haplotype instance at 0xf2e99e0>,\n",
       " <haplotype.Haplotype instance at 0xf2e9998>,\n",
       " <haplotype.Haplotype instance at 0xf2e9950>,\n",
       " <haplotype.Haplotype instance at 0xf2e9908>,\n",
       " <haplotype.Haplotype instance at 0xf2e98c0>,\n",
       " <haplotype.Haplotype instance at 0xf2e9878>,\n",
       " <haplotype.Haplotype instance at 0xf2e9830>,\n",
       " <haplotype.Haplotype instance at 0xf2e97e8>,\n",
       " <haplotype.Haplotype instance at 0xf2e97a0>,\n",
       " <haplotype.Haplotype instance at 0xf2e9758>,\n",
       " <haplotype.Haplotype instance at 0xf2e9710>,\n",
       " <haplotype.Haplotype instance at 0xf2e96c8>,\n",
       " <haplotype.Haplotype instance at 0xf2e9680>,\n",
       " <haplotype.Haplotype instance at 0xf2e9638>,\n",
       " <haplotype.Haplotype instance at 0xf2e95f0>,\n",
       " <haplotype.Haplotype instance at 0xf2e95a8>,\n",
       " <haplotype.Haplotype instance at 0xf2e9560>,\n",
       " <haplotype.Haplotype instance at 0xf2e9518>,\n",
       " <haplotype.Haplotype instance at 0xf2e94d0>,\n",
       " <haplotype.Haplotype instance at 0xf2e9488>,\n",
       " <haplotype.Haplotype instance at 0xf2e9440>,\n",
       " <haplotype.Haplotype instance at 0xf2e93f8>,\n",
       " <haplotype.Haplotype instance at 0xf2e93b0>,\n",
       " <haplotype.Haplotype instance at 0xf2e9368>,\n",
       " <haplotype.Haplotype instance at 0xf2e9320>,\n",
       " <haplotype.Haplotype instance at 0xf2e92d8>,\n",
       " <haplotype.Haplotype instance at 0xf2e9290>,\n",
       " <haplotype.Haplotype instance at 0xf2e9248>,\n",
       " <haplotype.Haplotype instance at 0xf2e9200>,\n",
       " <haplotype.Haplotype instance at 0xf2e91b8>,\n",
       " <haplotype.Haplotype instance at 0xf2e9170>,\n",
       " <haplotype.Haplotype instance at 0xf2e9128>,\n",
       " <haplotype.Haplotype instance at 0xf2e90e0>,\n",
       " <haplotype.Haplotype instance at 0xf2e9098>,\n",
       " <haplotype.Haplotype instance at 0xf2e9050>,\n",
       " <haplotype.Haplotype instance at 0xf2e7fc8>,\n",
       " <haplotype.Haplotype instance at 0xf2e7f80>,\n",
       " <haplotype.Haplotype instance at 0xf2e7f38>,\n",
       " <haplotype.Haplotype instance at 0xf2e7ef0>,\n",
       " <haplotype.Haplotype instance at 0xf2e7ea8>,\n",
       " <haplotype.Haplotype instance at 0xf2e7e60>,\n",
       " <haplotype.Haplotype instance at 0xf2e7e18>,\n",
       " <haplotype.Haplotype instance at 0xf2e7dd0>,\n",
       " <haplotype.Haplotype instance at 0xf2e7d88>,\n",
       " <haplotype.Haplotype instance at 0xf2e7d40>,\n",
       " <haplotype.Haplotype instance at 0xf2e7cf8>,\n",
       " <haplotype.Haplotype instance at 0xf2e7cb0>,\n",
       " <haplotype.Haplotype instance at 0xf2e7c68>,\n",
       " <haplotype.Haplotype instance at 0xf2e7c20>,\n",
       " <haplotype.Haplotype instance at 0xf2e7bd8>,\n",
       " <haplotype.Haplotype instance at 0xf2e7b90>,\n",
       " <haplotype.Haplotype instance at 0xf2e7b48>,\n",
       " <haplotype.Haplotype instance at 0xf2e7b00>,\n",
       " <haplotype.Haplotype instance at 0xf2e7ab8>,\n",
       " <haplotype.Haplotype instance at 0xf2e7a70>,\n",
       " <haplotype.Haplotype instance at 0xf2e7a28>,\n",
       " <haplotype.Haplotype instance at 0xf2e79e0>,\n",
       " <haplotype.Haplotype instance at 0xf2e7998>,\n",
       " <haplotype.Haplotype instance at 0xf2e7950>,\n",
       " <haplotype.Haplotype instance at 0xf2e7908>,\n",
       " <haplotype.Haplotype instance at 0xf2e78c0>,\n",
       " <haplotype.Haplotype instance at 0xf2e7878>,\n",
       " <haplotype.Haplotype instance at 0xf2e7830>,\n",
       " <haplotype.Haplotype instance at 0xf2e77e8>,\n",
       " <haplotype.Haplotype instance at 0xf2e77a0>,\n",
       " <haplotype.Haplotype instance at 0xf2e7758>,\n",
       " <haplotype.Haplotype instance at 0xf2e7710>,\n",
       " <haplotype.Haplotype instance at 0xf2e76c8>,\n",
       " <haplotype.Haplotype instance at 0xf2e7680>,\n",
       " <haplotype.Haplotype instance at 0xf2e7638>,\n",
       " <haplotype.Haplotype instance at 0xf2e75f0>,\n",
       " <haplotype.Haplotype instance at 0xf2e75a8>,\n",
       " <haplotype.Haplotype instance at 0xf2e7560>,\n",
       " <haplotype.Haplotype instance at 0xf2e7518>,\n",
       " <haplotype.Haplotype instance at 0xf2e74d0>,\n",
       " <haplotype.Haplotype instance at 0xf2e7488>,\n",
       " <haplotype.Haplotype instance at 0xf2e7440>,\n",
       " <haplotype.Haplotype instance at 0xf2e73f8>,\n",
       " <haplotype.Haplotype instance at 0xf2e73b0>,\n",
       " <haplotype.Haplotype instance at 0xf2e7368>,\n",
       " <haplotype.Haplotype instance at 0xf2e7320>,\n",
       " <haplotype.Haplotype instance at 0xf2e72d8>,\n",
       " <haplotype.Haplotype instance at 0xf2e7290>,\n",
       " <haplotype.Haplotype instance at 0xf2e7248>,\n",
       " <haplotype.Haplotype instance at 0xf2e7200>,\n",
       " <haplotype.Haplotype instance at 0xf2e71b8>,\n",
       " <haplotype.Haplotype instance at 0xf2e7170>,\n",
       " ...]"
      ]
     },
     "execution_count": 44,
     "metadata": {},
     "output_type": "execute_result"
    }
   ],
   "source": [
    "haps"
   ]
  },
  {
   "cell_type": "code",
   "execution_count": null,
   "metadata": {
    "collapsed": true
   },
   "outputs": [],
   "source": []
  },
  {
   "cell_type": "markdown",
   "metadata": {},
   "source": [
    "## Haplotype block"
   ]
  },
  {
   "cell_type": "code",
   "execution_count": 35,
   "metadata": {
    "collapsed": false
   },
   "outputs": [],
   "source": [
    "class Haplotype_block:\n",
    "    '''Class to represent Haplotype block and associated population reference\n",
    "    '''\n",
    "    def __init__(self, chromosome, index_l, index_r, haps):\n",
    "        self.chromosome = chromosome\n",
    "        self.index_l = index_l\n",
    "        self.index_r = index_r\n",
    "        self.haps = haps\n",
    "        self.population_size = len(haps)\n",
    "        \n",
    "        # We will work on hash of the haplotypes, \n",
    "        # we need to have inverse of hash function \n",
    "        # to go back to the original haplotypes\n",
    "        self.inv_hash = dict(zip([h.__hash__() for h in haps], self.haps))\n",
    "\n",
    "        # count\n",
    "        self.count = collections.Counter([h.__hash__() for h in haps])        \n",
    "        self.hash_keys = self.count.keys()\n",
    "        self.n_uniq_haps    = len(self.hash_keys)\n",
    "        \n",
    "        # inference\n",
    "        self.log_prior      = self.find_log_prior()\n",
    "        self.log_posterior  = self.log_prior\n",
    "        self.n_observations = np.zeros(index_r - index_l, dtype = np.uint)\n",
    "    \n",
    "    def find_log_prior(self):\n",
    "        count = np.array([self.count[hash_key] for hash_key in self.hash_keys], \n",
    "                         dtype = np.float)\n",
    "        return(np.log(count) - np.log(self.population_size))\n",
    "    \n",
    "    def map_value(self):\n",
    "        return(np.exp(max(self.log_posterior)))\n",
    "    \n",
    "    def map_index(self):\n",
    "        return(np.where(self.log_posterior >= max(self.log_posterior))[0])\n",
    "    \n",
    "    def map_haplotype(self):\n",
    "        return([self.inv_hash[self.hash_keys[key_index]]\n",
    "                for key_index in self.map_index()])\n",
    "    \n",
    "    def plot(self, filename = None):\n",
    "        if(filename is not None):\n",
    "            logger.info('Writing image to {}'.format(filename))\n",
    "        misc.make_hist(x = np.exp(self.log_posterior),\n",
    "                  title = ' '.join(['Haplotype probability distribution',\n",
    "                                    'after {:.2} observations'.format(np.average(self.n_observations)),\n",
    "                                    '\\n({} unique haplotypes in'.format(self.n_uniq_haps),\n",
    "                                    'chr{}:{}-{} SNPs region)'.format(self.chromosome,\n",
    "                                                                      self.index_l,\n",
    "                                                                      self.index_r)]),\n",
    "                  xlabel = ' '.join(['Haplotype probability',\n",
    "                                     '(population size: {} haplotypes)'.format(self.population_size)]),\n",
    "                  ylabel = 'Frequency of haplotype probabilities', \n",
    "                  filename = None)"
   ]
  },
  {
   "cell_type": "code",
   "execution_count": 41,
   "metadata": {
    "collapsed": false
   },
   "outputs": [
    {
     "data": {
      "text/plain": [
       "165049069602753025"
      ]
     },
     "execution_count": 41,
     "metadata": {},
     "output_type": "execute_result"
    }
   ],
   "source": [
    "hb.hash_keys[0]"
   ]
  },
  {
   "cell_type": "code",
   "execution_count": 43,
   "metadata": {
    "collapsed": false
   },
   "outputs": [
    {
     "name": "stdout",
     "output_type": "stream",
     "text": [
      "Hap_20:0-134_00000100000000000000000000000000000001000000000000000000000000010000000000000000000000000000100000000000000000000000000000000000000000\n"
     ]
    }
   ],
   "source": [
    "print hb.inv_hash[hb.hash_keys[0]]"
   ]
  },
  {
   "cell_type": "code",
   "execution_count": null,
   "metadata": {
    "collapsed": true
   },
   "outputs": [],
   "source": []
  },
  {
   "cell_type": "code",
   "execution_count": 36,
   "metadata": {
    "collapsed": false
   },
   "outputs": [],
   "source": [
    "hb = Haplotype_block(20, 0, 134, haps)"
   ]
  },
  {
   "cell_type": "code",
   "execution_count": 37,
   "metadata": {
    "collapsed": false
   },
   "outputs": [
    {
     "data": {
      "image/png": "[encoded data removed]",
      "text/plain": [
       "<matplotlib.figure.Figure at 0xc416710>"
      ]
     },
     "metadata": {},
     "output_type": "display_data"
    }
   ],
   "source": [
    "hb.plot()"
   ]
  },
  {
   "cell_type": "code",
   "execution_count": 38,
   "metadata": {
    "collapsed": false
   },
   "outputs": [
    {
     "name": "stdout",
     "output_type": "stream",
     "text": [
      "Hap_20:0-134_00000000000000000000000000000000000000000000000000000000000000000000000000000000000000000000000000000000000000000000000000000000000000\n",
      "0.396365814696\n"
     ]
    }
   ],
   "source": [
    "print hb.map_haplotype()[0]\n",
    "print hb.map_value()"
   ]
  },
  {
   "cell_type": "code",
   "execution_count": 39,
   "metadata": {
    "collapsed": true
   },
   "outputs": [
    {
     "data": {
      "text/plain": [
       "Counter({-9175677958307953808: 2,\n",
       "         -9130832840575974687: 26,\n",
       "         -9044589197689186199: 1,\n",
       "         -8889961977414400567: 192,\n",
       "         -8889634510052458573: 2,\n",
       "         -8737581320481467306: 1,\n",
       "         -8684975066678322338: 2,\n",
       "         -8626650307732181592: 2,\n",
       "         -8535871547584943363: 2,\n",
       "         -8414447340068092848: 2,\n",
       "         -8344566858101327297: 1985,\n",
       "         -8344565489477867772: 1,\n",
       "         -8253999997713297563: 1,\n",
       "         -8181701627128580684: 1,\n",
       "         -8035074705709774561: 1,\n",
       "         -8024963132335416380: 4,\n",
       "         -7979329340941921891: 2,\n",
       "         -7935562418909386284: 1,\n",
       "         -7897876175291348119: 1,\n",
       "         -7828428332729841210: 1,\n",
       "         -7773479352472181122: 2,\n",
       "         -7773474997810396047: 4,\n",
       "         -7449152018324942636: 1,\n",
       "         -7251663154803421018: 1,\n",
       "         -7187506471138238727: 4,\n",
       "         -7167074757364132588: 1,\n",
       "         -7148621607149576276: 104,\n",
       "         -7033820082469824677: 1,\n",
       "         -7008461354668141220: 2,\n",
       "         -6926005340909322210: 1,\n",
       "         -6866386771381526804: 1,\n",
       "         -6812772503690074628: 1,\n",
       "         -6655764012811955338: 1,\n",
       "         -6622418098607308388: 3,\n",
       "         -6590022571430976255: 50,\n",
       "         -6562395118580287298: 9,\n",
       "         -6523371527819499506: 1,\n",
       "         -6519082770993102567: 1,\n",
       "         -6513730696415473602: 9,\n",
       "         -6482835496580397386: 27,\n",
       "         -6359223475785131969: 1,\n",
       "         -6221807947152021284: 1,\n",
       "         -6086943476948449732: 16,\n",
       "         -5251191219038814527: 1,\n",
       "         -5093192643680456273: 5,\n",
       "         -5042191897256981435: 1,\n",
       "         -4939313820258751447: 459,\n",
       "         -4939313820257503872: 6,\n",
       "         -4259018454394053047: 1,\n",
       "         -3874869277870856966: 1,\n",
       "         -3859332758107358671: 1,\n",
       "         -3798926660464247218: 1,\n",
       "         -3515075467324549026: 1,\n",
       "         -3506127162067213153: 176,\n",
       "         -3461420670334127993: 1,\n",
       "         -3451037051665362516: 1,\n",
       "         -3266686650011186097: 1,\n",
       "         -3105802645490635427: 1,\n",
       "         -3105802645489387852: 563,\n",
       "         -3050354462100161071: 1,\n",
       "         -2935005936333522602: 1,\n",
       "         -2861336448256009602: 1,\n",
       "         -2605011117701832154: 5,\n",
       "         -2582379061793153004: 1,\n",
       "         -2582172872806676264: 1,\n",
       "         -2417675029483091786: 1,\n",
       "         -2330771195121706256: 1,\n",
       "         -2264739587221194903: 1,\n",
       "         -2260892092158146914: 3,\n",
       "         -2250733704426009853: 2,\n",
       "         -2183367853130244600: 16,\n",
       "         -1918842864030496026: 3,\n",
       "         -1630175037720203472: 6,\n",
       "         -1610582921319150364: 1,\n",
       "         -1577875852600109004: 1,\n",
       "         -1468472263929184778: 1,\n",
       "         -1376586643115001892: 2,\n",
       "         -1099326606741210772: 6,\n",
       "         -863012436541721465: 1,\n",
       "         -790637908209964650: 1,\n",
       "         -765120146101393146: 3,\n",
       "         -735850042744177517: 13,\n",
       "         -694092999499657151: 4,\n",
       "         -642880503977340660: 1,\n",
       "         -442222070200594682: 9,\n",
       "         -307535753362581193: 2,\n",
       "         -215334902357246316: 1,\n",
       "         -160025186508440932: 1,\n",
       "         -75297104964395668: 15,\n",
       "         -36328694130075508: 1,\n",
       "         62060298473258527: 3,\n",
       "         133053906581486838: 1,\n",
       "         165049069602753025: 2,\n",
       "         702975266601381339: 2,\n",
       "         926921466320346788: 5,\n",
       "         945794173460112134: 1,\n",
       "         1009911151200779423: 1,\n",
       "         1016163938701817713: 2,\n",
       "         1063978148259077714: 1,\n",
       "         1077561215281463287: 2,\n",
       "         1176905562856611319: 1,\n",
       "         1176905562857858894: 164,\n",
       "         1213453201673168514: 1,\n",
       "         1388348371198954327: 1,\n",
       "         1578483469413832973: 1,\n",
       "         1767628577979131263: 1,\n",
       "         1840829498498962109: 85,\n",
       "         1915015258093642006: 1,\n",
       "         2092990375069150324: 1,\n",
       "         2220916930534233503: 1,\n",
       "         2330487620327805238: 8,\n",
       "         2345081864661591172: 1,\n",
       "         2397963019955196689: 1,\n",
       "         2602005659841284212: 1,\n",
       "         2755394854411868166: 1,\n",
       "         2794800938754213460: 1,\n",
       "         3017081368320600516: 1,\n",
       "         3023960731742749133: 2,\n",
       "         3030150020705534903: 18,\n",
       "         3428507317070621400: 3,\n",
       "         3440245924475568540: 1,\n",
       "         3567067274967281415: 13,\n",
       "         3603117964229859406: 5,\n",
       "         3882099268914211286: 70,\n",
       "         3980831014728304071: 2,\n",
       "         3984717327140321700: 1,\n",
       "         4318213481600749205: 1,\n",
       "         4361652568203812594: 2,\n",
       "         4370774304893088312: 7,\n",
       "         4370774735013283187: 6,\n",
       "         4410061382660880856: 3,\n",
       "         4469383023051991609: 3,\n",
       "         4513076417895733353: 8,\n",
       "         4563648029973119110: 1,\n",
       "         4627358332635436129: 1,\n",
       "         4759381697786223526: 1,\n",
       "         4782101009127070231: 3,\n",
       "         4823625363204002390: 1,\n",
       "         4866149549638694233: 4,\n",
       "         4949606943595922677: 1,\n",
       "         4985638842127901892: 1,\n",
       "         5233033616350516498: 5,\n",
       "         5274252423281930084: 10,\n",
       "         5599530582189253212: 1,\n",
       "         5734173468529084554: 1,\n",
       "         5894570754193609975: 1,\n",
       "         5973830978618418085: 1,\n",
       "         5977489397700135852: 1,\n",
       "         6001410773902539813: 1,\n",
       "         6117783017724499694: 1,\n",
       "         6208331101720823726: 1,\n",
       "         6250784917473028166: 2,\n",
       "         6371544467693112695: 1,\n",
       "         6382537673348746559: 3,\n",
       "         6435123016013997642: 1,\n",
       "         6520911970056902780: 1,\n",
       "         6596398068883714081: 5,\n",
       "         6746059585226632542: 3,\n",
       "         6761900159748279026: 2,\n",
       "         6818115762472614892: 510,\n",
       "         6878889069700086943: 1,\n",
       "         6914552398075365285: 183,\n",
       "         7014773375888663529: 9,\n",
       "         7895139323564333567: 1,\n",
       "         7983481003254391022: 1,\n",
       "         8207483177669811929: 1,\n",
       "         8452574682733369913: 1,\n",
       "         8495034458831343030: 3,\n",
       "         8567344520526679496: 8,\n",
       "         8633768449355919140: 2})"
      ]
     },
     "execution_count": 39,
     "metadata": {},
     "output_type": "execute_result"
    }
   ],
   "source": [
    "hb.count"
   ]
  },
  {
   "cell_type": "markdown",
   "metadata": {
    "collapsed": true
   },
   "source": [
    "## inference"
   ]
  },
  {
   "cell_type": "code",
   "execution_count": 34,
   "metadata": {
    "collapsed": false
   },
   "outputs": [
    {
     "name": "stdout",
     "output_type": "stream",
     "text": [
      "chr20:59980-65177\t5190\t7\t60\t33ecb953-edd6-445b-87da-85c4551d8c8c_Basecall_Alignment_template\n"
     ]
    }
   ],
   "source": [
    "print(r)"
   ]
  },
  {
   "cell_type": "code",
   "execution_count": 35,
   "metadata": {
    "collapsed": false
   },
   "outputs": [
    {
     "data": {
      "text/plain": [
       "0.0013825794983211535"
      ]
     },
     "execution_count": 35,
     "metadata": {},
     "output_type": "execute_result"
    }
   ],
   "source": [
    "r.non_polymorphic_error_rate(bim)"
   ]
  },
  {
   "cell_type": "code",
   "execution_count": 37,
   "metadata": {
    "collapsed": false
   },
   "outputs": [
    {
     "data": {
      "text/plain": [
       "array([], dtype=float64)"
      ]
     },
     "execution_count": 37,
     "metadata": {},
     "output_type": "execute_result"
    }
   ],
   "source": [
    "r.get_mismatches_polymorphic(bim)"
   ]
  },
  {
   "cell_type": "code",
   "execution_count": 39,
   "metadata": {
    "collapsed": false
   },
   "outputs": [
    {
     "data": {
      "text/plain": [
       "134"
      ]
     },
     "execution_count": 39,
     "metadata": {},
     "output_type": "execute_result"
    }
   ],
   "source": [
    "r.n_polymorphic_sites(bim)"
   ]
  },
  {
   "cell_type": "markdown",
   "metadata": {},
   "source": [
    "## define correct label for NA12878 data\n",
    "- find_haplotypes_from_vcf.py"
   ]
  },
  {
   "cell_type": "code",
   "execution_count": null,
   "metadata": {
    "collapsed": true
   },
   "outputs": [],
   "source": []
  },
  {
   "cell_type": "code",
   "execution_count": 35,
   "metadata": {
    "collapsed": true
   },
   "outputs": [],
   "source": [
    "tbx = pysam.TabixFile(params['validataion_vcf'])"
   ]
  },
  {
   "cell_type": "code",
   "execution_count": null,
   "metadata": {
    "collapsed": true
   },
   "outputs": [],
   "source": []
  },
  {
   "cell_type": "code",
   "execution_count": 36,
   "metadata": {
    "collapsed": false
   },
   "outputs": [],
   "source": [
    "na12878_haps = find_haplotypes_from_vcf(tbx, bim, 20, 59980, 65117)"
   ]
  },
  {
   "cell_type": "code",
   "execution_count": 37,
   "metadata": {
    "collapsed": false
   },
   "outputs": [
    {
     "data": {
      "text/plain": [
       "array([[-9, -9, -9, -9, -9, -9, -9, -9, -9, -9, -9, -9, -9, -9, -9, -9, -9,\n",
       "        -9, -9,  1, -9,  1, -9, -9, -9, -9, -9, -9, -9, -9, -9, -9, -9, -9,\n",
       "        -9, -9, -9,  1, -9, -9, -9, -9, -9, -9, -9, -9, -9, -9, -9, -9, -9,\n",
       "        -9, -9, -9, -9, -9, -9, -9, -9, -9, -9, -9, -9, -9, -9, -9, -9, -9,\n",
       "        -9, -9, -9,  1, -9, -9, -9, -9, -9, -9, -9, -9, -9, -9, -9, -9, -9,\n",
       "        -9, -9, -9, -9, -9, -9, -9,  1, -9, -9, -9, -9, -9, -9, -9, -9, -9,\n",
       "        -9, -9, -9, -9, -9, -9, -9, -9, -9, -9, -9, -9, -9, -9, -9, -9, -9,\n",
       "        -9, -9, -9, -9, -9, -9, -9, -9, -9, -9, -9, -9, -9],\n",
       "       [-9, -9, -9, -9, -9, -9, -9, -9, -9, -9, -9, -9, -9, -9, -9, -9, -9,\n",
       "        -9, -9,  0, -9,  0, -9, -9, -9, -9, -9, -9, -9, -9, -9, -9, -9, -9,\n",
       "        -9, -9, -9,  0, -9, -9, -9, -9, -9, -9, -9, -9, -9, -9, -9, -9, -9,\n",
       "        -9, -9, -9, -9, -9, -9, -9, -9, -9, -9, -9, -9, -9, -9, -9, -9, -9,\n",
       "        -9, -9, -9,  0, -9, -9, -9, -9, -9, -9, -9, -9, -9, -9, -9, -9, -9,\n",
       "        -9, -9, -9, -9, -9, -9, -9,  0, -9, -9, -9, -9, -9, -9, -9, -9, -9,\n",
       "        -9, -9, -9, -9, -9, -9, -9, -9, -9, -9, -9, -9, -9, -9, -9, -9, -9,\n",
       "        -9, -9, -9, -9, -9, -9, -9, -9, -9, -9, -9, -9, -9]], dtype=int32)"
      ]
     },
     "execution_count": 37,
     "metadata": {},
     "output_type": "execute_result"
    }
   ],
   "source": [
    "na12878_haps"
   ]
  },
  {
   "cell_type": "markdown",
   "metadata": {},
   "source": [
    "# TODO\n",
    "- manage haplotype block\n",
    "  - partition bim file\n",
    "- inference"
   ]
  },
  {
   "cell_type": "code",
   "execution_count": null,
   "metadata": {
    "collapsed": true
   },
   "outputs": [],
   "source": []
  },
  {
   "cell_type": "code",
   "execution_count": null,
   "metadata": {
    "collapsed": true
   },
   "outputs": [],
   "source": []
  },
  {
   "cell_type": "code",
   "execution_count": null,
   "metadata": {
    "collapsed": true
   },
   "outputs": [],
   "source": []
  }
 ],
 "metadata": {
  "anaconda-cloud": {},
  "kernelspec": {
   "display_name": "Python [conda env:pgenlib]",
   "language": "python",
   "name": "conda-env-pgenlib-py"
  },
  "language_info": {
   "codemirror_mode": {
    "name": "ipython",
    "version": 2
   },
   "file_extension": ".py",
   "mimetype": "text/x-python",
   "name": "python",
   "nbconvert_exporter": "python",
   "pygments_lexer": "ipython2",
   "version": "2.7.5"
  }
 },
 "nbformat": 4,
 "nbformat_minor": 1
}
