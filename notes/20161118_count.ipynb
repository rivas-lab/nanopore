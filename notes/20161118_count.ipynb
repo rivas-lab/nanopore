{
 "cells": [
  {
   "cell_type": "code",
   "execution_count": 1,
   "metadata": {
    "collapsed": true
   },
   "outputs": [],
   "source": [
    "sam_f = '/home/ytanigaw/data/nanopore/20161008_wgs_caucasian_48hr.10k.bwa.mapq60.20kb.chr11.1.sam'"
   ]
  },
  {
   "cell_type": "code",
   "execution_count": 2,
   "metadata": {
    "collapsed": true
   },
   "outputs": [],
   "source": [
    "def read_sam(sam_f):\n",
    "    with open(sam_f, 'r') as f:\n",
    "        head = f.readline().strip()\n",
    "        entry = f.readline().strip().split()\n",
    "    return(head, entry)"
   ]
  },
  {
   "cell_type": "code",
   "execution_count": 3,
   "metadata": {
    "collapsed": true
   },
   "outputs": [],
   "source": [
    "def cigar2count(cigar_str):\n",
    "    stats = {'M':0, 'I':0, 'D':0, 'N':0, 'S':0, 'H':0, 'P':0, '=':0, 'X':0}\n",
    "    start = 0\n",
    "    i = 0\n",
    "    relative_pos = 0\n",
    "    while(i < len(cigar_str)):\n",
    "        while('0' <= cigar_str[i] <= '9'):\n",
    "            i = i + 1\n",
    "        segment_length = int(cigar_str[start:i])\n",
    "        segment_type = cigar_str[i]\n",
    "        relative_pos = relative_pos + segment_length\n",
    "        stats[segment_type] = stats[segment_type] + segment_length\n",
    "        i = i + 1\n",
    "        start = i\n",
    "    return(stats)"
   ]
  },
  {
   "cell_type": "code",
   "execution_count": 6,
   "metadata": {
    "collapsed": false
   },
   "outputs": [],
   "source": [
    "def get_count(sam_f):\n",
    "    (head, entry) = read_sam(sam_f=sam_f)\n",
    "    cnt = cigar2count(cigar_str=entry[5])\n",
    "    return(head, entry, cnt)"
   ]
  },
  {
   "cell_type": "code",
   "execution_count": 7,
   "metadata": {
    "collapsed": false
   },
   "outputs": [],
   "source": [
    "(head, entry, cnt) = get_count(sam_f=sam_f)"
   ]
  },
  {
   "cell_type": "code",
   "execution_count": 8,
   "metadata": {
    "collapsed": false
   },
   "outputs": [
    {
     "data": {
      "text/plain": [
       "{'=': 0,\n",
       " 'D': 1940,\n",
       " 'H': 0,\n",
       " 'I': 247,\n",
       " 'M': 14563,\n",
       " 'N': 0,\n",
       " 'P': 0,\n",
       " 'S': 15350,\n",
       " 'X': 0}"
      ]
     },
     "execution_count": 8,
     "metadata": {},
     "output_type": "execute_result"
    }
   ],
   "source": [
    "cnt"
   ]
  },
  {
   "cell_type": "code",
   "execution_count": null,
   "metadata": {
    "collapsed": true
   },
   "outputs": [],
   "source": []
  },
  {
   "cell_type": "markdown",
   "metadata": {},
   "source": [
    "## scratch code follows"
   ]
  },
  {
   "cell_type": "code",
   "execution_count": null,
   "metadata": {
    "collapsed": true
   },
   "outputs": [],
   "source": []
  },
  {
   "cell_type": "code",
   "execution_count": 5,
   "metadata": {
    "collapsed": false
   },
   "outputs": [
    {
     "data": {
      "text/plain": [
       "'channel_75_80bdccec-0a01-48bb-854d-094281ccc083_qscore_8.2_read_score_-1.8'"
      ]
     },
     "execution_count": 5,
     "metadata": {},
     "output_type": "execute_result"
    }
   ],
   "source": [
    "entry[0]"
   ]
  },
  {
   "cell_type": "code",
   "execution_count": 6,
   "metadata": {
    "collapsed": false
   },
   "outputs": [],
   "source": [
    "seq = entry[9]"
   ]
  },
  {
   "cell_type": "code",
   "execution_count": 7,
   "metadata": {
    "collapsed": false
   },
   "outputs": [],
   "source": [
    "pos = int(entry[3]) - 1"
   ]
  },
  {
   "cell_type": "code",
   "execution_count": 8,
   "metadata": {
    "collapsed": false
   },
   "outputs": [
    {
     "data": {
      "text/plain": [
       "9162868"
      ]
     },
     "execution_count": 8,
     "metadata": {},
     "output_type": "execute_result"
    }
   ],
   "source": [
    "pos"
   ]
  },
  {
   "cell_type": "code",
   "execution_count": 30,
   "metadata": {
    "collapsed": true
   },
   "outputs": [],
   "source": [
    "cigar = entry[5]"
   ]
  },
  {
   "cell_type": "code",
   "execution_count": 33,
   "metadata": {
    "collapsed": false
   },
   "outputs": [
    {
     "data": {
      "text/plain": [
       "{'=': 0,\n",
       " 'D': 1940,\n",
       " 'H': 0,\n",
       " 'I': 247,\n",
       " 'M': 14563,\n",
       " 'N': 0,\n",
       " 'P': 0,\n",
       " 'S': 15350,\n",
       " 'X': 0}"
      ]
     },
     "execution_count": 33,
     "metadata": {},
     "output_type": "execute_result"
    }
   ],
   "source": [
    "cigar2count(cigar)"
   ]
  },
  {
   "cell_type": "code",
   "execution_count": 25,
   "metadata": {
    "collapsed": true
   },
   "outputs": [
    {
     "name": "stdout",
     "output_type": "stream",
     "text": [
      "(21, 21, 'M')\n",
      "(22, 1, 'I')\n",
      "(33, 11, 'M')\n",
      "(34, 1, 'I')\n",
      "(35, 1, 'M')\n",
      "(36, 1, 'I')\n",
      "(39, 3, 'M')\n",
      "(42, 3, 'I')\n",
      "(50, 8, 'M')\n",
      "(51, 1, 'D')\n",
      "(71, 20, 'M')\n",
      "(72, 1, 'D')\n",
      "(83, 11, 'M')\n",
      "(85, 2, 'D')\n",
      "(98, 13, 'M')\n",
      "(99, 1, 'I')\n",
      "(111, 12, 'M')\n",
      "(113, 2, 'D')\n",
      "(129, 16, 'M')\n",
      "(133, 4, 'D')\n",
      "(140, 7, 'M')\n",
      "(141, 1, 'D')\n",
      "(145, 4, 'M')\n",
      "(148, 3, 'I')\n",
      "(158, 10, 'M')\n",
      "(159, 1, 'I')\n",
      "(160, 1, 'M')\n",
      "(161, 1, 'I')\n",
      "(180, 19, 'M')\n",
      "(181, 1, 'I')\n",
      "(193, 12, 'M')\n",
      "(194, 1, 'D')\n",
      "(228, 34, 'M')\n",
      "(230, 2, 'D')\n",
      "(242, 12, 'M')\n",
      "(243, 1, 'D')\n",
      "(244, 1, 'M')\n",
      "(246, 2, 'D')\n",
      "(259, 13, 'M')\n",
      "(261, 2, 'D')\n",
      "(267, 6, 'M')\n",
      "(268, 1, 'D')\n",
      "(277, 9, 'M')\n"
     ]
    }
   ],
   "source": [
    "stats = {'M':0, 'I':0, 'D':0, 'N':0, 'S':0, 'H':0, 'P':0, '=':0, 'X':0}\n",
    "start = 0\n",
    "i = 0\n",
    "relative_pos = 0\n",
    "while(i < len(cigar_t)):\n",
    "    while('0' <= cigar_t[i] <= '9'):\n",
    "        i = i + 1\n",
    "    segment_length = int(cigar_t[start:i])\n",
    "    segment_type = cigar_t[i]\n",
    "    relative_pos = relative_pos + segment_length\n",
    "    stats[segment_type] = stats[segment_type] + segment_length\n",
    "    #print(relative_pos, segment_length, segment_type)    \n",
    "    i = i + 1\n",
    "    start = i\n",
    "      "
   ]
  },
  {
   "cell_type": "code",
   "execution_count": 26,
   "metadata": {
    "collapsed": false
   },
   "outputs": [
    {
     "data": {
      "text/plain": [
       "{'=': 0, 'D': 20, 'H': 0, 'I': 13, 'M': 244, 'N': 0, 'P': 0, 'S': 0, 'X': 0}"
      ]
     },
     "execution_count": 26,
     "metadata": {},
     "output_type": "execute_result"
    }
   ],
   "source": [
    "stats"
   ]
  },
  {
   "cell_type": "code",
   "execution_count": 43,
   "metadata": {
    "collapsed": false
   },
   "outputs": [
    {
     "name": "stdout",
     "output_type": "stream",
     "text": [
      "('N', False)\n",
      "('S', True)\n",
      "('H', False)\n",
      "('P', False)\n",
      "('=', False)\n",
      "('X', False)\n"
     ]
    }
   ],
   "source": [
    "for type in ['N', 'S', 'H', 'P', '=', 'X']:\n",
    "    print(type, type in cigar)"
   ]
  },
  {
   "cell_type": "code",
   "execution_count": 40,
   "metadata": {
    "collapsed": false
   },
   "outputs": [
    {
     "ename": "TypeError",
     "evalue": "expected a character buffer object",
     "output_type": "error",
     "traceback": [
      "\u001b[0;31m---------------------------------------------------------------------------\u001b[0m",
      "\u001b[0;31mTypeError\u001b[0m                                 Traceback (most recent call last)",
      "\u001b[0;32m<ipython-input-40-64fecd15e128>\u001b[0m in \u001b[0;36m<module>\u001b[0;34m()\u001b[0m\n\u001b[0;32m----> 1\u001b[0;31m \u001b[0mcigar_t\u001b[0m\u001b[0;34m.\u001b[0m\u001b[0msplit\u001b[0m\u001b[0;34m(\u001b[0m\u001b[0;34m[\u001b[0m\u001b[0;34m'M'\u001b[0m\u001b[0;34m,\u001b[0m \u001b[0;34m'I'\u001b[0m\u001b[0;34m,\u001b[0m \u001b[0;34m'D'\u001b[0m\u001b[0;34m]\u001b[0m\u001b[0;34m)\u001b[0m\u001b[0;34m\u001b[0m\u001b[0m\n\u001b[0m",
      "\u001b[0;31mTypeError\u001b[0m: expected a character buffer object"
     ]
    }
   ],
   "source": [
    "cigar_t.split(['M', 'I', 'D'])"
   ]
  },
  {
   "cell_type": "markdown",
   "metadata": {},
   "source": [
    "## reference sequence\n",
    "- we can read reference sequence if needed"
   ]
  },
  {
   "cell_type": "code",
   "execution_count": 15,
   "metadata": {
    "collapsed": true
   },
   "outputs": [],
   "source": [
    "import pysam"
   ]
  },
  {
   "cell_type": "code",
   "execution_count": 17,
   "metadata": {
    "collapsed": false
   },
   "outputs": [],
   "source": [
    "ref_f = '/share/PI/mrivas/data/hg19/hg19.fa'"
   ]
  },
  {
   "cell_type": "code",
   "execution_count": 18,
   "metadata": {
    "collapsed": true
   },
   "outputs": [],
   "source": [
    "hg19 = pysam.FastaFile(ref_f)"
   ]
  },
  {
   "cell_type": "code",
   "execution_count": 24,
   "metadata": {
    "collapsed": false
   },
   "outputs": [],
   "source": [
    "ref = hg19.fetch(reference = 'chr11', start = pos, end = pos + len(seq))"
   ]
  },
  {
   "cell_type": "code",
   "execution_count": 26,
   "metadata": {
    "collapsed": false
   },
   "outputs": [
    {
     "data": {
      "text/plain": [
       "30160"
      ]
     },
     "execution_count": 26,
     "metadata": {},
     "output_type": "execute_result"
    }
   ],
   "source": [
    "len(ref)"
   ]
  },
  {
   "cell_type": "code",
   "execution_count": null,
   "metadata": {
    "collapsed": true
   },
   "outputs": [],
   "source": []
  }
 ],
 "metadata": {
  "anaconda-cloud": {},
  "kernelspec": {
   "display_name": "Python [pgenlib]",
   "language": "python",
   "name": "Python [pgenlib]"
  },
  "language_info": {
   "codemirror_mode": {
    "name": "ipython",
    "version": 2
   },
   "file_extension": ".py",
   "mimetype": "text/x-python",
   "name": "python",
   "nbconvert_exporter": "python",
   "pygments_lexer": "ipython2",
   "version": "2.7.5"
  }
 },
 "nbformat": 4,
 "nbformat_minor": 0
}
