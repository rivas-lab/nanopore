{
 "cells": [
  {
   "cell_type": "code",
   "execution_count": 1,
   "metadata": {
    "collapsed": true
   },
   "outputs": [],
   "source": [
    "import pysam\n",
    "sam_f = '/home/ytanigaw/data/nanopore/20161008_wgs_caucasian_48hr.10k.bwa.mapq60.20kb.chr11.sam'\n",
    "ref_f = '/share/PI/mrivas/data/hg19/hg19.fa'\n",
    "hg19 = pysam.FastaFile(ref_f)"
   ]
  },
  {
   "cell_type": "code",
   "execution_count": 2,
   "metadata": {
    "collapsed": true
   },
   "outputs": [],
   "source": [
    "def read_sam(sam_f, sep = None):\n",
    "    '''\n",
    "    read a sam file\n",
    "    Currently assumes that sam file has exactly one line of header\n",
    "    '''\n",
    "    with open(sam_f, 'r') as f:\n",
    "        head = f.readline().strip()\n",
    "        if(sep != None):\n",
    "            entries = [line.strip().split(sep) for line in f]\n",
    "        else:\n",
    "            entries = [line.strip().split() for line in f]\n",
    "    return(head, entries)"
   ]
  },
  {
   "cell_type": "code",
   "execution_count": 3,
   "metadata": {
    "collapsed": true
   },
   "outputs": [],
   "source": [
    "def parse_cigar(cigar):\n",
    "    '''\n",
    "    parse CIGAR string and return them as list of 2-tupples\n",
    "    '''\n",
    "    parsed = []\n",
    "    start = 0\n",
    "    i = 0\n",
    "    while(i < len(cigar)):\n",
    "        while('0' <= cigar[i] <= '9'):\n",
    "            i = i + 1\n",
    "        segment_length = int(cigar[start:i])\n",
    "        segment_type = cigar[i]\n",
    "        parsed.append((segment_length, segment_type))\n",
    "        i = i + 1\n",
    "        start = i\n",
    "    return(parsed)"
   ]
  },
  {
   "cell_type": "code",
   "execution_count": 4,
   "metadata": {
    "collapsed": true
   },
   "outputs": [],
   "source": [
    "def retrieve_alignment(seq, ref, cigar_list, gap_char = '_'):\n",
    "    '''\n",
    "    Based on parsed CIGAR string and read(seq) and reference(ref),\n",
    "    reconstruct an alignment and count match/mismatches\n",
    "    '''\n",
    "    aln_seq = []\n",
    "    aln_ref = []\n",
    "    aln_chr = []\n",
    "    ptr_seq = 0\n",
    "    ptr_ref = 0\n",
    "    stats = {'M':0, 'I':0, 'D':0, 'N':0, 'S':0, 'H':0, 'P':0, '=':0, 'X':0}\n",
    "    for i in xrange(len(cigar_list)):\n",
    "        if(cigar_list[i][1] == 'M'):\n",
    "            for j in xrange(cigar_list[i][0]):\n",
    "                aln_seq.append(seq[ptr_seq])\n",
    "                aln_ref.append(ref[ptr_ref])\n",
    "                if(seq[ptr_seq].upper() == ref[ptr_ref].upper()):\n",
    "                    aln_chr.append('=')\n",
    "                    stats['='] = stats['='] + 1\n",
    "                else:\n",
    "                    aln_chr.append('X')\n",
    "                    stats['X'] = stats['X'] + 1                    \n",
    "                ptr_seq = ptr_seq + 1\n",
    "                ptr_ref = ptr_ref + 1\n",
    "        elif(cigar_list[i][1] == 'I'):\n",
    "            aln_seq.append(seq[ptr_seq : ptr_seq + cigar_list[i][0]])\n",
    "            ptr_seq = ptr_seq + cigar_list[i][0]\n",
    "            aln_ref.append(gap_char * cigar_list[i][0])    \n",
    "            aln_chr.append('I' * cigar_list[i][0])    \n",
    "            stats['I'] = stats['I'] + cigar_list[i][0]                               \n",
    "        elif(cigar_list[i][1] == 'D'):\n",
    "            aln_seq.append(gap_char * cigar_list[i][0])\n",
    "            aln_ref.append(ref[ptr_ref : ptr_ref + cigar_list[i][0]])\n",
    "            ptr_ref = ptr_ref + cigar_list[i][0]\n",
    "            aln_chr.append('D' * cigar_list[i][0])    \n",
    "            stats['D'] = stats['D'] + cigar_list[i][0]                                           \n",
    "        else:\n",
    "            aln_seq.append(seq[ptr_seq : ptr_seq + cigar_list[i][0]])\n",
    "            ptr_seq = ptr_seq + cigar_list[i][0]\n",
    "            aln_ref.append(ref[ptr_ref : ptr_ref + cigar_list[i][0]])\n",
    "            ptr_ref = ptr_ref + cigar_list[i][0]\n",
    "            aln_chr.append(cigar_list[i][1] * cigar_list[i][0])        \n",
    "            stats[cigar_list[i][1]] = stats[cigar_list[i][1]] + cigar_list[i][0]\n",
    "    return(''.join(aln_seq), ''.join(aln_ref), ''.join(aln_chr), ptr_ref, stats)    "
   ]
  },
  {
   "cell_type": "code",
   "execution_count": 5,
   "metadata": {
    "collapsed": true
   },
   "outputs": [],
   "source": [
    "def process_entry(e, reference, gap_char = '_'):\n",
    "    '''\n",
    "    process one line in a sam file and returns an object of sam_entry class\n",
    "    '''\n",
    "    (aln_seq, aln_ref, aln_chr, ptr_ref, counts) = \\\n",
    "    retrieve_alignment(seq = e[9],\n",
    "                       ref = reference.fetch(reference = e[2],\n",
    "                                             start = int(e[3]) - 1, \n",
    "                                             end = int(e[3]) - 1 + len(e[9])),\n",
    "                       cigar_list = parse_cigar(e[5]), \n",
    "                       gap_char = gap_char)\n",
    "    return(sam_entry(e[2], int(e[3]), int(e[3]) + ptr_ref, len(e[9]), counts, aln_seq, aln_ref, aln_chr, e))"
   ]
  },
  {
   "cell_type": "code",
   "execution_count": 6,
   "metadata": {
    "collapsed": false
   },
   "outputs": [],
   "source": [
    "class sam_entry:\n",
    "    def __init__(self, name, aln_start, aln_end, seq_len, count, aln_seq, aln_ref, aln_chr, raw):\n",
    "        self.name = name\n",
    "        self.aln_start = aln_start\n",
    "        self.aln_end = aln_end\n",
    "        self.seq_len = seq_len\n",
    "        self.count = count\n",
    "        self.aln_seq = aln_seq\n",
    "        self.aln_ref = aln_ref\n",
    "        self.aln_chr = aln_chr\n",
    "        self.raw = raw\n",
    "    def format_aln(self, width = None):\n",
    "        strs = []\n",
    "        if(width == None):\n",
    "            width = len(self.aln_chr)\n",
    "        for batch in xrange(int((len(self.aln_chr) + width - 1) / width)):            \n",
    "            strs.append(self.aln_seq[batch * width : (batch + 1) * width])\n",
    "            strs.append(self.aln_chr[batch * width : (batch + 1) * width])\n",
    "            strs.append(self.aln_ref[batch * width : (batch + 1) * width])\n",
    "            strs.append('')\n",
    "        return('\\n'.join(strs))\n",
    "    def format_count(self):\n",
    "        return('\\t'.join([\"{:6d}\".format(self.count['=']),\n",
    "                          \"{:6d}\".format(self.count['X']),\n",
    "                          \"{:6d}\".format(self.count['I']),\n",
    "                          \"{:6d}\".format(self.count['D']),\n",
    "                          \"{:6d}\".format(self.count['N']),\n",
    "                          \"{:6d}\".format(self.count['S']),\n",
    "                          \"{:6d}\".format(self.count['H']),                          \n",
    "                          \"{:6d}\".format(self.count['P'])]))\n",
    "            "
   ]
  },
  {
   "cell_type": "code",
   "execution_count": 7,
   "metadata": {
    "collapsed": true
   },
   "outputs": [],
   "source": [
    "def format_counts(list):\n",
    "    strs = []\n",
    "    strs.append('\\t'.join([\"{:>6}\".format('='),\n",
    "                           \"{:>6}\".format('X'),\n",
    "                           \"{:>6}\".format('I'),\n",
    "                           \"{:>6}\".format('D'),\n",
    "                           \"{:>6}\".format('N'),\n",
    "                           \"{:>6}\".format('S'),\n",
    "                           \"{:>6}\".format('H'),\n",
    "                           \"{:>6}\".format('P')]))\n",
    "    return('\\n'.join(strs + [i.format_count() for i in list]))"
   ]
  },
  {
   "cell_type": "code",
   "execution_count": null,
   "metadata": {
    "collapsed": true
   },
   "outputs": [],
   "source": []
  },
  {
   "cell_type": "code",
   "execution_count": 8,
   "metadata": {
    "collapsed": true
   },
   "outputs": [],
   "source": [
    "def get_counts_main(sam_f, reference):\n",
    "    head, entries = read_sam(sam_f)\n",
    "    data = [process_entry(e, reference) for e in entries]\n",
    "    return(head, data)"
   ]
  },
  {
   "cell_type": "code",
   "execution_count": 9,
   "metadata": {
    "collapsed": false
   },
   "outputs": [
    {
     "ename": "IndexError",
     "evalue": "string index out of range",
     "output_type": "error",
     "traceback": [
      "\u001b[0;31m---------------------------------------------------------------------------\u001b[0m",
      "\u001b[0;31mIndexError\u001b[0m                                Traceback (most recent call last)",
      "\u001b[0;32m<ipython-input-9-1fd32d8c6572>\u001b[0m in \u001b[0;36m<module>\u001b[0;34m()\u001b[0m\n\u001b[0;32m----> 1\u001b[0;31m \u001b[0mget_counts_main\u001b[0m\u001b[0;34m(\u001b[0m\u001b[0msam_f\u001b[0m\u001b[0;34m,\u001b[0m \u001b[0mhg19\u001b[0m\u001b[0;34m)\u001b[0m\u001b[0;34m\u001b[0m\u001b[0m\n\u001b[0m",
      "\u001b[0;32m<ipython-input-8-e0b1da742015>\u001b[0m in \u001b[0;36mget_counts_main\u001b[0;34m(sam_f, reference)\u001b[0m\n\u001b[1;32m      1\u001b[0m \u001b[0;32mdef\u001b[0m \u001b[0mget_counts_main\u001b[0m\u001b[0;34m(\u001b[0m\u001b[0msam_f\u001b[0m\u001b[0;34m,\u001b[0m \u001b[0mreference\u001b[0m\u001b[0;34m)\u001b[0m\u001b[0;34m:\u001b[0m\u001b[0;34m\u001b[0m\u001b[0m\n\u001b[1;32m      2\u001b[0m     \u001b[0mhead\u001b[0m\u001b[0;34m,\u001b[0m \u001b[0mentries\u001b[0m \u001b[0;34m=\u001b[0m \u001b[0mread_sam\u001b[0m\u001b[0;34m(\u001b[0m\u001b[0msam_f\u001b[0m\u001b[0;34m)\u001b[0m\u001b[0;34m\u001b[0m\u001b[0m\n\u001b[0;32m----> 3\u001b[0;31m     \u001b[0mdata\u001b[0m \u001b[0;34m=\u001b[0m \u001b[0;34m[\u001b[0m\u001b[0mprocess_entry\u001b[0m\u001b[0;34m(\u001b[0m\u001b[0me\u001b[0m\u001b[0;34m,\u001b[0m \u001b[0mreference\u001b[0m\u001b[0;34m)\u001b[0m \u001b[0;32mfor\u001b[0m \u001b[0me\u001b[0m \u001b[0;32min\u001b[0m \u001b[0mentries\u001b[0m\u001b[0;34m]\u001b[0m\u001b[0;34m\u001b[0m\u001b[0m\n\u001b[0m\u001b[1;32m      4\u001b[0m     \u001b[0;32mreturn\u001b[0m\u001b[0;34m(\u001b[0m\u001b[0mhead\u001b[0m\u001b[0;34m,\u001b[0m \u001b[0mdata\u001b[0m\u001b[0;34m)\u001b[0m\u001b[0;34m\u001b[0m\u001b[0m\n",
      "\u001b[0;32m<ipython-input-5-4142a90d2195>\u001b[0m in \u001b[0;36mprocess_entry\u001b[0;34m(e, reference, gap_char)\u001b[0m\n\u001b[1;32m      8\u001b[0m                                              end = int(e[3]) - 1 + len(e[9])),\n\u001b[1;32m      9\u001b[0m                        \u001b[0mcigar_list\u001b[0m \u001b[0;34m=\u001b[0m \u001b[0mparse_cigar\u001b[0m\u001b[0;34m(\u001b[0m\u001b[0me\u001b[0m\u001b[0;34m[\u001b[0m\u001b[0;36m5\u001b[0m\u001b[0;34m]\u001b[0m\u001b[0;34m)\u001b[0m\u001b[0;34m,\u001b[0m\u001b[0;34m\u001b[0m\u001b[0m\n\u001b[0;32m---> 10\u001b[0;31m                        gap_char = gap_char)\n\u001b[0m\u001b[1;32m     11\u001b[0m     \u001b[0;32mreturn\u001b[0m\u001b[0;34m(\u001b[0m\u001b[0msam_entry\u001b[0m\u001b[0;34m(\u001b[0m\u001b[0me\u001b[0m\u001b[0;34m[\u001b[0m\u001b[0;36m2\u001b[0m\u001b[0;34m]\u001b[0m\u001b[0;34m,\u001b[0m \u001b[0mint\u001b[0m\u001b[0;34m(\u001b[0m\u001b[0me\u001b[0m\u001b[0;34m[\u001b[0m\u001b[0;36m3\u001b[0m\u001b[0;34m]\u001b[0m\u001b[0;34m)\u001b[0m\u001b[0;34m,\u001b[0m \u001b[0mint\u001b[0m\u001b[0;34m(\u001b[0m\u001b[0me\u001b[0m\u001b[0;34m[\u001b[0m\u001b[0;36m3\u001b[0m\u001b[0;34m]\u001b[0m\u001b[0;34m)\u001b[0m \u001b[0;34m+\u001b[0m \u001b[0mptr_ref\u001b[0m\u001b[0;34m,\u001b[0m \u001b[0mlen\u001b[0m\u001b[0;34m(\u001b[0m\u001b[0me\u001b[0m\u001b[0;34m[\u001b[0m\u001b[0;36m9\u001b[0m\u001b[0;34m]\u001b[0m\u001b[0;34m)\u001b[0m\u001b[0;34m,\u001b[0m \u001b[0mcounts\u001b[0m\u001b[0;34m,\u001b[0m \u001b[0maln_seq\u001b[0m\u001b[0;34m,\u001b[0m \u001b[0maln_ref\u001b[0m\u001b[0;34m,\u001b[0m \u001b[0maln_chr\u001b[0m\u001b[0;34m,\u001b[0m \u001b[0me\u001b[0m\u001b[0;34m)\u001b[0m\u001b[0;34m)\u001b[0m\u001b[0;34m\u001b[0m\u001b[0m\n",
      "\u001b[0;32m<ipython-input-4-a8a9e3488470>\u001b[0m in \u001b[0;36mretrieve_alignment\u001b[0;34m(seq, ref, cigar_list, gap_char)\u001b[0m\n\u001b[1;32m     14\u001b[0m             \u001b[0;32mfor\u001b[0m \u001b[0mj\u001b[0m \u001b[0;32min\u001b[0m \u001b[0mxrange\u001b[0m\u001b[0;34m(\u001b[0m\u001b[0mcigar_list\u001b[0m\u001b[0;34m[\u001b[0m\u001b[0mi\u001b[0m\u001b[0;34m]\u001b[0m\u001b[0;34m[\u001b[0m\u001b[0;36m0\u001b[0m\u001b[0;34m]\u001b[0m\u001b[0;34m)\u001b[0m\u001b[0;34m:\u001b[0m\u001b[0;34m\u001b[0m\u001b[0m\n\u001b[1;32m     15\u001b[0m                 \u001b[0maln_seq\u001b[0m\u001b[0;34m.\u001b[0m\u001b[0mappend\u001b[0m\u001b[0;34m(\u001b[0m\u001b[0mseq\u001b[0m\u001b[0;34m[\u001b[0m\u001b[0mptr_seq\u001b[0m\u001b[0;34m]\u001b[0m\u001b[0;34m)\u001b[0m\u001b[0;34m\u001b[0m\u001b[0m\n\u001b[0;32m---> 16\u001b[0;31m                 \u001b[0maln_ref\u001b[0m\u001b[0;34m.\u001b[0m\u001b[0mappend\u001b[0m\u001b[0;34m(\u001b[0m\u001b[0mref\u001b[0m\u001b[0;34m[\u001b[0m\u001b[0mptr_ref\u001b[0m\u001b[0;34m]\u001b[0m\u001b[0;34m)\u001b[0m\u001b[0;34m\u001b[0m\u001b[0m\n\u001b[0m\u001b[1;32m     17\u001b[0m                 \u001b[0;32mif\u001b[0m\u001b[0;34m(\u001b[0m\u001b[0mseq\u001b[0m\u001b[0;34m[\u001b[0m\u001b[0mptr_seq\u001b[0m\u001b[0;34m]\u001b[0m\u001b[0;34m.\u001b[0m\u001b[0mupper\u001b[0m\u001b[0;34m(\u001b[0m\u001b[0;34m)\u001b[0m \u001b[0;34m==\u001b[0m \u001b[0mref\u001b[0m\u001b[0;34m[\u001b[0m\u001b[0mptr_ref\u001b[0m\u001b[0;34m]\u001b[0m\u001b[0;34m.\u001b[0m\u001b[0mupper\u001b[0m\u001b[0;34m(\u001b[0m\u001b[0;34m)\u001b[0m\u001b[0;34m)\u001b[0m\u001b[0;34m:\u001b[0m\u001b[0;34m\u001b[0m\u001b[0m\n\u001b[1;32m     18\u001b[0m                     \u001b[0maln_chr\u001b[0m\u001b[0;34m.\u001b[0m\u001b[0mappend\u001b[0m\u001b[0;34m(\u001b[0m\u001b[0;34m'='\u001b[0m\u001b[0;34m)\u001b[0m\u001b[0;34m\u001b[0m\u001b[0m\n",
      "\u001b[0;31mIndexError\u001b[0m: string index out of range"
     ]
    }
   ],
   "source": [
    "get_counts_main(sam_f, hg19)"
   ]
  },
  {
   "cell_type": "code",
   "execution_count": null,
   "metadata": {
    "collapsed": true
   },
   "outputs": [],
   "source": []
  },
  {
   "cell_type": "code",
   "execution_count": 10,
   "metadata": {
    "collapsed": true
   },
   "outputs": [],
   "source": [
    "head, entries = read_sam(sam_f)"
   ]
  },
  {
   "cell_type": "code",
   "execution_count": 11,
   "metadata": {
    "collapsed": true
   },
   "outputs": [],
   "source": [
    "e = entries[0]\n",
    "reference = hg19"
   ]
  },
  {
   "cell_type": "code",
   "execution_count": 15,
   "metadata": {
    "collapsed": false
   },
   "outputs": [
    {
     "name": "stdout",
     "output_type": "stream",
     "text": [
      " 13810\t   753\t   247\t  1940\t     0\t 15350\t     0\t     0\n"
     ]
    }
   ],
   "source": [
    "pe = process_entry(entries[0], reference)\n",
    "print pe.format_count()"
   ]
  }
 ],
 "metadata": {
  "anaconda-cloud": {},
  "kernelspec": {
   "display_name": "Python [pgenlib]",
   "language": "python",
   "name": "Python [pgenlib]"
  },
  "language_info": {
   "codemirror_mode": {
    "name": "ipython",
    "version": 2
   },
   "file_extension": ".py",
   "mimetype": "text/x-python",
   "name": "python",
   "nbconvert_exporter": "python",
   "pygments_lexer": "ipython2",
   "version": "2.7.5"
  }
 },
 "nbformat": 4,
 "nbformat_minor": 0
}
