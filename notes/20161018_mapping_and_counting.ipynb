{
 "cells": [
  {
   "cell_type": "markdown",
   "metadata": {},
   "source": [
    "# mapping and counting\n",
    "In this note, I would address the following tasks:\n",
    "\n",
    "1. How many FAST5 files do we have?\n",
    "1. Take several sample files, and convert them into FASTQ file\n",
    "1. Map to the reference genome (hg19)\n",
    "1. Bring in prior data (UKBB 500k individuals)\n",
    "1. Take platimum whole genome VCF file to compute $\\theta$"
   ]
  },
  {
   "cell_type": "code",
   "execution_count": 1,
   "metadata": {
    "collapsed": false
   },
   "outputs": [
    {
     "name": "stdout",
     "output_type": "stream",
     "text": [
      "Python 3.5.2 :: Anaconda 4.1.1 (64-bit)\r\n"
     ]
    }
   ],
   "source": [
    "!python --version"
   ]
  },
  {
   "cell_type": "markdown",
   "metadata": {
    "collapsed": true
   },
   "source": [
    "# Summary"
   ]
  },
  {
   "cell_type": "markdown",
   "metadata": {},
   "source": [
    "## 0] Preparation\n",
    "- software installation and data download"
   ]
  },
  {
   "cell_type": "markdown",
   "metadata": {},
   "source": [
    "## 1] How many FAST5 files?"
   ]
  },
  {
   "cell_type": "markdown",
   "metadata": {},
   "source": [
    "- cDNA: 20161006_minion_hu man_cDNA\n",
    "- WGS: 20161008_wgs_cauc asian_48hr\n",
    "\n",
    "||cDNA | WGS|\n",
    "| ---- | ---- | ---- |\n",
    "| Number of FAST5 files| 48280 | 184911|\n",
    "|total reads | 26,854 | 29,964|\n",
    "|total base pairs | 46,314,462 | 44,839,915|\n",
    "|mean | 1724.68 | 1496.46|\n",
    "|median | 1094 | 925|\n",
    "|min | 58 | 35|\n",
    "|max | 108262 | 94024|\n",
    "|N25 | 5201 | 4547|\n",
    "|N50 | 2529 | 2227|\n",
    "|N75 | 1327 | 1140|"
   ]
  },
  {
   "cell_type": "code",
   "execution_count": null,
   "metadata": {
    "collapsed": true
   },
   "outputs": [],
   "source": []
  },
  {
   "cell_type": "code",
   "execution_count": null,
   "metadata": {
    "collapsed": true
   },
   "outputs": [],
   "source": []
  },
  {
   "cell_type": "code",
   "execution_count": null,
   "metadata": {
    "collapsed": true
   },
   "outputs": [],
   "source": []
  },
  {
   "cell_type": "markdown",
   "metadata": {},
   "source": [
    "## 1) How many fast5 files do we have?\n",
    "- simply use find command to count files"
   ]
  },
  {
   "cell_type": "code",
   "execution_count": 3,
   "metadata": {
    "collapsed": false
   },
   "outputs": [
    {
     "name": "stdout",
     "output_type": "stream",
     "text": [
      "48280\r\n"
     ]
    }
   ],
   "source": [
    "!find /home/ytanigaw/data/nanopore/20161006_minion_human_cDNA/ -name \"*.fast5\"| wc -l"
   ]
  },
  {
   "cell_type": "code",
   "execution_count": 2,
   "metadata": {
    "collapsed": false
   },
   "outputs": [
    {
     "name": "stdout",
     "output_type": "stream",
     "text": [
      "^C"
     ]
    }
   ],
   "source": [
    "!find /home/ytanigaw/data/nanopore/20161008_wgs_caucasian_48hr/ -name \"*.fast5\"| wc -l"
   ]
  },
  {
   "cell_type": "markdown",
   "metadata": {},
   "source": [
    "- it took time, so I submitted a job\n",
    "```\n",
    "[ytanigaw@sh-5-36 ~/projects/nanopore/scripts/20161018]$ sbatch 20161008_wgs_caucasian_48hr-count-fast5.sbatch\n",
    "Submitted batch job 10280157\n",
    "```"
   ]
  },
  {
   "cell_type": "code",
   "execution_count": 4,
   "metadata": {
    "collapsed": false
   },
   "outputs": [
    {
     "name": "stdout",
     "output_type": "stream",
     "text": [
      "find ${HOME}/data/nanopore/20161008_wgs_caucasian_48hr/ -name \"*.fast5\"| wc -l\r\n"
     ]
    }
   ],
   "source": [
    "!tail -n1 /home/ytanigaw/projects/nanopore/scripts/20161018/20161008_wgs_caucasian_48hr-count-fast5.sbatch"
   ]
  },
  {
   "cell_type": "code",
   "execution_count": 20,
   "metadata": {
    "collapsed": false
   },
   "outputs": [
    {
     "name": "stdout",
     "output_type": "stream",
     "text": [
      "184911\r\n"
     ]
    }
   ],
   "source": [
    "!cat ../scripts/20161018/20161008_wgs_caucasian_48hr-count-fast5.out"
   ]
  },
  {
   "cell_type": "code",
   "execution_count": 2,
   "metadata": {
    "collapsed": false
   },
   "outputs": [
    {
     "name": "stdout",
     "output_type": "stream",
     "text": [
      "/home/ytanigaw/data/nanopore/20161006_minion_human_cDNA/DN0a27203a_SUNet_20161001_FNFAB30583_MN20225_sequencing_run_20161001_brcabl_80046_ch292_read263_strand.fast5\n",
      "/home/ytanigaw/data/nanopore/20161006_minion_human_cDNA/DN0a27203a_SUNet_20161001_FNFAB30583_MN20225_sequencing_run_20161001_brcabl_80046_ch22_read997_strand.fast5\n",
      "/home/ytanigaw/data/nanopore/20161006_minion_human_cDNA/DN0a27203a_SUNet_20161001_FNFAB30583_MN20225_sequencing_run_20161001_brcabl_80046_ch358_read263_strand.fast5\n",
      "/home/ytanigaw/data/nanopore/20161006_minion_human_cDNA/DN0a27203a_SUNet_20161001_FNFAB30583_MN20225_sequencing_run_20161001_brcabl_80046_ch218_read2332_strand.fast5\n",
      "/home/ytanigaw/data/nanopore/20161006_minion_human_cDNA/DN0a27203a_SUNet_20161001_FNFAB30583_MN20225_sequencing_run_20161001_brcabl_80046_ch494_read1184_strand.fast5\n",
      "/home/ytanigaw/data/nanopore/20161006_minion_human_cDNA/DN0a27203a_SUNet_20161001_FNFAB30583_MN20225_sequencing_run_20161001_brcabl_80046_ch211_read974_strand.fast5\n",
      "/home/ytanigaw/data/nanopore/20161006_minion_human_cDNA/DN0a27203a_SUNet_20161001_FNFAB30583_MN20225_sequencing_run_20161001_brcabl_80046_ch228_read1384_strand.fast5\n",
      "/home/ytanigaw/data/nanopore/20161006_minion_human_cDNA/DN0a27203a_SUNet_20161001_FNFAB30583_MN20225_sequencing_run_20161001_brcabl_80046_ch211_read539_strand.fast5\n",
      "/home/ytanigaw/data/nanopore/20161006_minion_human_cDNA/DN0a27203a_SUNet_20161001_FNFAB30583_MN20225_sequencing_run_20161001_brcabl_80046_ch45_read1814_strand.fast5\n",
      "/home/ytanigaw/data/nanopore/20161006_minion_human_cDNA/DN0a27203a_SUNet_20161001_FNFAB30583_MN20225_sequencing_run_20161001_brcabl_80046_ch104_read597_strand1.fast5\n",
      "find: `standard output': Broken pipe\n",
      "find: write error\n"
     ]
    }
   ],
   "source": [
    "!find /home/ytanigaw/data/nanopore/20161006_minion_human_cDNA/ -name \"*.fast5\"|head"
   ]
  },
  {
   "cell_type": "code",
   "execution_count": null,
   "metadata": {
    "collapsed": true
   },
   "outputs": [],
   "source": []
  },
  {
   "cell_type": "markdown",
   "metadata": {},
   "source": [
    "## Helio's script\n",
    "- Helio kindly shared his code with us\n",
    "- I will have a look at it"
   ]
  },
  {
   "cell_type": "code",
   "execution_count": 5,
   "metadata": {
    "collapsed": false
   },
   "outputs": [
    {
     "name": "stdout",
     "output_type": "stream",
     "text": [
      "########################################################\r",
      "\r\n",
      "### Declare paths\r",
      "\r\n",
      "########################################################\r",
      "\r\n",
      "SAMTOOLS='/srv/gsfs0/projects/bustamante/progs/samtools-0.1.20/samtools'\r",
      "\r\n",
      "GENOME_GRCH37='/srv/gsfs0/projects/bustamante/hcosta_projects/resources/Gencode/Release19_GRCh37/GRCh37.p13.genome.fa'\r",
      "\r\n",
      "GENOME_BCRABL_DIR='/srv/gsfs0/projects/bustamante/hcosta_projects/resources/BCR-ABL_genome'\r",
      "\r\n",
      "FASTQ='/srv/gsfs0/projects/bustamante/hcosta_projects/projects/minion/data/20161001_bcrabl/20161001_bcrabl.fq'\r",
      "\r\n",
      "LAST='/srv/gsfs0/projects/bustamante/progs/last-759'\r",
      "\r\n",
      "RESULTS_DIR='/srv/gsfs0/projects/bustamante/hcosta_projects/projects/minion/results'\r",
      "\r\n",
      "PICARD='/srv/gsfs0/projects/bustamante/progs/picard-tools-1.138/picard.jar'\r",
      "\r\n",
      "\r",
      "\r\n",
      "\r",
      "\r\n",
      "########################################################\r",
      "\r\n",
      "### QLOGIN\r",
      "\r\n",
      "########################################################\r",
      "\r\n",
      "\r",
      "\r\n",
      "screen\r",
      "\r\n",
      "qlogin -l h_vmem=40G -q extended\r",
      "\r\n",
      "\r",
      "\r\n",
      "\r",
      "\r\n",
      "########################################################\r",
      "\r\n",
      "### Install poretools\r",
      "\r\n",
      "########################################################\r",
      "\r\n",
      "# install anaconda2.7\r",
      "\r\n",
      "# this is now default python, to load scg python do 'module load python'\r",
      "\r\n",
      "\r",
      "\r\n",
      "git clone https://github.com/arq5x/poretools\r",
      "\r\n",
      "cd poretools\r",
      "\r\n",
      "python setup.py install\r",
      "\r\n",
      "\r",
      "\r\n",
      "\r",
      "\r\n",
      "########################################################\r",
      "\r\n",
      "### Get fastq \r",
      "\r\n",
      "########################################################\r",
      "\r\n",
      "\r",
      "\r\n",
      "poretools \\\r",
      "\r\n",
      "\tfastq \\\r",
      "\r\n",
      "\t/srv/gsfs0/projects/bustamante/hcosta_projects/projects/minion/data/20161001_bcrabl/reads \\\r",
      "\r\n",
      "\t> /srv/gsfs0/projects/bustamante/hcosta_projects/projects/minion/data/20161001_bcrabl/201601001_bcrabl.fq\r",
      "\r\n",
      "\r",
      "\r\n",
      "\r",
      "\r\n",
      "########################################################\r",
      "\r\n",
      "### Get run stats\r",
      "\r\n",
      "########################################################\r",
      "\r\n",
      "\r",
      "\r\n",
      "poretools \\\r",
      "\r\n",
      "\tfastq \\\r",
      "\r\n",
      "\t/srv/gsfs0/projects/bustamante/hcosta_projects/projects/minion/data/20161001_bcrabl/reads \\\r",
      "\r\n",
      "\t> /srv/gsfs0/projects/bustamante/hcosta_projects/projects/minion/data/20161001_bcrabl/stats.txt\r",
      "\r\n",
      "\r",
      "\r\n",
      "\r",
      "\r\n",
      "########################################################\r",
      "\r\n",
      "### Align to BCR and ABL1 transcripts (follow LAST split DNA-genome alignment protocol as we're mapping to transcriptome)\r",
      "\r\n",
      "########################################################\r",
      "\r\n",
      "\r",
      "\r\n",
      "### 1) Concatenate BCR and ABL transcript fasta sequences\r",
      "\r\n",
      "# ABL1 (https://www.ncbi.nlm.nih.gov/nuccore/NM_005157.5)\r",
      "\r\n",
      "# BCR (https://www.ncbi.nlm.nih.gov/nuccore/NM_004327.3)\r",
      "\r\n",
      "# Merge into one fa file\r",
      "\r\n",
      "$GENOME_BCRABL_DIR/transcriptome.bcr.abl.loci.whole.fa\r",
      "\r\n",
      "\r",
      "\r\n",
      "\r",
      "\r\n",
      "### 2) Index merged fasta file\r",
      "\r\n",
      "$SAMTOOLS faidx \\\r",
      "\r\n",
      "\t$GENOME_BCRABL_DIR/transcriptome.bcr.abl.loci.whole.fa\r",
      "\r\n",
      "\r",
      "\r\n",
      "\r",
      "\r\n",
      "### 3) Create LAST index\r",
      "\r\n",
      "$LAST/src/lastdb \\\r",
      "\r\n",
      "\t-uNEAR \\\r",
      "\r\n",
      "\t-R01 \\\r",
      "\r\n",
      "\t$GENOME_BCRABL_DIR/transcriptome.bcr.abl.loci.whole \\\r",
      "\r\n",
      "\t$GENOME_BCRABL_DIR/transcriptome.bcr.abl.loci.whole.fa\r",
      "\r\n",
      "\r",
      "\r\n",
      "\r",
      "\r\n",
      "### 4) Align\r",
      "\r\n",
      "$LAST/src/lastal \\\r",
      "\r\n",
      "\t-s 2 \\\r",
      "\r\n",
      "\t-T 0 \\\r",
      "\r\n",
      "\t-Q 1 \\\r",
      "\r\n",
      "\t-a 1 \\\r",
      "\r\n",
      "\t-D100 \\\r",
      "\r\n",
      "\t$GENOME_BCRABL_DIR/transcriptome.bcr.abl.loci.whole $FASTQ \\\r",
      "\r\n",
      "\t| \\\r",
      "\r\n",
      "\t$LAST/src/last-split \\\r",
      "\r\n",
      "\t-c0 \\\r",
      "\r\n",
      "\t> $RESULTS_DIR/20161009_bcrabl_mapping_transcriptome_bcr_abl_loci_whole/transcriptome.bcr.abl.loci.whole.fastParam.maf\r",
      "\r\n",
      "\r",
      "\r\n",
      "\r",
      "\r\n",
      "########################################################\r",
      "\r\n",
      "### Mask repetitive alignments\r",
      "\r\n",
      "########################################################\r",
      "\r\n",
      "\r",
      "\r\n",
      "$LAST/scripts/last-postmask \\\r",
      "\r\n",
      "\t$RESULTS_DIR/20161009_bcrabl_mapping_transcriptome_bcr_abl_loci_whole/transcriptome.bcr.abl.loci.whole.fastParam.maf \\\r",
      "\r\n",
      "\t> $RESULTS_DIR/20161009_bcrabl_mapping_transcriptome_bcr_abl_loci_whole/transcriptome.bcr.abl.loci.whole.fastParam.masked.maf\r",
      "\r\n",
      "\r",
      "\r\n",
      "\r",
      "\r\n",
      "########################################################\r",
      "\r\n",
      "### Convert to bam, sort and index\r",
      "\r\n",
      "########################################################\r",
      "\r\n",
      "\r",
      "\r\n",
      "### 1) MAF to SAM\r",
      "\r\n",
      "$LAST/scripts/maf-convert \\\r",
      "\r\n",
      "\tsam \\\r",
      "\r\n",
      "\t-r 'ID:BCR-ABL CN:BUSTAMANTE LB:BCR-ABL PL:NANOPORE PU:BCR-ABL SM:BCR-ABL' \\\r",
      "\r\n",
      "\t$RESULTS_DIR/20161009_bcrabl_mapping_transcriptome_bcr_abl_loci_whole/transcriptome.bcr.abl.loci.whole.fastParam.masked.maf \\\r",
      "\r\n",
      "\t> $RESULTS_DIR/20161009_bcrabl_mapping_transcriptome_bcr_abl_loci_whole/transcriptome.bcr.abl.loci.whole.fastParam.masked.sam\r",
      "\r\n",
      "\r",
      "\r\n",
      "\r",
      "\r\n",
      "### 2) SAM to BAM\r",
      "\r\n",
      "$SAMTOOLS \\\r",
      "\r\n",
      "\tview \\\r",
      "\r\n",
      "\t-bt \\\r",
      "\r\n",
      "\t$GENOME_BCRABL_DIR/transcriptome.bcr.abl.loci.whole.fa.fai \\\r",
      "\r\n",
      "\t$RESULTS_DIR/20161009_bcrabl_mapping_transcriptome_bcr_abl_loci_whole/transcriptome.bcr.abl.loci.whole.fastParam.masked.sam \\\r",
      "\r\n",
      "\t> $RESULTS_DIR/20161009_bcrabl_mapping_transcriptome_bcr_abl_loci_whole/transcriptome.bcr.abl.loci.whole.fastParam.masked.bam\r",
      "\r\n",
      "\r",
      "\r\n",
      "\r",
      "\r\n",
      "### 3) Sort and index bam\r",
      "\r\n",
      "java -jar $PICARD SortSam \\\r",
      "\r\n",
      "\tI=$RESULTS_DIR/20161009_bcrabl_mapping_transcriptome_bcr_abl_loci_whole/transcriptome.bcr.abl.loci.whole.fastParam.masked.bam \\\r",
      "\r\n",
      "\tO=$RESULTS_DIR/20161009_bcrabl_mapping_transcriptome_bcr_abl_loci_whole/transcriptome.bcr.abl.loci.whole.fastParam.masked.sorted.bam \\\r",
      "\r\n",
      "\tSORT_ORDER=coordinate \\\r",
      "\r\n",
      "\tCREATE_INDEX=TRUE\r",
      "\r\n",
      "\r",
      "\r\n"
     ]
    }
   ],
   "source": [
    "!cat /home/ytanigaw/projects/nanopore/scripts/from_Helio/nanopore_rna.20161009.v1.sh"
   ]
  },
  {
   "cell_type": "markdown",
   "metadata": {},
   "source": [
    "- basically they have installed the necessary softwares into their lab partition on scg4 cluster"
   ]
  },
  {
   "cell_type": "markdown",
   "metadata": {},
   "source": [
    "## mapping software\n",
    "- Should we use sherlock cluster or scg4 cluster?\n",
    "  - depending on the availabilities of softwares"
   ]
  },
  {
   "cell_type": "markdown",
   "metadata": {},
   "source": [
    "### Sherlock cluster"
   ]
  },
  {
   "cell_type": "code",
   "execution_count": 11,
   "metadata": {
    "collapsed": false
   },
   "outputs": [
    {
     "name": "stdout",
     "output_type": "stream",
     "text": [
      "sh-5-36.local\r\n"
     ]
    }
   ],
   "source": [
    "!hostname"
   ]
  },
  {
   "cell_type": "code",
   "execution_count": 9,
   "metadata": {
    "collapsed": false
   },
   "outputs": [],
   "source": [
    "!module avail > /tmp/module-avail 2>&1"
   ]
  },
  {
   "cell_type": "code",
   "execution_count": 10,
   "metadata": {
    "collapsed": false
   },
   "outputs": [
    {
     "name": "stdout",
     "output_type": "stream",
     "text": [
      "Rebuilding cache, please wait ... (not written to file) done\r\n",
      "\r\n",
      "---------------------------- /share/sw/modules/Core ----------------------------\r\n",
      "   APBS/1.4.1\r\n",
      "   CNTK/1.1                                        (g)\r\n",
      "   CUB/1.5.2                                       (g)\r\n",
      "   FETK/1.4\r\n",
      "   GraphicsMagick/GraphicsMagick-1.4.020151212\r\n",
      "   IGV/2.3.79\r\n",
      "   LAMMPS/9Dec2014\r\n",
      "   NAMD/2.11                                       (g)\r\n",
      "   OpenBabel/2.3.2\r\n",
      "   QuantumEspresso/5.1.1/intel\r\n",
      "   R/3.0.2\r\n",
      "   R/3.2.0\r\n",
      "   R/3.2.2                                         (D)\r\n",
      "   R/3.2.5.intel.tcltk\r\n",
      "   R/3.2.5.intelmpi\r\n",
      "   R/3.2.5\r\n",
      "   R/3.3.0\r\n",
      "   STAR/STAR\r\n",
      "   STAR-Fusion/v0.8\r\n",
      "   afni/16.2.13\r\n",
      "   allinea/5.0\r\n",
      "   allinea/5.0.1\r\n",
      "   allinea/5.1\r\n",
      "   allinea/6.0                                     (D)\r\n",
      "   amber/14-cuda                                   (g)\r\n",
      "   amber/14-intel                                  (D)\r\n",
      "   anaconda/anaconda2\r\n",
      "   anaconda/anaconda3                              (L,D)\r\n",
      "   ansys/icemcfd/15.0\r\n",
      "   ansys/icemcfd/17.1                              (D)\r\n",
      "   antlr3c/3.1.3\r\n",
      "   ants/2.0.3\r\n",
      "   avogadro/avogadro\r\n",
      "   bazel/0.1.1\r\n",
      "   bazel/0.2.0                                     (D)\r\n",
      "   bcl2fastq2/2.17\r\n",
      "   beamnrc/v4\r\n",
      "   bedtools/2.26\r\n",
      "   boost/1.41.0\r\n",
      "   boost/1.54.0\r\n",
      "   boost/1.60.0                                    (D)\r\n",
      "   bzip2/1.0.6\r\n",
      "   caffe/rc3                                       (g)\r\n",
      "   chimera/1.11\r\n",
      "   cmake/3.2.2\r\n",
      "   comsol/43b\r\n",
      "   comsol/44                                       (D)\r\n",
      "   cplex/12.5.1\r\n",
      "   cuDNN/v2                                        (g)\r\n",
      "   cuDNN/v3                                        (g)\r\n",
      "   cuDNN/v4                                        (g)\r\n",
      "   cuDNN/v5                                        (g,D)\r\n",
      "   cuda/5.0                                        (g)\r\n",
      "   cuda/5.5                                        (g)\r\n",
      "   cuda/6.0                                        (g)\r\n",
      "   cuda/6.5                                        (g,D)\r\n",
      "   cuda/7.0                                        (g)\r\n",
      "   cuda/7.5                                        (g)\r\n",
      "   cuda/8.0                                        (g)\r\n",
      "   curl/7.49.1\r\n",
      "   deepdive/0.8.0\r\n",
      "   desmond/maestro_2014.2\r\n",
      "   desmond/3.4.0.2                                 (D)\r\n",
      "   egsnrc/v4\r\n",
      "   freesurfer/5.3.0-HCP\r\n",
      "   freesurfer/5.3.0-test\r\n",
      "   freesurfer/5.3.0                                (D)\r\n",
      "   fsl/5.0.6\r\n",
      "   fsl/5.0.7-test\r\n",
      "   fsl/5.0.7\r\n",
      "   fsl/5.0.9                                       (D)\r\n",
      "   gamess/05Dec2014R1/openmpi.1.10.2/intel.2016.u1\r\n",
      "   gamess/09_modified/intel.2016.u1\r\n",
      "   gaussian/g09-E01\r\n",
      "   gaussian/g09                                    (D)\r\n",
      "   gcc/4.8.1\r\n",
      "   gcc/4.9.1\r\n",
      "   gcc/5.3.0                                       (D)\r\n",
      "   gcta/1.24.2\r\n",
      "   gdal/2.1.0\r\n",
      "   gdrive/2.1.0\r\n",
      "   geos/svn3960\r\n",
      "   geos/3.5.0                                      (D)\r\n",
      "   gflags/2.1.1\r\n",
      "   glog/0.3.3\r\n",
      "   gperf/gperf-3.0.4\r\n",
      "   grace/5.1.25\r\n",
      "   grads/2.0.2\r\n",
      "   gromacs/5.1.2                                   (g)\r\n",
      "   gsl/2.1\r\n",
      "   gsutil/120.0\r\n",
      "   gurobi/5.6.3\r\n",
      "   gurobi/6.0.4                                    (D)\r\n",
      "   h5utils/1.12.1\r\n",
      "   harminv/1.4\r\n",
      "   hdf5/1.8.16\r\n",
      "   hdf5/1.10.0-patch1.intel.2016.u1                (D)\r\n",
      "   icotool/icoutils-0.31.0\r\n",
      "   intel/13sp1up1                                  (D)\r\n",
      "   intel/13sp1.2.144\r\n",
      "   intel/2015\r\n",
      "   intel/2016.u1\r\n",
      "   intelmpi/4.1.3.048\r\n",
      "   java/8u91\r\n",
      "   jre/1.8.0_91\r\n",
      "   julia/gcc/0.3.0-pre\r\n",
      "   julia/gcc/0.3.1                                 (D)\r\n",
      "   julia/gcc/0.4.0\r\n",
      "   julia/gcc.snb/0.3.1\r\n",
      "   julia/intel/0.4.0\r\n",
      "   julia/precompiled/0.5.0\r\n",
      "   kallisto/0.43.0\r\n",
      "   keras/1.0.2\r\n",
      "   knitro/10.1.1\r\n",
      "   libctl/3.2.2\r\n",
      "   libffi/3.2.1\r\n",
      "   libjpeg-turbo/1.4.2\r\n",
      "   libmatheval/1.1.11\r\n",
      "   ligsift/ligsift.ob.2.3.2\r\n",
      "   lmdb/0.9.14\r\n",
      "   luarocks/2.3.0\r\n",
      "   lynx/2.8.8\r\n",
      "   matlab/R2012b\r\n",
      "   matlab/R2013b\r\n",
      "   matlab/R2014a\r\n",
      "   matlab/R2014b\r\n",
      "   matlab/R2015a\r\n",
      "   matlab/R2015b                                   (D)\r\n",
      "   meep/1.3\r\n",
      "   mosek/7/python2.6.6\r\n",
      "   mosek/7/python2.7.5\r\n",
      "   mosek/7/python3.3.2                             (D)\r\n",
      "   mpich/3.1.4/gcc\r\n",
      "   mpich/3.1.4/intel                               (D)\r\n",
      "   mpich2/1.5/gcc                                  (O)\r\n",
      "   mrtrix/0.2.12\r\n",
      "   mrtrix/3                                        (D)\r\n",
      "   mxnet/0.7.0                                     (g)\r\n",
      "   nag/m24\r\n",
      "   nag/nagfor                                      (D)\r\n",
      "   ncbi-blast+/2.3.0\r\n",
      "   nccl/1.1.1                                      (g)\r\n",
      "   ncl/6.2.1\r\n",
      "   ncl/6.3.0                                       (D)\r\n",
      "   ncview/2.1.6\r\n",
      "   neon/1.4.0                                      (g)\r\n",
      "   netCDF/4.3.0/gcc\r\n",
      "   netCDF/4.3.0/intel                              (D)\r\n",
      "   netCDF/4.3.3.1/intel\r\n",
      "   netCDF/4.4.0-intel\r\n",
      "   nodejs/4.4.4\r\n",
      "   nwchem/6.6.27746\r\n",
      "   octave/octave-4.0.0\r\n",
      "   octave/octave-4.0.2                             (D)\r\n",
      "   openblas/0.2.15\r\n",
      "   opencv/2.4.9                                    (g)\r\n",
      "   opencv/3.0.0                                    (D)\r\n",
      "   openmpi/1.10.2/gcc                              (D)\r\n",
      "   openmpi/1.10.2/intel\r\n",
      "   openmpi/1.10.2.intel.2016.u1\r\n",
      "   openmpi/1.8.7/gcc                               (D)\r\n",
      "   openmpi/1.8.7/intel\r\n",
      "   openmpi/2.0.0\r\n",
      "   orca/3.0.3\r\n",
      "   paraview/4.1.0\r\n",
      "   pcre/8.38\r\n",
      "   perl/5.24.0\r\n",
      "   pipelines/3.6.0-GEFM\r\n",
      "   plink/1.07\r\n",
      "   plink/1.9_b1                                    (D)\r\n",
      "   protobuf/2.6.1rc1\r\n",
      "   py-cython/0.24\r\n",
      "   py-numpy/1.10.4\r\n",
      "   py-psycopg2/2.6.1\r\n",
      "   py-scikit-image/0.11.3\r\n",
      "   py-scipy/0.17.0\r\n",
      "   python/2.7.5\r\n",
      "   python/3.3.2                                    (D)\r\n",
      "   rclone/1.32\r\n",
      "   rdkit/anaconda3-rdkit\r\n",
      "   rdkit/command.sh                                (D)\r\n",
      "   rstudio/0.98.501\r\n",
      "   rstudio/0.98.983                                (D)\r\n",
      "   samtool/1.3.1\r\n",
      "   sas/9.4\r\n",
      "   scala/2.10.6\r\n",
      "   singularity/2.0\r\n",
      "   singularity/2.1\r\n",
      "   singularity/2.1.2                               (D)\r\n",
      "   slurm-drmaa/1.0.7\r\n",
      "   spark/hadoop2.6/1.6.1\r\n",
      "   spm/8\r\n",
      "   spm/12b                                         (D)\r\n",
      "   stata/12\r\n",
      "   stata/13                                        (D)\r\n",
      "   supernova/1.0.0\r\n",
      "   swig/3.0.8\r\n",
      "   tabix/0.2.6\r\n",
      "   tcltk/8.6.5\r\n",
      "   tensorflow/0.5.0-cpu\r\n",
      "   tensorflow/0.5.0-gpu                            (g)\r\n",
      "   tensorflow/0.6.0-gpu                            (g)\r\n",
      "   tensorflow/0.7.1-gpu                            (g)\r\n",
      "   tensorflow/0.8.0-gpu                            (g)\r\n",
      "   tensorflow/0.9.0                                (g,D)\r\n",
      "   theano/0.8.2\r\n",
      "   tigervnc/1.3.1\r\n",
      "   tigervnc/1.6.0                                  (D)\r\n",
      "   torch/20160504                                  (g)\r\n",
      "   trilinos/12.6.1\r\n",
      "   udunits/2.2.20\r\n",
      "   vmd/1.9.2\r\n",
      "   weka/3.8.0\r\n",
      "   workbench/1.0\r\n",
      "   wrf/3.7.1-intel\r\n",
      "   wxWidgets/3.1.0\r\n",
      "   xz/5.2.2\r\n",
      "   zlib/1.2.8\r\n",
      "\r\n",
      "  Where:\r\n",
      "   D:  Default Module\r\n",
      "   L:  Module is loaded\r\n",
      "   O:  Obsolete\r\n",
      "   g:  built for GPU\r\n",
      "\r\n",
      "Use \"module spider\" to find all possible modules.\r\n",
      "Use \"module keyword key1 key2 ...\" to search for all possible modules matching\r\n",
      "any of the \"keys\".\r\n",
      "\r\n"
     ]
    }
   ],
   "source": [
    "!cat /tmp/module-avail"
   ]
  },
  {
   "cell_type": "markdown",
   "metadata": {},
   "source": [
    "- there is less bioinformatics tools support on this cluster"
   ]
  },
  {
   "cell_type": "markdown",
   "metadata": {},
   "source": [
    "### scg4 cluster\n",
    "- they have bowtie, blast, bwa, ... most commonly used bioinfo tools.\n",
    "- however, they do not have anaconda module, even worse they do not have python 3.5 (they have python 3.4)"
   ]
  },
  {
   "cell_type": "markdown",
   "metadata": {},
   "source": [
    "## data download\n",
    "- In the meanwhile, I would download data"
   ]
  },
  {
   "cell_type": "markdown",
   "metadata": {},
   "source": [
    "#### hg19\n",
    "- go to UCSC genome browser and download hg19\n",
    "  - http://hgdownload.cse.ucsc.edu/goldenPath/hg19/bigZips/"
   ]
  },
  {
   "cell_type": "code",
   "execution_count": 15,
   "metadata": {
    "collapsed": false
   },
   "outputs": [
    {
     "name": "stdout",
     "output_type": "stream",
     "text": [
      "SOURCE=\"http://hgdownload.cse.ucsc.edu/goldenPath/hg19/bigZips/chromFa.tar.gz\"\r\n",
      "wget ${SOURCE} \\\r\n",
      "     -P ${HOME}/data/\r\n"
     ]
    }
   ],
   "source": [
    "!tail -n3 ../scripts/20161018/20161008_hg19_dl.sbatch"
   ]
  },
  {
   "cell_type": "code",
   "execution_count": null,
   "metadata": {
    "collapsed": true
   },
   "outputs": [],
   "source": []
  },
  {
   "cell_type": "code",
   "execution_count": null,
   "metadata": {
    "collapsed": true
   },
   "outputs": [],
   "source": [
    "## software installation\n",
    "- I need to install relevant softwares on Sherlock"
   ]
  },
  {
   "cell_type": "markdown",
   "metadata": {},
   "source": [
    "- submitted a job\n",
    "```\n",
    "[ytanigaw@sh-5-36 ~/projects/nanopore/scripts/20161018]$ sbatch 20161008_hg19_dl.sbatch\n",
    "Submitted batch job 10281245\n",
    "```"
   ]
  },
  {
   "cell_type": "markdown",
   "metadata": {},
   "source": [
    "### LAST\n"
   ]
  },
  {
   "cell_type": "code",
   "execution_count": 23,
   "metadata": {
    "collapsed": false
   },
   "outputs": [
    {
     "name": "stdout",
     "output_type": "stream",
     "text": [
      "--2016-10-18 15:29:21--  http://last.cbrc.jp/last-759.zip\n",
      "Resolving last.cbrc.jp... 124.35.84.43\n",
      "Connecting to last.cbrc.jp|124.35.84.43|:80... connected.\n",
      "HTTP request sent, awaiting response... 200 OK\n",
      "Length: 710209 (694K) [application/zip]\n",
      "Saving to: “/tmp/last-759.zip”\n",
      "\n",
      "100%[======================================>] 710,209      822K/s   in 0.8s    \n",
      "\n",
      "2016-10-18 15:29:22 (822 KB/s) - “/tmp/last-759.zip” saved [710209/710209]\n",
      "\n"
     ]
    }
   ],
   "source": [
    "!wget http://last.cbrc.jp/last-759.zip -P /tmp"
   ]
  },
  {
   "cell_type": "code",
   "execution_count": 25,
   "metadata": {
    "collapsed": false
   },
   "outputs": [
    {
     "name": "stdout",
     "output_type": "stream",
     "text": [
      "Archive:  /tmp/last-759.zip\n",
      "replace last-759/ChangeLog.txt? [y]es, [n]o, [A]ll, [N]one, [r]ename: ^C\n"
     ]
    }
   ],
   "source": [
    "!unzip /tmp/last-759.zip"
   ]
  },
  {
   "cell_type": "code",
   "execution_count": 27,
   "metadata": {
    "collapsed": false
   },
   "outputs": [],
   "source": [
    "!cd /tmp/last-759/"
   ]
  },
  {
   "cell_type": "code",
   "execution_count": 28,
   "metadata": {
    "collapsed": false
   },
   "outputs": [
    {
     "name": "stdout",
     "output_type": "stream",
     "text": [
      "/bin/sh: ./configure: No such file or directory\r\n"
     ]
    }
   ],
   "source": [
    "!./configure --prefix=/share/PI/mrivas"
   ]
  },
  {
   "cell_type": "code",
   "execution_count": 29,
   "metadata": {
    "collapsed": false
   },
   "outputs": [
    {
     "name": "stdout",
     "output_type": "stream",
     "text": [
      "Please see the documentation in the \"doc\" directory.\r\n",
      "\r\n",
      "* Installation & general info: doc/last.txt\r\n",
      "* Usage: start with doc/last-tutorial.txt\r\n"
     ]
    }
   ],
   "source": [
    "!cat /tmp/last-759/README.txt"
   ]
  },
  {
   "cell_type": "markdown",
   "metadata": {
    "collapsed": true
   },
   "source": [
    "- I just followed the docmentation and installed into the shared dir of our lab.\n",
    "```\n",
    "[ytanigaw@sh-5-36 /tmp/last-759]$ ml load gcc\n",
    "[ytanigaw@sh-5-36 /tmp/last-759]$ make\n",
    "[ytanigaw@sh-5-36 /tmp/last-759]$ make install prefix=/share/PI/mrivas/\n",
    "```\n",
    "- added `/share/PI/mrivas/bin/` to my path (~/.bash_profile)"
   ]
  },
  {
   "cell_type": "code",
   "execution_count": 1,
   "metadata": {
    "collapsed": false
   },
   "outputs": [
    {
     "name": "stdout",
     "output_type": "stream",
     "text": [
      "/share/sw/free/anaconda/anaconda3/bin:/share/PI/mrivas/bin:/home/ytanigaw/.local/bin:/share/sw/srcc/bin:/share/sw/srcc/bin:/usr/lib64/qt-3.3/bin:/usr/local/bin:/bin:/usr/bin:/opt/pdsh/bin:/opt/rocks/bin:/opt/rocks/sbin:/opt/dell/srvadmin/bin:/usr/local/sbin:/usr/sbin:/sbin:/home/ytanigaw/bin\r\n"
     ]
    }
   ],
   "source": [
    "!echo $PATH"
   ]
  },
  {
   "cell_type": "code",
   "execution_count": 2,
   "metadata": {
    "collapsed": false
   },
   "outputs": [
    {
     "name": "stdout",
     "output_type": "stream",
     "text": [
      "/share/PI/mrivas/bin/lastdb\r\n"
     ]
    }
   ],
   "source": [
    "!which lastdb"
   ]
  },
  {
   "cell_type": "markdown",
   "metadata": {
    "collapsed": true
   },
   "source": [
    "- successfully installed"
   ]
  },
  {
   "cell_type": "markdown",
   "metadata": {},
   "source": [
    "#### LAST example #1 on tutorial\n",
    "- http://last.cbrc.jp/doc/last-tutorial.html"
   ]
  },
  {
   "cell_type": "code",
   "execution_count": 4,
   "metadata": {
    "collapsed": false
   },
   "outputs": [],
   "source": [
    "!ml load gcc"
   ]
  },
  {
   "cell_type": "code",
   "execution_count": 10,
   "metadata": {
    "collapsed": false
   },
   "outputs": [
    {
     "name": "stdout",
     "output_type": "stream",
     "text": [
      "lastdb: /usr/lib64/libstdc++.so.6: version `GLIBCXX_3.4.17' not found (required by lastdb)\r\n",
      "lastdb: /usr/lib64/libstdc++.so.6: version `CXXABI_1.3.8' not found (required by lastdb)\r\n",
      "lastdb: /usr/lib64/libstdc++.so.6: version `GLIBCXX_3.4.21' not found (required by lastdb)\r\n"
     ]
    }
   ],
   "source": [
    "!lastdb -cR01 /tmp/last-759/humdb /tmp/last-759/examples/humanMito.fa"
   ]
  },
  {
   "cell_type": "markdown",
   "metadata": {},
   "source": [
    "- I got an error\n",
    "- After having some google search, I decided to try with older version of gcc\n",
    "```\n",
    "[ytanigaw@sh-5-36 /tmp/last-759]$ ml load gcc/4.9.1\n",
    "[ytanigaw@sh-5-36 /tmp/last-759]$ make\n",
    "[ytanigaw@sh-5-36 /tmp/last-759]$ make install prefix=/share/PI/mrivas/\n",
    "```\n"
   ]
  },
  {
   "cell_type": "code",
   "execution_count": 11,
   "metadata": {
    "collapsed": true
   },
   "outputs": [],
   "source": [
    "!lastdb -cR01 /tmp/last-759/humdb /tmp/last-759/examples/humanMito.fa"
   ]
  },
  {
   "cell_type": "markdown",
   "metadata": {},
   "source": [
    "- it works!! :)"
   ]
  },
  {
   "cell_type": "code",
   "execution_count": 12,
   "metadata": {
    "collapsed": true
   },
   "outputs": [],
   "source": [
    "!lastal /tmp/last-759/humdb /tmp/last-759/examples/fuguMito.fa > ~/myalns.maf"
   ]
  },
  {
   "cell_type": "code",
   "execution_count": 13,
   "metadata": {
    "collapsed": false
   },
   "outputs": [
    {
     "name": "stdout",
     "output_type": "stream",
     "text": [
      "93 /home/ytanigaw/myalns.maf\r\n"
     ]
    }
   ],
   "source": [
    "!wc -l /home/ytanigaw/myalns.maf"
   ]
  },
  {
   "cell_type": "code",
   "execution_count": null,
   "metadata": {
    "collapsed": true
   },
   "outputs": [],
   "source": []
  },
  {
   "cell_type": "code",
   "execution_count": null,
   "metadata": {
    "collapsed": true
   },
   "outputs": [],
   "source": []
  },
  {
   "cell_type": "code",
   "execution_count": null,
   "metadata": {
    "collapsed": true
   },
   "outputs": [],
   "source": []
  },
  {
   "cell_type": "code",
   "execution_count": null,
   "metadata": {
    "collapsed": true
   },
   "outputs": [],
   "source": []
  },
  {
   "cell_type": "code",
   "execution_count": 16,
   "metadata": {
    "collapsed": false
   },
   "outputs": [
    {
     "name": "stdout",
     "output_type": "stream",
     "text": [
      "# On branch master\r\n",
      "# Changes not staged for commit:\r\n",
      "#   (use \"git add <file>...\" to update what will be committed)\r\n",
      "#   (use \"git checkout -- <file>...\" to discard changes in working directory)\r\n",
      "#\r\n",
      "#\t\u001b[31mmodified:   20161018_mapping_and_counting.ipynb\u001b[m\r\n",
      "#\r\n",
      "# Untracked files:\r\n",
      "#   (use \"git add <file>...\" to include in what will be committed)\r\n",
      "#\r\n",
      "#\t\u001b[31m../scripts/20161018/\u001b[m\r\n",
      "no changes added to commit (use \"git add\" and/or \"git commit -a\")\r\n"
     ]
    }
   ],
   "source": [
    "!git status"
   ]
  },
  {
   "cell_type": "code",
   "execution_count": 17,
   "metadata": {
    "collapsed": true
   },
   "outputs": [],
   "source": [
    "!git add 20161018_mapping_and_counting.ipynb"
   ]
  },
  {
   "cell_type": "code",
   "execution_count": 18,
   "metadata": {
    "collapsed": false
   },
   "outputs": [
    {
     "name": "stdout",
     "output_type": "stream",
     "text": [
      "[master 39a5fcd] update note: LAST installation\r\n",
      " 1 file changed, 474 insertions(+), 5 deletions(-)\r\n"
     ]
    }
   ],
   "source": [
    "!git commit -m \"update note: LAST installation\""
   ]
  },
  {
   "cell_type": "code",
   "execution_count": 19,
   "metadata": {
    "collapsed": false
   },
   "outputs": [
    {
     "name": "stdout",
     "output_type": "stream",
     "text": [
      "Counting objects: 7, done.\n",
      "Delta compression using up to 16 threads.\n",
      "Compressing objects: 100% (4/4), done.\n",
      "Writing objects: 100% (4/4), 2.48 KiB, done.\n",
      "Total 4 (delta 3), reused 0 (delta 0)\n",
      "remote: Resolving deltas: 100% (3/3), completed with 3 local objects.\u001b[K\n",
      "To git@github.com:rivas-lab/nanopore.git\n",
      "   08d728a..39a5fcd  master -> master\n"
     ]
    }
   ],
   "source": [
    "!git push origin master"
   ]
  },
  {
   "cell_type": "code",
   "execution_count": null,
   "metadata": {
    "collapsed": true
   },
   "outputs": [],
   "source": []
  }
 ],
 "metadata": {
  "anaconda-cloud": {},
  "kernelspec": {
   "display_name": "Python [Root]",
   "language": "python",
   "name": "Python [Root]"
  },
  "language_info": {
   "codemirror_mode": {
    "name": "ipython",
    "version": 3
   },
   "file_extension": ".py",
   "mimetype": "text/x-python",
   "name": "python",
   "nbconvert_exporter": "python",
   "pygments_lexer": "ipython3",
   "version": "3.5.2"
  }
 },
 "nbformat": 4,
 "nbformat_minor": 0
}
