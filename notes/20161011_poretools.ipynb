{
 "cells": [
  {
   "cell_type": "markdown",
   "metadata": {},
   "source": [
    "# poretools\n",
    "- In this note book, I would describe how to use poretools on Sherlock cluster\n"
   ]
  },
  {
   "cell_type": "markdown",
   "metadata": {},
   "source": [
    "## references\n",
    "- Source code developed by Nick Loman and Aaron Quinlan\n",
    "    - https://github.com/arq5x/poretools\n",
    "- paper in bioinformatics\n",
    "    - http://bioinformatics.oxfordjournals.org/content/30/23/3399.abstract"
   ]
  },
  {
   "cell_type": "markdown",
   "metadata": {},
   "source": [
    "## module dependencies\n",
    "- poretools are build on python 2.7 and hdf5 1.8"
   ]
  },
  {
   "cell_type": "code",
   "execution_count": 1,
   "metadata": {
    "collapsed": true
   },
   "outputs": [],
   "source": [
    "!ml load python/2.7.5\n",
    "!ml load hdf5/1.8.16"
   ]
  },
  {
   "cell_type": "markdown",
   "metadata": {},
   "source": [
    "- make sure that poretools runs on this environment"
   ]
  },
  {
   "cell_type": "code",
   "execution_count": 2,
   "metadata": {
    "collapsed": false
   },
   "outputs": [
    {
     "name": "stdout",
     "output_type": "stream",
     "text": [
      "usage: poretools [-h] [-v]\r\n",
      "                 \r\n",
      "                 {combine,fastq,fasta,stats,hist,events,readstats,tabular,nucdist,metadata,index,qualdist,qualpos,winner,squiggle,times,yield_plot,occupancy,organise}\r\n",
      "                 ...\r\n",
      "poretools: error: too few arguments\r\n"
     ]
    }
   ],
   "source": [
    "!poretools"
   ]
  },
  {
   "cell_type": "markdown",
   "metadata": {},
   "source": [
    "## Summary statistics of the data"
   ]
  },
  {
   "cell_type": "markdown",
   "metadata": {},
   "source": [
    "### (1) 20161006_minion_human_cDNA"
   ]
  },
  {
   "cell_type": "markdown",
   "metadata": {},
   "source": [
    "- The following command should give us summary statistics of the data, but it takes time"
   ]
  },
  {
   "cell_type": "code",
   "execution_count": 5,
   "metadata": {
    "collapsed": false
   },
   "outputs": [],
   "source": [
    "# !poretools stats -q /home/ytanigaw/nanopore/20161006_minion_human_cDNA/"
   ]
  },
  {
   "cell_type": "markdown",
   "metadata": {},
   "source": [
    "- I wrote a script file"
   ]
  },
  {
   "cell_type": "code",
   "execution_count": 5,
   "metadata": {
    "collapsed": false
   },
   "outputs": [
    {
     "name": "stdout",
     "output_type": "stream",
     "text": [
      "#!/bin/bash\r\n",
      "#\r\n",
      "#all commands that start with SBATCH contain commands that are just used by SLURM for scheduling\r\n",
      "#################\r\n",
      "#set a job name\r\n",
      "#SBATCH --job-name=poretools-q-20161006_minion_human_cDNA\r\n",
      "#################\r\n",
      "#a file for job output, you can check job progress\r\n",
      "#SBATCH --output=poretools-q-20161006_minion_human_cDNA.out\r\n",
      "#################\r\n",
      "# a file for errors from the job\r\n",
      "#SBATCH --error=poretools-q-20161006_minion_human_cDNA.err\r\n",
      "#################\r\n",
      "#time you think you need; default is 2 hours\r\n",
      "#format could be dd-hh:mm:ss, hh:mm:ss, mm:ss, or mm\r\n",
      "#SBATCH --time=2:00:00\r\n",
      "#################\r\n",
      "#quality of service; think of it as job priority\r\n",
      "#SBATCH --qos=normal\r\n",
      "# We are submitting to the dev partition, there are several on sherlock: normal, gpu, owners, hns, bigmem (jobs requiring >64Gigs RAM)\r\n",
      "#\r\n",
      "#SBATCH -p normal\r\n",
      "#################\r\n",
      "#number of nodes you are requesting\r\n",
      "#SBATCH --nodes=1\r\n",
      "#################\r\n",
      "#memory per node; default is 4000 MB per CPU\r\n",
      "#SBATCH --mem=4000\r\n",
      "#################\r\n",
      "\r\n",
      "ml load python/2.7.5\r\n",
      "ml load hdf5/1.8.16\r\n",
      "\r\n",
      "poretools stats -q ${HOME}/nanopore/20161006_minion_human_cDNA/\r\n"
     ]
    }
   ],
   "source": [
    "!cat /home/ytanigaw/scripts/20161011/poretools-q-20161006_minion_human_cDNA.sbatch"
   ]
  },
  {
   "cell_type": "code",
   "execution_count": 8,
   "metadata": {
    "collapsed": false
   },
   "outputs": [
    {
     "name": "stdout",
     "output_type": "stream",
     "text": [
      "Submitted batch job 10161819\r\n"
     ]
    }
   ],
   "source": [
    "!sbatch /home/ytanigaw/scripts/20161011/poretools-q-20161006_minion_human_cDNA.sbatch"
   ]
  },
  {
   "cell_type": "code",
   "execution_count": 9,
   "metadata": {
    "collapsed": false
   },
   "outputs": [
    {
     "name": "stdout",
     "output_type": "stream",
     "text": [
      "             JOBID PARTITION     NAME     USER ST       TIME  NODES NODELIST(REASON)\r\n",
      "          10161819    normal poretool ytanigaw PD       0:00      1 (Priority)\r\n",
      "          10161784       dev     sdev ytanigaw  R       5:24      1 sh-5-36\r\n",
      "          10161620       dev     sdev ytanigaw  R      20:24      1 sh-5-35\r\n"
     ]
    }
   ],
   "source": [
    "!squeue -u $USER"
   ]
  },
  {
   "cell_type": "code",
   "execution_count": 10,
   "metadata": {
    "collapsed": false
   },
   "outputs": [
    {
     "name": "stdout",
     "output_type": "stream",
     "text": [
      "             JOBID PARTITION     NAME     USER ST       TIME  NODES NODELIST(REASON)\n",
      "          10161784       dev     sdev ytanigaw  R       8:45      1 sh-5-36\n",
      "          10161620       dev     sdev ytanigaw  R      23:45      1 sh-5-35\n",
      "          10161819    normal poretool ytanigaw  R       2:48      1 sh-2-1\n"
     ]
    }
   ],
   "source": [
    "!squeue -u $USER"
   ]
  },
  {
   "cell_type": "markdown",
   "metadata": {},
   "source": [
    "### Summary stats of '20161006_minion_human_cDNA'\n",
    "- the batch job described above provided the summary statistics "
   ]
  },
  {
   "cell_type": "code",
   "execution_count": 3,
   "metadata": {
    "collapsed": true
   },
   "outputs": [],
   "source": [
    "!cat /home/ytanigaw/scripts/20161011/poretools-q-20161006_minion_human_cDNA.err"
   ]
  },
  {
   "cell_type": "code",
   "execution_count": 4,
   "metadata": {
    "collapsed": false
   },
   "outputs": [
    {
     "name": "stdout",
     "output_type": "stream",
     "text": [
      "total reads\t26854\r\n",
      "total base pairs\t46314462\r\n",
      "mean\t1724.68\r\n",
      "median\t1094\r\n",
      "min\t58\r\n",
      "max\t108262\r\n",
      "N25\t5201\r\n",
      "N50\t2529\r\n",
      "N75\t1327\r\n"
     ]
    }
   ],
   "source": [
    "!cat /home/ytanigaw/scripts/20161011/poretools-q-20161006_minion_human_cDNA.out"
   ]
  },
  {
   "cell_type": "markdown",
   "metadata": {},
   "source": [
    "### (2) 20161008_wgs_caucasian_48hr\n",
    "- similary, I wrote a script `/home/ytanigaw/scripts/20161011/poretools-q-20161008_wgs_caucasian_48hr.sbatch` and obtained the summary stats. for this sample"
   ]
  },
  {
   "cell_type": "code",
   "execution_count": 2,
   "metadata": {
    "collapsed": false
   },
   "outputs": [
    {
     "name": "stdout",
     "output_type": "stream",
     "text": [
      "             JOBID PARTITION     NAME     USER ST       TIME  NODES NODELIST(REASON)\r\n",
      "          10161784       dev     sdev ytanigaw  R      56:10      1 sh-5-36\r\n",
      "          10162319       dev     sdev ytanigaw  R       5:47      1 sh-5-36\r\n",
      "          10162100    normal poretool ytanigaw  R      18:53      1 sh-2-1\r\n"
     ]
    }
   ],
   "source": [
    "!squeue -u $USER"
   ]
  },
  {
   "cell_type": "markdown",
   "metadata": {},
   "source": [
    "- job is still running"
   ]
  },
  {
   "cell_type": "code",
   "execution_count": null,
   "metadata": {
    "collapsed": true
   },
   "outputs": [],
   "source": []
  }
 ],
 "metadata": {
  "kernelspec": {
   "display_name": "Python 2",
   "language": "python",
   "name": "python2"
  },
  "language_info": {
   "codemirror_mode": {
    "name": "ipython",
    "version": 2
   },
   "file_extension": ".py",
   "mimetype": "text/x-python",
   "name": "python",
   "nbconvert_exporter": "python",
   "pygments_lexer": "ipython2",
   "version": "2.7.5"
  }
 },
 "nbformat": 4,
 "nbformat_minor": 1
}
