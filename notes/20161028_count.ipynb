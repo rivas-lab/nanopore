{
 "cells": [
  {
   "cell_type": "markdown",
   "metadata": {},
   "source": [
    "# Count match/mismatch/insertion/deletion\n",
    "- Given a maf file (out put from LAST aligner), we would like to count match/mismatch/insertion/deletion with respect to reference sequence"
   ]
  },
  {
   "cell_type": "markdown",
   "metadata": {},
   "source": [
    "## a class to represent alignment"
   ]
  },
  {
   "cell_type": "code",
   "execution_count": 1,
   "metadata": {
    "collapsed": false
   },
   "outputs": [],
   "source": [
    "class maf_item():\n",
    "    # This class can store an alignment in a maf file\n",
    "    # \n",
    "    # For example,\n",
    "    #   a score=27 EG2=4.7e+04 E=2.6e-05\n",
    "    #   s humanMito 2170 145 + 16571 AGTAGGCCTAAAAGCAGCCACCAATTAAGAAAGCGTT...\n",
    "    #   s fuguMito  1648 142 + 16447 AGTAGGCTTAGAAGCAGCCACCA--CAAGAAAGCGTT...\n",
    "    # This data can be stored as follows\n",
    "    #  entry = maf_item('score=27 EG2=4.7e+04 E=2.6e-05')\n",
    "    #  entry.append('humanMito', 2170, 145, '+', 16571, 'AGTAGGCCTAAAAGCAGCCACCAATTAAGAAAGCGTT...')\n",
    "    #  entry.append('fuguMito',  1648, 142, '+', 16447, 'AGTAGGCTTAGAAGCAGCCACCA--CAAGAAAGCGTT...')\n",
    "    # http://last.cbrc.jp/doc/last-tutorial.html\n",
    "    def __init__(self, a):\n",
    "        self._a = a\n",
    "        self._name    = []\n",
    "        self._name_hash = {}\n",
    "        self._start   = []\n",
    "        self._alnSize = []\n",
    "        self._strand  = []\n",
    "        self._seqSize = []\n",
    "        self._alignment = []\n",
    "        self.other_fields = {}\n",
    "    def __str__(self):\n",
    "        strs = []\n",
    "        strs.append(self._a + \" ({0} sequences)\".format(self.size()))\n",
    "        return('\\n'.join(strs))\n",
    "    def size(self):\n",
    "        return(len(self._name))\n",
    "    def append(self, l):\n",
    "        name, start, alnSize, strand, seqSize, alignment = l[0], l[1], l[2], l[3], l[4], l[5]\n",
    "        # add a sequence into alignment\n",
    "        self._name_hash[name] = self.size()\n",
    "        self._name.append(name)\n",
    "        self._start.append(start)\n",
    "        self._alnSize.append(alnSize)\n",
    "        self._strand.append(strand)\n",
    "        self._seqSize.append(seqSize)\n",
    "        self._alignment.append(alignment.upper())\n",
    "    def add_field(self, key, val):\n",
    "        # add some additional information about alignment\n",
    "        self.other_fields[key] = val\n",
    "        \n",
    "    def count_sub(self, ref_id = 0, tar_id = 1):\n",
    "        # count match/mismatch/insertion/deletion\n",
    "        if(self.size() <= max(ref_id, tar_id)):\n",
    "            return([-1, -1, -1, -1])\n",
    "        else:\n",
    "            match = 0\n",
    "            mismatch = 0\n",
    "            insertion = 0\n",
    "            deletion = 0\n",
    "            seq_ref = self.get(ref_id)[5]\n",
    "            seq_tar = self.get(tar_id)[5]\n",
    "            for position in range(len(seq_ref)):\n",
    "                if(seq_ref[position] == '-'):\n",
    "                    insertion += 1\n",
    "                elif(seq_tar[position] == '-'):\n",
    "                    deletion += 1\n",
    "                elif(seq_ref[position] == seq_tar[position]):\n",
    "                    match += 1\n",
    "                else:\n",
    "                    mismatch += 1\n",
    "            return([match, mismatch, insertion, deletion])\n",
    "    def count(self, ref_id = 0, tar_id = 1):\n",
    "        count_stats = []\n",
    "        count_stats += self.count_sub(ref_id, tar_id)\n",
    "        count_stats += self.get(ref_id)[:-1]\n",
    "        count_stats += self.get(tar_id)[:-1]\n",
    "        return(count_stats)\n",
    "    def get_id(self, name):\n",
    "        return(self._name_hash[name])\n",
    "    def get_by_name(self, name):\n",
    "        return(self.get(self.get_id(name)))\n",
    "    def get(self, i):\n",
    "        # get a component of the alignment\n",
    "        return([self._name[i], self._start[i], self._alnSize[i], \n",
    "                self._strand[i], self._seqSize[i], self._alignment[i]])\n",
    "    def dump(self):\n",
    "        # show the alignment\n",
    "        strs = []\n",
    "        strs.append(self._a + \" ({0} sequences)\".format(self.size()))\n",
    "        strs.append('\\t'.join(['name', 'start', 'alnSize', 'strand', 'seqSize', 'alignment']))\n",
    "        strs += ['\\t'.join([str(x) for x in self.get(i)]) for i in range(self.size())]\n",
    "        return('\\n'.join(strs))\n"
   ]
  },
  {
   "cell_type": "code",
   "execution_count": null,
   "metadata": {
    "collapsed": true
   },
   "outputs": [],
   "source": []
  },
  {
   "cell_type": "markdown",
   "metadata": {},
   "source": [
    "### test code for this class"
   ]
  },
  {
   "cell_type": "markdown",
   "metadata": {},
   "source": [
    "- we can construct an alignment by adding the elements in maf file"
   ]
  },
  {
   "cell_type": "code",
   "execution_count": 2,
   "metadata": {
    "collapsed": false
   },
   "outputs": [
    {
     "name": "stdout",
     "output_type": "stream",
     "text": [
      "score=27 EG2=4.7e+04 E=2.6e-05 (2 sequences)\n",
      "name\tstart\talnSize\tstrand\tseqSize\talignment\n",
      "humanMito\t2170\t145\t+\t16571\tAGTAGGCCTAAAAGCAGCCACCAATTAAGAAAGCGTT...\n",
      "fuguMito\t1648\t142\t+\t16447\tAGTAGGCTTAGAAGCAGCCACCA--CAAGAAAGCGTT...\n"
     ]
    }
   ],
   "source": [
    "entry = maf_item('score=27 EG2=4.7e+04 E=2.6e-05')\n",
    "entry.append(['humanMito', 2170, 145, '+', 16571, 'AGTAGGCCTAAAAGCAGCCACCAATTAAGAAAGCGTT...'])\n",
    "entry.append(['fuguMito',  1648, 142, '+', 16447, 'AGTAGGCTTAGAAGCAGCCACCA--CAAGAAAGCGTT...'])\n",
    "print(entry.dump())"
   ]
  },
  {
   "cell_type": "markdown",
   "metadata": {},
   "source": [
    "- we can retrieve a sequence in an alignemt"
   ]
  },
  {
   "cell_type": "code",
   "execution_count": 3,
   "metadata": {
    "collapsed": false
   },
   "outputs": [
    {
     "data": {
      "text/plain": [
       "['humanMito',\n",
       " 2170,\n",
       " 145,\n",
       " '+',\n",
       " 16571,\n",
       " 'AGTAGGCCTAAAAGCAGCCACCAATTAAGAAAGCGTT...']"
      ]
     },
     "execution_count": 3,
     "metadata": {},
     "output_type": "execute_result"
    }
   ],
   "source": [
    "entry.get_by_name('humanMito')"
   ]
  },
  {
   "cell_type": "markdown",
   "metadata": {},
   "source": [
    "- We can also count match/mismatch/insertion/deletion of a pair of sequences"
   ]
  },
  {
   "cell_type": "code",
   "execution_count": 4,
   "metadata": {
    "collapsed": false
   },
   "outputs": [
    {
     "name": "stdout",
     "output_type": "stream",
     "text": [
      "[35, 3, 0, 2, 'humanMito', 2170, 145, '+', 16571, 'fuguMito', 1648, 142, '+', 16447]\n"
     ]
    }
   ],
   "source": [
    "print(entry.count(ref_id=0, tar_id=1))"
   ]
  },
  {
   "cell_type": "code",
   "execution_count": null,
   "metadata": {
    "collapsed": true
   },
   "outputs": [],
   "source": []
  },
  {
   "cell_type": "markdown",
   "metadata": {},
   "source": [
    "## main function"
   ]
  },
  {
   "cell_type": "code",
   "execution_count": 5,
   "metadata": {
    "collapsed": false
   },
   "outputs": [],
   "source": [
    "def count_main(maf_file):\n",
    "    entry = None\n",
    "    strs = []\n",
    "    strs.append('\\t'.join(['match', 'mismatch', 'insertion', 'deletion',\n",
    "                           'ref_name', 'ref_start', 'ref_alnSize', 'ref_strand', 'ref_seqSize',\n",
    "                           'tar_name', 'tar_start', 'tar_alnSize', 'tar_strand', 'tar_seqSize']))\n",
    "    with open(maf_file, 'r') as f:\n",
    "        for l in f:\n",
    "            if((not l.startswith('#')) and len(l.strip()) > 0):\n",
    "                if(l.startswith('a')):\n",
    "                    if(entry != None):\n",
    "                        strs.append('\\t'.join([str(x) for x in entry.count(ref_id=0, tar_id=1)]))\n",
    "                    entry = maf_item(l[2:])\n",
    "                elif(l.startswith('s')):\n",
    "                    entry.append(l.split()[1:])\n",
    "                else:\n",
    "                    splitted_line = l.split()\n",
    "                    entry.add_field(splitted_line[0], ' '.join(splitted_line[1:]))\n",
    "    if(entry != None):\n",
    "        strs.append('\\t'.join([str(x) for x in entry.count(ref_id=0, tar_id=1)]))\n",
    "    return('\\n'.join(strs))"
   ]
  },
  {
   "cell_type": "markdown",
   "metadata": {},
   "source": [
    "### how it works?"
   ]
  },
  {
   "cell_type": "code",
   "execution_count": 6,
   "metadata": {
    "collapsed": false
   },
   "outputs": [],
   "source": [
    "maf_file = '/home/ytanigaw/myalns.maf'"
   ]
  },
  {
   "cell_type": "code",
   "execution_count": 7,
   "metadata": {
    "collapsed": false
   },
   "outputs": [
    {
     "name": "stdout",
     "output_type": "stream",
     "text": [
      "match\tmismatch\tinsertion\tdeletion\tref_name\tref_start\tref_alnSize\tref_strand\tref_seqSize\ttar_name\ttar_start\ttar_alnSize\ttar_strand\ttar_seqSize\n",
      "1723\t608\t21\t0\thumanMito\t5916\t2331\t+\t16571\tfuguMito\t5456\t2352\t+\t16447\n",
      "1381\t681\t13\t0\thumanMito\t8746\t2062\t+\t16571\tfuguMito\t8292\t2075\t+\t16447\n",
      "1318\t720\t7\t6\thumanMito\t3320\t2044\t+\t16571\tfuguMito\t2859\t2045\t+\t16447\n",
      "1034\t490\t6\t0\thumanMito\t12514\t1524\t+\t16571\tfuguMito\t12107\t1530\t+\t16447\n",
      "983\t465\t0\t0\thumanMito\t14432\t1448\t+\t16571\tfuguMito\t14029\t1448\t+\t16447\n",
      "863\t427\t0\t0\thumanMito\t10924\t1290\t+\t16571\tfuguMito\t10486\t1290\t+\t16447\n",
      "621\t275\t9\t10\thumanMito\t598\t906\t+\t16571\tfuguMito\t16\t905\t+\t16447\n",
      "183\t10\t0\t0\thumanMito\t2914\t193\t+\t16571\tfuguMito\t2433\t193\t+\t16447\n",
      "309\t113\t6\t1\thumanMito\t2422\t423\t+\t16571\tfuguMito\t1916\t428\t+\t16447\n",
      "271\t105\t9\t5\thumanMito\t5512\t381\t+\t16571\tfuguMito\t5059\t385\t+\t16447\n",
      "211\t76\t13\t2\thumanMito\t1742\t289\t+\t16571\tfuguMito\t1182\t300\t+\t16447\n",
      "77\t13\t3\t0\thumanMito\t1549\t90\t+\t16571\tfuguMito\t961\t93\t+\t16447\n",
      "63\t8\t2\t0\thumanMito\t12264\t71\t+\t16571\tfuguMito\t11840\t73\t+\t16447\n",
      "53\t18\t0\t0\thumanMito\t16456\t71\t+\t16571\tfuguMito\t15935\t71\t+\t16447\n",
      "66\t19\t0\t2\thumanMito\t3217\t87\t+\t16571\tfuguMito\t2742\t85\t+\t16447\n",
      "93\t49\t0\t3\thumanMito\t2170\t145\t+\t16571\tfuguMito\t1648\t142\t+\t16447\n",
      "41\t15\t0\t0\thumanMito\t15977\t56\t+\t16571\tfuguMito\t15578\t56\t+\t16447\n",
      "56\t21\t0\t3\thumanMito\t8300\t80\t+\t16571\tfuguMito\t7849\t77\t+\t16447\n"
     ]
    }
   ],
   "source": [
    "print(count_main(maf_file))"
   ]
  },
  {
   "cell_type": "code",
   "execution_count": null,
   "metadata": {
    "collapsed": true
   },
   "outputs": [],
   "source": []
  }
 ],
 "metadata": {
  "anaconda-cloud": {},
  "kernelspec": {
   "display_name": "Python [Root]",
   "language": "python",
   "name": "Python [Root]"
  },
  "language_info": {
   "codemirror_mode": {
    "name": "ipython",
    "version": 3
   },
   "file_extension": ".py",
   "mimetype": "text/x-python",
   "name": "python",
   "nbconvert_exporter": "python",
   "pygments_lexer": "ipython3",
   "version": "3.5.2"
  }
 },
 "nbformat": 4,
 "nbformat_minor": 0
}
