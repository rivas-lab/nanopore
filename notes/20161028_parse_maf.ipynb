{
 "cells": [
  {
   "cell_type": "code",
   "execution_count": 1,
   "metadata": {
    "collapsed": true
   },
   "outputs": [],
   "source": [
    "import numpy as np"
   ]
  },
  {
   "cell_type": "code",
   "execution_count": 116,
   "metadata": {
    "collapsed": false
   },
   "outputs": [],
   "source": [
    "class maf_item():\n",
    "    # This class can store an alignment in a maf file\n",
    "    # \n",
    "    # For example,\n",
    "    #   a score=27 EG2=4.7e+04 E=2.6e-05\n",
    "    #   s humanMito 2170 145 + 16571 AGTAGGCCTAAAAGCAGCCACCAATTAAGAAAGCGTT...\n",
    "    #   s fuguMito  1648 142 + 16447 AGTAGGCTTAGAAGCAGCCACCA--CAAGAAAGCGTT...\n",
    "    # This data can be stored as follows\n",
    "    #  entry = maf_item('score=27 EG2=4.7e+04 E=2.6e-05')\n",
    "    #  entry.append('humanMito', 2170, 145, '+', 16571, 'AGTAGGCCTAAAAGCAGCCACCAATTAAGAAAGCGTT...')\n",
    "    #  entry.append('fuguMito',  1648, 142, '+', 16447, 'AGTAGGCTTAGAAGCAGCCACCA--CAAGAAAGCGTT...')\n",
    "    # http://last.cbrc.jp/doc/last-tutorial.html\n",
    "    def __init__(self, a):\n",
    "        self._a = a\n",
    "        self._name    = []\n",
    "        self._name_hash = {}\n",
    "        self._start   = []\n",
    "        self._alnSize = []\n",
    "        self._strand  = []\n",
    "        self._seqSize = []\n",
    "        self._alignment = []\n",
    "        self.other_fields = {}\n",
    "    def __str__(self):\n",
    "        strs = []\n",
    "        strs.append(self._a + \" ({0} sequences)\".format(self.size()))\n",
    "        return('\\n'.join(strs))\n",
    "    def size(self):\n",
    "        return(len(self._name))\n",
    "    def append(self, l):\n",
    "        name, start, alnSize, strand, seqSize, alignment = l[0], l[1], l[2], l[3], l[4], l[5]\n",
    "        # add a sequence into alignment\n",
    "        self._name_hash[name] = self.size()\n",
    "        self._name.append(name)\n",
    "        self._start.append(start)\n",
    "        self._alnSize.append(alnSize)\n",
    "        self._strand.append(strand)\n",
    "        self._seqSize.append(seqSize)\n",
    "        self._alignment.append(alignment.upper())\n",
    "    def add_field(self, key, val):\n",
    "        # add some additional information about alignment\n",
    "        self.other_fields[key] = val\n",
    "        \n",
    "    def count_sub(self, ref_id = 0, tar_id = 1):\n",
    "        # count match/mismatch/insertion/deletion\n",
    "        if(self.size() <= max(ref_id, tar_id)):\n",
    "            return([-1, -1, -1, -1])\n",
    "        else:\n",
    "            match = 0\n",
    "            mismatch = 0\n",
    "            insertion = 0\n",
    "            deletion = 0\n",
    "            seq_ref = self.get(ref_id)[5]\n",
    "            seq_tar = self.get(tar_id)[5]\n",
    "            for position in range(len(seq_ref)):\n",
    "                if(seq_ref[position] == '-'):\n",
    "                    insertion += 1\n",
    "                elif(seq_tar[position] == '-'):\n",
    "                    deletion += 1\n",
    "                elif(seq_ref[position] == seq_tar[position]):\n",
    "                    match += 1\n",
    "                else:\n",
    "                    mismatch += 1\n",
    "            return([match, mismatch, insertion, deletion])\n",
    "    def count(self, ref_id = 0, tar_id = 1):\n",
    "        count_stats = []\n",
    "        count_stats += self.get(ref_id)[:-1]\n",
    "        count_stats += self.get(tar_id)[:-1]\n",
    "        count_stats += self.count_sub(ref_id, tar_id)\n",
    "        return(count_stats)\n",
    "    def get_id(self, name):\n",
    "        return(self._name_hash[name])\n",
    "    def get_by_name(self, name):\n",
    "        return(self.get(self.get_id(name)))\n",
    "    def get(self, i):\n",
    "        # get a component of the alignment\n",
    "        return([self._name[i], self._start[i], self._alnSize[i], \n",
    "                self._strand[i], self._seqSize[i], self._alignment[i]])\n",
    "    def dump(self):\n",
    "        # show the alignment\n",
    "        strs = []\n",
    "        strs.append(self._a + \" ({0} sequences)\".format(self.size()))\n",
    "        strs.append('\\t'.join(['name', 'start', 'alnSize', 'strand', 'seqSize', 'alignment']))\n",
    "        strs += ['\\t'.join([str(x) for x in self.get(i)]) for i in range(self.size())]\n",
    "        return('\\n'.join(strs))\n"
   ]
  },
  {
   "cell_type": "code",
   "execution_count": 117,
   "metadata": {
    "collapsed": false
   },
   "outputs": [
    {
     "name": "stdout",
     "output_type": "stream",
     "text": [
      "score=27 EG2=4.7e+04 E=2.6e-05 (2 sequences)\n",
      "name\tstart\talnSize\tstrand\tseqSize\talignment\n",
      "humanMito\t2170\t145\t+\t16571\tAGTAGGCCTAAAAGCAGCCACCAATTAAGAAAGCGTT...\n",
      "fuguMito\t1648\t142\t+\t16447\tAGTAGGCTTAGAAGCAGCCACCA--CAAGAAAGCGTT...\n"
     ]
    }
   ],
   "source": [
    "entry = maf_item('score=27 EG2=4.7e+04 E=2.6e-05')\n",
    "entry.append(['humanMito', 2170, 145, '+', 16571, 'AGTAGGCCTAAAAGCAGCCACCAATTAAGAAAGCGTT...'])\n",
    "entry.append(['fuguMito',  1648, 142, '+', 16447, 'AGTAGGCTTAGAAGCAGCCACCA--CAAGAAAGCGTT...'])\n",
    "print(entry.dump())"
   ]
  },
  {
   "cell_type": "code",
   "execution_count": 118,
   "metadata": {
    "collapsed": false
   },
   "outputs": [
    {
     "data": {
      "text/plain": [
       "['humanMito',\n",
       " 2170,\n",
       " 145,\n",
       " '+',\n",
       " 16571,\n",
       " 'AGTAGGCCTAAAAGCAGCCACCAATTAAGAAAGCGTT...']"
      ]
     },
     "execution_count": 118,
     "metadata": {},
     "output_type": "execute_result"
    }
   ],
   "source": [
    "entry.get_by_name('humanMito')"
   ]
  },
  {
   "cell_type": "code",
   "execution_count": 119,
   "metadata": {
    "collapsed": false
   },
   "outputs": [
    {
     "data": {
      "text/plain": [
       "['humanMito',\n",
       " 2170,\n",
       " 145,\n",
       " '+',\n",
       " 16571,\n",
       " 'fuguMito',\n",
       " 1648,\n",
       " 142,\n",
       " '+',\n",
       " 16447,\n",
       " 35,\n",
       " 3,\n",
       " 0,\n",
       " 2]"
      ]
     },
     "execution_count": 119,
     "metadata": {},
     "output_type": "execute_result"
    }
   ],
   "source": [
    "entry.count(ref_id=0, tar_id=1)"
   ]
  },
  {
   "cell_type": "code",
   "execution_count": 103,
   "metadata": {
    "collapsed": true
   },
   "outputs": [],
   "source": [
    "sample_maf = '''# LAST version 759\n",
    "#\n",
    "# a=7 b=1 A=7 B=1 e=22 d=13 x=21 y=9 z=21 D=1e+06 E=3.01732e+07\n",
    "# R=01 u=2 s=2 S=0 M=0 T=0 m=10 l=1 n=10 k=1 w=1000 t=0.910239 j=3 Q=0\n",
    "# /tmp/last-759/humdb\n",
    "# Reference sequences=1 normal letters=16571\n",
    "# lambda=1.09602 K=0.335388\n",
    "#\n",
    "#    A  C  G  T\n",
    "# A  1 -1 -1 -1\n",
    "# C -1  1 -1 -1\n",
    "# G -1 -1  1 -1\n",
    "# T -1 -1 -1  1\n",
    "#\n",
    "# Coordinates are 0-based.  For - strand matches, coordinates\n",
    "# in the reverse complement of the 2nd sequence are used.\n",
    "#\n",
    "# name start alnSize strand seqSize alignment\n",
    "#\n",
    "# batch 0\n",
    "a score=31 EG2=5.9e+02 E=3.2e-07\n",
    "s humanMito 3217 87 + 16571 AAGAACAGGGTTTGTTAAGATGGCAGAGCCCGGTAATCGCATAAAACTTAaaactTTACAGTCAGAGGTTCAATTCCTCTTCTTAAC\n",
    "s fuguMito  2742 85 + 16447 AAGAACATGACATGTTAGTGTGGCAGAGCCCGGTA-TTGCAAAAGCCTTAAACCCTT-CGAACAGAGGTTCAACTCCTCTCCCTAAC\n",
    "\n",
    "a score=27 EG2=4.7e+04 E=2.6e-05\n",
    "s humanMito 2170 145 + 16571 AGTAGGCCTAAAAGCAGCCACCAATTAAGAAAGCGTTCAAGCTCAACACCCACTACCTAAAAAATCCCAAACATATAACTGAACTCCTCACACCCAATTGGACCAATCTATCACCCTATAGAAGAACTAATGTTAGTATAAGTAA\n",
    "s fuguMito  1648 142 + 16447 AGTAGGCTTAGAAGCAGCCACCA--CAAGAAAGCGTTAAAGCTCTAGCACATCCCTGCCACAAATACC-AATAAAACACTCCTAACCCCTTCCCCTACCGGGCTTTTCTATGCTTCCATAGAAGAAATTATGCTAAAATGAGTAA\n",
    "\n",
    "a score=26 EG2=1.4e+05 E=7.6e-05\n",
    "s humanMito 15977 56 + 16571 CCACCATTAGCACCCAAAGCTAAGATTCTAATTTAAACTATTCTCTGTTCTTTCAT\n",
    "s fuguMito  15578 56 + 16447 CCACCACTGGCTCCCAAAGCCAGCATTCTTAATTAAACTACTTTTTGATAATACAT\n",
    "\n",
    "a score=25 EG2=4.2e+05 E=0.00023\n",
    "s humanMito 8300 80 + 16571 TAAAGCTAACTTAGCATTAACCTTTTAAGTTAAAGATTAAGAGAACCAACACCTCTTTACAGTGAAATGCCCCAACTAAA\n",
    "s fuguMito  7849 77 + 16447 TAAAACGGACACAGCGTTAGCCTTTTAAGCTAAAAATGGTGCCTACCAAACACCCTT---AGTGAAATGCCTCAACTCAA\n",
    "\n",
    "# Query sequences=1\n",
    "'''"
   ]
  },
  {
   "cell_type": "code",
   "execution_count": 107,
   "metadata": {
    "collapsed": false
   },
   "outputs": [],
   "source": [
    "maf_file = '/home/ytanigaw/myalns.maf'"
   ]
  },
  {
   "cell_type": "code",
   "execution_count": 125,
   "metadata": {
    "collapsed": false
   },
   "outputs": [],
   "source": [
    "def count(maf_file):\n",
    "    entry = None\n",
    "    strs = []\n",
    "    with open(maf_file, 'r') as f:\n",
    "        for l in f:\n",
    "            if((not l.startswith('#')) and len(l.strip()) > 0):\n",
    "                if(l.startswith('a')):\n",
    "                    if(entry != None):\n",
    "                        strs.append('\\t'.join([str(x) for x in entry.count(ref_id=0, tar_id=1)]))\n",
    "                    entry = maf_item(l[2:])\n",
    "                elif(l.startswith('s')):\n",
    "                    entry.append(l.split()[1:])\n",
    "                else:\n",
    "                    splitted_line = l.split()\n",
    "                    entry.add_field(splitted_line[0], ' '.join(splitted_line[1:]))\n",
    "    if(entry != None):\n",
    "        strs.append('\\t'.join([str(x) for x in entry.count(ref_id=0, tar_id=1)]))\n",
    "    return('\\n'.join(strs))"
   ]
  },
  {
   "cell_type": "code",
   "execution_count": 126,
   "metadata": {
    "collapsed": false
   },
   "outputs": [
    {
     "name": "stdout",
     "output_type": "stream",
     "text": [
      "humanMito\t5916\t2331\t+\t16571\tfuguMito\t5456\t2352\t+\t16447\t1723\t608\t21\t0\n",
      "humanMito\t8746\t2062\t+\t16571\tfuguMito\t8292\t2075\t+\t16447\t1381\t681\t13\t0\n",
      "humanMito\t3320\t2044\t+\t16571\tfuguMito\t2859\t2045\t+\t16447\t1318\t720\t7\t6\n",
      "humanMito\t12514\t1524\t+\t16571\tfuguMito\t12107\t1530\t+\t16447\t1034\t490\t6\t0\n",
      "humanMito\t14432\t1448\t+\t16571\tfuguMito\t14029\t1448\t+\t16447\t983\t465\t0\t0\n",
      "humanMito\t10924\t1290\t+\t16571\tfuguMito\t10486\t1290\t+\t16447\t863\t427\t0\t0\n",
      "humanMito\t598\t906\t+\t16571\tfuguMito\t16\t905\t+\t16447\t621\t275\t9\t10\n",
      "humanMito\t2914\t193\t+\t16571\tfuguMito\t2433\t193\t+\t16447\t183\t10\t0\t0\n",
      "humanMito\t2422\t423\t+\t16571\tfuguMito\t1916\t428\t+\t16447\t309\t113\t6\t1\n",
      "humanMito\t5512\t381\t+\t16571\tfuguMito\t5059\t385\t+\t16447\t271\t105\t9\t5\n",
      "humanMito\t1742\t289\t+\t16571\tfuguMito\t1182\t300\t+\t16447\t211\t76\t13\t2\n",
      "humanMito\t1549\t90\t+\t16571\tfuguMito\t961\t93\t+\t16447\t77\t13\t3\t0\n",
      "humanMito\t12264\t71\t+\t16571\tfuguMito\t11840\t73\t+\t16447\t63\t8\t2\t0\n",
      "humanMito\t16456\t71\t+\t16571\tfuguMito\t15935\t71\t+\t16447\t53\t18\t0\t0\n",
      "humanMito\t3217\t87\t+\t16571\tfuguMito\t2742\t85\t+\t16447\t66\t19\t0\t2\n",
      "humanMito\t2170\t145\t+\t16571\tfuguMito\t1648\t142\t+\t16447\t93\t49\t0\t3\n",
      "humanMito\t15977\t56\t+\t16571\tfuguMito\t15578\t56\t+\t16447\t41\t15\t0\t0\n",
      "humanMito\t8300\t80\t+\t16571\tfuguMito\t7849\t77\t+\t16447\t56\t21\t0\t3\n"
     ]
    }
   ],
   "source": [
    "print(count(maf_file))"
   ]
  },
  {
   "cell_type": "code",
   "execution_count": 100,
   "metadata": {
    "collapsed": false
   },
   "outputs": [
    {
     "data": {
      "text/plain": [
       "['s',\n",
       " 'fuguMito',\n",
       " '7849',\n",
       " '77',\n",
       " '+',\n",
       " '16447',\n",
       " 'TAAAACGGACACAGCGTTAGCCTTTTAAGCTAAAAATGGTGCCTACCAAACACCCTT---AGTGAAATGCCTCAACTCAA']"
      ]
     },
     "execution_count": 100,
     "metadata": {},
     "output_type": "execute_result"
    }
   ],
   "source": [
    "'s fuguMito  7849 77 + 16447 TAAAACGGACACAGCGTTAGCCTTTTAAGCTAAAAATGGTGCCTACCAAACACCCTT---AGTGAAATGCCTCAACTCAA'.split()"
   ]
  },
  {
   "cell_type": "code",
   "execution_count": 25,
   "metadata": {
    "collapsed": true
   },
   "outputs": [],
   "source": [
    "def get_alignments(maf_file):\n",
    "    alns = []    \n",
    "    with open(maf_file, 'r') as f:\n",
    "        alignment_block_str = []\n",
    "        for l in f:\n",
    "            if(not l.startswith('#') and len(l.strip()) > 0):\n",
    "                if(l.startswith('a')):\n",
    "                    if(len(alignment_block_str) > 0):\n",
    "                        block = aln(alignment_block_str[0], alignment_block_str[1:])\n",
    "                        alns.append(block)\n",
    "                        alignment_block = []\n",
    "                        alignment_block_str.append(l.strip())\n",
    "                else:\n",
    "                    alignment_block_str.append(l.strip())            \n",
    "        alns.append(aln(alignment_block_str[0], alignment_block_str[1:]))\n",
    "    return(alns)"
   ]
  },
  {
   "cell_type": "code",
   "execution_count": 26,
   "metadata": {
    "collapsed": true
   },
   "outputs": [],
   "source": [
    "import numpy as np"
   ]
  },
  {
   "cell_type": "code",
   "execution_count": 27,
   "metadata": {
    "collapsed": true
   },
   "outputs": [],
   "source": [
    "maf_file = '/home/ytanigaw/data/nanopore/20161008_wgs_caucasian_48hr.20k.maf'"
   ]
  },
  {
   "cell_type": "code",
   "execution_count": 28,
   "metadata": {
    "collapsed": false
   },
   "outputs": [
    {
     "ename": "TypeError",
     "evalue": "'aln' object is not callable",
     "output_type": "error",
     "traceback": [
      "\u001b[1;31m---------------------------------------------------------------------------\u001b[0m",
      "\u001b[1;31mTypeError\u001b[0m                                 Traceback (most recent call last)",
      "\u001b[1;32m<ipython-input-28-a35f6c6e0996>\u001b[0m in \u001b[0;36m<module>\u001b[1;34m()\u001b[0m\n\u001b[1;32m----> 1\u001b[1;33m \u001b[0malns\u001b[0m \u001b[1;33m=\u001b[0m \u001b[0mget_alignments\u001b[0m\u001b[1;33m(\u001b[0m\u001b[0mmaf_file\u001b[0m\u001b[1;33m)\u001b[0m\u001b[1;33m\u001b[0m\u001b[0m\n\u001b[0m",
      "\u001b[1;32m<ipython-input-25-77aee630f981>\u001b[0m in \u001b[0;36mget_alignments\u001b[1;34m(maf_file)\u001b[0m\n\u001b[0;32m      7\u001b[0m                 \u001b[1;32mif\u001b[0m\u001b[1;33m(\u001b[0m\u001b[0ml\u001b[0m\u001b[1;33m.\u001b[0m\u001b[0mstartswith\u001b[0m\u001b[1;33m(\u001b[0m\u001b[1;34m'a'\u001b[0m\u001b[1;33m)\u001b[0m\u001b[1;33m)\u001b[0m\u001b[1;33m:\u001b[0m\u001b[1;33m\u001b[0m\u001b[0m\n\u001b[0;32m      8\u001b[0m                     \u001b[1;32mif\u001b[0m\u001b[1;33m(\u001b[0m\u001b[0mlen\u001b[0m\u001b[1;33m(\u001b[0m\u001b[0malignment_block_str\u001b[0m\u001b[1;33m)\u001b[0m \u001b[1;33m>\u001b[0m \u001b[1;36m0\u001b[0m\u001b[1;33m)\u001b[0m\u001b[1;33m:\u001b[0m\u001b[1;33m\u001b[0m\u001b[0m\n\u001b[1;32m----> 9\u001b[1;33m                         \u001b[0mblock\u001b[0m \u001b[1;33m=\u001b[0m \u001b[0maln\u001b[0m\u001b[1;33m(\u001b[0m\u001b[0malignment_block_str\u001b[0m\u001b[1;33m[\u001b[0m\u001b[1;36m0\u001b[0m\u001b[1;33m]\u001b[0m\u001b[1;33m,\u001b[0m \u001b[0malignment_block_str\u001b[0m\u001b[1;33m[\u001b[0m\u001b[1;36m1\u001b[0m\u001b[1;33m:\u001b[0m\u001b[1;33m]\u001b[0m\u001b[1;33m)\u001b[0m\u001b[1;33m\u001b[0m\u001b[0m\n\u001b[0m\u001b[0;32m     10\u001b[0m                         \u001b[0malns\u001b[0m\u001b[1;33m.\u001b[0m\u001b[0mappend\u001b[0m\u001b[1;33m(\u001b[0m\u001b[0mblock\u001b[0m\u001b[1;33m)\u001b[0m\u001b[1;33m\u001b[0m\u001b[0m\n\u001b[0;32m     11\u001b[0m                         \u001b[0malignment_block\u001b[0m \u001b[1;33m=\u001b[0m \u001b[1;33m[\u001b[0m\u001b[1;33m]\u001b[0m\u001b[1;33m\u001b[0m\u001b[0m\n",
      "\u001b[1;31mTypeError\u001b[0m: 'aln' object is not callable"
     ]
    }
   ],
   "source": [
    "alns = get_alignments(maf_file)"
   ]
  },
  {
   "cell_type": "code",
   "execution_count": 29,
   "metadata": {
    "collapsed": false
   },
   "outputs": [
    {
     "ename": "IndexError",
     "evalue": "list index out of range",
     "output_type": "error",
     "traceback": [
      "\u001b[1;31m---------------------------------------------------------------------------\u001b[0m",
      "\u001b[1;31mIndexError\u001b[0m                                Traceback (most recent call last)",
      "\u001b[1;32m<ipython-input-29-866db2f23a5e>\u001b[0m in \u001b[0;36m<module>\u001b[1;34m()\u001b[0m\n\u001b[0;32m      1\u001b[0m \u001b[1;32mfor\u001b[0m \u001b[0maln\u001b[0m \u001b[1;32min\u001b[0m \u001b[0malns\u001b[0m\u001b[1;33m:\u001b[0m\u001b[1;33m\u001b[0m\u001b[0m\n\u001b[1;32m----> 2\u001b[1;33m     \u001b[0mprint\u001b[0m\u001b[1;33m(\u001b[0m\u001b[0maln\u001b[0m\u001b[1;33m.\u001b[0m\u001b[0mcount_stats_pair\u001b[0m\u001b[1;33m(\u001b[0m\u001b[1;36m0\u001b[0m\u001b[1;33m,\u001b[0m \u001b[1;36m1\u001b[0m\u001b[1;33m)\u001b[0m\u001b[1;33m)\u001b[0m\u001b[1;33m\u001b[0m\u001b[0m\n\u001b[0m\u001b[0;32m      3\u001b[0m \u001b[1;33m\u001b[0m\u001b[0m\n",
      "\u001b[1;32m<ipython-input-18-6565def52006>\u001b[0m in \u001b[0;36mcount_stats_pair\u001b[1;34m(self, ref, target)\u001b[0m\n\u001b[0;32m     29\u001b[0m             \u001b[1;32mif\u001b[0m\u001b[1;33m(\u001b[0m\u001b[0mself\u001b[0m\u001b[1;33m.\u001b[0m\u001b[0mtext\u001b[0m\u001b[1;33m[\u001b[0m\u001b[0mref\u001b[0m\u001b[1;33m]\u001b[0m \u001b[1;33m==\u001b[0m \u001b[1;34m'-'\u001b[0m\u001b[1;33m)\u001b[0m\u001b[1;33m:\u001b[0m\u001b[1;33m\u001b[0m\u001b[0m\n\u001b[0;32m     30\u001b[0m                 \u001b[0minsertion\u001b[0m \u001b[1;33m+=\u001b[0m \u001b[1;36m1\u001b[0m\u001b[1;33m\u001b[0m\u001b[0m\n\u001b[1;32m---> 31\u001b[1;33m             \u001b[1;32melif\u001b[0m\u001b[1;33m(\u001b[0m\u001b[0mself\u001b[0m\u001b[1;33m.\u001b[0m\u001b[0mtext\u001b[0m\u001b[1;33m[\u001b[0m\u001b[0mtarget\u001b[0m\u001b[1;33m]\u001b[0m \u001b[1;33m==\u001b[0m \u001b[1;34m'-'\u001b[0m\u001b[1;33m)\u001b[0m\u001b[1;33m:\u001b[0m\u001b[1;33m\u001b[0m\u001b[0m\n\u001b[0m\u001b[0;32m     32\u001b[0m                 \u001b[0mdeletion\u001b[0m \u001b[1;33m+=\u001b[0m \u001b[1;36m1\u001b[0m\u001b[1;33m\u001b[0m\u001b[0m\n\u001b[0;32m     33\u001b[0m             \u001b[1;32melif\u001b[0m\u001b[1;33m(\u001b[0m\u001b[0mself\u001b[0m\u001b[1;33m.\u001b[0m\u001b[0mtext\u001b[0m\u001b[1;33m[\u001b[0m\u001b[0mref\u001b[0m\u001b[1;33m]\u001b[0m \u001b[1;33m==\u001b[0m \u001b[0mself\u001b[0m\u001b[1;33m.\u001b[0m\u001b[0mtext\u001b[0m\u001b[1;33m[\u001b[0m\u001b[0mtarget\u001b[0m\u001b[1;33m]\u001b[0m\u001b[1;33m)\u001b[0m\u001b[1;33m:\u001b[0m\u001b[1;33m\u001b[0m\u001b[0m\n",
      "\u001b[1;31mIndexError\u001b[0m: list index out of range"
     ]
    }
   ],
   "source": [
    "for aln in alns:\n",
    "    print(aln.count_stats_pair(0, 1))\n",
    "    "
   ]
  },
  {
   "cell_type": "code",
   "execution_count": null,
   "metadata": {
    "collapsed": true
   },
   "outputs": [],
   "source": []
  }
 ],
 "metadata": {
  "anaconda-cloud": {},
  "kernelspec": {
   "display_name": "Python [Root]",
   "language": "python",
   "name": "Python [Root]"
  },
  "language_info": {
   "codemirror_mode": {
    "name": "ipython",
    "version": 3
   },
   "file_extension": ".py",
   "mimetype": "text/x-python",
   "name": "python",
   "nbconvert_exporter": "python",
   "pygments_lexer": "ipython3",
   "version": "3.5.2"
  }
 },
 "nbformat": 4,
 "nbformat_minor": 0
}
