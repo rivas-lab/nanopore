{
 "cells": [
  {
   "cell_type": "code",
   "execution_count": 1,
   "metadata": {
    "collapsed": true
   },
   "outputs": [],
   "source": [
    "import numpy as np"
   ]
  },
  {
   "cell_type": "code",
   "execution_count": 93,
   "metadata": {
    "collapsed": false
   },
   "outputs": [],
   "source": [
    "class maf_item():\n",
    "    # This class can store an alignment in a maf file\n",
    "    # \n",
    "    # For example,\n",
    "    #   a score=27 EG2=4.7e+04 E=2.6e-05\n",
    "    #   s humanMito 2170 145 + 16571 AGTAGGCCTAAAAGCAGCCACCAATTAAGAAAGCGTT...\n",
    "    #   s fuguMito  1648 142 + 16447 AGTAGGCTTAGAAGCAGCCACCA--CAAGAAAGCGTT...\n",
    "    # This data can be stored as follows\n",
    "    #  entry = maf_item('score=27 EG2=4.7e+04 E=2.6e-05')\n",
    "    #  entry.append('humanMito', 2170, 145, '+', 16571, 'AGTAGGCCTAAAAGCAGCCACCAATTAAGAAAGCGTT...')\n",
    "    #  entry.append('fuguMito',  1648, 142, '+', 16447, 'AGTAGGCTTAGAAGCAGCCACCA--CAAGAAAGCGTT...')\n",
    "    # http://last.cbrc.jp/doc/last-tutorial.html\n",
    "    def __init__(self, a):\n",
    "        self._a = a\n",
    "        self._name    = []\n",
    "        self._name_hash = {}\n",
    "        self._start   = []\n",
    "        self._alnSize = []\n",
    "        self._strand  = []\n",
    "        self._seqSize = []\n",
    "        self._alignment = []\n",
    "        self.other_fields = {}\n",
    "    def __str__(self):\n",
    "        strs = []\n",
    "        strs.append(self._a + \" ({0} sequences)\".format(self.size()))\n",
    "        return('\\n'.join(strs))\n",
    "    def size(self):\n",
    "        return(len(self._name))\n",
    "    def append(self, name, start, alnSize, strand, seqSize, alignment):\n",
    "        # add a sequence into alignment\n",
    "        self._name_hash[name] = self.size()\n",
    "        self._name.append(name)\n",
    "        self._start.append(start)\n",
    "        self._alnSize.append(alnSize)\n",
    "        self._strand.append(strand)\n",
    "        self._seqSize.append(seqSize)\n",
    "        self._alignment.append(alignment.upper())\n",
    "    def add_field(self, key, val):\n",
    "        # add some additional information about alignment\n",
    "        self.other_fields[key] = val\n",
    "        \n",
    "    def count_sub(self, ref_id = 0, tar_id = 1):\n",
    "        # count match/mismatch/insertion/deletion\n",
    "        if(self.size() <= max(ref_id, tar_id)):\n",
    "            return([-1, -1, -1, -1])\n",
    "        else:\n",
    "            match = 0\n",
    "            mismatch = 0\n",
    "            insertion = 0\n",
    "            deletion = 0\n",
    "            seq_ref = self.get(ref_id)[5]\n",
    "            seq_tar = self.get(tar_id)[5]\n",
    "            for position in range(len(seq_ref)):\n",
    "                if(seq_ref[position] == '-'):\n",
    "                    insertion += 1\n",
    "                elif(seq_tar[position] == '-'):\n",
    "                    deletion += 1\n",
    "                elif(seq_ref[position] == seq_tar[position]):\n",
    "                    match += 1\n",
    "                else:\n",
    "                    mismatch += 1\n",
    "            return([match, mismatch, insertion, deletion])\n",
    "    def count(self, ref_id = 0, tar_id = 1):\n",
    "        count_stats = []\n",
    "        count_stats += self.get(ref_id)[:-1]\n",
    "        count_stats += self.get(tar_id)[:-1]\n",
    "        count_stats += self.count_sub(ref_id, tar_id)\n",
    "        return(count_stats)\n",
    "    def get_id(self, name):\n",
    "        return(self._name_hash[name])\n",
    "    def get_by_name(self, name):\n",
    "        return(self.get(self.get_id(name)))\n",
    "    def get(self, i):\n",
    "        # get a component of the alignment\n",
    "        return([self._name[i], self._start[i], self._alnSize[i], \n",
    "                self._strand[i], self._seqSize[i], self._alignment[i]])\n",
    "    def dump(self):\n",
    "        # show the alignment\n",
    "        strs = []\n",
    "        strs.append(self._a + \" ({0} sequences)\".format(self.size()))\n",
    "        strs.append('\\t'.join(['name', 'start', 'alnSize', 'strand', 'seqSize', 'alignment']))\n",
    "        strs += ['\\t'.join([str(x) for x in self.get(i)]) for i in range(self.size())]\n",
    "        return('\\n'.join(strs))\n"
   ]
  },
  {
   "cell_type": "code",
   "execution_count": 94,
   "metadata": {
    "collapsed": false
   },
   "outputs": [
    {
     "name": "stdout",
     "output_type": "stream",
     "text": [
      "score=27 EG2=4.7e+04 E=2.6e-05 (2 sequences)\n",
      "name\tstart\talnSize\tstrand\tseqSize\talignment\n",
      "humanMito\t2170\t145\t+\t16571\tAGTAGGCCTAAAAGCAGCCACCAATTAAGAAAGCGTT...\n",
      "fuguMito\t1648\t142\t+\t16447\tAGTAGGCTTAGAAGCAGCCACCA--CAAGAAAGCGTT...\n"
     ]
    }
   ],
   "source": [
    "entry = maf_item('score=27 EG2=4.7e+04 E=2.6e-05')\n",
    "entry.append('humanMito', 2170, 145, '+', 16571, 'AGTAGGCCTAAAAGCAGCCACCAATTAAGAAAGCGTT...')\n",
    "entry.append('fuguMito',  1648, 142, '+', 16447, 'AGTAGGCTTAGAAGCAGCCACCA--CAAGAAAGCGTT...')\n",
    "print(entry.dump())"
   ]
  },
  {
   "cell_type": "code",
   "execution_count": 95,
   "metadata": {
    "collapsed": false
   },
   "outputs": [
    {
     "data": {
      "text/plain": [
       "['humanMito',\n",
       " 2170,\n",
       " 145,\n",
       " '+',\n",
       " 16571,\n",
       " 'AGTAGGCCTAAAAGCAGCCACCAATTAAGAAAGCGTT...']"
      ]
     },
     "execution_count": 95,
     "metadata": {},
     "output_type": "execute_result"
    }
   ],
   "source": [
    "entry.get_by_name('humanMito')"
   ]
  },
  {
   "cell_type": "code",
   "execution_count": 98,
   "metadata": {
    "collapsed": false
   },
   "outputs": [
    {
     "data": {
      "text/plain": [
       "['humanMito',\n",
       " 2170,\n",
       " 145,\n",
       " '+',\n",
       " 16571,\n",
       " 'fuguMito',\n",
       " 1648,\n",
       " 142,\n",
       " '+',\n",
       " 16447,\n",
       " 35,\n",
       " 3,\n",
       " 0,\n",
       " 2]"
      ]
     },
     "execution_count": 98,
     "metadata": {},
     "output_type": "execute_result"
    }
   ],
   "source": [
    "entry.count(ref_id=0, tar_id=1)"
   ]
  },
  {
   "cell_type": "code",
   "execution_count": 25,
   "metadata": {
    "collapsed": true
   },
   "outputs": [],
   "source": [
    "def get_alignments(maf_file):\n",
    "    alns = []    \n",
    "    with open(maf_file, 'r') as f:\n",
    "        alignment_block_str = []\n",
    "        for l in f:\n",
    "            if(not l.startswith('#') and len(l.strip()) > 0):\n",
    "                if(l.startswith('a')):\n",
    "                    if(len(alignment_block_str) > 0):\n",
    "                        block = aln(alignment_block_str[0], alignment_block_str[1:])\n",
    "                        alns.append(block)\n",
    "                        alignment_block = []\n",
    "                        alignment_block_str.append(l.strip())\n",
    "                else:\n",
    "                    alignment_block_str.append(l.strip())            \n",
    "        alns.append(aln(alignment_block_str[0], alignment_block_str[1:]))\n",
    "    return(alns)"
   ]
  },
  {
   "cell_type": "code",
   "execution_count": 26,
   "metadata": {
    "collapsed": true
   },
   "outputs": [],
   "source": [
    "import numpy as np"
   ]
  },
  {
   "cell_type": "code",
   "execution_count": 27,
   "metadata": {
    "collapsed": true
   },
   "outputs": [],
   "source": [
    "maf_file = '/home/ytanigaw/data/nanopore/20161008_wgs_caucasian_48hr.20k.maf'"
   ]
  },
  {
   "cell_type": "code",
   "execution_count": 28,
   "metadata": {
    "collapsed": false
   },
   "outputs": [
    {
     "ename": "TypeError",
     "evalue": "'aln' object is not callable",
     "output_type": "error",
     "traceback": [
      "\u001b[1;31m---------------------------------------------------------------------------\u001b[0m",
      "\u001b[1;31mTypeError\u001b[0m                                 Traceback (most recent call last)",
      "\u001b[1;32m<ipython-input-28-a35f6c6e0996>\u001b[0m in \u001b[0;36m<module>\u001b[1;34m()\u001b[0m\n\u001b[1;32m----> 1\u001b[1;33m \u001b[0malns\u001b[0m \u001b[1;33m=\u001b[0m \u001b[0mget_alignments\u001b[0m\u001b[1;33m(\u001b[0m\u001b[0mmaf_file\u001b[0m\u001b[1;33m)\u001b[0m\u001b[1;33m\u001b[0m\u001b[0m\n\u001b[0m",
      "\u001b[1;32m<ipython-input-25-77aee630f981>\u001b[0m in \u001b[0;36mget_alignments\u001b[1;34m(maf_file)\u001b[0m\n\u001b[0;32m      7\u001b[0m                 \u001b[1;32mif\u001b[0m\u001b[1;33m(\u001b[0m\u001b[0ml\u001b[0m\u001b[1;33m.\u001b[0m\u001b[0mstartswith\u001b[0m\u001b[1;33m(\u001b[0m\u001b[1;34m'a'\u001b[0m\u001b[1;33m)\u001b[0m\u001b[1;33m)\u001b[0m\u001b[1;33m:\u001b[0m\u001b[1;33m\u001b[0m\u001b[0m\n\u001b[0;32m      8\u001b[0m                     \u001b[1;32mif\u001b[0m\u001b[1;33m(\u001b[0m\u001b[0mlen\u001b[0m\u001b[1;33m(\u001b[0m\u001b[0malignment_block_str\u001b[0m\u001b[1;33m)\u001b[0m \u001b[1;33m>\u001b[0m \u001b[1;36m0\u001b[0m\u001b[1;33m)\u001b[0m\u001b[1;33m:\u001b[0m\u001b[1;33m\u001b[0m\u001b[0m\n\u001b[1;32m----> 9\u001b[1;33m                         \u001b[0mblock\u001b[0m \u001b[1;33m=\u001b[0m \u001b[0maln\u001b[0m\u001b[1;33m(\u001b[0m\u001b[0malignment_block_str\u001b[0m\u001b[1;33m[\u001b[0m\u001b[1;36m0\u001b[0m\u001b[1;33m]\u001b[0m\u001b[1;33m,\u001b[0m \u001b[0malignment_block_str\u001b[0m\u001b[1;33m[\u001b[0m\u001b[1;36m1\u001b[0m\u001b[1;33m:\u001b[0m\u001b[1;33m]\u001b[0m\u001b[1;33m)\u001b[0m\u001b[1;33m\u001b[0m\u001b[0m\n\u001b[0m\u001b[0;32m     10\u001b[0m                         \u001b[0malns\u001b[0m\u001b[1;33m.\u001b[0m\u001b[0mappend\u001b[0m\u001b[1;33m(\u001b[0m\u001b[0mblock\u001b[0m\u001b[1;33m)\u001b[0m\u001b[1;33m\u001b[0m\u001b[0m\n\u001b[0;32m     11\u001b[0m                         \u001b[0malignment_block\u001b[0m \u001b[1;33m=\u001b[0m \u001b[1;33m[\u001b[0m\u001b[1;33m]\u001b[0m\u001b[1;33m\u001b[0m\u001b[0m\n",
      "\u001b[1;31mTypeError\u001b[0m: 'aln' object is not callable"
     ]
    }
   ],
   "source": [
    "alns = get_alignments(maf_file)"
   ]
  },
  {
   "cell_type": "code",
   "execution_count": 29,
   "metadata": {
    "collapsed": false
   },
   "outputs": [
    {
     "ename": "IndexError",
     "evalue": "list index out of range",
     "output_type": "error",
     "traceback": [
      "\u001b[1;31m---------------------------------------------------------------------------\u001b[0m",
      "\u001b[1;31mIndexError\u001b[0m                                Traceback (most recent call last)",
      "\u001b[1;32m<ipython-input-29-866db2f23a5e>\u001b[0m in \u001b[0;36m<module>\u001b[1;34m()\u001b[0m\n\u001b[0;32m      1\u001b[0m \u001b[1;32mfor\u001b[0m \u001b[0maln\u001b[0m \u001b[1;32min\u001b[0m \u001b[0malns\u001b[0m\u001b[1;33m:\u001b[0m\u001b[1;33m\u001b[0m\u001b[0m\n\u001b[1;32m----> 2\u001b[1;33m     \u001b[0mprint\u001b[0m\u001b[1;33m(\u001b[0m\u001b[0maln\u001b[0m\u001b[1;33m.\u001b[0m\u001b[0mcount_stats_pair\u001b[0m\u001b[1;33m(\u001b[0m\u001b[1;36m0\u001b[0m\u001b[1;33m,\u001b[0m \u001b[1;36m1\u001b[0m\u001b[1;33m)\u001b[0m\u001b[1;33m)\u001b[0m\u001b[1;33m\u001b[0m\u001b[0m\n\u001b[0m\u001b[0;32m      3\u001b[0m \u001b[1;33m\u001b[0m\u001b[0m\n",
      "\u001b[1;32m<ipython-input-18-6565def52006>\u001b[0m in \u001b[0;36mcount_stats_pair\u001b[1;34m(self, ref, target)\u001b[0m\n\u001b[0;32m     29\u001b[0m             \u001b[1;32mif\u001b[0m\u001b[1;33m(\u001b[0m\u001b[0mself\u001b[0m\u001b[1;33m.\u001b[0m\u001b[0mtext\u001b[0m\u001b[1;33m[\u001b[0m\u001b[0mref\u001b[0m\u001b[1;33m]\u001b[0m \u001b[1;33m==\u001b[0m \u001b[1;34m'-'\u001b[0m\u001b[1;33m)\u001b[0m\u001b[1;33m:\u001b[0m\u001b[1;33m\u001b[0m\u001b[0m\n\u001b[0;32m     30\u001b[0m                 \u001b[0minsertion\u001b[0m \u001b[1;33m+=\u001b[0m \u001b[1;36m1\u001b[0m\u001b[1;33m\u001b[0m\u001b[0m\n\u001b[1;32m---> 31\u001b[1;33m             \u001b[1;32melif\u001b[0m\u001b[1;33m(\u001b[0m\u001b[0mself\u001b[0m\u001b[1;33m.\u001b[0m\u001b[0mtext\u001b[0m\u001b[1;33m[\u001b[0m\u001b[0mtarget\u001b[0m\u001b[1;33m]\u001b[0m \u001b[1;33m==\u001b[0m \u001b[1;34m'-'\u001b[0m\u001b[1;33m)\u001b[0m\u001b[1;33m:\u001b[0m\u001b[1;33m\u001b[0m\u001b[0m\n\u001b[0m\u001b[0;32m     32\u001b[0m                 \u001b[0mdeletion\u001b[0m \u001b[1;33m+=\u001b[0m \u001b[1;36m1\u001b[0m\u001b[1;33m\u001b[0m\u001b[0m\n\u001b[0;32m     33\u001b[0m             \u001b[1;32melif\u001b[0m\u001b[1;33m(\u001b[0m\u001b[0mself\u001b[0m\u001b[1;33m.\u001b[0m\u001b[0mtext\u001b[0m\u001b[1;33m[\u001b[0m\u001b[0mref\u001b[0m\u001b[1;33m]\u001b[0m \u001b[1;33m==\u001b[0m \u001b[0mself\u001b[0m\u001b[1;33m.\u001b[0m\u001b[0mtext\u001b[0m\u001b[1;33m[\u001b[0m\u001b[0mtarget\u001b[0m\u001b[1;33m]\u001b[0m\u001b[1;33m)\u001b[0m\u001b[1;33m:\u001b[0m\u001b[1;33m\u001b[0m\u001b[0m\n",
      "\u001b[1;31mIndexError\u001b[0m: list index out of range"
     ]
    }
   ],
   "source": [
    "for aln in alns:\n",
    "    print(aln.count_stats_pair(0, 1))\n",
    "    "
   ]
  },
  {
   "cell_type": "code",
   "execution_count": null,
   "metadata": {
    "collapsed": true
   },
   "outputs": [],
   "source": []
  }
 ],
 "metadata": {
  "anaconda-cloud": {},
  "kernelspec": {
   "display_name": "Python [Root]",
   "language": "python",
   "name": "Python [Root]"
  },
  "language_info": {
   "codemirror_mode": {
    "name": "ipython",
    "version": 3
   },
   "file_extension": ".py",
   "mimetype": "text/x-python",
   "name": "python",
   "nbconvert_exporter": "python",
   "pygments_lexer": "ipython3",
   "version": "3.5.2"
  }
 },
 "nbformat": 4,
 "nbformat_minor": 0
}
