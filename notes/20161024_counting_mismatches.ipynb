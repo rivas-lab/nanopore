{
 "cells": [
  {
   "cell_type": "markdown",
   "metadata": {},
   "source": [
    "# summary \n",
    "- In this note, I wrote a piece of code to \n",
    "  - read maf file (output from LAST aligner)\n",
    "  - count match/mismatch/indel"
   ]
  },
  {
   "cell_type": "markdown",
   "metadata": {},
   "source": [
    "## maf file\n",
    "- Here is a sample maf file"
   ]
  },
  {
   "cell_type": "code",
   "execution_count": 1,
   "metadata": {
    "collapsed": true
   },
   "outputs": [],
   "source": [
    "                                    maf_file = '../sample_data/cDNA-sample.maf'"
   ]
  },
  {
   "cell_type": "code",
   "execution_count": 2,
   "metadata": {
    "collapsed": false
   },
   "outputs": [
    {
     "name": "stdout",
     "output_type": "stream",
     "text": [
      "# LAST version 759\r\n",
      "#\r\n",
      "# a=21 b=9 A=21 B=9 e=115 d=115 x=114 y=44 z=114 D=100 E=1.72574e+06\r\n",
      "# R=01 u=0 s=2 S=0 M=0 T=0 m=10 l=1 n=10 k=1 w=1000 t=4.36661 j=3 Q=1\r\n",
      "# /share/PI/mrivas/data/hg19/hg19.lastdb\r\n",
      "# Reference sequences=93 normal letters=2897310462\r\n",
      "# lambda=0.228526 K=0.433378\r\n",
      "#\r\n",
      "#    A  C  G  T\r\n",
      "# A  6 -18 -18 -18\r\n",
      "# C -18  6 -18 -18\r\n",
      "# G -18 -18  6 -18\r\n",
      "# T -18 -18 -18  6\r\n",
      "#\r\n",
      "# Coordinates are 0-based.  For - strand matches, coordinates\r\n",
      "# in the reverse complement of the 2nd sequence are used.\r\n",
      "#\r\n",
      "# name start alnSize strand seqSize alignment\r\n",
      "#\r\n",
      "# m=0.01 s=135 d=1 c=0 t=1e-05 M=7 S=1.7\r\n",
      "# trans=-148\r\n",
      "#\r\n",
      "# Query sequences=1\r\n",
      "a score=438 mismap=1e-10\r\n",
      "s chr9                                                                        97802874 270 + 141213431 GGAGAGCAGGGACCTTTCTCCCTCCCCTCCTCTATGTCTTTCTGACCAGGTGCCCCCAGGACGCCTATTGCTGATGGGCATAG-GCATTCCCAGTTCCCTCCTGGCCCAAGCTCCTGGAG-GTGGGACCACACATGACAGAGCGACACCCAGCTTGTCCTCTCTTTTGCAAAGTGCAGGATGAGAATTTTGGGTTATCCTGGCTCCTCCCATGTTTTTTGCAGCTCCAGTGACAGCAATGCCAAATGATACCCAAAGATAAAAATATTGATC\r\n",
      "s channel_292_f032c6d0-25c3-4784-9b24-53e57e93f82d_qscore_6.2_read_score_-2.4     6341 250 +      7460 GAAGGGCGGGGACCTTTCTCCT--CACTCATCTGTGATATT-TCAATAGAGTGCCCCAAGACGCCCTGTGCTGATAGGCATAGAGCATTCCCAGTTCC-TCCTAGCCCAAGCTCCTGGAGAGTGGGAC--CACATGACA-AGCGACACCAA---CATCCTCTC-TTTACAAAGTGCAGGATAAG--GTACAGGTTATCCTGGCTCCTCC----ATGTTTGCAGCTCCAGTGACA-TAATGCC-GATGATA--CAAAGAT-AAAATATTGATC\r\n",
      "q channel_292_f032c6d0-25c3-4784-9b24-53e57e93f82d_qscore_6.2_read_score_-2.4                          -&(0(/0):]0%+&(33,+&'&--)$'(0(-.+(&,+'(*.-(''+&(&'%'#(('%(\"(#8).5)(%0&.///.&,2/1]?,0.]/7.+/2*).)]]-+1],'',.(&)&,6]]2;-(&&$-%)1/0--,*-)%&(&)-.,-@]/',&)#---%%']0)]('-]5,&).+&$&%%'454-)$&--&'',+.-.]52]]0&.2-03++/----**%.5.$+,0,*0*-,/--)$-()9)&)&-%30*-)&--''/.)/,-2.-(',2,+*))\r\n",
      "p                                                                                                      ~~~~~~~~~~~~~~~~~~~~~~~~~~~~~~~~~~~~~~~~~~~~~~~~~~~~~~~~~~~~~~~~~~~~~~~~~~~~~~~~~~~~~~~~~~~~~~~~~~~~~~~~~~~~~~~~~~~~~~~~~~~~~~~~~~~~~~~~~~~~~~~~~~~~~~~~~~~~~~~~~~~~~~~~~~~~~~~~~~~~~~~~~~~~~~~~~~~~~~~~~~~~~~~~~{{{{~~~~~~~~~~~~~~~~~~~~~~~~~~~~~~~~~~~~~~~~~~~~~~~~~~~~~~~~~~~\r\n",
      "\r\n"
     ]
    }
   ],
   "source": [
    "!cat $maf_file"
   ]
  },
  {
   "cell_type": "markdown",
   "metadata": {},
   "source": [
    "## maf file parser\n",
    "- parse consists of \n",
    "  1. class to store alignment\n",
    "  1. parser function"
   ]
  },
  {
   "cell_type": "code",
   "execution_count": 3,
   "metadata": {
    "collapsed": false
   },
   "outputs": [],
   "source": [
    "class aln():\n",
    "    def __init__(self, a_filed, alignment):\n",
    "        self.a_filed = a_filed\n",
    "        self.src = []\n",
    "        self.start = []\n",
    "        self.size = []\n",
    "        self.strand = []\n",
    "        self.srcSize = []\n",
    "        self.text = []\n",
    "        self.other = []\n",
    "        for entry in alignment:\n",
    "            if(entry.startswith('s')):\n",
    "                elements = entry.split()\n",
    "                self.src.append(elements[1])\n",
    "                self.start.append(elements[2])\n",
    "                self.size.append(elements[3])\n",
    "                self.strand.append(elements[4])\n",
    "                self.srcSize.append(elements[5])\n",
    "                self.text.append(elements[6])\n",
    "            else:\n",
    "                self.other.append(entry)\n",
    "        self.num_seq = len(self.src)\n",
    "    def count_stats_pair(self, ref, target):\n",
    "        insertion = 0\n",
    "        deletion = 0\n",
    "        match = 0\n",
    "        mismatch = 0\n",
    "        for position in range(len(self.text[ref])):\n",
    "            if(self.text[ref] == '_'):\n",
    "                insertion += 1\n",
    "            elif(self.text[target] == '_'):\n",
    "                deletion += 1\n",
    "            elif(self.text[ref] == self.text[target]):\n",
    "                match += 1\n",
    "            else:\n",
    "                mismatch += 1\n",
    "        return([match, mismatch, insertion, deletion])\n",
    "    def count_stats(self, ref = 0, targets = None):\n",
    "        if(targets == None):\n",
    "            return([self.count_stats_pair(ref, j) for j in range(self.num_seq)])\n",
    "        else:\n",
    "            return([self.count_stats_pair(ref, j) for j in targets])\n",
    "    def __str__(self):\n",
    "        strs = []\n",
    "        for i in range(self.num_seq):\n",
    "            strs.append(self.text[i])\n",
    "        return('\\n'.join(strs))"
   ]
  },
  {
   "cell_type": "code",
   "execution_count": 4,
   "metadata": {
    "collapsed": true
   },
   "outputs": [],
   "source": [
    "def get_alignments(maf_file):\n",
    "    alns = []    \n",
    "    with open(maf_file, 'r') as f:\n",
    "        alignment_block_str = []\n",
    "        for l in f:\n",
    "            if(not l.startswith('#') and len(l.strip()) > 0):\n",
    "                if(l.startswith('a')):\n",
    "                    if(len(alignment_block_str) > 0):\n",
    "                        block = aln(alignment_block_str[0], alignment_block_str[1:])\n",
    "                        alignment_block = []\n",
    "                        alignment_block_str.append(l.strip())\n",
    "                else:\n",
    "                    alignment_block_str.append(l.strip())            \n",
    "        alns.append(aln(alignment_block_str[0], alignment_block_str[1:]))\n",
    "    return(alns)"
   ]
  },
  {
   "cell_type": "code",
   "execution_count": null,
   "metadata": {
    "collapsed": true
   },
   "outputs": [],
   "source": []
  },
  {
   "cell_type": "markdown",
   "metadata": {},
   "source": [
    "## usage"
   ]
  },
  {
   "cell_type": "code",
   "execution_count": 5,
   "metadata": {
    "collapsed": false
   },
   "outputs": [],
   "source": [
    "alns = get_alignments(maf_file)"
   ]
  },
  {
   "cell_type": "code",
   "execution_count": 6,
   "metadata": {
    "collapsed": false
   },
   "outputs": [
    {
     "name": "stdout",
     "output_type": "stream",
     "text": [
      "[[272, 0, 0, 0]]\n"
     ]
    }
   ],
   "source": [
    "for aln in alns:\n",
    "    print(aln.count_stats())"
   ]
  },
  {
   "cell_type": "code",
   "execution_count": null,
   "metadata": {
    "collapsed": true
   },
   "outputs": [],
   "source": []
  }
 ],
 "metadata": {
  "kernelspec": {
   "display_name": "Python [Root]",
   "language": "python",
   "name": "Python [Root]"
  },
  "language_info": {
   "codemirror_mode": {
    "name": "ipython",
    "version": 3
   },
   "file_extension": ".py",
   "mimetype": "text/x-python",
   "name": "python",
   "nbconvert_exporter": "python",
   "pygments_lexer": "ipython3",
   "version": "3.5.2"
  }
 },
 "nbformat": 4,
 "nbformat_minor": 0
}
