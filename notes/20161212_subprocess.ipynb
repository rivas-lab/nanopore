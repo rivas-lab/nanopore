{
 "cells": [
  {
   "cell_type": "code",
   "execution_count": 1,
   "metadata": {
    "collapsed": true
   },
   "outputs": [],
   "source": [
    "import subprocess"
   ]
  },
  {
   "cell_type": "code",
   "execution_count": 2,
   "metadata": {
    "collapsed": false
   },
   "outputs": [
    {
     "data": {
      "text/plain": [
       "'Hello World!\\n'"
      ]
     },
     "execution_count": 2,
     "metadata": {},
     "output_type": "execute_result"
    }
   ],
   "source": [
    "subprocess.check_output([\"echo\", \"Hello World!\"])"
   ]
  },
  {
   "cell_type": "code",
   "execution_count": 3,
   "metadata": {
    "collapsed": false
   },
   "outputs": [
    {
     "name": "stdout",
     "output_type": "stream",
     "text": [
      "total 2282\n",
      "  98 20161011_poretools.ipynb\n",
      "1218 20161017_porekit.ipynb\n",
      "  26 20161018_hg19_Download.ipynb\n",
      "  26 20161018_LAST_installation.ipynb\n",
      "  98 20161018_mapping_and_counting.ipynb\n",
      "  98 20161026_read_length_dist.ipynb\n",
      "  50 20161028_count.ipynb\n",
      "  26 20161118_pysam.ipynb\n",
      " 442 20161128_count.ipynb\n",
      "  26 20161201_NA12878_PacBio_Stats.ipynb\n",
      "  50 20161201_select_random_reads_failed.ipynb\n",
      "   2 20161212_subprocess.ipynb\n",
      "  26 pgenlib.ipynb\n",
      "   2 ReadBAM.py\n",
      "  50 ReadBAM.pyc\n",
      "  26 selected_index.txt\n",
      "  26 syzygy.ipynb\n",
      "\n"
     ]
    }
   ],
   "source": [
    "print subprocess.check_output([\"ls\", \"-s\"])"
   ]
  },
  {
   "cell_type": "code",
   "execution_count": null,
   "metadata": {
    "collapsed": true
   },
   "outputs": [],
   "source": []
  }
 ],
 "metadata": {
  "anaconda-cloud": {},
  "kernelspec": {
   "display_name": "Python [pgenlib]",
   "language": "python",
   "name": "Python [pgenlib]"
  },
  "language_info": {
   "codemirror_mode": {
    "name": "ipython",
    "version": 2
   },
   "file_extension": ".py",
   "mimetype": "text/x-python",
   "name": "python",
   "nbconvert_exporter": "python",
   "pygments_lexer": "ipython2",
   "version": "2.7.5"
  }
 },
 "nbformat": 4,
 "nbformat_minor": 0
}
