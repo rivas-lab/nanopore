{
 "cells": [
  {
   "cell_type": "markdown",
   "metadata": {},
   "source": [
    "# Define genomic bins based on LD structure\n",
    "### Yosuke Tanigawa (2017/7/5)\n",
    "\n",
    "## ToDo\n",
    "- replace path to PLINK log file\n",
    "\n",
    "\n",
    "## Summary:\n",
    "This note describes the following procedures:\n",
    "1. `PLINK --blocks` command to generate .block.det file\n",
    "1. Definition of genomic bins based on the LD block structure"
   ]
  },
  {
   "cell_type": "code",
   "execution_count": 1,
   "metadata": {
    "collapsed": true
   },
   "outputs": [],
   "source": [
    "%matplotlib inline\n",
    "\n",
    "import numpy as np\n",
    "import pandas as pd\n",
    "import matplotlib\n",
    "import matplotlib.pyplot as plt\n",
    "import matplotlib.gridspec as gridspec\n",
    "import itertools as it\n",
    "import bisect\n",
    "\n",
    "font = {#'family' : 'normal',\n",
    "        #'weight' : 'bold',\n",
    "        'size'   : 20}\n",
    "matplotlib.rc('font', **font)"
   ]
  },
  {
   "cell_type": "code",
   "execution_count": 2,
   "metadata": {
    "collapsed": true
   },
   "outputs": [],
   "source": [
    "def show_block_statistics(block_size_kb, block_size_nSNPs):\n",
    "    \"\"\" visualize the size of blocks (length, # SNPs) with mean/median\n",
    "    \"\"\"\n",
    "    print('size of blocks: \\tmean = {:.2f}kb;\\tmedian = {:.2f}kb'.format(\n",
    "        np.mean(block_size_kb), np.median(block_size_kb)\n",
    "    ))\n",
    "    print('#SNPs in blocks:\\tmean = {:.2f};\\tmedian = {:.2f}'.format(\n",
    "        np.mean(block_size_nSNPs), np.median(block_size_nSNPs)\n",
    "    ))    \n",
    "    fig = plt.figure(figsize=(10, 5))\n",
    "    gs = gridspec.GridSpec(1, 2)\n",
    "    axs = [fig.add_subplot(ss) for ss in gs]\n",
    "    axs[0].hist(block_size_kb)\n",
    "    axs[1].hist(block_size_nSNPs)\n",
    "    axs[0].set_xlabel('size of the LD block (kbp)')\n",
    "    axs[1].set_xlabel('size of the LD block (# SNPs)')\n",
    "    for ax in axs:\n",
    "        ax.set_ylabel('frequency')\n",
    "    axs[0].set_title('Size of blocks')\n",
    "    axs[1].set_title('# SNPs in blocks')\n",
    "    fig.suptitle('')\n",
    "    gs.tight_layout(fig, rect=[0, 0, 1, 0.88])    "
   ]
  },
  {
   "cell_type": "code",
   "execution_count": 3,
   "metadata": {
    "collapsed": true
   },
   "outputs": [],
   "source": [
    "def define_bins(chrom, bim, block_det):\n",
    "    \"\"\"Define LD-based bins\n",
    "    Note: the input files (bim file and block_det file) are 1-indexed\n",
    "    \"\"\"\n",
    "    \n",
    "    # find genomic positions that consist the boundaries of bins\n",
    "    interval_points = np.zeros(len(block_det) + 1, dtype=np.int)\n",
    "    interval_points[1:-1] = [x - 1 for x in block_det.BP1.as_matrix()[1:]]\n",
    "    interval_points[0] = bim.pos[0] - 1\n",
    "    interval_points[-1] = bim.pos[len(bim) -1] - 1    \n",
    "    \n",
    "    # convert to 0-index coordinate\n",
    "    bim_pos_0index = bim.pos.map(lambda x: x - 1).as_matrix()\n",
    "    \n",
    "    # we also want to store the intervals on bim-id space\n",
    "    interval_points_bimid = np.array(\n",
    "        [bisect.bisect_right(bim_pos_0index, x) - 1 for x in interval_points]\n",
    "    )    \n",
    "    \n",
    "    # create a data frame\n",
    "    bins_df = pd.DataFrame({\n",
    "        'block_id': range(len(block_det)),\n",
    "        'chrom': [chrom] * len(block_det),\n",
    "        'chromStart': interval_points[:-1],\n",
    "        'chromEnd':   interval_points[1:],\n",
    "        'bimIdStart': interval_points_bimid[:-1],\n",
    "        'bimIdEnd':   interval_points_bimid[1:]\n",
    "    })    \n",
    "    \n",
    "    bins_df['KB']    = 1.0 * (bins_df.chromEnd - bins_df.chromStart) / 1000\n",
    "    bins_df['nSNPs'] = bins_df.bimIdEnd - bins_df.bimIdStart\n",
    "    \n",
    "    return bins_df[['block_id', 'chrom', 'chromStart', 'chromEnd', 'bimIdStart', 'bimIdEnd', 'KB', 'nSNPs']]"
   ]
  },
  {
   "cell_type": "markdown",
   "metadata": {},
   "source": [
    "## 0) input & output files\n",
    "### input"
   ]
  },
  {
   "cell_type": "code",
   "execution_count": 4,
   "metadata": {
    "collapsed": true
   },
   "outputs": [],
   "source": [
    "block_det_f = '../../../../public_data/intermediate/population_ref/chr20-alleles.blocks.det'\n",
    "bim_f = '../../../../public_data/intermediate/population_ref/chr20-alleles.bim'"
   ]
  },
  {
   "cell_type": "markdown",
   "metadata": {},
   "source": [
    "### output"
   ]
  },
  {
   "cell_type": "code",
   "execution_count": 5,
   "metadata": {
    "collapsed": true
   },
   "outputs": [],
   "source": [
    "bins_f = '../../../../public_data/intermediate/population_ref/chr20-bins.tsv'"
   ]
  },
  {
   "cell_type": "markdown",
   "metadata": {},
   "source": [
    "## 1) PLINK --blocks command\n",
    "- We used plink 1.9 --blocks option to compute the LD blocks\n",
    "- https://www.cog-genomics.org/plink2/ld"
   ]
  },
  {
   "cell_type": "code",
   "execution_count": 6,
   "metadata": {
    "collapsed": false
   },
   "outputs": [
    {
     "name": "stdout",
     "output_type": "stream",
     "text": [
      "PLINK v1.90b3.45 64-bit (13 Jan 2017)\r\n",
      "Options in effect:\r\n",
      "  --bfile /oak/stanford/groups/mrivas/private_data/ukbb/pgen/chr20impv1\r\n",
      "  --biallelic-only strict\r\n",
      "  --geno\r\n",
      "  --hwe 1e-10 midp\r\n",
      "  --keep /share/PI/mrivas/data/ukbb/phefiles/initialdata/1389.phe\r\n",
      "  --maf 0.005\r\n",
      "  --make-bed\r\n",
      "  --memory 30000\r\n",
      "  --out /oak/stanford/groups/mrivas/users/ytanigaw/nanopore-data/chr20impv1-keep-maf0005-snv-biallelic-geno01-hwe1e-10\r\n",
      "  --snps-only just-acgt\r\n",
      "\r\n",
      "Hostname: sh-102-07.int\r\n",
      "Working directory: /home/users/ytanigaw\r\n",
      "Start time: Fri Jun 23 16:24:21 2017\r\n",
      "\r\n",
      "Random number seed: 1498260261\r\n",
      "257674 MB RAM detected; reserving 30000 MB for main workspace.\r\n",
      "1540220 out of 1619597 variants loaded from .bim file.\r\n",
      "152249 people (0 males, 0 females, 152249 ambiguous) loaded from .fam.\r\n",
      "Ambiguous sex IDs written to\r\n",
      "/oak/stanford/groups/mrivas/users/ytanigaw/nanopore-data/chr20impv1-keep-maf0005-snv-biallelic-geno01-hwe1e-10.nosex\r\n",
      ".\r\n",
      "--keep: 112338 people remaining.\r\n",
      "Using 1 thread (no multithreaded calculations invoked).\r\n",
      "Before main variant filters, 112338 founders and 0 nonfounders present.\r\n",
      "Calculating allele frequencies... done.\r\n",
      "Total genotyping rate in remaining samples is 0.996625.\r\n",
      "6300 variants removed due to missing genotype data (--geno).\r\n",
      "--hwe: 781 variants removed due to Hardy-Weinberg exact test.\r\n",
      "1334721 variants removed due to minor allele threshold(s)\r\n",
      "(--maf/--max-maf/--mac/--max-mac).\r\n",
      "198418 variants and 112338 people pass filters and QC.\r\n",
      "Note: No phenotypes present.\r\n",
      "--make-bed to\r\n",
      "/oak/stanford/groups/mrivas/users/ytanigaw/nanopore-data/chr20impv1-keep-maf0005-snv-biallelic-geno01-hwe1e-10.bed\r\n",
      "+\r\n",
      "/oak/stanford/groups/mrivas/users/ytanigaw/nanopore-data/chr20impv1-keep-maf0005-snv-biallelic-geno01-hwe1e-10.bim\r\n",
      "+\r\n",
      "/oak/stanford/groups/mrivas/users/ytanigaw/nanopore-data/chr20impv1-keep-maf0005-snv-biallelic-geno01-hwe1e-10.fam\r\n",
      "... done.\r\n",
      "\r\n",
      "End time: Fri Jun 23 16:26:23 2017\r\n"
     ]
    }
   ],
   "source": [
    "!cat /oak/stanford/groups/mrivas/users/ytanigaw/nanopore-data/unphased_data/chr20impv1-keep-maf0005-snv-biallelic-geno01-hwe1e-10.log"
   ]
  },
  {
   "cell_type": "code",
   "execution_count": 7,
   "metadata": {
    "collapsed": false
   },
   "outputs": [
    {
     "name": "stdout",
     "output_type": "stream",
     "text": [
      "PLINK v1.90b3.45 64-bit (13 Jan 2017)\r\n",
      "Options in effect:\r\n",
      "  --bfile /oak/stanford/groups/mrivas/users/ytanigaw/nanopore-data/chr20impv1-keep-maf0005-snv-biallelic-geno01-hwe1e-10\r\n",
      "  --blocks no-pheno-req no-small-max-span\r\n",
      "  --blocks-inform-frac 0.10\r\n",
      "  --blocks-max-kb 1000\r\n",
      "  --blocks-recomb-highci 0.830001\r\n",
      "  --blocks-strong-highci 0.830001\r\n",
      "  --blocks-strong-lowci 0.50001\r\n",
      "  --memory 30000\r\n",
      "  --out /oak/stanford/groups/mrivas/users/ytanigaw/nanopore-data/chr20impv1-keep-maf0005-snv-biallelic-geno01-hwe1e-10-block-stronglow050-stronghigh083-infofrac10\r\n",
      "\r\n",
      "Hostname: sh-102-07.int\r\n",
      "Working directory: /home/users/ytanigaw\r\n",
      "Start time: Fri Jun 23 16:32:58 2017\r\n",
      "\r\n",
      "Random number seed: 1498260778\r\n",
      "257674 MB RAM detected; reserving 30000 MB for main workspace.\r\n",
      "198418 variants loaded from .bim file.\r\n",
      "112338 people (0 males, 0 females, 112338 ambiguous) loaded from .fam.\r\n",
      "Ambiguous sex IDs written to\r\n",
      "/oak/stanford/groups/mrivas/users/ytanigaw/nanopore-data/chr20impv1-keep-maf0005-snv-biallelic-geno01-hwe1e-10-block-stronglow050-stronghigh083-infofrac10.nosex\r\n",
      ".\r\n",
      "Using 1 thread (no multithreaded calculations invoked).\r\n",
      "Before main variant filters, 112338 founders and 0 nonfounders present.\r\n",
      "Calculating allele frequencies... done.\r\n",
      "Total genotyping rate is 0.988021.\r\n",
      "198418 variants and 112338 people pass filters and QC.\r\n",
      "Note: No phenotypes present.\r\n",
      "--blocks: 642 haploblocks written to\r\n",
      "/oak/stanford/groups/mrivas/users/ytanigaw/nanopore-data/chr20impv1-keep-maf0005-snv-biallelic-geno01-hwe1e-10-block-stronglow050-stronghigh083-infofrac10.blocks\r\n",
      ".\r\n",
      "Extra block details written to\r\n",
      "/oak/stanford/groups/mrivas/users/ytanigaw/nanopore-data/chr20impv1-keep-maf0005-snv-biallelic-geno01-hwe1e-10-block-stronglow050-stronghigh083-infofrac10.blocks.det\r\n",
      ".\r\n",
      "Longest span: 999.994kb.\r\n",
      "\r\n",
      "End time: Fri Jun 23 17:17:10 2017\r\n"
     ]
    }
   ],
   "source": [
    "!cat /oak/stanford/groups/mrivas/users/ytanigaw/nanopore-data/unphased_data/chr20impv1-keep-maf0005-snv-biallelic-geno01-hwe1e-10-block-stronglow050-stronghigh083-infofrac10.log"
   ]
  },
  {
   "cell_type": "markdown",
   "metadata": {},
   "source": [
    "### The mean and median of size and # SNPs\n",
    "- Here, SNPs with 5% + is used to define our blocks"
   ]
  },
  {
   "cell_type": "markdown",
   "metadata": {},
   "source": [
    "### blocks.det file\n",
    "- the results of the PLINK 1.9 --blocks command is shown below:"
   ]
  },
  {
   "cell_type": "code",
   "execution_count": 8,
   "metadata": {
    "collapsed": false
   },
   "outputs": [
    {
     "name": "stdout",
     "output_type": "stream",
     "text": [
      "(642, 6)\n"
     ]
    },
    {
     "data": {
      "text/html": [
       "<div>\n",
       "<style>\n",
       "    .dataframe thead tr:only-child th {\n",
       "        text-align: right;\n",
       "    }\n",
       "\n",
       "    .dataframe thead th {\n",
       "        text-align: left;\n",
       "    }\n",
       "\n",
       "    .dataframe tbody tr th {\n",
       "        vertical-align: top;\n",
       "    }\n",
       "</style>\n",
       "<table border=\"1\" class=\"dataframe\">\n",
       "  <thead>\n",
       "    <tr style=\"text-align: right;\">\n",
       "      <th></th>\n",
       "      <th>CHR</th>\n",
       "      <th>BP1</th>\n",
       "      <th>BP2</th>\n",
       "      <th>KB</th>\n",
       "      <th>NSNPS</th>\n",
       "      <th>SNPS</th>\n",
       "    </tr>\n",
       "  </thead>\n",
       "  <tbody>\n",
       "    <tr>\n",
       "      <th>0</th>\n",
       "      <td>20</td>\n",
       "      <td>62731</td>\n",
       "      <td>93931</td>\n",
       "      <td>31.201</td>\n",
       "      <td>30</td>\n",
       "      <td>rs34147676|rs6139074|rs1418258|rs13043000|rs60...</td>\n",
       "    </tr>\n",
       "    <tr>\n",
       "      <th>1</th>\n",
       "      <td>20</td>\n",
       "      <td>94952</td>\n",
       "      <td>266511</td>\n",
       "      <td>171.560</td>\n",
       "      <td>545</td>\n",
       "      <td>rs1857092|rs80192833|rs6052070|rs6515824|rs605...</td>\n",
       "    </tr>\n",
       "    <tr>\n",
       "      <th>2</th>\n",
       "      <td>20</td>\n",
       "      <td>266792</td>\n",
       "      <td>287529</td>\n",
       "      <td>20.738</td>\n",
       "      <td>56</td>\n",
       "      <td>rs6137140|rs6082182|rs6082191|rs6082211|rs6075...</td>\n",
       "    </tr>\n",
       "    <tr>\n",
       "      <th>3</th>\n",
       "      <td>20</td>\n",
       "      <td>288776</td>\n",
       "      <td>344195</td>\n",
       "      <td>55.420</td>\n",
       "      <td>86</td>\n",
       "      <td>rs4815163|rs62191394|rs6075996|rs6082956|rs723...</td>\n",
       "    </tr>\n",
       "    <tr>\n",
       "      <th>4</th>\n",
       "      <td>20</td>\n",
       "      <td>344631</td>\n",
       "      <td>345864</td>\n",
       "      <td>1.234</td>\n",
       "      <td>4</td>\n",
       "      <td>rs6084202|rs2017171|rs1555318|rs6051490</td>\n",
       "    </tr>\n",
       "  </tbody>\n",
       "</table>\n",
       "</div>"
      ],
      "text/plain": [
       "   CHR     BP1     BP2       KB  NSNPS  \\\n",
       "0   20   62731   93931   31.201     30   \n",
       "1   20   94952  266511  171.560    545   \n",
       "2   20  266792  287529   20.738     56   \n",
       "3   20  288776  344195   55.420     86   \n",
       "4   20  344631  345864    1.234      4   \n",
       "\n",
       "                                                SNPS  \n",
       "0  rs34147676|rs6139074|rs1418258|rs13043000|rs60...  \n",
       "1  rs1857092|rs80192833|rs6052070|rs6515824|rs605...  \n",
       "2  rs6137140|rs6082182|rs6082191|rs6082211|rs6075...  \n",
       "3  rs4815163|rs62191394|rs6075996|rs6082956|rs723...  \n",
       "4            rs6084202|rs2017171|rs1555318|rs6051490  "
      ]
     },
     "execution_count": 8,
     "metadata": {},
     "output_type": "execute_result"
    }
   ],
   "source": [
    "block_det = pd.read_csv(block_det_f, sep='\\s+')\n",
    "print(block_det.shape)\n",
    "block_det.head()"
   ]
  },
  {
   "cell_type": "code",
   "execution_count": 9,
   "metadata": {
    "collapsed": false
   },
   "outputs": [
    {
     "name": "stdout",
     "output_type": "stream",
     "text": [
      "size of blocks: \tmean = 91.54kb;\tmedian = 25.41kb\n",
      "#SNPs in blocks:\tmean = 194.97;\tmedian = 50.00\n"
     ]
    },
    {
     "data": {
      "image/png": "[encoded data removed]",
      "text/plain": [
       "<matplotlib.figure.Figure at 0x7fad774b9bd0>"
      ]
     },
     "metadata": {},
     "output_type": "display_data"
    }
   ],
   "source": [
    "show_block_statistics(block_det.KB, block_det.NSNPS)"
   ]
  },
  {
   "cell_type": "markdown",
   "metadata": {},
   "source": [
    "## 2) Definition of genomic bins based on the LD block structure\n",
    "### motivation\n",
    "- The blocks we found in the previous step does not fully cover the entire chromosome\n",
    "\n",
    "### method\n",
    "- Given the block.det file and bim file (that has all the SNPs we consider), we *define* LD-based bins\n",
    "- block.det is essentially a list of intervals [[BP1_1, BP2_1), [BP1_2, BP2_2), ... , [BP1_n, BP2_n)]\n",
    "  - [x, y) denotes semi-open intervals where x is included in the interval while y isn't\n",
    "- Our definition of the blocks are: [[0, BP1_2), [BP1_2, BP1_3), [BP1_3, BP1_4), ... , [BP1_{n-1}, BP1_n), [BP1_{n-1}, end_of_chromosome]]"
   ]
  },
  {
   "cell_type": "code",
   "execution_count": 10,
   "metadata": {
    "collapsed": false
   },
   "outputs": [
    {
     "name": "stdout",
     "output_type": "stream",
     "text": [
      "(198418, 6)\n"
     ]
    },
    {
     "data": {
      "text/html": [
       "<div>\n",
       "<style>\n",
       "    .dataframe thead tr:only-child th {\n",
       "        text-align: right;\n",
       "    }\n",
       "\n",
       "    .dataframe thead th {\n",
       "        text-align: left;\n",
       "    }\n",
       "\n",
       "    .dataframe tbody tr th {\n",
       "        vertical-align: top;\n",
       "    }\n",
       "</style>\n",
       "<table border=\"1\" class=\"dataframe\">\n",
       "  <thead>\n",
       "    <tr style=\"text-align: right;\">\n",
       "      <th></th>\n",
       "      <th>chr</th>\n",
       "      <th>rsid</th>\n",
       "      <th>genetic_dist</th>\n",
       "      <th>pos</th>\n",
       "      <th>a1</th>\n",
       "      <th>a2</th>\n",
       "    </tr>\n",
       "  </thead>\n",
       "  <tbody>\n",
       "    <tr>\n",
       "      <th>0</th>\n",
       "      <td>20</td>\n",
       "      <td>rs6078030</td>\n",
       "      <td>0</td>\n",
       "      <td>61098</td>\n",
       "      <td>T</td>\n",
       "      <td>C</td>\n",
       "    </tr>\n",
       "    <tr>\n",
       "      <th>1</th>\n",
       "      <td>20</td>\n",
       "      <td>rs143291093</td>\n",
       "      <td>0</td>\n",
       "      <td>61270</td>\n",
       "      <td>C</td>\n",
       "      <td>A</td>\n",
       "    </tr>\n",
       "    <tr>\n",
       "      <th>2</th>\n",
       "      <td>20</td>\n",
       "      <td>rs4814683</td>\n",
       "      <td>0</td>\n",
       "      <td>61795</td>\n",
       "      <td>T</td>\n",
       "      <td>G</td>\n",
       "    </tr>\n",
       "    <tr>\n",
       "      <th>3</th>\n",
       "      <td>20</td>\n",
       "      <td>rs34147676</td>\n",
       "      <td>0</td>\n",
       "      <td>62731</td>\n",
       "      <td>A</td>\n",
       "      <td>C</td>\n",
       "    </tr>\n",
       "    <tr>\n",
       "      <th>4</th>\n",
       "      <td>20</td>\n",
       "      <td>rs6076506</td>\n",
       "      <td>0</td>\n",
       "      <td>63231</td>\n",
       "      <td>G</td>\n",
       "      <td>T</td>\n",
       "    </tr>\n",
       "  </tbody>\n",
       "</table>\n",
       "</div>"
      ],
      "text/plain": [
       "   chr         rsid  genetic_dist    pos a1 a2\n",
       "0   20    rs6078030             0  61098  T  C\n",
       "1   20  rs143291093             0  61270  C  A\n",
       "2   20    rs4814683             0  61795  T  G\n",
       "3   20   rs34147676             0  62731  A  C\n",
       "4   20    rs6076506             0  63231  G  T"
      ]
     },
     "execution_count": 10,
     "metadata": {},
     "output_type": "execute_result"
    }
   ],
   "source": [
    "bim = pd.read_csv(bim_f, sep='\\t', names=['chr', 'rsid', 'genetic_dist', 'pos', 'a1', 'a2'])\n",
    "print(bim.shape)\n",
    "bim.head()"
   ]
  },
  {
   "cell_type": "code",
   "execution_count": 11,
   "metadata": {
    "collapsed": true
   },
   "outputs": [],
   "source": [
    "bins_df = define_bins('chr20', bim, block_det)"
   ]
  },
  {
   "cell_type": "code",
   "execution_count": 12,
   "metadata": {
    "collapsed": false
   },
   "outputs": [
    {
     "data": {
      "text/html": [
       "<div>\n",
       "<style>\n",
       "    .dataframe thead tr:only-child th {\n",
       "        text-align: right;\n",
       "    }\n",
       "\n",
       "    .dataframe thead th {\n",
       "        text-align: left;\n",
       "    }\n",
       "\n",
       "    .dataframe tbody tr th {\n",
       "        vertical-align: top;\n",
       "    }\n",
       "</style>\n",
       "<table border=\"1\" class=\"dataframe\">\n",
       "  <thead>\n",
       "    <tr style=\"text-align: right;\">\n",
       "      <th></th>\n",
       "      <th>block_id</th>\n",
       "      <th>chrom</th>\n",
       "      <th>chromStart</th>\n",
       "      <th>chromEnd</th>\n",
       "      <th>bimIdStart</th>\n",
       "      <th>bimIdEnd</th>\n",
       "      <th>KB</th>\n",
       "      <th>nSNPs</th>\n",
       "    </tr>\n",
       "  </thead>\n",
       "  <tbody>\n",
       "    <tr>\n",
       "      <th>0</th>\n",
       "      <td>0</td>\n",
       "      <td>chr20</td>\n",
       "      <td>61097</td>\n",
       "      <td>94951</td>\n",
       "      <td>0</td>\n",
       "      <td>78</td>\n",
       "      <td>33.854</td>\n",
       "      <td>78</td>\n",
       "    </tr>\n",
       "    <tr>\n",
       "      <th>1</th>\n",
       "      <td>1</td>\n",
       "      <td>chr20</td>\n",
       "      <td>94951</td>\n",
       "      <td>266791</td>\n",
       "      <td>78</td>\n",
       "      <td>915</td>\n",
       "      <td>171.840</td>\n",
       "      <td>837</td>\n",
       "    </tr>\n",
       "    <tr>\n",
       "      <th>2</th>\n",
       "      <td>2</td>\n",
       "      <td>chr20</td>\n",
       "      <td>266791</td>\n",
       "      <td>288775</td>\n",
       "      <td>915</td>\n",
       "      <td>991</td>\n",
       "      <td>21.984</td>\n",
       "      <td>76</td>\n",
       "    </tr>\n",
       "    <tr>\n",
       "      <th>3</th>\n",
       "      <td>3</td>\n",
       "      <td>chr20</td>\n",
       "      <td>288775</td>\n",
       "      <td>344630</td>\n",
       "      <td>991</td>\n",
       "      <td>1218</td>\n",
       "      <td>55.855</td>\n",
       "      <td>227</td>\n",
       "    </tr>\n",
       "    <tr>\n",
       "      <th>4</th>\n",
       "      <td>4</td>\n",
       "      <td>chr20</td>\n",
       "      <td>344630</td>\n",
       "      <td>346675</td>\n",
       "      <td>1218</td>\n",
       "      <td>1224</td>\n",
       "      <td>2.045</td>\n",
       "      <td>6</td>\n",
       "    </tr>\n",
       "  </tbody>\n",
       "</table>\n",
       "</div>"
      ],
      "text/plain": [
       "   block_id  chrom  chromStart  chromEnd  bimIdStart  bimIdEnd       KB  nSNPs\n",
       "0         0  chr20       61097     94951           0        78   33.854     78\n",
       "1         1  chr20       94951    266791          78       915  171.840    837\n",
       "2         2  chr20      266791    288775         915       991   21.984     76\n",
       "3         3  chr20      288775    344630         991      1218   55.855    227\n",
       "4         4  chr20      344630    346675        1218      1224    2.045      6"
      ]
     },
     "execution_count": 12,
     "metadata": {},
     "output_type": "execute_result"
    }
   ],
   "source": [
    "bins_df.head()"
   ]
  },
  {
   "cell_type": "code",
   "execution_count": 13,
   "metadata": {
    "collapsed": true
   },
   "outputs": [],
   "source": [
    "bins_df.to_csv(bins_f, index=False, sep='\\t')"
   ]
  },
  {
   "cell_type": "code",
   "execution_count": 14,
   "metadata": {
    "collapsed": false
   },
   "outputs": [
    {
     "name": "stdout",
     "output_type": "stream",
     "text": [
      "../../../../public_data/intermediate/population_ref/chr20-bins.tsv\r\n"
     ]
    }
   ],
   "source": [
    "!echo $bins_f"
   ]
  },
  {
   "cell_type": "code",
   "execution_count": 15,
   "metadata": {
    "collapsed": false
   },
   "outputs": [
    {
     "name": "stdout",
     "output_type": "stream",
     "text": [
      "size of blocks: \tmean = 97.98kb;\tmedian = 27.01kb\n",
      "#SNPs in blocks:\tmean = 309.06;\tmedian = 88.00\n"
     ]
    },
    {
     "data": {
      "image/png": "[encoded data removed]",
      "text/plain": [
       "<matplotlib.figure.Figure at 0x7fadb115cf10>"
      ]
     },
     "metadata": {},
     "output_type": "display_data"
    }
   ],
   "source": [
    "show_block_statistics(bins_df.KB, bins_df.nSNPs)"
   ]
  },
  {
   "cell_type": "markdown",
   "metadata": {
    "collapsed": true
   },
   "source": [
    "### The smallest blocks ( top 5 )"
   ]
  },
  {
   "cell_type": "code",
   "execution_count": 16,
   "metadata": {
    "collapsed": false
   },
   "outputs": [
    {
     "data": {
      "text/html": [
       "<div>\n",
       "<style>\n",
       "    .dataframe thead tr:only-child th {\n",
       "        text-align: right;\n",
       "    }\n",
       "\n",
       "    .dataframe thead th {\n",
       "        text-align: left;\n",
       "    }\n",
       "\n",
       "    .dataframe tbody tr th {\n",
       "        vertical-align: top;\n",
       "    }\n",
       "</style>\n",
       "<table border=\"1\" class=\"dataframe\">\n",
       "  <thead>\n",
       "    <tr style=\"text-align: right;\">\n",
       "      <th></th>\n",
       "      <th>block_id</th>\n",
       "      <th>chrom</th>\n",
       "      <th>chromStart</th>\n",
       "      <th>chromEnd</th>\n",
       "      <th>bimIdStart</th>\n",
       "      <th>bimIdEnd</th>\n",
       "      <th>KB</th>\n",
       "      <th>nSNPs</th>\n",
       "    </tr>\n",
       "  </thead>\n",
       "  <tbody>\n",
       "    <tr>\n",
       "      <th>56</th>\n",
       "      <td>56</td>\n",
       "      <td>chr20</td>\n",
       "      <td>2751793</td>\n",
       "      <td>2751854</td>\n",
       "      <td>10388</td>\n",
       "      <td>10391</td>\n",
       "      <td>0.061</td>\n",
       "      <td>3</td>\n",
       "    </tr>\n",
       "    <tr>\n",
       "      <th>500</th>\n",
       "      <td>500</td>\n",
       "      <td>chr20</td>\n",
       "      <td>54542621</td>\n",
       "      <td>54542871</td>\n",
       "      <td>165996</td>\n",
       "      <td>166000</td>\n",
       "      <td>0.250</td>\n",
       "      <td>4</td>\n",
       "    </tr>\n",
       "    <tr>\n",
       "      <th>457</th>\n",
       "      <td>457</td>\n",
       "      <td>chr20</td>\n",
       "      <td>51691670</td>\n",
       "      <td>51691988</td>\n",
       "      <td>155359</td>\n",
       "      <td>155363</td>\n",
       "      <td>0.318</td>\n",
       "      <td>4</td>\n",
       "    </tr>\n",
       "    <tr>\n",
       "      <th>589</th>\n",
       "      <td>589</td>\n",
       "      <td>chr20</td>\n",
       "      <td>59562076</td>\n",
       "      <td>59562419</td>\n",
       "      <td>184160</td>\n",
       "      <td>184164</td>\n",
       "      <td>0.343</td>\n",
       "      <td>4</td>\n",
       "    </tr>\n",
       "    <tr>\n",
       "      <th>483</th>\n",
       "      <td>483</td>\n",
       "      <td>chr20</td>\n",
       "      <td>52822248</td>\n",
       "      <td>52822641</td>\n",
       "      <td>159539</td>\n",
       "      <td>159542</td>\n",
       "      <td>0.393</td>\n",
       "      <td>3</td>\n",
       "    </tr>\n",
       "  </tbody>\n",
       "</table>\n",
       "</div>"
      ],
      "text/plain": [
       "     block_id  chrom  chromStart  chromEnd  bimIdStart  bimIdEnd     KB  nSNPs\n",
       "56         56  chr20     2751793   2751854       10388     10391  0.061      3\n",
       "500       500  chr20    54542621  54542871      165996    166000  0.250      4\n",
       "457       457  chr20    51691670  51691988      155359    155363  0.318      4\n",
       "589       589  chr20    59562076  59562419      184160    184164  0.343      4\n",
       "483       483  chr20    52822248  52822641      159539    159542  0.393      3"
      ]
     },
     "execution_count": 16,
     "metadata": {},
     "output_type": "execute_result"
    }
   ],
   "source": [
    "bins_df.sort_values(by='KB').head()"
   ]
  },
  {
   "cell_type": "code",
   "execution_count": 17,
   "metadata": {
    "collapsed": false
   },
   "outputs": [
    {
     "data": {
      "text/html": [
       "<div>\n",
       "<style>\n",
       "    .dataframe thead tr:only-child th {\n",
       "        text-align: right;\n",
       "    }\n",
       "\n",
       "    .dataframe thead th {\n",
       "        text-align: left;\n",
       "    }\n",
       "\n",
       "    .dataframe tbody tr th {\n",
       "        vertical-align: top;\n",
       "    }\n",
       "</style>\n",
       "<table border=\"1\" class=\"dataframe\">\n",
       "  <thead>\n",
       "    <tr style=\"text-align: right;\">\n",
       "      <th></th>\n",
       "      <th>block_id</th>\n",
       "      <th>chrom</th>\n",
       "      <th>chromStart</th>\n",
       "      <th>chromEnd</th>\n",
       "      <th>bimIdStart</th>\n",
       "      <th>bimIdEnd</th>\n",
       "      <th>KB</th>\n",
       "      <th>nSNPs</th>\n",
       "    </tr>\n",
       "  </thead>\n",
       "  <tbody>\n",
       "    <tr>\n",
       "      <th>89</th>\n",
       "      <td>89</td>\n",
       "      <td>chr20</td>\n",
       "      <td>4959653</td>\n",
       "      <td>4962437</td>\n",
       "      <td>18715</td>\n",
       "      <td>18718</td>\n",
       "      <td>2.784</td>\n",
       "      <td>3</td>\n",
       "    </tr>\n",
       "    <tr>\n",
       "      <th>21</th>\n",
       "      <td>21</td>\n",
       "      <td>chr20</td>\n",
       "      <td>889903</td>\n",
       "      <td>890348</td>\n",
       "      <td>3480</td>\n",
       "      <td>3483</td>\n",
       "      <td>0.445</td>\n",
       "      <td>3</td>\n",
       "    </tr>\n",
       "    <tr>\n",
       "      <th>235</th>\n",
       "      <td>235</td>\n",
       "      <td>chr20</td>\n",
       "      <td>17484856</td>\n",
       "      <td>17485853</td>\n",
       "      <td>63912</td>\n",
       "      <td>63915</td>\n",
       "      <td>0.997</td>\n",
       "      <td>3</td>\n",
       "    </tr>\n",
       "    <tr>\n",
       "      <th>259</th>\n",
       "      <td>259</td>\n",
       "      <td>chr20</td>\n",
       "      <td>19832791</td>\n",
       "      <td>19833436</td>\n",
       "      <td>72881</td>\n",
       "      <td>72884</td>\n",
       "      <td>0.645</td>\n",
       "      <td>3</td>\n",
       "    </tr>\n",
       "    <tr>\n",
       "      <th>483</th>\n",
       "      <td>483</td>\n",
       "      <td>chr20</td>\n",
       "      <td>52822248</td>\n",
       "      <td>52822641</td>\n",
       "      <td>159539</td>\n",
       "      <td>159542</td>\n",
       "      <td>0.393</td>\n",
       "      <td>3</td>\n",
       "    </tr>\n",
       "  </tbody>\n",
       "</table>\n",
       "</div>"
      ],
      "text/plain": [
       "     block_id  chrom  chromStart  chromEnd  bimIdStart  bimIdEnd     KB  nSNPs\n",
       "89         89  chr20     4959653   4962437       18715     18718  2.784      3\n",
       "21         21  chr20      889903    890348        3480      3483  0.445      3\n",
       "235       235  chr20    17484856  17485853       63912     63915  0.997      3\n",
       "259       259  chr20    19832791  19833436       72881     72884  0.645      3\n",
       "483       483  chr20    52822248  52822641      159539    159542  0.393      3"
      ]
     },
     "execution_count": 17,
     "metadata": {},
     "output_type": "execute_result"
    }
   ],
   "source": [
    "bins_df.sort_values(by='nSNPs').head()"
   ]
  },
  {
   "cell_type": "markdown",
   "metadata": {},
   "source": [
    "### The largest blocks (top 5)"
   ]
  },
  {
   "cell_type": "code",
   "execution_count": 18,
   "metadata": {
    "collapsed": false
   },
   "outputs": [
    {
     "data": {
      "text/html": [
       "<div>\n",
       "<style>\n",
       "    .dataframe thead tr:only-child th {\n",
       "        text-align: right;\n",
       "    }\n",
       "\n",
       "    .dataframe thead th {\n",
       "        text-align: left;\n",
       "    }\n",
       "\n",
       "    .dataframe tbody tr th {\n",
       "        vertical-align: top;\n",
       "    }\n",
       "</style>\n",
       "<table border=\"1\" class=\"dataframe\">\n",
       "  <thead>\n",
       "    <tr style=\"text-align: right;\">\n",
       "      <th></th>\n",
       "      <th>block_id</th>\n",
       "      <th>chrom</th>\n",
       "      <th>chromStart</th>\n",
       "      <th>chromEnd</th>\n",
       "      <th>bimIdStart</th>\n",
       "      <th>bimIdEnd</th>\n",
       "      <th>KB</th>\n",
       "      <th>nSNPs</th>\n",
       "    </tr>\n",
       "  </thead>\n",
       "  <tbody>\n",
       "    <tr>\n",
       "      <th>294</th>\n",
       "      <td>294</td>\n",
       "      <td>chr20</td>\n",
       "      <td>26285873</td>\n",
       "      <td>29479933</td>\n",
       "      <td>92200</td>\n",
       "      <td>92240</td>\n",
       "      <td>3194.060</td>\n",
       "      <td>40</td>\n",
       "    </tr>\n",
       "    <tr>\n",
       "      <th>310</th>\n",
       "      <td>310</td>\n",
       "      <td>chr20</td>\n",
       "      <td>34445163</td>\n",
       "      <td>35449879</td>\n",
       "      <td>102848</td>\n",
       "      <td>104273</td>\n",
       "      <td>1004.716</td>\n",
       "      <td>1425</td>\n",
       "    </tr>\n",
       "    <tr>\n",
       "      <th>293</th>\n",
       "      <td>293</td>\n",
       "      <td>chr20</td>\n",
       "      <td>25285219</td>\n",
       "      <td>26285873</td>\n",
       "      <td>90220</td>\n",
       "      <td>92200</td>\n",
       "      <td>1000.654</td>\n",
       "      <td>1980</td>\n",
       "    </tr>\n",
       "    <tr>\n",
       "      <th>296</th>\n",
       "      <td>296</td>\n",
       "      <td>chr20</td>\n",
       "      <td>29526084</td>\n",
       "      <td>30526402</td>\n",
       "      <td>92343</td>\n",
       "      <td>94529</td>\n",
       "      <td>1000.318</td>\n",
       "      <td>2186</td>\n",
       "    </tr>\n",
       "    <tr>\n",
       "      <th>306</th>\n",
       "      <td>306</td>\n",
       "      <td>chr20</td>\n",
       "      <td>32538390</td>\n",
       "      <td>33538520</td>\n",
       "      <td>98914</td>\n",
       "      <td>100545</td>\n",
       "      <td>1000.130</td>\n",
       "      <td>1631</td>\n",
       "    </tr>\n",
       "  </tbody>\n",
       "</table>\n",
       "</div>"
      ],
      "text/plain": [
       "     block_id  chrom  chromStart  chromEnd  bimIdStart  bimIdEnd        KB  \\\n",
       "294       294  chr20    26285873  29479933       92200     92240  3194.060   \n",
       "310       310  chr20    34445163  35449879      102848    104273  1004.716   \n",
       "293       293  chr20    25285219  26285873       90220     92200  1000.654   \n",
       "296       296  chr20    29526084  30526402       92343     94529  1000.318   \n",
       "306       306  chr20    32538390  33538520       98914    100545  1000.130   \n",
       "\n",
       "     nSNPs  \n",
       "294     40  \n",
       "310   1425  \n",
       "293   1980  \n",
       "296   2186  \n",
       "306   1631  "
      ]
     },
     "execution_count": 18,
     "metadata": {},
     "output_type": "execute_result"
    }
   ],
   "source": [
    "bins_df.sort_values(by='KB', ascending=False).head()"
   ]
  },
  {
   "cell_type": "code",
   "execution_count": 19,
   "metadata": {
    "collapsed": false
   },
   "outputs": [
    {
     "data": {
      "text/html": [
       "<div>\n",
       "<style>\n",
       "    .dataframe thead tr:only-child th {\n",
       "        text-align: right;\n",
       "    }\n",
       "\n",
       "    .dataframe thead th {\n",
       "        text-align: left;\n",
       "    }\n",
       "\n",
       "    .dataframe tbody tr th {\n",
       "        vertical-align: top;\n",
       "    }\n",
       "</style>\n",
       "<table border=\"1\" class=\"dataframe\">\n",
       "  <thead>\n",
       "    <tr style=\"text-align: right;\">\n",
       "      <th></th>\n",
       "      <th>block_id</th>\n",
       "      <th>chrom</th>\n",
       "      <th>chromStart</th>\n",
       "      <th>chromEnd</th>\n",
       "      <th>bimIdStart</th>\n",
       "      <th>bimIdEnd</th>\n",
       "      <th>KB</th>\n",
       "      <th>nSNPs</th>\n",
       "    </tr>\n",
       "  </thead>\n",
       "  <tbody>\n",
       "    <tr>\n",
       "      <th>245</th>\n",
       "      <td>245</td>\n",
       "      <td>chr20</td>\n",
       "      <td>18068618</td>\n",
       "      <td>18845538</td>\n",
       "      <td>66150</td>\n",
       "      <td>69299</td>\n",
       "      <td>776.920</td>\n",
       "      <td>3149</td>\n",
       "    </tr>\n",
       "    <tr>\n",
       "      <th>415</th>\n",
       "      <td>415</td>\n",
       "      <td>chr20</td>\n",
       "      <td>47219067</td>\n",
       "      <td>48079897</td>\n",
       "      <td>140231</td>\n",
       "      <td>143186</td>\n",
       "      <td>860.830</td>\n",
       "      <td>2955</td>\n",
       "    </tr>\n",
       "    <tr>\n",
       "      <th>378</th>\n",
       "      <td>378</td>\n",
       "      <td>chr20</td>\n",
       "      <td>44098541</td>\n",
       "      <td>44759160</td>\n",
       "      <td>129690</td>\n",
       "      <td>132413</td>\n",
       "      <td>660.619</td>\n",
       "      <td>2723</td>\n",
       "    </tr>\n",
       "    <tr>\n",
       "      <th>204</th>\n",
       "      <td>204</td>\n",
       "      <td>chr20</td>\n",
       "      <td>13689238</td>\n",
       "      <td>14546034</td>\n",
       "      <td>49761</td>\n",
       "      <td>52389</td>\n",
       "      <td>856.796</td>\n",
       "      <td>2628</td>\n",
       "    </tr>\n",
       "    <tr>\n",
       "      <th>338</th>\n",
       "      <td>338</td>\n",
       "      <td>chr20</td>\n",
       "      <td>39635188</td>\n",
       "      <td>40577745</td>\n",
       "      <td>116010</td>\n",
       "      <td>118631</td>\n",
       "      <td>942.557</td>\n",
       "      <td>2621</td>\n",
       "    </tr>\n",
       "  </tbody>\n",
       "</table>\n",
       "</div>"
      ],
      "text/plain": [
       "     block_id  chrom  chromStart  chromEnd  bimIdStart  bimIdEnd       KB  \\\n",
       "245       245  chr20    18068618  18845538       66150     69299  776.920   \n",
       "415       415  chr20    47219067  48079897      140231    143186  860.830   \n",
       "378       378  chr20    44098541  44759160      129690    132413  660.619   \n",
       "204       204  chr20    13689238  14546034       49761     52389  856.796   \n",
       "338       338  chr20    39635188  40577745      116010    118631  942.557   \n",
       "\n",
       "     nSNPs  \n",
       "245   3149  \n",
       "415   2955  \n",
       "378   2723  \n",
       "204   2628  \n",
       "338   2621  "
      ]
     },
     "execution_count": 19,
     "metadata": {},
     "output_type": "execute_result"
    }
   ],
   "source": [
    "bins_df.sort_values(by='nSNPs', ascending=False).head()"
   ]
  },
  {
   "cell_type": "code",
   "execution_count": null,
   "metadata": {
    "collapsed": true
   },
   "outputs": [],
   "source": []
  }
 ],
 "metadata": {
  "kernelspec": {
   "display_name": "Python [conda env:nanopore]",
   "language": "python",
   "name": "conda-env-nanopore-py"
  },
  "language_info": {
   "codemirror_mode": {
    "name": "ipython",
    "version": 2
   },
   "file_extension": ".py",
   "mimetype": "text/x-python",
   "name": "python",
   "nbconvert_exporter": "python",
   "pygments_lexer": "ipython2",
   "version": "2.7.13"
  }
 },
 "nbformat": 4,
 "nbformat_minor": 2
}
