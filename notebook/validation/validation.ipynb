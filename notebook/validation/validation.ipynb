{
 "cells": [
  {
   "cell_type": "markdown",
   "metadata": {},
   "source": [
    "# validation \n",
    "## Yosuke Tanigawa (ytanigaw@stanford.edu) 2017/8/20\n",
    "\n",
    "Evaluation on chr20 doesn’t look great\n",
    "\n",
    "\n",
    "\n",
    "## 1] data set\n",
    "- reference panel : UKBB imputed genotype (v1) with 112k keep file\n",
    "- read : nanopore consortium data (chr 20) subset to > 10k mapped fragments (roughly 14x coverage)\n",
    "\n",
    "## 2] results\n",
    "## genotype (alternative allele count) accuracy measure\n",
    "- `~49%` accuracy in genotype (definition follows)\n",
    "  - accuracy := (1 / (number of SNP positions)) * \\sum_i indicator{alt_c(posterior, i) == alt_c(validation, i)}\n",
    "  - where,\n",
    "    - indicator is an indicator function\n",
    "    - alt_c(dataset = d, position = i) is alternative count at position i for dataset d\n",
    "    - posterior is our prediction\n",
    "    - validation is from platium genome dataset\n",
    "    - we are looking at 198,417 positions on chr20\n",
    "    - 97384 / 198417 = 49% accuracy\n",
    "    - breakdown\n",
    "      - 94172/148750 for reference allele homozygous position (in Platinum genome dataset)\n",
    "      - 51/43343 for heterogyzous position (in Platinum genome dataset)\n",
    "      - 3161/6324 for alternative allele homozygous position (in Platinum genome dataset)\n",
    "\n",
    "## 3] what to check\n",
    "\n",
    "### bin size can be too large for phased dataset\n",
    "- number of SNPs in bin ranges from 3 to 1600+\n",
    "- number of unique haplotypes in bin ranges from 5 to 82208\n",
    "- the definition of bin might not be optimal\n",
    "- `/oak/stanford/groups/mrivas/users/ytanigaw/repos/rivas-lab/nanopore/src/inference/prior_count.out`\n",
    "\n",
    "### heterozygous call is super rare in our posterior prob\n",
    "- read specific error rate estimate is not correct (?)\n",
    "- `/oak/stanford/groups/mrivas/users/ytanigaw/repos/rivas-lab/nanopore/src/inference/pgenout.out`\n",
    "\n",
    "### need to evaluate with estimate with different coverage\n",
    "- how much performance can we get from prior prob (?) => useful to think about validity of read specific error rate\n",
    "\n",
    "\n",
    "## 4] method summary\n",
    "\n",
    "### data prep\n",
    "  - UKBB imputed data (v1) subseted to 112k individuals and biallelic SNPs\n",
    "  - phased with Eagle 2\n",
    "\n",
    "###  partition genome into bins based on LD structure (`plink1.9 --blocks`)\n",
    "  - https://github.com/rivas-lab/nanopore/blob/master/notebook/data_prep/population_ref/define_bins/define_bins.ipynb\n",
    "  \n",
    "### prior: just a frequency count in population\n",
    "  - https://github.com/rivas-lab/nanopore/blob/master/src/inference/prior_count.py\n",
    "  \n",
    "### log-likelihood: binomial model with mismatch rate estimate from non-SNP sites\n",
    "  - https://github.com/rivas-lab/nanopore/blob/master/src/inference/log_likelihood.py\n",
    "\n",
    "### log-posterior: just compute from prior and likelihood\n",
    "  - https://github.com/rivas-lab/nanopore/blob/master/src/inference/log_posterior.py\n",
    "\n",
    "### pgen output: call homozygous (for a block) iff posterior(haplotype) >= 0.9\n",
    "  - https://github.com/rivas-lab/nanopore/blob/master/src/inference/log_posterior.py"
   ]
  },
  {
   "cell_type": "code",
   "execution_count": 1,
   "metadata": {
    "collapsed": true
   },
   "outputs": [],
   "source": [
    "import numpy as np\n",
    "import pandas as pd\n",
    "from scipy.sparse import dok_matrix\n",
    "\n",
    "import pgenlib as pg"
   ]
  },
  {
   "cell_type": "code",
   "execution_count": 2,
   "metadata": {
    "collapsed": true
   },
   "outputs": [],
   "source": [
    "population_ref_f='../../public_data/intermediate/population_ref/chr20-alleles'\n",
    "out_pgen_f='../../private_data/output/chr20.sorted-chr20-alleles.pgen'\n",
    "validation_f='../../public_data/intermediate/validation/NA12878-snps'"
   ]
  },
  {
   "cell_type": "code",
   "execution_count": 3,
   "metadata": {
    "collapsed": true
   },
   "outputs": [],
   "source": [
    "def read_alleles_range_wrapper(pgen_f):\n",
    "    with pg.PgenReader(pgen_f) as pgr:\n",
    "        buf = np.zeros((pgr.get_variant_ct(), pgr.get_raw_sample_ct() * 2), dtype=np.int32)\n",
    "        pgr.read_alleles_range(0, pgr.get_variant_ct(), buf)\n",
    "    return buf"
   ]
  },
  {
   "cell_type": "code",
   "execution_count": 4,
   "metadata": {
    "collapsed": true
   },
   "outputs": [],
   "source": [
    "def read_bim(bim_f):\n",
    "    return pd.read_csv(\n",
    "        bim_f, sep='\\t', \n",
    "        names=['chr', 'rsid', 'genetic_dist', 'pos', 'a1', 'a2']\n",
    "    )    "
   ]
  },
  {
   "cell_type": "code",
   "execution_count": 5,
   "metadata": {
    "collapsed": true
   },
   "outputs": [],
   "source": [
    "out_mat = read_alleles_range_wrapper(out_pgen_f)"
   ]
  },
  {
   "cell_type": "code",
   "execution_count": 6,
   "metadata": {
    "collapsed": true
   },
   "outputs": [],
   "source": [
    "pop_bim_df = read_bim('{}.bim'.format(population_ref_f))\n",
    "val_bim_df = read_bim('{}.bim'.format(validation_f))"
   ]
  },
  {
   "cell_type": "code",
   "execution_count": 7,
   "metadata": {
    "collapsed": true
   },
   "outputs": [],
   "source": [
    "pop_bim_a1 = dict(zip(pop_bim_df.pos, pop_bim_df.a1))\n",
    "pop_bim_a2 = dict(zip(pop_bim_df.pos, pop_bim_df.a2))\n",
    "pop_bim_idx = dict(zip(pop_bim_df.pos, pop_bim_df.index))"
   ]
  },
  {
   "cell_type": "code",
   "execution_count": 8,
   "metadata": {
    "collapsed": true
   },
   "outputs": [],
   "source": [
    "val_bim_a1 = dict(zip(val_bim_df.pos, val_bim_df.a1))\n",
    "val_bim_a2 = dict(zip(val_bim_df.pos, val_bim_df.a2))"
   ]
  },
  {
   "cell_type": "code",
   "execution_count": 9,
   "metadata": {
    "collapsed": true
   },
   "outputs": [],
   "source": [
    "idx = set(pop_bim_df.pos) & set(val_bim_df.pos)"
   ]
  },
  {
   "cell_type": "code",
   "execution_count": 10,
   "metadata": {
    "collapsed": false
   },
   "outputs": [],
   "source": [
    "no_flip = set([x for x in idx if val_bim_a1[x] == pop_bim_a1[x] and val_bim_a2[x] == pop_bim_a2[x]])\n",
    "flip    = set([x for x in idx if val_bim_a2[x] == pop_bim_a1[x] and val_bim_a1[x] == pop_bim_a2[x]])"
   ]
  },
  {
   "cell_type": "code",
   "execution_count": 11,
   "metadata": {
    "collapsed": false
   },
   "outputs": [
    {
     "data": {
      "text/plain": [
       "[1941171, 7601825, 12739300, 61948796]"
      ]
     },
     "execution_count": 11,
     "metadata": {},
     "output_type": "execute_result"
    }
   ],
   "source": [
    "sorted(idx - flip - no_flip)"
   ]
  },
  {
   "cell_type": "code",
   "execution_count": 12,
   "metadata": {
    "collapsed": true
   },
   "outputs": [],
   "source": [
    "val_pgen_mat = read_alleles_range_wrapper('{}.pgen'.format(validation_f))"
   ]
  },
  {
   "cell_type": "code",
   "execution_count": 13,
   "metadata": {
    "collapsed": false
   },
   "outputs": [],
   "source": [
    "val_sparse = dok_matrix(out_mat.shape, dtype=np.int32)\n",
    "for val_idx in range(val_pgen_mat.shape[0]):\n",
    "    if(val_bim_df.pos[val_idx] in no_flip):\n",
    "        val_sparse[pop_bim_idx[val_bim_df.pos[val_idx]], :] = val_pgen_mat[val_idx,:]\n",
    "    elif(val_bim_df.pos[val_idx] in flip):\n",
    "        val_sparse[pop_bim_idx[val_bim_df.pos[val_idx]], :] = 1 - val_pgen_mat[val_idx,:]"
   ]
  },
  {
   "cell_type": "code",
   "execution_count": 14,
   "metadata": {
    "collapsed": true
   },
   "outputs": [],
   "source": [
    "val_mat = np.array(val_sparse.todense(), dtype = np.int32)"
   ]
  },
  {
   "cell_type": "code",
   "execution_count": 15,
   "metadata": {
    "collapsed": false
   },
   "outputs": [
    {
     "data": {
      "text/plain": [
       "((198417, 2), (198417, 2))"
      ]
     },
     "execution_count": 15,
     "metadata": {},
     "output_type": "execute_result"
    }
   ],
   "source": [
    "val_mat.shape, out_mat.shape"
   ]
  },
  {
   "cell_type": "code",
   "execution_count": 16,
   "metadata": {
    "collapsed": false
   },
   "outputs": [
    {
     "data": {
      "text/plain": [
       "((198417,), (198417,))"
      ]
     },
     "execution_count": 16,
     "metadata": {},
     "output_type": "execute_result"
    }
   ],
   "source": [
    "val_mat.sum(axis=1).shape, out_mat.sum(axis=1).shape"
   ]
  },
  {
   "cell_type": "code",
   "execution_count": 17,
   "metadata": {
    "collapsed": false
   },
   "outputs": [
    {
     "data": {
      "text/plain": [
       "array([1, 0, 1, 0, 0, 1, 0, 1, 0, 0])"
      ]
     },
     "execution_count": 17,
     "metadata": {},
     "output_type": "execute_result"
    }
   ],
   "source": [
    "val_mat.sum(axis=1)[:10]"
   ]
  },
  {
   "cell_type": "code",
   "execution_count": 18,
   "metadata": {
    "collapsed": false
   },
   "outputs": [
    {
     "data": {
      "text/plain": [
       "array([2, 2, 2, 0, 0, 0, 2, 2, 2, 0])"
      ]
     },
     "execution_count": 18,
     "metadata": {},
     "output_type": "execute_result"
    }
   ],
   "source": [
    "out_mat.sum(axis=1)[:10]"
   ]
  },
  {
   "cell_type": "code",
   "execution_count": null,
   "metadata": {
    "collapsed": true
   },
   "outputs": [],
   "source": []
  },
  {
   "cell_type": "code",
   "execution_count": 26,
   "metadata": {
    "collapsed": false
   },
   "outputs": [
    {
     "data": {
      "text/plain": [
       "(97384, 198417)"
      ]
     },
     "execution_count": 26,
     "metadata": {},
     "output_type": "execute_result"
    }
   ],
   "source": [
    "np.sum(val_mat.sum(axis=1) == out_mat.sum(axis=1)), len(val_mat)"
   ]
  },
  {
   "cell_type": "code",
   "execution_count": 23,
   "metadata": {
    "collapsed": false
   },
   "outputs": [
    {
     "data": {
      "text/plain": [
       "49.08047193536844"
      ]
     },
     "execution_count": 23,
     "metadata": {},
     "output_type": "execute_result"
    }
   ],
   "source": [
    "100.0 * np.sum(val_mat.sum(axis=1) == out_mat.sum(axis=1)) / len(val_mat)"
   ]
  },
  {
   "cell_type": "code",
   "execution_count": 21,
   "metadata": {
    "collapsed": false
   },
   "outputs": [
    {
     "data": {
      "text/plain": [
       "227"
      ]
     },
     "execution_count": 21,
     "metadata": {},
     "output_type": "execute_result"
    }
   ],
   "source": [
    "np.sum(out_mat.sum(axis=1) == 1)"
   ]
  },
  {
   "cell_type": "code",
   "execution_count": 25,
   "metadata": {
    "collapsed": false
   },
   "outputs": [],
   "source": [
    "val_ref = (val_mat.sum(axis=1) == 0)\n",
    "val_het = (val_mat.sum(axis=1) == 1)\n",
    "val_alt = (val_mat.sum(axis=1) == 2)"
   ]
  },
  {
   "cell_type": "code",
   "execution_count": null,
   "metadata": {
    "collapsed": true
   },
   "outputs": [],
   "source": []
  },
  {
   "cell_type": "code",
   "execution_count": 27,
   "metadata": {
    "collapsed": false
   },
   "outputs": [
    {
     "data": {
      "text/plain": [
       "(94172, 148750)"
      ]
     },
     "execution_count": 27,
     "metadata": {},
     "output_type": "execute_result"
    }
   ],
   "source": [
    "np.sum(val_mat.sum(axis=1)[val_ref] == out_mat.sum(axis=1)[val_ref]), len(val_mat[val_ref])"
   ]
  },
  {
   "cell_type": "code",
   "execution_count": 28,
   "metadata": {
    "collapsed": false
   },
   "outputs": [
    {
     "data": {
      "text/plain": [
       "(51, 43343)"
      ]
     },
     "execution_count": 28,
     "metadata": {},
     "output_type": "execute_result"
    }
   ],
   "source": [
    "np.sum(val_mat.sum(axis=1)[val_het] == out_mat.sum(axis=1)[val_het]), len(val_mat[val_het])"
   ]
  },
  {
   "cell_type": "code",
   "execution_count": 31,
   "metadata": {
    "collapsed": false
   },
   "outputs": [
    {
     "data": {
      "text/plain": [
       "(3161, 6324)"
      ]
     },
     "execution_count": 31,
     "metadata": {},
     "output_type": "execute_result"
    }
   ],
   "source": [
    "np.sum(val_mat.sum(axis=1)[val_alt] == out_mat.sum(axis=1)[val_alt]), len(val_mat[val_alt])"
   ]
  },
  {
   "cell_type": "code",
   "execution_count": null,
   "metadata": {
    "collapsed": true
   },
   "outputs": [],
   "source": []
  }
 ],
 "metadata": {
  "kernelspec": {
   "display_name": "Python [conda env:nanopore]",
   "language": "python",
   "name": "conda-env-nanopore-py"
  },
  "language_info": {
   "codemirror_mode": {
    "name": "ipython",
    "version": 2
   },
   "file_extension": ".py",
   "mimetype": "text/x-python",
   "name": "python",
   "nbconvert_exporter": "python",
   "pygments_lexer": "ipython2",
   "version": "2.7.13"
  }
 },
 "nbformat": 4,
 "nbformat_minor": 2
}
