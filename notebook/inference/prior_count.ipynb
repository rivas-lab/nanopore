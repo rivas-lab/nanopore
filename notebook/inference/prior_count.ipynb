{
 "cells": [
  {
   "cell_type": "code",
   "execution_count": 12,
   "metadata": {
    "collapsed": true
   },
   "outputs": [],
   "source": [
    "%matplotlib inline\n",
    "\n",
    "from __future__ import print_function\n",
    "\n",
    "import sys\n",
    "import logging\n",
    "from logging.config import dictConfig\n",
    "import pickle\n",
    "import json\n",
    "import numpy as np\n",
    "import pandas as pd\n",
    "import matplotlib\n",
    "import matplotlib.pyplot as plt\n",
    "import matplotlib.gridspec as gridspec\n",
    "import itertools as it\n",
    "import collections as cl\n",
    "import multiprocessing\n",
    "\n",
    "from numba import jit\n",
    "\n",
    "import pgenlib as pg"
   ]
  },
  {
   "cell_type": "code",
   "execution_count": 13,
   "metadata": {
    "collapsed": true
   },
   "outputs": [],
   "source": [
    "logging_config = dict(\n",
    "    version = 1,\n",
    "    formatters = {\n",
    "        'f': {'format':\n",
    "              '%(asctime)s %(name)-12s %(levelname)-8s %(message)s'}\n",
    "        },\n",
    "    handlers = {\n",
    "        'h': {'class': 'logging.StreamHandler',\n",
    "              'formatter': 'f',\n",
    "              'level': logging.DEBUG}\n",
    "        },\n",
    "    root = {\n",
    "        'handlers': ['h'],\n",
    "        'level': logging.DEBUG,\n",
    "        },\n",
    ")\n",
    "dictConfig(logging_config)"
   ]
  },
  {
   "cell_type": "code",
   "execution_count": 14,
   "metadata": {
    "collapsed": true
   },
   "outputs": [],
   "source": [
    "logger_nb = logging.getLogger('notebook')\n",
    "logger_nb.info('hello')"
   ]
  },
  {
   "cell_type": "code",
   "execution_count": 15,
   "metadata": {
    "collapsed": true
   },
   "outputs": [],
   "source": [
    "data_dir='/oak/stanford/groups/mrivas/users/ytanigaw/nanopore-data/'\n",
    "geno_bed_log='chr20impv1-keep-maf0005-snv-biallelic-geno01-hwe1e-10.log'\n",
    "block_log='chr20impv1-keep-maf0005-snv-biallelic-geno01-hwe1e-10-block-stronglow050-stronghigh083-infofrac10.log'\n",
    "pgen_log='chr20impv1-keep-maf0005-snv-biallelic-geno01-hwe1e-10-pg.log'\n",
    "pgen_f = '{}{}.pgen'.format(data_dir, pgen_log[:-4])\n",
    "block_bed_f = '{}{}.bed'.format(data_dir, block_log[:-4])"
   ]
  },
  {
   "cell_type": "code",
   "execution_count": 17,
   "metadata": {
    "collapsed": false
   },
   "outputs": [
    {
     "name": "stdout",
     "output_type": "stream",
     "text": [
      "False\n"
     ]
    }
   ],
   "source": [
    "with pg.PgenReader(pgen_f) as pg_test:\n",
    "    print(pg_test.hardcall_phase_present())"
   ]
  },
  {
   "cell_type": "code",
   "execution_count": 5,
   "metadata": {
    "collapsed": false
   },
   "outputs": [
    {
     "data": {
      "text/html": [
       "<div>\n",
       "<style>\n",
       "    .dataframe thead tr:only-child th {\n",
       "        text-align: right;\n",
       "    }\n",
       "\n",
       "    .dataframe thead th {\n",
       "        text-align: left;\n",
       "    }\n",
       "\n",
       "    .dataframe tbody tr th {\n",
       "        vertical-align: top;\n",
       "    }\n",
       "</style>\n",
       "<table border=\"1\" class=\"dataframe\">\n",
       "  <thead>\n",
       "    <tr style=\"text-align: right;\">\n",
       "      <th></th>\n",
       "      <th>chrom</th>\n",
       "      <th>chromStart</th>\n",
       "      <th>chromEnd</th>\n",
       "      <th>name</th>\n",
       "      <th>bim_interval</th>\n",
       "    </tr>\n",
       "  </thead>\n",
       "  <tbody>\n",
       "    <tr>\n",
       "      <th>0</th>\n",
       "      <td>chr20</td>\n",
       "      <td>61097</td>\n",
       "      <td>94951</td>\n",
       "      <td>0:78</td>\n",
       "      <td>[0, 78]</td>\n",
       "    </tr>\n",
       "    <tr>\n",
       "      <th>1</th>\n",
       "      <td>chr20</td>\n",
       "      <td>94951</td>\n",
       "      <td>266791</td>\n",
       "      <td>78:915</td>\n",
       "      <td>[78, 915]</td>\n",
       "    </tr>\n",
       "    <tr>\n",
       "      <th>2</th>\n",
       "      <td>chr20</td>\n",
       "      <td>266791</td>\n",
       "      <td>288775</td>\n",
       "      <td>915:991</td>\n",
       "      <td>[915, 991]</td>\n",
       "    </tr>\n",
       "    <tr>\n",
       "      <th>3</th>\n",
       "      <td>chr20</td>\n",
       "      <td>288775</td>\n",
       "      <td>344630</td>\n",
       "      <td>991:1218</td>\n",
       "      <td>[991, 1218]</td>\n",
       "    </tr>\n",
       "    <tr>\n",
       "      <th>4</th>\n",
       "      <td>chr20</td>\n",
       "      <td>344630</td>\n",
       "      <td>346675</td>\n",
       "      <td>1218:1224</td>\n",
       "      <td>[1218, 1224]</td>\n",
       "    </tr>\n",
       "  </tbody>\n",
       "</table>\n",
       "</div>"
      ],
      "text/plain": [
       "   chrom  chromStart  chromEnd       name  bim_interval\n",
       "0  chr20       61097     94951       0:78       [0, 78]\n",
       "1  chr20       94951    266791     78:915     [78, 915]\n",
       "2  chr20      266791    288775    915:991    [915, 991]\n",
       "3  chr20      288775    344630   991:1218   [991, 1218]\n",
       "4  chr20      344630    346675  1218:1224  [1218, 1224]"
      ]
     },
     "execution_count": 5,
     "metadata": {},
     "output_type": "execute_result"
    }
   ],
   "source": [
    "block_bed = pd.read_csv(block_bed_f, sep='\\t', names=['chrom', 'chromStart', 'chromEnd', 'name'])\n",
    "block_bed['bim_interval'] = block_bed.name.map(lambda x: [int(pos) for pos in x.split(':')])\n",
    "\n",
    "block_bed.head()"
   ]
  },
  {
   "cell_type": "code",
   "execution_count": 10,
   "metadata": {
    "collapsed": true
   },
   "outputs": [],
   "source": [
    "def read_alleles_block(pgen_f, block_df, block_id):\n",
    "    \"\"\"wrapper function of pgen.PgenReader.read_alleles_range for a LD block\"\"\"\n",
    "    bim_interval = block_df.bim_interval[block_id]\n",
    "    with pg.PgenReader(pgen_f) as pgr:\n",
    "        buf_ndary = np.zeros(\n",
    "            (bim_interval[1] - bim_interval[0], pgr.get_raw_sample_ct() * 2), \n",
    "            dtype=np.int32\n",
    "        )\n",
    "        pgr.read_alleles_range(bim_interval[0], bim_interval[1], buf_ndary)\n",
    "    return buf_ndary\n",
    "\n",
    "def filter_missing_alleles(geno):\n",
    "    return geno[:, np.sum(geno == -9, axis = 0) == 0]\n",
    "\n",
    "def count_alleles_freq(geno):\n",
    "    tuples = [tuple(1 - geno[:, hap])\n",
    "              for hap in range(geno.shape[1])]\n",
    "    return cl.Counter(tuples)\n",
    "\n",
    "def prior_count(pgen_f, block_df, block_id):\n",
    "    logger_cnt = logging.getLogger('prior_count')    \n",
    "    geno = filter_missing_alleles(\n",
    "        read_alleles_block(pgen_f, block_df, block_id)\n",
    "    )        \n",
    "    cnt = count_alleles_freq(geno)\n",
    "    logger_cnt.info(\n",
    "        'block {:3d}; {} bytes; {}; {}'.format(\n",
    "            block_id, sys.getsizeof(cnt), geno.shape, len(cnt)\n",
    "        )\n",
    "    )    \n",
    "    return cnt    "
   ]
  },
  {
   "cell_type": "code",
   "execution_count": 11,
   "metadata": {
    "collapsed": false
   },
   "outputs": [
    {
     "name": "stderr",
     "output_type": "stream",
     "text": [
      "2017-06-26 17:08:00,682 prior_count  INFO     block   0; 196904 bytes; (78, 119900); 4833\n"
     ]
    }
   ],
   "source": [
    "cnt0= prior_count(pgen_f, block_bed, 0)"
   ]
  },
  {
   "cell_type": "code",
   "execution_count": 8,
   "metadata": {
    "collapsed": true
   },
   "outputs": [],
   "source": [
    "cnt0_keys = np.array(cnt0.keys(), dtype=np.int8)"
   ]
  },
  {
   "cell_type": "code",
   "execution_count": 9,
   "metadata": {
    "collapsed": true
   },
   "outputs": [],
   "source": [
    "cnt0_vals = np.array(cnt0.values())"
   ]
  },
  {
   "cell_type": "code",
   "execution_count": 10,
   "metadata": {
    "collapsed": false
   },
   "outputs": [
    {
     "data": {
      "text/plain": [
       "(4885, 79)"
      ]
     },
     "execution_count": 10,
     "metadata": {},
     "output_type": "execute_result"
    }
   ],
   "source": [
    "cnt0_keys.shape"
   ]
  },
  {
   "cell_type": "code",
   "execution_count": 11,
   "metadata": {
    "collapsed": false
   },
   "outputs": [
    {
     "data": {
      "text/plain": [
       "(4885,)"
      ]
     },
     "execution_count": 11,
     "metadata": {},
     "output_type": "execute_result"
    }
   ],
   "source": [
    "cnt0_vals.shape"
   ]
  },
  {
   "cell_type": "code",
   "execution_count": 12,
   "metadata": {
    "collapsed": true
   },
   "outputs": [],
   "source": [
    "np.savez(\n",
    "    '/oak/stanford/groups/mrivas/users/ytanigaw/nanopore-data/tmp/cnt0.npz', \n",
    "    keys = cnt0_keys, vals = cnt0_vals\n",
    ")"
   ]
  },
  {
   "cell_type": "code",
   "execution_count": 13,
   "metadata": {
    "collapsed": false
   },
   "outputs": [
    {
     "data": {
      "text/plain": [
       "642"
      ]
     },
     "execution_count": 13,
     "metadata": {},
     "output_type": "execute_result"
    }
   ],
   "source": [
    "len(block_bed)"
   ]
  },
  {
   "cell_type": "code",
   "execution_count": null,
   "metadata": {
    "collapsed": true
   },
   "outputs": [],
   "source": []
  },
  {
   "cell_type": "markdown",
   "metadata": {},
   "source": [
    "## the following sections are draft"
   ]
  },
  {
   "cell_type": "code",
   "execution_count": 14,
   "metadata": {
    "collapsed": false
   },
   "outputs": [
    {
     "name": "stderr",
     "output_type": "stream",
     "text": [
      "2017-06-26 15:38:42,633 prior_count  INFO     block 626 12584 bytes\n"
     ]
    }
   ],
   "source": [
    "cnt626= prior_count(pgen_f, block_bed, 626)"
   ]
  },
  {
   "cell_type": "code",
   "execution_count": 15,
   "metadata": {
    "collapsed": false
   },
   "outputs": [
    {
     "name": "stderr",
     "output_type": "stream",
     "text": [
      "2017-06-26 15:38:49,449 prior_count  INFO     block 627 3146024 bytes\n"
     ]
    }
   ],
   "source": [
    "cnt627= prior_count(pgen_f, block_bed, 627)"
   ]
  },
  {
   "cell_type": "code",
   "execution_count": 16,
   "metadata": {
    "collapsed": false
   },
   "outputs": [
    {
     "name": "stderr",
     "output_type": "stream",
     "text": [
      "2017-06-26 15:39:00,535 prior_count  INFO     block 641 786728 bytes\n"
     ]
    }
   ],
   "source": [
    "cnt627= prior_count(pgen_f, block_bed, 641)"
   ]
  },
  {
   "cell_type": "code",
   "execution_count": null,
   "metadata": {
    "collapsed": true
   },
   "outputs": [],
   "source": []
  },
  {
   "cell_type": "code",
   "execution_count": 21,
   "metadata": {
    "collapsed": false
   },
   "outputs": [
    {
     "data": {
      "text/plain": [
       "117866"
      ]
     },
     "execution_count": 21,
     "metadata": {},
     "output_type": "execute_result"
    }
   ],
   "source": [
    "np.sum(cnt0_vals)"
   ]
  },
  {
   "cell_type": "code",
   "execution_count": 23,
   "metadata": {
    "collapsed": false
   },
   "outputs": [
    {
     "data": {
      "text/plain": [
       "1"
      ]
     },
     "execution_count": 23,
     "metadata": {},
     "output_type": "execute_result"
    }
   ],
   "source": [
    "(1+1)/2"
   ]
  },
  {
   "cell_type": "code",
   "execution_count": 34,
   "metadata": {
    "collapsed": true
   },
   "outputs": [],
   "source": [
    "pgw = pg.PgenWriter(\n",
    "    '/oak/stanford/groups/mrivas/users/ytanigaw/nanopore-data/tmp/cnt0-pg.pgen',\n",
    "    int((len(cnt0) + 1)/2), cnt0_keys.shape[1], nonref_flags=True\n",
    ")"
   ]
  },
  {
   "cell_type": "code",
   "execution_count": null,
   "metadata": {
    "collapsed": true
   },
   "outputs": [],
   "source": [
    "for i in range(cnt0_keys.shape[1]):\n",
    "    pgw.append_alleles(cnt0_keys[:, i], all_phased = True)"
   ]
  },
  {
   "cell_type": "code",
   "execution_count": 33,
   "metadata": {
    "collapsed": false
   },
   "outputs": [
    {
     "ename": "RuntimeError",
     "evalue": "PgenWriter.close() called when number of written variants (1) unequal to initially declared value (86).",
     "output_type": "error",
     "traceback": [
      "\u001b[0;31m---------------------------------------------------------------------------\u001b[0m",
      "\u001b[0;31mRuntimeError\u001b[0m                              Traceback (most recent call last)",
      "\u001b[0;32m<ipython-input-33-2ef5a73b87fc>\u001b[0m in \u001b[0;36m<module>\u001b[0;34m()\u001b[0m\n\u001b[0;32m----> 1\u001b[0;31m \u001b[0mpgw\u001b[0m\u001b[0;34m.\u001b[0m\u001b[0mclose\u001b[0m\u001b[0;34m(\u001b[0m\u001b[0;34m)\u001b[0m\u001b[0;34m\u001b[0m\u001b[0m\n\u001b[0m",
      "\u001b[0;32mpgenlib.pyx\u001b[0m in \u001b[0;36mpgenlib.PgenWriter.close (pgenlib.cpp:21823)\u001b[0;34m()\u001b[0m\n",
      "\u001b[0;32mpgenlib.pyx\u001b[0m in \u001b[0;36mpgenlib.PgenWriter.close (pgenlib.cpp:21696)\u001b[0;34m()\u001b[0m\n",
      "\u001b[0;31mRuntimeError\u001b[0m: PgenWriter.close() called when number of written variants (1) unequal to initially declared value (86)."
     ]
    }
   ],
   "source": [
    "pgw.close()"
   ]
  },
  {
   "cell_type": "code",
   "execution_count": 27,
   "metadata": {
    "collapsed": false
   },
   "outputs": [
    {
     "name": "stdout",
     "output_type": "stream",
     "text": [
      "117866 individuals; 5144 unique haplotypes. Top 10 common haplotypes are:\n",
      "[ '11111111111111111111111111111111111111111111111111111111111111111111111111111111111111'\n",
      " '11111111111111111111110111111101110111111111111011111111111110111111111111111111111111'\n",
      " '11111111111111111111111111111011111111111111111101111111111111111111111111111111111111'\n",
      " '11111111111111111111111111111111111111111111111011111111111110111111111111111111111111'\n",
      " '11111111111111111111110111111101111111111111111111111111111111111111111111111111111111'\n",
      " '11111111111111111111111111111011111111111111111111111111111111111111111111111111111111'\n",
      " '11111111111111011111111111111111111111111111111111111111111111111111111111111111111111'\n",
      " '11111111111111111111111111111101111111111111111111111111111111111111111111111111111111'\n",
      " '11111111111111111111111111111101111111111111111011111111111110111111111111111111111111'\n",
      " '11111111111111111111011111111011111111111111111111111111111111111111111111111111111111']\n",
      "[17919, 3388, 3105, 3013, 2747, 2739, 2236, 1837, 1726, 1527]\n"
     ]
    },
    {
     "data": {
      "image/png": "[encoded data removed]",
      "text/plain": [
       "<matplotlib.figure.Figure at 0x7f7c64f7a910>"
      ]
     },
     "metadata": {},
     "output_type": "display_data"
    }
   ],
   "source": [
    "debug_dump_count(c_0)"
   ]
  },
  {
   "cell_type": "code",
   "execution_count": 23,
   "metadata": {
    "collapsed": false
   },
   "outputs": [
    {
     "data": {
      "text/plain": [
       "((86, 224676), (86, 117866))"
      ]
     },
     "execution_count": 23,
     "metadata": {},
     "output_type": "execute_result"
    }
   ],
   "source": [
    "geno_0.shape, geno_filtered_0.shape"
   ]
  },
  {
   "cell_type": "code",
   "execution_count": 9,
   "metadata": {
    "collapsed": true
   },
   "outputs": [],
   "source": [
    "geno = geno_0"
   ]
  },
  {
   "cell_type": "code",
   "execution_count": 10,
   "metadata": {
    "collapsed": true
   },
   "outputs": [],
   "source": [
    "geno_isMissing = geno == -9"
   ]
  },
  {
   "cell_type": "code",
   "execution_count": 11,
   "metadata": {
    "collapsed": false
   },
   "outputs": [
    {
     "data": {
      "text/plain": [
       "117866"
      ]
     },
     "execution_count": 11,
     "metadata": {},
     "output_type": "execute_result"
    }
   ],
   "source": [
    "np.sum(np.sum(geno_isMissing, axis = 0) == 0)"
   ]
  },
  {
   "cell_type": "code",
   "execution_count": 13,
   "metadata": {
    "collapsed": false
   },
   "outputs": [
    {
     "data": {
      "text/plain": [
       "(86, 224676)"
      ]
     },
     "execution_count": 13,
     "metadata": {},
     "output_type": "execute_result"
    }
   ],
   "source": [
    "geno.shape"
   ]
  },
  {
   "cell_type": "code",
   "execution_count": 14,
   "metadata": {
    "collapsed": false
   },
   "outputs": [
    {
     "data": {
      "text/plain": [
       "224676"
      ]
     },
     "execution_count": 14,
     "metadata": {},
     "output_type": "execute_result"
    }
   ],
   "source": [
    "len(np.sum(geno_isMissing, axis = 0) == 0)"
   ]
  },
  {
   "cell_type": "code",
   "execution_count": 17,
   "metadata": {
    "collapsed": true
   },
   "outputs": [],
   "source": [
    "geno_filtered = geno[:, np.sum(geno == -9, axis = 0) == 0]"
   ]
  },
  {
   "cell_type": "code",
   "execution_count": 18,
   "metadata": {
    "collapsed": false
   },
   "outputs": [
    {
     "data": {
      "text/plain": [
       "(86, 117866)"
      ]
     },
     "execution_count": 18,
     "metadata": {},
     "output_type": "execute_result"
    }
   ],
   "source": [
    "geno_filtered.shape"
   ]
  },
  {
   "cell_type": "code",
   "execution_count": null,
   "metadata": {
    "collapsed": true
   },
   "outputs": [],
   "source": []
  },
  {
   "cell_type": "code",
   "execution_count": null,
   "metadata": {
    "collapsed": true
   },
   "outputs": [],
   "source": []
  },
  {
   "cell_type": "code",
   "execution_count": 14,
   "metadata": {
    "collapsed": true
   },
   "outputs": [],
   "source": [
    "def read_haplotype_freq(pgen_f, block_df, block_id):\n",
    "    \"\"\"read haplotype frequency of a given block from a pgen file\"\"\"\n",
    "    bim_interval = block_df.bim_interval[block_id]\n",
    "    with pg.PgenReader(pgen_f) as pgr:\n",
    "        buf_ndary = np.zeros(\n",
    "            (bim_interval[1] - bim_interval[0], pgr.get_raw_sample_ct() * 2), \n",
    "            dtype=np.int32\n",
    "        )\n",
    "        pgr.read_alleles_range(bim_interval[0], bim_interval[1], buf_ndary)\n",
    "    #buf_ndary[buf_ndary == -9] = 0\n",
    "    buf_tpls = [tuple(1 - buf_ndary[:, hap]) for hap in range(buf_ndary.shape[1])]\n",
    "    return cl.Counter(buf_tpls), buf_ndary"
   ]
  },
  {
   "cell_type": "code",
   "execution_count": 26,
   "metadata": {
    "collapsed": true
   },
   "outputs": [],
   "source": [
    "def debug_dump_count(c):\n",
    "    print('{} individuals; {} unique haplotypes. Top 10 common haplotypes are:'.format(sum(c.values()), len(c.values())))\n",
    "    print(np.array([''.join([str(x) for x in c.most_common()[i][0]]) for i in range(10)]))    \n",
    "    print([c.most_common()[i][1] for i in range(10)])\n",
    "#     plt.hist(np.array(c.values())[np.array(c.values()) <= 20], bins=range(21))\n",
    "    freq=np.array(c.values())\n",
    "    fig = plt.figure(figsize=(4, 3))\n",
    "    gs = gridspec.GridSpec(1, 1)\n",
    "    axs = [fig.add_subplot(ss) for ss in gs]\n",
    "    axs[0].hist(freq[freq <= 20], bins=range(21))\n",
    "    axs[0].set_xlabel('freqency of haplotype')\n",
    "    axs[0].set_ylabel('freq. of freq.')\n",
    "    axs[0].set_title('frequency distribution of haplotype')\n",
    "#     fig.suptitle('')\n",
    "    gs.tight_layout(fig, rect=[0, 0, 1, 1])\n",
    "#     fig.savefig('./fig.png')"
   ]
  },
  {
   "cell_type": "code",
   "execution_count": 15,
   "metadata": {
    "collapsed": true
   },
   "outputs": [],
   "source": [
    "c0, c0_nd = read_haplotype_freq(pgen_f, block_bed, 0)"
   ]
  },
  {
   "cell_type": "code",
   "execution_count": 17,
   "metadata": {
    "collapsed": true
   },
   "outputs": [],
   "source": [
    "c0_nd_mis = [c0_nd == -9]"
   ]
  },
  {
   "cell_type": "code",
   "execution_count": null,
   "metadata": {
    "collapsed": true
   },
   "outputs": [],
   "source": [
    "c0_nd_mis = "
   ]
  },
  {
   "cell_type": "code",
   "execution_count": null,
   "metadata": {
    "collapsed": true
   },
   "outputs": [],
   "source": []
  },
  {
   "cell_type": "code",
   "execution_count": null,
   "metadata": {
    "collapsed": true
   },
   "outputs": [],
   "source": []
  },
  {
   "cell_type": "code",
   "execution_count": 9,
   "metadata": {
    "collapsed": false
   },
   "outputs": [
    {
     "name": "stdout",
     "output_type": "stream",
     "text": [
      "224676 individuals; 30236 unique haplotypes. Top 10 common haplotypes are:\n",
      "[ '11111111111111111111111111111111111111111111111111111111111111111111111111111111111111'\n",
      " '11111111111111111111111011111110111111111111111111111111111111111111111111111111111111'\n",
      " '11111111111111111111111111111111111111111111111111111101111111111111011111111111111111'\n",
      " '11111111111111111111111111111101111111111111111111111110111111111111111111111111111111'\n",
      " '11111111111111111111111111111110111111111111111111111111111111111111111111111111111111'\n",
      " '11111111111111111111111011111110111011111001111111111101111111111111011111111111111111'\n",
      " '11111111111111101111111111111111111111111111111111111111111111111111111111111111111111'\n",
      " '11111111111111111111111111111101111111111111111111111111111111111111111111111111111111'\n",
      " '11111111111111111111111111111111111111111111111111110111111111111111111111111111111111'\n",
      " '11111111111111111111111111111111111111111011111111111111111111111111111111111111111111']\n",
      "[31555, 5764, 4331, 4039, 3998, 3606, 3312, 3221, 2332, 1862]\n"
     ]
    },
    {
     "data": {
      "image/png": "[encoded data removed]",
      "text/plain": [
       "<matplotlib.figure.Figure at 0x7f2db22d5e10>"
      ]
     },
     "metadata": {},
     "output_type": "display_data"
    }
   ],
   "source": [
    "debug_dump_count(c0)"
   ]
  },
  {
   "cell_type": "code",
   "execution_count": 10,
   "metadata": {
    "collapsed": true
   },
   "outputs": [],
   "source": [
    "c2 = read_haplotype_freq(pgen_f, block_bed, 2)"
   ]
  },
  {
   "cell_type": "code",
   "execution_count": 11,
   "metadata": {
    "collapsed": false
   },
   "outputs": [
    {
     "name": "stdout",
     "output_type": "stream",
     "text": [
      "224676 individuals; 19835 unique haplotypes. Top 10 common haplotypes are:\n",
      "['1111111111111111111111111111111111111111111111111111111111111111111111'\n",
      " '1111111111111111101111011111101001111111111111111001111111111111101111'\n",
      " '0000101000001010110011111110111111100100101111111111101111001110110011'\n",
      " '1111111111111111111111111111111111111111111111110111111111111111111111'\n",
      " '1111111111111111111111111111111111111111111111111111101111101111110011'\n",
      " '1111111111111111111111111111111111111111111111111111111111111110111111'\n",
      " '1111111111111111111111111111111111111111111111111001111111111111101111'\n",
      " '0000101000001010100011011110101001100100101111111001101111001110100011'\n",
      " '1111111111111111101111011111101001111111111111110001111111111111101111'\n",
      " '1111111111111111101111011111101001111111111111111111111111111111111111']\n",
      "[31830, 5944, 5797, 4455, 4060, 3225, 3221, 3213, 2892, 2825]\n"
     ]
    },
    {
     "data": {
      "image/png": "[encoded data removed]",
      "text/plain": [
       "<matplotlib.figure.Figure at 0x7f2d7374eb10>"
      ]
     },
     "metadata": {},
     "output_type": "display_data"
    }
   ],
   "source": [
    "debug_dump_count(c2)"
   ]
  },
  {
   "cell_type": "code",
   "execution_count": 12,
   "metadata": {
    "collapsed": true
   },
   "outputs": [],
   "source": [
    "c3 = read_haplotype_freq(pgen_f, block_bed, 3)"
   ]
  },
  {
   "cell_type": "code",
   "execution_count": 13,
   "metadata": {
    "collapsed": false
   },
   "outputs": [
    {
     "name": "stdout",
     "output_type": "stream",
     "text": [
      "224676 individuals; 131281 unique haplotypes. Top 10 common haplotypes are:\n",
      "[ '1111111111111111111111111111111111111111111111111111111111111111111111111111111111111111111111111111111111111111111111111111111111111111111111111111111111111111111111111111111111111111111111111111111111111111111111111111111111111111111111111111111111111111111111111111111111111111111'\n",
      " '1111111111111111111111111111111111111111111111111111111111111111111111111111111111111111111111111111111111111111111111111111111111111111111111111111111111111111111111111111111111111111111111111111111111111111111111111111111111111111111111111111111111111111111111111110111111111111111'\n",
      " '1111111011111111111111111111111111111111111111111111111111111111111111111111111111111111111111111111111111111111111111111111111111111111111111111111111111111111111111111111111111111111111111111111111111111111111111111111111111111111111111111111111111111111111111111111111111111111111'\n",
      " '1111111111111111111110110111111111111111111111111111111111111111111111111111111111111111111111111111111111111111111111111111111111111111111111111111111111111111111111111111111111111111111111111111111111111111111111111111111111111111111111111111111111111111111111111111111111111111111'\n",
      " '1111111111111111111111111111111111111111111111111111111111111111111111111111111111111111111111111111111111111111111111111111111111111111111111111111111111111111111111111111111111111111111111111111111111111111111111111111110111101111111111111111111111111111111111111111101111110111110'\n",
      " '1111111011111111111111111111111111111111111111111111111111111111111111111111111111111111111111111111111111111111111111111111111111111111111111111111111111111111111111111111111111111111111111111111111111111111111111111111111111111111111111111111111111111111111111111110111111111111111'\n",
      " '1110111111111111111111111111111111111111111111111111111111111111111111111111111111111111111111111111111111111111111111111111111111111111111111111111111111111111111111111111111111111111111111111111111111111111111111111111111111111111111111111111111111111111111111111111111111111111111'\n",
      " '1111111111111111111110110111111111111111111111111111111111111111101111111111111111111111111111111111111111111111111111111111111111111111111111111111111111111111111111111111111111111111111111111111111111111111111111111111111111111111111111111111111111111111111111111111111111111111111'\n",
      " '1111110100111111111110110111111110000000001111111111111111111111111111111111111111111111111111111111111111111111111111111111111111111111111111111111111111111111111111111111111111111111111111111111111111111111111111111111111111111111111111111111111111111111111111111111111111111111111'\n",
      " '1111111111111111111111111111111110001111001111111111111111111111111111111111111111111111111111111111111111111111111111111111111111111111111111111111111111111111111111111111111111111111111111111111111111111111111111111111111111111111111111111111111111111111111111111111111111111111111']\n",
      "[7857, 3080, 1308, 1138, 892, 631, 594, 588, 577, 527]\n"
     ]
    },
    {
     "data": {
      "image/png": "[encoded data removed]",
      "text/plain": [
       "<matplotlib.figure.Figure at 0x7f2d73ac85d0>"
      ]
     },
     "metadata": {},
     "output_type": "display_data"
    }
   ],
   "source": [
    "debug_dump_count(c3)"
   ]
  },
  {
   "cell_type": "code",
   "execution_count": null,
   "metadata": {
    "collapsed": true
   },
   "outputs": [],
   "source": []
  }
 ],
 "metadata": {
  "anaconda-cloud": {},
  "kernelspec": {
   "display_name": "Python [conda env:nanopore]",
   "language": "python",
   "name": "conda-env-nanopore-py"
  },
  "language_info": {
   "codemirror_mode": {
    "name": "ipython",
    "version": 2
   },
   "file_extension": ".py",
   "mimetype": "text/x-python",
   "name": "python",
   "nbconvert_exporter": "python",
   "pygments_lexer": "ipython2",
   "version": "2.7.13"
  }
 },
 "nbformat": 4,
 "nbformat_minor": 1
}
