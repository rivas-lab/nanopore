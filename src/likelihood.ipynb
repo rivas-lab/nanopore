{
 "cells": [
  {
   "cell_type": "code",
   "execution_count": 3,
   "metadata": {
    "collapsed": true
   },
   "outputs": [],
   "source": [
    "%matplotlib inline\n",
    "\n",
    "from __future__ import print_function\n",
    "\n",
    "import sys\n",
    "import os\n",
    "import logging\n",
    "from logging.config import dictConfig\n",
    "import numpy as np\n",
    "import pandas as pd\n",
    "import itertools as it\n",
    "import collections as cl\n",
    "import bisect\n",
    "\n",
    "from numba import jit\n",
    "\n",
    "logging_config = dict(\n",
    "    version = 1,\n",
    "    formatters = {\n",
    "        'f': {'format':\n",
    "              '%(asctime)s %(name)-12s %(levelname)-8s %(message)s'}\n",
    "        },\n",
    "    handlers = {\n",
    "        'h': {'class': 'logging.StreamHandler',\n",
    "              'formatter': 'f',\n",
    "              'level': logging.DEBUG}\n",
    "        },\n",
    "    root = {\n",
    "        'handlers': ['h'],\n",
    "        'level': logging.DEBUG,\n",
    "        },\n",
    ")\n",
    "dictConfig(logging_config)"
   ]
  },
  {
   "cell_type": "code",
   "execution_count": 2,
   "metadata": {},
   "outputs": [
    {
     "name": "stderr",
     "output_type": "stream",
     "text": [
      "2017-06-28 22:46:35,639 notebook     INFO     hello\n"
     ]
    }
   ],
   "source": [
    "logger_nb = logging.getLogger('notebook')\n",
    "logger_nb.info('hello')"
   ]
  },
  {
   "cell_type": "code",
   "execution_count": 4,
   "metadata": {
    "collapsed": true
   },
   "outputs": [],
   "source": [
    "read_dir='/oak/stanford/groups/mrivas/public_data/nanopore-wgs-consortium/rel3/hg19/chr20'\n",
    "hap_basename='rel3.chr20.12500.10k-chr20impv1-keep-maf0005-snv-biallelic-geno01-hwe1e-10.hap.head'\n",
    "hap_f='{}/{}'.format(read_dir, hap_basename)\n",
    "\n",
    "data_dir='/oak/stanford/groups/mrivas/users/ytanigaw/nanopore-data'\n",
    "\n",
    "block_tsv_f='{}/{}'.format(\n",
    "    data_dir,\n",
    "    'chr20impv1-keep-maf0005-snv-biallelic-geno01-hwe1e-10-block-stronglow050-stronghigh083-infofrac10.tsv'\n",
    ")\n",
    "\n",
    "prior_count_dir='{}/{}'.format(data_dir, 'prior_count')\n",
    "log_likelihood_dir='{}/{}/{}'.format(data_dir, 'log_likelihood', hap_basename[:-4])\n",
    "if not os.path.exists(log_likelihood_dir):\n",
    "    os.makedirs(log_likelihood_dir)"
   ]
  },
  {
   "cell_type": "code",
   "execution_count": 5,
   "metadata": {
    "collapsed": true
   },
   "outputs": [],
   "source": [
    "def read_prior_cnts(block_df, prior_count_dir):\n",
    "    \n",
    "    logger_cnt = logging.getLogger('read_prior_cnts')    \n",
    "    logger_cnt.info(\n",
    "        'reading prior counts from {}'.format(prior_count_dir)\n",
    "    )        \n",
    "    \n",
    "    prior_cnt_keys = [None] * len(block_df)\n",
    "    prior_cnt_vals = [None] * len(block_df)\n",
    "    for block_id in range(len(block_df)):\n",
    "        if(block_id % 100 == 0):\n",
    "            logger_cnt.info(\n",
    "                'reading block {} of {}'.format(block_id, len(block_df))\n",
    "            )    \n",
    "        cnt = np.load('{}/{}.npz'.format(prior_count_dir, block_id))\n",
    "        prior_cnt_keys[block_id] = cnt['keys']\n",
    "        prior_cnt_vals[block_id] = cnt['vals']\n",
    "        \n",
    "    logger_cnt.info(\n",
    "        'prior counts is loaded on memory'\n",
    "    )    \n",
    "        \n",
    "    return prior_cnt_keys, prior_cnt_vals"
   ]
  },
  {
   "cell_type": "code",
   "execution_count": 6,
   "metadata": {
    "collapsed": true
   },
   "outputs": [],
   "source": [
    "def find_block_intervals_from_hap(block_df, hapStart, hapEnd):\n",
    "    \"\"\"Align two cordinates (one on read, the other on block_df)\"\"\"\n",
    "    hap_len = hapEnd - hapStart\n",
    "    hap_to_assign_len = hap_len \n",
    "    start_block = bisect.bisect_right(block_df.bimStart.as_matrix(), hapStart) - 1\n",
    "    current_block = start_block\n",
    "    \n",
    "    res = dict([])\n",
    "    \n",
    "    while(hap_to_assign_len > 0):\n",
    "        if(start_block == current_block):\n",
    "            current_block_SNP_start = hapStart - block_df.bimStart[current_block] \n",
    "        else:\n",
    "            current_block_SNP_start = 0\n",
    "        if(hap_to_assign_len < block_df.n_SNPs[current_block]):\n",
    "            current_block_SNP_end = hap_to_assign_len \n",
    "            res[current_block] = ((hap_len - hap_to_assign_len, \n",
    "                                   hap_len - hap_to_assign_len + current_block_SNP_end - current_block_SNP_start),\n",
    "                                  (current_block_SNP_start, current_block_SNP_end))\n",
    "            hap_to_assign_len = 0\n",
    "        else:\n",
    "            current_block_SNP_end = block_df.n_SNPs[current_block] \n",
    "            res[current_block] = ((hap_len - hap_to_assign_len, \n",
    "                                   hap_len - hap_to_assign_len + current_block_SNP_end - current_block_SNP_start),\n",
    "                                  (current_block_SNP_start, current_block_SNP_end))\n",
    "            hap_to_assign_len = hap_to_assign_len - (current_block_SNP_end - current_block_SNP_start)  \n",
    "            current_block = current_block + 1    \n",
    "    \n",
    "    return res\n",
    "\n",
    "def find_ld_blocks(line, block_df):\n",
    "#     logger_find_ld_blocks = logging.getLogger('find_ld_blocks')    \n",
    "#     logger_find_ld_blocks.debug('passing {} {}'.format(line[6], line[7]))\n",
    "    return find_block_intervals_from_hap(block_df, int(line[6]), int(line[7]))\n",
    "\n",
    "def find_read_specific_error_rate(line):\n",
    "    return float(line[5])\n",
    "\n",
    "def find_observation(line):\n",
    "    obs1d = np.array([1 - int(x) for x in list(line[-1])], dtype=np.int8)\n",
    "    return obs1d.reshape((1, len(obs1d)))\n"
   ]
  },
  {
   "cell_type": "code",
   "execution_count": 7,
   "metadata": {},
   "outputs": [],
   "source": [
    "def compute_likelihood_from_a_read(line, block_df, prior_cnt_keys):\n",
    "    \"\"\"Given one line of the input hap file, compute and update the log-likelihood\n",
    "    \"\"\"\n",
    "    \n",
    "#     logger_read_ll = logging.getLogger('compute_likelihood_from_a_read')\n",
    "    \n",
    "    obs = find_observation(line)\n",
    "    err_rate = find_read_specific_error_rate(line)\n",
    "    \n",
    "    likelihood_of_read = dict([])\n",
    "    \n",
    "#     logger_read_ll.debug('parsed ld blocks are {}'.format(str(find_ld_blocks(line, block_df))))\n",
    "    \n",
    "    for block_id, v in find_ld_blocks(line, block_df).items():\n",
    "#         logger_read_ll.debug('The LD we are working on is: {} {}'.format(block_id, v))\n",
    "        \n",
    "        obs_s, obs_e = v[0]\n",
    "        block_s, block_e = v[1]    \n",
    "                \n",
    "        n_mismatch = np.sum(\n",
    "            prior_cnt_keys[block_id][:, block_s:block_e] != obs[:, obs_s:obs_e], axis = 1\n",
    "        )\n",
    "        n_match = (obs_e - obs_s) - n_mismatch\n",
    "        \n",
    "        likelihood_of_read[block_id] = n_mismatch * np.log(err_rate) + n_match * np.log(1 - err_rate)\n",
    "\n",
    "    return likelihood_of_read"
   ]
  },
  {
   "cell_type": "code",
   "execution_count": 8,
   "metadata": {
    "collapsed": true
   },
   "outputs": [],
   "source": [
    "def update_likelihood(likelihood_of_read, log_likelihood):   \n",
    "    for block_id, ll in likelihood_of_read.items():\n",
    "        if(block_id in log_likelihood):\n",
    "            log_likelihood[block_id] = log_likelihood[block_id] + ll\n",
    "        else:\n",
    "            log_likelihood[block_id] = ll\n",
    "    return log_likelihood"
   ]
  },
  {
   "cell_type": "code",
   "execution_count": 9,
   "metadata": {
    "collapsed": true
   },
   "outputs": [],
   "source": [
    "def update_ll(hap_f, block_df, prior_cnt_keys, log_likelihood = dict([])):\n",
    "\n",
    "    logger_ll = logging.getLogger('update_ll')\n",
    "        \n",
    "    with open(hap_f, 'r') as f:\n",
    "        for line_num, raw_line in enumerate(f):\n",
    "            line  = raw_line.rstrip().split('\\t')\n",
    "            \n",
    "            if(line_num % 100 == 0):            \n",
    "                logger_ll.info(\n",
    "                    'processing read {} {}'.format(line_num, line[3])\n",
    "                )                                \n",
    "\n",
    "            likelihood_of_read = compute_likelihood_from_a_read(line, block_df, prior_cnt_keys)            \n",
    "            log_likelihood = update_likelihood(likelihood_of_read, log_likelihood)\n",
    "    return log_likelihood"
   ]
  },
  {
   "cell_type": "code",
   "execution_count": 10,
   "metadata": {
    "collapsed": true
   },
   "outputs": [],
   "source": [
    "block_df = pd.read_csv(block_tsv_f, sep='\\t')"
   ]
  },
  {
   "cell_type": "code",
   "execution_count": 11,
   "metadata": {},
   "outputs": [
    {
     "name": "stderr",
     "output_type": "stream",
     "text": [
      "2017-06-28 22:48:17,427 read_prior_cnts INFO     reading prior counts from /oak/stanford/groups/mrivas/users/ytanigaw/nanopore-data/prior_count\n",
      "2017-06-28 22:48:17,431 read_prior_cnts INFO     reading block 0 of 642\n",
      "2017-06-28 22:48:18,467 read_prior_cnts INFO     reading block 100 of 642\n",
      "2017-06-28 22:48:19,377 read_prior_cnts INFO     reading block 200 of 642\n",
      "2017-06-28 22:48:20,562 read_prior_cnts INFO     reading block 300 of 642\n",
      "2017-06-28 22:48:21,579 read_prior_cnts INFO     reading block 400 of 642\n",
      "2017-06-28 22:48:22,475 read_prior_cnts INFO     reading block 500 of 642\n",
      "2017-06-28 22:48:23,238 read_prior_cnts INFO     reading block 600 of 642\n",
      "2017-06-28 22:48:23,604 read_prior_cnts INFO     prior counts is loaded on memory\n"
     ]
    }
   ],
   "source": [
    "prior_cnt_keys, prior_cnt_vals = read_prior_cnts(block_df, prior_count_dir)"
   ]
  },
  {
   "cell_type": "code",
   "execution_count": 12,
   "metadata": {},
   "outputs": [
    {
     "name": "stderr",
     "output_type": "stream",
     "text": [
      "2017-06-28 22:48:27,191 update_ll    INFO     processing read 0 33ecb953-edd6-445b-87da-85c4551d8c8c_Basecall_Alignment_template\n"
     ]
    }
   ],
   "source": [
    "log_likelihood = update_ll(hap_f, block_df, prior_cnt_keys)"
   ]
  },
  {
   "cell_type": "code",
   "execution_count": 13,
   "metadata": {},
   "outputs": [],
   "source": [
    "for block_id, ll in log_likelihood.items():\n",
    "    np.savez(\n",
    "        '{}/ll{}.npz'.format(log_likelihood_dir, block_id), \n",
    "        ll = ll\n",
    "    )"
   ]
  },
  {
   "cell_type": "code",
   "execution_count": null,
   "metadata": {
    "collapsed": true
   },
   "outputs": [],
   "source": []
  },
  {
   "cell_type": "code",
   "execution_count": null,
   "metadata": {
    "collapsed": true
   },
   "outputs": [],
   "source": []
  },
  {
   "cell_type": "markdown",
   "metadata": {
    "collapsed": true
   },
   "source": [
    "## draft"
   ]
  },
  {
   "cell_type": "code",
   "execution_count": 14,
   "metadata": {},
   "outputs": [
    {
     "data": {
      "text/plain": [
       "{0: array([-1237.25396363, -1046.37545818, -1295.36326571, ..., -1365.68330601,\n",
       "        -1191.64300216, -1271.67122066]),\n",
       " 1: array([-493.04847915, -509.48281659, -525.91715402, ..., -517.6999853 ,\n",
       "        -525.91715402, -558.7858289 ])}"
      ]
     },
     "execution_count": 14,
     "metadata": {},
     "output_type": "execute_result"
    }
   ],
   "source": [
    "log_likelihood"
   ]
  },
  {
   "cell_type": "code",
   "execution_count": null,
   "metadata": {
    "collapsed": true
   },
   "outputs": [],
   "source": []
  },
  {
   "cell_type": "code",
   "execution_count": 24,
   "metadata": {},
   "outputs": [
    {
     "data": {
      "text/plain": [
       "['chr20',\n",
       " '59980',\n",
       " '65177',\n",
       " '33ecb953-edd6-445b-87da-85c4551d8c8c_Basecall_Alignment_template',\n",
       " '60',\n",
       " '1.442407e-03',\n",
       " '0',\n",
       " '9',\n",
       " '111111101']"
      ]
     },
     "execution_count": 24,
     "metadata": {},
     "output_type": "execute_result"
    }
   ],
   "source": [
    "line"
   ]
  },
  {
   "cell_type": "code",
   "execution_count": null,
   "metadata": {
    "collapsed": true
   },
   "outputs": [],
   "source": []
  },
  {
   "cell_type": "code",
   "execution_count": null,
   "metadata": {
    "collapsed": true
   },
   "outputs": [],
   "source": []
  },
  {
   "cell_type": "code",
   "execution_count": null,
   "metadata": {
    "collapsed": true
   },
   "outputs": [],
   "source": []
  },
  {
   "cell_type": "code",
   "execution_count": null,
   "metadata": {
    "collapsed": true
   },
   "outputs": [],
   "source": []
  },
  {
   "cell_type": "code",
   "execution_count": null,
   "metadata": {
    "collapsed": true
   },
   "outputs": [],
   "source": []
  },
  {
   "cell_type": "code",
   "execution_count": 26,
   "metadata": {
    "collapsed": true
   },
   "outputs": [],
   "source": [
    "def update_likelihood_old(line, log_likelihood, block_df, prior_cnt_keys):\n",
    "    \"\"\"Given one line of the input hap file, compute and update the log-likelihood\n",
    "    \"\"\"\n",
    "    obs = find_observation(line)\n",
    "    err_rate = find_read_specific_error_rate(line)\n",
    "    for block_id, v in find_ld_blocks(line, block_df).items():\n",
    "        obs_s, obs_e = v[0]\n",
    "        block_s, block_e = v[1]    \n",
    "        n_mismatch = np.sum(\n",
    "            prior_cnt_keys[block_id][:, block_s:block_e] != obs[obs_s:obs_e], axis = 1\n",
    "        )\n",
    "        n_match = (obs_e - obs_s) - n_mismatch\n",
    "        log_likelihood_of_read = n_mismatch * np.log(err_rate) + n_match * np.log(1 - err_rate)\n",
    "        if block_id in log_likelihood:\n",
    "            log_likelihood[block_id] = log_likelihood[block_id] + log_likelihood_of_read\n",
    "        else:\n",
    "            log_likelihood[block_id] = log_likelihood_of_read"
   ]
  },
  {
   "cell_type": "code",
   "execution_count": 1,
   "metadata": {
    "collapsed": true
   },
   "outputs": [],
   "source": [
    "%matplotlib inline\n",
    "\n",
    "from __future__ import print_function\n",
    "\n",
    "import sys\n",
    "import logging\n",
    "from logging.config import dictConfig\n",
    "import numpy as np\n",
    "import pandas as pd\n",
    "import matplotlib\n",
    "import matplotlib.pyplot as plt\n",
    "import matplotlib.gridspec as gridspec\n",
    "import itertools as it\n",
    "import collections as cl\n",
    "import multiprocessing\n",
    "import bisect\n",
    "\n",
    "from numba import jit\n",
    "\n",
    "import pgenlib as pg\n",
    "\n",
    "logging_config = dict(\n",
    "    version = 1,\n",
    "    formatters = {\n",
    "        'f': {'format':\n",
    "              '%(asctime)s %(name)-12s %(levelname)-8s %(message)s'}\n",
    "        },\n",
    "    handlers = {\n",
    "        'h': {'class': 'logging.StreamHandler',\n",
    "              'formatter': 'f',\n",
    "              'level': logging.DEBUG}\n",
    "        },\n",
    "    root = {\n",
    "        'handlers': ['h'],\n",
    "        'level': logging.DEBUG,\n",
    "        },\n",
    ")\n",
    "dictConfig(logging_config)"
   ]
  },
  {
   "cell_type": "code",
   "execution_count": 2,
   "metadata": {},
   "outputs": [
    {
     "name": "stderr",
     "output_type": "stream",
     "text": [
      "2017-06-28 14:57:10,172 notebook     INFO     hello\n"
     ]
    }
   ],
   "source": [
    "logger_nb = logging.getLogger('notebook')\n",
    "logger_nb.info('hello')"
   ]
  },
  {
   "cell_type": "code",
   "execution_count": 3,
   "metadata": {
    "collapsed": true
   },
   "outputs": [],
   "source": [
    "data_dir='/oak/stanford/groups/mrivas/users/ytanigaw/nanopore-data'\n",
    "geno_bed_log='chr20impv1-keep-maf0005-snv-biallelic-geno01-hwe1e-10.log'\n",
    "block_log='chr20impv1-keep-maf0005-snv-biallelic-geno01-hwe1e-10-block-stronglow050-stronghigh083-infofrac10.log'\n",
    "pgen_log='chr20impv1-keep-maf0005-snv-biallelic-geno01-hwe1e-10-pg.log'\n",
    "pgen_f = '{}/{}.pgen'.format(data_dir, pgen_log[:-4])\n",
    "block_tsv_f = '{}/{}.tsv'.format(data_dir, block_log[:-4])"
   ]
  },
  {
   "cell_type": "code",
   "execution_count": 4,
   "metadata": {},
   "outputs": [
    {
     "data": {
      "text/html": [
       "<div>\n",
       "<style>\n",
       "    .dataframe thead tr:only-child th {\n",
       "        text-align: right;\n",
       "    }\n",
       "\n",
       "    .dataframe thead th {\n",
       "        text-align: left;\n",
       "    }\n",
       "\n",
       "    .dataframe tbody tr th {\n",
       "        vertical-align: top;\n",
       "    }\n",
       "</style>\n",
       "<table border=\"1\" class=\"dataframe\">\n",
       "  <thead>\n",
       "    <tr style=\"text-align: right;\">\n",
       "      <th></th>\n",
       "      <th>chrom</th>\n",
       "      <th>chromStart</th>\n",
       "      <th>chromEnd</th>\n",
       "      <th>bimStart</th>\n",
       "      <th>bimEnd</th>\n",
       "      <th>nt_size</th>\n",
       "      <th>n_SNPs</th>\n",
       "      <th>n_haps</th>\n",
       "      <th>n_uniq_haps</th>\n",
       "    </tr>\n",
       "  </thead>\n",
       "  <tbody>\n",
       "    <tr>\n",
       "      <th>0</th>\n",
       "      <td>chr20</td>\n",
       "      <td>61097</td>\n",
       "      <td>94951</td>\n",
       "      <td>0</td>\n",
       "      <td>78</td>\n",
       "      <td>33854</td>\n",
       "      <td>78</td>\n",
       "      <td>119900</td>\n",
       "      <td>4833</td>\n",
       "    </tr>\n",
       "    <tr>\n",
       "      <th>1</th>\n",
       "      <td>chr20</td>\n",
       "      <td>94951</td>\n",
       "      <td>266791</td>\n",
       "      <td>78</td>\n",
       "      <td>915</td>\n",
       "      <td>171840</td>\n",
       "      <td>837</td>\n",
       "      <td>24264</td>\n",
       "      <td>16646</td>\n",
       "    </tr>\n",
       "    <tr>\n",
       "      <th>2</th>\n",
       "      <td>chr20</td>\n",
       "      <td>266791</td>\n",
       "      <td>288775</td>\n",
       "      <td>915</td>\n",
       "      <td>991</td>\n",
       "      <td>21984</td>\n",
       "      <td>76</td>\n",
       "      <td>120130</td>\n",
       "      <td>6487</td>\n",
       "    </tr>\n",
       "    <tr>\n",
       "      <th>3</th>\n",
       "      <td>chr20</td>\n",
       "      <td>288775</td>\n",
       "      <td>344630</td>\n",
       "      <td>991</td>\n",
       "      <td>1218</td>\n",
       "      <td>55855</td>\n",
       "      <td>227</td>\n",
       "      <td>70042</td>\n",
       "      <td>16571</td>\n",
       "    </tr>\n",
       "    <tr>\n",
       "      <th>4</th>\n",
       "      <td>chr20</td>\n",
       "      <td>344630</td>\n",
       "      <td>346675</td>\n",
       "      <td>1218</td>\n",
       "      <td>1224</td>\n",
       "      <td>2045</td>\n",
       "      <td>6</td>\n",
       "      <td>202090</td>\n",
       "      <td>26</td>\n",
       "    </tr>\n",
       "  </tbody>\n",
       "</table>\n",
       "</div>"
      ],
      "text/plain": [
       "   chrom  chromStart  chromEnd  bimStart  bimEnd  nt_size  n_SNPs  n_haps  \\\n",
       "0  chr20       61097     94951         0      78    33854      78  119900   \n",
       "1  chr20       94951    266791        78     915   171840     837   24264   \n",
       "2  chr20      266791    288775       915     991    21984      76  120130   \n",
       "3  chr20      288775    344630       991    1218    55855     227   70042   \n",
       "4  chr20      344630    346675      1218    1224     2045       6  202090   \n",
       "\n",
       "   n_uniq_haps  \n",
       "0         4833  \n",
       "1        16646  \n",
       "2         6487  \n",
       "3        16571  \n",
       "4           26  "
      ]
     },
     "execution_count": 4,
     "metadata": {},
     "output_type": "execute_result"
    }
   ],
   "source": [
    "block_df = pd.read_csv(block_tsv_f, sep='\\t')\n",
    "block_df.head()"
   ]
  },
  {
   "cell_type": "code",
   "execution_count": 9,
   "metadata": {
    "collapsed": true
   },
   "outputs": [],
   "source": [
    "def find_block_intervals_from_hap(block_df, hapStart, hapEnd):\n",
    "    \"\"\"Align two cordinates (one on read, the other on block_df)\"\"\"\n",
    "    hap_len = hapEnd - hapStart\n",
    "    hap_to_assign_len = hap_len \n",
    "    start_block = bisect.bisect_right(block_df.bimStart.as_matrix(), hapStart) - 1\n",
    "    current_block = start_block\n",
    "    \n",
    "    res = dict([])\n",
    "    \n",
    "    while(hap_to_assign_len > 0):\n",
    "        if(start_block == current_block):\n",
    "            current_block_SNP_start = hapStart - block_df.bimStart[current_block] \n",
    "        else:\n",
    "            current_block_SNP_start = 0\n",
    "        if(hap_to_assign_len < block_df.n_SNPs[current_block]):\n",
    "            current_block_SNP_end = hap_to_assign_len \n",
    "            res[current_block] = ((hap_len - hap_to_assign_len, \n",
    "                                   hap_len - hap_to_assign_len + current_block_SNP_end - current_block_SNP_start),\n",
    "                                  (current_block_SNP_start, current_block_SNP_end))\n",
    "            hap_to_assign_len = 0\n",
    "        else:\n",
    "            current_block_SNP_end = block_df.n_SNPs[current_block] \n",
    "            res[current_block] = ((hap_len - hap_to_assign_len, \n",
    "                                   hap_len - hap_to_assign_len + current_block_SNP_end - current_block_SNP_start),\n",
    "                                  (current_block_SNP_start, current_block_SNP_end))\n",
    "            hap_to_assign_len = hap_to_assign_len - (current_block_SNP_end - current_block_SNP_start)  \n",
    "            current_block = current_block + 1    \n",
    "    \n",
    "    return res"
   ]
  },
  {
   "cell_type": "code",
   "execution_count": 10,
   "metadata": {},
   "outputs": [
    {
     "data": {
      "text/plain": [
       "{0: ((0, 77), (1, 78)), 1: ((77, 914), (0, 837)), 2: ((914, 919), (0, 5))}"
      ]
     },
     "execution_count": 10,
     "metadata": {},
     "output_type": "execute_result"
    }
   ],
   "source": [
    "find_block_intervals_from_hap(block_df, 1, 920)"
   ]
  },
  {
   "cell_type": "code",
   "execution_count": 18,
   "metadata": {},
   "outputs": [
    {
     "name": "stdout",
     "output_type": "stream",
     "text": [
      "0 ((0, 77), (1, 78))\n",
      "1 ((77, 914), (0, 837))\n",
      "2 ((914, 919), (0, 5))\n"
     ]
    }
   ],
   "source": [
    "for k, v in find_block_intervals_from_hap(block_df, 1, 920).items():\n",
    "    print(k, v)"
   ]
  },
  {
   "cell_type": "code",
   "execution_count": null,
   "metadata": {
    "collapsed": true
   },
   "outputs": [],
   "source": []
  },
  {
   "cell_type": "markdown",
   "metadata": {},
   "source": [
    "## read prior counts"
   ]
  },
  {
   "cell_type": "code",
   "execution_count": 27,
   "metadata": {
    "collapsed": true
   },
   "outputs": [],
   "source": [
    "prior_cnt_keys = [None] * len(block_df)\n",
    "prior_cnt_vals = [None] * len(block_df)\n",
    "for block_id in range(len(block_df)):\n",
    "    cnt = np.load(\n",
    "    '/oak/stanford/groups/mrivas/users/ytanigaw/nanopore-data/prior_count/{}.npz'.format(block_id)\n",
    "    )\n",
    "    prior_cnt_keys[block_id] = cnt['keys']\n",
    "    prior_cnt_vals[block_id] = cnt['vals']"
   ]
  },
  {
   "cell_type": "code",
   "execution_count": 26,
   "metadata": {},
   "outputs": [
    {
     "data": {
      "text/plain": [
       "((4833, 78), (4833,))"
      ]
     },
     "execution_count": 26,
     "metadata": {},
     "output_type": "execute_result"
    }
   ],
   "source": [
    "prior_cnt_keys[0].shape, prior_cnt_vals[0].shape, "
   ]
  },
  {
   "cell_type": "code",
   "execution_count": null,
   "metadata": {
    "collapsed": true
   },
   "outputs": [],
   "source": []
  },
  {
   "cell_type": "code",
   "execution_count": null,
   "metadata": {
    "collapsed": true
   },
   "outputs": [],
   "source": []
  },
  {
   "cell_type": "code",
   "execution_count": 11,
   "metadata": {
    "collapsed": true
   },
   "outputs": [],
   "source": [
    "read_dir='/oak/stanford/groups/mrivas/public_data/nanopore-wgs-consortium/rel3/hg19/chr20'\n",
    "hap_f='{}/rel3.chr20.12500.10k-chr20impv1-keep-maf0005-snv-biallelic-geno01-hwe1e-10.hap'.format(read_dir)\n",
    "# hap_f='{}/rel3.chr20.12500.10k-chr20impv1-keep-maf0005-snv-biallelic.hap'.format(read_dir)"
   ]
  },
  {
   "cell_type": "code",
   "execution_count": 12,
   "metadata": {
    "collapsed": true
   },
   "outputs": [],
   "source": [
    "with open(hap_f, 'r') as f:\n",
    "    line = f.readline().rstrip().split('\\t')"
   ]
  },
  {
   "cell_type": "code",
   "execution_count": 13,
   "metadata": {},
   "outputs": [
    {
     "data": {
      "text/plain": [
       "['chr20',\n",
       " '59980',\n",
       " '65177',\n",
       " '33ecb953-edd6-445b-87da-85c4551d8c8c_Basecall_Alignment_template',\n",
       " '60',\n",
       " '1.442407e-03',\n",
       " '0',\n",
       " '9',\n",
       " '111111101']"
      ]
     },
     "execution_count": 13,
     "metadata": {},
     "output_type": "execute_result"
    }
   ],
   "source": [
    "line"
   ]
  },
  {
   "cell_type": "code",
   "execution_count": 15,
   "metadata": {
    "collapsed": true
   },
   "outputs": [],
   "source": [
    "def find_ld_blocks(line, block_df):\n",
    "    return find_block_intervals_from_hap(block_df, int(line[6]), int(line[7]))"
   ]
  },
  {
   "cell_type": "code",
   "execution_count": 16,
   "metadata": {
    "collapsed": true
   },
   "outputs": [],
   "source": [
    "b1 = find_ld_blocks(line, block_df)"
   ]
  },
  {
   "cell_type": "code",
   "execution_count": 17,
   "metadata": {},
   "outputs": [
    {
     "data": {
      "text/plain": [
       "{0: ((0, 9), (0, 9))}"
      ]
     },
     "execution_count": 17,
     "metadata": {},
     "output_type": "execute_result"
    }
   ],
   "source": [
    "b1"
   ]
  },
  {
   "cell_type": "code",
   "execution_count": null,
   "metadata": {
    "collapsed": true
   },
   "outputs": [],
   "source": []
  },
  {
   "cell_type": "code",
   "execution_count": 40,
   "metadata": {},
   "outputs": [
    {
     "name": "stdout",
     "output_type": "stream",
     "text": [
      "(4833, 9)\n"
     ]
    },
    {
     "data": {
      "text/plain": [
       "array([[1, 1, 0, ..., 1, 0, 1],\n",
       "       [0, 1, 0, ..., 1, 0, 1],\n",
       "       [1, 1, 0, ..., 1, 0, 1],\n",
       "       ..., \n",
       "       [1, 1, 0, ..., 1, 0, 1],\n",
       "       [0, 1, 0, ..., 1, 0, 1],\n",
       "       [1, 1, 0, ..., 1, 0, 1]], dtype=int8)"
      ]
     },
     "execution_count": 40,
     "metadata": {},
     "output_type": "execute_result"
    }
   ],
   "source": [
    "print(prior_cnt_keys[0][:, 0:9].shape)\n",
    "prior_cnt_keys[0][:, 0:9]"
   ]
  },
  {
   "cell_type": "code",
   "execution_count": 38,
   "metadata": {
    "collapsed": true
   },
   "outputs": [],
   "source": [
    "def find_read_specific_error_rate(line):\n",
    "    return float(line[5])"
   ]
  },
  {
   "cell_type": "code",
   "execution_count": 34,
   "metadata": {
    "collapsed": true
   },
   "outputs": [],
   "source": [
    "def find_observation(line):\n",
    "    obs1d = np.array([1 - int(x) for x in list(line[-1])], dtype=np.int8)\n",
    "    return obs1d.reshape((1, len(obs1d)))"
   ]
  },
  {
   "cell_type": "code",
   "execution_count": 42,
   "metadata": {
    "collapsed": true
   },
   "outputs": [],
   "source": [
    "obs = find_observation(line)"
   ]
  },
  {
   "cell_type": "code",
   "execution_count": 50,
   "metadata": {
    "collapsed": true
   },
   "outputs": [],
   "source": [
    "err_rate = find_read_specific_error_rate(line)"
   ]
  },
  {
   "cell_type": "code",
   "execution_count": 46,
   "metadata": {
    "collapsed": true
   },
   "outputs": [],
   "source": [
    "n_mismatch = np.sum(prior_cnt_keys[0][:, 0:9] != obs[0:9], axis = 1)\n",
    "n_match = (9 - 0) - n_mismatch"
   ]
  },
  {
   "cell_type": "code",
   "execution_count": 49,
   "metadata": {},
   "outputs": [
    {
     "data": {
      "text/plain": [
       "True"
      ]
     },
     "execution_count": 49,
     "metadata": {},
     "output_type": "execute_result"
    }
   ],
   "source": [
    "np.all(n_mismatch + n_match == 9)"
   ]
  },
  {
   "cell_type": "code",
   "execution_count": 51,
   "metadata": {},
   "outputs": [
    {
     "data": {
      "text/plain": [
       "-6.5414420330642029"
      ]
     },
     "execution_count": 51,
     "metadata": {},
     "output_type": "execute_result"
    }
   ],
   "source": [
    "np.log(err_rate)"
   ]
  },
  {
   "cell_type": "code",
   "execution_count": 59,
   "metadata": {
    "collapsed": true
   },
   "outputs": [],
   "source": [
    "log_likelihood_of_read = n_mismatch * np.log(err_rate) + n_match * np.log(1 - err_rate)"
   ]
  },
  {
   "cell_type": "code",
   "execution_count": null,
   "metadata": {
    "collapsed": true
   },
   "outputs": [],
   "source": []
  },
  {
   "cell_type": "code",
   "execution_count": 62,
   "metadata": {
    "collapsed": true
   },
   "outputs": [],
   "source": [
    "log_likelihood = dict([])"
   ]
  },
  {
   "cell_type": "code",
   "execution_count": 61,
   "metadata": {
    "collapsed": true
   },
   "outputs": [],
   "source": [
    "if 0 in log_likelihood:\n",
    "    log_likelihood[0] = log_likelihood[0] + log_likelihood_of_read\n",
    "else:\n",
    "    log_likelihood[0] = log_likelihood_of_read"
   ]
  },
  {
   "cell_type": "code",
   "execution_count": null,
   "metadata": {
    "collapsed": true
   },
   "outputs": [],
   "source": []
  },
  {
   "cell_type": "code",
   "execution_count": null,
   "metadata": {
    "collapsed": true
   },
   "outputs": [],
   "source": []
  },
  {
   "cell_type": "code",
   "execution_count": 72,
   "metadata": {
    "collapsed": true
   },
   "outputs": [],
   "source": [
    "def update_likelihood(line, log_likelihood, block_df, prior_cnt_keys):\n",
    "    \"\"\"Given one line of the input hap file, compute and update the log-likelihood\n",
    "    \"\"\"\n",
    "    obs = find_observation(line)\n",
    "    err_rate = find_read_specific_error_rate(line)\n",
    "    for block_id, v in find_ld_blocks(line, block_df).items():\n",
    "        obs_s, obs_e = v[0]\n",
    "        block_s, block_e = v[1]    \n",
    "        n_mismatch = np.sum(\n",
    "            prior_cnt_keys[block_id][:, block_s:block_e] != obs[obs_s:obs_e], axis = 1\n",
    "        )\n",
    "        n_match = (obs_e - obs_s) - n_mismatch\n",
    "        log_likelihood_of_read = n_mismatch * np.log(err_rate) + n_match * np.log(1 - err_rate)\n",
    "        if block_id in log_likelihood:\n",
    "            log_likelihood[block_id] = log_likelihood[block_id] + log_likelihood_of_read\n",
    "        else:\n",
    "            log_likelihood[block_id] = log_likelihood_of_read"
   ]
  },
  {
   "cell_type": "code",
   "execution_count": null,
   "metadata": {
    "collapsed": true
   },
   "outputs": [],
   "source": []
  },
  {
   "cell_type": "code",
   "execution_count": null,
   "metadata": {
    "collapsed": true
   },
   "outputs": [],
   "source": []
  },
  {
   "cell_type": "code",
   "execution_count": 71,
   "metadata": {},
   "outputs": [
    {
     "data": {
      "text/plain": [
       "array([-45.79298113, -39.25298254, -45.79298113, ..., -52.33297971,\n",
       "       -39.25298254, -45.79298113])"
      ]
     },
     "execution_count": 71,
     "metadata": {},
     "output_type": "execute_result"
    }
   ],
   "source": [
    "log_likelihood[0]"
   ]
  },
  {
   "cell_type": "code",
   "execution_count": null,
   "metadata": {
    "collapsed": true
   },
   "outputs": [],
   "source": [
    "for k, v in log_likelihood.items():\n",
    "    "
   ]
  },
  {
   "cell_type": "code",
   "execution_count": null,
   "metadata": {
    "collapsed": true
   },
   "outputs": [],
   "source": []
  },
  {
   "cell_type": "code",
   "execution_count": 21,
   "metadata": {
    "collapsed": true
   },
   "outputs": [],
   "source": [
    "cnt0 = np.load(\n",
    "    '/oak/stanford/groups/mrivas/users/ytanigaw/nanopore-data/prior_count/0.npz', \n",
    ")"
   ]
  },
  {
   "cell_type": "code",
   "execution_count": 60,
   "metadata": {},
   "outputs": [
    {
     "data": {
      "text/plain": [
       "['keys', 'vals']"
      ]
     },
     "execution_count": 60,
     "metadata": {},
     "output_type": "execute_result"
    }
   ],
   "source": [
    "cnt0.files"
   ]
  },
  {
   "cell_type": "code",
   "execution_count": 61,
   "metadata": {},
   "outputs": [
    {
     "data": {
      "text/plain": [
       "(5144, 86)"
      ]
     },
     "execution_count": 61,
     "metadata": {},
     "output_type": "execute_result"
    }
   ],
   "source": [
    "cnt0['keys'].shape"
   ]
  },
  {
   "cell_type": "code",
   "execution_count": 62,
   "metadata": {},
   "outputs": [
    {
     "data": {
      "text/plain": [
       "(5144,)"
      ]
     },
     "execution_count": 62,
     "metadata": {},
     "output_type": "execute_result"
    }
   ],
   "source": [
    "cnt0['vals'].shape"
   ]
  },
  {
   "cell_type": "code",
   "execution_count": null,
   "metadata": {
    "collapsed": true
   },
   "outputs": [],
   "source": []
  },
  {
   "cell_type": "code",
   "execution_count": 66,
   "metadata": {},
   "outputs": [
    {
     "data": {
      "text/plain": [
       "(5144, 9)"
      ]
     },
     "execution_count": 66,
     "metadata": {},
     "output_type": "execute_result"
    }
   ],
   "source": [
    "cnt0['keys'][:, 0:9].shape"
   ]
  },
  {
   "cell_type": "code",
   "execution_count": 76,
   "metadata": {},
   "outputs": [
    {
     "data": {
      "text/plain": [
       "(5144, 9)"
      ]
     },
     "execution_count": 76,
     "metadata": {},
     "output_type": "execute_result"
    }
   ],
   "source": [
    "(cnt0['keys'][:, 0:9] != find_observation(line)).shape"
   ]
  },
  {
   "cell_type": "code",
   "execution_count": 77,
   "metadata": {},
   "outputs": [
    {
     "data": {
      "text/plain": [
       "array([[False, False, False, False,  True, False, False,  True, False]], dtype=bool)"
      ]
     },
     "execution_count": 77,
     "metadata": {},
     "output_type": "execute_result"
    }
   ],
   "source": [
    "cnt0['keys'][0, 0:9] != find_observation(line)"
   ]
  },
  {
   "cell_type": "code",
   "execution_count": 78,
   "metadata": {},
   "outputs": [
    {
     "data": {
      "text/plain": [
       "array([1, 1, 1, 1, 0, 1, 1, 1, 1], dtype=int8)"
      ]
     },
     "execution_count": 78,
     "metadata": {},
     "output_type": "execute_result"
    }
   ],
   "source": [
    "cnt0['keys'][0, 0:9]"
   ]
  },
  {
   "cell_type": "code",
   "execution_count": 79,
   "metadata": {},
   "outputs": [
    {
     "data": {
      "text/plain": [
       "array([[1, 1, 1, 1, 1, 1, 1, 0, 1]], dtype=int8)"
      ]
     },
     "execution_count": 79,
     "metadata": {},
     "output_type": "execute_result"
    }
   ],
   "source": [
    "find_observation(line)"
   ]
  },
  {
   "cell_type": "code",
   "execution_count": 81,
   "metadata": {
    "collapsed": true
   },
   "outputs": [],
   "source": [
    "mismatchs = np.sum(cnt0['keys'][:, 0:9] != find_observation(line), axis=1)"
   ]
  },
  {
   "cell_type": "code",
   "execution_count": 85,
   "metadata": {},
   "outputs": [
    {
     "data": {
      "text/plain": [
       "(array([    4.,  1766.,  1094.,  1344.,   438.,   284.,   214.,     0.,\n",
       "            0.]),\n",
       " array([0, 1, 2, 3, 4, 5, 6, 7, 8, 9]),\n",
       " <a list of 9 Patch objects>)"
      ]
     },
     "execution_count": 85,
     "metadata": {},
     "output_type": "execute_result"
    },
    {
     "data": {
      "image/png": "[encoded data removed]",
      "text/plain": [
       "<matplotlib.figure.Figure at 0x7f71f2766750>"
      ]
     },
     "metadata": {},
     "output_type": "display_data"
    }
   ],
   "source": [
    "plt.hist(mismatchs, bins=range(0, 10))"
   ]
  },
  {
   "cell_type": "code",
   "execution_count": null,
   "metadata": {
    "collapsed": true
   },
   "outputs": [],
   "source": []
  }
 ],
 "metadata": {
  "kernelspec": {
   "display_name": "dev27",
   "language": "python",
   "name": "dev27"
  },
  "language_info": {
   "codemirror_mode": {
    "name": "ipython",
    "version": 2
   },
   "file_extension": ".py",
   "mimetype": "text/x-python",
   "name": "python",
   "nbconvert_exporter": "python",
   "pygments_lexer": "ipython2",
   "version": "2.7.13"
  }
 },
 "nbformat": 4,
 "nbformat_minor": 2
}
