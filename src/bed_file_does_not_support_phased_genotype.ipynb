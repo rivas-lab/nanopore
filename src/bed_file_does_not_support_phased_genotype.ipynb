{
 "cells": [
  {
   "cell_type": "code",
   "execution_count": 1,
   "metadata": {
    "collapsed": true
   },
   "outputs": [],
   "source": [
    "%matplotlib inline\n",
    "\n",
    "from __future__ import print_function\n",
    "\n",
    "import sys\n",
    "import logging\n",
    "from logging.config import dictConfig\n",
    "import numpy as np\n",
    "import pandas as pd\n",
    "import matplotlib\n",
    "import matplotlib.pyplot as plt\n",
    "import matplotlib.gridspec as gridspec\n",
    "import itertools as it\n",
    "import collections as cl\n",
    "# import multiprocessing\n",
    "# import bisect\n",
    "\n",
    "# from numba import jit\n",
    "\n",
    "import pgenlib as pg\n",
    "\n",
    "logging_config = dict(\n",
    "    version = 1,\n",
    "    formatters = {\n",
    "        'f': {'format':\n",
    "              '%(asctime)s %(name)-12s %(levelname)-8s %(message)s'}\n",
    "        },\n",
    "    handlers = {\n",
    "        'h': {'class': 'logging.StreamHandler',\n",
    "              'formatter': 'f',\n",
    "              'level': logging.DEBUG}\n",
    "        },\n",
    "    root = {\n",
    "        'handlers': ['h'],\n",
    "        'level': logging.DEBUG,\n",
    "        },\n",
    ")\n",
    "dictConfig(logging_config)"
   ]
  },
  {
   "cell_type": "code",
   "execution_count": 2,
   "metadata": {
    "collapsed": true
   },
   "outputs": [],
   "source": [
    "validation_dir = '/oak/stanford/groups/mrivas/users/ytanigaw/nanopore-data/NA12878'\n",
    "validation_file = 'NA12878-chr20-snv-biallelic-pg.pgen'"
   ]
  },
  {
   "cell_type": "code",
   "execution_count": 7,
   "metadata": {
    "collapsed": true
   },
   "outputs": [],
   "source": [
    "validation_file2 = 'NA12878-chr20-snv-biallelic-pg-direct.pgen'"
   ]
  },
  {
   "cell_type": "code",
   "execution_count": 3,
   "metadata": {},
   "outputs": [
    {
     "name": "stdout",
     "output_type": "stream",
     "text": [
      "PLINK v1.90b3.45 64-bit (13 Jan 2017)\r\n",
      "Options in effect:\r\n",
      "  --biallelic-only strict\r\n",
      "  --chr 20\r\n",
      "  --make-bed\r\n",
      "  --out /oak/stanford/groups/mrivas/users/ytanigaw/nanopore-data/NA12878/NA12878-chr20-snv-biallelic\r\n",
      "  --snps-only just-acgt\r\n",
      "  --vcf NA12878.vcf.gz\r\n",
      "\r\n",
      "Hostname: sh-102-07.int\r\n",
      "Working directory: /oak/stanford/groups/mrivas/users/ytanigaw/nanopore-data/NA12878\r\n",
      "Start time: Sat Jul  1 14:38:35 2017\r\n",
      "\r\n",
      "Random number seed: 1498945115\r\n",
      "257674 MB RAM detected; reserving 128837 MB for main workspace.\r\n",
      "--vcf:\r\n",
      "/oak/stanford/groups/mrivas/users/ytanigaw/nanopore-data/NA12878/NA12878-chr20-snv-biallelic-temporary.bed\r\n",
      "+\r\n",
      "/oak/stanford/groups/mrivas/users/ytanigaw/nanopore-data/NA12878/NA12878-chr20-snv-biallelic-temporary.bim\r\n",
      "+\r\n",
      "/oak/stanford/groups/mrivas/users/ytanigaw/nanopore-data/NA12878/NA12878-chr20-snv-biallelic-temporary.fam\r\n",
      "written.\r\n",
      "(3965553 variants skipped.)\r\n",
      "73398 out of 83959 variants loaded from .bim file.\r\n",
      "1 person (0 males, 0 females, 1 ambiguous) loaded from .fam.\r\n",
      "Ambiguous sex ID written to\r\n",
      "/oak/stanford/groups/mrivas/users/ytanigaw/nanopore-data/NA12878/NA12878-chr20-snv-biallelic.nosex\r\n",
      ".\r\n",
      "Using 1 thread (no multithreaded calculations invoked).\r\n",
      "Before main variant filters, 1 founder and 0 nonfounders present.\r\n",
      "Calculating allele frequencies... done.\r\n",
      "73398 variants and 1 person pass filters and QC.\r\n",
      "Note: No phenotypes present.\r\n",
      "--make-bed to\r\n",
      "/oak/stanford/groups/mrivas/users/ytanigaw/nanopore-data/NA12878/NA12878-chr20-snv-biallelic.bed\r\n",
      "+\r\n",
      "/oak/stanford/groups/mrivas/users/ytanigaw/nanopore-data/NA12878/NA12878-chr20-snv-biallelic.bim\r\n",
      "+\r\n",
      "/oak/stanford/groups/mrivas/users/ytanigaw/nanopore-data/NA12878/NA12878-chr20-snv-biallelic.fam\r\n",
      "... done.\r\n",
      "\r\n",
      "End time: Sat Jul  1 14:38:36 2017\r\n"
     ]
    }
   ],
   "source": [
    "!cat $validation_dir/NA12878-chr20-snv-biallelic.log"
   ]
  },
  {
   "cell_type": "code",
   "execution_count": 4,
   "metadata": {},
   "outputs": [
    {
     "name": "stdout",
     "output_type": "stream",
     "text": [
      "PLINK v2.00aLM 64-bit Intel (5 Jun 2017)\r\n",
      "Options in effect:\r\n",
      "  --bfile /oak/stanford/groups/mrivas/users/ytanigaw/nanopore-data/NA12878/NA12878-chr20-snv-biallelic\r\n",
      "  --make-bpgen\r\n",
      "  --out /oak/stanford/groups/mrivas/users/ytanigaw/nanopore-data/NA12878/NA12878-chr20-snv-biallelic-pg\r\n",
      "\r\n",
      "Hostname: sh-102-07.int\r\n",
      "Working directory: /oak/stanford/groups/mrivas/users/ytanigaw/nanopore-data/NA12878\r\n",
      "Start time: Sat Jul  1 14:39:20 2017\r\n",
      "\r\n",
      "Random number seed: 1498945160\r\n",
      "257674 MB RAM detected; reserving 128837 MB for main workspace.\r\n",
      "Using up to 20 threads (change this with --threads).\r\n",
      "1 sample (0 females, 0 males, 1 ambiguous; 1 founder) loaded from\r\n",
      "/oak/stanford/groups/mrivas/users/ytanigaw/nanopore-data/NA12878/NA12878-chr20-snv-biallelic.fam.\r\n",
      "73398 variants loaded from\r\n",
      "/oak/stanford/groups/mrivas/users/ytanigaw/nanopore-data/NA12878/NA12878-chr20-snv-biallelic.bim.\r\n",
      "Note: No phenotype data present.\r\n",
      "Writing\r\n",
      "/oak/stanford/groups/mrivas/users/ytanigaw/nanopore-data/NA12878/NA12878-chr20-snv-biallelic-pg.pgen\r\n",
      "... done.\r\n",
      "Writing\r\n",
      "/oak/stanford/groups/mrivas/users/ytanigaw/nanopore-data/NA12878/NA12878-chr20-snv-biallelic-pg.bim\r\n",
      "... done.\r\n",
      "Writing\r\n",
      "/oak/stanford/groups/mrivas/users/ytanigaw/nanopore-data/NA12878/NA12878-chr20-snv-biallelic-pg.fam\r\n",
      "... done.\r\n",
      "\r\n",
      "End time: Sat Jul  1 14:39:20 2017\r\n"
     ]
    }
   ],
   "source": [
    "!cat $validation_dir/NA12878-chr20-snv-biallelic-pg.log"
   ]
  },
  {
   "cell_type": "code",
   "execution_count": 5,
   "metadata": {
    "collapsed": true
   },
   "outputs": [],
   "source": [
    "na12878 = pg.PgenReader('{}/{}'.format(validation_dir, validation_file))"
   ]
  },
  {
   "cell_type": "code",
   "execution_count": 6,
   "metadata": {},
   "outputs": [
    {
     "data": {
      "text/plain": [
       "False"
      ]
     },
     "execution_count": 6,
     "metadata": {},
     "output_type": "execute_result"
    }
   ],
   "source": [
    "na12878.hardcall_phase_present()"
   ]
  },
  {
   "cell_type": "code",
   "execution_count": 10,
   "metadata": {},
   "outputs": [
    {
     "name": "stdout",
     "output_type": "stream",
     "text": [
      "PLINK v2.00aLM 64-bit Intel (5 Jun 2017)\r\n",
      "Options in effect:\r\n",
      "  --chr 20\r\n",
      "  --make-bpgen\r\n",
      "  --out /oak/stanford/groups/mrivas/users/ytanigaw/nanopore-data/NA12878/NA12878-chr20-snv-biallelic-pg-direct\r\n",
      "  --snps-only just-acgt\r\n",
      "  --vcf NA12878.vcf.gz\r\n",
      "\r\n",
      "Hostname: sh-102-07.int\r\n",
      "Working directory: /oak/stanford/groups/mrivas/users/ytanigaw/nanopore-data/NA12878\r\n",
      "Start time: Sat Jul  1 15:16:38 2017\r\n",
      "\r\n",
      "Random number seed: 1498947398\r\n",
      "257674 MB RAM detected; reserving 128837 MB for main workspace.\r\n",
      "Using up to 20 threads (change this with --threads).\r\n",
      "--vcf: 83959 variants scanned (3940877 skipped).\r\n",
      "24676 multiallelic variants also skipped (not yet supported).\r\n",
      "--vcf:\r\n",
      "/oak/stanford/groups/mrivas/users/ytanigaw/nanopore-data/NA12878/NA12878-chr20-snv-biallelic-pg-direct-temporary.pgen\r\n",
      "+\r\n",
      "/oak/stanford/groups/mrivas/users/ytanigaw/nanopore-data/NA12878/NA12878-chr20-snv-biallelic-pg-direct-temporary.pvar\r\n",
      "+\r\n",
      "/oak/stanford/groups/mrivas/users/ytanigaw/nanopore-data/NA12878/NA12878-chr20-snv-biallelic-pg-direct-temporary.psam\r\n",
      "written.\r\n",
      "1 sample (0 females, 0 males, 1 ambiguous; 1 founder) loaded from\r\n",
      "/oak/stanford/groups/mrivas/users/ytanigaw/nanopore-data/NA12878/NA12878-chr20-snv-biallelic-pg-direct-temporary.psam.\r\n",
      "73398 out of 83959 variants loaded from\r\n",
      "/oak/stanford/groups/mrivas/users/ytanigaw/nanopore-data/NA12878/NA12878-chr20-snv-biallelic-pg-direct-temporary.pvar.\r\n",
      "Note: No phenotype data present.\r\n",
      "1 sample (0 females, 0 males, 1 ambiguous; 1 founder) remaining after main\r\n",
      "filters.\r\n",
      "73398 variants remaining after main filters.\r\n",
      "Writing\r\n",
      "/oak/stanford/groups/mrivas/users/ytanigaw/nanopore-data/NA12878/NA12878-chr20-snv-biallelic-pg-direct.pgen\r\n",
      "... done.\r\n",
      "Writing\r\n",
      "/oak/stanford/groups/mrivas/users/ytanigaw/nanopore-data/NA12878/NA12878-chr20-snv-biallelic-pg-direct.bim\r\n",
      "... done.\r\n",
      "Writing\r\n",
      "/oak/stanford/groups/mrivas/users/ytanigaw/nanopore-data/NA12878/NA12878-chr20-snv-biallelic-pg-direct.fam\r\n",
      "... done.\r\n",
      "\r\n",
      "End time: Sat Jul  1 15:16:41 2017\r\n"
     ]
    }
   ],
   "source": [
    "!cat $validation_dir/NA12878-chr20-snv-biallelic-pg-direct.log"
   ]
  },
  {
   "cell_type": "code",
   "execution_count": 8,
   "metadata": {
    "collapsed": true
   },
   "outputs": [],
   "source": [
    "na12878_2 = pg.PgenReader('{}/{}'.format(validation_dir, validation_file2))"
   ]
  },
  {
   "cell_type": "code",
   "execution_count": 9,
   "metadata": {},
   "outputs": [
    {
     "data": {
      "text/plain": [
       "True"
      ]
     },
     "execution_count": 9,
     "metadata": {},
     "output_type": "execute_result"
    }
   ],
   "source": [
    "na12878_2.hardcall_phase_present()"
   ]
  },
  {
   "cell_type": "code",
   "execution_count": null,
   "metadata": {
    "collapsed": true
   },
   "outputs": [],
   "source": []
  }
 ],
 "metadata": {
  "kernelspec": {
   "display_name": "dev27",
   "language": "python",
   "name": "dev27"
  },
  "language_info": {
   "codemirror_mode": {
    "name": "ipython",
    "version": 2
   },
   "file_extension": ".py",
   "mimetype": "text/x-python",
   "name": "python",
   "nbconvert_exporter": "python",
   "pygments_lexer": "ipython2",
   "version": "2.7.13"
  }
 },
 "nbformat": 4,
 "nbformat_minor": 2
}
