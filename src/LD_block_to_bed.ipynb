{
 "cells": [
  {
   "cell_type": "markdown",
   "metadata": {},
   "source": [
    "## LD block definition for the nanopore haplotype inference project\n",
    "### Yosuke Tanigawa (2017/7/22)\n",
    "\n",
    "## Summary:\n",
    "This note describes\n",
    "1. PLINK --blocks command to generate .block.det file\n",
    "1. method to generate bed file (region, not the genotype file) for our definition of LD blocks"
   ]
  },
  {
   "cell_type": "code",
   "execution_count": 2,
   "metadata": {
    "collapsed": true
   },
   "outputs": [],
   "source": [
    "%matplotlib inline"
   ]
  },
  {
   "cell_type": "code",
   "execution_count": 3,
   "metadata": {
    "collapsed": true
   },
   "outputs": [],
   "source": [
    "import numpy as np\n",
    "import pandas as pd\n",
    "import matplotlib\n",
    "import matplotlib.pyplot as plt\n",
    "import matplotlib.gridspec as gridspec\n",
    "import itertools as it\n",
    "import bisect"
   ]
  },
  {
   "cell_type": "code",
   "execution_count": 4,
   "metadata": {
    "collapsed": true
   },
   "outputs": [],
   "source": [
    "font = {#'family' : 'normal',\n",
    "        #'weight' : 'bold',\n",
    "        'size'   : 20}\n",
    "matplotlib.rc('font', **font)"
   ]
  },
  {
   "cell_type": "markdown",
   "metadata": {},
   "source": [
    "## 1) PLINK --blocks command\n",
    "- We used plink 1.9 --blocks option to compute the LD blocks\n",
    "- https://www.cog-genomics.org/plink2/ld"
   ]
  },
  {
   "cell_type": "code",
   "execution_count": 1,
   "metadata": {
    "collapsed": false
   },
   "outputs": [
    {
     "name": "stdout",
     "output_type": "stream",
     "text": [
      "PLINK v1.90b3.45 64-bit (13 Jan 2017)\r\n",
      "Options in effect:\r\n",
      "  --bfile /oak/stanford/groups/mrivas/users/ytanigaw/nanopore-data/chr20impv1-keep-maf0005-snv-biallelic\r\n",
      "  --blocks no-pheno-req no-small-max-span\r\n",
      "  --blocks-inform-frac 0.10\r\n",
      "  --blocks-max-kb 1000\r\n",
      "  --blocks-recomb-highci 0.830001\r\n",
      "  --blocks-strong-highci 0.830001\r\n",
      "  --blocks-strong-lowci 0.50001\r\n",
      "  --memory 30000\r\n",
      "  --out /oak/stanford/groups/mrivas/users/ytanigaw/nanopore-data/chr20impv1-keep-maf0005-snv-biallelic-block-stronglow050-stronghigh083-infofrac10\r\n",
      "\r\n",
      "Hostname: sh-102-07.int\r\n",
      "Working directory: /oak/stanford/groups/mrivas/users/ytanigaw/nanopore-data\r\n",
      "Start time: Wed Jun 21 11:11:11 2017\r\n",
      "\r\n",
      "Random number seed: 1498068671\r\n",
      "257674 MB RAM detected; reserving 30000 MB for main workspace.\r\n",
      "205378 variants loaded from .bim file.\r\n",
      "112338 people (0 males, 0 females, 112338 ambiguous) loaded from .fam.\r\n",
      "Ambiguous sex IDs written to\r\n",
      "/oak/stanford/groups/mrivas/users/ytanigaw/nanopore-data/chr20impv1-keep-maf0005-snv-biallelic-block-stronglow050-stronghigh083-infofrac10.nosex\r\n",
      ".\r\n",
      "Using 1 thread (no multithreaded calculations invoked).\r\n",
      "Before main variant filters, 112338 founders and 0 nonfounders present.\r\n",
      "Calculating allele frequencies... done.\r\n",
      "Total genotyping rate is 0.981245.\r\n",
      "205378 variants and 112338 people pass filters and QC.\r\n",
      "Note: No phenotypes present.\r\n",
      "--blocks: 633 haploblocks written to\r\n",
      "/oak/stanford/groups/mrivas/users/ytanigaw/nanopore-data/chr20impv1-keep-maf0005-snv-biallelic-block-stronglow050-stronghigh083-infofrac10.blocks\r\n",
      ".\r\n",
      "Extra block details written to\r\n",
      "/oak/stanford/groups/mrivas/users/ytanigaw/nanopore-data/chr20impv1-keep-maf0005-snv-biallelic-block-stronglow050-stronghigh083-infofrac10.blocks.det\r\n",
      ".\r\n",
      "Longest span: 999.995kb.\r\n",
      "\r\n",
      "End time: Wed Jun 21 12:02:44 2017\r\n"
     ]
    }
   ],
   "source": [
    "!cat /oak/stanford/groups/mrivas/users/ytanigaw/nanopore-data/chr20impv1-keep-maf0005-snv-biallelic-block-stronglow050-stronghigh083-infofrac10.log"
   ]
  },
  {
   "cell_type": "markdown",
   "metadata": {},
   "source": [
    "### blocks.det file\n",
    "- the results of the PLINK 1.9 --blocks command is shown below:"
   ]
  },
  {
   "cell_type": "code",
   "execution_count": 5,
   "metadata": {
    "collapsed": true
   },
   "outputs": [],
   "source": [
    "block_det_f = '{}/{}'.format(\n",
    "    '/oak/stanford/groups/mrivas/users/ytanigaw/nanopore-data',\n",
    "    'chr20impv1-keep-maf0005-snv-biallelic-block-stronglow050-stronghigh083-infofrac10.blocks.det'\n",
    ")"
   ]
  },
  {
   "cell_type": "code",
   "execution_count": 6,
   "metadata": {
    "collapsed": false
   },
   "outputs": [
    {
     "name": "stdout",
     "output_type": "stream",
     "text": [
      "(633, 6)\n"
     ]
    },
    {
     "data": {
      "text/html": [
       "<div>\n",
       "<table border=\"1\" class=\"dataframe\">\n",
       "  <thead>\n",
       "    <tr style=\"text-align: right;\">\n",
       "      <th></th>\n",
       "      <th>CHR</th>\n",
       "      <th>BP1</th>\n",
       "      <th>BP2</th>\n",
       "      <th>KB</th>\n",
       "      <th>NSNPS</th>\n",
       "      <th>SNPS</th>\n",
       "    </tr>\n",
       "  </thead>\n",
       "  <tbody>\n",
       "    <tr>\n",
       "      <th>0</th>\n",
       "      <td>20</td>\n",
       "      <td>62731</td>\n",
       "      <td>93931</td>\n",
       "      <td>31.201</td>\n",
       "      <td>37</td>\n",
       "      <td>rs34147676|rs6139074|rs1418258|rs13043000|rs60...</td>\n",
       "    </tr>\n",
       "    <tr>\n",
       "      <th>1</th>\n",
       "      <td>20</td>\n",
       "      <td>94952</td>\n",
       "      <td>266511</td>\n",
       "      <td>171.560</td>\n",
       "      <td>558</td>\n",
       "      <td>rs1857092|rs80192833|rs6052070|rs6515824|rs605...</td>\n",
       "    </tr>\n",
       "    <tr>\n",
       "      <th>2</th>\n",
       "      <td>20</td>\n",
       "      <td>266792</td>\n",
       "      <td>286587</td>\n",
       "      <td>19.796</td>\n",
       "      <td>53</td>\n",
       "      <td>rs6137140|rs6082182|rs6082191|rs6082211|rs6075...</td>\n",
       "    </tr>\n",
       "    <tr>\n",
       "      <th>3</th>\n",
       "      <td>20</td>\n",
       "      <td>286803</td>\n",
       "      <td>347590</td>\n",
       "      <td>60.788</td>\n",
       "      <td>134</td>\n",
       "      <td>rs75995757|rs6082812|rs7263296|rs6082826|rs116...</td>\n",
       "    </tr>\n",
       "    <tr>\n",
       "      <th>4</th>\n",
       "      <td>20</td>\n",
       "      <td>347650</td>\n",
       "      <td>347896</td>\n",
       "      <td>0.247</td>\n",
       "      <td>7</td>\n",
       "      <td>rs6084216|rs78588403|rs77299528|rs75767817|rs7...</td>\n",
       "    </tr>\n",
       "  </tbody>\n",
       "</table>\n",
       "</div>"
      ],
      "text/plain": [
       "   CHR     BP1     BP2       KB  NSNPS  \\\n",
       "0   20   62731   93931   31.201     37   \n",
       "1   20   94952  266511  171.560    558   \n",
       "2   20  266792  286587   19.796     53   \n",
       "3   20  286803  347590   60.788    134   \n",
       "4   20  347650  347896    0.247      7   \n",
       "\n",
       "                                                SNPS  \n",
       "0  rs34147676|rs6139074|rs1418258|rs13043000|rs60...  \n",
       "1  rs1857092|rs80192833|rs6052070|rs6515824|rs605...  \n",
       "2  rs6137140|rs6082182|rs6082191|rs6082211|rs6075...  \n",
       "3  rs75995757|rs6082812|rs7263296|rs6082826|rs116...  \n",
       "4  rs6084216|rs78588403|rs77299528|rs75767817|rs7...  "
      ]
     },
     "execution_count": 6,
     "metadata": {},
     "output_type": "execute_result"
    }
   ],
   "source": [
    "block_det = pd.read_csv(block_det_f, sep='\\s+')\n",
    "print(block_det.shape)\n",
    "block_det.head()"
   ]
  },
  {
   "cell_type": "markdown",
   "metadata": {},
   "source": [
    "### The mean and median of size and # SNPs\n",
    "- Here, SNPs with 5% + is used to define our blocks"
   ]
  },
  {
   "cell_type": "code",
   "execution_count": 7,
   "metadata": {
    "collapsed": false
   },
   "outputs": [
    {
     "data": {
      "text/plain": [
       "(93.5060821484993, 22.959)"
      ]
     },
     "execution_count": 7,
     "metadata": {},
     "output_type": "execute_result"
    }
   ],
   "source": [
    "np.mean(block_det.KB), np.median(block_det.KB)"
   ]
  },
  {
   "cell_type": "code",
   "execution_count": 8,
   "metadata": {
    "collapsed": false
   },
   "outputs": [
    {
     "data": {
      "text/plain": [
       "(206.67140600315955, 53.0)"
      ]
     },
     "execution_count": 8,
     "metadata": {},
     "output_type": "execute_result"
    }
   ],
   "source": [
    "np.mean(block_det.NSNPS), np.median(block_det.NSNPS)"
   ]
  },
  {
   "cell_type": "code",
   "execution_count": 9,
   "metadata": {
    "collapsed": false
   },
   "outputs": [
    {
     "data": {
      "image/png": "[encoded data removed]",
      "text/plain": [
       "<matplotlib.figure.Figure at 0x7fd5bec70710>"
      ]
     },
     "metadata": {},
     "output_type": "display_data"
    }
   ],
   "source": [
    "fig = plt.figure(figsize=(10, 5))\n",
    "gs = gridspec.GridSpec(1, 2)\n",
    "axs = [fig.add_subplot(ss) for ss in gs]\n",
    "axs[0].hist(block_det.KB)\n",
    "axs[1].hist(block_det.NSNPS)\n",
    "axs[0].set_xlabel('size of the LD block (kbp)')\n",
    "axs[1].set_xlabel('size of the LD block (# SNPs)')\n",
    "axs[0].set_ylabel('freq')\n",
    "axs[1].set_ylabel('freq')\n",
    "# axs[0].set_title('')\n",
    "# axs[1].set_title('')\n",
    "# fig_conf_curves.suptitle('')\n",
    "gs.tight_layout(fig, rect=[0, 0, 1, 0.88])"
   ]
  },
  {
   "cell_type": "markdown",
   "metadata": {},
   "source": [
    "## 2) conver to bed file\n",
    "### motivation\n",
    "- The blocks we found in the previous step does not fully cover the chromosome\n",
    "\n",
    "### method\n",
    "- Given the block.det file and bim file (that has all the SNPs we consider), we *define* LD-based blocks\n",
    "- block.det is essentially a list of intervals [[BP1_1, BP2_1), [BP1_2, BP2_2), ... , [BP1_n, BP2_n)]\n",
    "  - [x, y) denotes semi-open intervals where x is included in the interval while y isn't\n",
    "- Our definition of the blocks are: [[0, BP1_2), [BP1_2, BP1_3), [BP1_3, BP1_4), ... , [BP1_{n-1}, BP1_n), [BP1_{n-1}, end_of_chromosome]]"
   ]
  },
  {
   "cell_type": "code",
   "execution_count": 10,
   "metadata": {
    "collapsed": true
   },
   "outputs": [],
   "source": [
    "bim_f = '/oak/stanford/groups/mrivas/users/ytanigaw/nanopore-data/chr20impv1-keep-maf0005-snv-biallelic.bim'"
   ]
  },
  {
   "cell_type": "code",
   "execution_count": 11,
   "metadata": {
    "collapsed": false
   },
   "outputs": [
    {
     "name": "stdout",
     "output_type": "stream",
     "text": [
      "(205378, 6)\n"
     ]
    },
    {
     "data": {
      "text/html": [
       "<div>\n",
       "<table border=\"1\" class=\"dataframe\">\n",
       "  <thead>\n",
       "    <tr style=\"text-align: right;\">\n",
       "      <th></th>\n",
       "      <th>chr</th>\n",
       "      <th>rsid</th>\n",
       "      <th>genetic_dist</th>\n",
       "      <th>pos</th>\n",
       "      <th>a1</th>\n",
       "      <th>a2</th>\n",
       "    </tr>\n",
       "  </thead>\n",
       "  <tbody>\n",
       "    <tr>\n",
       "      <th>205373</th>\n",
       "      <td>20</td>\n",
       "      <td>rs578065922</td>\n",
       "      <td>0</td>\n",
       "      <td>62957957</td>\n",
       "      <td>A</td>\n",
       "      <td>G</td>\n",
       "    </tr>\n",
       "    <tr>\n",
       "      <th>205374</th>\n",
       "      <td>20</td>\n",
       "      <td>rs146252638</td>\n",
       "      <td>0</td>\n",
       "      <td>62958306</td>\n",
       "      <td>T</td>\n",
       "      <td>C</td>\n",
       "    </tr>\n",
       "    <tr>\n",
       "      <th>205375</th>\n",
       "      <td>20</td>\n",
       "      <td>rs11698187</td>\n",
       "      <td>0</td>\n",
       "      <td>62960292</td>\n",
       "      <td>G</td>\n",
       "      <td>A</td>\n",
       "    </tr>\n",
       "    <tr>\n",
       "      <th>205376</th>\n",
       "      <td>20</td>\n",
       "      <td>rs140775622</td>\n",
       "      <td>0</td>\n",
       "      <td>62962869</td>\n",
       "      <td>T</td>\n",
       "      <td>C</td>\n",
       "    </tr>\n",
       "    <tr>\n",
       "      <th>205377</th>\n",
       "      <td>20</td>\n",
       "      <td>rs542224338</td>\n",
       "      <td>0</td>\n",
       "      <td>62963102</td>\n",
       "      <td>C</td>\n",
       "      <td>T</td>\n",
       "    </tr>\n",
       "  </tbody>\n",
       "</table>\n",
       "</div>"
      ],
      "text/plain": [
       "        chr         rsid  genetic_dist       pos a1 a2\n",
       "205373   20  rs578065922             0  62957957  A  G\n",
       "205374   20  rs146252638             0  62958306  T  C\n",
       "205375   20   rs11698187             0  62960292  G  A\n",
       "205376   20  rs140775622             0  62962869  T  C\n",
       "205377   20  rs542224338             0  62963102  C  T"
      ]
     },
     "execution_count": 11,
     "metadata": {},
     "output_type": "execute_result"
    }
   ],
   "source": [
    "bim = pd.read_csv(bim_f, sep='\\t', names=['chr', 'rsid', 'genetic_dist', 'pos', 'a1', 'a2'])\n",
    "print(bim.shape)\n",
    "bim.tail()"
   ]
  },
  {
   "cell_type": "markdown",
   "metadata": {},
   "source": [
    "- bim file is 1-indexed"
   ]
  },
  {
   "cell_type": "markdown",
   "metadata": {},
   "source": [
    "- check several statistics"
   ]
  },
  {
   "cell_type": "code",
   "execution_count": 13,
   "metadata": {
    "collapsed": false
   },
   "outputs": [
    {
     "data": {
      "text/plain": [
       "(62731, 62962869, 61098, 62963102, 633, 205378)"
      ]
     },
     "execution_count": 13,
     "metadata": {},
     "output_type": "execute_result"
    }
   ],
   "source": [
    "block_det.BP1[0], block_det.BP2[len(block_det) - 1], bim.pos[0], bim.pos[len(bim) -1], len(block_det), len(bim)"
   ]
  },
  {
   "cell_type": "markdown",
   "metadata": {},
   "source": [
    "- convert to intervals that cover the entire chromosome"
   ]
  },
  {
   "cell_type": "code",
   "execution_count": 14,
   "metadata": {
    "collapsed": true
   },
   "outputs": [],
   "source": [
    "interval_points = np.zeros(len(block_det) + 1, dtype=np.int)\n",
    "interval_points[1:-1] = block_det.BP1.as_matrix()[1:]\n",
    "interval_points[0] = bim.pos[0] - 1\n",
    "interval_points[-1] = bim.pos[len(bim) -1] - 1"
   ]
  },
  {
   "cell_type": "markdown",
   "metadata": {},
   "source": [
    "- we also want to store the intervals on bim-id space"
   ]
  },
  {
   "cell_type": "code",
   "execution_count": 16,
   "metadata": {
    "collapsed": false
   },
   "outputs": [
    {
     "data": {
      "text/plain": [
       "array([   61097,    61269,    61794, ..., 62960291, 62962868, 62963101])"
      ]
     },
     "execution_count": 16,
     "metadata": {},
     "output_type": "execute_result"
    }
   ],
   "source": [
    "bim_pos_0index = bim.pos.map(lambda x: x - 1).as_matrix()\n",
    "bim_pos_0index"
   ]
  },
  {
   "cell_type": "code",
   "execution_count": 17,
   "metadata": {
    "collapsed": false
   },
   "outputs": [
    {
     "data": {
      "text/plain": [
       "array([   0,   86,  938, 1008, 1291, 1303, 1308, 1414, 1505, 1974])"
      ]
     },
     "execution_count": 17,
     "metadata": {},
     "output_type": "execute_result"
    }
   ],
   "source": [
    "interval_points_bimid = np.array([bisect.bisect_left(bim_pos_0index, x) for x in interval_points])\n",
    "interval_points_bimid[:10]"
   ]
  },
  {
   "cell_type": "markdown",
   "metadata": {},
   "source": [
    "### the results are represented as a data frame and stored in a bed file"
   ]
  },
  {
   "cell_type": "code",
   "execution_count": 18,
   "metadata": {
    "collapsed": false
   },
   "outputs": [],
   "source": [
    "bed_df = pd.DataFrame({\n",
    "    'chrom': ['chr20'] * len(block_det),\n",
    "    'chromStart': interval_points[:-1],\n",
    "    'chromEnd':   interval_points[1:],\n",
    "    'bimIdStart': interval_points_bimid[:-1],\n",
    "    'bimIdEnd':   interval_points_bimid[1:]\n",
    "})"
   ]
  },
  {
   "cell_type": "code",
   "execution_count": 19,
   "metadata": {
    "collapsed": false
   },
   "outputs": [],
   "source": [
    "bed_df['name'] = ['{}:{}'.format(bed_df.bimIdStart[x], bed_df.bimIdEnd[x]) for x in range(len(bed_df))]"
   ]
  },
  {
   "cell_type": "code",
   "execution_count": 20,
   "metadata": {
    "collapsed": false
   },
   "outputs": [
    {
     "name": "stdout",
     "output_type": "stream",
     "text": [
      "(633, 6)\n",
      "   bimIdEnd  bimIdStart  chrom  chromEnd  chromStart       name\n",
      "0        86           0  chr20     94952       61097       0:86\n",
      "1       938          86  chr20    266792       94952     86:938\n",
      "2      1008         938  chr20    286803      266792   938:1008\n",
      "3      1291        1008  chr20    347650      286803  1008:1291\n",
      "4      1303        1291  chr20    348319      347650  1291:1303\n",
      "     bimIdEnd  bimIdStart  chrom  chromEnd  chromStart           name\n",
      "628    202477      201404  chr20  62191558    61992467  201404:202477\n",
      "629    203822      202477  chr20  62480243    62191558  202477:203822\n",
      "630    203953      203822  chr20  62516236    62480243  203822:203953\n",
      "631    205372      203953  chr20  62955706    62516236  203953:205372\n",
      "632    205377      205372  chr20  62963101    62955706  205372:205377\n"
     ]
    }
   ],
   "source": [
    "print(bed_df.shape)\n",
    "print(bed_df.head())\n",
    "print(bed_df.tail())"
   ]
  },
  {
   "cell_type": "code",
   "execution_count": 21,
   "metadata": {
    "collapsed": false
   },
   "outputs": [
    {
     "name": "stdout",
     "output_type": "stream",
     "text": [
      "/oak/stanford/groups/mrivas/users/ytanigaw/nanopore-data/chr20impv1-keep-maf0005-snv-biallelic-block-stronglow050-stronghigh083-infofrac10.bed\n"
     ]
    }
   ],
   "source": [
    "bed_f = '{}.bed'.format(block_det_f[:-11])\n",
    "print(bed_f)"
   ]
  },
  {
   "cell_type": "code",
   "execution_count": 22,
   "metadata": {
    "collapsed": false
   },
   "outputs": [],
   "source": [
    "bed_df[['chrom', 'chromStart', 'chromEnd', 'name']].to_csv(bed_f, header=False, index=False, sep='\\t')"
   ]
  },
  {
   "cell_type": "code",
   "execution_count": 23,
   "metadata": {
    "collapsed": false
   },
   "outputs": [
    {
     "name": "stdout",
     "output_type": "stream",
     "text": [
      "chr20\t61097\t94952\t0:86\r\n",
      "chr20\t94952\t266792\t86:938\r\n",
      "chr20\t266792\t286803\t938:1008\r\n",
      "chr20\t286803\t347650\t1008:1291\r\n",
      "chr20\t347650\t348319\t1291:1303\r\n",
      "chr20\t348319\t349118\t1303:1308\r\n",
      "chr20\t349118\t362067\t1308:1414\r\n",
      "chr20\t362067\t381670\t1414:1505\r\n",
      "chr20\t381670\t536536\t1505:1974\r\n",
      "chr20\t536536\t546178\t1974:2029\r\n"
     ]
    }
   ],
   "source": [
    "!head $bed_f"
   ]
  },
  {
   "cell_type": "markdown",
   "metadata": {},
   "source": [
    "### the size of the blocks"
   ]
  },
  {
   "cell_type": "code",
   "execution_count": 24,
   "metadata": {
    "collapsed": true
   },
   "outputs": [],
   "source": [
    "bed_df['len'] = bed_df.chromEnd - bed_df.chromStart\n",
    "bed_df['nSNPs'] = bed_df.bimIdEnd - bed_df.bimIdStart"
   ]
  },
  {
   "cell_type": "code",
   "execution_count": 29,
   "metadata": {
    "collapsed": false
   },
   "outputs": [
    {
     "name": "stdout",
     "output_type": "stream",
     "text": [
      "93.5060821484993 22.959\n",
      "99.37125434439182 23.962\n"
     ]
    }
   ],
   "source": [
    "print(np.mean(block_det.KB), np.median(block_det.KB))\n",
    "print(np.mean(bed_df.len/1000), np.median(bed_df.len/1000))"
   ]
  },
  {
   "cell_type": "code",
   "execution_count": 25,
   "metadata": {
    "collapsed": false
   },
   "outputs": [
    {
     "data": {
      "image/png": "[encoded data removed]",
      "text/plain": [
       "<matplotlib.figure.Figure at 0x7fd5b8cffcf8>"
      ]
     },
     "metadata": {},
     "output_type": "display_data"
    }
   ],
   "source": [
    "fig = plt.figure(figsize=(10, 10))\n",
    "gs = gridspec.GridSpec(2, 2)\n",
    "axs = [fig.add_subplot(ss) for ss in gs]\n",
    "axs[0].hist(block_det.KB)\n",
    "axs[1].hist(block_det.NSNPS)\n",
    "axs[2].hist(bed_df.len/1000)\n",
    "axs[3].hist(bed_df.nSNPs)\n",
    "axs[0].set_xlabel('plink LD block size (kbp)')\n",
    "axs[1].set_xlabel('plink LD block size (# SNPs)')\n",
    "axs[2].set_xlabel('defined LD block size (kbp)')\n",
    "axs[3].set_xlabel('defined LD block size (# SNPs)')\n",
    "for ax in axs:\n",
    "    ax.set_ylabel('freq')\n",
    "gs.tight_layout(fig, rect=[0, 0, 1, 0.88])"
   ]
  },
  {
   "cell_type": "markdown",
   "metadata": {
    "collapsed": true
   },
   "source": [
    "### The smallest blocks ( top 5 )"
   ]
  },
  {
   "cell_type": "code",
   "execution_count": 60,
   "metadata": {
    "collapsed": false
   },
   "outputs": [
    {
     "data": {
      "text/html": [
       "<div>\n",
       "<table border=\"1\" class=\"dataframe\">\n",
       "  <thead>\n",
       "    <tr style=\"text-align: right;\">\n",
       "      <th></th>\n",
       "      <th>bimIdEnd</th>\n",
       "      <th>bimIdStart</th>\n",
       "      <th>chrom</th>\n",
       "      <th>chromEnd</th>\n",
       "      <th>chromStart</th>\n",
       "      <th>name</th>\n",
       "      <th>len</th>\n",
       "      <th>nSNPs</th>\n",
       "    </tr>\n",
       "  </thead>\n",
       "  <tbody>\n",
       "    <tr>\n",
       "      <th>21</th>\n",
       "      <td>3727</td>\n",
       "      <td>3724</td>\n",
       "      <td>chr20</td>\n",
       "      <td>890096</td>\n",
       "      <td>889869</td>\n",
       "      <td>3724:3727</td>\n",
       "      <td>227</td>\n",
       "      <td>3</td>\n",
       "    </tr>\n",
       "    <tr>\n",
       "      <th>491</th>\n",
       "      <td>171528</td>\n",
       "      <td>171523</td>\n",
       "      <td>chr20</td>\n",
       "      <td>54542872</td>\n",
       "      <td>54542622</td>\n",
       "      <td>171523:171528</td>\n",
       "      <td>250</td>\n",
       "      <td>5</td>\n",
       "    </tr>\n",
       "    <tr>\n",
       "      <th>95</th>\n",
       "      <td>22385</td>\n",
       "      <td>22374</td>\n",
       "      <td>chr20</td>\n",
       "      <td>5646842</td>\n",
       "      <td>5646531</td>\n",
       "      <td>22374:22385</td>\n",
       "      <td>311</td>\n",
       "      <td>11</td>\n",
       "    </tr>\n",
       "    <tr>\n",
       "      <th>584</th>\n",
       "      <td>190319</td>\n",
       "      <td>190314</td>\n",
       "      <td>chr20</td>\n",
       "      <td>59562420</td>\n",
       "      <td>59562077</td>\n",
       "      <td>190314:190319</td>\n",
       "      <td>343</td>\n",
       "      <td>5</td>\n",
       "    </tr>\n",
       "    <tr>\n",
       "      <th>92</th>\n",
       "      <td>21748</td>\n",
       "      <td>21744</td>\n",
       "      <td>chr20</td>\n",
       "      <td>5474271</td>\n",
       "      <td>5473898</td>\n",
       "      <td>21744:21748</td>\n",
       "      <td>373</td>\n",
       "      <td>4</td>\n",
       "    </tr>\n",
       "  </tbody>\n",
       "</table>\n",
       "</div>"
      ],
      "text/plain": [
       "     bimIdEnd  bimIdStart  chrom  chromEnd  chromStart           name  len  \\\n",
       "21       3727        3724  chr20    890096      889869      3724:3727  227   \n",
       "491    171528      171523  chr20  54542872    54542622  171523:171528  250   \n",
       "95      22385       22374  chr20   5646842     5646531    22374:22385  311   \n",
       "584    190319      190314  chr20  59562420    59562077  190314:190319  343   \n",
       "92      21748       21744  chr20   5474271     5473898    21744:21748  373   \n",
       "\n",
       "     nSNPs  \n",
       "21       3  \n",
       "491      5  \n",
       "95      11  \n",
       "584      5  \n",
       "92       4  "
      ]
     },
     "execution_count": 60,
     "metadata": {},
     "output_type": "execute_result"
    }
   ],
   "source": [
    "bed_df.sort_values(by='len').head()"
   ]
  },
  {
   "cell_type": "markdown",
   "metadata": {},
   "source": [
    "### The largest blocks (top 5)"
   ]
  },
  {
   "cell_type": "code",
   "execution_count": 26,
   "metadata": {
    "collapsed": false
   },
   "outputs": [
    {
     "data": {
      "text/html": [
       "<div>\n",
       "<table border=\"1\" class=\"dataframe\">\n",
       "  <thead>\n",
       "    <tr style=\"text-align: right;\">\n",
       "      <th></th>\n",
       "      <th>bimIdEnd</th>\n",
       "      <th>bimIdStart</th>\n",
       "      <th>chrom</th>\n",
       "      <th>chromEnd</th>\n",
       "      <th>chromStart</th>\n",
       "      <th>name</th>\n",
       "      <th>len</th>\n",
       "      <th>nSNPs</th>\n",
       "    </tr>\n",
       "  </thead>\n",
       "  <tbody>\n",
       "    <tr>\n",
       "      <th>295</th>\n",
       "      <td>95254</td>\n",
       "      <td>94732</td>\n",
       "      <td>chr20</td>\n",
       "      <td>29420066</td>\n",
       "      <td>26062717</td>\n",
       "      <td>94732:95254</td>\n",
       "      <td>3357349</td>\n",
       "      <td>522</td>\n",
       "    </tr>\n",
       "    <tr>\n",
       "      <th>310</th>\n",
       "      <td>108016</td>\n",
       "      <td>106563</td>\n",
       "      <td>chr20</td>\n",
       "      <td>35449880</td>\n",
       "      <td>34445164</td>\n",
       "      <td>106563:108016</td>\n",
       "      <td>1004716</td>\n",
       "      <td>1453</td>\n",
       "    </tr>\n",
       "    <tr>\n",
       "      <th>297</th>\n",
       "      <td>98087</td>\n",
       "      <td>95811</td>\n",
       "      <td>chr20</td>\n",
       "      <td>30561695</td>\n",
       "      <td>29561238</td>\n",
       "      <td>95811:98087</td>\n",
       "      <td>1000457</td>\n",
       "      <td>2276</td>\n",
       "    </tr>\n",
       "    <tr>\n",
       "      <th>306</th>\n",
       "      <td>104213</td>\n",
       "      <td>102545</td>\n",
       "      <td>chr20</td>\n",
       "      <td>33538521</td>\n",
       "      <td>32538391</td>\n",
       "      <td>102545:104213</td>\n",
       "      <td>1000130</td>\n",
       "      <td>1668</td>\n",
       "    </tr>\n",
       "    <tr>\n",
       "      <th>294</th>\n",
       "      <td>94732</td>\n",
       "      <td>92052</td>\n",
       "      <td>chr20</td>\n",
       "      <td>26062717</td>\n",
       "      <td>25062715</td>\n",
       "      <td>92052:94732</td>\n",
       "      <td>1000002</td>\n",
       "      <td>2680</td>\n",
       "    </tr>\n",
       "  </tbody>\n",
       "</table>\n",
       "</div>"
      ],
      "text/plain": [
       "     bimIdEnd  bimIdStart  chrom  chromEnd  chromStart           name  \\\n",
       "295     95254       94732  chr20  29420066    26062717    94732:95254   \n",
       "310    108016      106563  chr20  35449880    34445164  106563:108016   \n",
       "297     98087       95811  chr20  30561695    29561238    95811:98087   \n",
       "306    104213      102545  chr20  33538521    32538391  102545:104213   \n",
       "294     94732       92052  chr20  26062717    25062715    92052:94732   \n",
       "\n",
       "         len  nSNPs  \n",
       "295  3357349    522  \n",
       "310  1004716   1453  \n",
       "297  1000457   2276  \n",
       "306  1000130   1668  \n",
       "294  1000002   2680  "
      ]
     },
     "execution_count": 26,
     "metadata": {},
     "output_type": "execute_result"
    }
   ],
   "source": [
    "bed_df.sort_values(by='len', ascending=False).head()"
   ]
  },
  {
   "cell_type": "code",
   "execution_count": null,
   "metadata": {
    "collapsed": true
   },
   "outputs": [],
   "source": []
  }
 ],
 "metadata": {
  "kernelspec": {
   "display_name": "Python 3",
   "language": "python",
   "name": "python3"
  },
  "language_info": {
   "codemirror_mode": {
    "name": "ipython",
    "version": 3
   },
   "file_extension": ".py",
   "mimetype": "text/x-python",
   "name": "python",
   "nbconvert_exporter": "python",
   "pygments_lexer": "ipython3",
   "version": "3.6.0"
  }
 },
 "nbformat": 4,
 "nbformat_minor": 2
}
