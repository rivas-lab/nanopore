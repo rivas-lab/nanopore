{
 "cells": [
  {
   "cell_type": "code",
   "execution_count": 1,
   "metadata": {},
   "outputs": [],
   "source": [
    "from __future__ import print_function\n",
    "\n",
    "import sys\n",
    "import os\n",
    "import logging\n",
    "from logging.config import dictConfig\n",
    "import numpy as np\n",
    "import collections as cl\n",
    "\n",
    "import pgenlib as pg\n",
    "\n",
    "logging_config = dict(\n",
    "    version = 1,\n",
    "    formatters = {\n",
    "        'f': {'format':\n",
    "              '%(asctime)s %(name)-12s %(levelname)-8s %(message)s'}\n",
    "        },\n",
    "    handlers = {\n",
    "        'h': {'class': 'logging.StreamHandler',\n",
    "              'formatter': 'f',\n",
    "              'level': logging.DEBUG}\n",
    "        },\n",
    "    root = {\n",
    "        'handlers': ['h'],\n",
    "        'level': logging.DEBUG,\n",
    "        },\n",
    ")\n",
    "dictConfig(logging_config)"
   ]
  },
  {
   "cell_type": "code",
   "execution_count": 2,
   "metadata": {
    "collapsed": true
   },
   "outputs": [],
   "source": [
    "pgen_in = '/oak/stanford/groups/mrivas/users/ytanigaw/nanopore-data/unphased_data/chr20impv1-keep-maf0005-snv-biallelic-pg.pgen'\n",
    "pgen_out = '/oak/stanford/groups/mrivas/users/ytanigaw/sandbox/pgen_write/test.pg'"
   ]
  },
  {
   "cell_type": "code",
   "execution_count": 3,
   "metadata": {
    "collapsed": true
   },
   "outputs": [],
   "source": [
    "def read_alleles_range(pgen_f, rangeStart, rangeEnd):\n",
    "    logger_read_alleles_range = logging.getLogger('read_alleles_range')    \n",
    "    logger_read_alleles_range.debug(\n",
    "        'reading alleles range {}:{} from {}'.format(rangeStart, rangeEnd, pgen_f)\n",
    "    )            \n",
    "    with pg.PgenReader(pgen_f) as pgr:\n",
    "        buffer = np.zeros((rangeEnd - rangeStart, pgr.get_raw_sample_ct() * 2), dtype=np.int32)\n",
    "        pgr.read_alleles_range(rangeStart, rangeEnd, buffer)\n",
    "    logger_read_alleles_range.debug(\n",
    "        'The shape of the numpy nd-array is {}'.format(buffer.shape)\n",
    "    )                    \n",
    "    return buffer        "
   ]
  },
  {
   "cell_type": "code",
   "execution_count": 4,
   "metadata": {},
   "outputs": [
    {
     "name": "stderr",
     "output_type": "stream",
     "text": [
      "2017-07-04 00:27:26,593 read_alleles_range DEBUG    reading alleles range 0:5 from /oak/stanford/groups/mrivas/users/ytanigaw/nanopore-data/unphased_data/chr20impv1-keep-maf0005-snv-biallelic-pg.pgen\n",
      "2017-07-04 00:27:26,607 read_alleles_range DEBUG    The shape of the numpy nd-array is (5, 224676)\n"
     ]
    }
   ],
   "source": [
    "buf = read_alleles_range(pgen_in, 0, 5)"
   ]
  },
  {
   "cell_type": "code",
   "execution_count": 5,
   "metadata": {},
   "outputs": [
    {
     "data": {
      "text/plain": [
       "(dtype('int32'), (5, 224676))"
      ]
     },
     "execution_count": 5,
     "metadata": {},
     "output_type": "execute_result"
    }
   ],
   "source": [
    "buf.dtype, buf.shape"
   ]
  },
  {
   "cell_type": "code",
   "execution_count": 9,
   "metadata": {
    "collapsed": true
   },
   "outputs": [],
   "source": [
    "pgw = pg.PgenWriter(pgen_out, buf.shape[1] / 2, buf.shape[0], True)"
   ]
  },
  {
   "cell_type": "code",
   "execution_count": null,
   "metadata": {
    "collapsed": true
   },
   "outputs": [],
   "source": [
    "pgw.append_alleles(buf[0])\n",
    "pgw.append_alleles(buf[1])\n",
    "pgw.append_alleles(buf[2])\n",
    "pgw.append_alleles(buf[3])\n",
    "pgw.append_alleles(buf[4])"
   ]
  },
  {
   "cell_type": "code",
   "execution_count": 8,
   "metadata": {},
   "outputs": [
    {
     "ename": "RuntimeError",
     "evalue": "PgenWriter.close() called when number of written variants (5) unequal to initially declared value (112338).",
     "output_type": "error",
     "traceback": [
      "\u001b[0;31m---------------------------------------------------------------------------\u001b[0m",
      "\u001b[0;31mRuntimeError\u001b[0m                              Traceback (most recent call last)",
      "\u001b[0;32m<ipython-input-8-2ef5a73b87fc>\u001b[0m in \u001b[0;36m<module>\u001b[0;34m()\u001b[0m\n\u001b[0;32m----> 1\u001b[0;31m \u001b[0mpgw\u001b[0m\u001b[0;34m.\u001b[0m\u001b[0mclose\u001b[0m\u001b[0;34m(\u001b[0m\u001b[0;34m)\u001b[0m\u001b[0;34m\u001b[0m\u001b[0m\n\u001b[0m",
      "\u001b[0;32mpgenlib.pyx\u001b[0m in \u001b[0;36mpgenlib.PgenWriter.close (pgenlib.cpp:23836)\u001b[0;34m()\u001b[0m\n",
      "\u001b[0;32mpgenlib.pyx\u001b[0m in \u001b[0;36mpgenlib.PgenWriter.close (pgenlib.cpp:23709)\u001b[0;34m()\u001b[0m\n",
      "\u001b[0;31mRuntimeError\u001b[0m: PgenWriter.close() called when number of written variants (5) unequal to initially declared value (112338)."
     ]
    }
   ],
   "source": [
    "pgw.close()"
   ]
  },
  {
   "cell_type": "code",
   "execution_count": 7,
   "metadata": {
    "collapsed": true
   },
   "outputs": [],
   "source": [
    "pgw.append_alleles(buf[0])"
   ]
  },
  {
   "cell_type": "code",
   "execution_count": 8,
   "metadata": {},
   "outputs": [],
   "source": [
    "pgw.append_alleles(buf[1])\n",
    "pgw.append_alleles(buf[2])\n",
    "pgw.append_alleles(buf[3])\n",
    "pgw.append_alleles(buf[4])\n",
    "pgw.append_alleles(buf[5])\n",
    "pgw.append_alleles(buf[6])"
   ]
  },
  {
   "cell_type": "code",
   "execution_count": 9,
   "metadata": {},
   "outputs": [
    {
     "data": {
      "text/plain": [
       "Counter({-9: 4598, 0: 145208, 1: 74870})"
      ]
     },
     "execution_count": 9,
     "metadata": {},
     "output_type": "execute_result"
    }
   ],
   "source": [
    "cl.Counter(buf[7])"
   ]
  },
  {
   "cell_type": "code",
   "execution_count": 10,
   "metadata": {},
   "outputs": [
    {
     "data": {
      "text/plain": [
       "Counter({-9: 2910, 0: 218107, 1: 3659})"
      ]
     },
     "execution_count": 10,
     "metadata": {},
     "output_type": "execute_result"
    }
   ],
   "source": [
    "cl.Counter(buf[6])"
   ]
  },
  {
   "cell_type": "code",
   "execution_count": null,
   "metadata": {
    "collapsed": true
   },
   "outputs": [],
   "source": [
    "pgw.append_alleles(buf[7])"
   ]
  },
  {
   "cell_type": "code",
   "execution_count": null,
   "metadata": {
    "collapsed": true
   },
   "outputs": [],
   "source": [
    "pgw.append_alleles(buf[8])"
   ]
  },
  {
   "cell_type": "code",
   "execution_count": null,
   "metadata": {
    "collapsed": true
   },
   "outputs": [],
   "source": [
    "pgw.append_alleles(buf[9])"
   ]
  },
  {
   "cell_type": "code",
   "execution_count": null,
   "metadata": {
    "collapsed": true
   },
   "outputs": [],
   "source": [
    "for i in range(1, 10):\n",
    "    print(i)\n",
    "    pgw.append_alleles(buf[i])"
   ]
  },
  {
   "cell_type": "code",
   "execution_count": 5,
   "metadata": {},
   "outputs": [
    {
     "ename": "RuntimeError",
     "evalue": "PgenWriter.close() called when number of written variants (0) unequal to initially declared value (10).",
     "output_type": "error",
     "traceback": [
      "\u001b[0;31m---------------------------------------------------------------------------\u001b[0m",
      "\u001b[0;31mRuntimeError\u001b[0m                              Traceback (most recent call last)",
      "\u001b[0;32m<ipython-input-5-1743ce303fc1>\u001b[0m in \u001b[0;36m<module>\u001b[0;34m()\u001b[0m\n\u001b[1;32m      1\u001b[0m \u001b[0;32mwith\u001b[0m \u001b[0mpg\u001b[0m\u001b[0;34m.\u001b[0m\u001b[0mPgenWriter\u001b[0m\u001b[0;34m(\u001b[0m\u001b[0mpgen_out\u001b[0m\u001b[0;34m,\u001b[0m \u001b[0mbuf\u001b[0m\u001b[0;34m.\u001b[0m\u001b[0mshape\u001b[0m\u001b[0;34m[\u001b[0m\u001b[0;36m1\u001b[0m\u001b[0;34m]\u001b[0m \u001b[0;34m/\u001b[0m \u001b[0;36m2\u001b[0m\u001b[0;34m,\u001b[0m \u001b[0mbuf\u001b[0m\u001b[0;34m.\u001b[0m\u001b[0mshape\u001b[0m\u001b[0;34m[\u001b[0m\u001b[0;36m0\u001b[0m\u001b[0;34m]\u001b[0m\u001b[0;34m,\u001b[0m \u001b[0mTrue\u001b[0m\u001b[0;34m)\u001b[0m \u001b[0;32mas\u001b[0m \u001b[0mpgw\u001b[0m\u001b[0;34m:\u001b[0m\u001b[0;34m\u001b[0m\u001b[0m\n\u001b[0;32m----> 2\u001b[0;31m     \u001b[0mpgw\u001b[0m\u001b[0;34m.\u001b[0m\u001b[0mappend_alleles\u001b[0m\u001b[0;34m(\u001b[0m\u001b[0mbuf\u001b[0m\u001b[0;34m)\u001b[0m\u001b[0;34m\u001b[0m\u001b[0m\n\u001b[0m",
      "\u001b[0;32mpgenlib.pyx\u001b[0m in \u001b[0;36mpgenlib.PgenWriter.__exit__ (pgenlib.cpp:24055)\u001b[0;34m()\u001b[0m\n",
      "\u001b[0;32mpgenlib.pyx\u001b[0m in \u001b[0;36mpgenlib.PgenWriter.__exit__ (pgenlib.cpp:23944)\u001b[0;34m()\u001b[0m\n",
      "\u001b[0;32mpgenlib.pyx\u001b[0m in \u001b[0;36mpgenlib.PgenWriter.close (pgenlib.cpp:23709)\u001b[0;34m()\u001b[0m\n",
      "\u001b[0;31mRuntimeError\u001b[0m: PgenWriter.close() called when number of written variants (0) unequal to initially declared value (10)."
     ]
    }
   ],
   "source": [
    "with pg.PgenWriter(pgen_out, buf.shape[1] / 2, buf.shape[0], True) as pgw:\n",
    "    pgw.append_alleles_batch(buf)"
   ]
  },
  {
   "cell_type": "code",
   "execution_count": null,
   "metadata": {
    "collapsed": true
   },
   "outputs": [],
   "source": [
    "    logger_cnt = logging.getLogger('read_prior_cnts')    \n",
    "    logger_cnt.info(\n",
    "        'reading prior counts from {}'.format(prior_count_dir)\n",
    "    )        \n",
    "    \n",
    "    prior_cnt_keys = [None] * len(block_df)\n",
    "    prior_cnt_vals = [None] * len(block_df)\n",
    "    for block_id in range(len(block_df)):\n",
    "        if(block_id % 100 == 0):\n",
    "            logger_cnt.info(\n",
    "                'reading block {} of {}'.format(block_id, len(block_df))\n",
    "            )    \n",
    "        cnt = np.load('{}/{}.npz'.format(prior_count_dir, block_id))\n",
    "        prior_cnt_keys[block_id] = cnt['keys']\n",
    "        prior_cnt_vals[block_id] = cnt['vals']\n",
    "        \n",
    "    logger_cnt.info(\n",
    "        'prior counts is loaded on memory'\n",
    "    )    \n",
    "        \n",
    "    return prior_cnt_keys, prior_cnt_vals"
   ]
  },
  {
   "cell_type": "code",
   "execution_count": null,
   "metadata": {
    "collapsed": true
   },
   "outputs": [],
   "source": [
    "def read_alleles_block(pgen_f, block_df, block_id):\n",
    "    \"\"\"wrapper function of pgen.PgenReader.read_alleles_range for a LD block\"\"\"\n",
    "    bim_interval = [block_df.bimStart[block_id], block_df.bimEnd[block_id]]\n",
    "    with pg.PgenReader(pgen_f) as pgr:\n",
    "        buf_ndary = np.zeros(\n",
    "            (bim_interval[1] - bim_interval[0], pgr.get_raw_sample_ct() * 2), \n",
    "            dtype=np.int32\n",
    "        )\n",
    "        pgr.read_alleles_range(bim_interval[0], bim_interval[1], buf_ndary)\n",
    "    return buf_ndary"
   ]
  }
 ],
 "metadata": {
  "kernelspec": {
   "display_name": "dev27",
   "language": "python",
   "name": "dev27"
  },
  "language_info": {
   "codemirror_mode": {
    "name": "ipython",
    "version": 2
   },
   "file_extension": ".py",
   "mimetype": "text/x-python",
   "name": "python",
   "nbconvert_exporter": "python",
   "pygments_lexer": "ipython2",
   "version": "2.7.13"
  }
 },
 "nbformat": 4,
 "nbformat_minor": 2
}
