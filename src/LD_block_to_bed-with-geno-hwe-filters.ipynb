{
 "cells": [
  {
   "cell_type": "markdown",
   "metadata": {},
   "source": [
    "## LD block definition for the nanopore haplotype inference project\n",
    "### Yosuke Tanigawa (2017/7/24)\n",
    "\n",
    "## Summary:\n",
    "This note describes\n",
    "1. PLINK --blocks command to generate .block.det file\n",
    "1. method to generate bed file (region, not the genotype file) for our definition of LD blocks\n",
    "\n",
    "We imposed extra filter on the SNPs in the input data:\n",
    "- hwe 1e-10\n",
    "- genotype rate >= 10%"
   ]
  },
  {
   "cell_type": "code",
   "execution_count": 1,
   "metadata": {
    "collapsed": true
   },
   "outputs": [],
   "source": [
    "%matplotlib inline"
   ]
  },
  {
   "cell_type": "code",
   "execution_count": 2,
   "metadata": {
    "collapsed": true
   },
   "outputs": [],
   "source": [
    "import numpy as np\n",
    "import pandas as pd\n",
    "import matplotlib\n",
    "import matplotlib.pyplot as plt\n",
    "import matplotlib.gridspec as gridspec\n",
    "import itertools as it\n",
    "import bisect"
   ]
  },
  {
   "cell_type": "code",
   "execution_count": 3,
   "metadata": {
    "collapsed": true
   },
   "outputs": [],
   "source": [
    "font = {#'family' : 'normal',\n",
    "        #'weight' : 'bold',\n",
    "        'size'   : 20}\n",
    "matplotlib.rc('font', **font)"
   ]
  },
  {
   "cell_type": "markdown",
   "metadata": {},
   "source": [
    "## 1) PLINK --blocks command\n",
    "- We used plink 1.9 --blocks option to compute the LD blocks\n",
    "- https://www.cog-genomics.org/plink2/ld"
   ]
  },
  {
   "cell_type": "code",
   "execution_count": 4,
   "metadata": {
    "collapsed": true
   },
   "outputs": [],
   "source": [
    "data_dir='/oak/stanford/groups/mrivas/users/ytanigaw/nanopore-data/'\n",
    "geno_bed_log='chr20impv1-keep-maf0005-snv-biallelic-geno01-hwe1e-10.log'\n",
    "block_log='chr20impv1-keep-maf0005-snv-biallelic-geno01-hwe1e-10-block-stronglow050-stronghigh083-infofrac10.log'"
   ]
  },
  {
   "cell_type": "code",
   "execution_count": 5,
   "metadata": {
    "collapsed": false
   },
   "outputs": [
    {
     "name": "stdout",
     "output_type": "stream",
     "text": [
      "PLINK v1.90b3.45 64-bit (13 Jan 2017)\r\n",
      "Options in effect:\r\n",
      "  --bfile /oak/stanford/groups/mrivas/private_data/ukbb/pgen/chr20impv1\r\n",
      "  --biallelic-only strict\r\n",
      "  --geno\r\n",
      "  --hwe 1e-10 midp\r\n",
      "  --keep /share/PI/mrivas/data/ukbb/phefiles/initialdata/1389.phe\r\n",
      "  --maf 0.005\r\n",
      "  --make-bed\r\n",
      "  --memory 30000\r\n",
      "  --out /oak/stanford/groups/mrivas/users/ytanigaw/nanopore-data/chr20impv1-keep-maf0005-snv-biallelic-geno01-hwe1e-10\r\n",
      "  --snps-only just-acgt\r\n",
      "\r\n",
      "Hostname: sh-102-07.int\r\n",
      "Working directory: /home/users/ytanigaw\r\n",
      "Start time: Fri Jun 23 16:24:21 2017\r\n",
      "\r\n",
      "Random number seed: 1498260261\r\n",
      "257674 MB RAM detected; reserving 30000 MB for main workspace.\r\n",
      "1540220 out of 1619597 variants loaded from .bim file.\r\n",
      "152249 people (0 males, 0 females, 152249 ambiguous) loaded from .fam.\r\n",
      "Ambiguous sex IDs written to\r\n",
      "/oak/stanford/groups/mrivas/users/ytanigaw/nanopore-data/chr20impv1-keep-maf0005-snv-biallelic-geno01-hwe1e-10.nosex\r\n",
      ".\r\n",
      "--keep: 112338 people remaining.\r\n",
      "Using 1 thread (no multithreaded calculations invoked).\r\n",
      "Before main variant filters, 112338 founders and 0 nonfounders present.\r\n",
      "Calculating allele frequencies... done.\r\n",
      "Total genotyping rate in remaining samples is 0.996625.\r\n",
      "6300 variants removed due to missing genotype data (--geno).\r\n",
      "--hwe: 781 variants removed due to Hardy-Weinberg exact test.\r\n",
      "1334721 variants removed due to minor allele threshold(s)\r\n",
      "(--maf/--max-maf/--mac/--max-mac).\r\n",
      "198418 variants and 112338 people pass filters and QC.\r\n",
      "Note: No phenotypes present.\r\n",
      "--make-bed to\r\n",
      "/oak/stanford/groups/mrivas/users/ytanigaw/nanopore-data/chr20impv1-keep-maf0005-snv-biallelic-geno01-hwe1e-10.bed\r\n",
      "+\r\n",
      "/oak/stanford/groups/mrivas/users/ytanigaw/nanopore-data/chr20impv1-keep-maf0005-snv-biallelic-geno01-hwe1e-10.bim\r\n",
      "+\r\n",
      "/oak/stanford/groups/mrivas/users/ytanigaw/nanopore-data/chr20impv1-keep-maf0005-snv-biallelic-geno01-hwe1e-10.fam\r\n",
      "... done.\r\n",
      "\r\n",
      "End time: Fri Jun 23 16:26:23 2017\r\n"
     ]
    }
   ],
   "source": [
    "!cat $data_dir$geno_bed_log"
   ]
  },
  {
   "cell_type": "code",
   "execution_count": 6,
   "metadata": {
    "collapsed": false
   },
   "outputs": [
    {
     "name": "stdout",
     "output_type": "stream",
     "text": [
      "PLINK v1.90b3.45 64-bit (13 Jan 2017)\r\n",
      "Options in effect:\r\n",
      "  --bfile /oak/stanford/groups/mrivas/users/ytanigaw/nanopore-data/chr20impv1-keep-maf0005-snv-biallelic-geno01-hwe1e-10\r\n",
      "  --blocks no-pheno-req no-small-max-span\r\n",
      "  --blocks-inform-frac 0.10\r\n",
      "  --blocks-max-kb 1000\r\n",
      "  --blocks-recomb-highci 0.830001\r\n",
      "  --blocks-strong-highci 0.830001\r\n",
      "  --blocks-strong-lowci 0.50001\r\n",
      "  --memory 30000\r\n",
      "  --out /oak/stanford/groups/mrivas/users/ytanigaw/nanopore-data/chr20impv1-keep-maf0005-snv-biallelic-geno01-hwe1e-10-block-stronglow050-stronghigh083-infofrac10\r\n",
      "\r\n",
      "Hostname: sh-102-07.int\r\n",
      "Working directory: /home/users/ytanigaw\r\n",
      "Start time: Fri Jun 23 16:32:58 2017\r\n",
      "\r\n",
      "Random number seed: 1498260778\r\n",
      "257674 MB RAM detected; reserving 30000 MB for main workspace.\r\n",
      "198418 variants loaded from .bim file.\r\n",
      "112338 people (0 males, 0 females, 112338 ambiguous) loaded from .fam.\r\n",
      "Ambiguous sex IDs written to\r\n",
      "/oak/stanford/groups/mrivas/users/ytanigaw/nanopore-data/chr20impv1-keep-maf0005-snv-biallelic-geno01-hwe1e-10-block-stronglow050-stronghigh083-infofrac10.nosex\r\n",
      ".\r\n",
      "Using 1 thread (no multithreaded calculations invoked).\r\n",
      "Before main variant filters, 112338 founders and 0 nonfounders present.\r\n",
      "Calculating allele frequencies... done.\r\n",
      "Total genotyping rate is 0.988021.\r\n",
      "198418 variants and 112338 people pass filters and QC.\r\n",
      "Note: No phenotypes present.\r\n",
      "--blocks: 642 haploblocks written to\r\n",
      "/oak/stanford/groups/mrivas/users/ytanigaw/nanopore-data/chr20impv1-keep-maf0005-snv-biallelic-geno01-hwe1e-10-block-stronglow050-stronghigh083-infofrac10.blocks\r\n",
      ".\r\n",
      "Extra block details written to\r\n",
      "/oak/stanford/groups/mrivas/users/ytanigaw/nanopore-data/chr20impv1-keep-maf0005-snv-biallelic-geno01-hwe1e-10-block-stronglow050-stronghigh083-infofrac10.blocks.det\r\n",
      ".\r\n",
      "Longest span: 999.994kb.\r\n",
      "\r\n",
      "End time: Fri Jun 23 17:17:10 2017\r\n"
     ]
    }
   ],
   "source": [
    "!cat $data_dir$block_log"
   ]
  },
  {
   "cell_type": "markdown",
   "metadata": {},
   "source": [
    "### blocks.det file\n",
    "- the results of the PLINK 1.9 --blocks command is shown below:"
   ]
  },
  {
   "cell_type": "code",
   "execution_count": 7,
   "metadata": {
    "collapsed": true
   },
   "outputs": [],
   "source": [
    "block_det_f = '{}{}.blocks.det'.format(\n",
    "    data_dir,\n",
    "    block_log[:-4]\n",
    ")"
   ]
  },
  {
   "cell_type": "code",
   "execution_count": 8,
   "metadata": {
    "collapsed": false
   },
   "outputs": [
    {
     "name": "stdout",
     "output_type": "stream",
     "text": [
      "(642, 6)\n"
     ]
    },
    {
     "data": {
      "text/html": [
       "<div>\n",
       "<table border=\"1\" class=\"dataframe\">\n",
       "  <thead>\n",
       "    <tr style=\"text-align: right;\">\n",
       "      <th></th>\n",
       "      <th>CHR</th>\n",
       "      <th>BP1</th>\n",
       "      <th>BP2</th>\n",
       "      <th>KB</th>\n",
       "      <th>NSNPS</th>\n",
       "      <th>SNPS</th>\n",
       "    </tr>\n",
       "  </thead>\n",
       "  <tbody>\n",
       "    <tr>\n",
       "      <th>0</th>\n",
       "      <td>20</td>\n",
       "      <td>62731</td>\n",
       "      <td>93931</td>\n",
       "      <td>31.201</td>\n",
       "      <td>30</td>\n",
       "      <td>rs34147676|rs6139074|rs1418258|rs13043000|rs60...</td>\n",
       "    </tr>\n",
       "    <tr>\n",
       "      <th>1</th>\n",
       "      <td>20</td>\n",
       "      <td>94952</td>\n",
       "      <td>266511</td>\n",
       "      <td>171.560</td>\n",
       "      <td>545</td>\n",
       "      <td>rs1857092|rs80192833|rs6052070|rs6515824|rs605...</td>\n",
       "    </tr>\n",
       "    <tr>\n",
       "      <th>2</th>\n",
       "      <td>20</td>\n",
       "      <td>266792</td>\n",
       "      <td>287529</td>\n",
       "      <td>20.738</td>\n",
       "      <td>56</td>\n",
       "      <td>rs6137140|rs6082182|rs6082191|rs6082211|rs6075...</td>\n",
       "    </tr>\n",
       "    <tr>\n",
       "      <th>3</th>\n",
       "      <td>20</td>\n",
       "      <td>288776</td>\n",
       "      <td>344195</td>\n",
       "      <td>55.420</td>\n",
       "      <td>86</td>\n",
       "      <td>rs4815163|rs62191394|rs6075996|rs6082956|rs723...</td>\n",
       "    </tr>\n",
       "    <tr>\n",
       "      <th>4</th>\n",
       "      <td>20</td>\n",
       "      <td>344631</td>\n",
       "      <td>345864</td>\n",
       "      <td>1.234</td>\n",
       "      <td>4</td>\n",
       "      <td>rs6084202|rs2017171|rs1555318|rs6051490</td>\n",
       "    </tr>\n",
       "  </tbody>\n",
       "</table>\n",
       "</div>"
      ],
      "text/plain": [
       "   CHR     BP1     BP2       KB  NSNPS  \\\n",
       "0   20   62731   93931   31.201     30   \n",
       "1   20   94952  266511  171.560    545   \n",
       "2   20  266792  287529   20.738     56   \n",
       "3   20  288776  344195   55.420     86   \n",
       "4   20  344631  345864    1.234      4   \n",
       "\n",
       "                                                SNPS  \n",
       "0  rs34147676|rs6139074|rs1418258|rs13043000|rs60...  \n",
       "1  rs1857092|rs80192833|rs6052070|rs6515824|rs605...  \n",
       "2  rs6137140|rs6082182|rs6082191|rs6082211|rs6075...  \n",
       "3  rs4815163|rs62191394|rs6075996|rs6082956|rs723...  \n",
       "4            rs6084202|rs2017171|rs1555318|rs6051490  "
      ]
     },
     "execution_count": 8,
     "metadata": {},
     "output_type": "execute_result"
    }
   ],
   "source": [
    "block_det = pd.read_csv(block_det_f, sep='\\s+')\n",
    "print(block_det.shape)\n",
    "block_det.head()"
   ]
  },
  {
   "cell_type": "markdown",
   "metadata": {},
   "source": [
    "### The mean and median of size and # SNPs\n",
    "- Here, SNPs with 5% + is used to define our blocks"
   ]
  },
  {
   "cell_type": "code",
   "execution_count": 9,
   "metadata": {
    "collapsed": false
   },
   "outputs": [
    {
     "data": {
      "text/plain": [
       "(91.540046728972, 25.412500000000001)"
      ]
     },
     "execution_count": 9,
     "metadata": {},
     "output_type": "execute_result"
    }
   ],
   "source": [
    "np.mean(block_det.KB), np.median(block_det.KB)"
   ]
  },
  {
   "cell_type": "code",
   "execution_count": 10,
   "metadata": {
    "collapsed": false
   },
   "outputs": [
    {
     "data": {
      "text/plain": [
       "(194.96728971962617, 50.0)"
      ]
     },
     "execution_count": 10,
     "metadata": {},
     "output_type": "execute_result"
    }
   ],
   "source": [
    "np.mean(block_det.NSNPS), np.median(block_det.NSNPS)"
   ]
  },
  {
   "cell_type": "code",
   "execution_count": 11,
   "metadata": {
    "collapsed": false
   },
   "outputs": [
    {
     "data": {
      "image/png": "[encoded data removed]",
      "text/plain": [
       "<matplotlib.figure.Figure at 0x7f1c2e99be10>"
      ]
     },
     "metadata": {},
     "output_type": "display_data"
    }
   ],
   "source": [
    "fig = plt.figure(figsize=(10, 5))\n",
    "gs = gridspec.GridSpec(1, 2)\n",
    "axs = [fig.add_subplot(ss) for ss in gs]\n",
    "axs[0].hist(block_det.KB)\n",
    "axs[1].hist(block_det.NSNPS)\n",
    "axs[0].set_xlabel('size of the LD block (kbp)')\n",
    "axs[1].set_xlabel('size of the LD block (# SNPs)')\n",
    "axs[0].set_ylabel('freq')\n",
    "axs[1].set_ylabel('freq')\n",
    "# axs[0].set_title('')\n",
    "# axs[1].set_title('')\n",
    "# fig_conf_curves.suptitle('')\n",
    "gs.tight_layout(fig, rect=[0, 0, 1, 0.88])"
   ]
  },
  {
   "cell_type": "markdown",
   "metadata": {},
   "source": [
    "## 2) conver to bed file\n",
    "### motivation\n",
    "- The blocks we found in the previous step does not fully cover the chromosome\n",
    "\n",
    "### method\n",
    "- Given the block.det file and bim file (that has all the SNPs we consider), we *define* LD-based blocks\n",
    "- block.det is essentially a list of intervals [[BP1_1, BP2_1), [BP1_2, BP2_2), ... , [BP1_n, BP2_n)]\n",
    "  - [x, y) denotes semi-open intervals where x is included in the interval while y isn't\n",
    "- Our definition of the blocks are: [[0, BP1_2), [BP1_2, BP1_3), [BP1_3, BP1_4), ... , [BP1_{n-1}, BP1_n), [BP1_{n-1}, end_of_chromosome]]"
   ]
  },
  {
   "cell_type": "code",
   "execution_count": 12,
   "metadata": {
    "collapsed": true
   },
   "outputs": [],
   "source": [
    "bim_f = '/oak/stanford/groups/mrivas/users/ytanigaw/nanopore-data/chr20impv1-keep-maf0005-snv-biallelic.bim'"
   ]
  },
  {
   "cell_type": "code",
   "execution_count": 13,
   "metadata": {
    "collapsed": false
   },
   "outputs": [
    {
     "name": "stdout",
     "output_type": "stream",
     "text": [
      "(205378, 6)\n"
     ]
    },
    {
     "data": {
      "text/html": [
       "<div>\n",
       "<table border=\"1\" class=\"dataframe\">\n",
       "  <thead>\n",
       "    <tr style=\"text-align: right;\">\n",
       "      <th></th>\n",
       "      <th>chr</th>\n",
       "      <th>rsid</th>\n",
       "      <th>genetic_dist</th>\n",
       "      <th>pos</th>\n",
       "      <th>a1</th>\n",
       "      <th>a2</th>\n",
       "    </tr>\n",
       "  </thead>\n",
       "  <tbody>\n",
       "    <tr>\n",
       "      <th>205373</th>\n",
       "      <td>20</td>\n",
       "      <td>rs578065922</td>\n",
       "      <td>0</td>\n",
       "      <td>62957957</td>\n",
       "      <td>A</td>\n",
       "      <td>G</td>\n",
       "    </tr>\n",
       "    <tr>\n",
       "      <th>205374</th>\n",
       "      <td>20</td>\n",
       "      <td>rs146252638</td>\n",
       "      <td>0</td>\n",
       "      <td>62958306</td>\n",
       "      <td>T</td>\n",
       "      <td>C</td>\n",
       "    </tr>\n",
       "    <tr>\n",
       "      <th>205375</th>\n",
       "      <td>20</td>\n",
       "      <td>rs11698187</td>\n",
       "      <td>0</td>\n",
       "      <td>62960292</td>\n",
       "      <td>G</td>\n",
       "      <td>A</td>\n",
       "    </tr>\n",
       "    <tr>\n",
       "      <th>205376</th>\n",
       "      <td>20</td>\n",
       "      <td>rs140775622</td>\n",
       "      <td>0</td>\n",
       "      <td>62962869</td>\n",
       "      <td>T</td>\n",
       "      <td>C</td>\n",
       "    </tr>\n",
       "    <tr>\n",
       "      <th>205377</th>\n",
       "      <td>20</td>\n",
       "      <td>rs542224338</td>\n",
       "      <td>0</td>\n",
       "      <td>62963102</td>\n",
       "      <td>C</td>\n",
       "      <td>T</td>\n",
       "    </tr>\n",
       "  </tbody>\n",
       "</table>\n",
       "</div>"
      ],
      "text/plain": [
       "        chr         rsid  genetic_dist       pos a1 a2\n",
       "205373   20  rs578065922             0  62957957  A  G\n",
       "205374   20  rs146252638             0  62958306  T  C\n",
       "205375   20   rs11698187             0  62960292  G  A\n",
       "205376   20  rs140775622             0  62962869  T  C\n",
       "205377   20  rs542224338             0  62963102  C  T"
      ]
     },
     "execution_count": 13,
     "metadata": {},
     "output_type": "execute_result"
    }
   ],
   "source": [
    "bim = pd.read_csv(bim_f, sep='\\t', names=['chr', 'rsid', 'genetic_dist', 'pos', 'a1', 'a2'])\n",
    "print(bim.shape)\n",
    "bim.tail()"
   ]
  },
  {
   "cell_type": "markdown",
   "metadata": {},
   "source": [
    "- bim file is 1-indexed"
   ]
  },
  {
   "cell_type": "markdown",
   "metadata": {},
   "source": [
    "- check several statistics"
   ]
  },
  {
   "cell_type": "code",
   "execution_count": 14,
   "metadata": {
    "collapsed": false
   },
   "outputs": [
    {
     "data": {
      "text/plain": [
       "(62731, 62918861, 61098, 62963102, 642, 205378)"
      ]
     },
     "execution_count": 14,
     "metadata": {},
     "output_type": "execute_result"
    }
   ],
   "source": [
    "block_det.BP1[0], block_det.BP2[len(block_det) - 1], bim.pos[0], bim.pos[len(bim) -1], len(block_det), len(bim)"
   ]
  },
  {
   "cell_type": "markdown",
   "metadata": {},
   "source": [
    "- convert to intervals that cover the entire chromosome"
   ]
  },
  {
   "cell_type": "code",
   "execution_count": 15,
   "metadata": {
    "collapsed": true
   },
   "outputs": [],
   "source": [
    "interval_points = np.zeros(len(block_det) + 1, dtype=np.int)\n",
    "interval_points[1:-1] = block_det.BP1.as_matrix()[1:]\n",
    "interval_points[0] = bim.pos[0] - 1\n",
    "interval_points[-1] = bim.pos[len(bim) -1] - 1"
   ]
  },
  {
   "cell_type": "markdown",
   "metadata": {},
   "source": [
    "- we also want to store the intervals on bim-id space"
   ]
  },
  {
   "cell_type": "code",
   "execution_count": 16,
   "metadata": {
    "collapsed": false
   },
   "outputs": [
    {
     "data": {
      "text/plain": [
       "array([   61097,    61269,    61794, ..., 62960291, 62962868, 62963101])"
      ]
     },
     "execution_count": 16,
     "metadata": {},
     "output_type": "execute_result"
    }
   ],
   "source": [
    "bim_pos_0index = bim.pos.map(lambda x: x - 1).as_matrix()\n",
    "bim_pos_0index"
   ]
  },
  {
   "cell_type": "code",
   "execution_count": 17,
   "metadata": {
    "collapsed": false
   },
   "outputs": [
    {
     "data": {
      "text/plain": [
       "array([   0,   86,  938, 1027, 1270, 1277, 1446, 1505, 1974, 2030])"
      ]
     },
     "execution_count": 17,
     "metadata": {},
     "output_type": "execute_result"
    }
   ],
   "source": [
    "interval_points_bimid = np.array([bisect.bisect_left(bim_pos_0index, x) for x in interval_points])\n",
    "interval_points_bimid[:10]"
   ]
  },
  {
   "cell_type": "markdown",
   "metadata": {},
   "source": [
    "### the results are represented as a data frame and stored in a bed file"
   ]
  },
  {
   "cell_type": "code",
   "execution_count": 18,
   "metadata": {
    "collapsed": false
   },
   "outputs": [],
   "source": [
    "bed_df = pd.DataFrame({\n",
    "    'chrom': ['chr20'] * len(block_det),\n",
    "    'chromStart': interval_points[:-1],\n",
    "    'chromEnd':   interval_points[1:],\n",
    "    'bimIdStart': interval_points_bimid[:-1],\n",
    "    'bimIdEnd':   interval_points_bimid[1:]\n",
    "})"
   ]
  },
  {
   "cell_type": "code",
   "execution_count": 19,
   "metadata": {
    "collapsed": false
   },
   "outputs": [],
   "source": [
    "bed_df['name'] = ['{}:{}'.format(bed_df.bimIdStart[x], bed_df.bimIdEnd[x]) for x in range(len(bed_df))]"
   ]
  },
  {
   "cell_type": "code",
   "execution_count": 20,
   "metadata": {
    "collapsed": false
   },
   "outputs": [
    {
     "name": "stdout",
     "output_type": "stream",
     "text": [
      "(642, 6)\n",
      "   bimIdEnd  bimIdStart  chrom  chromEnd  chromStart       name\n",
      "0        86           0  chr20     94952       61097       0:86\n",
      "1       938          86  chr20    266792       94952     86:938\n",
      "2      1027         938  chr20    288776      266792   938:1027\n",
      "3      1270        1027  chr20    344631      288776  1027:1270\n",
      "4      1277        1270  chr20    346676      344631  1270:1277\n",
      "     bimIdEnd  bimIdStart  chrom  chromEnd  chromStart           name\n",
      "637    202502      202485  chr20  62196807    62193587  202485:202502\n",
      "638    203807      202502  chr20  62475881    62196807  202502:203807\n",
      "639    203835      203807  chr20  62481351    62475881  203807:203835\n",
      "640    205197      203835  chr20  62871952    62481351  203835:205197\n",
      "641    205377      205197  chr20  62963101    62871952  205197:205377\n"
     ]
    }
   ],
   "source": [
    "print(bed_df.shape)\n",
    "print(bed_df.head())\n",
    "print(bed_df.tail())"
   ]
  },
  {
   "cell_type": "code",
   "execution_count": 21,
   "metadata": {
    "collapsed": false
   },
   "outputs": [
    {
     "name": "stdout",
     "output_type": "stream",
     "text": [
      "/oak/stanford/groups/mrivas/users/ytanigaw/nanopore-data/chr20impv1-keep-maf0005-snv-biallelic-geno01-hwe1e-10-block-stronglow050-stronghigh083-infofrac10.bed\n"
     ]
    }
   ],
   "source": [
    "bed_f = '{}.bed'.format(block_det_f[:-11])\n",
    "print(bed_f)"
   ]
  },
  {
   "cell_type": "code",
   "execution_count": 22,
   "metadata": {
    "collapsed": false
   },
   "outputs": [],
   "source": [
    "bed_df[['chrom', 'chromStart', 'chromEnd', 'name']].to_csv(bed_f, header=False, index=False, sep='\\t')"
   ]
  },
  {
   "cell_type": "code",
   "execution_count": 23,
   "metadata": {
    "collapsed": false
   },
   "outputs": [
    {
     "name": "stdout",
     "output_type": "stream",
     "text": [
      "chr20\t61097\t94952\t0:86\r\n",
      "chr20\t94952\t266792\t86:938\r\n",
      "chr20\t266792\t288776\t938:1027\r\n",
      "chr20\t288776\t344631\t1027:1270\r\n",
      "chr20\t344631\t346676\t1270:1277\r\n",
      "chr20\t346676\t368905\t1277:1446\r\n",
      "chr20\t368905\t381670\t1446:1505\r\n",
      "chr20\t381670\t536536\t1505:1974\r\n",
      "chr20\t536536\t546546\t1974:2030\r\n",
      "chr20\t546546\t549907\t2030:2046\r\n"
     ]
    }
   ],
   "source": [
    "!head $bed_f"
   ]
  },
  {
   "cell_type": "markdown",
   "metadata": {},
   "source": [
    "### the size of the blocks"
   ]
  },
  {
   "cell_type": "code",
   "execution_count": 24,
   "metadata": {
    "collapsed": true
   },
   "outputs": [],
   "source": [
    "bed_df['len'] = bed_df.chromEnd - bed_df.chromStart\n",
    "bed_df['nSNPs'] = bed_df.bimIdEnd - bed_df.bimIdStart"
   ]
  },
  {
   "cell_type": "code",
   "execution_count": 25,
   "metadata": {
    "collapsed": false
   },
   "outputs": [
    {
     "name": "stdout",
     "output_type": "stream",
     "text": [
      "91.540046728972 25.4125\n",
      "97.97819937694705 27.0065\n"
     ]
    }
   ],
   "source": [
    "print(np.mean(block_det.KB), np.median(block_det.KB))\n",
    "print(np.mean(bed_df.len/1000), np.median(bed_df.len/1000))"
   ]
  },
  {
   "cell_type": "code",
   "execution_count": 26,
   "metadata": {
    "collapsed": false
   },
   "outputs": [
    {
     "data": {
      "image/png": "[encoded data removed]",
      "text/plain": [
       "<matplotlib.figure.Figure at 0x7f1c287ac9e8>"
      ]
     },
     "metadata": {},
     "output_type": "display_data"
    }
   ],
   "source": [
    "fig = plt.figure(figsize=(10, 10))\n",
    "gs = gridspec.GridSpec(2, 2)\n",
    "axs = [fig.add_subplot(ss) for ss in gs]\n",
    "axs[0].hist(block_det.KB)\n",
    "axs[1].hist(block_det.NSNPS)\n",
    "axs[2].hist(bed_df.len/1000)\n",
    "axs[3].hist(bed_df.nSNPs)\n",
    "axs[0].set_xlabel('plink LD block size (kbp)')\n",
    "axs[1].set_xlabel('plink LD block size (# SNPs)')\n",
    "axs[2].set_xlabel('defined LD block size (kbp)')\n",
    "axs[3].set_xlabel('defined LD block size (# SNPs)')\n",
    "for ax in axs:\n",
    "    ax.set_ylabel('freq')\n",
    "gs.tight_layout(fig, rect=[0, 0, 1, 0.88])"
   ]
  },
  {
   "cell_type": "markdown",
   "metadata": {
    "collapsed": true
   },
   "source": [
    "### The smallest blocks ( top 5 )"
   ]
  },
  {
   "cell_type": "code",
   "execution_count": 27,
   "metadata": {
    "collapsed": false
   },
   "outputs": [
    {
     "data": {
      "text/html": [
       "<div>\n",
       "<table border=\"1\" class=\"dataframe\">\n",
       "  <thead>\n",
       "    <tr style=\"text-align: right;\">\n",
       "      <th></th>\n",
       "      <th>bimIdEnd</th>\n",
       "      <th>bimIdStart</th>\n",
       "      <th>chrom</th>\n",
       "      <th>chromEnd</th>\n",
       "      <th>chromStart</th>\n",
       "      <th>name</th>\n",
       "      <th>len</th>\n",
       "      <th>nSNPs</th>\n",
       "    </tr>\n",
       "  </thead>\n",
       "  <tbody>\n",
       "    <tr>\n",
       "      <th>56</th>\n",
       "      <td>10931</td>\n",
       "      <td>10928</td>\n",
       "      <td>chr20</td>\n",
       "      <td>2751855</td>\n",
       "      <td>2751794</td>\n",
       "      <td>10928:10931</td>\n",
       "      <td>61</td>\n",
       "      <td>3</td>\n",
       "    </tr>\n",
       "    <tr>\n",
       "      <th>500</th>\n",
       "      <td>171528</td>\n",
       "      <td>171523</td>\n",
       "      <td>chr20</td>\n",
       "      <td>54542872</td>\n",
       "      <td>54542622</td>\n",
       "      <td>171523:171528</td>\n",
       "      <td>250</td>\n",
       "      <td>5</td>\n",
       "    </tr>\n",
       "    <tr>\n",
       "      <th>457</th>\n",
       "      <td>160493</td>\n",
       "      <td>160489</td>\n",
       "      <td>chr20</td>\n",
       "      <td>51691989</td>\n",
       "      <td>51691671</td>\n",
       "      <td>160489:160493</td>\n",
       "      <td>318</td>\n",
       "      <td>4</td>\n",
       "    </tr>\n",
       "    <tr>\n",
       "      <th>589</th>\n",
       "      <td>190319</td>\n",
       "      <td>190314</td>\n",
       "      <td>chr20</td>\n",
       "      <td>59562420</td>\n",
       "      <td>59562077</td>\n",
       "      <td>190314:190319</td>\n",
       "      <td>343</td>\n",
       "      <td>5</td>\n",
       "    </tr>\n",
       "    <tr>\n",
       "      <th>483</th>\n",
       "      <td>164907</td>\n",
       "      <td>164904</td>\n",
       "      <td>chr20</td>\n",
       "      <td>52822642</td>\n",
       "      <td>52822249</td>\n",
       "      <td>164904:164907</td>\n",
       "      <td>393</td>\n",
       "      <td>3</td>\n",
       "    </tr>\n",
       "  </tbody>\n",
       "</table>\n",
       "</div>"
      ],
      "text/plain": [
       "     bimIdEnd  bimIdStart  chrom  chromEnd  chromStart           name  len  \\\n",
       "56      10931       10928  chr20   2751855     2751794    10928:10931   61   \n",
       "500    171528      171523  chr20  54542872    54542622  171523:171528  250   \n",
       "457    160493      160489  chr20  51691989    51691671  160489:160493  318   \n",
       "589    190319      190314  chr20  59562420    59562077  190314:190319  343   \n",
       "483    164907      164904  chr20  52822642    52822249  164904:164907  393   \n",
       "\n",
       "     nSNPs  \n",
       "56       3  \n",
       "500      5  \n",
       "457      4  \n",
       "589      5  \n",
       "483      3  "
      ]
     },
     "execution_count": 27,
     "metadata": {},
     "output_type": "execute_result"
    }
   ],
   "source": [
    "bed_df.sort_values(by='len').head()"
   ]
  },
  {
   "cell_type": "markdown",
   "metadata": {},
   "source": [
    "### The largest blocks (top 5)"
   ]
  },
  {
   "cell_type": "code",
   "execution_count": 28,
   "metadata": {
    "collapsed": false
   },
   "outputs": [
    {
     "data": {
      "text/html": [
       "<div>\n",
       "<table border=\"1\" class=\"dataframe\">\n",
       "  <thead>\n",
       "    <tr style=\"text-align: right;\">\n",
       "      <th></th>\n",
       "      <th>bimIdEnd</th>\n",
       "      <th>bimIdStart</th>\n",
       "      <th>chrom</th>\n",
       "      <th>chromEnd</th>\n",
       "      <th>chromStart</th>\n",
       "      <th>name</th>\n",
       "      <th>len</th>\n",
       "      <th>nSNPs</th>\n",
       "    </tr>\n",
       "  </thead>\n",
       "  <tbody>\n",
       "    <tr>\n",
       "      <th>294</th>\n",
       "      <td>95444</td>\n",
       "      <td>95166</td>\n",
       "      <td>chr20</td>\n",
       "      <td>29479934</td>\n",
       "      <td>26285874</td>\n",
       "      <td>95166:95444</td>\n",
       "      <td>3194060</td>\n",
       "      <td>278</td>\n",
       "    </tr>\n",
       "    <tr>\n",
       "      <th>310</th>\n",
       "      <td>108016</td>\n",
       "      <td>106563</td>\n",
       "      <td>chr20</td>\n",
       "      <td>35449880</td>\n",
       "      <td>34445164</td>\n",
       "      <td>106563:108016</td>\n",
       "      <td>1004716</td>\n",
       "      <td>1453</td>\n",
       "    </tr>\n",
       "    <tr>\n",
       "      <th>293</th>\n",
       "      <td>95166</td>\n",
       "      <td>92829</td>\n",
       "      <td>chr20</td>\n",
       "      <td>26285874</td>\n",
       "      <td>25285220</td>\n",
       "      <td>92829:95166</td>\n",
       "      <td>1000654</td>\n",
       "      <td>2337</td>\n",
       "    </tr>\n",
       "    <tr>\n",
       "      <th>296</th>\n",
       "      <td>98031</td>\n",
       "      <td>95629</td>\n",
       "      <td>chr20</td>\n",
       "      <td>30526403</td>\n",
       "      <td>29526085</td>\n",
       "      <td>95629:98031</td>\n",
       "      <td>1000318</td>\n",
       "      <td>2402</td>\n",
       "    </tr>\n",
       "    <tr>\n",
       "      <th>306</th>\n",
       "      <td>104213</td>\n",
       "      <td>102545</td>\n",
       "      <td>chr20</td>\n",
       "      <td>33538521</td>\n",
       "      <td>32538391</td>\n",
       "      <td>102545:104213</td>\n",
       "      <td>1000130</td>\n",
       "      <td>1668</td>\n",
       "    </tr>\n",
       "  </tbody>\n",
       "</table>\n",
       "</div>"
      ],
      "text/plain": [
       "     bimIdEnd  bimIdStart  chrom  chromEnd  chromStart           name  \\\n",
       "294     95444       95166  chr20  29479934    26285874    95166:95444   \n",
       "310    108016      106563  chr20  35449880    34445164  106563:108016   \n",
       "293     95166       92829  chr20  26285874    25285220    92829:95166   \n",
       "296     98031       95629  chr20  30526403    29526085    95629:98031   \n",
       "306    104213      102545  chr20  33538521    32538391  102545:104213   \n",
       "\n",
       "         len  nSNPs  \n",
       "294  3194060    278  \n",
       "310  1004716   1453  \n",
       "293  1000654   2337  \n",
       "296  1000318   2402  \n",
       "306  1000130   1668  "
      ]
     },
     "execution_count": 28,
     "metadata": {},
     "output_type": "execute_result"
    }
   ],
   "source": [
    "bed_df.sort_values(by='len', ascending=False).head()"
   ]
  },
  {
   "cell_type": "code",
   "execution_count": null,
   "metadata": {
    "collapsed": true
   },
   "outputs": [],
   "source": []
  }
 ],
 "metadata": {
  "kernelspec": {
   "display_name": "Python 3",
   "language": "python",
   "name": "python3"
  },
  "language_info": {
   "codemirror_mode": {
    "name": "ipython",
    "version": 3
   },
   "file_extension": ".py",
   "mimetype": "text/x-python",
   "name": "python",
   "nbconvert_exporter": "python",
   "pygments_lexer": "ipython3",
   "version": "3.6.0"
  }
 },
 "nbformat": 4,
 "nbformat_minor": 2
}
