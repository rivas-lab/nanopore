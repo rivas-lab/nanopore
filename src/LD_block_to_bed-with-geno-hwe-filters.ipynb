{
 "cells": [
  {
   "cell_type": "markdown",
   "metadata": {},
   "source": [
    "## LD block definition for the nanopore haplotype inference project\n",
    "### Yosuke Tanigawa (2017/7/26)\n",
    "\n",
    "## Summary:\n",
    "This note describes\n",
    "1. PLINK --blocks command to generate .block.det file\n",
    "1. method to generate bed file (region, not the genotype file) for our definition of LD blocks\n",
    "\n",
    "We imposed extra filter on the SNPs in the input data:\n",
    "- hwe 1e-10\n",
    "- genotype rate >= 10%"
   ]
  },
  {
   "cell_type": "code",
   "execution_count": 1,
   "metadata": {
    "collapsed": true
   },
   "outputs": [],
   "source": [
    "%matplotlib inline\n",
    "\n",
    "import numpy as np\n",
    "import pandas as pd\n",
    "import matplotlib\n",
    "import matplotlib.pyplot as plt\n",
    "import matplotlib.gridspec as gridspec\n",
    "import itertools as it\n",
    "import bisect"
   ]
  },
  {
   "cell_type": "code",
   "execution_count": 2,
   "metadata": {
    "collapsed": true
   },
   "outputs": [],
   "source": [
    "font = {#'family' : 'normal',\n",
    "        #'weight' : 'bold',\n",
    "        'size'   : 20}\n",
    "matplotlib.rc('font', **font)"
   ]
  },
  {
   "cell_type": "markdown",
   "metadata": {},
   "source": [
    "## 1) PLINK --blocks command\n",
    "- We used plink 1.9 --blocks option to compute the LD blocks\n",
    "- https://www.cog-genomics.org/plink2/ld"
   ]
  },
  {
   "cell_type": "code",
   "execution_count": 3,
   "metadata": {
    "collapsed": true
   },
   "outputs": [],
   "source": [
    "data_dir='/oak/stanford/groups/mrivas/users/ytanigaw/nanopore-data'\n",
    "geno_bed_log='chr20impv1-keep-maf0005-snv-biallelic-geno01-hwe1e-10.log'\n",
    "block_log='chr20impv1-keep-maf0005-snv-biallelic-geno01-hwe1e-10-block-stronglow050-stronghigh083-infofrac10.log'"
   ]
  },
  {
   "cell_type": "code",
   "execution_count": 4,
   "metadata": {},
   "outputs": [
    {
     "name": "stdout",
     "output_type": "stream",
     "text": [
      "PLINK v1.90b3.45 64-bit (13 Jan 2017)\r\n",
      "Options in effect:\r\n",
      "  --bfile /oak/stanford/groups/mrivas/private_data/ukbb/pgen/chr20impv1\r\n",
      "  --biallelic-only strict\r\n",
      "  --geno\r\n",
      "  --hwe 1e-10 midp\r\n",
      "  --keep /share/PI/mrivas/data/ukbb/phefiles/initialdata/1389.phe\r\n",
      "  --maf 0.005\r\n",
      "  --make-bed\r\n",
      "  --memory 30000\r\n",
      "  --out /oak/stanford/groups/mrivas/users/ytanigaw/nanopore-data/chr20impv1-keep-maf0005-snv-biallelic-geno01-hwe1e-10\r\n",
      "  --snps-only just-acgt\r\n",
      "\r\n",
      "Hostname: sh-102-07.int\r\n",
      "Working directory: /home/users/ytanigaw\r\n",
      "Start time: Fri Jun 23 16:24:21 2017\r\n",
      "\r\n",
      "Random number seed: 1498260261\r\n",
      "257674 MB RAM detected; reserving 30000 MB for main workspace.\r\n",
      "1540220 out of 1619597 variants loaded from .bim file.\r\n",
      "152249 people (0 males, 0 females, 152249 ambiguous) loaded from .fam.\r\n",
      "Ambiguous sex IDs written to\r\n",
      "/oak/stanford/groups/mrivas/users/ytanigaw/nanopore-data/chr20impv1-keep-maf0005-snv-biallelic-geno01-hwe1e-10.nosex\r\n",
      ".\r\n",
      "--keep: 112338 people remaining.\r\n",
      "Using 1 thread (no multithreaded calculations invoked).\r\n",
      "Before main variant filters, 112338 founders and 0 nonfounders present.\r\n",
      "Calculating allele frequencies... done.\r\n",
      "Total genotyping rate in remaining samples is 0.996625.\r\n",
      "6300 variants removed due to missing genotype data (--geno).\r\n",
      "--hwe: 781 variants removed due to Hardy-Weinberg exact test.\r\n",
      "1334721 variants removed due to minor allele threshold(s)\r\n",
      "(--maf/--max-maf/--mac/--max-mac).\r\n",
      "198418 variants and 112338 people pass filters and QC.\r\n",
      "Note: No phenotypes present.\r\n",
      "--make-bed to\r\n",
      "/oak/stanford/groups/mrivas/users/ytanigaw/nanopore-data/chr20impv1-keep-maf0005-snv-biallelic-geno01-hwe1e-10.bed\r\n",
      "+\r\n",
      "/oak/stanford/groups/mrivas/users/ytanigaw/nanopore-data/chr20impv1-keep-maf0005-snv-biallelic-geno01-hwe1e-10.bim\r\n",
      "+\r\n",
      "/oak/stanford/groups/mrivas/users/ytanigaw/nanopore-data/chr20impv1-keep-maf0005-snv-biallelic-geno01-hwe1e-10.fam\r\n",
      "... done.\r\n",
      "\r\n",
      "End time: Fri Jun 23 16:26:23 2017\r\n"
     ]
    }
   ],
   "source": [
    "!cat $data_dir'/'$geno_bed_log"
   ]
  },
  {
   "cell_type": "code",
   "execution_count": 5,
   "metadata": {},
   "outputs": [
    {
     "name": "stdout",
     "output_type": "stream",
     "text": [
      "PLINK v1.90b3.45 64-bit (13 Jan 2017)\r\n",
      "Options in effect:\r\n",
      "  --bfile /oak/stanford/groups/mrivas/users/ytanigaw/nanopore-data/chr20impv1-keep-maf0005-snv-biallelic-geno01-hwe1e-10\r\n",
      "  --blocks no-pheno-req no-small-max-span\r\n",
      "  --blocks-inform-frac 0.10\r\n",
      "  --blocks-max-kb 1000\r\n",
      "  --blocks-recomb-highci 0.830001\r\n",
      "  --blocks-strong-highci 0.830001\r\n",
      "  --blocks-strong-lowci 0.50001\r\n",
      "  --memory 30000\r\n",
      "  --out /oak/stanford/groups/mrivas/users/ytanigaw/nanopore-data/chr20impv1-keep-maf0005-snv-biallelic-geno01-hwe1e-10-block-stronglow050-stronghigh083-infofrac10\r\n",
      "\r\n",
      "Hostname: sh-102-07.int\r\n",
      "Working directory: /home/users/ytanigaw\r\n",
      "Start time: Fri Jun 23 16:32:58 2017\r\n",
      "\r\n",
      "Random number seed: 1498260778\r\n",
      "257674 MB RAM detected; reserving 30000 MB for main workspace.\r\n",
      "198418 variants loaded from .bim file.\r\n",
      "112338 people (0 males, 0 females, 112338 ambiguous) loaded from .fam.\r\n",
      "Ambiguous sex IDs written to\r\n",
      "/oak/stanford/groups/mrivas/users/ytanigaw/nanopore-data/chr20impv1-keep-maf0005-snv-biallelic-geno01-hwe1e-10-block-stronglow050-stronghigh083-infofrac10.nosex\r\n",
      ".\r\n",
      "Using 1 thread (no multithreaded calculations invoked).\r\n",
      "Before main variant filters, 112338 founders and 0 nonfounders present.\r\n",
      "Calculating allele frequencies... done.\r\n",
      "Total genotyping rate is 0.988021.\r\n",
      "198418 variants and 112338 people pass filters and QC.\r\n",
      "Note: No phenotypes present.\r\n",
      "--blocks: 642 haploblocks written to\r\n",
      "/oak/stanford/groups/mrivas/users/ytanigaw/nanopore-data/chr20impv1-keep-maf0005-snv-biallelic-geno01-hwe1e-10-block-stronglow050-stronghigh083-infofrac10.blocks\r\n",
      ".\r\n",
      "Extra block details written to\r\n",
      "/oak/stanford/groups/mrivas/users/ytanigaw/nanopore-data/chr20impv1-keep-maf0005-snv-biallelic-geno01-hwe1e-10-block-stronglow050-stronghigh083-infofrac10.blocks.det\r\n",
      ".\r\n",
      "Longest span: 999.994kb.\r\n",
      "\r\n",
      "End time: Fri Jun 23 17:17:10 2017\r\n"
     ]
    }
   ],
   "source": [
    "!cat $data_dir'/'$block_log"
   ]
  },
  {
   "cell_type": "markdown",
   "metadata": {},
   "source": [
    "### blocks.det file\n",
    "- the results of the PLINK 1.9 --blocks command is shown below:"
   ]
  },
  {
   "cell_type": "code",
   "execution_count": 6,
   "metadata": {
    "collapsed": true
   },
   "outputs": [],
   "source": [
    "block_det_f = '{}/{}.blocks.det'.format(\n",
    "    data_dir,\n",
    "    block_log[:-4]\n",
    ")"
   ]
  },
  {
   "cell_type": "code",
   "execution_count": 7,
   "metadata": {},
   "outputs": [
    {
     "name": "stdout",
     "output_type": "stream",
     "text": [
      "(642, 6)\n"
     ]
    },
    {
     "data": {
      "text/html": [
       "<div>\n",
       "<table border=\"1\" class=\"dataframe\">\n",
       "  <thead>\n",
       "    <tr style=\"text-align: right;\">\n",
       "      <th></th>\n",
       "      <th>CHR</th>\n",
       "      <th>BP1</th>\n",
       "      <th>BP2</th>\n",
       "      <th>KB</th>\n",
       "      <th>NSNPS</th>\n",
       "      <th>SNPS</th>\n",
       "    </tr>\n",
       "  </thead>\n",
       "  <tbody>\n",
       "    <tr>\n",
       "      <th>0</th>\n",
       "      <td>20</td>\n",
       "      <td>62731</td>\n",
       "      <td>93931</td>\n",
       "      <td>31.201</td>\n",
       "      <td>30</td>\n",
       "      <td>rs34147676|rs6139074|rs1418258|rs13043000|rs60...</td>\n",
       "    </tr>\n",
       "    <tr>\n",
       "      <th>1</th>\n",
       "      <td>20</td>\n",
       "      <td>94952</td>\n",
       "      <td>266511</td>\n",
       "      <td>171.560</td>\n",
       "      <td>545</td>\n",
       "      <td>rs1857092|rs80192833|rs6052070|rs6515824|rs605...</td>\n",
       "    </tr>\n",
       "    <tr>\n",
       "      <th>2</th>\n",
       "      <td>20</td>\n",
       "      <td>266792</td>\n",
       "      <td>287529</td>\n",
       "      <td>20.738</td>\n",
       "      <td>56</td>\n",
       "      <td>rs6137140|rs6082182|rs6082191|rs6082211|rs6075...</td>\n",
       "    </tr>\n",
       "    <tr>\n",
       "      <th>639</th>\n",
       "      <td>20</td>\n",
       "      <td>62475881</td>\n",
       "      <td>62481217</td>\n",
       "      <td>5.337</td>\n",
       "      <td>16</td>\n",
       "      <td>rs2427539|rs6010682|rs2427540|rs6010683|rs8120...</td>\n",
       "    </tr>\n",
       "    <tr>\n",
       "      <th>640</th>\n",
       "      <td>20</td>\n",
       "      <td>62481351</td>\n",
       "      <td>62871658</td>\n",
       "      <td>390.308</td>\n",
       "      <td>760</td>\n",
       "      <td>rs73149487|rs6062547|rs2768476|rs12624502|rs12...</td>\n",
       "    </tr>\n",
       "    <tr>\n",
       "      <th>641</th>\n",
       "      <td>20</td>\n",
       "      <td>62871952</td>\n",
       "      <td>62918861</td>\n",
       "      <td>46.910</td>\n",
       "      <td>110</td>\n",
       "      <td>rs2983433|rs2427625|rs41309379|rs11699386|rs41...</td>\n",
       "    </tr>\n",
       "  </tbody>\n",
       "</table>\n",
       "</div>"
      ],
      "text/plain": [
       "     CHR       BP1       BP2       KB  NSNPS  \\\n",
       "0     20     62731     93931   31.201     30   \n",
       "1     20     94952    266511  171.560    545   \n",
       "2     20    266792    287529   20.738     56   \n",
       "639   20  62475881  62481217    5.337     16   \n",
       "640   20  62481351  62871658  390.308    760   \n",
       "641   20  62871952  62918861   46.910    110   \n",
       "\n",
       "                                                  SNPS  \n",
       "0    rs34147676|rs6139074|rs1418258|rs13043000|rs60...  \n",
       "1    rs1857092|rs80192833|rs6052070|rs6515824|rs605...  \n",
       "2    rs6137140|rs6082182|rs6082191|rs6082211|rs6075...  \n",
       "639  rs2427539|rs6010682|rs2427540|rs6010683|rs8120...  \n",
       "640  rs73149487|rs6062547|rs2768476|rs12624502|rs12...  \n",
       "641  rs2983433|rs2427625|rs41309379|rs11699386|rs41...  "
      ]
     },
     "execution_count": 7,
     "metadata": {},
     "output_type": "execute_result"
    }
   ],
   "source": [
    "block_det = pd.read_csv(block_det_f, sep='\\s+')\n",
    "print(block_det.shape)\n",
    "block_det.loc[[x for x in range(3)] + [len(block_det) - x for x in range(3, 0, -1)]]"
   ]
  },
  {
   "cell_type": "markdown",
   "metadata": {},
   "source": [
    "### The mean and median of size and # SNPs\n",
    "- Here, SNPs with 5% + is used to define our blocks"
   ]
  },
  {
   "cell_type": "code",
   "execution_count": 8,
   "metadata": {},
   "outputs": [
    {
     "name": "stdout",
     "output_type": "stream",
     "text": [
      "91.540046728972 25.4125\n",
      "194.96728971962617 50.0\n"
     ]
    }
   ],
   "source": [
    "print(np.mean(block_det.KB), np.median(block_det.KB))\n",
    "print(np.mean(block_det.NSNPS), np.median(block_det.NSNPS))"
   ]
  },
  {
   "cell_type": "code",
   "execution_count": 9,
   "metadata": {},
   "outputs": [
    {
     "data": {
      "image/png": "[encoded data removed]",
      "text/plain": [
       "<matplotlib.figure.Figure at 0x7faf38a8eef0>"
      ]
     },
     "metadata": {},
     "output_type": "display_data"
    }
   ],
   "source": [
    "fig = plt.figure(figsize=(10, 5))\n",
    "gs = gridspec.GridSpec(1, 2)\n",
    "axs = [fig.add_subplot(ss) for ss in gs]\n",
    "axs[0].hist(block_det.KB)\n",
    "axs[1].hist(block_det.NSNPS)\n",
    "axs[0].set_xlabel('size of the LD block (kbp)')\n",
    "axs[1].set_xlabel('size of the LD block (# SNPs)')\n",
    "axs[0].set_ylabel('freq')\n",
    "axs[1].set_ylabel('freq')\n",
    "# axs[0].set_title('')\n",
    "# axs[1].set_title('')\n",
    "# fig_conf_curves.suptitle('')\n",
    "gs.tight_layout(fig, rect=[0, 0, 1, 0.88])"
   ]
  },
  {
   "cell_type": "markdown",
   "metadata": {},
   "source": [
    "## 2) conver to bed file\n",
    "### motivation\n",
    "- The blocks we found in the previous step does not fully cover the chromosome\n",
    "\n",
    "### method\n",
    "- Given the block.det file and bim file (that has all the SNPs we consider), we *define* LD-based blocks\n",
    "- block.det is essentially a list of intervals [[BP1_1, BP2_1), [BP1_2, BP2_2), ... , [BP1_n, BP2_n)]\n",
    "  - [x, y) denotes semi-open intervals where x is included in the interval while y isn't\n",
    "- Our definition of the blocks are: [[0, BP1_2), [BP1_2, BP1_3), [BP1_3, BP1_4), ... , [BP1_{n-1}, BP1_n), [BP1_{n-1}, end_of_chromosome]]"
   ]
  },
  {
   "cell_type": "code",
   "execution_count": 10,
   "metadata": {},
   "outputs": [
    {
     "name": "stdout",
     "output_type": "stream",
     "text": [
      "(198418, 6)\n"
     ]
    },
    {
     "data": {
      "text/html": [
       "<div>\n",
       "<table border=\"1\" class=\"dataframe\">\n",
       "  <thead>\n",
       "    <tr style=\"text-align: right;\">\n",
       "      <th></th>\n",
       "      <th>chr</th>\n",
       "      <th>rsid</th>\n",
       "      <th>genetic_dist</th>\n",
       "      <th>pos</th>\n",
       "      <th>a1</th>\n",
       "      <th>a2</th>\n",
       "    </tr>\n",
       "  </thead>\n",
       "  <tbody>\n",
       "    <tr>\n",
       "      <th>0</th>\n",
       "      <td>20</td>\n",
       "      <td>rs6078030</td>\n",
       "      <td>0</td>\n",
       "      <td>61098</td>\n",
       "      <td>T</td>\n",
       "      <td>C</td>\n",
       "    </tr>\n",
       "    <tr>\n",
       "      <th>1</th>\n",
       "      <td>20</td>\n",
       "      <td>rs143291093</td>\n",
       "      <td>0</td>\n",
       "      <td>61270</td>\n",
       "      <td>C</td>\n",
       "      <td>A</td>\n",
       "    </tr>\n",
       "    <tr>\n",
       "      <th>2</th>\n",
       "      <td>20</td>\n",
       "      <td>rs4814683</td>\n",
       "      <td>0</td>\n",
       "      <td>61795</td>\n",
       "      <td>T</td>\n",
       "      <td>G</td>\n",
       "    </tr>\n",
       "    <tr>\n",
       "      <th>198415</th>\n",
       "      <td>20</td>\n",
       "      <td>rs73628077</td>\n",
       "      <td>0</td>\n",
       "      <td>62956564</td>\n",
       "      <td>A</td>\n",
       "      <td>G</td>\n",
       "    </tr>\n",
       "    <tr>\n",
       "      <th>198416</th>\n",
       "      <td>20</td>\n",
       "      <td>rs11698187</td>\n",
       "      <td>0</td>\n",
       "      <td>62960292</td>\n",
       "      <td>G</td>\n",
       "      <td>A</td>\n",
       "    </tr>\n",
       "    <tr>\n",
       "      <th>198417</th>\n",
       "      <td>20</td>\n",
       "      <td>rs542224338</td>\n",
       "      <td>0</td>\n",
       "      <td>62963102</td>\n",
       "      <td>C</td>\n",
       "      <td>T</td>\n",
       "    </tr>\n",
       "  </tbody>\n",
       "</table>\n",
       "</div>"
      ],
      "text/plain": [
       "        chr         rsid  genetic_dist       pos a1 a2\n",
       "0        20    rs6078030             0     61098  T  C\n",
       "1        20  rs143291093             0     61270  C  A\n",
       "2        20    rs4814683             0     61795  T  G\n",
       "198415   20   rs73628077             0  62956564  A  G\n",
       "198416   20   rs11698187             0  62960292  G  A\n",
       "198417   20  rs542224338             0  62963102  C  T"
      ]
     },
     "execution_count": 10,
     "metadata": {},
     "output_type": "execute_result"
    }
   ],
   "source": [
    "bim_f = '{}/{}'.format(\n",
    "    data_dir,\n",
    "    'chr20impv1-keep-maf0005-snv-biallelic-geno01-hwe1e-10.bim'\n",
    ")\n",
    "\n",
    "bim = pd.read_csv(bim_f, sep='\\t', names=['chr', 'rsid', 'genetic_dist', 'pos', 'a1', 'a2'])\n",
    "print(bim.shape)\n",
    "bim.loc[[x for x in range(3)] + [len(bim) - x for x in range(3, 0, -1)]]"
   ]
  },
  {
   "cell_type": "markdown",
   "metadata": {},
   "source": [
    "- bim file is 1-indexed (for genomic positions, 4-th filed)\n",
    "- check several statistics"
   ]
  },
  {
   "cell_type": "code",
   "execution_count": 11,
   "metadata": {},
   "outputs": [
    {
     "data": {
      "text/plain": [
       "(62731, 62918861, 61098, 62963102, 642, 198418)"
      ]
     },
     "execution_count": 11,
     "metadata": {},
     "output_type": "execute_result"
    }
   ],
   "source": [
    "block_det.BP1[0], block_det.BP2.as_matrix()[-1], bim.pos[0], bim.pos.as_matrix()[-1], len(block_det), len(bim)"
   ]
  },
  {
   "cell_type": "markdown",
   "metadata": {},
   "source": [
    "- convert to intervals that cover the entire chromosome"
   ]
  },
  {
   "cell_type": "code",
   "execution_count": 12,
   "metadata": {
    "collapsed": true
   },
   "outputs": [],
   "source": [
    "interval_points = np.zeros(len(block_det) + 1, dtype=np.int)\n",
    "interval_points[1:-1] = [x - 1 for x in block_det.BP1.as_matrix()[1:]]\n",
    "interval_points[0] = bim.pos[0] - 1\n",
    "interval_points[-1] = bim.pos[len(bim) -1] - 1"
   ]
  },
  {
   "cell_type": "markdown",
   "metadata": {},
   "source": [
    "- we also want to store the intervals on bim-id space"
   ]
  },
  {
   "cell_type": "code",
   "execution_count": 13,
   "metadata": {},
   "outputs": [
    {
     "data": {
      "text/plain": [
       "array([   61097,    61269,    61794, ..., 62956563, 62960291, 62963101])"
      ]
     },
     "execution_count": 13,
     "metadata": {},
     "output_type": "execute_result"
    }
   ],
   "source": [
    "bim_pos_0index = bim.pos.map(lambda x: x - 1).as_matrix()\n",
    "bim_pos_0index"
   ]
  },
  {
   "cell_type": "code",
   "execution_count": 14,
   "metadata": {},
   "outputs": [
    {
     "data": {
      "text/plain": [
       "array([   0,   78,  915,  991, 1218, 1224, 1355, 1405, 1838, 1887])"
      ]
     },
     "execution_count": 14,
     "metadata": {},
     "output_type": "execute_result"
    }
   ],
   "source": [
    "interval_points_bimid = np.array([bisect.bisect_right(bim_pos_0index, x) - 1 for x in interval_points])\n",
    "interval_points_bimid[:10]"
   ]
  },
  {
   "cell_type": "code",
   "execution_count": 15,
   "metadata": {},
   "outputs": [
    {
     "data": {
      "text/plain": [
       "array([ 61097,  94951, 266791, 288775, 344630, 346675, 368904, 381669,\n",
       "       536535, 546545])"
      ]
     },
     "execution_count": 15,
     "metadata": {},
     "output_type": "execute_result"
    }
   ],
   "source": [
    "interval_points[:10]"
   ]
  },
  {
   "cell_type": "code",
   "execution_count": 16,
   "metadata": {},
   "outputs": [
    {
     "data": {
      "text/html": [
       "<div>\n",
       "<table border=\"1\" class=\"dataframe\">\n",
       "  <thead>\n",
       "    <tr style=\"text-align: right;\">\n",
       "      <th></th>\n",
       "      <th>chr</th>\n",
       "      <th>rsid</th>\n",
       "      <th>genetic_dist</th>\n",
       "      <th>pos</th>\n",
       "      <th>a1</th>\n",
       "      <th>a2</th>\n",
       "    </tr>\n",
       "  </thead>\n",
       "  <tbody>\n",
       "    <tr>\n",
       "      <th>0</th>\n",
       "      <td>20</td>\n",
       "      <td>rs6078030</td>\n",
       "      <td>0</td>\n",
       "      <td>61098</td>\n",
       "      <td>T</td>\n",
       "      <td>C</td>\n",
       "    </tr>\n",
       "    <tr>\n",
       "      <th>78</th>\n",
       "      <td>20</td>\n",
       "      <td>rs1857092</td>\n",
       "      <td>0</td>\n",
       "      <td>94952</td>\n",
       "      <td>T</td>\n",
       "      <td>G</td>\n",
       "    </tr>\n",
       "    <tr>\n",
       "      <th>915</th>\n",
       "      <td>20</td>\n",
       "      <td>rs6137140</td>\n",
       "      <td>0</td>\n",
       "      <td>266792</td>\n",
       "      <td>A</td>\n",
       "      <td>G</td>\n",
       "    </tr>\n",
       "    <tr>\n",
       "      <th>991</th>\n",
       "      <td>20</td>\n",
       "      <td>rs4815163</td>\n",
       "      <td>0</td>\n",
       "      <td>288776</td>\n",
       "      <td>T</td>\n",
       "      <td>C</td>\n",
       "    </tr>\n",
       "    <tr>\n",
       "      <th>1218</th>\n",
       "      <td>20</td>\n",
       "      <td>rs6084202</td>\n",
       "      <td>0</td>\n",
       "      <td>344631</td>\n",
       "      <td>A</td>\n",
       "      <td>G</td>\n",
       "    </tr>\n",
       "    <tr>\n",
       "      <th>1224</th>\n",
       "      <td>20</td>\n",
       "      <td>rs56266078</td>\n",
       "      <td>0</td>\n",
       "      <td>346676</td>\n",
       "      <td>T</td>\n",
       "      <td>C</td>\n",
       "    </tr>\n",
       "    <tr>\n",
       "      <th>1355</th>\n",
       "      <td>20</td>\n",
       "      <td>rs2295490</td>\n",
       "      <td>0</td>\n",
       "      <td>368905</td>\n",
       "      <td>G</td>\n",
       "      <td>A</td>\n",
       "    </tr>\n",
       "    <tr>\n",
       "      <th>1405</th>\n",
       "      <td>20</td>\n",
       "      <td>rs113654934</td>\n",
       "      <td>0</td>\n",
       "      <td>381670</td>\n",
       "      <td>T</td>\n",
       "      <td>C</td>\n",
       "    </tr>\n",
       "    <tr>\n",
       "      <th>1838</th>\n",
       "      <td>20</td>\n",
       "      <td>rs204670</td>\n",
       "      <td>0</td>\n",
       "      <td>536536</td>\n",
       "      <td>T</td>\n",
       "      <td>G</td>\n",
       "    </tr>\n",
       "    <tr>\n",
       "      <th>1887</th>\n",
       "      <td>20</td>\n",
       "      <td>rs204700</td>\n",
       "      <td>0</td>\n",
       "      <td>546546</td>\n",
       "      <td>A</td>\n",
       "      <td>G</td>\n",
       "    </tr>\n",
       "  </tbody>\n",
       "</table>\n",
       "</div>"
      ],
      "text/plain": [
       "      chr         rsid  genetic_dist     pos a1 a2\n",
       "0      20    rs6078030             0   61098  T  C\n",
       "78     20    rs1857092             0   94952  T  G\n",
       "915    20    rs6137140             0  266792  A  G\n",
       "991    20    rs4815163             0  288776  T  C\n",
       "1218   20    rs6084202             0  344631  A  G\n",
       "1224   20   rs56266078             0  346676  T  C\n",
       "1355   20    rs2295490             0  368905  G  A\n",
       "1405   20  rs113654934             0  381670  T  C\n",
       "1838   20     rs204670             0  536536  T  G\n",
       "1887   20     rs204700             0  546546  A  G"
      ]
     },
     "execution_count": 16,
     "metadata": {},
     "output_type": "execute_result"
    }
   ],
   "source": [
    "bim.loc[interval_points_bimid[:10]]"
   ]
  },
  {
   "cell_type": "markdown",
   "metadata": {},
   "source": [
    "### the results are represented as a data frame and stored in a bed file"
   ]
  },
  {
   "cell_type": "code",
   "execution_count": 17,
   "metadata": {
    "collapsed": true
   },
   "outputs": [],
   "source": [
    "bed_df = pd.DataFrame({\n",
    "    'chrom': ['chr20'] * len(block_det),\n",
    "    'chromStart': interval_points[:-1],\n",
    "    'chromEnd':   interval_points[1:],\n",
    "    'bimIdStart': interval_points_bimid[:-1],\n",
    "    'bimIdEnd':   interval_points_bimid[1:]\n",
    "})"
   ]
  },
  {
   "cell_type": "code",
   "execution_count": 18,
   "metadata": {
    "collapsed": true
   },
   "outputs": [],
   "source": [
    "bed_df['name'] = ['{}:{}'.format(bed_df.bimIdStart[x], bed_df.bimIdEnd[x]) for x in range(len(bed_df))]"
   ]
  },
  {
   "cell_type": "code",
   "execution_count": 19,
   "metadata": {},
   "outputs": [
    {
     "name": "stdout",
     "output_type": "stream",
     "text": [
      "(642, 6)\n"
     ]
    },
    {
     "data": {
      "text/html": [
       "<div>\n",
       "<table border=\"1\" class=\"dataframe\">\n",
       "  <thead>\n",
       "    <tr style=\"text-align: right;\">\n",
       "      <th></th>\n",
       "      <th>chrom</th>\n",
       "      <th>chromStart</th>\n",
       "      <th>chromEnd</th>\n",
       "      <th>bimIdStart</th>\n",
       "      <th>bimIdEnd</th>\n",
       "      <th>name</th>\n",
       "    </tr>\n",
       "  </thead>\n",
       "  <tbody>\n",
       "    <tr>\n",
       "      <th>0</th>\n",
       "      <td>chr20</td>\n",
       "      <td>61097</td>\n",
       "      <td>94951</td>\n",
       "      <td>0</td>\n",
       "      <td>78</td>\n",
       "      <td>0:78</td>\n",
       "    </tr>\n",
       "    <tr>\n",
       "      <th>1</th>\n",
       "      <td>chr20</td>\n",
       "      <td>94951</td>\n",
       "      <td>266791</td>\n",
       "      <td>78</td>\n",
       "      <td>915</td>\n",
       "      <td>78:915</td>\n",
       "    </tr>\n",
       "    <tr>\n",
       "      <th>2</th>\n",
       "      <td>chr20</td>\n",
       "      <td>266791</td>\n",
       "      <td>288775</td>\n",
       "      <td>915</td>\n",
       "      <td>991</td>\n",
       "      <td>915:991</td>\n",
       "    </tr>\n",
       "    <tr>\n",
       "      <th>639</th>\n",
       "      <td>chr20</td>\n",
       "      <td>62475880</td>\n",
       "      <td>62481350</td>\n",
       "      <td>196982</td>\n",
       "      <td>197010</td>\n",
       "      <td>196982:197010</td>\n",
       "    </tr>\n",
       "    <tr>\n",
       "      <th>640</th>\n",
       "      <td>chr20</td>\n",
       "      <td>62481350</td>\n",
       "      <td>62871951</td>\n",
       "      <td>197010</td>\n",
       "      <td>198256</td>\n",
       "      <td>197010:198256</td>\n",
       "    </tr>\n",
       "    <tr>\n",
       "      <th>641</th>\n",
       "      <td>chr20</td>\n",
       "      <td>62871951</td>\n",
       "      <td>62963101</td>\n",
       "      <td>198256</td>\n",
       "      <td>198417</td>\n",
       "      <td>198256:198417</td>\n",
       "    </tr>\n",
       "  </tbody>\n",
       "</table>\n",
       "</div>"
      ],
      "text/plain": [
       "     chrom  chromStart  chromEnd  bimIdStart  bimIdEnd           name\n",
       "0    chr20       61097     94951           0        78           0:78\n",
       "1    chr20       94951    266791          78       915         78:915\n",
       "2    chr20      266791    288775         915       991        915:991\n",
       "639  chr20    62475880  62481350      196982    197010  196982:197010\n",
       "640  chr20    62481350  62871951      197010    198256  197010:198256\n",
       "641  chr20    62871951  62963101      198256    198417  198256:198417"
      ]
     },
     "execution_count": 19,
     "metadata": {},
     "output_type": "execute_result"
    }
   ],
   "source": [
    "print(bed_df.shape)\n",
    "bed_df.loc[\n",
    "    [x for x in range(3)] + [len(bed_df) - x for x in range(3, 0, -1)],\n",
    "    ['chrom', 'chromStart', 'chromEnd', 'bimIdStart', 'bimIdEnd', 'name']]"
   ]
  },
  {
   "cell_type": "code",
   "execution_count": 20,
   "metadata": {},
   "outputs": [
    {
     "name": "stdout",
     "output_type": "stream",
     "text": [
      "/oak/stanford/groups/mrivas/users/ytanigaw/nanopore-data/chr20impv1-keep-maf0005-snv-biallelic-geno01-hwe1e-10-block-stronglow050-stronghigh083-infofrac10.bed\n"
     ]
    }
   ],
   "source": [
    "bed_f = '{}.bed'.format(block_det_f[:-11])\n",
    "print(bed_f)"
   ]
  },
  {
   "cell_type": "code",
   "execution_count": 21,
   "metadata": {
    "collapsed": true
   },
   "outputs": [],
   "source": [
    "bed_df[['chrom', 'chromStart', 'chromEnd', 'name']].to_csv(bed_f, header=False, index=False, sep='\\t')"
   ]
  },
  {
   "cell_type": "code",
   "execution_count": 22,
   "metadata": {},
   "outputs": [
    {
     "name": "stdout",
     "output_type": "stream",
     "text": [
      "chr20\t61097\t94951\t0:78\r\n",
      "chr20\t94951\t266791\t78:915\r\n",
      "chr20\t266791\t288775\t915:991\r\n",
      "chr20\t288775\t344630\t991:1218\r\n",
      "chr20\t344630\t346675\t1218:1224\r\n",
      "chr20\t346675\t368904\t1224:1355\r\n",
      "chr20\t368904\t381669\t1355:1405\r\n",
      "chr20\t381669\t536535\t1405:1838\r\n",
      "chr20\t536535\t546545\t1838:1887\r\n",
      "chr20\t546545\t549906\t1887:1901\r\n"
     ]
    }
   ],
   "source": [
    "!head $bed_f"
   ]
  },
  {
   "cell_type": "markdown",
   "metadata": {},
   "source": [
    "### the size of the blocks"
   ]
  },
  {
   "cell_type": "code",
   "execution_count": 23,
   "metadata": {
    "collapsed": true
   },
   "outputs": [],
   "source": [
    "bed_df['len'] = bed_df.chromEnd - bed_df.chromStart\n",
    "bed_df['nSNPs'] = bed_df.bimIdEnd - bed_df.bimIdStart"
   ]
  },
  {
   "cell_type": "code",
   "execution_count": 24,
   "metadata": {},
   "outputs": [
    {
     "name": "stdout",
     "output_type": "stream",
     "text": [
      "91.540046728972 25.4125\n",
      "97.97819937694705 27.0065\n"
     ]
    }
   ],
   "source": [
    "print(np.mean(block_det.KB), np.median(block_det.KB))\n",
    "print(np.mean(bed_df.len/1000), np.median(bed_df.len/1000))"
   ]
  },
  {
   "cell_type": "code",
   "execution_count": 25,
   "metadata": {},
   "outputs": [
    {
     "data": {
      "image/png": "[encoded data removed]",
      "text/plain": [
       "<matplotlib.figure.Figure at 0x7faf32922dd8>"
      ]
     },
     "metadata": {},
     "output_type": "display_data"
    }
   ],
   "source": [
    "fig = plt.figure(figsize=(10, 10))\n",
    "gs = gridspec.GridSpec(2, 2)\n",
    "axs = [fig.add_subplot(ss) for ss in gs]\n",
    "axs[0].hist(block_det.KB)\n",
    "axs[1].hist(block_det.NSNPS)\n",
    "axs[2].hist(bed_df.len/1000)\n",
    "axs[3].hist(bed_df.nSNPs)\n",
    "axs[0].set_xlabel('plink LD block size (kbp)')\n",
    "axs[1].set_xlabel('plink LD block size (# SNPs)')\n",
    "axs[2].set_xlabel('defined LD block size (kbp)')\n",
    "axs[3].set_xlabel('defined LD block size (# SNPs)')\n",
    "for ax in axs:\n",
    "    ax.set_ylabel('freq')\n",
    "gs.tight_layout(fig, rect=[0, 0, 1, 0.88])"
   ]
  },
  {
   "cell_type": "markdown",
   "metadata": {
    "collapsed": true
   },
   "source": [
    "### The smallest blocks ( top 5 )"
   ]
  },
  {
   "cell_type": "code",
   "execution_count": 26,
   "metadata": {},
   "outputs": [
    {
     "data": {
      "text/html": [
       "<div>\n",
       "<table border=\"1\" class=\"dataframe\">\n",
       "  <thead>\n",
       "    <tr style=\"text-align: right;\">\n",
       "      <th></th>\n",
       "      <th>bimIdEnd</th>\n",
       "      <th>bimIdStart</th>\n",
       "      <th>chrom</th>\n",
       "      <th>chromEnd</th>\n",
       "      <th>chromStart</th>\n",
       "      <th>name</th>\n",
       "      <th>len</th>\n",
       "      <th>nSNPs</th>\n",
       "    </tr>\n",
       "  </thead>\n",
       "  <tbody>\n",
       "    <tr>\n",
       "      <th>56</th>\n",
       "      <td>10391</td>\n",
       "      <td>10388</td>\n",
       "      <td>chr20</td>\n",
       "      <td>2751854</td>\n",
       "      <td>2751793</td>\n",
       "      <td>10388:10391</td>\n",
       "      <td>61</td>\n",
       "      <td>3</td>\n",
       "    </tr>\n",
       "    <tr>\n",
       "      <th>500</th>\n",
       "      <td>166000</td>\n",
       "      <td>165996</td>\n",
       "      <td>chr20</td>\n",
       "      <td>54542871</td>\n",
       "      <td>54542621</td>\n",
       "      <td>165996:166000</td>\n",
       "      <td>250</td>\n",
       "      <td>4</td>\n",
       "    </tr>\n",
       "    <tr>\n",
       "      <th>457</th>\n",
       "      <td>155363</td>\n",
       "      <td>155359</td>\n",
       "      <td>chr20</td>\n",
       "      <td>51691988</td>\n",
       "      <td>51691670</td>\n",
       "      <td>155359:155363</td>\n",
       "      <td>318</td>\n",
       "      <td>4</td>\n",
       "    </tr>\n",
       "    <tr>\n",
       "      <th>589</th>\n",
       "      <td>184164</td>\n",
       "      <td>184160</td>\n",
       "      <td>chr20</td>\n",
       "      <td>59562419</td>\n",
       "      <td>59562076</td>\n",
       "      <td>184160:184164</td>\n",
       "      <td>343</td>\n",
       "      <td>4</td>\n",
       "    </tr>\n",
       "    <tr>\n",
       "      <th>483</th>\n",
       "      <td>159542</td>\n",
       "      <td>159539</td>\n",
       "      <td>chr20</td>\n",
       "      <td>52822641</td>\n",
       "      <td>52822248</td>\n",
       "      <td>159539:159542</td>\n",
       "      <td>393</td>\n",
       "      <td>3</td>\n",
       "    </tr>\n",
       "  </tbody>\n",
       "</table>\n",
       "</div>"
      ],
      "text/plain": [
       "     bimIdEnd  bimIdStart  chrom  chromEnd  chromStart           name  len  \\\n",
       "56      10391       10388  chr20   2751854     2751793    10388:10391   61   \n",
       "500    166000      165996  chr20  54542871    54542621  165996:166000  250   \n",
       "457    155363      155359  chr20  51691988    51691670  155359:155363  318   \n",
       "589    184164      184160  chr20  59562419    59562076  184160:184164  343   \n",
       "483    159542      159539  chr20  52822641    52822248  159539:159542  393   \n",
       "\n",
       "     nSNPs  \n",
       "56       3  \n",
       "500      4  \n",
       "457      4  \n",
       "589      4  \n",
       "483      3  "
      ]
     },
     "execution_count": 26,
     "metadata": {},
     "output_type": "execute_result"
    }
   ],
   "source": [
    "bed_df.sort_values(by='len').head()"
   ]
  },
  {
   "cell_type": "markdown",
   "metadata": {},
   "source": [
    "### The largest blocks (top 5)"
   ]
  },
  {
   "cell_type": "code",
   "execution_count": 27,
   "metadata": {},
   "outputs": [
    {
     "data": {
      "text/html": [
       "<div>\n",
       "<table border=\"1\" class=\"dataframe\">\n",
       "  <thead>\n",
       "    <tr style=\"text-align: right;\">\n",
       "      <th></th>\n",
       "      <th>bimIdEnd</th>\n",
       "      <th>bimIdStart</th>\n",
       "      <th>chrom</th>\n",
       "      <th>chromEnd</th>\n",
       "      <th>chromStart</th>\n",
       "      <th>name</th>\n",
       "      <th>len</th>\n",
       "      <th>nSNPs</th>\n",
       "    </tr>\n",
       "  </thead>\n",
       "  <tbody>\n",
       "    <tr>\n",
       "      <th>294</th>\n",
       "      <td>92240</td>\n",
       "      <td>92200</td>\n",
       "      <td>chr20</td>\n",
       "      <td>29479933</td>\n",
       "      <td>26285873</td>\n",
       "      <td>92200:92240</td>\n",
       "      <td>3194060</td>\n",
       "      <td>40</td>\n",
       "    </tr>\n",
       "    <tr>\n",
       "      <th>310</th>\n",
       "      <td>104273</td>\n",
       "      <td>102848</td>\n",
       "      <td>chr20</td>\n",
       "      <td>35449879</td>\n",
       "      <td>34445163</td>\n",
       "      <td>102848:104273</td>\n",
       "      <td>1004716</td>\n",
       "      <td>1425</td>\n",
       "    </tr>\n",
       "    <tr>\n",
       "      <th>293</th>\n",
       "      <td>92200</td>\n",
       "      <td>90220</td>\n",
       "      <td>chr20</td>\n",
       "      <td>26285873</td>\n",
       "      <td>25285219</td>\n",
       "      <td>90220:92200</td>\n",
       "      <td>1000654</td>\n",
       "      <td>1980</td>\n",
       "    </tr>\n",
       "    <tr>\n",
       "      <th>296</th>\n",
       "      <td>94529</td>\n",
       "      <td>92343</td>\n",
       "      <td>chr20</td>\n",
       "      <td>30526402</td>\n",
       "      <td>29526084</td>\n",
       "      <td>92343:94529</td>\n",
       "      <td>1000318</td>\n",
       "      <td>2186</td>\n",
       "    </tr>\n",
       "    <tr>\n",
       "      <th>306</th>\n",
       "      <td>100545</td>\n",
       "      <td>98914</td>\n",
       "      <td>chr20</td>\n",
       "      <td>33538520</td>\n",
       "      <td>32538390</td>\n",
       "      <td>98914:100545</td>\n",
       "      <td>1000130</td>\n",
       "      <td>1631</td>\n",
       "    </tr>\n",
       "  </tbody>\n",
       "</table>\n",
       "</div>"
      ],
      "text/plain": [
       "     bimIdEnd  bimIdStart  chrom  chromEnd  chromStart           name  \\\n",
       "294     92240       92200  chr20  29479933    26285873    92200:92240   \n",
       "310    104273      102848  chr20  35449879    34445163  102848:104273   \n",
       "293     92200       90220  chr20  26285873    25285219    90220:92200   \n",
       "296     94529       92343  chr20  30526402    29526084    92343:94529   \n",
       "306    100545       98914  chr20  33538520    32538390   98914:100545   \n",
       "\n",
       "         len  nSNPs  \n",
       "294  3194060     40  \n",
       "310  1004716   1425  \n",
       "293  1000654   1980  \n",
       "296  1000318   2186  \n",
       "306  1000130   1631  "
      ]
     },
     "execution_count": 27,
     "metadata": {},
     "output_type": "execute_result"
    }
   ],
   "source": [
    "bed_df.sort_values(by='len', ascending=False).head()"
   ]
  },
  {
   "cell_type": "code",
   "execution_count": null,
   "metadata": {
    "collapsed": true
   },
   "outputs": [],
   "source": []
  }
 ],
 "metadata": {
  "kernelspec": {
   "display_name": "Python 3",
   "language": "python",
   "name": "python3"
  },
  "language_info": {
   "codemirror_mode": {
    "name": "ipython",
    "version": 3
   },
   "file_extension": ".py",
   "mimetype": "text/x-python",
   "name": "python",
   "nbconvert_exporter": "python",
   "pygments_lexer": "ipython3",
   "version": "3.6.0"
  }
 },
 "nbformat": 4,
 "nbformat_minor": 2
}
