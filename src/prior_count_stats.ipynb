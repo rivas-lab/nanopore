{
 "cells": [
  {
   "cell_type": "markdown",
   "metadata": {},
   "source": [
    "## prior count statistics\n",
    "- Yosuke Tanigawa (6/27/2017)\n",
    "\n",
    "## Objective\n",
    "- This notebook summarizes the basic statistics of blocks"
   ]
  },
  {
   "cell_type": "code",
   "execution_count": 1,
   "metadata": {
    "collapsed": true
   },
   "outputs": [],
   "source": [
    "%matplotlib inline\n",
    "\n",
    "from __future__ import print_function\n",
    "\n",
    "import sys\n",
    "import logging\n",
    "from logging.config import dictConfig\n",
    "import numpy as np\n",
    "import pandas as pd\n",
    "import matplotlib\n",
    "import matplotlib.pyplot as plt\n",
    "import matplotlib.gridspec as gridspec\n",
    "import itertools as it\n",
    "import collections as cl\n",
    "# import multiprocessing\n",
    "# import bisect\n",
    "\n",
    "# from numba import jit\n",
    "\n",
    "# import pgenlib as pg\n",
    "\n",
    "logging_config = dict(\n",
    "    version = 1,\n",
    "    formatters = {\n",
    "        'f': {'format':\n",
    "              '%(asctime)s %(name)-12s %(levelname)-8s %(message)s'}\n",
    "        },\n",
    "    handlers = {\n",
    "        'h': {'class': 'logging.StreamHandler',\n",
    "              'formatter': 'f',\n",
    "              'level': logging.DEBUG}\n",
    "        },\n",
    "    root = {\n",
    "        'handlers': ['h'],\n",
    "        'level': logging.DEBUG,\n",
    "        },\n",
    ")\n",
    "dictConfig(logging_config)"
   ]
  },
  {
   "cell_type": "code",
   "execution_count": 2,
   "metadata": {},
   "outputs": [
    {
     "name": "stderr",
     "output_type": "stream",
     "text": [
      "2017-06-27 15:09:35,768 notebook     INFO     hello\n"
     ]
    }
   ],
   "source": [
    "logger_nb = logging.getLogger('notebook')\n",
    "logger_nb.info('hello')"
   ]
  },
  {
   "cell_type": "code",
   "execution_count": 3,
   "metadata": {
    "collapsed": true
   },
   "outputs": [],
   "source": [
    "data_dir='/oak/stanford/groups/mrivas/users/ytanigaw/nanopore-data'\n",
    "prior_dir='{}/prior_count'.format(data_dir)\n",
    "block_log='chr20impv1-keep-maf0005-snv-biallelic-geno01-hwe1e-10-block-stronglow050-stronghigh083-infofrac10.log'\n",
    "block_bed_f = '{}/{}.bed'.format(data_dir, block_log[:-4])"
   ]
  },
  {
   "cell_type": "code",
   "execution_count": 4,
   "metadata": {},
   "outputs": [
    {
     "data": {
      "text/html": [
       "<div>\n",
       "<style>\n",
       "    .dataframe thead tr:only-child th {\n",
       "        text-align: right;\n",
       "    }\n",
       "\n",
       "    .dataframe thead th {\n",
       "        text-align: left;\n",
       "    }\n",
       "\n",
       "    .dataframe tbody tr th {\n",
       "        vertical-align: top;\n",
       "    }\n",
       "</style>\n",
       "<table border=\"1\" class=\"dataframe\">\n",
       "  <thead>\n",
       "    <tr style=\"text-align: right;\">\n",
       "      <th></th>\n",
       "      <th>chrom</th>\n",
       "      <th>chromStart</th>\n",
       "      <th>chromEnd</th>\n",
       "      <th>name</th>\n",
       "      <th>bim_interval</th>\n",
       "      <th>bimStart</th>\n",
       "      <th>bimEnd</th>\n",
       "    </tr>\n",
       "  </thead>\n",
       "  <tbody>\n",
       "    <tr>\n",
       "      <th>0</th>\n",
       "      <td>chr20</td>\n",
       "      <td>61097</td>\n",
       "      <td>94951</td>\n",
       "      <td>0:78</td>\n",
       "      <td>[0, 78]</td>\n",
       "      <td>0</td>\n",
       "      <td>78</td>\n",
       "    </tr>\n",
       "    <tr>\n",
       "      <th>1</th>\n",
       "      <td>chr20</td>\n",
       "      <td>94951</td>\n",
       "      <td>266791</td>\n",
       "      <td>78:915</td>\n",
       "      <td>[78, 915]</td>\n",
       "      <td>78</td>\n",
       "      <td>915</td>\n",
       "    </tr>\n",
       "    <tr>\n",
       "      <th>2</th>\n",
       "      <td>chr20</td>\n",
       "      <td>266791</td>\n",
       "      <td>288775</td>\n",
       "      <td>915:991</td>\n",
       "      <td>[915, 991]</td>\n",
       "      <td>915</td>\n",
       "      <td>991</td>\n",
       "    </tr>\n",
       "    <tr>\n",
       "      <th>3</th>\n",
       "      <td>chr20</td>\n",
       "      <td>288775</td>\n",
       "      <td>344630</td>\n",
       "      <td>991:1218</td>\n",
       "      <td>[991, 1218]</td>\n",
       "      <td>991</td>\n",
       "      <td>1218</td>\n",
       "    </tr>\n",
       "    <tr>\n",
       "      <th>4</th>\n",
       "      <td>chr20</td>\n",
       "      <td>344630</td>\n",
       "      <td>346675</td>\n",
       "      <td>1218:1224</td>\n",
       "      <td>[1218, 1224]</td>\n",
       "      <td>1218</td>\n",
       "      <td>1224</td>\n",
       "    </tr>\n",
       "  </tbody>\n",
       "</table>\n",
       "</div>"
      ],
      "text/plain": [
       "   chrom  chromStart  chromEnd       name  bim_interval  bimStart  bimEnd\n",
       "0  chr20       61097     94951       0:78       [0, 78]         0      78\n",
       "1  chr20       94951    266791     78:915     [78, 915]        78     915\n",
       "2  chr20      266791    288775    915:991    [915, 991]       915     991\n",
       "3  chr20      288775    344630   991:1218   [991, 1218]       991    1218\n",
       "4  chr20      344630    346675  1218:1224  [1218, 1224]      1218    1224"
      ]
     },
     "execution_count": 4,
     "metadata": {},
     "output_type": "execute_result"
    }
   ],
   "source": [
    "block_bed = pd.read_csv(block_bed_f, sep='\\t', names=['chrom', 'chromStart', 'chromEnd', 'name'])\n",
    "block_bed['bim_interval'] = block_bed.name.map(lambda x: [int(pos) for pos in x.split(':')])\n",
    "block_bed['bimStart'] = block_bed.bim_interval.map(lambda x: x[0])\n",
    "block_bed['bimEnd'] = block_bed.bim_interval.map(lambda x: x[1])\n",
    "block_bed.head()"
   ]
  },
  {
   "cell_type": "code",
   "execution_count": 5,
   "metadata": {
    "collapsed": true
   },
   "outputs": [],
   "source": [
    "def get_stats_from_np(prior_dir, block_id):\n",
    "    c = np.load('{}/{}.npz'.format(prior_dir, block_id))\n",
    "    n_unique_haplotypes, _ = c['keys'].shape\n",
    "    n_haplotypes_without_missing_data = np.sum(c['vals'])\n",
    "    del c\n",
    "    return n_unique_haplotypes,  n_haplotypes_without_missing_data"
   ]
  },
  {
   "cell_type": "code",
   "execution_count": 6,
   "metadata": {
    "collapsed": true
   },
   "outputs": [],
   "source": [
    "stats_from_npz = np.array([get_stats_from_np(prior_dir, block_id) \n",
    "                           for block_id in range(len(block_bed))])"
   ]
  },
  {
   "cell_type": "code",
   "execution_count": 7,
   "metadata": {
    "collapsed": true
   },
   "outputs": [],
   "source": [
    "block_bed['nt_size'] = block_bed.chromEnd - block_bed.chromStart\n",
    "block_bed['n_SNPs'] = block_bed.bimEnd - block_bed.bimStart\n",
    "block_bed['n_uniq_haps'] = stats_from_npz[:, 0]\n",
    "block_bed['n_haps'] = stats_from_npz[:, 1]"
   ]
  },
  {
   "cell_type": "code",
   "execution_count": 8,
   "metadata": {
    "collapsed": true
   },
   "outputs": [],
   "source": [
    "block_bed_cols = [\n",
    "    'chrom', 'chromStart', 'chromEnd', 'bimStart', 'bimEnd', 'nt_size', 'n_SNPs', 'n_haps', 'n_uniq_haps'\n",
    "]"
   ]
  },
  {
   "cell_type": "code",
   "execution_count": 9,
   "metadata": {},
   "outputs": [
    {
     "data": {
      "text/html": [
       "<div>\n",
       "<style>\n",
       "    .dataframe thead tr:only-child th {\n",
       "        text-align: right;\n",
       "    }\n",
       "\n",
       "    .dataframe thead th {\n",
       "        text-align: left;\n",
       "    }\n",
       "\n",
       "    .dataframe tbody tr th {\n",
       "        vertical-align: top;\n",
       "    }\n",
       "</style>\n",
       "<table border=\"1\" class=\"dataframe\">\n",
       "  <thead>\n",
       "    <tr style=\"text-align: right;\">\n",
       "      <th></th>\n",
       "      <th>chrom</th>\n",
       "      <th>chromStart</th>\n",
       "      <th>chromEnd</th>\n",
       "      <th>bimStart</th>\n",
       "      <th>bimEnd</th>\n",
       "      <th>nt_size</th>\n",
       "      <th>n_SNPs</th>\n",
       "      <th>n_haps</th>\n",
       "      <th>n_uniq_haps</th>\n",
       "    </tr>\n",
       "  </thead>\n",
       "  <tbody>\n",
       "    <tr>\n",
       "      <th>0</th>\n",
       "      <td>chr20</td>\n",
       "      <td>61097</td>\n",
       "      <td>94951</td>\n",
       "      <td>0</td>\n",
       "      <td>78</td>\n",
       "      <td>33854</td>\n",
       "      <td>78</td>\n",
       "      <td>119900</td>\n",
       "      <td>4833</td>\n",
       "    </tr>\n",
       "    <tr>\n",
       "      <th>1</th>\n",
       "      <td>chr20</td>\n",
       "      <td>94951</td>\n",
       "      <td>266791</td>\n",
       "      <td>78</td>\n",
       "      <td>915</td>\n",
       "      <td>171840</td>\n",
       "      <td>837</td>\n",
       "      <td>24264</td>\n",
       "      <td>16646</td>\n",
       "    </tr>\n",
       "    <tr>\n",
       "      <th>2</th>\n",
       "      <td>chr20</td>\n",
       "      <td>266791</td>\n",
       "      <td>288775</td>\n",
       "      <td>915</td>\n",
       "      <td>991</td>\n",
       "      <td>21984</td>\n",
       "      <td>76</td>\n",
       "      <td>120130</td>\n",
       "      <td>6487</td>\n",
       "    </tr>\n",
       "    <tr>\n",
       "      <th>3</th>\n",
       "      <td>chr20</td>\n",
       "      <td>288775</td>\n",
       "      <td>344630</td>\n",
       "      <td>991</td>\n",
       "      <td>1218</td>\n",
       "      <td>55855</td>\n",
       "      <td>227</td>\n",
       "      <td>70042</td>\n",
       "      <td>16571</td>\n",
       "    </tr>\n",
       "    <tr>\n",
       "      <th>4</th>\n",
       "      <td>chr20</td>\n",
       "      <td>344630</td>\n",
       "      <td>346675</td>\n",
       "      <td>1218</td>\n",
       "      <td>1224</td>\n",
       "      <td>2045</td>\n",
       "      <td>6</td>\n",
       "      <td>202090</td>\n",
       "      <td>26</td>\n",
       "    </tr>\n",
       "  </tbody>\n",
       "</table>\n",
       "</div>"
      ],
      "text/plain": [
       "   chrom  chromStart  chromEnd  bimStart  bimEnd  nt_size  n_SNPs  n_haps  \\\n",
       "0  chr20       61097     94951         0      78    33854      78  119900   \n",
       "1  chr20       94951    266791        78     915   171840     837   24264   \n",
       "2  chr20      266791    288775       915     991    21984      76  120130   \n",
       "3  chr20      288775    344630       991    1218    55855     227   70042   \n",
       "4  chr20      344630    346675      1218    1224     2045       6  202090   \n",
       "\n",
       "   n_uniq_haps  \n",
       "0         4833  \n",
       "1        16646  \n",
       "2         6487  \n",
       "3        16571  \n",
       "4           26  "
      ]
     },
     "execution_count": 9,
     "metadata": {},
     "output_type": "execute_result"
    }
   ],
   "source": [
    "block_bed[block_bed_cols].head()"
   ]
  },
  {
   "cell_type": "markdown",
   "metadata": {},
   "source": [
    "## save to a tsv file"
   ]
  },
  {
   "cell_type": "code",
   "execution_count": 10,
   "metadata": {},
   "outputs": [
    {
     "data": {
      "text/plain": [
       "'/oak/stanford/groups/mrivas/users/ytanigaw/nanopore-data/chr20impv1-keep-maf0005-snv-biallelic-geno01-hwe1e-10-block-stronglow050-stronghigh083-infofrac10.tsv'"
      ]
     },
     "execution_count": 10,
     "metadata": {},
     "output_type": "execute_result"
    }
   ],
   "source": [
    "block_tsv_f = '{}.tsv'.format(block_bed_f[:-4])\n",
    "block_tsv_f"
   ]
  },
  {
   "cell_type": "code",
   "execution_count": 11,
   "metadata": {},
   "outputs": [],
   "source": [
    "block_bed[block_bed_cols].to_csv(block_tsv_f, index=False, sep='\\t')"
   ]
  },
  {
   "cell_type": "code",
   "execution_count": 12,
   "metadata": {},
   "outputs": [
    {
     "name": "stdout",
     "output_type": "stream",
     "text": [
      "chrom\tchromStart\tchromEnd\tbimStart\tbimEnd\tnt_size\tn_SNPs\tn_haps\tn_uniq_haps\r\n",
      "chr20\t61097\t94951\t0\t78\t33854\t78\t119900\t4833\r\n",
      "chr20\t94951\t266791\t78\t915\t171840\t837\t24264\t16646\r\n",
      "chr20\t266791\t288775\t915\t991\t21984\t76\t120130\t6487\r\n",
      "chr20\t288775\t344630\t991\t1218\t55855\t227\t70042\t16571\r\n",
      "chr20\t344630\t346675\t1218\t1224\t2045\t6\t202090\t26\r\n",
      "chr20\t346675\t368904\t1224\t1355\t22229\t131\t87266\t11161\r\n",
      "chr20\t368904\t381669\t1355\t1405\t12765\t50\t167090\t2490\r\n",
      "chr20\t381669\t536535\t1405\t1838\t154866\t433\t44650\t21721\r\n",
      "chr20\t536535\t546545\t1838\t1887\t10010\t49\t147164\t1754\r\n"
     ]
    }
   ],
   "source": [
    "!head $block_tsv_f"
   ]
  },
  {
   "cell_type": "markdown",
   "metadata": {},
   "source": [
    "## plot "
   ]
  },
  {
   "cell_type": "code",
   "execution_count": 13,
   "metadata": {},
   "outputs": [
    {
     "data": {
      "image/png": "[encoded data removed]",
      "text/plain": [
       "<matplotlib.figure.Figure at 0x7f4584baa410>"
      ]
     },
     "metadata": {},
     "output_type": "display_data"
    }
   ],
   "source": [
    "fig = plt.figure(figsize=(12, 4))\n",
    "gs = gridspec.GridSpec(1, 3)\n",
    "axs = [fig.add_subplot(ss) for ss in gs]\n",
    "axs[0].plot(block_bed.n_SNPs, block_bed.nt_size, 'x')\n",
    "axs[1].plot(block_bed.n_SNPs, block_bed.n_haps, 'x')\n",
    "axs[2].plot(block_bed.n_SNPs, block_bed.n_uniq_haps, 'x')\n",
    "axs[0].set_ylabel('size of LD block [nt]')\n",
    "axs[1].set_ylabel('# alleles without missing data')\n",
    "axs[2].set_ylabel('# uniq haplotypes')\n",
    "axs[0].set_title('size of LD block\\n(min: {}; max: {})'.format(\n",
    "    np.min(block_bed.nt_size), np.max(block_bed.nt_size)))\n",
    "axs[1].set_title('# of alleles without missing data\\n(min: {}; max: {})'.format(\n",
    "    np.min(block_bed.n_haps), np.max(block_bed.n_haps)))\n",
    "axs[2].set_title('# of unique haplotypes \\n(min: {}; max: {})'.format(\n",
    "    np.min(block_bed.n_uniq_haps), np.max(block_bed.n_uniq_haps)))\n",
    "for ax in axs:\n",
    "    ax.set_xlabel('number of SNPs')\n",
    "gs.tight_layout(fig, rect=[0, 0, 1, 0.88])\n"
   ]
  },
  {
   "cell_type": "code",
   "execution_count": 14,
   "metadata": {
    "collapsed": true
   },
   "outputs": [],
   "source": [
    "fig.savefig('prior_count_stats.png')"
   ]
  },
  {
   "cell_type": "code",
   "execution_count": null,
   "metadata": {
    "collapsed": true
   },
   "outputs": [],
   "source": []
  }
 ],
 "metadata": {
  "kernelspec": {
   "display_name": "dev27",
   "language": "python",
   "name": "dev27"
  },
  "language_info": {
   "codemirror_mode": {
    "name": "ipython",
    "version": 2
   },
   "file_extension": ".py",
   "mimetype": "text/x-python",
   "name": "python",
   "nbconvert_exporter": "python",
   "pygments_lexer": "ipython2",
   "version": "2.7.13"
  }
 },
 "nbformat": 4,
 "nbformat_minor": 2
}
