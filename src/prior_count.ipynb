{
 "cells": [
  {
   "cell_type": "code",
   "execution_count": 1,
   "metadata": {
    "collapsed": true
   },
   "outputs": [],
   "source": [
    "%matplotlib inline"
   ]
  },
  {
   "cell_type": "code",
   "execution_count": 2,
   "metadata": {
    "collapsed": false
   },
   "outputs": [],
   "source": [
    "from __future__ import print_function\n",
    "\n",
    "import sys\n",
    "import logging\n",
    "from logging.config import dictConfig\n",
    "import pickle\n",
    "import numpy as np\n",
    "import pandas as pd\n",
    "import matplotlib\n",
    "import matplotlib.pyplot as plt\n",
    "import matplotlib.gridspec as gridspec\n",
    "import itertools as it\n",
    "import collections as cl\n",
    "import multiprocessing\n",
    "\n",
    "from numba import jit\n",
    "\n",
    "import pgenlib as pg"
   ]
  },
  {
   "cell_type": "code",
   "execution_count": 3,
   "metadata": {
    "collapsed": false
   },
   "outputs": [],
   "source": [
    "logging_config = dict(\n",
    "    version = 1,\n",
    "    formatters = {\n",
    "        'f': {'format':\n",
    "              '%(asctime)s %(name)-12s %(levelname)-8s %(message)s'}\n",
    "        },\n",
    "    handlers = {\n",
    "        'h': {'class': 'logging.StreamHandler',\n",
    "              'formatter': 'f',\n",
    "              'level': logging.DEBUG}\n",
    "        },\n",
    "    root = {\n",
    "        'handlers': ['h'],\n",
    "        'level': logging.DEBUG,\n",
    "        },\n",
    ")\n",
    "dictConfig(logging_config)"
   ]
  },
  {
   "cell_type": "code",
   "execution_count": 4,
   "metadata": {
    "collapsed": true
   },
   "outputs": [],
   "source": [
    "logger_nb = logging.getLogger('notebook')"
   ]
  },
  {
   "cell_type": "code",
   "execution_count": 5,
   "metadata": {
    "collapsed": false
   },
   "outputs": [
    {
     "name": "stderr",
     "output_type": "stream",
     "text": [
      "2017-06-25 15:45:49,375 notebook     INFO     hello\n"
     ]
    }
   ],
   "source": [
    "logger_nb.info('hello')"
   ]
  },
  {
   "cell_type": "code",
   "execution_count": 6,
   "metadata": {
    "collapsed": true
   },
   "outputs": [],
   "source": [
    "data_dir='/oak/stanford/groups/mrivas/users/ytanigaw/nanopore-data/'\n",
    "geno_bed_log='chr20impv1-keep-maf0005-snv-biallelic-geno01-hwe1e-10.log'\n",
    "block_log='chr20impv1-keep-maf0005-snv-biallelic-geno01-hwe1e-10-block-stronglow050-stronghigh083-infofrac10.log'\n",
    "pgen_log='chr20impv1-keep-maf0005-snv-biallelic-geno01-hwe1e-10-pg.log'\n",
    "pgen_f = '{}{}.pgen'.format(data_dir, pgen_log[:-4])\n",
    "block_bed_f = '{}{}.bed'.format(data_dir, block_log[:-4])"
   ]
  },
  {
   "cell_type": "code",
   "execution_count": 7,
   "metadata": {
    "collapsed": true
   },
   "outputs": [],
   "source": [
    "block_bed = pd.read_csv(block_bed_f, sep='\\t', names=['chrom', 'chromStart', 'chromEnd', 'name'])\n",
    "block_bed['bim_interval'] = block_bed.name.map(lambda x: [int(pos) for pos in x.split(':')])"
   ]
  },
  {
   "cell_type": "code",
   "execution_count": 8,
   "metadata": {
    "collapsed": false
   },
   "outputs": [
    {
     "data": {
      "text/html": [
       "<div>\n",
       "<style>\n",
       "    .dataframe thead tr:only-child th {\n",
       "        text-align: right;\n",
       "    }\n",
       "\n",
       "    .dataframe thead th {\n",
       "        text-align: left;\n",
       "    }\n",
       "\n",
       "    .dataframe tbody tr th {\n",
       "        vertical-align: top;\n",
       "    }\n",
       "</style>\n",
       "<table border=\"1\" class=\"dataframe\">\n",
       "  <thead>\n",
       "    <tr style=\"text-align: right;\">\n",
       "      <th></th>\n",
       "      <th>chrom</th>\n",
       "      <th>chromStart</th>\n",
       "      <th>chromEnd</th>\n",
       "      <th>name</th>\n",
       "      <th>bim_interval</th>\n",
       "    </tr>\n",
       "  </thead>\n",
       "  <tbody>\n",
       "    <tr>\n",
       "      <th>0</th>\n",
       "      <td>chr20</td>\n",
       "      <td>61097</td>\n",
       "      <td>94952</td>\n",
       "      <td>0:86</td>\n",
       "      <td>[0, 86]</td>\n",
       "    </tr>\n",
       "    <tr>\n",
       "      <th>1</th>\n",
       "      <td>chr20</td>\n",
       "      <td>94952</td>\n",
       "      <td>266792</td>\n",
       "      <td>86:938</td>\n",
       "      <td>[86, 938]</td>\n",
       "    </tr>\n",
       "    <tr>\n",
       "      <th>2</th>\n",
       "      <td>chr20</td>\n",
       "      <td>266792</td>\n",
       "      <td>288776</td>\n",
       "      <td>938:1027</td>\n",
       "      <td>[938, 1027]</td>\n",
       "    </tr>\n",
       "    <tr>\n",
       "      <th>3</th>\n",
       "      <td>chr20</td>\n",
       "      <td>288776</td>\n",
       "      <td>344631</td>\n",
       "      <td>1027:1270</td>\n",
       "      <td>[1027, 1270]</td>\n",
       "    </tr>\n",
       "    <tr>\n",
       "      <th>4</th>\n",
       "      <td>chr20</td>\n",
       "      <td>344631</td>\n",
       "      <td>346676</td>\n",
       "      <td>1270:1277</td>\n",
       "      <td>[1270, 1277]</td>\n",
       "    </tr>\n",
       "  </tbody>\n",
       "</table>\n",
       "</div>"
      ],
      "text/plain": [
       "   chrom  chromStart  chromEnd       name  bim_interval\n",
       "0  chr20       61097     94952       0:86       [0, 86]\n",
       "1  chr20       94952    266792     86:938     [86, 938]\n",
       "2  chr20      266792    288776   938:1027   [938, 1027]\n",
       "3  chr20      288776    344631  1027:1270  [1027, 1270]\n",
       "4  chr20      344631    346676  1270:1277  [1270, 1277]"
      ]
     },
     "execution_count": 8,
     "metadata": {},
     "output_type": "execute_result"
    }
   ],
   "source": [
    "block_bed.head()"
   ]
  },
  {
   "cell_type": "code",
   "execution_count": 9,
   "metadata": {
    "collapsed": true
   },
   "outputs": [],
   "source": [
    "def read_alleles_block(pgen_f, block_df, block_id):\n",
    "    \"\"\"wrapper function of pgen.PgenReader.read_alleles_range for a LD block\"\"\"\n",
    "    bim_interval = block_df.bim_interval[block_id]\n",
    "    with pg.PgenReader(pgen_f) as pgr:\n",
    "        buf_ndary = np.zeros(\n",
    "            (bim_interval[1] - bim_interval[0], pgr.get_raw_sample_ct() * 2), \n",
    "            dtype=np.int32\n",
    "        )\n",
    "        pgr.read_alleles_range(bim_interval[0], bim_interval[1], buf_ndary)\n",
    "    return buf_ndary"
   ]
  },
  {
   "cell_type": "code",
   "execution_count": 10,
   "metadata": {
    "collapsed": true
   },
   "outputs": [],
   "source": [
    "def filter_missing_alleles(geno):\n",
    "    return geno[:, np.sum(geno == -9, axis = 0) == 0]"
   ]
  },
  {
   "cell_type": "code",
   "execution_count": 11,
   "metadata": {
    "collapsed": true
   },
   "outputs": [],
   "source": [
    "def count_alleles_freq(geno):\n",
    "    tuples = [tuple(1 - geno[:, hap])\n",
    "              for hap in range(geno.shape[1])]\n",
    "    return cl.Counter(tuples)"
   ]
  },
  {
   "cell_type": "code",
   "execution_count": 12,
   "metadata": {
    "collapsed": true
   },
   "outputs": [],
   "source": [
    "def prior_count(pgen_f, block_df, block_id):\n",
    "    logger_cnt = logging.getLogger('prior_count')\n",
    "    cnt = count_alleles_freq(\n",
    "        filter_missing_alleles(\n",
    "            read_alleles_block(pgen_f, block_df, block_id)\n",
    "        )\n",
    "    )    \n",
    "    logger_cnt.info(\n",
    "        'block {:3d} {} bytes'.format(block_id, sys.getsizeof(cnt))\n",
    "    )    \n",
    "    return cnt    "
   ]
  },
  {
   "cell_type": "code",
   "execution_count": 13,
   "metadata": {
    "collapsed": false
   },
   "outputs": [
    {
     "name": "stderr",
     "output_type": "stream",
     "text": [
      "2017-06-25 15:45:55,522 prior_count  INFO     block   0 196904 bytes\n",
      "2017-06-25 15:45:58,137 prior_count  INFO     block   1 786728 bytes\n",
      "2017-06-25 15:45:59,651 prior_count  INFO     block   2 786728 bytes\n",
      "2017-06-25 15:46:01,450 prior_count  INFO     block   3 786728 bytes\n",
      "2017-06-25 15:46:02,331 prior_count  INFO     block   4 3368 bytes\n",
      "2017-06-25 15:46:03,959 prior_count  INFO     block   5 786728 bytes\n",
      "2017-06-25 15:46:05,331 prior_count  INFO     block   6 196904 bytes\n",
      "2017-06-25 15:46:07,377 prior_count  INFO     block   7 3146024 bytes\n",
      "2017-06-25 15:46:08,662 prior_count  INFO     block   8 786728 bytes\n",
      "2017-06-25 15:46:09,518 prior_count  INFO     block   9 12584 bytes\n"
     ]
    }
   ],
   "source": [
    "cnts = [prior_count(pgen_f, block_bed, block_id) \n",
    "        for block_id in range(10)]"
   ]
  },
  {
   "cell_type": "code",
   "execution_count": 14,
   "metadata": {
    "collapsed": false
   },
   "outputs": [
    {
     "data": {
      "text/plain": [
       "'/oak/stanford/groups/mrivas/users/ytanigaw/nanopore-data/chr20impv1-keep-maf0005-snv-biallelic-geno01-hwe1e-10-block-stronglow050-stronghigh083-infofrac10.pkl'"
      ]
     },
     "execution_count": 14,
     "metadata": {},
     "output_type": "execute_result"
    }
   ],
   "source": [
    "count_f='{}.pkl'.format(block_bed_f[:-4])\n",
    "count_f"
   ]
  },
  {
   "cell_type": "code",
   "execution_count": 15,
   "metadata": {
    "collapsed": true
   },
   "outputs": [],
   "source": [
    "pickle.dump(count_f, open(count_f, 'wb'), protocol=2)"
   ]
  },
  {
   "cell_type": "code",
   "execution_count": 18,
   "metadata": {
    "collapsed": false
   },
   "outputs": [
    {
     "name": "stdout",
     "output_type": "stream",
     "text": [
      "-rw-rw----+ 1 ytanigaw mrivas 165 Jun 24 16:32 /oak/stanford/groups/mrivas/users/ytanigaw/nanopore-data/chr20impv1-keep-maf0005-snv-biallelic-geno01-hwe1e-10-block-stronglow050-stronghigh083-infofrac10.pkl\r\n"
     ]
    }
   ],
   "source": [
    "!ls -lh $count_f"
   ]
  },
  {
   "cell_type": "code",
   "execution_count": null,
   "metadata": {
    "collapsed": true
   },
   "outputs": [],
   "source": []
  },
  {
   "cell_type": "code",
   "execution_count": 15,
   "metadata": {
    "collapsed": false
   },
   "outputs": [
    {
     "name": "stderr",
     "output_type": "stream",
     "text": [
      "2017-06-24 16:10:48,850 prior_count  INFO     block   0 196904 bytes\n",
      "2017-06-24 16:10:51,609 prior_count  INFO     block   1 786728 bytes\n",
      "2017-06-24 16:10:53,320 prior_count  INFO     block   2 786728 bytes\n",
      "2017-06-24 16:10:55,328 prior_count  INFO     block   3 786728 bytes\n",
      "2017-06-24 16:10:56,121 prior_count  INFO     block   4 3368 bytes\n",
      "2017-06-24 16:10:57,880 prior_count  INFO     block   5 786728 bytes\n",
      "2017-06-24 16:10:59,446 prior_count  INFO     block   6 196904 bytes\n",
      "2017-06-24 16:11:01,646 prior_count  INFO     block   7 3146024 bytes\n",
      "2017-06-24 16:11:03,049 prior_count  INFO     block   8 786728 bytes\n",
      "2017-06-24 16:11:03,998 prior_count  INFO     block   9 12584 bytes\n",
      "2017-06-24 16:11:06,277 prior_count  INFO     block  10 3146024 bytes\n",
      "2017-06-24 16:11:07,044 prior_count  INFO     block  11 3368 bytes\n",
      "2017-06-24 16:11:08,750 prior_count  INFO     block  12 3146024 bytes\n",
      "2017-06-24 16:11:10,587 prior_count  INFO     block  13 196904 bytes\n",
      "2017-06-24 16:11:13,508 prior_count  INFO     block  14 196904 bytes\n",
      "2017-06-24 16:11:15,183 prior_count  INFO     block  15 3146024 bytes\n",
      "2017-06-24 16:11:16,209 prior_count  INFO     block  16 12584 bytes\n",
      "2017-06-24 16:11:18,076 prior_count  INFO     block  17 786728 bytes\n",
      "2017-06-24 16:11:19,985 prior_count  INFO     block  18 3146024 bytes\n",
      "2017-06-24 16:11:20,951 prior_count  INFO     block  19 12584 bytes\n",
      "2017-06-24 16:11:22,169 prior_count  INFO     block  20 196904 bytes\n",
      "2017-06-24 16:11:22,840 prior_count  INFO     block  21 1064 bytes\n",
      "2017-06-24 16:11:24,584 prior_count  INFO     block  22 49448 bytes\n",
      "2017-06-24 16:11:27,366 prior_count  INFO     block  23 196904 bytes\n",
      "2017-06-24 16:11:29,264 prior_count  INFO     block  24 196904 bytes\n",
      "2017-06-24 16:11:30,433 prior_count  INFO     block  25 49448 bytes\n",
      "2017-06-24 16:11:34,381 prior_count  INFO     block  26 3146024 bytes\n",
      "2017-06-24 16:11:36,132 prior_count  INFO     block  27 786728 bytes\n",
      "2017-06-24 16:11:39,480 prior_count  INFO     block  28 3146024 bytes\n",
      "2017-06-24 16:11:41,173 prior_count  INFO     block  29 49448 bytes\n",
      "2017-06-24 16:11:44,771 prior_count  INFO     block  30 786728 bytes\n",
      "2017-06-24 16:11:46,729 prior_count  INFO     block  31 786728 bytes\n",
      "2017-06-24 16:11:48,019 prior_count  INFO     block  32 49448 bytes\n",
      "2017-06-24 16:11:48,980 prior_count  INFO     block  33 3368 bytes\n",
      "2017-06-24 16:11:51,734 prior_count  INFO     block  34 786728 bytes\n",
      "2017-06-24 16:11:52,787 prior_count  INFO     block  35 12584 bytes\n",
      "2017-06-24 16:11:55,232 prior_count  INFO     block  36 196904 bytes\n",
      "2017-06-24 16:11:56,491 prior_count  INFO     block  37 12584 bytes\n",
      "2017-06-24 16:11:57,829 prior_count  INFO     block  38 196904 bytes\n",
      "2017-06-24 16:11:58,858 prior_count  INFO     block  39 12584 bytes\n",
      "2017-06-24 16:12:01,672 prior_count  INFO     block  40 786728 bytes\n",
      "2017-06-24 16:12:02,605 prior_count  INFO     block  41 12584 bytes\n",
      "2017-06-24 16:12:05,012 prior_count  INFO     block  42 3146024 bytes\n",
      "2017-06-24 16:12:05,968 prior_count  INFO     block  43 49448 bytes\n",
      "2017-06-24 16:12:08,190 prior_count  INFO     block  44 786728 bytes\n",
      "2017-06-24 16:12:10,379 prior_count  INFO     block  45 49448 bytes\n",
      "2017-06-24 16:12:11,453 prior_count  INFO     block  46 3368 bytes\n",
      "2017-06-24 16:12:12,450 prior_count  INFO     block  47 3368 bytes\n",
      "2017-06-24 16:12:14,016 prior_count  INFO     block  48 49448 bytes\n",
      "2017-06-24 16:12:16,200 prior_count  INFO     block  49 786728 bytes\n",
      "2017-06-24 16:12:17,093 prior_count  INFO     block  50 12584 bytes\n",
      "2017-06-24 16:12:20,460 prior_count  INFO     block  51 786728 bytes\n",
      "2017-06-24 16:12:22,702 prior_count  INFO     block  52 786728 bytes\n",
      "2017-06-24 16:12:23,972 prior_count  INFO     block  53 12584 bytes\n",
      "2017-06-24 16:12:25,171 prior_count  INFO     block  54 12584 bytes\n",
      "2017-06-24 16:12:28,240 prior_count  INFO     block  55 786728 bytes\n",
      "2017-06-24 16:12:28,966 prior_count  INFO     block  56 1064 bytes\n",
      "2017-06-24 16:12:30,249 prior_count  INFO     block  57 786728 bytes\n",
      "2017-06-24 16:12:31,088 prior_count  INFO     block  58 3368 bytes\n",
      "2017-06-24 16:12:31,809 prior_count  INFO     block  59 3368 bytes\n",
      "2017-06-24 16:12:33,550 prior_count  INFO     block  60 196904 bytes\n",
      "2017-06-24 16:12:35,113 prior_count  INFO     block  61 12584 bytes\n",
      "2017-06-24 16:12:35,951 prior_count  INFO     block  62 3368 bytes\n",
      "2017-06-24 16:12:37,723 prior_count  INFO     block  63 49448 bytes\n",
      "2017-06-24 16:12:38,873 prior_count  INFO     block  64 3368 bytes\n",
      "2017-06-24 16:12:43,791 prior_count  INFO     block  65 196904 bytes\n",
      "2017-06-24 16:12:46,795 prior_count  INFO     block  66 196904 bytes\n",
      "2017-06-24 16:12:49,618 prior_count  INFO     block  67 786728 bytes\n",
      "2017-06-24 16:12:53,135 prior_count  INFO     block  68 786728 bytes\n",
      "2017-06-24 16:12:56,197 prior_count  INFO     block  69 49448 bytes\n",
      "2017-06-24 16:12:57,411 prior_count  INFO     block  70 196904 bytes\n",
      "2017-06-24 16:12:59,631 prior_count  INFO     block  71 786728 bytes\n",
      "2017-06-24 16:13:02,027 prior_count  INFO     block  72 196904 bytes\n",
      "2017-06-24 16:13:07,244 prior_count  INFO     block  73 786728 bytes\n",
      "2017-06-24 16:13:08,433 prior_count  INFO     block  74 12584 bytes\n",
      "2017-06-24 16:13:10,665 prior_count  INFO     block  75 786728 bytes\n",
      "2017-06-24 16:13:12,190 prior_count  INFO     block  76 49448 bytes\n",
      "2017-06-24 16:13:13,045 prior_count  INFO     block  77 12584 bytes\n",
      "2017-06-24 16:13:15,189 prior_count  INFO     block  78 3146024 bytes\n",
      "2017-06-24 16:13:17,066 prior_count  INFO     block  79 196904 bytes\n",
      "2017-06-24 16:13:20,559 prior_count  INFO     block  80 3146024 bytes\n",
      "2017-06-24 16:13:21,684 prior_count  INFO     block  81 12584 bytes\n",
      "2017-06-24 16:13:23,918 prior_count  INFO     block  82 3146024 bytes\n",
      "2017-06-24 16:13:26,077 prior_count  INFO     block  83 196904 bytes\n",
      "2017-06-24 16:13:27,433 prior_count  INFO     block  84 49448 bytes\n",
      "2017-06-24 16:13:28,570 prior_count  INFO     block  85 12584 bytes\n",
      "2017-06-24 16:13:30,264 prior_count  INFO     block  86 786728 bytes\n",
      "2017-06-24 16:13:31,269 prior_count  INFO     block  87 3368 bytes\n",
      "2017-06-24 16:13:33,693 prior_count  INFO     block  88 3146024 bytes\n",
      "2017-06-24 16:13:34,420 prior_count  INFO     block  89 1064 bytes\n",
      "2017-06-24 16:13:38,330 prior_count  INFO     block  90 196904 bytes\n",
      "2017-06-24 16:13:40,799 prior_count  INFO     block  91 196904 bytes\n",
      "2017-06-24 16:13:43,848 prior_count  INFO     block  92 3146024 bytes\n",
      "2017-06-24 16:13:45,908 prior_count  INFO     block  93 49448 bytes\n",
      "2017-06-24 16:13:48,733 prior_count  INFO     block  94 786728 bytes\n",
      "2017-06-24 16:13:49,753 prior_count  INFO     block  95 786728 bytes\n",
      "2017-06-24 16:13:50,608 prior_count  INFO     block  96 3368 bytes\n",
      "2017-06-24 16:13:52,185 prior_count  INFO     block  97 12584 bytes\n",
      "2017-06-24 16:13:54,168 prior_count  INFO     block  98 786728 bytes\n",
      "2017-06-24 16:13:56,357 prior_count  INFO     block  99 196904 bytes\n"
     ]
    }
   ],
   "source": [
    "cnts = [prior_count(pgen_f, block_bed, block_id) \n",
    "        for block_id in range(100)]"
   ]
  },
  {
   "cell_type": "code",
   "execution_count": null,
   "metadata": {
    "collapsed": false
   },
   "outputs": [
    {
     "name": "stderr",
     "output_type": "stream",
     "text": [
      "2017-06-24 16:14:24,612 prior_count  INFO     block   0 196904 bytes\n",
      "2017-06-24 16:14:27,493 prior_count  INFO     block   1 786728 bytes\n",
      "2017-06-24 16:14:29,278 prior_count  INFO     block   2 786728 bytes\n",
      "2017-06-24 16:14:31,372 prior_count  INFO     block   3 786728 bytes\n",
      "2017-06-24 16:14:32,164 prior_count  INFO     block   4 3368 bytes\n",
      "2017-06-24 16:14:34,015 prior_count  INFO     block   5 786728 bytes\n",
      "2017-06-24 16:14:35,743 prior_count  INFO     block   6 196904 bytes\n",
      "2017-06-24 16:14:38,134 prior_count  INFO     block   7 3146024 bytes\n",
      "2017-06-24 16:14:39,600 prior_count  INFO     block   8 786728 bytes\n",
      "2017-06-24 16:14:40,635 prior_count  INFO     block   9 12584 bytes\n",
      "2017-06-24 16:14:42,794 prior_count  INFO     block  10 3146024 bytes\n",
      "2017-06-24 16:14:43,581 prior_count  INFO     block  11 3368 bytes\n",
      "2017-06-24 16:14:45,340 prior_count  INFO     block  12 3146024 bytes\n",
      "2017-06-24 16:14:47,220 prior_count  INFO     block  13 196904 bytes\n",
      "2017-06-24 16:14:50,355 prior_count  INFO     block  14 196904 bytes\n",
      "2017-06-24 16:14:52,028 prior_count  INFO     block  15 3146024 bytes\n",
      "2017-06-24 16:14:53,047 prior_count  INFO     block  16 12584 bytes\n",
      "2017-06-24 16:14:54,946 prior_count  INFO     block  17 786728 bytes\n",
      "2017-06-24 16:14:56,848 prior_count  INFO     block  18 3146024 bytes\n",
      "2017-06-24 16:14:57,774 prior_count  INFO     block  19 12584 bytes\n",
      "2017-06-24 16:14:58,932 prior_count  INFO     block  20 196904 bytes\n",
      "2017-06-24 16:14:59,556 prior_count  INFO     block  21 1064 bytes\n",
      "2017-06-24 16:15:01,216 prior_count  INFO     block  22 49448 bytes\n",
      "2017-06-24 16:15:03,741 prior_count  INFO     block  23 196904 bytes\n",
      "2017-06-24 16:15:05,545 prior_count  INFO     block  24 196904 bytes\n",
      "2017-06-24 16:15:06,628 prior_count  INFO     block  25 49448 bytes\n",
      "2017-06-24 16:15:10,237 prior_count  INFO     block  26 3146024 bytes\n",
      "2017-06-24 16:15:11,823 prior_count  INFO     block  27 786728 bytes\n",
      "2017-06-24 16:15:14,833 prior_count  INFO     block  28 3146024 bytes\n",
      "2017-06-24 16:15:16,378 prior_count  INFO     block  29 49448 bytes\n",
      "2017-06-24 16:15:19,639 prior_count  INFO     block  30 786728 bytes\n",
      "2017-06-24 16:15:21,421 prior_count  INFO     block  31 786728 bytes\n",
      "2017-06-24 16:15:22,600 prior_count  INFO     block  32 49448 bytes\n",
      "2017-06-24 16:15:23,487 prior_count  INFO     block  33 3368 bytes\n",
      "2017-06-24 16:15:25,997 prior_count  INFO     block  34 786728 bytes\n",
      "2017-06-24 16:15:26,966 prior_count  INFO     block  35 12584 bytes\n",
      "2017-06-24 16:15:29,399 prior_count  INFO     block  36 196904 bytes\n",
      "2017-06-24 16:15:30,652 prior_count  INFO     block  37 12584 bytes\n",
      "2017-06-24 16:15:32,003 prior_count  INFO     block  38 196904 bytes\n",
      "2017-06-24 16:15:33,073 prior_count  INFO     block  39 12584 bytes\n",
      "2017-06-24 16:15:36,054 prior_count  INFO     block  40 786728 bytes\n",
      "2017-06-24 16:15:37,020 prior_count  INFO     block  41 12584 bytes\n",
      "2017-06-24 16:15:39,712 prior_count  INFO     block  42 3146024 bytes\n",
      "2017-06-24 16:15:40,729 prior_count  INFO     block  43 49448 bytes\n",
      "2017-06-24 16:15:43,301 prior_count  INFO     block  44 786728 bytes\n",
      "2017-06-24 16:15:45,683 prior_count  INFO     block  45 49448 bytes\n",
      "2017-06-24 16:15:46,819 prior_count  INFO     block  46 3368 bytes\n",
      "2017-06-24 16:15:47,857 prior_count  INFO     block  47 3368 bytes\n",
      "2017-06-24 16:15:49,602 prior_count  INFO     block  48 49448 bytes\n",
      "2017-06-24 16:15:52,101 prior_count  INFO     block  49 786728 bytes\n",
      "2017-06-24 16:15:53,063 prior_count  INFO     block  50 12584 bytes\n",
      "2017-06-24 16:15:56,770 prior_count  INFO     block  51 786728 bytes\n",
      "2017-06-24 16:15:59,258 prior_count  INFO     block  52 786728 bytes\n",
      "2017-06-24 16:16:00,553 prior_count  INFO     block  53 12584 bytes\n",
      "2017-06-24 16:16:01,801 prior_count  INFO     block  54 12584 bytes\n",
      "2017-06-24 16:16:04,901 prior_count  INFO     block  55 786728 bytes\n",
      "2017-06-24 16:16:05,649 prior_count  INFO     block  56 1064 bytes\n",
      "2017-06-24 16:16:06,952 prior_count  INFO     block  57 786728 bytes\n",
      "2017-06-24 16:16:07,788 prior_count  INFO     block  58 3368 bytes\n",
      "2017-06-24 16:16:08,521 prior_count  INFO     block  59 3368 bytes\n",
      "2017-06-24 16:16:10,332 prior_count  INFO     block  60 196904 bytes\n",
      "2017-06-24 16:16:11,887 prior_count  INFO     block  61 12584 bytes\n",
      "2017-06-24 16:16:12,714 prior_count  INFO     block  62 3368 bytes\n",
      "2017-06-24 16:16:14,466 prior_count  INFO     block  63 49448 bytes\n",
      "2017-06-24 16:16:15,631 prior_count  INFO     block  64 3368 bytes\n",
      "2017-06-24 16:16:20,447 prior_count  INFO     block  65 196904 bytes\n",
      "2017-06-24 16:16:23,524 prior_count  INFO     block  66 196904 bytes\n",
      "2017-06-24 16:16:26,361 prior_count  INFO     block  67 786728 bytes\n",
      "2017-06-24 16:16:29,859 prior_count  INFO     block  68 786728 bytes\n",
      "2017-06-24 16:16:32,916 prior_count  INFO     block  69 49448 bytes\n",
      "2017-06-24 16:16:34,159 prior_count  INFO     block  70 196904 bytes\n",
      "2017-06-24 16:16:36,383 prior_count  INFO     block  71 786728 bytes\n",
      "2017-06-24 16:16:38,805 prior_count  INFO     block  72 196904 bytes\n",
      "2017-06-24 16:16:44,139 prior_count  INFO     block  73 786728 bytes\n",
      "2017-06-24 16:16:45,320 prior_count  INFO     block  74 12584 bytes\n",
      "2017-06-24 16:16:47,720 prior_count  INFO     block  75 786728 bytes\n",
      "2017-06-24 16:16:49,272 prior_count  INFO     block  76 49448 bytes\n",
      "2017-06-24 16:16:50,138 prior_count  INFO     block  77 12584 bytes\n",
      "2017-06-24 16:16:52,463 prior_count  INFO     block  78 3146024 bytes\n",
      "2017-06-24 16:16:54,560 prior_count  INFO     block  79 196904 bytes\n",
      "2017-06-24 16:16:58,268 prior_count  INFO     block  80 3146024 bytes\n",
      "2017-06-24 16:16:59,484 prior_count  INFO     block  81 12584 bytes\n",
      "2017-06-24 16:17:01,786 prior_count  INFO     block  82 3146024 bytes\n",
      "2017-06-24 16:17:04,168 prior_count  INFO     block  83 196904 bytes\n",
      "2017-06-24 16:17:05,617 prior_count  INFO     block  84 49448 bytes\n",
      "2017-06-24 16:17:06,846 prior_count  INFO     block  85 12584 bytes\n",
      "2017-06-24 16:17:08,652 prior_count  INFO     block  86 786728 bytes\n",
      "2017-06-24 16:17:09,759 prior_count  INFO     block  87 3368 bytes\n",
      "2017-06-24 16:17:12,439 prior_count  INFO     block  88 3146024 bytes\n",
      "2017-06-24 16:17:13,271 prior_count  INFO     block  89 1064 bytes\n",
      "2017-06-24 16:17:17,527 prior_count  INFO     block  90 196904 bytes\n",
      "2017-06-24 16:17:20,221 prior_count  INFO     block  91 196904 bytes\n",
      "2017-06-24 16:17:23,540 prior_count  INFO     block  92 3146024 bytes\n",
      "2017-06-24 16:17:25,828 prior_count  INFO     block  93 49448 bytes\n",
      "2017-06-24 16:17:28,899 prior_count  INFO     block  94 786728 bytes\n",
      "2017-06-24 16:17:29,967 prior_count  INFO     block  95 786728 bytes\n",
      "2017-06-24 16:17:30,910 prior_count  INFO     block  96 3368 bytes\n",
      "2017-06-24 16:17:32,597 prior_count  INFO     block  97 12584 bytes\n",
      "2017-06-24 16:17:34,575 prior_count  INFO     block  98 786728 bytes\n",
      "2017-06-24 16:17:36,833 prior_count  INFO     block  99 196904 bytes\n",
      "2017-06-24 16:17:38,123 prior_count  INFO     block 100 12584 bytes\n",
      "2017-06-24 16:17:40,516 prior_count  INFO     block 101 49448 bytes\n",
      "2017-06-24 16:17:41,769 prior_count  INFO     block 102 12584 bytes\n",
      "2017-06-24 16:17:45,235 prior_count  INFO     block 103 786728 bytes\n",
      "2017-06-24 16:17:46,581 prior_count  INFO     block 104 49448 bytes\n",
      "2017-06-24 16:17:50,201 prior_count  INFO     block 105 196904 bytes\n",
      "2017-06-24 16:17:51,217 prior_count  INFO     block 106 3368 bytes\n",
      "2017-06-24 16:17:52,027 prior_count  INFO     block 107 3368 bytes\n",
      "2017-06-24 16:17:54,026 prior_count  INFO     block 108 3146024 bytes\n",
      "2017-06-24 16:17:54,914 prior_count  INFO     block 109 3368 bytes\n",
      "2017-06-24 16:17:57,994 prior_count  INFO     block 110 786728 bytes\n",
      "2017-06-24 16:18:03,875 prior_count  INFO     block 111 786728 bytes\n",
      "2017-06-24 16:18:04,905 prior_count  INFO     block 112 12584 bytes\n",
      "2017-06-24 16:18:05,729 prior_count  INFO     block 113 3368 bytes\n",
      "2017-06-24 16:18:07,180 prior_count  INFO     block 114 12584 bytes\n",
      "2017-06-24 16:18:09,365 prior_count  INFO     block 115 196904 bytes\n",
      "2017-06-24 16:18:11,856 prior_count  INFO     block 116 786728 bytes\n",
      "2017-06-24 16:18:12,634 prior_count  INFO     block 117 1064 bytes\n",
      "2017-06-24 16:18:13,413 prior_count  INFO     block 118 3368 bytes\n",
      "2017-06-24 16:18:14,764 prior_count  INFO     block 119 12584 bytes\n",
      "2017-06-24 16:18:17,542 prior_count  INFO     block 120 786728 bytes\n",
      "2017-06-24 16:18:20,022 prior_count  INFO     block 121 196904 bytes\n",
      "2017-06-24 16:18:23,099 prior_count  INFO     block 122 196904 bytes\n",
      "2017-06-24 16:18:24,762 prior_count  INFO     block 123 196904 bytes\n",
      "2017-06-24 16:18:26,436 prior_count  INFO     block 124 196904 bytes\n",
      "2017-06-24 16:18:27,508 prior_count  INFO     block 125 3368 bytes\n",
      "2017-06-24 16:18:28,678 prior_count  INFO     block 126 12584 bytes\n",
      "2017-06-24 16:18:33,036 prior_count  INFO     block 127 786728 bytes\n",
      "2017-06-24 16:18:36,315 prior_count  INFO     block 128 196904 bytes\n",
      "2017-06-24 16:18:37,227 prior_count  INFO     block 129 3368 bytes\n",
      "2017-06-24 16:18:38,293 prior_count  INFO     block 130 49448 bytes\n",
      "2017-06-24 16:18:41,714 prior_count  INFO     block 131 786728 bytes\n",
      "2017-06-24 16:18:43,882 prior_count  INFO     block 132 49448 bytes\n",
      "2017-06-24 16:18:47,169 prior_count  INFO     block 133 786728 bytes\n",
      "2017-06-24 16:18:50,216 prior_count  INFO     block 134 786728 bytes\n",
      "2017-06-24 16:18:53,544 prior_count  INFO     block 135 3146024 bytes\n",
      "2017-06-24 16:18:57,010 prior_count  INFO     block 136 786728 bytes\n",
      "2017-06-24 16:18:59,729 prior_count  INFO     block 137 3146024 bytes\n",
      "2017-06-24 16:19:02,175 prior_count  INFO     block 138 196904 bytes\n",
      "2017-06-24 16:19:07,670 prior_count  INFO     block 139 786728 bytes\n",
      "2017-06-24 16:19:09,378 prior_count  INFO     block 140 12584 bytes\n",
      "2017-06-24 16:19:10,148 prior_count  INFO     block 141 1064 bytes\n",
      "2017-06-24 16:19:13,457 prior_count  INFO     block 142 196904 bytes\n",
      "2017-06-24 16:19:17,660 prior_count  INFO     block 143 3146024 bytes\n",
      "2017-06-24 16:19:20,502 prior_count  INFO     block 144 786728 bytes\n",
      "2017-06-24 16:19:21,962 prior_count  INFO     block 145 12584 bytes\n",
      "2017-06-24 16:19:22,763 prior_count  INFO     block 146 1064 bytes\n",
      "2017-06-24 16:19:26,122 prior_count  INFO     block 147 786728 bytes\n",
      "2017-06-24 16:19:27,069 prior_count  INFO     block 148 3368 bytes\n",
      "2017-06-24 16:19:31,413 prior_count  INFO     block 149 786728 bytes\n",
      "2017-06-24 16:19:32,401 prior_count  INFO     block 150 49448 bytes\n",
      "2017-06-24 16:19:37,340 prior_count  INFO     block 151 786728 bytes\n",
      "2017-06-24 16:19:39,623 prior_count  INFO     block 152 3146024 bytes\n",
      "2017-06-24 16:19:42,614 prior_count  INFO     block 153 786728 bytes\n",
      "2017-06-24 16:19:45,539 prior_count  INFO     block 154 786728 bytes\n",
      "2017-06-24 16:19:48,476 prior_count  INFO     block 155 786728 bytes\n",
      "2017-06-24 16:19:50,003 prior_count  INFO     block 156 786728 bytes\n",
      "2017-06-24 16:19:50,865 prior_count  INFO     block 157 3368 bytes\n",
      "2017-06-24 16:19:54,172 prior_count  INFO     block 158 196904 bytes\n",
      "2017-06-24 16:19:55,670 prior_count  INFO     block 159 12584 bytes\n",
      "2017-06-24 16:19:58,663 prior_count  INFO     block 160 3146024 bytes\n",
      "2017-06-24 16:19:59,601 prior_count  INFO     block 161 3368 bytes\n",
      "2017-06-24 16:20:02,987 prior_count  INFO     block 162 196904 bytes\n",
      "2017-06-24 16:20:05,929 prior_count  INFO     block 163 3146024 bytes\n",
      "2017-06-24 16:20:06,958 prior_count  INFO     block 164 12584 bytes\n",
      "2017-06-24 16:20:12,402 prior_count  INFO     block 165 786728 bytes\n",
      "2017-06-24 16:20:14,275 prior_count  INFO     block 166 49448 bytes\n",
      "2017-06-24 16:20:15,944 prior_count  INFO     block 167 196904 bytes\n",
      "2017-06-24 16:20:19,386 prior_count  INFO     block 168 3146024 bytes\n",
      "2017-06-24 16:20:20,282 prior_count  INFO     block 169 3368 bytes\n",
      "2017-06-24 16:20:23,233 prior_count  INFO     block 170 786728 bytes\n",
      "2017-06-24 16:20:25,639 prior_count  INFO     block 171 196904 bytes\n",
      "2017-06-24 16:20:29,144 prior_count  INFO     block 172 786728 bytes\n",
      "2017-06-24 16:20:29,914 prior_count  INFO     block 173 1064 bytes\n",
      "2017-06-24 16:20:33,474 prior_count  INFO     block 174 786728 bytes\n",
      "2017-06-24 16:20:35,257 prior_count  INFO     block 175 196904 bytes\n",
      "2017-06-24 16:20:40,229 prior_count  INFO     block 176 3146024 bytes\n",
      "2017-06-24 16:20:43,368 prior_count  INFO     block 177 49448 bytes\n",
      "2017-06-24 16:20:44,913 prior_count  INFO     block 178 12584 bytes\n"
     ]
    }
   ],
   "source": [
    "cnts = [prior_count(pgen_f, block_bed, block_id) \n",
    "        for block_id in range(len(block_bed))]"
   ]
  },
  {
   "cell_type": "code",
   "execution_count": 28,
   "metadata": {
    "collapsed": false
   },
   "outputs": [
    {
     "data": {
      "text/plain": [
       "642"
      ]
     },
     "execution_count": 28,
     "metadata": {},
     "output_type": "execute_result"
    }
   ],
   "source": [
    "len(block_bed)"
   ]
  },
  {
   "cell_type": "code",
   "execution_count": null,
   "metadata": {
    "collapsed": true
   },
   "outputs": [],
   "source": [
    "genos = [read_alleles_block(pgen_f, block_bed, block_id) \n",
    "         for block_id in range(642)]"
   ]
  },
  {
   "cell_type": "code",
   "execution_count": 16,
   "metadata": {
    "collapsed": false
   },
   "outputs": [
    {
     "data": {
      "text/plain": [
       "(86, 224676)"
      ]
     },
     "execution_count": 16,
     "metadata": {},
     "output_type": "execute_result"
    }
   ],
   "source": [
    "geno_0.shape"
   ]
  },
  {
   "cell_type": "code",
   "execution_count": 9,
   "metadata": {
    "collapsed": true
   },
   "outputs": [],
   "source": [
    "geno_0 = read_alleles_block(pgen_f, block_bed, 0)"
   ]
  },
  {
   "cell_type": "code",
   "execution_count": 10,
   "metadata": {
    "collapsed": true
   },
   "outputs": [],
   "source": [
    "geno_filtered_0 = filter_missing_alleles(geno_0)"
   ]
  },
  {
   "cell_type": "code",
   "execution_count": 11,
   "metadata": {
    "collapsed": true
   },
   "outputs": [],
   "source": [
    "c_0 = count_alleles_freq(geno_filtered_0)"
   ]
  },
  {
   "cell_type": "code",
   "execution_count": 12,
   "metadata": {
    "collapsed": true
   },
   "outputs": [],
   "source": [
    "d_0 = dict(c_0)"
   ]
  },
  {
   "cell_type": "code",
   "execution_count": 15,
   "metadata": {
    "collapsed": false
   },
   "outputs": [
    {
     "name": "stdout",
     "output_type": "stream",
     "text": [
      "77288656\n",
      "112\n",
      "196904\n",
      "393496\n"
     ]
    }
   ],
   "source": [
    "for item in [geno_0, geno_filtered_0, c_0, d_0]:\n",
    "    print(sys.getsizeof(item))"
   ]
  },
  {
   "cell_type": "code",
   "execution_count": null,
   "metadata": {
    "collapsed": true
   },
   "outputs": [],
   "source": []
  },
  {
   "cell_type": "code",
   "execution_count": null,
   "metadata": {
    "collapsed": true
   },
   "outputs": [],
   "source": []
  },
  {
   "cell_type": "code",
   "execution_count": 27,
   "metadata": {
    "collapsed": false
   },
   "outputs": [
    {
     "name": "stdout",
     "output_type": "stream",
     "text": [
      "117866 individuals; 5144 unique haplotypes. Top 10 common haplotypes are:\n",
      "[ '11111111111111111111111111111111111111111111111111111111111111111111111111111111111111'\n",
      " '11111111111111111111110111111101110111111111111011111111111110111111111111111111111111'\n",
      " '11111111111111111111111111111011111111111111111101111111111111111111111111111111111111'\n",
      " '11111111111111111111111111111111111111111111111011111111111110111111111111111111111111'\n",
      " '11111111111111111111110111111101111111111111111111111111111111111111111111111111111111'\n",
      " '11111111111111111111111111111011111111111111111111111111111111111111111111111111111111'\n",
      " '11111111111111011111111111111111111111111111111111111111111111111111111111111111111111'\n",
      " '11111111111111111111111111111101111111111111111111111111111111111111111111111111111111'\n",
      " '11111111111111111111111111111101111111111111111011111111111110111111111111111111111111'\n",
      " '11111111111111111111011111111011111111111111111111111111111111111111111111111111111111']\n",
      "[17919, 3388, 3105, 3013, 2747, 2739, 2236, 1837, 1726, 1527]\n"
     ]
    },
    {
     "data": {
      "image/png": "[encoded data removed]",
      "text/plain": [
       "<matplotlib.figure.Figure at 0x7f7c64f7a910>"
      ]
     },
     "metadata": {},
     "output_type": "display_data"
    }
   ],
   "source": [
    "debug_dump_count(c_0)"
   ]
  },
  {
   "cell_type": "code",
   "execution_count": 23,
   "metadata": {
    "collapsed": false
   },
   "outputs": [
    {
     "data": {
      "text/plain": [
       "((86, 224676), (86, 117866))"
      ]
     },
     "execution_count": 23,
     "metadata": {},
     "output_type": "execute_result"
    }
   ],
   "source": [
    "geno_0.shape, geno_filtered_0.shape"
   ]
  },
  {
   "cell_type": "code",
   "execution_count": 9,
   "metadata": {
    "collapsed": true
   },
   "outputs": [],
   "source": [
    "geno = geno_0"
   ]
  },
  {
   "cell_type": "code",
   "execution_count": 10,
   "metadata": {
    "collapsed": true
   },
   "outputs": [],
   "source": [
    "geno_isMissing = geno == -9"
   ]
  },
  {
   "cell_type": "code",
   "execution_count": 11,
   "metadata": {
    "collapsed": false
   },
   "outputs": [
    {
     "data": {
      "text/plain": [
       "117866"
      ]
     },
     "execution_count": 11,
     "metadata": {},
     "output_type": "execute_result"
    }
   ],
   "source": [
    "np.sum(np.sum(geno_isMissing, axis = 0) == 0)"
   ]
  },
  {
   "cell_type": "code",
   "execution_count": 13,
   "metadata": {
    "collapsed": false
   },
   "outputs": [
    {
     "data": {
      "text/plain": [
       "(86, 224676)"
      ]
     },
     "execution_count": 13,
     "metadata": {},
     "output_type": "execute_result"
    }
   ],
   "source": [
    "geno.shape"
   ]
  },
  {
   "cell_type": "code",
   "execution_count": 14,
   "metadata": {
    "collapsed": false
   },
   "outputs": [
    {
     "data": {
      "text/plain": [
       "224676"
      ]
     },
     "execution_count": 14,
     "metadata": {},
     "output_type": "execute_result"
    }
   ],
   "source": [
    "len(np.sum(geno_isMissing, axis = 0) == 0)"
   ]
  },
  {
   "cell_type": "code",
   "execution_count": 17,
   "metadata": {
    "collapsed": true
   },
   "outputs": [],
   "source": [
    "geno_filtered = geno[:, np.sum(geno == -9, axis = 0) == 0]"
   ]
  },
  {
   "cell_type": "code",
   "execution_count": 18,
   "metadata": {
    "collapsed": false
   },
   "outputs": [
    {
     "data": {
      "text/plain": [
       "(86, 117866)"
      ]
     },
     "execution_count": 18,
     "metadata": {},
     "output_type": "execute_result"
    }
   ],
   "source": [
    "geno_filtered.shape"
   ]
  },
  {
   "cell_type": "code",
   "execution_count": null,
   "metadata": {
    "collapsed": true
   },
   "outputs": [],
   "source": []
  },
  {
   "cell_type": "code",
   "execution_count": null,
   "metadata": {
    "collapsed": true
   },
   "outputs": [],
   "source": []
  },
  {
   "cell_type": "code",
   "execution_count": 14,
   "metadata": {
    "collapsed": true
   },
   "outputs": [],
   "source": [
    "def read_haplotype_freq(pgen_f, block_df, block_id):\n",
    "    \"\"\"read haplotype frequency of a given block from a pgen file\"\"\"\n",
    "    bim_interval = block_df.bim_interval[block_id]\n",
    "    with pg.PgenReader(pgen_f) as pgr:\n",
    "        buf_ndary = np.zeros(\n",
    "            (bim_interval[1] - bim_interval[0], pgr.get_raw_sample_ct() * 2), \n",
    "            dtype=np.int32\n",
    "        )\n",
    "        pgr.read_alleles_range(bim_interval[0], bim_interval[1], buf_ndary)\n",
    "    #buf_ndary[buf_ndary == -9] = 0\n",
    "    buf_tpls = [tuple(1 - buf_ndary[:, hap]) for hap in range(buf_ndary.shape[1])]\n",
    "    return cl.Counter(buf_tpls), buf_ndary"
   ]
  },
  {
   "cell_type": "code",
   "execution_count": 26,
   "metadata": {
    "collapsed": false
   },
   "outputs": [],
   "source": [
    "def debug_dump_count(c):\n",
    "    print('{} individuals; {} unique haplotypes. Top 10 common haplotypes are:'.format(sum(c.values()), len(c.values())))\n",
    "    print(np.array([''.join([str(x) for x in c.most_common()[i][0]]) for i in range(10)]))    \n",
    "    print([c.most_common()[i][1] for i in range(10)])\n",
    "#     plt.hist(np.array(c.values())[np.array(c.values()) <= 20], bins=range(21))\n",
    "    freq=np.array(c.values())\n",
    "    fig = plt.figure(figsize=(4, 3))\n",
    "    gs = gridspec.GridSpec(1, 1)\n",
    "    axs = [fig.add_subplot(ss) for ss in gs]\n",
    "    axs[0].hist(freq[freq <= 20], bins=range(21))\n",
    "    axs[0].set_xlabel('freqency of haplotype')\n",
    "    axs[0].set_ylabel('freq. of freq.')\n",
    "    axs[0].set_title('frequency distribution of haplotype')\n",
    "#     fig.suptitle('')\n",
    "    gs.tight_layout(fig, rect=[0, 0, 1, 1])\n",
    "#     fig.savefig('./fig.png')"
   ]
  },
  {
   "cell_type": "code",
   "execution_count": 15,
   "metadata": {
    "collapsed": true
   },
   "outputs": [],
   "source": [
    "c0, c0_nd = read_haplotype_freq(pgen_f, block_bed, 0)"
   ]
  },
  {
   "cell_type": "code",
   "execution_count": 17,
   "metadata": {
    "collapsed": false
   },
   "outputs": [],
   "source": [
    "c0_nd_mis = [c0_nd == -9]"
   ]
  },
  {
   "cell_type": "code",
   "execution_count": null,
   "metadata": {
    "collapsed": true
   },
   "outputs": [],
   "source": [
    "c0_nd_mis = "
   ]
  },
  {
   "cell_type": "code",
   "execution_count": null,
   "metadata": {
    "collapsed": true
   },
   "outputs": [],
   "source": []
  },
  {
   "cell_type": "code",
   "execution_count": null,
   "metadata": {
    "collapsed": true
   },
   "outputs": [],
   "source": []
  },
  {
   "cell_type": "code",
   "execution_count": 9,
   "metadata": {
    "collapsed": false
   },
   "outputs": [
    {
     "name": "stdout",
     "output_type": "stream",
     "text": [
      "224676 individuals; 30236 unique haplotypes. Top 10 common haplotypes are:\n",
      "[ '11111111111111111111111111111111111111111111111111111111111111111111111111111111111111'\n",
      " '11111111111111111111111011111110111111111111111111111111111111111111111111111111111111'\n",
      " '11111111111111111111111111111111111111111111111111111101111111111111011111111111111111'\n",
      " '11111111111111111111111111111101111111111111111111111110111111111111111111111111111111'\n",
      " '11111111111111111111111111111110111111111111111111111111111111111111111111111111111111'\n",
      " '11111111111111111111111011111110111011111001111111111101111111111111011111111111111111'\n",
      " '11111111111111101111111111111111111111111111111111111111111111111111111111111111111111'\n",
      " '11111111111111111111111111111101111111111111111111111111111111111111111111111111111111'\n",
      " '11111111111111111111111111111111111111111111111111110111111111111111111111111111111111'\n",
      " '11111111111111111111111111111111111111111011111111111111111111111111111111111111111111']\n",
      "[31555, 5764, 4331, 4039, 3998, 3606, 3312, 3221, 2332, 1862]\n"
     ]
    },
    {
     "data": {
      "image/png": "[encoded data removed]",
      "text/plain": [
       "<matplotlib.figure.Figure at 0x7f2db22d5e10>"
      ]
     },
     "metadata": {},
     "output_type": "display_data"
    }
   ],
   "source": [
    "debug_dump_count(c0)"
   ]
  },
  {
   "cell_type": "code",
   "execution_count": 10,
   "metadata": {
    "collapsed": true
   },
   "outputs": [],
   "source": [
    "c2 = read_haplotype_freq(pgen_f, block_bed, 2)"
   ]
  },
  {
   "cell_type": "code",
   "execution_count": 11,
   "metadata": {
    "collapsed": false
   },
   "outputs": [
    {
     "name": "stdout",
     "output_type": "stream",
     "text": [
      "224676 individuals; 19835 unique haplotypes. Top 10 common haplotypes are:\n",
      "['1111111111111111111111111111111111111111111111111111111111111111111111'\n",
      " '1111111111111111101111011111101001111111111111111001111111111111101111'\n",
      " '0000101000001010110011111110111111100100101111111111101111001110110011'\n",
      " '1111111111111111111111111111111111111111111111110111111111111111111111'\n",
      " '1111111111111111111111111111111111111111111111111111101111101111110011'\n",
      " '1111111111111111111111111111111111111111111111111111111111111110111111'\n",
      " '1111111111111111111111111111111111111111111111111001111111111111101111'\n",
      " '0000101000001010100011011110101001100100101111111001101111001110100011'\n",
      " '1111111111111111101111011111101001111111111111110001111111111111101111'\n",
      " '1111111111111111101111011111101001111111111111111111111111111111111111']\n",
      "[31830, 5944, 5797, 4455, 4060, 3225, 3221, 3213, 2892, 2825]\n"
     ]
    },
    {
     "data": {
      "image/png": "[encoded data removed]",
      "text/plain": [
       "<matplotlib.figure.Figure at 0x7f2d7374eb10>"
      ]
     },
     "metadata": {},
     "output_type": "display_data"
    }
   ],
   "source": [
    "debug_dump_count(c2)"
   ]
  },
  {
   "cell_type": "code",
   "execution_count": 12,
   "metadata": {
    "collapsed": true
   },
   "outputs": [],
   "source": [
    "c3 = read_haplotype_freq(pgen_f, block_bed, 3)"
   ]
  },
  {
   "cell_type": "code",
   "execution_count": 13,
   "metadata": {
    "collapsed": false
   },
   "outputs": [
    {
     "name": "stdout",
     "output_type": "stream",
     "text": [
      "224676 individuals; 131281 unique haplotypes. Top 10 common haplotypes are:\n",
      "[ '1111111111111111111111111111111111111111111111111111111111111111111111111111111111111111111111111111111111111111111111111111111111111111111111111111111111111111111111111111111111111111111111111111111111111111111111111111111111111111111111111111111111111111111111111111111111111111111'\n",
      " '1111111111111111111111111111111111111111111111111111111111111111111111111111111111111111111111111111111111111111111111111111111111111111111111111111111111111111111111111111111111111111111111111111111111111111111111111111111111111111111111111111111111111111111111111110111111111111111'\n",
      " '1111111011111111111111111111111111111111111111111111111111111111111111111111111111111111111111111111111111111111111111111111111111111111111111111111111111111111111111111111111111111111111111111111111111111111111111111111111111111111111111111111111111111111111111111111111111111111111'\n",
      " '1111111111111111111110110111111111111111111111111111111111111111111111111111111111111111111111111111111111111111111111111111111111111111111111111111111111111111111111111111111111111111111111111111111111111111111111111111111111111111111111111111111111111111111111111111111111111111111'\n",
      " '1111111111111111111111111111111111111111111111111111111111111111111111111111111111111111111111111111111111111111111111111111111111111111111111111111111111111111111111111111111111111111111111111111111111111111111111111111110111101111111111111111111111111111111111111111101111110111110'\n",
      " '1111111011111111111111111111111111111111111111111111111111111111111111111111111111111111111111111111111111111111111111111111111111111111111111111111111111111111111111111111111111111111111111111111111111111111111111111111111111111111111111111111111111111111111111111110111111111111111'\n",
      " '1110111111111111111111111111111111111111111111111111111111111111111111111111111111111111111111111111111111111111111111111111111111111111111111111111111111111111111111111111111111111111111111111111111111111111111111111111111111111111111111111111111111111111111111111111111111111111111'\n",
      " '1111111111111111111110110111111111111111111111111111111111111111101111111111111111111111111111111111111111111111111111111111111111111111111111111111111111111111111111111111111111111111111111111111111111111111111111111111111111111111111111111111111111111111111111111111111111111111111'\n",
      " '1111110100111111111110110111111110000000001111111111111111111111111111111111111111111111111111111111111111111111111111111111111111111111111111111111111111111111111111111111111111111111111111111111111111111111111111111111111111111111111111111111111111111111111111111111111111111111111'\n",
      " '1111111111111111111111111111111110001111001111111111111111111111111111111111111111111111111111111111111111111111111111111111111111111111111111111111111111111111111111111111111111111111111111111111111111111111111111111111111111111111111111111111111111111111111111111111111111111111111']\n",
      "[7857, 3080, 1308, 1138, 892, 631, 594, 588, 577, 527]\n"
     ]
    },
    {
     "data": {
      "image/png": "[encoded data removed]",
      "text/plain": [
       "<matplotlib.figure.Figure at 0x7f2d73ac85d0>"
      ]
     },
     "metadata": {},
     "output_type": "display_data"
    }
   ],
   "source": [
    "debug_dump_count(c3)"
   ]
  },
  {
   "cell_type": "code",
   "execution_count": null,
   "metadata": {
    "collapsed": true
   },
   "outputs": [],
   "source": []
  }
 ],
 "metadata": {
  "anaconda-cloud": {},
  "kernelspec": {
   "display_name": "dev27",
   "language": "python",
   "name": "dev27"
  },
  "language_info": {
   "codemirror_mode": {
    "name": "ipython",
    "version": 2
   },
   "file_extension": ".py",
   "mimetype": "text/x-python",
   "name": "python",
   "nbconvert_exporter": "python",
   "pygments_lexer": "ipython2",
   "version": "2.7.13"
  }
 },
 "nbformat": 4,
 "nbformat_minor": 1
}
