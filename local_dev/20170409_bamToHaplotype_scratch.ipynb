{
 "cells": [
  {
   "cell_type": "code",
   "execution_count": 1,
   "metadata": {
    "collapsed": false
   },
   "outputs": [],
   "source": [
    "import numpy as np\n",
    "import scipy as sc\n",
    "import pandas as pd\n",
    "import itertools as it\n",
    "import subprocess as sp\n",
    "import sys\n",
    "import re\n",
    "import collections\n",
    "import json\n",
    "import pysam\n",
    "import enum\n",
    "import bisect\n",
    "\n",
    "import colorlog\n",
    "\n",
    "import pgenlib as pg"
   ]
  },
  {
   "cell_type": "code",
   "execution_count": 2,
   "metadata": {
    "collapsed": true
   },
   "outputs": [],
   "source": [
    "import matplotlib\n",
    "matplotlib.use('agg')\n",
    "from matplotlib import pyplot as plt"
   ]
  },
  {
   "cell_type": "code",
   "execution_count": 3,
   "metadata": {
    "collapsed": true
   },
   "outputs": [],
   "source": [
    "sys.path.append('./')"
   ]
  },
  {
   "cell_type": "code",
   "execution_count": 4,
   "metadata": {
    "collapsed": false
   },
   "outputs": [],
   "source": [
    "from Position import Position\n",
    "from FastaFile import FastaFile\n",
    "from BimFile import BimFile\n",
    "from Read import Read\n",
    "from Nucleotide import Nucleotide"
   ]
  },
  {
   "cell_type": "code",
   "execution_count": 12,
   "metadata": {
    "collapsed": true
   },
   "outputs": [],
   "source": [
    "bamfile_name = './data/rel3.chr20.12500.10k.head.bam'\n",
    "fasta_name = './data/chr'\n",
    "fast_ext = 'fa'\n",
    "bim_name = './data/ALL.chr20.phase3_shapeit2_mvncall_integrated_v5a.20130502.genotypes-pgen.bim'"
   ]
  },
  {
   "cell_type": "code",
   "execution_count": 13,
   "metadata": {
    "collapsed": false
   },
   "outputs": [],
   "source": [
    "fasta = FastaFile(fasta_name, fast_ext=fast_ext)\n",
    "bim = BimFile(bim_name)\n",
    "bam = pysam.AlignmentFile(filename = bamfile_name, mode = 'rb')"
   ]
  },
  {
   "cell_type": "code",
   "execution_count": null,
   "metadata": {
    "collapsed": true
   },
   "outputs": [],
   "source": []
  },
  {
   "cell_type": "code",
   "execution_count": 7,
   "metadata": {
    "collapsed": true
   },
   "outputs": [],
   "source": [
    "def filter_mismatches(read, bim, quality_threshod=14):\n",
    "    \"\"\"\n",
    "    Given a read and a bim file (and quality threshold), \n",
    "    identify list of SNPs \n",
    "      - is a mismatch\n",
    "      - base call quality value >= quality threshold\n",
    "      - the position is on bim file\n",
    "      - read is minor allele in the bim file \n",
    "      - reference is major allele in the bim file\n",
    "    \"\"\"\n",
    "    # Corresponding id interval (on bim file) is\n",
    "    read_bim_l, read_bim_r = bim.find_index_interval(query_l = read.l, query_r = read.r)\n",
    "    # Get polymorphic SNP positions (written on bim)\n",
    "    read_snp_pos = bim.get_bp(r.chr)[read_bim_l : read_bim_r]\n",
    "    # Get a candidate of SNPs \n",
    "    #  - Is a mismatch \n",
    "    #  - Base call quality value >= quality_threshod\n",
    "    #  - The position is on bim file\n",
    "    read_poly_mm = r.get_mismatches_on_polymorphic_sites(read_snp_pos, quality_threshod)\n",
    "    # take the position of candidate SNPs\n",
    "    read_poly_mm_pos = np.array([x.reference_position for x in read_poly_mm])\n",
    "    # convert to bim indeces\n",
    "    read_poly_mm_bim_id = bim.find_index_list([Position(r.chr, ref_pos) for ref_pos in read_poly_mm_pos])\n",
    "    # minor allele on bim file\n",
    "    read_bim_a1 = [Nucleotide[bim.get_allele_1(r.chr)[id]] for id in read_poly_mm_bim_id]\n",
    "    # major allele on bim file\n",
    "    read_bim_a2 = [Nucleotide[bim.get_allele_2(r.chr)[id]] for id in read_poly_mm_bim_id]\n",
    "    # return list of mismatches\n",
    "    return [read_poly_mm[i] for i in range(len(read_poly_mm)) if \n",
    "            read_poly_mm[i].reference == read_bim_a2[i] and\n",
    "            read_poly_mm[i].read == read_bim_a1[i]]"
   ]
  },
  {
   "cell_type": "code",
   "execution_count": 8,
   "metadata": {
    "collapsed": true
   },
   "outputs": [],
   "source": [
    "def find_haplotype(read_poly_mm, read_bim_l, read_bim_r):\n",
    "    \"\"\"Given list of polymorphic SNPs on a read and corresponding interval on bim file, \n",
    "    construct a haplotype on the read\n",
    "    \"\"\"\n",
    "    read_poly_mm_pos = np.array([x.reference_position for x in read_poly_mm])\n",
    "    read_poly_mm_bim_id = bim.find_index_list([Position(r.chr, ref_pos) \n",
    "                                               for ref_pos in read_poly_mm_pos])\n",
    "    read_hap = np.array([0 if i in set(read_poly_mm_bim_id) else 1 \n",
    "                         for i in range(read_bim_l, read_bim_r)])\n",
    "    return read_hap"
   ]
  },
  {
   "cell_type": "code",
   "execution_count": 28,
   "metadata": {
    "collapsed": true
   },
   "outputs": [],
   "source": [
    "def process_read(r, bim, quality_threshod=14):\n",
    "    \"\"\"Given a read, find bim interval and haplotype representation    \n",
    "    \"\"\"\n",
    "    # bim id interval (on bim file)\n",
    "    read_bim_l, read_bim_r = bim.find_index_interval(query_l = r.l, query_r = r.r)\n",
    "    # polymorphic SNPs on reads\n",
    "    read_poly_mm = filter_mismatches(r, bim, quality_threshod)\n",
    "    # Construct the haplotype of the read\n",
    "    read_hap = find_haplotype(read_poly_mm, read_bim_l, read_bim_r)\n",
    "    # convert to string representation\n",
    "    read_hap_str = ''.join([str(x) for x in read_hap])\n",
    "    \n",
    "    return (read_bim_l, read_bim_r, read_hap_str)\n"
   ]
  },
  {
   "cell_type": "code",
   "execution_count": null,
   "metadata": {
    "collapsed": true
   },
   "outputs": [],
   "source": []
  },
  {
   "cell_type": "code",
   "execution_count": 11,
   "metadata": {
    "collapsed": false
   },
   "outputs": [],
   "source": [
    "for x in bam:\n",
    "    r = Read(x, fasta)\n",
    "    try:\n",
    "        read_bim_l, read_bim_r, read_hap_str = process_read(r, bim, quality_threshod=14)\n",
    "    except KeyError as e:\n",
    "        print \"KeyError\", e\n",
    "    else:\n",
    "        # name, chr, start, end, MAPQ, bim_l, bim_r, hapstr\n",
    "        read_output = (r.reference_name, r.l.get_pos(), r.r.get_pos(), r.query_name, r.mapping_quality, read_bim_l, read_bim_r, read_hap_str)\n",
    "        print [str(x) for x in read_output]\n"
   ]
  },
  {
   "cell_type": "code",
   "execution_count": 14,
   "metadata": {
    "collapsed": true
   },
   "outputs": [],
   "source": [
    "x = bam.next()"
   ]
  },
  {
   "cell_type": "code",
   "execution_count": 15,
   "metadata": {
    "collapsed": true
   },
   "outputs": [],
   "source": [
    "r = Read(x, fasta)"
   ]
  },
  {
   "cell_type": "code",
   "execution_count": 18,
   "metadata": {
    "collapsed": false
   },
   "outputs": [],
   "source": [
    "read_bim_l, read_bim_r, read_hap_str = process_read(r, bim, quality_threshod=14)"
   ]
  },
  {
   "cell_type": "code",
   "execution_count": 22,
   "metadata": {
    "collapsed": false
   },
   "outputs": [
    {
     "data": {
      "text/plain": [
       "7"
      ]
     },
     "execution_count": 22,
     "metadata": {},
     "output_type": "execute_result"
    }
   ],
   "source": [
    "r.n_mismatch()\n"
   ]
  },
  {
   "cell_type": "code",
   "execution_count": null,
   "metadata": {
    "collapsed": true
   },
   "outputs": [],
   "source": []
  }
 ],
 "metadata": {
  "anaconda-cloud": {},
  "kernelspec": {
   "display_name": "Python [conda env:pgenlib]",
   "language": "python",
   "name": "conda-env-pgenlib-py"
  },
  "language_info": {
   "codemirror_mode": {
    "name": "ipython",
    "version": 2
   },
   "file_extension": ".py",
   "mimetype": "text/x-python",
   "name": "python",
   "nbconvert_exporter": "python",
   "pygments_lexer": "ipython2",
   "version": "2.7.13"
  }
 },
 "nbformat": 4,
 "nbformat_minor": 1
}
