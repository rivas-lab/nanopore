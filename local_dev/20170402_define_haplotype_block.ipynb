{
 "cells": [
  {
   "cell_type": "markdown",
   "metadata": {},
   "source": [
    "- generate a bed file that defines haplotype block\n",
    "  - we will eventually switch to LD block, but at this moment, we will use a block with 50 snps"
   ]
  },
  {
   "cell_type": "code",
   "execution_count": 1,
   "metadata": {
    "collapsed": true
   },
   "outputs": [],
   "source": [
    "import pandas as pd\n",
    "import numpy as np"
   ]
  },
  {
   "cell_type": "code",
   "execution_count": null,
   "metadata": {
    "collapsed": true
   },
   "outputs": [],
   "source": []
  },
  {
   "cell_type": "code",
   "execution_count": 2,
   "metadata": {
    "collapsed": true
   },
   "outputs": [],
   "source": [
    "# set parameters\n",
    "bimfile = './data/ALL.chr20.phase3_shapeit2_mvncall_integrated_v5a.20130502.genotypes-pgen.bim'\n",
    "chrom = 'chr20'\n",
    "n_snps_in_block = 50"
   ]
  },
  {
   "cell_type": "code",
   "execution_count": 3,
   "metadata": {
    "collapsed": true
   },
   "outputs": [],
   "source": [
    "# read a bim file\n",
    "bim = pd.read_csv(bimfile, sep='\\t', \n",
    "                  names=['chr', 'id', 'morgan', 'bp', 'allele_1', 'allele_2'])\n",
    "# take bp column of a bim file\n",
    "bimbp = np.array(bim.bp.tolist())"
   ]
  },
  {
   "cell_type": "code",
   "execution_count": null,
   "metadata": {
    "collapsed": false
   },
   "outputs": [],
   "source": []
  },
  {
   "cell_type": "code",
   "execution_count": 4,
   "metadata": {
    "collapsed": false
   },
   "outputs": [],
   "source": [
    "# define start position and end position of interval \n",
    "bimbp_interval_l = bimbp[range(0, len(bimbp), 50)]\n",
    "bimbp_interval_r = np.concatenate((bimbp_interval_l[1:], [bimbp[-1]]))"
   ]
  },
  {
   "cell_type": "code",
   "execution_count": 5,
   "metadata": {
    "collapsed": true
   },
   "outputs": [],
   "source": [
    "# convert to a pandas Data Frame\n",
    "bed_pd = pd.DataFrame({'0chr': [chrom] * len(bimbp_interval_l), \n",
    "                       '1start': bimbp_interval_l, \n",
    "                       '2end':   bimbp_interval_r})\n",
    "\n",
    "# write to a file\n",
    "bed_pd.to_csv('./data/hap-chr20.bed', sep = '\\t', header = False, index = False)"
   ]
  },
  {
   "cell_type": "code",
   "execution_count": null,
   "metadata": {
    "collapsed": true
   },
   "outputs": [],
   "source": []
  },
  {
   "cell_type": "code",
   "execution_count": 6,
   "metadata": {
    "collapsed": false
   },
   "outputs": [
    {
     "data": {
      "text/html": [
       "<div>\n",
       "<table border=\"1\" class=\"dataframe\">\n",
       "  <thead>\n",
       "    <tr style=\"text-align: right;\">\n",
       "      <th></th>\n",
       "      <th>0chr</th>\n",
       "      <th>1start</th>\n",
       "      <th>2end</th>\n",
       "    </tr>\n",
       "  </thead>\n",
       "  <tbody>\n",
       "    <tr>\n",
       "      <th>0</th>\n",
       "      <td>chr20</td>\n",
       "      <td>60343</td>\n",
       "      <td>62545</td>\n",
       "    </tr>\n",
       "    <tr>\n",
       "      <th>1</th>\n",
       "      <td>chr20</td>\n",
       "      <td>62545</td>\n",
       "      <td>63977</td>\n",
       "    </tr>\n",
       "    <tr>\n",
       "      <th>2</th>\n",
       "      <td>chr20</td>\n",
       "      <td>63977</td>\n",
       "      <td>65900</td>\n",
       "    </tr>\n",
       "    <tr>\n",
       "      <th>3</th>\n",
       "      <td>chr20</td>\n",
       "      <td>65900</td>\n",
       "      <td>67931</td>\n",
       "    </tr>\n",
       "    <tr>\n",
       "      <th>4</th>\n",
       "      <td>chr20</td>\n",
       "      <td>67931</td>\n",
       "      <td>69626</td>\n",
       "    </tr>\n",
       "  </tbody>\n",
       "</table>\n",
       "</div>"
      ],
      "text/plain": [
       "    0chr  1start   2end\n",
       "0  chr20   60343  62545\n",
       "1  chr20   62545  63977\n",
       "2  chr20   63977  65900\n",
       "3  chr20   65900  67931\n",
       "4  chr20   67931  69626"
      ]
     },
     "execution_count": 6,
     "metadata": {},
     "output_type": "execute_result"
    }
   ],
   "source": [
    "bed_pd.head()"
   ]
  },
  {
   "cell_type": "code",
   "execution_count": 7,
   "metadata": {
    "collapsed": false
   },
   "outputs": [
    {
     "data": {
      "text/html": [
       "<div>\n",
       "<table border=\"1\" class=\"dataframe\">\n",
       "  <thead>\n",
       "    <tr style=\"text-align: right;\">\n",
       "      <th></th>\n",
       "      <th>0chr</th>\n",
       "      <th>1start</th>\n",
       "      <th>2end</th>\n",
       "    </tr>\n",
       "  </thead>\n",
       "  <tbody>\n",
       "    <tr>\n",
       "      <th>36073</th>\n",
       "      <td>chr20</td>\n",
       "      <td>62955310</td>\n",
       "      <td>62956708</td>\n",
       "    </tr>\n",
       "    <tr>\n",
       "      <th>36074</th>\n",
       "      <td>chr20</td>\n",
       "      <td>62956708</td>\n",
       "      <td>62959158</td>\n",
       "    </tr>\n",
       "    <tr>\n",
       "      <th>36075</th>\n",
       "      <td>chr20</td>\n",
       "      <td>62959158</td>\n",
       "      <td>62962000</td>\n",
       "    </tr>\n",
       "    <tr>\n",
       "      <th>36076</th>\n",
       "      <td>chr20</td>\n",
       "      <td>62962000</td>\n",
       "      <td>62964720</td>\n",
       "    </tr>\n",
       "    <tr>\n",
       "      <th>36077</th>\n",
       "      <td>chr20</td>\n",
       "      <td>62964720</td>\n",
       "      <td>62965354</td>\n",
       "    </tr>\n",
       "  </tbody>\n",
       "</table>\n",
       "</div>"
      ],
      "text/plain": [
       "        0chr    1start      2end\n",
       "36073  chr20  62955310  62956708\n",
       "36074  chr20  62956708  62959158\n",
       "36075  chr20  62959158  62962000\n",
       "36076  chr20  62962000  62964720\n",
       "36077  chr20  62964720  62965354"
      ]
     },
     "execution_count": 7,
     "metadata": {},
     "output_type": "execute_result"
    }
   ],
   "source": [
    "bed_pd.tail()"
   ]
  },
  {
   "cell_type": "code",
   "execution_count": null,
   "metadata": {
    "collapsed": true
   },
   "outputs": [],
   "source": []
  },
  {
   "cell_type": "code",
   "execution_count": 8,
   "metadata": {
    "collapsed": false
   },
   "outputs": [
    {
     "name": "stdout",
     "output_type": "stream",
     "text": [
      "chr20\t60343\t62545\r\n",
      "chr20\t62545\t63977\r\n",
      "chr20\t63977\t65900\r\n",
      "chr20\t65900\t67931\r\n",
      "chr20\t67931\t69626\r\n",
      "chr20\t69626\t71950\r\n",
      "chr20\t71950\t73761\r\n",
      "chr20\t73761\t75813\r\n",
      "chr20\t75813\t77650\r\n",
      "chr20\t77650\t79350\r\n"
     ]
    }
   ],
   "source": [
    "!head ./data/hap-chr20.bed"
   ]
  },
  {
   "cell_type": "code",
   "execution_count": null,
   "metadata": {
    "collapsed": true
   },
   "outputs": [],
   "source": []
  }
 ],
 "metadata": {
  "anaconda-cloud": {},
  "kernelspec": {
   "display_name": "Python [conda env:pgenlib]",
   "language": "python",
   "name": "conda-env-pgenlib-py"
  },
  "language_info": {
   "codemirror_mode": {
    "name": "ipython",
    "version": 2
   },
   "file_extension": ".py",
   "mimetype": "text/x-python",
   "name": "python",
   "nbconvert_exporter": "python",
   "pygments_lexer": "ipython2",
   "version": "2.7.13"
  }
 },
 "nbformat": 4,
 "nbformat_minor": 1
}
